{
 "cells": [
  {
   "cell_type": "code",
   "execution_count": 10,
   "id": "initial_id",
   "metadata": {
    "ExecuteTime": {
     "end_time": "2024-03-04T19:19:56.530835200Z",
     "start_time": "2024-03-04T19:19:56.496837200Z"
    }
   },
   "outputs": [],
   "source": [
    "import warnings\n",
    "\n",
    "import pandas as pd\n",
    "import numpy as np\n",
    "from xgboost import XGBClassifier\n",
    "\n",
    "from catboost import CatBoostClassifier\n",
    "\n",
    "from sklearn.metrics import confusion_matrix\n",
    "\n",
    "from sklearn.model_selection import train_test_split\n",
    "\n",
    "from sklearn.metrics import accuracy_score,classification_report, recall_score,confusion_matrix, roc_auc_score, precision_score, f1_score, roc_curve, auc, ConfusionMatrixDisplay,RocCurveDisplay\n",
    "\n",
    "from sklearn.experimental import enable_iterative_imputer\n",
    "from sklearn.impute import IterativeImputer\n",
    "\n",
    "import matplotlib.pyplot as plt\n",
    "\n",
    "from shap import TreeExplainer\n",
    "\n",
    "warnings.filterwarnings('ignore')"
   ]
  },
  {
   "cell_type": "code",
   "outputs": [],
   "source": [
    "params = {'bagging_temperature': 0.8438108460844879,\n",
    "          'depth': 10,\n",
    "          'l2_leaf_reg': 2.9338790735090807,\n",
    "          'learning_rate': 0.02415662243440924,\n",
    "          'rsm': 0.8956264989725725}\n",
    "\n",
    "cat_tune = CatBoostClassifier(random_seed=42, iterations=200, early_stopping_rounds=75, eval_metric='F1', verbose=0)\n",
    "cat_tune.fit(X_train, y_train,eval_set=[(X_val, y_val)],use_best_model=True,cat_features=cat_cols,verbose=0)\n",
    "\n"
   ],
   "metadata": {
    "collapsed": false
   },
   "id": "26c725c8ff212fb"
  },
  {
   "cell_type": "code",
   "execution_count": 12,
   "id": "7928464c6162d554",
   "metadata": {
    "collapsed": false,
    "ExecuteTime": {
     "end_time": "2024-03-04T19:19:56.571838200Z",
     "start_time": "2024-03-04T19:19:56.539837800Z"
    }
   },
   "outputs": [],
   "source": [
    "def evaluate_model(X_train, X_val, y_train, y_val):\n",
    "    model.fit(\n",
    "        X_train, y_train,\n",
    "        eval_set=[(X_val, y_val)],\n",
    "        use_best_model=True,\n",
    "        cat_features=cat_cols,\n",
    "        verbose=0\n",
    "    )\n",
    "\n",
    "    y_pred = model.predict(X_val)\n",
    "\n",
    "    return f1_score(y_val, y_pred)\n",
    "\n",
    "\n",
    "def handle_nan(X_train, X_val):\n",
    "    cat_cols = ['avg_home_team_rating_x_ewm_shoton_away_binned', 'average_rating_away_binned', 'average_rating_home_binned', 'ewm_possession_home_binned', 'avg_away_team_rating_binned']\n",
    "    num_cols = X_train.select_dtypes(include='number').columns\n",
    "\n",
    "    # Impute numerical columns\n",
    "    imputer = IterativeImputer(initial_strategy='most_frequent', max_iter=5, n_nearest_features=4)\n",
    "    X_train_num = pd.DataFrame(imputer.fit_transform(X_train[num_cols]), columns=num_cols, index=X_train.index)\n",
    "    X_val_num = pd.DataFrame(imputer.transform(X_val[num_cols]), columns=num_cols, index=X_val.index)\n",
    "\n",
    "    # Handle categorical columns\n",
    "    for column in cat_cols:\n",
    "        # Add 'Missing' category\n",
    "        X_train[column] = X_train[column].cat.add_categories('Missing')\n",
    "        X_val[column] = X_val[column].cat.add_categories('Missing')\n",
    "\n",
    "        # Fill NaN values with 'Missing'\n",
    "        X_train[column] = X_train[column].fillna('Missing')\n",
    "        X_val[column] = X_val[column].fillna('Missing')\n",
    "\n",
    "    # Concatenate numerical and categorical dataframes\n",
    "    X_train_processed = pd.concat([X_train_num, X_train[cat_cols]], axis=1)\n",
    "    X_val_processed = pd.concat([X_val_num, X_val[cat_cols]], axis=1)\n",
    "\n",
    "    return X_train_processed, X_val_processed\n",
    "\n",
    "\n",
    "def individual_log_loss(y_true, y_pred, eps=1e-15):\n",
    "    \"\"\"Compute log-loss for each individual of the sample.\"\"\"\n",
    "\n",
    "    y_pred = np.clip(y_pred, eps, 1 - eps)\n",
    "    return - y_true * np.log(y_pred) - (1 - y_true) * np.log(1 - y_pred)\n",
    "\n",
    "\n",
    "def shap_sum2proba(shap_sum):\n",
    "    \"\"\"Compute sigmoid function of the Shap sum to get predicted probability.\"\"\"\n",
    "\n",
    "    return 1 / (1 + np.exp(-shap_sum))"
   ]
  },
  {
   "cell_type": "code",
   "outputs": [],
   "source": [
    "def get_preds_shaps(X_train, X_val, y_train, y_val, is_train=True):\n",
    "    \"\"\"Get predictions (predicted probabilities) and SHAP values for a dataset.\"\"\"\n",
    "    params = {'bagging_temperature': 0.8438108460844879,\n",
    "              'depth': 10,\n",
    "              'l2_leaf_reg': 2.9338790735090807,\n",
    "              'learning_rate': 0.02415662243440924,\n",
    "              'rsm': 0.8956264989725725}\n",
    "    \n",
    "    cat_cols_ = X_train.select_dtypes(exclude=['number']).columns.to_list()\n",
    "\n",
    "    model = CatBoostClassifier(**params,random_seed=42,iterations=500,early_stopping_rounds=100)\n",
    "    model =  model.fit(X_train, y_train, eval_set=[(X_val, y_val)], use_best_model=True, cat_features=cat_cols_,verbose=0)\n",
    "    \n",
    "    X=None\n",
    "    y=None\n",
    "    \n",
    "    if is_train == True:\n",
    "        X = X_train.copy()\n",
    "    else:\n",
    "        X = X_val.copy()\n",
    "    \n",
    "    preds = pd.Series(model.predict_proba(X)[:,1], index=X.index)\n",
    "    shap_explainer = TreeExplainer(model)\n",
    "    \n",
    "    shap_values = shap_explainer.shap_values(X)\n",
    "    shap_expected_value = shap_explainer.expected_value\n",
    "    \n",
    "    shaps = pd.DataFrame(\n",
    "        data=shap_values,\n",
    "        index=X.index,\n",
    "        columns=X.columns)\n",
    "    return preds, shaps, shap_expected_value"
   ],
   "metadata": {
    "collapsed": false,
    "ExecuteTime": {
     "end_time": "2024-03-04T19:19:56.576836600Z",
     "start_time": "2024-03-04T19:19:56.550838800Z"
    }
   },
   "id": "c2f68373a84999b8",
   "execution_count": 13
  },
  {
   "cell_type": "code",
   "outputs": [],
   "source": [
    "def get_feature_contributions(y_true, y_pred, shap_values, shap_expected_value):\n",
    "  \"\"\"Compute prediction contribution and error contribution for each feature.\"\"\"\n",
    "\n",
    "  prediction_contribution = shap_values.abs().mean().rename(\"prediction_contribution\")\n",
    "  \n",
    "  ind_log_loss = individual_log_loss(y_true=y_true['result_match'], y_pred=y_pred).rename(\"log_loss\")\n",
    "  y_pred_wo_feature = shap_values.apply(lambda feature: shap_expected_value + shap_values.sum(axis=1) - feature).applymap(shap_sum2proba)\n",
    "  ind_log_loss_wo_feature = y_pred_wo_feature.apply(lambda feature: individual_log_loss(y_true=y_true['result_match'], y_pred=feature))\n",
    "  ind_log_loss_diff = ind_log_loss_wo_feature.apply(lambda feature: ind_log_loss - feature)\n",
    "  error_contribution = ind_log_loss_diff.mean().rename(\"error_contribution\").T\n",
    "  \n",
    "  return prediction_contribution, error_contribution"
   ],
   "metadata": {
    "collapsed": false,
    "ExecuteTime": {
     "end_time": "2024-03-04T19:19:56.592835Z",
     "start_time": "2024-03-04T19:19:56.564840100Z"
    }
   },
   "id": "2f74c78115673ba8",
   "execution_count": 14
  },
  {
   "cell_type": "code",
   "execution_count": 16,
   "id": "d586ef022f6bd8ed",
   "metadata": {
    "collapsed": false,
    "ExecuteTime": {
     "end_time": "2024-03-04T19:19:56.656835700Z",
     "start_time": "2024-03-04T19:19:56.595837700Z"
    }
   },
   "outputs": [
    {
     "name": "stdout",
     "output_type": "stream",
     "text": [
      "<class 'pandas.core.frame.DataFrame'>\n",
      "RangeIndex: 3040 entries, 0 to 3039\n",
      "Data columns (total 5 columns):\n",
      " #   Column                                         Non-Null Count  Dtype   \n",
      "---  ------                                         --------------  -----   \n",
      " 0   avg_home_team_rating_x_ewm_shoton_away_binned  3022 non-null   category\n",
      " 1   average_rating_away_binned                     3040 non-null   category\n",
      " 2   average_rating_home_binned                     3040 non-null   category\n",
      " 3   ewm_possession_home_binned                     3024 non-null   category\n",
      " 4   avg_away_team_rating_binned                    3040 non-null   category\n",
      "dtypes: category(5)\n",
      "memory usage: 16.0 KB\n"
     ]
    }
   ],
   "source": [
    "X = pd.read_csv('../data/binned/df.csv')\n",
    "y = pd.read_csv('../data/binned/y.csv')\n",
    "\n",
    "for col in X.filter(like='_binned').columns:\n",
    "    X[col] = X[col].astype('category')\n",
    "\n",
    "X.filter(like='_binned').info()"
   ]
  },
  {
   "cell_type": "code",
   "execution_count": 17,
   "id": "8a752b8795f8f4f2",
   "metadata": {
    "collapsed": false,
    "ExecuteTime": {
     "end_time": "2024-03-04T19:19:57.081447900Z",
     "start_time": "2024-03-04T19:19:56.625837800Z"
    }
   },
   "outputs": [],
   "source": [
    "X_train, X_val, y_train, y_val = train_test_split(X, y, test_size=0.2, random_state=42, stratify=y)\n",
    "X_train, X_val = handle_nan(X_train, X_val)"
   ]
  },
  {
   "cell_type": "code",
   "outputs": [
    {
     "data": {
      "text/plain": "0.6120857699805068"
     },
     "execution_count": 18,
     "metadata": {},
     "output_type": "execute_result"
    }
   ],
   "source": [
    "evaluate_model(X_train, X_val, y_train, y_val)"
   ],
   "metadata": {
    "collapsed": false,
    "ExecuteTime": {
     "end_time": "2024-03-04T19:19:59.779291400Z",
     "start_time": "2024-03-04T19:19:57.082448100Z"
    }
   },
   "id": "80f77358d9be39d0",
   "execution_count": 18
  },
  {
   "cell_type": "code",
   "outputs": [
    {
     "name": "stdout",
     "output_type": "stream",
     "text": [
      "<class 'pandas.core.frame.DataFrame'>\n",
      "Index: 2432 entries, 1324 to 99\n",
      "Data columns (total 46 columns):\n",
      " #   Column                                         Non-Null Count  Dtype   \n",
      "---  ------                                         --------------  -----   \n",
      " 0   stage                                          2432 non-null   float64 \n",
      " 1   player_rating_home_player_1                    2432 non-null   float64 \n",
      " 2   player_rating_home_player_2                    2432 non-null   float64 \n",
      " 3   player_rating_home_player_3                    2432 non-null   float64 \n",
      " 4   player_rating_home_player_4                    2432 non-null   float64 \n",
      " 5   player_rating_home_player_5                    2432 non-null   float64 \n",
      " 6   player_rating_home_player_6                    2432 non-null   float64 \n",
      " 7   player_rating_home_player_7                    2432 non-null   float64 \n",
      " 8   player_rating_home_player_8                    2432 non-null   float64 \n",
      " 9   player_rating_home_player_9                    2432 non-null   float64 \n",
      " 10  player_rating_home_player_10                   2432 non-null   float64 \n",
      " 11  player_rating_home_player_11                   2432 non-null   float64 \n",
      " 12  player_rating_away_player_1                    2432 non-null   float64 \n",
      " 13  player_rating_away_player_2                    2432 non-null   float64 \n",
      " 14  player_rating_away_player_3                    2432 non-null   float64 \n",
      " 15  player_rating_away_player_4                    2432 non-null   float64 \n",
      " 16  player_rating_away_player_5                    2432 non-null   float64 \n",
      " 17  player_rating_away_player_6                    2432 non-null   float64 \n",
      " 18  player_rating_away_player_7                    2432 non-null   float64 \n",
      " 19  player_rating_away_player_8                    2432 non-null   float64 \n",
      " 20  player_rating_away_player_9                    2432 non-null   float64 \n",
      " 21  player_rating_away_player_10                   2432 non-null   float64 \n",
      " 22  player_rating_away_player_11                   2432 non-null   float64 \n",
      " 23  ewm_home_team_goals                            2432 non-null   float64 \n",
      " 24  ewm_away_team_goals                            2432 non-null   float64 \n",
      " 25  ewm_home_team_goals_conceded                   2432 non-null   float64 \n",
      " 26  ewm_away_team_goals_conceded                   2432 non-null   float64 \n",
      " 27  points_home                                    2432 non-null   float64 \n",
      " 28  points_away                                    2432 non-null   float64 \n",
      " 29  home_weighted_wins                             2432 non-null   float64 \n",
      " 30  away_weighted_wins                             2432 non-null   float64 \n",
      " 31  avg_home_team_rating                           2432 non-null   float64 \n",
      " 32  home_streak_wins                               2432 non-null   float64 \n",
      " 33  away_streak_wins                               2432 non-null   float64 \n",
      " 34  ewm_shoton_home                                2432 non-null   float64 \n",
      " 35  ewm_shoton_away                                2432 non-null   float64 \n",
      " 36  ewm_possession_away                            2432 non-null   float64 \n",
      " 37  num_top_players_home                           2432 non-null   float64 \n",
      " 38  num_top_players_away                           2432 non-null   float64 \n",
      " 39  defensive_weakness_diff                        2432 non-null   float64 \n",
      " 40  ewm_possession_home_x_ewm_shoton_home          2432 non-null   float64 \n",
      " 41  avg_home_team_rating_x_ewm_shoton_away_binned  2432 non-null   category\n",
      " 42  average_rating_away_binned                     2432 non-null   category\n",
      " 43  average_rating_home_binned                     2432 non-null   category\n",
      " 44  ewm_possession_home_binned                     2432 non-null   category\n",
      " 45  avg_away_team_rating_binned                    2432 non-null   category\n",
      "dtypes: category(5), float64(41)\n",
      "memory usage: 810.9 KB\n"
     ]
    }
   ],
   "source": [
    "X_train.info()"
   ],
   "metadata": {
    "collapsed": false,
    "ExecuteTime": {
     "end_time": "2024-03-04T19:19:59.796292Z",
     "start_time": "2024-03-04T19:19:59.781295500Z"
    }
   },
   "id": "7e99dd0f34358915",
   "execution_count": 19
  },
  {
   "cell_type": "code",
   "execution_count": 21,
   "id": "ef17df2ad44937d3",
   "metadata": {
    "collapsed": false,
    "ExecuteTime": {
     "end_time": "2024-03-04T19:20:19.030010300Z",
     "start_time": "2024-03-04T19:20:13.663194800Z"
    }
   },
   "outputs": [
    {
     "data": {
      "text/plain": "                Accuracy  Recall  Roc_Auc  Precision      F1\nCatboost_tuned    0.6776  0.5432    0.667     0.6864  0.6064",
      "text/html": "<div>\n<style scoped>\n    .dataframe tbody tr th:only-of-type {\n        vertical-align: middle;\n    }\n\n    .dataframe tbody tr th {\n        vertical-align: top;\n    }\n\n    .dataframe thead th {\n        text-align: right;\n    }\n</style>\n<table border=\"1\" class=\"dataframe\">\n  <thead>\n    <tr style=\"text-align: right;\">\n      <th></th>\n      <th>Accuracy</th>\n      <th>Recall</th>\n      <th>Roc_Auc</th>\n      <th>Precision</th>\n      <th>F1</th>\n    </tr>\n  </thead>\n  <tbody>\n    <tr>\n      <th>Catboost_tuned</th>\n      <td>0.6776</td>\n      <td>0.5432</td>\n      <td>0.667</td>\n      <td>0.6864</td>\n      <td>0.6064</td>\n    </tr>\n  </tbody>\n</table>\n</div>"
     },
     "execution_count": 21,
     "metadata": {},
     "output_type": "execute_result"
    }
   ],
   "source": [
    "accuracy= []\n",
    "recall =[]\n",
    "roc_auc= []\n",
    "precision = []\n",
    "f1 = []\n",
    "\n",
    "# Instantiate the CatBoostClassifier\n",
    "catboost_model = CatBoostClassifier(\n",
    "    **params,\n",
    "    random_seed=42,\n",
    "    iterations=500,\n",
    "    early_stopping_rounds=75,\n",
    "    eval_metric='F1',\n",
    "    verbose=0\n",
    ")\n",
    "\n",
    "# Fit the model\n",
    "# CatBoost handles evaluation sets differently than XGBoost; it uses them for early stopping\n",
    "catboost_model.fit(\n",
    "    X_train, y_train,\n",
    "    eval_set=[(X_val, y_val)],\n",
    "    verbose=0,\n",
    "    cat_features=cat_cols,\n",
    "    use_best_model=True,\n",
    ")\n",
    "\n",
    "y_pred = catboost_model.predict(X_val)\n",
    "\n",
    "# f1 = f1_score(y_val, y_pred, average='weighted')\n",
    "\n",
    "accuracy.append(round(accuracy_score(y_val, y_pred),4))\n",
    "recall.append(round(recall_score(y_val, y_pred),4))\n",
    "roc_auc.append(round(roc_auc_score(y_val, y_pred),4))\n",
    "precision.append(round(precision_score(y_val, y_pred),4))\n",
    "f1.append(round(f1_score(y_val, y_pred),4))\n",
    "\n",
    "model_names = ['Catboost_tuned']\n",
    "result_df_scores = pd.DataFrame({'Accuracy':accuracy,'Recall':recall, 'Roc_Auc':roc_auc, 'Precision':precision, 'F1':f1}, index=model_names)\n",
    "result_df_scores"
   ]
  },
  {
   "cell_type": "code",
   "outputs": [
    {
     "data": {
      "text/plain": "result_match\n0               1650\n1               1390\nName: count, dtype: int64"
     },
     "execution_count": 22,
     "metadata": {},
     "output_type": "execute_result"
    }
   ],
   "source": [
    "y.value_counts()"
   ],
   "metadata": {
    "collapsed": false,
    "ExecuteTime": {
     "end_time": "2024-03-04T19:24:30.504524200Z",
     "start_time": "2024-03-04T19:24:30.480522900Z"
    }
   },
   "id": "b63c659edc289f2f",
   "execution_count": 22
  },
  {
   "cell_type": "code",
   "outputs": [
    {
     "data": {
      "text/plain": "<Figure size 640x480 with 2 Axes>",
      "image/png": "[encoded data removed]"
     },
     "metadata": {},
     "output_type": "display_data"
    }
   ],
   "source": [
    "cm = confusion_matrix(y_val, y_pred)\n",
    "\n",
    "disp = ConfusionMatrixDisplay(confusion_matrix=cm)\n",
    "disp.plot(cmap=plt.cm.Blues)\n",
    "plt.show()"
   ],
   "metadata": {
    "collapsed": false,
    "ExecuteTime": {
     "end_time": "2024-03-04T18:46:15.170575300Z",
     "start_time": "2024-03-04T18:46:14.942574400Z"
    }
   },
   "id": "137625b742571216",
   "execution_count": 12
  },
  {
   "cell_type": "code",
   "outputs": [
    {
     "data": {
      "text/plain": "                                       Feature Id  Importances\n0                      ewm_possession_home_binned     4.427512\n1                             ewm_away_team_goals     4.324983\n2                                 ewm_shoton_home     4.205284\n3                                 ewm_shoton_away     4.014573\n4                         defensive_weakness_diff     3.835582\n5                             ewm_home_team_goals     3.796163\n6                                away_streak_wins     3.755189\n7                             ewm_possession_away     3.195284\n8                     player_rating_away_player_7     2.990343\n9                     player_rating_away_player_8     2.970255\n10                                    points_home     2.939404\n11                               home_streak_wins     2.822702\n12          ewm_possession_home_x_ewm_shoton_home     2.797179\n13                             home_weighted_wins     2.627791\n14                                          stage     2.537811\n15                             away_weighted_wins     2.536367\n16                                    points_away     2.466387\n17                   ewm_home_team_goals_conceded     2.442493\n18                   ewm_away_team_goals_conceded     2.423579\n19                    player_rating_away_player_9     2.377615\n20                           avg_home_team_rating     2.301028\n21                    player_rating_home_player_9     2.296686\n22                   player_rating_away_player_10     2.177827\n23                     average_rating_home_binned     2.131468\n24                   player_rating_home_player_11     2.043684\n25                    player_rating_home_player_8     1.952002\n26                     average_rating_away_binned     1.875823\n27  avg_home_team_rating_x_ewm_shoton_away_binned     1.755237\n28                    avg_away_team_rating_binned     1.662619\n29                   player_rating_home_player_10     1.658873\n30                   player_rating_away_player_11     1.576563\n31                    player_rating_home_player_4     1.461936\n32                    player_rating_home_player_7     1.404969\n33                    player_rating_home_player_3     1.336152\n34                    player_rating_away_player_6     1.193415\n35                           num_top_players_home     1.166182\n36                    player_rating_home_player_6     1.146042\n37                    player_rating_away_player_2     1.069384\n38                    player_rating_home_player_2     1.051389\n39                    player_rating_away_player_4     1.030533\n40                    player_rating_home_player_5     0.956348\n41                    player_rating_away_player_3     0.828170\n42                           num_top_players_away     0.721658\n43                    player_rating_home_player_1     0.683843\n44                    player_rating_away_player_1     0.652199\n45                    player_rating_away_player_5     0.379474",
      "text/html": "<div>\n<style scoped>\n    .dataframe tbody tr th:only-of-type {\n        vertical-align: middle;\n    }\n\n    .dataframe tbody tr th {\n        vertical-align: top;\n    }\n\n    .dataframe thead th {\n        text-align: right;\n    }\n</style>\n<table border=\"1\" class=\"dataframe\">\n  <thead>\n    <tr style=\"text-align: right;\">\n      <th></th>\n      <th>Feature Id</th>\n      <th>Importances</th>\n    </tr>\n  </thead>\n  <tbody>\n    <tr>\n      <th>0</th>\n      <td>ewm_possession_home_binned</td>\n      <td>4.427512</td>\n    </tr>\n    <tr>\n      <th>1</th>\n      <td>ewm_away_team_goals</td>\n      <td>4.324983</td>\n    </tr>\n    <tr>\n      <th>2</th>\n      <td>ewm_shoton_home</td>\n      <td>4.205284</td>\n    </tr>\n    <tr>\n      <th>3</th>\n      <td>ewm_shoton_away</td>\n      <td>4.014573</td>\n    </tr>\n    <tr>\n      <th>4</th>\n      <td>defensive_weakness_diff</td>\n      <td>3.835582</td>\n    </tr>\n    <tr>\n      <th>5</th>\n      <td>ewm_home_team_goals</td>\n      <td>3.796163</td>\n    </tr>\n    <tr>\n      <th>6</th>\n      <td>away_streak_wins</td>\n      <td>3.755189</td>\n    </tr>\n    <tr>\n      <th>7</th>\n      <td>ewm_possession_away</td>\n      <td>3.195284</td>\n    </tr>\n    <tr>\n      <th>8</th>\n      <td>player_rating_away_player_7</td>\n      <td>2.990343</td>\n    </tr>\n    <tr>\n      <th>9</th>\n      <td>player_rating_away_player_8</td>\n      <td>2.970255</td>\n    </tr>\n    <tr>\n      <th>10</th>\n      <td>points_home</td>\n      <td>2.939404</td>\n    </tr>\n    <tr>\n      <th>11</th>\n      <td>home_streak_wins</td>\n      <td>2.822702</td>\n    </tr>\n    <tr>\n      <th>12</th>\n      <td>ewm_possession_home_x_ewm_shoton_home</td>\n      <td>2.797179</td>\n    </tr>\n    <tr>\n      <th>13</th>\n      <td>home_weighted_wins</td>\n      <td>2.627791</td>\n    </tr>\n    <tr>\n      <th>14</th>\n      <td>stage</td>\n      <td>2.537811</td>\n    </tr>\n    <tr>\n      <th>15</th>\n      <td>away_weighted_wins</td>\n      <td>2.536367</td>\n    </tr>\n    <tr>\n      <th>16</th>\n      <td>points_away</td>\n      <td>2.466387</td>\n    </tr>\n    <tr>\n      <th>17</th>\n      <td>ewm_home_team_goals_conceded</td>\n      <td>2.442493</td>\n    </tr>\n    <tr>\n      <th>18</th>\n      <td>ewm_away_team_goals_conceded</td>\n      <td>2.423579</td>\n    </tr>\n    <tr>\n      <th>19</th>\n      <td>player_rating_away_player_9</td>\n      <td>2.377615</td>\n    </tr>\n    <tr>\n      <th>20</th>\n      <td>avg_home_team_rating</td>\n      <td>2.301028</td>\n    </tr>\n    <tr>\n      <th>21</th>\n      <td>player_rating_home_player_9</td>\n      <td>2.296686</td>\n    </tr>\n    <tr>\n      <th>22</th>\n      <td>player_rating_away_player_10</td>\n      <td>2.177827</td>\n    </tr>\n    <tr>\n      <th>23</th>\n      <td>average_rating_home_binned</td>\n      <td>2.131468</td>\n    </tr>\n    <tr>\n      <th>24</th>\n      <td>player_rating_home_player_11</td>\n      <td>2.043684</td>\n    </tr>\n    <tr>\n      <th>25</th>\n      <td>player_rating_home_player_8</td>\n      <td>1.952002</td>\n    </tr>\n    <tr>\n      <th>26</th>\n      <td>average_rating_away_binned</td>\n      <td>1.875823</td>\n    </tr>\n    <tr>\n      <th>27</th>\n      <td>avg_home_team_rating_x_ewm_shoton_away_binned</td>\n      <td>1.755237</td>\n    </tr>\n    <tr>\n      <th>28</th>\n      <td>avg_away_team_rating_binned</td>\n      <td>1.662619</td>\n    </tr>\n    <tr>\n      <th>29</th>\n      <td>player_rating_home_player_10</td>\n      <td>1.658873</td>\n    </tr>\n    <tr>\n      <th>30</th>\n      <td>player_rating_away_player_11</td>\n      <td>1.576563</td>\n    </tr>\n    <tr>\n      <th>31</th>\n      <td>player_rating_home_player_4</td>\n      <td>1.461936</td>\n    </tr>\n    <tr>\n      <th>32</th>\n      <td>player_rating_home_player_7</td>\n      <td>1.404969</td>\n    </tr>\n    <tr>\n      <th>33</th>\n      <td>player_rating_home_player_3</td>\n      <td>1.336152</td>\n    </tr>\n    <tr>\n      <th>34</th>\n      <td>player_rating_away_player_6</td>\n      <td>1.193415</td>\n    </tr>\n    <tr>\n      <th>35</th>\n      <td>num_top_players_home</td>\n      <td>1.166182</td>\n    </tr>\n    <tr>\n      <th>36</th>\n      <td>player_rating_home_player_6</td>\n      <td>1.146042</td>\n    </tr>\n    <tr>\n      <th>37</th>\n      <td>player_rating_away_player_2</td>\n      <td>1.069384</td>\n    </tr>\n    <tr>\n      <th>38</th>\n      <td>player_rating_home_player_2</td>\n      <td>1.051389</td>\n    </tr>\n    <tr>\n      <th>39</th>\n      <td>player_rating_away_player_4</td>\n      <td>1.030533</td>\n    </tr>\n    <tr>\n      <th>40</th>\n      <td>player_rating_home_player_5</td>\n      <td>0.956348</td>\n    </tr>\n    <tr>\n      <th>41</th>\n      <td>player_rating_away_player_3</td>\n      <td>0.828170</td>\n    </tr>\n    <tr>\n      <th>42</th>\n      <td>num_top_players_away</td>\n      <td>0.721658</td>\n    </tr>\n    <tr>\n      <th>43</th>\n      <td>player_rating_home_player_1</td>\n      <td>0.683843</td>\n    </tr>\n    <tr>\n      <th>44</th>\n      <td>player_rating_away_player_1</td>\n      <td>0.652199</td>\n    </tr>\n    <tr>\n      <th>45</th>\n      <td>player_rating_away_player_5</td>\n      <td>0.379474</td>\n    </tr>\n  </tbody>\n</table>\n</div>"
     },
     "execution_count": 13,
     "metadata": {},
     "output_type": "execute_result"
    }
   ],
   "source": [
    "#Create list for cat features\n",
    "cat_features = list(range(0, X.shape[1]))\n",
    "# print(cat_features)\n",
    "\n",
    "#Create feature importance\n",
    "featurep = catboost_model.get_feature_importance(prettified=True)\n",
    "featurep"
   ],
   "metadata": {
    "collapsed": false,
    "ExecuteTime": {
     "end_time": "2024-03-04T18:46:15.216574100Z",
     "start_time": "2024-03-04T18:46:15.162575100Z"
    }
   },
   "id": "d197a4bcc33a8238",
   "execution_count": 13
  },
  {
   "cell_type": "code",
   "execution_count": 14,
   "id": "82beefdceaf9068f",
   "metadata": {
    "collapsed": false,
    "ExecuteTime": {
     "end_time": "2024-03-04T18:46:23.039112Z",
     "start_time": "2024-03-04T18:46:15.190575300Z"
    }
   },
   "outputs": [],
   "source": [
    "from shap import TreeExplainer\n",
    "\n",
    "shap_explainer = TreeExplainer(catboost_model)\n",
    "shap_values = shap_explainer.shap_values(X_train)"
   ]
  },
  {
   "cell_type": "code",
   "outputs": [],
   "source": [
    "preds_train, shaps_train, shap_expected_value_train = get_preds_shaps(X_train, X_val, y_train, y_val, True)\n",
    "preds_val, shaps_val, shap_expected_value_val = get_preds_shaps(X_train, X_val, y_train, y_val, False)"
   ],
   "metadata": {
    "collapsed": false,
    "ExecuteTime": {
     "end_time": "2024-03-04T18:47:03.241028700Z",
     "start_time": "2024-03-04T18:46:23.041112500Z"
    }
   },
   "id": "980395f18c2d8d35",
   "execution_count": 15
  },
  {
   "cell_type": "code",
   "outputs": [],
   "source": [
    "assert ((preds_train - (shap_expected_value_train + shaps_train.sum(axis=1)).apply(shap_sum2proba)).abs() < 1e-10).all()\n",
    "assert ((preds_val - (shap_expected_value_val + shaps_val.sum(axis=1)).apply(shap_sum2proba)).abs() < 1e-10).all()"
   ],
   "metadata": {
    "collapsed": false,
    "ExecuteTime": {
     "end_time": "2024-03-04T18:47:03.270028600Z",
     "start_time": "2024-03-04T18:47:03.243029200Z"
    }
   },
   "id": "5fabadb0e48c6ecc",
   "execution_count": 16
  },
  {
   "cell_type": "code",
   "outputs": [],
   "source": [
    "prediction_contribution_trn, error_contribution_trn = get_feature_contributions(\n",
    "  y_true=y_train, \n",
    "  y_pred=preds_train, \n",
    "  shap_values=shaps_train,\n",
    "  shap_expected_value=shap_expected_value_train\n",
    ")\n",
    "\n",
    "prediction_contribution_val, error_contribution_val = get_feature_contributions(\n",
    "  y_true=y_val, \n",
    "  y_pred=preds_val, \n",
    "  shap_values=shaps_val,\n",
    "  shap_expected_value=shap_expected_value_val\n",
    ")\n",
    "\n",
    "contributions_trn = pd.concat([prediction_contribution_trn, error_contribution_trn], axis=1)\n",
    "contributions_val = pd.concat([prediction_contribution_val, error_contribution_val], axis=1)"
   ],
   "metadata": {
    "collapsed": false,
    "ExecuteTime": {
     "end_time": "2024-03-04T18:47:03.589645600Z",
     "start_time": "2024-03-04T18:47:03.260029Z"
    }
   },
   "id": "b227e431a53944ff",
   "execution_count": 17
  },
  {
   "cell_type": "code",
   "outputs": [],
   "source": [
    "contributions_trn.to_csv(\"contributions_trn.csv\", index=True)\n",
    "contributions_val.to_csv(\"contributions_val.csv\", index=True)"
   ],
   "metadata": {
    "collapsed": false,
    "ExecuteTime": {
     "end_time": "2024-03-04T18:47:03.605646800Z",
     "start_time": "2024-03-04T18:47:03.589645600Z"
    }
   },
   "id": "33839851310c2803",
   "execution_count": 18
  },
  {
   "cell_type": "code",
   "outputs": [],
   "source": [
    "contributions_trn = pd.read_csv(\"contributions_trn.csv\", index_col=0)\n",
    "contributions_val = pd.read_csv(\"contributions_val.csv\", index_col=0)"
   ],
   "metadata": {
    "collapsed": false,
    "ExecuteTime": {
     "end_time": "2024-03-04T18:47:03.636644700Z",
     "start_time": "2024-03-04T18:47:03.606647500Z"
    }
   },
   "id": "85c1eaa21857b885",
   "execution_count": 19
  },
  {
   "cell_type": "code",
   "outputs": [
    {
     "data": {
      "text/plain": "<Figure size 640x480 with 1 Axes>",
      "image/png": "[encoded data removed]"
     },
     "metadata": {},
     "output_type": "display_data"
    }
   ],
   "source": [
    "fig, ax = plt.subplots()\n",
    "\n",
    "ax.scatter(contributions_trn[\"prediction_contribution\"], contributions_trn[\"error_contribution\"], s=80, color=\"orange\", edgecolors=\"black\")\n",
    "ax.hlines(y=0, xmin=0, xmax=contributions_trn[\"prediction_contribution\"].max(), ls=\"--\", color=\"black\")\n",
    "ax.tick_params(axis=\"both\", which=\"major\", labelsize=12)\n",
    "ax.grid(); ax.set_axisbelow(True)\n",
    "ax.set_title(\"Train Dataset\", fontsize=12)\n",
    "ax.set_xlabel(\"Prediction Contribution\", fontsize=12)\n",
    "ax.set_ylabel(\"Error Contribution\", fontsize=12)\n",
    "\n",
    "fig.savefig(\"single_trn.png\", dpi=200, bbox_inches=\"tight\")"
   ],
   "metadata": {
    "collapsed": false,
    "ExecuteTime": {
     "end_time": "2024-03-04T18:47:03.925245900Z",
     "start_time": "2024-03-04T18:47:03.637645500Z"
    }
   },
   "id": "8d568908c784fd2f",
   "execution_count": 20
  },
  {
   "cell_type": "code",
   "outputs": [
    {
     "data": {
      "text/plain": "                                       prediction_contribution  \\\newm_shoton_away                                       0.102096   \newm_shoton_home                                       0.093728   \navg_home_team_rating                                  0.067351   \ndefensive_weakness_diff                               0.065584   \nplayer_rating_away_player_8                           0.063680   \naway_streak_wins                                      0.061610   \newm_away_team_goals                                   0.052962   \newm_possession_home_x_ewm_shoton_home                 0.052216   \nnum_top_players_home                                  0.051703   \nhome_streak_wins                                      0.050609   \n\n                                       error_contribution  \newm_shoton_away                                 -0.008226  \newm_shoton_home                                 -0.008248  \navg_home_team_rating                            -0.003775  \ndefensive_weakness_diff                         -0.007386  \nplayer_rating_away_player_8                     -0.005683  \naway_streak_wins                                -0.007082  \newm_away_team_goals                             -0.007253  \newm_possession_home_x_ewm_shoton_home           -0.005237  \nnum_top_players_home                            -0.002440  \nhome_streak_wins                                -0.005435  ",
      "text/html": "<div>\n<style scoped>\n    .dataframe tbody tr th:only-of-type {\n        vertical-align: middle;\n    }\n\n    .dataframe tbody tr th {\n        vertical-align: top;\n    }\n\n    .dataframe thead th {\n        text-align: right;\n    }\n</style>\n<table border=\"1\" class=\"dataframe\">\n  <thead>\n    <tr style=\"text-align: right;\">\n      <th></th>\n      <th>prediction_contribution</th>\n      <th>error_contribution</th>\n    </tr>\n  </thead>\n  <tbody>\n    <tr>\n      <th>ewm_shoton_away</th>\n      <td>0.102096</td>\n      <td>-0.008226</td>\n    </tr>\n    <tr>\n      <th>ewm_shoton_home</th>\n      <td>0.093728</td>\n      <td>-0.008248</td>\n    </tr>\n    <tr>\n      <th>avg_home_team_rating</th>\n      <td>0.067351</td>\n      <td>-0.003775</td>\n    </tr>\n    <tr>\n      <th>defensive_weakness_diff</th>\n      <td>0.065584</td>\n      <td>-0.007386</td>\n    </tr>\n    <tr>\n      <th>player_rating_away_player_8</th>\n      <td>0.063680</td>\n      <td>-0.005683</td>\n    </tr>\n    <tr>\n      <th>away_streak_wins</th>\n      <td>0.061610</td>\n      <td>-0.007082</td>\n    </tr>\n    <tr>\n      <th>ewm_away_team_goals</th>\n      <td>0.052962</td>\n      <td>-0.007253</td>\n    </tr>\n    <tr>\n      <th>ewm_possession_home_x_ewm_shoton_home</th>\n      <td>0.052216</td>\n      <td>-0.005237</td>\n    </tr>\n    <tr>\n      <th>num_top_players_home</th>\n      <td>0.051703</td>\n      <td>-0.002440</td>\n    </tr>\n    <tr>\n      <th>home_streak_wins</th>\n      <td>0.050609</td>\n      <td>-0.005435</td>\n    </tr>\n  </tbody>\n</table>\n</div>"
     },
     "execution_count": 21,
     "metadata": {},
     "output_type": "execute_result"
    }
   ],
   "source": [
    "pd.set_option(\"display.max_rows\", 10)\n",
    "contributions_trn.sort_values(\"prediction_contribution\", ascending=False).head(10)"
   ],
   "metadata": {
    "collapsed": false,
    "ExecuteTime": {
     "end_time": "2024-03-04T18:47:03.984245600Z",
     "start_time": "2024-03-04T18:47:03.924246Z"
    }
   },
   "id": "7f2859d2394cbff2",
   "execution_count": 21
  },
  {
   "cell_type": "code",
   "outputs": [
    {
     "data": {
      "text/plain": "<Figure size 640x480 with 1 Axes>",
      "image/png": "[encoded data removed]"
     },
     "metadata": {},
     "output_type": "display_data"
    }
   ],
   "source": [
    "fig, ax = plt.subplots()\n",
    "\n",
    "ax.scatter(contributions_val[\"prediction_contribution\"], contributions_val[\"error_contribution\"], s=80, color=\"orange\", edgecolors=\"white\")\n",
    "ax.hlines(y=0, xmin=0, xmax=contributions_val[\"prediction_contribution\"].max(), ls=\"--\", color=\"red\")\n",
    "ax.tick_params(axis=\"both\", which=\"major\", labelsize=12)\n",
    "\n",
    "ax.grid()\n",
    "ax.set_axisbelow(True)\n",
    "ax.set_title(\"Validation Dataset\", fontsize=12)\n",
    "ax.set_xlabel(\"Prediction Contribution\", fontsize=12)\n",
    "ax.set_ylabel(\"Error Contribution\", fontsize=12)\n",
    "\n",
    "fig.savefig(\"single_val.png\", dpi=200, bbox_inches=\"tight\")"
   ],
   "metadata": {
    "collapsed": false,
    "ExecuteTime": {
     "end_time": "2024-03-04T18:47:04.278884500Z",
     "start_time": "2024-03-04T18:47:03.945245200Z"
    }
   },
   "id": "3ebe777070d6acb3",
   "execution_count": 22
  },
  {
   "cell_type": "code",
   "outputs": [
    {
     "data": {
      "text/plain": "                                       prediction_contribution  \\\newm_shoton_home                                         0.0921   \newm_possession_home_x_ewm_shoton_home                   0.0515   \navg_home_team_rating                                    0.0652   \nplayer_rating_home_player_9                             0.0350   \nhome_streak_wins                                        0.0508   \naway_streak_wins                                        0.0591   \nplayer_rating_home_player_8                             0.0308   \nnum_top_players_home                                    0.0538   \newm_away_team_goals                                     0.0511   \navg_away_team_rating_binned                             0.0307   \n\n                                       error_contribution  \newm_shoton_home                                   -0.0022  \newm_possession_home_x_ewm_shoton_home             -0.0014  \navg_home_team_rating                              -0.0014  \nplayer_rating_home_player_9                       -0.0014  \nhome_streak_wins                                  -0.0013  \naway_streak_wins                                  -0.0013  \nplayer_rating_home_player_8                       -0.0013  \nnum_top_players_home                              -0.0011  \newm_away_team_goals                               -0.0010  \navg_away_team_rating_binned                       -0.0007  ",
      "text/html": "<div>\n<style scoped>\n    .dataframe tbody tr th:only-of-type {\n        vertical-align: middle;\n    }\n\n    .dataframe tbody tr th {\n        vertical-align: top;\n    }\n\n    .dataframe thead th {\n        text-align: right;\n    }\n</style>\n<table border=\"1\" class=\"dataframe\">\n  <thead>\n    <tr style=\"text-align: right;\">\n      <th></th>\n      <th>prediction_contribution</th>\n      <th>error_contribution</th>\n    </tr>\n  </thead>\n  <tbody>\n    <tr>\n      <th>ewm_shoton_home</th>\n      <td>0.0921</td>\n      <td>-0.0022</td>\n    </tr>\n    <tr>\n      <th>ewm_possession_home_x_ewm_shoton_home</th>\n      <td>0.0515</td>\n      <td>-0.0014</td>\n    </tr>\n    <tr>\n      <th>avg_home_team_rating</th>\n      <td>0.0652</td>\n      <td>-0.0014</td>\n    </tr>\n    <tr>\n      <th>player_rating_home_player_9</th>\n      <td>0.0350</td>\n      <td>-0.0014</td>\n    </tr>\n    <tr>\n      <th>home_streak_wins</th>\n      <td>0.0508</td>\n      <td>-0.0013</td>\n    </tr>\n    <tr>\n      <th>away_streak_wins</th>\n      <td>0.0591</td>\n      <td>-0.0013</td>\n    </tr>\n    <tr>\n      <th>player_rating_home_player_8</th>\n      <td>0.0308</td>\n      <td>-0.0013</td>\n    </tr>\n    <tr>\n      <th>num_top_players_home</th>\n      <td>0.0538</td>\n      <td>-0.0011</td>\n    </tr>\n    <tr>\n      <th>ewm_away_team_goals</th>\n      <td>0.0511</td>\n      <td>-0.0010</td>\n    </tr>\n    <tr>\n      <th>avg_away_team_rating_binned</th>\n      <td>0.0307</td>\n      <td>-0.0007</td>\n    </tr>\n  </tbody>\n</table>\n</div>"
     },
     "execution_count": 23,
     "metadata": {},
     "output_type": "execute_result"
    }
   ],
   "source": [
    "pd.set_option(\"display.max_rows\", 10)\n",
    "\n",
    "contributions_val.sort_values(\"error_contribution\", ascending=True).round(4).head(10)"
   ],
   "metadata": {
    "collapsed": false,
    "ExecuteTime": {
     "end_time": "2024-03-04T18:47:04.336885100Z",
     "start_time": "2024-03-04T18:47:04.279884400Z"
    }
   },
   "id": "efb41ac8797e4bef",
   "execution_count": 23
  },
  {
   "cell_type": "code",
   "outputs": [
    {
     "data": {
      "text/plain": "                                       prediction_contribution  \\\newm_shoton_away                                         0.0990   \newm_shoton_home                                         0.0921   \ndefensive_weakness_diff                                 0.0688   \navg_home_team_rating                                    0.0652   \nplayer_rating_away_player_8                             0.0638   \naway_streak_wins                                        0.0591   \nnum_top_players_home                                    0.0538   \nplayer_rating_away_player_7                             0.0517   \newm_possession_home_x_ewm_shoton_home                   0.0515   \newm_away_team_goals                                     0.0511   \n\n                                       error_contribution  \newm_shoton_away                                   -0.0004  \newm_shoton_home                                   -0.0022  \ndefensive_weakness_diff                            0.0009  \navg_home_team_rating                              -0.0014  \nplayer_rating_away_player_8                       -0.0006  \naway_streak_wins                                  -0.0013  \nnum_top_players_home                              -0.0011  \nplayer_rating_away_player_7                        0.0012  \newm_possession_home_x_ewm_shoton_home             -0.0014  \newm_away_team_goals                               -0.0010  ",
      "text/html": "<div>\n<style scoped>\n    .dataframe tbody tr th:only-of-type {\n        vertical-align: middle;\n    }\n\n    .dataframe tbody tr th {\n        vertical-align: top;\n    }\n\n    .dataframe thead th {\n        text-align: right;\n    }\n</style>\n<table border=\"1\" class=\"dataframe\">\n  <thead>\n    <tr style=\"text-align: right;\">\n      <th></th>\n      <th>prediction_contribution</th>\n      <th>error_contribution</th>\n    </tr>\n  </thead>\n  <tbody>\n    <tr>\n      <th>ewm_shoton_away</th>\n      <td>0.0990</td>\n      <td>-0.0004</td>\n    </tr>\n    <tr>\n      <th>ewm_shoton_home</th>\n      <td>0.0921</td>\n      <td>-0.0022</td>\n    </tr>\n    <tr>\n      <th>defensive_weakness_diff</th>\n      <td>0.0688</td>\n      <td>0.0009</td>\n    </tr>\n    <tr>\n      <th>avg_home_team_rating</th>\n      <td>0.0652</td>\n      <td>-0.0014</td>\n    </tr>\n    <tr>\n      <th>player_rating_away_player_8</th>\n      <td>0.0638</td>\n      <td>-0.0006</td>\n    </tr>\n    <tr>\n      <th>away_streak_wins</th>\n      <td>0.0591</td>\n      <td>-0.0013</td>\n    </tr>\n    <tr>\n      <th>num_top_players_home</th>\n      <td>0.0538</td>\n      <td>-0.0011</td>\n    </tr>\n    <tr>\n      <th>player_rating_away_player_7</th>\n      <td>0.0517</td>\n      <td>0.0012</td>\n    </tr>\n    <tr>\n      <th>ewm_possession_home_x_ewm_shoton_home</th>\n      <td>0.0515</td>\n      <td>-0.0014</td>\n    </tr>\n    <tr>\n      <th>ewm_away_team_goals</th>\n      <td>0.0511</td>\n      <td>-0.0010</td>\n    </tr>\n  </tbody>\n</table>\n</div>"
     },
     "execution_count": 24,
     "metadata": {},
     "output_type": "execute_result"
    }
   ],
   "source": [
    "pd.set_option(\"display.max_rows\", 10)\n",
    "\n",
    "contributions_val.sort_values(\"prediction_contribution\", ascending=False).round(4).head(10)"
   ],
   "metadata": {
    "collapsed": false,
    "ExecuteTime": {
     "end_time": "2024-03-04T18:47:04.338885400Z",
     "start_time": "2024-03-04T18:47:04.292885100Z"
    }
   },
   "id": "f151be8397ab7de9",
   "execution_count": 24
  },
  {
   "cell_type": "code",
   "outputs": [
    {
     "name": "stderr",
     "output_type": "stream",
     "text": [
      "  0%|          | 0/46 [00:17<?, ?it/s]\n"
     ]
    },
    {
     "ename": "ValueError",
     "evalue": "Classification metrics can't handle a mix of binary and continuous targets",
     "output_type": "error",
     "traceback": [
      "\u001B[1;31m---------------------------------------------------------------------------\u001B[0m",
      "\u001B[1;31mValueError\u001B[0m                                Traceback (most recent call last)",
      "Cell \u001B[1;32mIn[35], line 32\u001B[0m\n\u001B[0;32m     29\u001B[0m rfe_error\u001B[38;5;241m.\u001B[39mloc[iteration, \u001B[38;5;124m\"\u001B[39m\u001B[38;5;124map_val\u001B[39m\u001B[38;5;124m\"\u001B[39m] \u001B[38;5;241m=\u001B[39m average_precision_score(y_val[\u001B[38;5;124m'\u001B[39m\u001B[38;5;124mresult_match\u001B[39m\u001B[38;5;124m'\u001B[39m], preds_val)\n\u001B[0;32m     30\u001B[0m \u001B[38;5;66;03m# rfe_error.loc[iteration, \"ap_tst\"] = average_precision_score(df.loc[ix_tst, target], preds.loc[ix_tst])\u001B[39;00m\n\u001B[1;32m---> 32\u001B[0m rfe_error\u001B[38;5;241m.\u001B[39mloc[iteration, \u001B[38;5;124m\"\u001B[39m\u001B[38;5;124mf1_trn\u001B[39m\u001B[38;5;124m\"\u001B[39m] \u001B[38;5;241m=\u001B[39m \u001B[43mf1_score\u001B[49m\u001B[43m(\u001B[49m\u001B[43my_train\u001B[49m\u001B[43m[\u001B[49m\u001B[38;5;124;43m'\u001B[39;49m\u001B[38;5;124;43mresult_match\u001B[39;49m\u001B[38;5;124;43m'\u001B[39;49m\u001B[43m]\u001B[49m\u001B[38;5;241;43m.\u001B[39;49m\u001B[43mastype\u001B[49m\u001B[43m(\u001B[49m\u001B[38;5;124;43m'\u001B[39;49m\u001B[38;5;124;43mint8\u001B[39;49m\u001B[38;5;124;43m'\u001B[39;49m\u001B[43m)\u001B[49m\u001B[43m,\u001B[49m\u001B[43m \u001B[49m\u001B[43mpreds_train\u001B[49m\u001B[43m,\u001B[49m\u001B[43m \u001B[49m\u001B[43maverage\u001B[49m\u001B[38;5;241;43m=\u001B[39;49m\u001B[38;5;124;43m'\u001B[39;49m\u001B[38;5;124;43mweighted\u001B[39;49m\u001B[38;5;124;43m'\u001B[39;49m\u001B[43m)\u001B[49m\n\u001B[0;32m     33\u001B[0m rfe_error\u001B[38;5;241m.\u001B[39mloc[iteration, \u001B[38;5;124m\"\u001B[39m\u001B[38;5;124mf1_val\u001B[39m\u001B[38;5;124m\"\u001B[39m] \u001B[38;5;241m=\u001B[39m f1_score(y_val[\u001B[38;5;124m'\u001B[39m\u001B[38;5;124mresult_match\u001B[39m\u001B[38;5;124m'\u001B[39m]\u001B[38;5;241m.\u001B[39mastype(\u001B[38;5;124m'\u001B[39m\u001B[38;5;124mint8\u001B[39m\u001B[38;5;124m'\u001B[39m), preds_val, average\u001B[38;5;241m=\u001B[39m\u001B[38;5;124m'\u001B[39m\u001B[38;5;124mweighted\u001B[39m\u001B[38;5;124m'\u001B[39m)\n\u001B[0;32m     34\u001B[0m \u001B[38;5;66;03m# rfe_error.loc[iteration, \"f1_tst\"] = f1_score(df.loc[ix_tst, target], preds.loc[ix_tst])\u001B[39;00m\n",
      "File \u001B[1;32m~\\anaconda3\\envs\\py10\\lib\\site-packages\\sklearn\\utils\\_param_validation.py:213\u001B[0m, in \u001B[0;36mvalidate_params.<locals>.decorator.<locals>.wrapper\u001B[1;34m(*args, **kwargs)\u001B[0m\n\u001B[0;32m    207\u001B[0m \u001B[38;5;28;01mtry\u001B[39;00m:\n\u001B[0;32m    208\u001B[0m     \u001B[38;5;28;01mwith\u001B[39;00m config_context(\n\u001B[0;32m    209\u001B[0m         skip_parameter_validation\u001B[38;5;241m=\u001B[39m(\n\u001B[0;32m    210\u001B[0m             prefer_skip_nested_validation \u001B[38;5;129;01mor\u001B[39;00m global_skip_validation\n\u001B[0;32m    211\u001B[0m         )\n\u001B[0;32m    212\u001B[0m     ):\n\u001B[1;32m--> 213\u001B[0m         \u001B[38;5;28;01mreturn\u001B[39;00m func(\u001B[38;5;241m*\u001B[39margs, \u001B[38;5;241m*\u001B[39m\u001B[38;5;241m*\u001B[39mkwargs)\n\u001B[0;32m    214\u001B[0m \u001B[38;5;28;01mexcept\u001B[39;00m InvalidParameterError \u001B[38;5;28;01mas\u001B[39;00m e:\n\u001B[0;32m    215\u001B[0m     \u001B[38;5;66;03m# When the function is just a wrapper around an estimator, we allow\u001B[39;00m\n\u001B[0;32m    216\u001B[0m     \u001B[38;5;66;03m# the function to delegate validation to the estimator, but we replace\u001B[39;00m\n\u001B[0;32m    217\u001B[0m     \u001B[38;5;66;03m# the name of the estimator by the name of the function in the error\u001B[39;00m\n\u001B[0;32m    218\u001B[0m     \u001B[38;5;66;03m# message to avoid confusion.\u001B[39;00m\n\u001B[0;32m    219\u001B[0m     msg \u001B[38;5;241m=\u001B[39m re\u001B[38;5;241m.\u001B[39msub(\n\u001B[0;32m    220\u001B[0m         \u001B[38;5;124mr\u001B[39m\u001B[38;5;124m\"\u001B[39m\u001B[38;5;124mparameter of \u001B[39m\u001B[38;5;124m\\\u001B[39m\u001B[38;5;124mw+ must be\u001B[39m\u001B[38;5;124m\"\u001B[39m,\n\u001B[0;32m    221\u001B[0m         \u001B[38;5;124mf\u001B[39m\u001B[38;5;124m\"\u001B[39m\u001B[38;5;124mparameter of \u001B[39m\u001B[38;5;132;01m{\u001B[39;00mfunc\u001B[38;5;241m.\u001B[39m\u001B[38;5;18m__qualname__\u001B[39m\u001B[38;5;132;01m}\u001B[39;00m\u001B[38;5;124m must be\u001B[39m\u001B[38;5;124m\"\u001B[39m,\n\u001B[0;32m    222\u001B[0m         \u001B[38;5;28mstr\u001B[39m(e),\n\u001B[0;32m    223\u001B[0m     )\n",
      "File \u001B[1;32m~\\anaconda3\\envs\\py10\\lib\\site-packages\\sklearn\\metrics\\_classification.py:1271\u001B[0m, in \u001B[0;36mf1_score\u001B[1;34m(y_true, y_pred, labels, pos_label, average, sample_weight, zero_division)\u001B[0m\n\u001B[0;32m   1091\u001B[0m \u001B[38;5;129m@validate_params\u001B[39m(\n\u001B[0;32m   1092\u001B[0m     {\n\u001B[0;32m   1093\u001B[0m         \u001B[38;5;124m\"\u001B[39m\u001B[38;5;124my_true\u001B[39m\u001B[38;5;124m\"\u001B[39m: [\u001B[38;5;124m\"\u001B[39m\u001B[38;5;124marray-like\u001B[39m\u001B[38;5;124m\"\u001B[39m, \u001B[38;5;124m\"\u001B[39m\u001B[38;5;124msparse matrix\u001B[39m\u001B[38;5;124m\"\u001B[39m],\n\u001B[1;32m   (...)\u001B[0m\n\u001B[0;32m   1118\u001B[0m     zero_division\u001B[38;5;241m=\u001B[39m\u001B[38;5;124m\"\u001B[39m\u001B[38;5;124mwarn\u001B[39m\u001B[38;5;124m\"\u001B[39m,\n\u001B[0;32m   1119\u001B[0m ):\n\u001B[0;32m   1120\u001B[0m \u001B[38;5;250m    \u001B[39m\u001B[38;5;124;03m\"\"\"Compute the F1 score, also known as balanced F-score or F-measure.\u001B[39;00m\n\u001B[0;32m   1121\u001B[0m \n\u001B[0;32m   1122\u001B[0m \u001B[38;5;124;03m    The F1 score can be interpreted as a harmonic mean of the precision and\u001B[39;00m\n\u001B[1;32m   (...)\u001B[0m\n\u001B[0;32m   1269\u001B[0m \u001B[38;5;124;03m    array([0.66666667, 1.        , 0.66666667])\u001B[39;00m\n\u001B[0;32m   1270\u001B[0m \u001B[38;5;124;03m    \"\"\"\u001B[39;00m\n\u001B[1;32m-> 1271\u001B[0m     \u001B[38;5;28;01mreturn\u001B[39;00m \u001B[43mfbeta_score\u001B[49m\u001B[43m(\u001B[49m\n\u001B[0;32m   1272\u001B[0m \u001B[43m        \u001B[49m\u001B[43my_true\u001B[49m\u001B[43m,\u001B[49m\n\u001B[0;32m   1273\u001B[0m \u001B[43m        \u001B[49m\u001B[43my_pred\u001B[49m\u001B[43m,\u001B[49m\n\u001B[0;32m   1274\u001B[0m \u001B[43m        \u001B[49m\u001B[43mbeta\u001B[49m\u001B[38;5;241;43m=\u001B[39;49m\u001B[38;5;241;43m1\u001B[39;49m\u001B[43m,\u001B[49m\n\u001B[0;32m   1275\u001B[0m \u001B[43m        \u001B[49m\u001B[43mlabels\u001B[49m\u001B[38;5;241;43m=\u001B[39;49m\u001B[43mlabels\u001B[49m\u001B[43m,\u001B[49m\n\u001B[0;32m   1276\u001B[0m \u001B[43m        \u001B[49m\u001B[43mpos_label\u001B[49m\u001B[38;5;241;43m=\u001B[39;49m\u001B[43mpos_label\u001B[49m\u001B[43m,\u001B[49m\n\u001B[0;32m   1277\u001B[0m \u001B[43m        \u001B[49m\u001B[43maverage\u001B[49m\u001B[38;5;241;43m=\u001B[39;49m\u001B[43maverage\u001B[49m\u001B[43m,\u001B[49m\n\u001B[0;32m   1278\u001B[0m \u001B[43m        \u001B[49m\u001B[43msample_weight\u001B[49m\u001B[38;5;241;43m=\u001B[39;49m\u001B[43msample_weight\u001B[49m\u001B[43m,\u001B[49m\n\u001B[0;32m   1279\u001B[0m \u001B[43m        \u001B[49m\u001B[43mzero_division\u001B[49m\u001B[38;5;241;43m=\u001B[39;49m\u001B[43mzero_division\u001B[49m\u001B[43m,\u001B[49m\n\u001B[0;32m   1280\u001B[0m \u001B[43m    \u001B[49m\u001B[43m)\u001B[49m\n",
      "File \u001B[1;32m~\\anaconda3\\envs\\py10\\lib\\site-packages\\sklearn\\utils\\_param_validation.py:186\u001B[0m, in \u001B[0;36mvalidate_params.<locals>.decorator.<locals>.wrapper\u001B[1;34m(*args, **kwargs)\u001B[0m\n\u001B[0;32m    184\u001B[0m global_skip_validation \u001B[38;5;241m=\u001B[39m get_config()[\u001B[38;5;124m\"\u001B[39m\u001B[38;5;124mskip_parameter_validation\u001B[39m\u001B[38;5;124m\"\u001B[39m]\n\u001B[0;32m    185\u001B[0m \u001B[38;5;28;01mif\u001B[39;00m global_skip_validation:\n\u001B[1;32m--> 186\u001B[0m     \u001B[38;5;28;01mreturn\u001B[39;00m func(\u001B[38;5;241m*\u001B[39margs, \u001B[38;5;241m*\u001B[39m\u001B[38;5;241m*\u001B[39mkwargs)\n\u001B[0;32m    188\u001B[0m func_sig \u001B[38;5;241m=\u001B[39m signature(func)\n\u001B[0;32m    190\u001B[0m \u001B[38;5;66;03m# Map *args/**kwargs to the function signature\u001B[39;00m\n",
      "File \u001B[1;32m~\\anaconda3\\envs\\py10\\lib\\site-packages\\sklearn\\metrics\\_classification.py:1463\u001B[0m, in \u001B[0;36mfbeta_score\u001B[1;34m(y_true, y_pred, beta, labels, pos_label, average, sample_weight, zero_division)\u001B[0m\n\u001B[0;32m   1283\u001B[0m \u001B[38;5;129m@validate_params\u001B[39m(\n\u001B[0;32m   1284\u001B[0m     {\n\u001B[0;32m   1285\u001B[0m         \u001B[38;5;124m\"\u001B[39m\u001B[38;5;124my_true\u001B[39m\u001B[38;5;124m\"\u001B[39m: [\u001B[38;5;124m\"\u001B[39m\u001B[38;5;124marray-like\u001B[39m\u001B[38;5;124m\"\u001B[39m, \u001B[38;5;124m\"\u001B[39m\u001B[38;5;124msparse matrix\u001B[39m\u001B[38;5;124m\"\u001B[39m],\n\u001B[1;32m   (...)\u001B[0m\n\u001B[0;32m   1312\u001B[0m     zero_division\u001B[38;5;241m=\u001B[39m\u001B[38;5;124m\"\u001B[39m\u001B[38;5;124mwarn\u001B[39m\u001B[38;5;124m\"\u001B[39m,\n\u001B[0;32m   1313\u001B[0m ):\n\u001B[0;32m   1314\u001B[0m \u001B[38;5;250m    \u001B[39m\u001B[38;5;124;03m\"\"\"Compute the F-beta score.\u001B[39;00m\n\u001B[0;32m   1315\u001B[0m \n\u001B[0;32m   1316\u001B[0m \u001B[38;5;124;03m    The F-beta score is the weighted harmonic mean of precision and recall,\u001B[39;00m\n\u001B[1;32m   (...)\u001B[0m\n\u001B[0;32m   1460\u001B[0m \u001B[38;5;124;03m    0.12...\u001B[39;00m\n\u001B[0;32m   1461\u001B[0m \u001B[38;5;124;03m    \"\"\"\u001B[39;00m\n\u001B[1;32m-> 1463\u001B[0m     _, _, f, _ \u001B[38;5;241m=\u001B[39m \u001B[43mprecision_recall_fscore_support\u001B[49m\u001B[43m(\u001B[49m\n\u001B[0;32m   1464\u001B[0m \u001B[43m        \u001B[49m\u001B[43my_true\u001B[49m\u001B[43m,\u001B[49m\n\u001B[0;32m   1465\u001B[0m \u001B[43m        \u001B[49m\u001B[43my_pred\u001B[49m\u001B[43m,\u001B[49m\n\u001B[0;32m   1466\u001B[0m \u001B[43m        \u001B[49m\u001B[43mbeta\u001B[49m\u001B[38;5;241;43m=\u001B[39;49m\u001B[43mbeta\u001B[49m\u001B[43m,\u001B[49m\n\u001B[0;32m   1467\u001B[0m \u001B[43m        \u001B[49m\u001B[43mlabels\u001B[49m\u001B[38;5;241;43m=\u001B[39;49m\u001B[43mlabels\u001B[49m\u001B[43m,\u001B[49m\n\u001B[0;32m   1468\u001B[0m \u001B[43m        \u001B[49m\u001B[43mpos_label\u001B[49m\u001B[38;5;241;43m=\u001B[39;49m\u001B[43mpos_label\u001B[49m\u001B[43m,\u001B[49m\n\u001B[0;32m   1469\u001B[0m \u001B[43m        \u001B[49m\u001B[43maverage\u001B[49m\u001B[38;5;241;43m=\u001B[39;49m\u001B[43maverage\u001B[49m\u001B[43m,\u001B[49m\n\u001B[0;32m   1470\u001B[0m \u001B[43m        \u001B[49m\u001B[43mwarn_for\u001B[49m\u001B[38;5;241;43m=\u001B[39;49m\u001B[43m(\u001B[49m\u001B[38;5;124;43m\"\u001B[39;49m\u001B[38;5;124;43mf-score\u001B[39;49m\u001B[38;5;124;43m\"\u001B[39;49m\u001B[43m,\u001B[49m\u001B[43m)\u001B[49m\u001B[43m,\u001B[49m\n\u001B[0;32m   1471\u001B[0m \u001B[43m        \u001B[49m\u001B[43msample_weight\u001B[49m\u001B[38;5;241;43m=\u001B[39;49m\u001B[43msample_weight\u001B[49m\u001B[43m,\u001B[49m\n\u001B[0;32m   1472\u001B[0m \u001B[43m        \u001B[49m\u001B[43mzero_division\u001B[49m\u001B[38;5;241;43m=\u001B[39;49m\u001B[43mzero_division\u001B[49m\u001B[43m,\u001B[49m\n\u001B[0;32m   1473\u001B[0m \u001B[43m    \u001B[49m\u001B[43m)\u001B[49m\n\u001B[0;32m   1474\u001B[0m     \u001B[38;5;28;01mreturn\u001B[39;00m f\n",
      "File \u001B[1;32m~\\anaconda3\\envs\\py10\\lib\\site-packages\\sklearn\\utils\\_param_validation.py:186\u001B[0m, in \u001B[0;36mvalidate_params.<locals>.decorator.<locals>.wrapper\u001B[1;34m(*args, **kwargs)\u001B[0m\n\u001B[0;32m    184\u001B[0m global_skip_validation \u001B[38;5;241m=\u001B[39m get_config()[\u001B[38;5;124m\"\u001B[39m\u001B[38;5;124mskip_parameter_validation\u001B[39m\u001B[38;5;124m\"\u001B[39m]\n\u001B[0;32m    185\u001B[0m \u001B[38;5;28;01mif\u001B[39;00m global_skip_validation:\n\u001B[1;32m--> 186\u001B[0m     \u001B[38;5;28;01mreturn\u001B[39;00m func(\u001B[38;5;241m*\u001B[39margs, \u001B[38;5;241m*\u001B[39m\u001B[38;5;241m*\u001B[39mkwargs)\n\u001B[0;32m    188\u001B[0m func_sig \u001B[38;5;241m=\u001B[39m signature(func)\n\u001B[0;32m    190\u001B[0m \u001B[38;5;66;03m# Map *args/**kwargs to the function signature\u001B[39;00m\n",
      "File \u001B[1;32m~\\anaconda3\\envs\\py10\\lib\\site-packages\\sklearn\\metrics\\_classification.py:1767\u001B[0m, in \u001B[0;36mprecision_recall_fscore_support\u001B[1;34m(y_true, y_pred, beta, labels, pos_label, average, warn_for, sample_weight, zero_division)\u001B[0m\n\u001B[0;32m   1604\u001B[0m \u001B[38;5;250m\u001B[39m\u001B[38;5;124;03m\"\"\"Compute precision, recall, F-measure and support for each class.\u001B[39;00m\n\u001B[0;32m   1605\u001B[0m \n\u001B[0;32m   1606\u001B[0m \u001B[38;5;124;03mThe precision is the ratio ``tp / (tp + fp)`` where ``tp`` is the number of\u001B[39;00m\n\u001B[1;32m   (...)\u001B[0m\n\u001B[0;32m   1764\u001B[0m \u001B[38;5;124;03m array([2, 2, 2]))\u001B[39;00m\n\u001B[0;32m   1765\u001B[0m \u001B[38;5;124;03m\"\"\"\u001B[39;00m\n\u001B[0;32m   1766\u001B[0m _check_zero_division(zero_division)\n\u001B[1;32m-> 1767\u001B[0m labels \u001B[38;5;241m=\u001B[39m \u001B[43m_check_set_wise_labels\u001B[49m\u001B[43m(\u001B[49m\u001B[43my_true\u001B[49m\u001B[43m,\u001B[49m\u001B[43m \u001B[49m\u001B[43my_pred\u001B[49m\u001B[43m,\u001B[49m\u001B[43m \u001B[49m\u001B[43maverage\u001B[49m\u001B[43m,\u001B[49m\u001B[43m \u001B[49m\u001B[43mlabels\u001B[49m\u001B[43m,\u001B[49m\u001B[43m \u001B[49m\u001B[43mpos_label\u001B[49m\u001B[43m)\u001B[49m\n\u001B[0;32m   1769\u001B[0m \u001B[38;5;66;03m# Calculate tp_sum, pred_sum, true_sum ###\u001B[39;00m\n\u001B[0;32m   1770\u001B[0m samplewise \u001B[38;5;241m=\u001B[39m average \u001B[38;5;241m==\u001B[39m \u001B[38;5;124m\"\u001B[39m\u001B[38;5;124msamples\u001B[39m\u001B[38;5;124m\"\u001B[39m\n",
      "File \u001B[1;32m~\\anaconda3\\envs\\py10\\lib\\site-packages\\sklearn\\metrics\\_classification.py:1539\u001B[0m, in \u001B[0;36m_check_set_wise_labels\u001B[1;34m(y_true, y_pred, average, labels, pos_label)\u001B[0m\n\u001B[0;32m   1536\u001B[0m \u001B[38;5;28;01mif\u001B[39;00m average \u001B[38;5;129;01mnot\u001B[39;00m \u001B[38;5;129;01min\u001B[39;00m average_options \u001B[38;5;129;01mand\u001B[39;00m average \u001B[38;5;241m!=\u001B[39m \u001B[38;5;124m\"\u001B[39m\u001B[38;5;124mbinary\u001B[39m\u001B[38;5;124m\"\u001B[39m:\n\u001B[0;32m   1537\u001B[0m     \u001B[38;5;28;01mraise\u001B[39;00m \u001B[38;5;167;01mValueError\u001B[39;00m(\u001B[38;5;124m\"\u001B[39m\u001B[38;5;124maverage has to be one of \u001B[39m\u001B[38;5;124m\"\u001B[39m \u001B[38;5;241m+\u001B[39m \u001B[38;5;28mstr\u001B[39m(average_options))\n\u001B[1;32m-> 1539\u001B[0m y_type, y_true, y_pred \u001B[38;5;241m=\u001B[39m \u001B[43m_check_targets\u001B[49m\u001B[43m(\u001B[49m\u001B[43my_true\u001B[49m\u001B[43m,\u001B[49m\u001B[43m \u001B[49m\u001B[43my_pred\u001B[49m\u001B[43m)\u001B[49m\n\u001B[0;32m   1540\u001B[0m \u001B[38;5;66;03m# Convert to Python primitive type to avoid NumPy type / Python str\u001B[39;00m\n\u001B[0;32m   1541\u001B[0m \u001B[38;5;66;03m# comparison. See https://github.com/numpy/numpy/issues/6784\u001B[39;00m\n\u001B[0;32m   1542\u001B[0m present_labels \u001B[38;5;241m=\u001B[39m unique_labels(y_true, y_pred)\u001B[38;5;241m.\u001B[39mtolist()\n",
      "File \u001B[1;32m~\\anaconda3\\envs\\py10\\lib\\site-packages\\sklearn\\metrics\\_classification.py:94\u001B[0m, in \u001B[0;36m_check_targets\u001B[1;34m(y_true, y_pred)\u001B[0m\n\u001B[0;32m     91\u001B[0m     y_type \u001B[38;5;241m=\u001B[39m {\u001B[38;5;124m\"\u001B[39m\u001B[38;5;124mmulticlass\u001B[39m\u001B[38;5;124m\"\u001B[39m}\n\u001B[0;32m     93\u001B[0m \u001B[38;5;28;01mif\u001B[39;00m \u001B[38;5;28mlen\u001B[39m(y_type) \u001B[38;5;241m>\u001B[39m \u001B[38;5;241m1\u001B[39m:\n\u001B[1;32m---> 94\u001B[0m     \u001B[38;5;28;01mraise\u001B[39;00m \u001B[38;5;167;01mValueError\u001B[39;00m(\n\u001B[0;32m     95\u001B[0m         \u001B[38;5;124m\"\u001B[39m\u001B[38;5;124mClassification metrics can\u001B[39m\u001B[38;5;124m'\u001B[39m\u001B[38;5;124mt handle a mix of \u001B[39m\u001B[38;5;132;01m{0}\u001B[39;00m\u001B[38;5;124m and \u001B[39m\u001B[38;5;132;01m{1}\u001B[39;00m\u001B[38;5;124m targets\u001B[39m\u001B[38;5;124m\"\u001B[39m\u001B[38;5;241m.\u001B[39mformat(\n\u001B[0;32m     96\u001B[0m             type_true, type_pred\n\u001B[0;32m     97\u001B[0m         )\n\u001B[0;32m     98\u001B[0m     )\n\u001B[0;32m    100\u001B[0m \u001B[38;5;66;03m# We can't have more than one value on y_type => The set is no more needed\u001B[39;00m\n\u001B[0;32m    101\u001B[0m y_type \u001B[38;5;241m=\u001B[39m y_type\u001B[38;5;241m.\u001B[39mpop()\n",
      "\u001B[1;31mValueError\u001B[0m: Classification metrics can't handle a mix of binary and continuous targets"
     ]
    }
   ],
   "source": [
    "from tqdm import tqdm\n",
    "from sklearn.metrics import log_loss, average_precision_score\n",
    "\n",
    "\n",
    "features= X_train.columns.to_list()\n",
    "rfe_error = pd.DataFrame(dtype=float)\n",
    "features_curr = features.copy()\n",
    "feature_drop = None\n",
    "\n",
    "for iteration in tqdm(range(len(features))):\n",
    "    preds_val, shaps_val, shap_expected_value_val = get_preds_shaps(X_train[features_curr], X_val[features_curr], y_train, y_val, False)\n",
    "    \n",
    "    prediction_contribution_val, error_contribution_val = get_feature_contributions(\n",
    "        y_true=y_val, \n",
    "        y_pred=preds_val, \n",
    "        shap_values=shaps_val,\n",
    "        shap_expected_value=shap_expected_value_val\n",
    "    )  \n",
    "    \n",
    "    rfe_error.loc[iteration, \"feature_drop\"] = feature_drop\n",
    "    rfe_error.loc[iteration, \"n_features\"] = len(features_curr)\n",
    "    rfe_error.loc[iteration, \"contrib\"] = error_contribution_val.max()\n",
    "    \n",
    "    rfe_error.loc[iteration, \"logloss_trn\"] = log_loss(y_train['result_match'], preds_train)\n",
    "    rfe_error.loc[iteration, \"logloss_val\"] = log_loss(y_val['result_match'], preds_val)\n",
    "    # rfe_error.loc[iteration, \"logloss_tst\"] = log_loss(df.loc[ix_tst, target], preds.loc[ix_tst])\n",
    "    \n",
    "    rfe_error.loc[iteration, \"ap_trn\"] = average_precision_score(y_train['result_match'], preds_train, average='weighted')\n",
    "    rfe_error.loc[iteration, \"ap_val\"] = average_precision_score(y_val['result_match'], preds_val, average='weighted')\n",
    "    # rfe_error.loc[iteration, \"ap_tst\"] = average_precision_score(df.loc[ix_tst, target], preds.loc[ix_tst])\n",
    "    \n",
    "    rfe_error.loc[iteration, \"f1_trn\"] = f1_score(y_train['result_match'], preds_train, average='binary', pos_label='binary')\n",
    "    rfe_error.loc[iteration, \"f1_val\"] = f1_score(y_val['result_match'], preds_val, average='binary', pos_label='binary')\n",
    "    # rfe_error.loc[iteration, \"f1_tst\"] = f1_score(df.loc[ix_tst, target], preds.loc[ix_tst])\n",
    "\n",
    "    feature_drop = error_contribution_val.idxmax()\n",
    "    \n",
    "    \n",
    "    features_curr.remove(feature_drop)"
   ],
   "metadata": {
    "collapsed": false,
    "ExecuteTime": {
     "end_time": "2024-03-04T18:54:07.800655900Z",
     "start_time": "2024-03-04T18:53:50.226023900Z"
    }
   },
   "id": "50f2f3e39c3f07aa",
   "execution_count": 35
  },
  {
   "cell_type": "code",
   "outputs": [],
   "source": [
    "features= X_train.columns.to_list()\n",
    "rfe_prediction = pd.DataFrame(dtype=float)\n",
    "features_curr = features.copy()\n",
    "feature_drop = None\n",
    "\n",
    "for iteration in tqdm(range(len(features))):\n",
    "    preds_val, shaps_val, shap_expected_value_val = get_preds_shaps(X_train[features_curr], X_val[features_curr], y_train, y_val, False)\n",
    "    \n",
    "    prediction_contribution_val, error_contribution_val = get_feature_contributions(\n",
    "        y_true=y_val, \n",
    "        y_pred=preds_val, \n",
    "        shap_values=shaps_val,\n",
    "        shap_expected_value=shap_expected_value_val\n",
    "    )   \n",
    "    \n",
    "    rfe_prediction.loc[iteration, \"feature_drop\"] = feature_drop\n",
    "    rfe_prediction.loc[iteration, \"n_features\"] = len(features_curr)\n",
    "    rfe_prediction.loc[iteration, \"contrib\"] = prediction_contribution_val.max()\n",
    "    \n",
    "    rfe_prediction.loc[iteration, \"logloss_trn\"] = log_loss(y_train['result_match'], preds_train)\n",
    "    rfe_prediction.loc[iteration, \"logloss_val\"] = log_loss(y_val['result_match'], preds_val)\n",
    "    # rfe_prediction.loc[iteration, \"logloss_tst\"] = log_loss(df.loc[ix_tst, target], preds.loc[ix_tst])\n",
    "    rfe_prediction.loc[iteration, \"ap_trn\"] = average_precision_score(y_train['result_match'], preds_train)\n",
    "    rfe_prediction.loc[iteration, \"ap_val\"] = average_precision_score(y_val['result_match'], preds_val)\n",
    "    # rfe_prediction.loc[iteration, \"ap_tst\"] = average_precision_score(df.loc[ix_tst, target], preds.loc[ix_tst])\n",
    "    \n",
    "    rfe_prediction.loc[iteration, \"f1_trn\"] = f1_score(y_train['result_match'], preds_train, average='weighted'))\n",
    "    rfe_prediction.loc[iteration, \"f1_val\"] = f1_score(y_val['result_match'], preds_val, average='weighted'))\n",
    "    # rfe_prediction.loc[iteration, \"f1_tst\"] = f1_score(df.loc[ix_tst, target], preds.loc[ix_tst])\n",
    "\n",
    "    feature_drop = prediction_contribution_val.idxmax()\n",
    "    \n",
    "    features_curr.remove(feature_drop)"
   ],
   "metadata": {
    "collapsed": false,
    "ExecuteTime": {
     "end_time": "2024-03-04T18:47:23.272161Z",
     "start_time": "2024-03-04T18:47:23.255162300Z"
    }
   },
   "id": "b78ea084acb20750",
   "execution_count": null
  },
  {
   "cell_type": "code",
   "outputs": [],
   "source": [
    "rfe_error.to_csv(\"home_win_rfe_error.csv\", index=False)\n",
    "rfe_prediction.to_csv(\"home_not_win_rfe_prediction.csv\", index=False)"
   ],
   "metadata": {
    "collapsed": false,
    "ExecuteTime": {
     "start_time": "2024-03-04T18:47:23.256160900Z"
    }
   },
   "id": "c5dd573c6391819",
   "execution_count": null
  },
  {
   "cell_type": "code",
   "outputs": [],
   "source": [
    "rfe_error = pd.read_csv(\"home_win_rfe_error.csv\")\n",
    "rfe_prediction = pd.read_csv(\"home_not_win_rfe_prediction.csv\")"
   ],
   "metadata": {
    "collapsed": false,
    "ExecuteTime": {
     "start_time": "2024-03-04T18:47:23.258160200Z"
    }
   },
   "id": "35527a72b5c407ca",
   "execution_count": null
  },
  {
   "cell_type": "code",
   "outputs": [],
   "source": [
    "max_iter_show = len(features) - 3"
   ],
   "metadata": {
    "collapsed": false,
    "ExecuteTime": {
     "start_time": "2024-03-04T18:47:23.260160600Z"
    }
   },
   "id": "5ce3c97a2d3e4ce8",
   "execution_count": null
  },
  {
   "cell_type": "code",
   "outputs": [],
   "source": [
    "fig, ax = plt.subplots()\n",
    "\n",
    "idxmin_prediction = rfe_prediction[\"logloss_val\"].idxmin()\n",
    "idxmin_error = rfe_error[\"logloss_val\"].idxmin()\n",
    "\n",
    "ax.plot(-rfe_prediction.head(max_iter_show)[\"n_features\"], rfe_prediction.head(max_iter_show)[\"logloss_val\"], lw=3, color=\"blue\", label=\"RFE - Prediction\\nContribution\")\n",
    "ax.plot(-rfe_error.head(max_iter_show)[\"n_features\"], rfe_error.head(max_iter_show)[\"logloss_val\"], lw=3, color=\"orange\", label=\"RFE - Error\\nContribution\")\n",
    "ax.scatter(-rfe_prediction.loc[idxmin_prediction,\"n_features\"], rfe_prediction.loc[idxmin_prediction,\"logloss_val\"], s=200, marker=\"o\", facecolors=\"none\", edgecolors=\"red\", lw=3, zorder=100)\n",
    "ax.scatter(-rfe_error.loc[idxmin_error,\"n_features\"], rfe_error.loc[idxmin_error,\"logloss_val\"], s=200, marker=\"o\", facecolors=\"none\", edgecolors=\"red\", lw=3, zorder=100)\n",
    "ax.set_title(\"Validation Set\", fontsize=12)\n",
    "ax.set_ylabel(\"Log Loss\", fontsize=12)\n",
    "ax.set_xlabel(\"N Features\", fontsize=12)\n",
    "ax.set_xticklabels([-int(x) for x in ax.get_xticks()])\n",
    "ax.grid()\n",
    "ax.legend(loc='center left', bbox_to_anchor=(1, 0.5), fontsize=12)\n",
    "ax.tick_params(axis=\"both\", which=\"major\", labelsize=12)\n",
    "\n",
    "fig.savefig(\"rfe_logloss_val_.png\", dpi=200, bbox_inches=\"tight\")"
   ],
   "metadata": {
    "collapsed": false,
    "ExecuteTime": {
     "start_time": "2024-03-04T18:47:23.262161200Z"
    }
   },
   "id": "5c64e0b0ee627bde",
   "execution_count": null
  },
  {
   "cell_type": "code",
   "outputs": [],
   "source": [
    "rfe_error.sort_values(\"logloss_val\", ascending=True).head(4)"
   ],
   "metadata": {
    "collapsed": false,
    "ExecuteTime": {
     "start_time": "2024-03-04T18:47:23.263161200Z"
    }
   },
   "id": "1a317b580de04c21",
   "execution_count": null
  },
  {
   "cell_type": "code",
   "outputs": [],
   "source": [
    "rfe_prediction.sort_values(\"logloss_val\", ascending=True).head(4)"
   ],
   "metadata": {
    "collapsed": false,
    "ExecuteTime": {
     "start_time": "2024-03-04T18:47:23.265160900Z"
    }
   },
   "id": "21105da5b9e64b73",
   "execution_count": null
  },
  {
   "cell_type": "code",
   "outputs": [],
   "source": [
    "fig, ax = plt.subplots()\n",
    "\n",
    "idxmax_prediction = rfe_prediction[\"ap_val\"].idxmax()\n",
    "idxmax_error = rfe_error[\"ap_val\"].idxmax()\n",
    "\n",
    "ax.plot(-rfe_error.head(max_iter_show)[\"n_features\"], rfe_error.head(max_iter_show)[\"ap_val\"], lw=3, color=\"orange\", label=\"RFE - Error\\nContribution\")\n",
    "ax.plot(-rfe_prediction.head(max_iter_show)[\"n_features\"], rfe_prediction.head(max_iter_show)[\"ap_val\"], lw=3, color=\"blue\", label=\"RFE - Prediction\\nContribution\")\n",
    "ax.scatter(-rfe_prediction.loc[idxmax_prediction,\"n_features\"], rfe_prediction.loc[idxmax_prediction,\"ap_val\"], s=200, marker=\"o\", facecolors=\"none\", edgecolors=\"red\", lw=3, zorder=100)\n",
    "ax.scatter(-rfe_error.loc[idxmax_error,\"n_features\"], rfe_error.loc[idxmax_error,\"ap_val\"], s=200, marker=\"o\", facecolors=\"none\", edgecolors=\"red\", lw=3, zorder=100)\n",
    "ax.set_title(\"Test Set\", fontsize=12)\n",
    "ax.set_ylabel(\"Average Precision\", fontsize=12)\n",
    "ax.set_xlabel(\"N Features\", fontsize=12)\n",
    "ax.set_xticklabels([-int(x) for x in ax.get_xticks()])\n",
    "ax.grid()\n",
    "ax.legend(loc='center left', bbox_to_anchor=(1, 0.5), fontsize=12)\n",
    "ax.tick_params(axis=\"both\", which=\"major\", labelsize=12)\n",
    "\n",
    "fig.savefig(\"rfe_ap_tst_.png\", dpi=200, bbox_inches=\"tight\")"
   ],
   "metadata": {
    "collapsed": false,
    "ExecuteTime": {
     "start_time": "2024-03-04T18:47:23.266160400Z"
    }
   },
   "id": "75b9eda0eb539938",
   "execution_count": null
  },
  {
   "cell_type": "code",
   "outputs": [],
   "source": [
    "rfe_error"
   ],
   "metadata": {
    "collapsed": false,
    "ExecuteTime": {
     "start_time": "2024-03-04T18:47:23.267161900Z"
    }
   },
   "id": "a94212a00d8f8263",
   "execution_count": null
  },
  {
   "cell_type": "code",
   "outputs": [],
   "source": [],
   "metadata": {
    "collapsed": false
   },
   "id": "e20a598463fbbdeb"
  }
 ],
 "metadata": {
  "kernelspec": {
   "display_name": "Python 3 (ipykernel)",
   "language": "python",
   "name": "python3"
  },
  "language_info": {
   "codemirror_mode": {
    "name": "ipython",
    "version": 3
   },
   "file_extension": ".py",
   "mimetype": "text/x-python",
   "name": "python",
   "nbconvert_exporter": "python",
   "pygments_lexer": "ipython3",
   "version": "3.10.8"
  }
 },
 "nbformat": 4,
 "nbformat_minor": 5
}
