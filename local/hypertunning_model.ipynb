{
 "cells": [
  {
   "cell_type": "code",
   "execution_count": 1,
   "metadata": {
    "collapsed": false,
    "jupyter": {
     "outputs_hidden": false
    },
    "pycharm": {
     "is_executing": true,
     "name": "#%%\n"
    }
   },
   "outputs": [],
   "source": [
    "import warnings\n",
    "\n",
    "import pandas as pd\n",
    "import numpy as np\n",
    "import xgboost as xgb\n",
    "\n",
    "from sklearn import metrics, model_selection, pipeline\n",
    "from sklearn.metrics import f1_score\n",
    "\n",
    "import matplotlib.pyplot as plt\n",
    "\n",
    "warnings.filterwarnings('ignore')"
   ]
  },
  {
   "cell_type": "code",
   "execution_count": 2,
   "metadata": {},
   "outputs": [],
   "source": [
    "from typing import Any, Dict, Sequence\n",
    "\n",
    "\n",
    "def trial2df(trial: Sequence[Dict[str, Any]]) -> pd.DataFrame:\n",
    "    \"\"\"\n",
    "    Convert a Trial object (sequence of trial dictionaries)\n",
    "    to a Pandas DataFrame.\n",
    "    Parameters\n",
    "    ----------\n",
    "    trial : List[Dict[str, Any]]\n",
    "    A list of trial dictionaries.\n",
    "    Returns\n",
    "    -------\n",
    "    pd.DataFrame\n",
    "    A DataFrame with columns for the loss, trial id, and\n",
    "    values from each trial dictionary.\n",
    "    \"\"\"\n",
    "    vals = []\n",
    "    for t in trial:\n",
    "        result = t['result']\n",
    "        misc = t['misc']\n",
    "        val = {k: (v[0] if isinstance(v, list) else v)\n",
    "               for k, v in misc['vals'].items()\n",
    "               }\n",
    "        val['loss'] = result['loss']\n",
    "        val['tid'] = t['tid']\n",
    "        vals.append(val)\n",
    "    return pd.DataFrame(vals)"
   ]
  },
  {
   "cell_type": "code",
   "execution_count": 3,
   "metadata": {},
   "outputs": [
    {
     "name": "stdout",
     "output_type": "stream",
     "text": [
      "[['points_home', 'points_away', 'stage', 'home_streak_wins', 'away_streak_wins']]\n",
      "{'diff_avg_rating_attack': 1, 'home_streak_wins': 1}\n"
     ]
    }
   ],
   "source": [
    "import json\n",
    "\n",
    "# Loading the dictionary from the file\n",
    "with open('../data/engineering/constraints/interaction_constraints.json', 'r') as file:\n",
    "    interaction_constraints = json.load(file)\n",
    "\n",
    "print(interaction_constraints)\n",
    "\n",
    "# Load from file\n",
    "with open('../data/engineering/constraints/monotone_constraints_dict.json', 'r') as file:\n",
    "    monotone_constraints_dict = json.load(file)\n",
    "\n",
    "print(monotone_constraints_dict)"
   ]
  },
  {
   "cell_type": "code",
   "execution_count": 4,
   "metadata": {
    "scrolled": true
   },
   "outputs": [],
   "source": [
    "X_train = pd.read_csv('../data/engineering/X_train.csv')\n",
    "X_val = pd.read_csv('../data/engineering/X_val.csv')\n",
    "X_test = pd.read_csv('../data/engineering/X_test.csv')\n",
    "\n",
    "y_train = pd.read_csv('../data/engineering/y_train.csv')\n",
    "y_val = pd.read_csv('../data/engineering/y_val.csv')\n",
    "y_test = pd.read_csv('../data/engineering/y_test.csv')"
   ]
  },
  {
   "cell_type": "code",
   "execution_count": 5,
   "metadata": {},
   "outputs": [
    {
     "name": "stdout",
     "output_type": "stream",
     "text": [
      "X_train shape: (2432, 28)\n",
      "X_val shape: (608, 28)\n",
      "X_test shape: (3039, 28)\n",
      "y_train shape: (2432, 1)\n",
      "y_val shape: (608, 1)\n",
      "y_test shape: (3039, 1)\n"
     ]
    }
   ],
   "source": [
    "print(f'X_train shape: {X_train.shape}')\n",
    "print(f'X_val shape: {X_val.shape}')\n",
    "print(f'X_test shape: {X_test.shape}')\n",
    "\n",
    "print(f'y_train shape: {y_train.shape}')\n",
    "print(f'y_val shape: {y_val.shape}')\n",
    "print(f'y_test shape: {y_test.shape}')"
   ]
  },
  {
   "cell_type": "code",
   "execution_count": 6,
   "metadata": {
    "pycharm": {
     "name": "#%%\n"
    },
    "scrolled": true
   },
   "outputs": [
    {
     "name": "stdout",
     "output_type": "stream",
     "text": [
      "<class 'pandas.core.frame.DataFrame'>\n",
      "RangeIndex: 2432 entries, 0 to 2431\n",
      "Data columns (total 28 columns):\n",
      " #   Column                        Non-Null Count  Dtype  \n",
      "---  ------                        --------------  -----  \n",
      " 0   stage                         2432 non-null   float64\n",
      " 1   ewm_home_team_goals           2432 non-null   float64\n",
      " 2   ewm_away_team_goals           2432 non-null   float64\n",
      " 3   ewm_home_team_goals_conceded  2432 non-null   float64\n",
      " 4   ewm_away_team_goals_conceded  2432 non-null   float64\n",
      " 5   points_home                   2432 non-null   float64\n",
      " 6   points_away                   2432 non-null   float64\n",
      " 7   home_weighted_wins            2432 non-null   float64\n",
      " 8   away_weighted_wins            2432 non-null   float64\n",
      " 9   avg_home_team_rating          2432 non-null   float64\n",
      " 10  avg_away_team_rating          2432 non-null   float64\n",
      " 11  home_streak_wins              2432 non-null   float64\n",
      " 12  away_streak_wins              2432 non-null   float64\n",
      " 13  ewm_shoton_home               2432 non-null   float64\n",
      " 14  ewm_shoton_away               2432 non-null   float64\n",
      " 15  diff_player_1                 2432 non-null   float64\n",
      " 16  diff_player_2                 2432 non-null   float64\n",
      " 17  diff_player_3                 2432 non-null   float64\n",
      " 18  diff_player_4                 2432 non-null   float64\n",
      " 19  diff_player_5                 2432 non-null   float64\n",
      " 20  diff_player_6                 2432 non-null   float64\n",
      " 21  diff_player_7                 2432 non-null   float64\n",
      " 22  diff_player_8                 2432 non-null   float64\n",
      " 23  diff_player_9                 2432 non-null   float64\n",
      " 24  diff_player_10                2432 non-null   float64\n",
      " 25  diff_player_11                2432 non-null   float64\n",
      " 26  diff_avg_rating_attack        2432 non-null   float64\n",
      " 27  diff_avg_rating_defence       2432 non-null   float64\n",
      "dtypes: float64(28)\n",
      "memory usage: 532.1 KB\n"
     ]
    }
   ],
   "source": [
    "X_train.info()"
   ]
  },
  {
   "cell_type": "code",
   "execution_count": 7,
   "metadata": {
    "pycharm": {
     "name": "#%%\n"
    }
   },
   "outputs": [],
   "source": [
    "X_tst = X_test.loc[:600]\n",
    "y_tst = y_test[:600]"
   ]
  },
  {
   "cell_type": "code",
   "execution_count": 8,
   "metadata": {
    "pycharm": {
     "name": "#%%\n"
    }
   },
   "outputs": [
    {
     "name": "stdout",
     "output_type": "stream",
     "text": [
      "F1 score: 0.503520283476352\n",
      "Accuracy score: 0.5148026315789473\n"
     ]
    }
   ],
   "source": [
    "cfl = xgb.XGBClassifier(random_state=42, interaction_constraints=interaction_constraints, monotone_constraints=monotone_constraints_dict)\n",
    "\n",
    "cfl.fit(X_train, y_train)\n",
    "y_pred = cfl.predict(X_val)\n",
    "\n",
    "f1 = f1_score(y_val, y_pred, average='weighted')\n",
    "\n",
    "print(f'F1 score: {f1}')\n",
    "print(f'Accuracy score: {cfl.score(X_val, y_val)}')"
   ]
  },
  {
   "cell_type": "code",
   "execution_count": 9,
   "metadata": {
    "pycharm": {
     "name": "#%%\n"
    }
   },
   "outputs": [
    {
     "name": "stdout",
     "output_type": "stream",
     "text": [
      "F1 score: 0.4479649752474825\n",
      "Score: 0.524671052631579\n"
     ]
    }
   ],
   "source": [
    "# Let's try w/ depth of 2 and 2 trees\n",
    "cfl2 = xgb.XGBClassifier(max_depth=2, n_estimators=2, interaction_constraints=interaction_constraints, monotone_constraints=monotone_constraints_dict)\n",
    "\n",
    "cfl2.fit(X_train, y_train)\n",
    "y_pred = cfl2.predict(X_val)\n",
    "\n",
    "f1 = f1_score(y_val, y_pred, average='weighted')\n",
    "\n",
    "print(f'F1 score: {f1}')\n",
    "print(f'Score: {cfl2.score(X_val, y_val)}')"
   ]
  },
  {
   "cell_type": "code",
   "execution_count": 10,
   "metadata": {
    "pycharm": {
     "name": "#%%\n"
    },
    "scrolled": true
   },
   "outputs": [
    {
     "name": "stdout",
     "output_type": "stream",
     "text": [
      "F1 score: 0.46168091797269845\n",
      "Score: 0.53125\n"
     ]
    }
   ],
   "source": [
    "xg_1 = xgb.XGBClassifier(\n",
    "    early_stopping_rounds=30,\n",
    "    interaction_constraints=interaction_constraints, \n",
    "    monotone_constraints=monotone_constraints_dict\n",
    ")\n",
    "xg_1.fit(X_train, y_train,\n",
    "         eval_set=[(X_train, y_train), (X_val, y_val)],\n",
    "         verbose=0\n",
    "       )\n",
    "\n",
    "y_pred = xg_1.predict(X_val)\n",
    "\n",
    "f1 = f1_score(y_val, y_pred, average='weighted')\n",
    "\n",
    "print(f'F1 score: {f1}')\n",
    "print(f'Score: {xg_1.score(X_val, y_val)}')"
   ]
  },
  {
   "cell_type": "code",
   "execution_count": 11,
   "metadata": {
    "pycharm": {
     "name": "#%%\n"
    }
   },
   "outputs": [],
   "source": [
    "# One convention\n",
    "# is that hyperparameters that start with max_ will tend to complicate the model (and lead to\n",
    "# overfitting) when you raise the value. Conversely, they will simplify the model if you lower\n",
    "# them (and lead to underfitting). Often there is a sweet spot in between"
   ]
  },
  {
   "cell_type": "code",
   "execution_count": 12,
   "metadata": {
    "pycharm": {
     "name": "#%%\n"
    }
   },
   "outputs": [
    {
     "data": {
      "image/png": "[encoded data removed]",
      "text/plain": [
       "<Figure size 800x400 with 1 Axes>"
      ]
     },
     "metadata": {},
     "output_type": "display_data"
    },
    {
     "data": {
      "text/html": [
       "<style>#sk-container-id-1 {color: black;}#sk-container-id-1 pre{padding: 0;}#sk-container-id-1 div.sk-toggleable {background-color: white;}#sk-container-id-1 label.sk-toggleable__label {cursor: pointer;display: block;width: 100%;margin-bottom: 0;padding: 0.3em;box-sizing: border-box;text-align: center;}#sk-container-id-1 label.sk-toggleable__label-arrow:before {content: \"▸\";float: left;margin-right: 0.25em;color: #696969;}#sk-container-id-1 label.sk-toggleable__label-arrow:hover:before {color: black;}#sk-container-id-1 div.sk-estimator:hover label.sk-toggleable__label-arrow:before {color: black;}#sk-container-id-1 div.sk-toggleable__content {max-height: 0;max-width: 0;overflow: hidden;text-align: left;background-color: #f0f8ff;}#sk-container-id-1 div.sk-toggleable__content pre {margin: 0.2em;color: black;border-radius: 0.25em;background-color: #f0f8ff;}#sk-container-id-1 input.sk-toggleable__control:checked~div.sk-toggleable__content {max-height: 200px;max-width: 100%;overflow: auto;}#sk-container-id-1 input.sk-toggleable__control:checked~label.sk-toggleable__label-arrow:before {content: \"▾\";}#sk-container-id-1 div.sk-estimator input.sk-toggleable__control:checked~label.sk-toggleable__label {background-color: #d4ebff;}#sk-container-id-1 div.sk-label input.sk-toggleable__control:checked~label.sk-toggleable__label {background-color: #d4ebff;}#sk-container-id-1 input.sk-hidden--visually {border: 0;clip: rect(1px 1px 1px 1px);clip: rect(1px, 1px, 1px, 1px);height: 1px;margin: -1px;overflow: hidden;padding: 0;position: absolute;width: 1px;}#sk-container-id-1 div.sk-estimator {font-family: monospace;background-color: #f0f8ff;border: 1px dotted black;border-radius: 0.25em;box-sizing: border-box;margin-bottom: 0.5em;}#sk-container-id-1 div.sk-estimator:hover {background-color: #d4ebff;}#sk-container-id-1 div.sk-parallel-item::after {content: \"\";width: 100%;border-bottom: 1px solid gray;flex-grow: 1;}#sk-container-id-1 div.sk-label:hover label.sk-toggleable__label {background-color: #d4ebff;}#sk-container-id-1 div.sk-serial::before {content: \"\";position: absolute;border-left: 1px solid gray;box-sizing: border-box;top: 0;bottom: 0;left: 50%;z-index: 0;}#sk-container-id-1 div.sk-serial {display: flex;flex-direction: column;align-items: center;background-color: white;padding-right: 0.2em;padding-left: 0.2em;position: relative;}#sk-container-id-1 div.sk-item {position: relative;z-index: 1;}#sk-container-id-1 div.sk-parallel {display: flex;align-items: stretch;justify-content: center;background-color: white;position: relative;}#sk-container-id-1 div.sk-item::before, #sk-container-id-1 div.sk-parallel-item::before {content: \"\";position: absolute;border-left: 1px solid gray;box-sizing: border-box;top: 0;bottom: 0;left: 50%;z-index: -1;}#sk-container-id-1 div.sk-parallel-item {display: flex;flex-direction: column;z-index: 1;position: relative;background-color: white;}#sk-container-id-1 div.sk-parallel-item:first-child::after {align-self: flex-end;width: 50%;}#sk-container-id-1 div.sk-parallel-item:last-child::after {align-self: flex-start;width: 50%;}#sk-container-id-1 div.sk-parallel-item:only-child::after {width: 0;}#sk-container-id-1 div.sk-dashed-wrapped {border: 1px dashed gray;margin: 0 0.4em 0.5em 0.4em;box-sizing: border-box;padding-bottom: 0.4em;background-color: white;}#sk-container-id-1 div.sk-label label {font-family: monospace;font-weight: bold;display: inline-block;line-height: 1.2em;}#sk-container-id-1 div.sk-label-container {text-align: center;}#sk-container-id-1 div.sk-container {/* jupyter's `normalize.less` sets `[hidden] { display: none; }` but bootstrap.min.css set `[hidden] { display: none !important; }` so we also need the `!important` here to be able to override the default hidden behavior on the sphinx rendered scikit-learn.org. See: https://github.com/scikit-learn/scikit-learn/issues/21755 */display: inline-block !important;position: relative;}#sk-container-id-1 div.sk-text-repr-fallback {display: none;}</style><div id=\"sk-container-id-1\" class=\"sk-top-container\"><div class=\"sk-text-repr-fallback\"><pre>ValidationCurve(ax=&lt;Axes: title={&#x27;center&#x27;: &#x27;Validation Curve for XGBClassifier&#x27;}, xlabel=&#x27;learning_rate&#x27;, ylabel=&#x27;score&#x27;&gt;,\n",
       "                estimator=XGBClassifier(base_score=None, booster=None,\n",
       "                                        callbacks=None, colsample_bylevel=None,\n",
       "                                        colsample_bynode=None,\n",
       "                                        colsample_bytree=None, device=None,\n",
       "                                        early_stopping_rounds=None,\n",
       "                                        enable_categorical=False,\n",
       "                                        eval_metric=None, feature_types=None,...\n",
       "                                        max_delta_step=None, max_depth=None,\n",
       "                                        max_leaves=None, min_child_weight=None,\n",
       "                                        missing=nan,\n",
       "                                        monotone_constraints={&#x27;diff_avg_rating_attack&#x27;: 1,\n",
       "                                                              &#x27;home_streak_wins&#x27;: 1},\n",
       "                                        multi_strategy=None, n_estimators=None,\n",
       "                                        n_jobs=None, num_parallel_tree=None,\n",
       "                                        random_state=42, ...),\n",
       "                n_jobs=-1, param_name=&#x27;learning_rate&#x27;,\n",
       "                param_range=array([0.001, 0.005, 0.01 , 0.05 , 0.1  , 0.15 , 0.2  , 0.3  ]),\n",
       "                scoring=&#x27;f1_weighted&#x27;)</pre><b>In a Jupyter environment, please rerun this cell to show the HTML representation or trust the notebook. <br />On GitHub, the HTML representation is unable to render, please try loading this page with nbviewer.org.</b></div><div class=\"sk-container\" hidden><div class=\"sk-item sk-dashed-wrapped\"><div class=\"sk-label-container\"><div class=\"sk-label sk-toggleable\"><input class=\"sk-toggleable__control sk-hidden--visually\" id=\"sk-estimator-id-1\" type=\"checkbox\" ><label for=\"sk-estimator-id-1\" class=\"sk-toggleable__label sk-toggleable__label-arrow\">ValidationCurve</label><div class=\"sk-toggleable__content\"><pre>ValidationCurve(ax=&lt;Axes: title={&#x27;center&#x27;: &#x27;Validation Curve for XGBClassifier&#x27;}, xlabel=&#x27;learning_rate&#x27;, ylabel=&#x27;score&#x27;&gt;,\n",
       "                estimator=XGBClassifier(base_score=None, booster=None,\n",
       "                                        callbacks=None, colsample_bylevel=None,\n",
       "                                        colsample_bynode=None,\n",
       "                                        colsample_bytree=None, device=None,\n",
       "                                        early_stopping_rounds=None,\n",
       "                                        enable_categorical=False,\n",
       "                                        eval_metric=None, feature_types=None,...\n",
       "                                        max_delta_step=None, max_depth=None,\n",
       "                                        max_leaves=None, min_child_weight=None,\n",
       "                                        missing=nan,\n",
       "                                        monotone_constraints={&#x27;diff_avg_rating_attack&#x27;: 1,\n",
       "                                                              &#x27;home_streak_wins&#x27;: 1},\n",
       "                                        multi_strategy=None, n_estimators=None,\n",
       "                                        n_jobs=None, num_parallel_tree=None,\n",
       "                                        random_state=42, ...),\n",
       "                n_jobs=-1, param_name=&#x27;learning_rate&#x27;,\n",
       "                param_range=array([0.001, 0.005, 0.01 , 0.05 , 0.1  , 0.15 , 0.2  , 0.3  ]),\n",
       "                scoring=&#x27;f1_weighted&#x27;)</pre></div></div></div><div class=\"sk-parallel\"><div class=\"sk-parallel-item\"><div class=\"sk-item\"><div class=\"sk-label-container\"><div class=\"sk-label sk-toggleable\"><input class=\"sk-toggleable__control sk-hidden--visually\" id=\"sk-estimator-id-2\" type=\"checkbox\" ><label for=\"sk-estimator-id-2\" class=\"sk-toggleable__label sk-toggleable__label-arrow\">estimator: XGBClassifier</label><div class=\"sk-toggleable__content\"><pre>XGBClassifier(base_score=None, booster=None, callbacks=None,\n",
       "              colsample_bylevel=None, colsample_bynode=None,\n",
       "              colsample_bytree=None, device=None, early_stopping_rounds=None,\n",
       "              enable_categorical=False, eval_metric=None, feature_types=None,\n",
       "              gamma=None, grow_policy=None, importance_type=None,\n",
       "              interaction_constraints=[[&#x27;points_home&#x27;, &#x27;points_away&#x27;, &#x27;stage&#x27;,\n",
       "                                        &#x27;home_streak_wins&#x27;,\n",
       "                                        &#x27;away_streak_wins&#x27;]],\n",
       "              learning_rate=None, max_bin=None, max_cat_threshold=None,\n",
       "              max_cat_to_onehot=None, max_delta_step=None, max_depth=None,\n",
       "              max_leaves=None, min_child_weight=None, missing=nan,\n",
       "              monotone_constraints={&#x27;diff_avg_rating_attack&#x27;: 1,\n",
       "                                    &#x27;home_streak_wins&#x27;: 1},\n",
       "              multi_strategy=None, n_estimators=None, n_jobs=None,\n",
       "              num_parallel_tree=None, random_state=42, ...)</pre></div></div></div><div class=\"sk-serial\"><div class=\"sk-item\"><div class=\"sk-estimator sk-toggleable\"><input class=\"sk-toggleable__control sk-hidden--visually\" id=\"sk-estimator-id-3\" type=\"checkbox\" ><label for=\"sk-estimator-id-3\" class=\"sk-toggleable__label sk-toggleable__label-arrow\">XGBClassifier</label><div class=\"sk-toggleable__content\"><pre>XGBClassifier(base_score=None, booster=None, callbacks=None,\n",
       "              colsample_bylevel=None, colsample_bynode=None,\n",
       "              colsample_bytree=None, device=None, early_stopping_rounds=None,\n",
       "              enable_categorical=False, eval_metric=None, feature_types=None,\n",
       "              gamma=None, grow_policy=None, importance_type=None,\n",
       "              interaction_constraints=[[&#x27;points_home&#x27;, &#x27;points_away&#x27;, &#x27;stage&#x27;,\n",
       "                                        &#x27;home_streak_wins&#x27;,\n",
       "                                        &#x27;away_streak_wins&#x27;]],\n",
       "              learning_rate=None, max_bin=None, max_cat_threshold=None,\n",
       "              max_cat_to_onehot=None, max_delta_step=None, max_depth=None,\n",
       "              max_leaves=None, min_child_weight=None, missing=nan,\n",
       "              monotone_constraints={&#x27;diff_avg_rating_attack&#x27;: 1,\n",
       "                                    &#x27;home_streak_wins&#x27;: 1},\n",
       "              multi_strategy=None, n_estimators=None, n_jobs=None,\n",
       "              num_parallel_tree=None, random_state=42, ...)</pre></div></div></div></div></div></div></div></div></div></div>"
      ],
      "text/plain": [
       "ValidationCurve(ax=<Axes: title={'center': 'Validation Curve for XGBClassifier'}, xlabel='learning_rate', ylabel='score'>,\n",
       "                estimator=XGBClassifier(base_score=None, booster=None,\n",
       "                                        callbacks=None, colsample_bylevel=None,\n",
       "                                        colsample_bynode=None,\n",
       "                                        colsample_bytree=None, device=None,\n",
       "                                        early_stopping_rounds=None,\n",
       "                                        enable_categorical=False,\n",
       "                                        eval_metric=None, feature_types=None,...\n",
       "                                        max_delta_step=None, max_depth=None,\n",
       "                                        max_leaves=None, min_child_weight=None,\n",
       "                                        missing=nan,\n",
       "                                        monotone_constraints={'diff_avg_rating_attack': 1,\n",
       "                                                              'home_streak_wins': 1},\n",
       "                                        multi_strategy=None, n_estimators=None,\n",
       "                                        n_jobs=None, num_parallel_tree=None,\n",
       "                                        random_state=42, ...),\n",
       "                n_jobs=-1, param_name='learning_rate',\n",
       "                param_range=array([0.001, 0.005, 0.01 , 0.05 , 0.1  , 0.15 , 0.2  , 0.3  ]),\n",
       "                scoring='f1_weighted')"
      ]
     },
     "execution_count": 12,
     "metadata": {},
     "output_type": "execute_result"
    }
   ],
   "source": [
    "from yellowbrick import model_selection as ms\n",
    "\n",
    "fig, ax = plt.subplots(figsize=(8, 4))\n",
    "# ms.validation_curve(xgb.XGBClassifier(), X_train, y_train, param_name='gamma',\n",
    "#                     param_range=[0, .5, 1,5,10, 20, 30], n_jobs=-1, ax=ax, scoring=\"f1_weighted\")\n",
    "\n",
    "ms.validation_curve(xgb.XGBClassifier(random_state=42, interaction_constraints=interaction_constraints, monotone_constraints=monotone_constraints_dict), X_train, y_train, param_name='learning_rate',\n",
    "                    param_range=[0.001, 0.005, 0.01, 0.05, 0.1, 0.15, 0.2, 0.3], n_jobs=-1, ax=ax, scoring=\"f1_weighted\")\n",
    "\n",
    "# This validation curve poses two possibilities: first, \n",
    "# that we do not have the correct param_range to find the best k and need to expand our search to larger values. \n",
    "# The second is that other hyperparameters (such as uniform or distance based weighting, or even the distance metric)\n",
    "# may have more influence on the default model than k by itself does.\n",
    "# Although validation curves can give us some intuition about the performance of a model to a single hyperparameter, \n",
    "# grid search is required to understand the performance of a model with respect to multiple hyperparameters."
   ]
  },
  {
   "cell_type": "code",
   "execution_count": 18,
   "metadata": {
    "collapsed": false,
    "jupyter": {
     "outputs_hidden": false
    },
    "pycharm": {
     "name": "#%%\n"
    }
   },
   "outputs": [],
   "source": [
    "from hyperopt import fmin, tpe, hp, STATUS_OK, Trials\n",
    "from sklearn.metrics import accuracy_score, roc_auc_score, f1_score\n",
    "from typing import Any, Dict, Union\n",
    "\n",
    "\n",
    "def hyperparameter_tuning(space: Dict[str, Union[float, int]],\n",
    "                          X_train: pd.DataFrame, y_train: pd.Series,\n",
    "                          X_test: pd.DataFrame, y_test: pd.Series,\n",
    "                          early_stopping_rounds: int = 50,\n",
    "                          metric: callable = accuracy_score) -> Dict[str, Any]:\n",
    "    \"\"\"\n",
    "    Perform hyperparameter tuning for an XGBoost classifier.\n",
    "    \n",
    "    This function takes a dictionary of hyperparameters, training\n",
    "    and test data, and an optional value for early stopping rounds,\n",
    "    and returns a dictionary with the loss and model resulting from\n",
    "    the tuning process. The model is trained using the training\n",
    "    data and evaluated on the test data. The loss is computed as\n",
    "    the negative of the accuracy score.\n",
    "    Parameters\n",
    "    ----------\n",
    "    space : Dict[str, Union[float, int]]\n",
    "        A dictionary of hyperparameters for the XGBoost classifier.\n",
    "    X_train : pd.DataFrame\n",
    "        The training data.\n",
    "    y_train : pd.Series\n",
    "        The training target.\n",
    "    X_test : pd.DataFrame\n",
    "        The test data.\n",
    "    y_test : pd.Series\n",
    "        The test target.\n",
    "    early_stopping_rounds : int, optional\n",
    "        The number of early stopping rounds to use. The default value is 50.\n",
    "    metric : callable\n",
    "        Metric to maximize. Default is accuracy\n",
    "        Returns\n",
    "    -------\n",
    "    Dict[str, Any]\n",
    "        A dictionary with the loss and model resulting from the\n",
    "        tuning process. The loss is a float, and the model is an\n",
    "        XGBoost classifier.\n",
    "    \"\"\"\n",
    "\n",
    "    int_vals = ['max_depth']\n",
    "    space = {k: (int(val) if k in int_vals else val)\n",
    "             for k, val in space.items()}\n",
    "    # space['early_stopping_rounds'] = early_stopping_rounds\n",
    "    model = xgb.XGBClassifier(**space, interaction_constraints=interaction_constraints, monotone_constraints=monotone_constraints_dict)\n",
    "    evaluation = [(X_train, y_train), (X_test, y_test)]\n",
    "    model.fit(X_train, y_train, eval_set=evaluation, verbose=False)\n",
    "    pred = model.predict(X_test)\n",
    "    score = metric(y_test, pred, average='weighted').round(3)\n",
    "    return {'loss': 1-score, 'status': STATUS_OK, 'model': model}\n"
   ]
  },
  {
   "cell_type": "code",
   "execution_count": 19,
   "metadata": {
    "collapsed": false,
    "jupyter": {
     "outputs_hidden": false
    },
    "pycharm": {
     "name": "#%%\n"
    },
    "scrolled": true
   },
   "outputs": [
    {
     "data": {
      "text/plain": [
       "(array([ 967.,  910., 1063.,  920., 1036., 1040., 1007., 1001., 1004.,\n",
       "        1052.]),\n",
       " array([2.00040556, 2.80028638, 3.6001672 , 4.40004802, 5.19992884,\n",
       "        5.99980966, 6.79969048, 7.5995713 , 8.39945212, 9.19933294,\n",
       "        9.99921376]),\n",
       " <BarContainer object of 10 artists>)"
      ]
     },
     "execution_count": 19,
     "metadata": {},
     "output_type": "execute_result"
    },
    {
     "data": {
      "image/png": "[encoded data removed]",
      "text/plain": [
       "<Figure size 800x400 with 1 Axes>"
      ]
     },
     "metadata": {},
     "output_type": "display_data"
    }
   ],
   "source": [
    "from hyperopt import hp, pyll\n",
    "# hp.loguniform('min_child_weight', -1, 3)\n",
    "uniform_vals = [pyll.stochastic.sample(hp.uniform('value', 2, 10))\n",
    "                for _ in range(10_000)]\n",
    "fig, ax = plt.subplots(figsize=(8, 4))\n",
    "ax.hist(uniform_vals)"
   ]
  },
  {
   "cell_type": "code",
   "execution_count": 20,
   "metadata": {
    "collapsed": false,
    "jupyter": {
     "outputs_hidden": false
    },
    "pycharm": {
     "name": "#%%\n"
    }
   },
   "outputs": [
    {
     "name": "stdout",
     "output_type": "stream",
     "text": [
      "100%|██████████| 300/300 [26:41<00:00,  5.34s/trial, best loss: 0.498]\n",
      "Best Hyperparameters: {'colsample_bytree': 0.9114465369377368, 'eta': 0.16147449496040192, 'gamma': 2.080778696764677, 'max_depth': 2, 'min_child_weight': 4.013207693370999, 'n_estimators': 3, 'reg_alpha': 0.12925089382194327, 'reg_lambda': 2.7044947662745638, 'subsample': 0.6238518201997677}\n"
     ]
    }
   ],
   "source": [
    "options_learning_rate = {\n",
    "    'learning_rate': hp.loguniform('learning_rate', -5, 0)\n",
    "    # Best Hyperparameters: {'learning_rate': 0.1640487517918771}\n",
    "}\n",
    "\n",
    "options = {\n",
    "    'eta': hp.uniform('eta', 0.01, 0.3),  # Default is 0.3, so we search around it\n",
    "    'max_depth': hp.choice('max_depth', [3, 4, 5, 6, 7]),  # Default is 6, so we stay close\n",
    "    'min_child_weight': hp.uniform('min_child_weight', 1, 10),  # Default is 1, we allow it to go up\n",
    "    'gamma': hp.uniform('gamma', 0, 5),  # Default is 0, but we explore a range up to 5\n",
    "    'subsample': hp.uniform('subsample', 0.5, 1.0),  # Default is 1, we explore down to 0.5\n",
    "    'colsample_bytree': hp.uniform('colsample_bytree', 0.5, 1.0),  # Default is 1, we explore down to 0.5\n",
    "    'reg_alpha': hp.uniform('reg_alpha', 0, 1),  # Default is 0, exploring up to 1 for L1 regularization\n",
    "    'reg_lambda': hp.uniform('reg_lambda', 1, 3),  # Default is 1, exploring up to 3 for L2 regularization\n",
    "    'n_estimators': hp.choice('n_estimators', [100, 150, 200, 300, 400])  # Default is 100, exploring up to 400\n",
    "}\n",
    "\n",
    "\n",
    "trials = Trials()\n",
    "\n",
    "best = fmin(fn=lambda space: hyperparameter_tuning(space, X_train, y_train, X_val, y_val, 20, f1_score), space=options,\n",
    "            algo=tpe.suggest,\n",
    "            max_evals=300, \n",
    "            trials=trials)\n",
    "\n",
    "print(\"Best Hyperparameters:\", best)"
   ]
  },
  {
   "cell_type": "code",
   "execution_count": null,
   "metadata": {},
   "outputs": [],
   "source": [
    "300/300 [07:58<00:00,  1.60s/trial, best loss: 0.497]           \n",
    "Best Hyperparameters: {'colsample_bytree': 0.556163857931663, 'eta': 0.20561726183794185, 'gamma': 3.0850092179234103, 'max_depth': 3, 'min_child_weight': 7.321877129585404, 'n_estimators': 3, 'reg_alpha': 0.6852638854655516, 'reg_lambda': 2.95358359982023, 'subsample': 0.5788833838654643}"
   ]
  },
  {
   "cell_type": "code",
   "execution_count": null,
   "metadata": {},
   "outputs": [],
   "source": [
    "100%|██████████| 300/300 [26:41<00:00,  5.34s/trial, best loss: 0.498]\n",
    "Best Hyperparameters: {'colsample_bytree': 0.9114465369377368, 'eta': 0.16147449496040192, 'gamma': 2.080778696764677, 'max_depth': 2, 'min_child_weight': 4.013207693370999, 'n_estimators': 3, 'reg_alpha': 0.12925089382194327, 'reg_lambda': 2.7044947662745638, 'subsample': 0.6238518201997677}"
   ]
  },
  {
   "cell_type": "code",
   "execution_count": 17,
   "metadata": {},
   "outputs": [],
   "source": [
    "hyper2hr = trial2df(trials)"
   ]
  },
  {
   "cell_type": "code",
   "execution_count": 18,
   "metadata": {},
   "outputs": [
    {
     "data": {
      "text/html": [
       "<div>\n",
       "<style scoped>\n",
       "    .dataframe tbody tr th:only-of-type {\n",
       "        vertical-align: middle;\n",
       "    }\n",
       "\n",
       "    .dataframe tbody tr th {\n",
       "        vertical-align: top;\n",
       "    }\n",
       "\n",
       "    .dataframe thead th {\n",
       "        text-align: right;\n",
       "    }\n",
       "</style>\n",
       "<table border=\"1\" class=\"dataframe\">\n",
       "  <thead>\n",
       "    <tr style=\"text-align: right;\">\n",
       "      <th></th>\n",
       "      <th>learning_rate</th>\n",
       "      <th>loss</th>\n",
       "      <th>tid</th>\n",
       "    </tr>\n",
       "  </thead>\n",
       "  <tbody>\n",
       "    <tr>\n",
       "      <th>0</th>\n",
       "      <td>0.154148</td>\n",
       "      <td>0.549</td>\n",
       "      <td>0</td>\n",
       "    </tr>\n",
       "    <tr>\n",
       "      <th>1</th>\n",
       "      <td>0.164327</td>\n",
       "      <td>0.546</td>\n",
       "      <td>1</td>\n",
       "    </tr>\n",
       "    <tr>\n",
       "      <th>2</th>\n",
       "      <td>0.053528</td>\n",
       "      <td>0.552</td>\n",
       "      <td>2</td>\n",
       "    </tr>\n",
       "    <tr>\n",
       "      <th>3</th>\n",
       "      <td>0.072665</td>\n",
       "      <td>0.553</td>\n",
       "      <td>3</td>\n",
       "    </tr>\n",
       "    <tr>\n",
       "      <th>4</th>\n",
       "      <td>0.506297</td>\n",
       "      <td>0.541</td>\n",
       "      <td>4</td>\n",
       "    </tr>\n",
       "    <tr>\n",
       "      <th>...</th>\n",
       "      <td>...</td>\n",
       "      <td>...</td>\n",
       "      <td>...</td>\n",
       "    </tr>\n",
       "    <tr>\n",
       "      <th>295</th>\n",
       "      <td>0.920591</td>\n",
       "      <td>0.549</td>\n",
       "      <td>295</td>\n",
       "    </tr>\n",
       "    <tr>\n",
       "      <th>296</th>\n",
       "      <td>0.337281</td>\n",
       "      <td>0.549</td>\n",
       "      <td>296</td>\n",
       "    </tr>\n",
       "    <tr>\n",
       "      <th>297</th>\n",
       "      <td>0.744573</td>\n",
       "      <td>0.546</td>\n",
       "      <td>297</td>\n",
       "    </tr>\n",
       "    <tr>\n",
       "      <th>298</th>\n",
       "      <td>0.984027</td>\n",
       "      <td>0.543</td>\n",
       "      <td>298</td>\n",
       "    </tr>\n",
       "    <tr>\n",
       "      <th>299</th>\n",
       "      <td>0.030324</td>\n",
       "      <td>0.559</td>\n",
       "      <td>299</td>\n",
       "    </tr>\n",
       "  </tbody>\n",
       "</table>\n",
       "<p>300 rows × 3 columns</p>\n",
       "</div>"
      ],
      "text/plain": [
       "     learning_rate   loss  tid\n",
       "0         0.154148  0.549    0\n",
       "1         0.164327  0.546    1\n",
       "2         0.053528  0.552    2\n",
       "3         0.072665  0.553    3\n",
       "4         0.506297  0.541    4\n",
       "..             ...    ...  ...\n",
       "295       0.920591  0.549  295\n",
       "296       0.337281  0.549  296\n",
       "297       0.744573  0.546  297\n",
       "298       0.984027  0.543  298\n",
       "299       0.030324  0.559  299\n",
       "\n",
       "[300 rows x 3 columns]"
      ]
     },
     "execution_count": 18,
     "metadata": {},
     "output_type": "execute_result"
    }
   ],
   "source": [
    "hyper2hr"
   ]
  },
  {
   "cell_type": "code",
   "execution_count": 19,
   "metadata": {},
   "outputs": [
    {
     "data": {
      "text/html": [
       "<style type=\"text/css\">\n",
       "#T_5a76f_row0_col0, #T_5a76f_row1_col1, #T_5a76f_row2_col2 {\n",
       "  background-color: #053061;\n",
       "  color: #f1f1f1;\n",
       "}\n",
       "#T_5a76f_row0_col1, #T_5a76f_row1_col0 {\n",
       "  background-color: #e8896c;\n",
       "  color: #f1f1f1;\n",
       "}\n",
       "#T_5a76f_row0_col2, #T_5a76f_row2_col0 {\n",
       "  background-color: #9dcbe1;\n",
       "  color: #000000;\n",
       "}\n",
       "#T_5a76f_row1_col2, #T_5a76f_row2_col1 {\n",
       "  background-color: #fcd7c2;\n",
       "  color: #000000;\n",
       "}\n",
       "</style>\n",
       "<table id=\"T_5a76f\">\n",
       "  <thead>\n",
       "    <tr>\n",
       "      <th class=\"blank level0\" >&nbsp;</th>\n",
       "      <th id=\"T_5a76f_level0_col0\" class=\"col_heading level0 col0\" >learning_rate</th>\n",
       "      <th id=\"T_5a76f_level0_col1\" class=\"col_heading level0 col1\" >loss</th>\n",
       "      <th id=\"T_5a76f_level0_col2\" class=\"col_heading level0 col2\" >tid</th>\n",
       "    </tr>\n",
       "  </thead>\n",
       "  <tbody>\n",
       "    <tr>\n",
       "      <th id=\"T_5a76f_level0_row0\" class=\"row_heading level0 row0\" >learning_rate</th>\n",
       "      <td id=\"T_5a76f_row0_col0\" class=\"data row0 col0\" >1.000000</td>\n",
       "      <td id=\"T_5a76f_row0_col1\" class=\"data row0 col1\" >-0.479609</td>\n",
       "      <td id=\"T_5a76f_row0_col2\" class=\"data row0 col2\" >0.363266</td>\n",
       "    </tr>\n",
       "    <tr>\n",
       "      <th id=\"T_5a76f_level0_row1\" class=\"row_heading level0 row1\" >loss</th>\n",
       "      <td id=\"T_5a76f_row1_col0\" class=\"data row1 col0\" >-0.479609</td>\n",
       "      <td id=\"T_5a76f_row1_col1\" class=\"data row1 col1\" >1.000000</td>\n",
       "      <td id=\"T_5a76f_row1_col2\" class=\"data row1 col2\" >-0.212700</td>\n",
       "    </tr>\n",
       "    <tr>\n",
       "      <th id=\"T_5a76f_level0_row2\" class=\"row_heading level0 row2\" >tid</th>\n",
       "      <td id=\"T_5a76f_row2_col0\" class=\"data row2 col0\" >0.363266</td>\n",
       "      <td id=\"T_5a76f_row2_col1\" class=\"data row2 col1\" >-0.212700</td>\n",
       "      <td id=\"T_5a76f_row2_col2\" class=\"data row2 col2\" >1.000000</td>\n",
       "    </tr>\n",
       "  </tbody>\n",
       "</table>\n"
      ],
      "text/plain": [
       "<pandas.io.formats.style.Styler at 0x1ec09f57970>"
      ]
     },
     "execution_count": 19,
     "metadata": {},
     "output_type": "execute_result"
    }
   ],
   "source": [
    "import seaborn as sns\n",
    "# fig, ax = plt.subplots(figsize=(8, 4))\n",
    "# sns.heatmap(hyper2hr.corr(method='pearson'),\n",
    "#             cmap='RdBu', annot=True, fmt='.2f', vmin=-1, vmax=1, ax=ax\n",
    "#            )\n",
    "\n",
    "(hyper2hr\n",
    " .corr(method='pearson')\n",
    " .style\n",
    " .background_gradient(cmap='RdBu', vmin=-1, vmax=1)\n",
    ")"
   ]
  },
  {
   "cell_type": "code",
   "execution_count": 44,
   "metadata": {},
   "outputs": [],
   "source": [
    "params = {'random_state': 42}\n",
    "rounds = [\n",
    "        # Group 0: Tree complexity parameters\n",
    "    {\n",
    "        'gamma': hp.uniform('gamma', 5, 7.5),\n",
    "        'min_child_weight': hp.uniform('min_child_weight', 2, 10),\n",
    "        'colsample_bytree': hp.uniform('colsample_bytree', 0.75, 0.8),\n",
    "        'subsample': hp.uniform('subsample', 0.6, 0.95),\n",
    "        'reg_alpha': hp.uniform('reg_alpha', 2.5, 3.1),\n",
    "        'reg_lambda': hp.uniform('reg_lambda', 2.5, 5),\n",
    "        'eta': hp.loguniform('eta', np.log(0.001), np.log(0.05)),\n",
    "        'max_depth': hp.choice('max_depth', np.arange(3, 10, dtype=int)),\n",
    "        'n_estimators': hp.choice('n_estimators', np.arange(100, 401, 50))\n",
    "        \n",
    "    },\n",
    "    \n",
    "    # Group 4: Boosting parameter\n",
    "    {'min_child_weight':hp.quniform('min_child_weight', 0, 10, 1),\n",
    "     'reg_lambda': hp.uniform('reg_lambda', 4, 10),\n",
    "     'reg_alpha': hp.uniform('reg_alpha', 0.25, 0.8),\n",
    "     'eta':hp.uniform('eta',0.001,0.35),\n",
    "     'max_depth': hp.choice('max_depth', np.arange(3, 10, dtype=int)),\n",
    "     'n_estimators': hp.choice('n_estimators', np.arange(100, 401, 50))\n",
    "    },\n",
    "]"
   ]
  },
  {
   "cell_type": "code",
   "execution_count": 45,
   "metadata": {},
   "outputs": [
    {
     "name": "stdout",
     "output_type": "stream",
     "text": [
      "100%|██████████| 3000/3000 [2:18:03<00:00,  2.76s/trial, best loss: -0.469]  \n",
      "100%|██████████| 3000/3000 [40:39<00:00,  1.23trial/s, best loss: -0.475]  \n"
     ]
    }
   ],
   "source": [
    "all_trials = []\n",
    "for round in rounds:\n",
    "    params = {**params, **round}\n",
    "    trials = Trials()\n",
    "    best = fmin(fn=lambda space: hyperparameter_tuning(space, X_train, y_train, X_val, y_val, 120, f1_score), \n",
    "                space=params,\n",
    "                algo=tpe.suggest,\n",
    "                max_evals=150,\n",
    "                trials=trials,\n",
    "                )\n",
    "    params = {**params, **best}\n",
    "    all_trials.append(trials)"
   ]
  },
  {
   "cell_type": "code",
   "execution_count": 54,
   "metadata": {
    "scrolled": true
   },
   "outputs": [
    {
     "data": {
      "text/html": [
       "<div>\n",
       "<style scoped>\n",
       "    .dataframe tbody tr th:only-of-type {\n",
       "        vertical-align: middle;\n",
       "    }\n",
       "\n",
       "    .dataframe tbody tr th {\n",
       "        vertical-align: top;\n",
       "    }\n",
       "\n",
       "    .dataframe thead th {\n",
       "        text-align: right;\n",
       "    }\n",
       "</style>\n",
       "<table border=\"1\" class=\"dataframe\">\n",
       "  <thead>\n",
       "    <tr style=\"text-align: right;\">\n",
       "      <th></th>\n",
       "      <th>eta</th>\n",
       "      <th>max_depth</th>\n",
       "      <th>min_child_weight</th>\n",
       "      <th>n_estimators</th>\n",
       "      <th>reg_alpha</th>\n",
       "      <th>reg_lambda</th>\n",
       "      <th>loss</th>\n",
       "      <th>tid</th>\n",
       "    </tr>\n",
       "  </thead>\n",
       "  <tbody>\n",
       "    <tr>\n",
       "      <th>1756</th>\n",
       "      <td>0.281610</td>\n",
       "      <td>5</td>\n",
       "      <td>8.0</td>\n",
       "      <td>6</td>\n",
       "      <td>0.503087</td>\n",
       "      <td>6.659802</td>\n",
       "      <td>-0.475</td>\n",
       "      <td>1756</td>\n",
       "    </tr>\n",
       "    <tr>\n",
       "      <th>2493</th>\n",
       "      <td>0.281409</td>\n",
       "      <td>3</td>\n",
       "      <td>8.0</td>\n",
       "      <td>4</td>\n",
       "      <td>0.554510</td>\n",
       "      <td>6.430027</td>\n",
       "      <td>-0.475</td>\n",
       "      <td>2493</td>\n",
       "    </tr>\n",
       "    <tr>\n",
       "      <th>2742</th>\n",
       "      <td>0.280661</td>\n",
       "      <td>5</td>\n",
       "      <td>7.0</td>\n",
       "      <td>4</td>\n",
       "      <td>0.618313</td>\n",
       "      <td>6.605804</td>\n",
       "      <td>-0.475</td>\n",
       "      <td>2742</td>\n",
       "    </tr>\n",
       "    <tr>\n",
       "      <th>1119</th>\n",
       "      <td>0.280888</td>\n",
       "      <td>6</td>\n",
       "      <td>7.0</td>\n",
       "      <td>4</td>\n",
       "      <td>0.566367</td>\n",
       "      <td>6.698345</td>\n",
       "      <td>-0.475</td>\n",
       "      <td>1119</td>\n",
       "    </tr>\n",
       "    <tr>\n",
       "      <th>2544</th>\n",
       "      <td>0.281390</td>\n",
       "      <td>3</td>\n",
       "      <td>8.0</td>\n",
       "      <td>5</td>\n",
       "      <td>0.539164</td>\n",
       "      <td>6.574923</td>\n",
       "      <td>-0.475</td>\n",
       "      <td>2544</td>\n",
       "    </tr>\n",
       "    <tr>\n",
       "      <th>2734</th>\n",
       "      <td>0.280833</td>\n",
       "      <td>5</td>\n",
       "      <td>7.0</td>\n",
       "      <td>4</td>\n",
       "      <td>0.620104</td>\n",
       "      <td>6.586526</td>\n",
       "      <td>-0.475</td>\n",
       "      <td>2734</td>\n",
       "    </tr>\n",
       "    <tr>\n",
       "      <th>1477</th>\n",
       "      <td>0.281588</td>\n",
       "      <td>1</td>\n",
       "      <td>7.0</td>\n",
       "      <td>6</td>\n",
       "      <td>0.503753</td>\n",
       "      <td>6.573440</td>\n",
       "      <td>-0.475</td>\n",
       "      <td>1477</td>\n",
       "    </tr>\n",
       "    <tr>\n",
       "      <th>2754</th>\n",
       "      <td>0.281705</td>\n",
       "      <td>5</td>\n",
       "      <td>7.0</td>\n",
       "      <td>4</td>\n",
       "      <td>0.619773</td>\n",
       "      <td>6.682221</td>\n",
       "      <td>-0.475</td>\n",
       "      <td>2754</td>\n",
       "    </tr>\n",
       "    <tr>\n",
       "      <th>2787</th>\n",
       "      <td>0.281071</td>\n",
       "      <td>5</td>\n",
       "      <td>7.0</td>\n",
       "      <td>4</td>\n",
       "      <td>0.636961</td>\n",
       "      <td>6.815008</td>\n",
       "      <td>-0.475</td>\n",
       "      <td>2787</td>\n",
       "    </tr>\n",
       "    <tr>\n",
       "      <th>2008</th>\n",
       "      <td>0.281103</td>\n",
       "      <td>6</td>\n",
       "      <td>7.0</td>\n",
       "      <td>4</td>\n",
       "      <td>0.622525</td>\n",
       "      <td>6.820363</td>\n",
       "      <td>-0.475</td>\n",
       "      <td>2008</td>\n",
       "    </tr>\n",
       "  </tbody>\n",
       "</table>\n",
       "</div>"
      ],
      "text/plain": [
       "           eta  max_depth  min_child_weight  n_estimators  reg_alpha  \\\n",
       "1756  0.281610          5               8.0             6   0.503087   \n",
       "2493  0.281409          3               8.0             4   0.554510   \n",
       "2742  0.280661          5               7.0             4   0.618313   \n",
       "1119  0.280888          6               7.0             4   0.566367   \n",
       "2544  0.281390          3               8.0             5   0.539164   \n",
       "2734  0.280833          5               7.0             4   0.620104   \n",
       "1477  0.281588          1               7.0             6   0.503753   \n",
       "2754  0.281705          5               7.0             4   0.619773   \n",
       "2787  0.281071          5               7.0             4   0.636961   \n",
       "2008  0.281103          6               7.0             4   0.622525   \n",
       "\n",
       "      reg_lambda   loss   tid  \n",
       "1756    6.659802 -0.475  1756  \n",
       "2493    6.430027 -0.475  2493  \n",
       "2742    6.605804 -0.475  2742  \n",
       "1119    6.698345 -0.475  1119  \n",
       "2544    6.574923 -0.475  2544  \n",
       "2734    6.586526 -0.475  2734  \n",
       "1477    6.573440 -0.475  1477  \n",
       "2754    6.682221 -0.475  2754  \n",
       "2787    6.815008 -0.475  2787  \n",
       "2008    6.820363 -0.475  2008  "
      ]
     },
     "execution_count": 54,
     "metadata": {},
     "output_type": "execute_result"
    }
   ],
   "source": [
    "trial2df(all_trials[1]).sort_values(by='loss', ascending=True).head(10)"
   ]
  },
  {
   "cell_type": "code",
   "execution_count": 55,
   "metadata": {},
   "outputs": [
    {
     "data": {
      "text/html": [
       "<div>\n",
       "<style scoped>\n",
       "    .dataframe tbody tr th:only-of-type {\n",
       "        vertical-align: middle;\n",
       "    }\n",
       "\n",
       "    .dataframe tbody tr th {\n",
       "        vertical-align: top;\n",
       "    }\n",
       "\n",
       "    .dataframe thead th {\n",
       "        text-align: right;\n",
       "    }\n",
       "</style>\n",
       "<table border=\"1\" class=\"dataframe\">\n",
       "  <thead>\n",
       "    <tr style=\"text-align: right;\">\n",
       "      <th></th>\n",
       "      <th>colsample_bytree</th>\n",
       "      <th>eta</th>\n",
       "      <th>gamma</th>\n",
       "      <th>max_depth</th>\n",
       "      <th>min_child_weight</th>\n",
       "      <th>n_estimators</th>\n",
       "      <th>reg_alpha</th>\n",
       "      <th>reg_lambda</th>\n",
       "      <th>subsample</th>\n",
       "      <th>loss</th>\n",
       "      <th>tid</th>\n",
       "    </tr>\n",
       "  </thead>\n",
       "  <tbody>\n",
       "    <tr>\n",
       "      <th>2714</th>\n",
       "      <td>0.792708</td>\n",
       "      <td>0.049856</td>\n",
       "      <td>5.080196</td>\n",
       "      <td>3</td>\n",
       "      <td>7.305041</td>\n",
       "      <td>6</td>\n",
       "      <td>2.692825</td>\n",
       "      <td>4.807767</td>\n",
       "      <td>0.740603</td>\n",
       "      <td>-0.469</td>\n",
       "      <td>2714</td>\n",
       "    </tr>\n",
       "    <tr>\n",
       "      <th>1299</th>\n",
       "      <td>0.786787</td>\n",
       "      <td>0.049719</td>\n",
       "      <td>5.040218</td>\n",
       "      <td>3</td>\n",
       "      <td>7.015879</td>\n",
       "      <td>6</td>\n",
       "      <td>2.814867</td>\n",
       "      <td>3.626806</td>\n",
       "      <td>0.734030</td>\n",
       "      <td>-0.468</td>\n",
       "      <td>1299</td>\n",
       "    </tr>\n",
       "    <tr>\n",
       "      <th>2421</th>\n",
       "      <td>0.788652</td>\n",
       "      <td>0.049820</td>\n",
       "      <td>5.046467</td>\n",
       "      <td>3</td>\n",
       "      <td>7.103765</td>\n",
       "      <td>6</td>\n",
       "      <td>2.710298</td>\n",
       "      <td>4.566820</td>\n",
       "      <td>0.740694</td>\n",
       "      <td>-0.468</td>\n",
       "      <td>2421</td>\n",
       "    </tr>\n",
       "    <tr>\n",
       "      <th>2706</th>\n",
       "      <td>0.790571</td>\n",
       "      <td>0.049992</td>\n",
       "      <td>5.089498</td>\n",
       "      <td>3</td>\n",
       "      <td>7.090604</td>\n",
       "      <td>6</td>\n",
       "      <td>2.712268</td>\n",
       "      <td>4.755041</td>\n",
       "      <td>0.739311</td>\n",
       "      <td>-0.468</td>\n",
       "      <td>2706</td>\n",
       "    </tr>\n",
       "    <tr>\n",
       "      <th>2307</th>\n",
       "      <td>0.786837</td>\n",
       "      <td>0.049792</td>\n",
       "      <td>5.003934</td>\n",
       "      <td>3</td>\n",
       "      <td>7.077635</td>\n",
       "      <td>6</td>\n",
       "      <td>2.763858</td>\n",
       "      <td>4.774087</td>\n",
       "      <td>0.742385</td>\n",
       "      <td>-0.468</td>\n",
       "      <td>2307</td>\n",
       "    </tr>\n",
       "    <tr>\n",
       "      <th>2580</th>\n",
       "      <td>0.792624</td>\n",
       "      <td>0.049934</td>\n",
       "      <td>5.095664</td>\n",
       "      <td>3</td>\n",
       "      <td>7.205648</td>\n",
       "      <td>6</td>\n",
       "      <td>2.791328</td>\n",
       "      <td>4.799587</td>\n",
       "      <td>0.741191</td>\n",
       "      <td>-0.467</td>\n",
       "      <td>2580</td>\n",
       "    </tr>\n",
       "    <tr>\n",
       "      <th>2856</th>\n",
       "      <td>0.786807</td>\n",
       "      <td>0.049697</td>\n",
       "      <td>5.139260</td>\n",
       "      <td>4</td>\n",
       "      <td>6.435072</td>\n",
       "      <td>6</td>\n",
       "      <td>2.727435</td>\n",
       "      <td>4.662000</td>\n",
       "      <td>0.737454</td>\n",
       "      <td>-0.467</td>\n",
       "      <td>2856</td>\n",
       "    </tr>\n",
       "    <tr>\n",
       "      <th>2183</th>\n",
       "      <td>0.788303</td>\n",
       "      <td>0.049896</td>\n",
       "      <td>5.096740</td>\n",
       "      <td>3</td>\n",
       "      <td>6.835829</td>\n",
       "      <td>6</td>\n",
       "      <td>2.799354</td>\n",
       "      <td>4.958475</td>\n",
       "      <td>0.741550</td>\n",
       "      <td>-0.467</td>\n",
       "      <td>2183</td>\n",
       "    </tr>\n",
       "    <tr>\n",
       "      <th>2841</th>\n",
       "      <td>0.789165</td>\n",
       "      <td>0.049673</td>\n",
       "      <td>5.081890</td>\n",
       "      <td>3</td>\n",
       "      <td>6.455899</td>\n",
       "      <td>6</td>\n",
       "      <td>2.751901</td>\n",
       "      <td>4.817656</td>\n",
       "      <td>0.739766</td>\n",
       "      <td>-0.467</td>\n",
       "      <td>2841</td>\n",
       "    </tr>\n",
       "    <tr>\n",
       "      <th>2318</th>\n",
       "      <td>0.786370</td>\n",
       "      <td>0.049815</td>\n",
       "      <td>5.041711</td>\n",
       "      <td>3</td>\n",
       "      <td>7.172593</td>\n",
       "      <td>6</td>\n",
       "      <td>2.728805</td>\n",
       "      <td>4.614054</td>\n",
       "      <td>0.741569</td>\n",
       "      <td>-0.467</td>\n",
       "      <td>2318</td>\n",
       "    </tr>\n",
       "  </tbody>\n",
       "</table>\n",
       "</div>"
      ],
      "text/plain": [
       "      colsample_bytree       eta     gamma  max_depth  min_child_weight  \\\n",
       "2714          0.792708  0.049856  5.080196          3          7.305041   \n",
       "1299          0.786787  0.049719  5.040218          3          7.015879   \n",
       "2421          0.788652  0.049820  5.046467          3          7.103765   \n",
       "2706          0.790571  0.049992  5.089498          3          7.090604   \n",
       "2307          0.786837  0.049792  5.003934          3          7.077635   \n",
       "2580          0.792624  0.049934  5.095664          3          7.205648   \n",
       "2856          0.786807  0.049697  5.139260          4          6.435072   \n",
       "2183          0.788303  0.049896  5.096740          3          6.835829   \n",
       "2841          0.789165  0.049673  5.081890          3          6.455899   \n",
       "2318          0.786370  0.049815  5.041711          3          7.172593   \n",
       "\n",
       "      n_estimators  reg_alpha  reg_lambda  subsample   loss   tid  \n",
       "2714             6   2.692825    4.807767   0.740603 -0.469  2714  \n",
       "1299             6   2.814867    3.626806   0.734030 -0.468  1299  \n",
       "2421             6   2.710298    4.566820   0.740694 -0.468  2421  \n",
       "2706             6   2.712268    4.755041   0.739311 -0.468  2706  \n",
       "2307             6   2.763858    4.774087   0.742385 -0.468  2307  \n",
       "2580             6   2.791328    4.799587   0.741191 -0.467  2580  \n",
       "2856             6   2.727435    4.662000   0.737454 -0.467  2856  \n",
       "2183             6   2.799354    4.958475   0.741550 -0.467  2183  \n",
       "2841             6   2.751901    4.817656   0.739766 -0.467  2841  \n",
       "2318             6   2.728805    4.614054   0.741569 -0.467  2318  "
      ]
     },
     "execution_count": 55,
     "metadata": {},
     "output_type": "execute_result"
    }
   ],
   "source": [
    "trial2df(all_trials[0]).sort_values(by='loss', ascending=True).head(10)"
   ]
  },
  {
   "cell_type": "code",
   "execution_count": 57,
   "metadata": {},
   "outputs": [],
   "source": [
    "space_1 = {\n",
    "    'eta': 0.281610,\n",
    "    'max_depth': 5,\n",
    "    'min_child_weight': 8.0,\n",
    "    'n_estimators': 350,\n",
    "    'reg_alpha': 0.503,\n",
    "    'reg_lambda': 6.65\n",
    "}\n",
    "\n",
    "space_2 = {\n",
    "    'eta': 0.0049,\n",
    "    'max_depth': 3,\n",
    "    'min_child_weight': 7.305,\n",
    "    'n_estimators': 100, # 350\n",
    "    'reg_alpha': 2.692, # 2.78\n",
    "    'reg_lambda': 4.4807, # 4.97\n",
    "    'subsample': 0.74,\n",
    "    'colsample_bytree': 0.792,\n",
    "    'gamma': 5.08,\n",
    "}"
   ]
  },
  {
   "cell_type": "code",
   "execution_count": 22,
   "metadata": {
    "collapsed": false,
    "jupyter": {
     "outputs_hidden": false
    },
    "pycharm": {
     "name": "#%%\n"
    }
   },
   "outputs": [],
   "source": [
    "best_hyperparameters_1 = {\n",
    "    'colsample_bytree': 0.7402689253639231,\n",
    "    'gamma': 0.0028348541499777537,\n",
    "    'learning_rate': 0.1752060870921795,\n",
    "    'max_depth': 6,\n",
    "    'min_child_weight': 3.0532978217490725,\n",
    "    'reg_alpha': 4.390442958079982,\n",
    "    'reg_lambda': 5.821841964093785,\n",
    "    'subsample': 0.68327049590758\n",
    "}\n",
    "\n",
    "best_hyperparameters_2 = {\n",
    "    'colsample_bytree': 0.7692485988189818,\n",
    "    'gamma': 0.00012070096616614979,\n",
    "    'learning_rate': 0.001554370091231591,\n",
    "    'max_depth': 12,\n",
    "    'min_child_weight': 1.0584548941145138,\n",
    "    'reg_alpha': 0.0029253070004006676,\n",
    "    'reg_lambda': 6.230782615668019,\n",
    "    'subsample': 0.9619535988644129\n",
    "}\n",
    "\n",
    "best_hyperparameters_3 = {\n",
    "    'colsample_bytree': 0.9206694651571061,\n",
    "    'gamma': 0.00042191775548186306,\n",
    "    'learning_rate': 0.3948078011409823,\n",
    "    'max_depth': 6,\n",
    "    'min_child_weight': 4.239951535915615,\n",
    "    'reg_alpha': 9.331451879784092,\n",
    "    'reg_lambda': 9.243205902587139,\n",
    "    'subsample': 0.9487693920624407\n",
    "}\n",
    "\n",
    "best_hyperparameters_4 = {\n",
    "    'colsample_bylevel': 0.8596697702529492,\n",
    "    'colsample_bytree': 0.8702259620796213,\n",
    "    'eta': 0.13283991319433858,\n",
    "    'gamma': 0.1947909337094635,\n",
    "    'max_depth': 2,\n",
    "    'min_child_weight': 2.0,\n",
    "    'n_estimators': 100,\n",
    "    'subsample': 0.7835483934165692\n",
    "}\n",
    "\n",
    "max_depth_values = np.arange(8, 18, 1, dtype=int)\n",
    "actual_max_depth_value = max_depth_values[best_hyperparameters_4['max_depth']]\n",
    "\n",
    "# Now replace the index with the actual value\n",
    "best_hyperparameters_4['max_depth'] = actual_max_depth_value"
   ]
  },
  {
   "cell_type": "code",
   "execution_count": 11,
   "metadata": {},
   "outputs": [],
   "source": [
    "best_hyperparameters_5 = {\n",
    "    'colsample_bytree': 0.7,\n",
    "    'gamma': 5,\n",
    "    'learning_rate': 0.001554370091231591,\n",
    "    'max_depth': 6,\n",
    "    'min_child_weight': 4,\n",
    "    'reg_alpha': 3,\n",
    "    'reg_lambda': 6,\n",
    "    'subsample': 0.7,\n",
    "    'n_estimators': 300\n",
    "}"
   ]
  },
  {
   "cell_type": "code",
   "execution_count": 69,
   "metadata": {},
   "outputs": [],
   "source": [
    "space_1 = {\n",
    "    'eta': 0.281610,\n",
    "    'max_depth': 5,\n",
    "    'min_child_weight': 8.0,\n",
    "    'n_estimators': 350,\n",
    "    'reg_alpha': 0.503,\n",
    "    'reg_lambda': 6.65\n",
    "}\n",
    "\n",
    "space_2 = {\n",
    "    'eta': 0.0049,\n",
    "    'max_depth': 3,\n",
    "    'min_child_weight': 7.305,\n",
    "    'n_estimators': 100, # 350\n",
    "    'reg_alpha': 2.692, # 2.78\n",
    "    'reg_lambda': 4.4807, # 4.97\n",
    "    'subsample': 0.74,\n",
    "    'colsample_bytree': 0.792,\n",
    "    'gamma': 5.08,\n",
    "}"
   ]
  },
  {
   "cell_type": "code",
   "execution_count": 35,
   "metadata": {},
   "outputs": [],
   "source": [
    "space_1 = {\n",
    "    'colsample_bytree': 0.556163857931663,\n",
    "    'eta': 0.20561726183794185,\n",
    "    'gamma': 3.0850092179234103,\n",
    "    'max_depth': 3,\n",
    "    'min_child_weight': 7.321877129585404,\n",
    "    'n_estimators': 100,\n",
    "    'reg_alpha': 0.6852638854655516,\n",
    "    'reg_lambda': 2.95358359982023,\n",
    "    'subsample': 0.5788833838654643\n",
    "}"
   ]
  },
  {
   "cell_type": "code",
   "execution_count": 36,
   "metadata": {
    "collapsed": false,
    "jupyter": {
     "outputs_hidden": false
    },
    "pycharm": {
     "name": "#%%\n"
    }
   },
   "outputs": [
    {
     "name": "stdout",
     "output_type": "stream",
     "text": [
      "[0]\tvalidation_0-mlogloss:1.07391\tvalidation_1-mlogloss:1.07004\n",
      "[99]\tvalidation_0-mlogloss:0.93490\tvalidation_1-mlogloss:0.97075\n",
      "F1 score: 0.5021152182819089\n",
      "Score: 0.5148026315789473\n"
     ]
    }
   ],
   "source": [
    "xg_ex = xgb.XGBClassifier(**space_1, interaction_constraints=interaction_constraints, monotone_constraints=monotone_constraints_dict)\n",
    "xg_ex.fit(X_train, y_train, eval_set=[(X_train, y_train), (X_test, y_test)], verbose=100)\n",
    "xg_ex.score(X_val, y_val)\n",
    "\n",
    "y_pred=xg_ex.predict(X_val)\n",
    "\n",
    "f1 = f1_score(y_val, y_pred, average='weighted')\n",
    "\n",
    "print(f'F1 score: {f1}')\n",
    "print(f'Score: {cfl.score(X_val, y_val)}')"
   ]
  },
  {
   "cell_type": "code",
   "execution_count": 74,
   "metadata": {
    "pycharm": {
     "name": "#%%\n"
    }
   },
   "outputs": [
    {
     "name": "stdout",
     "output_type": "stream",
     "text": [
      "[0]\tvalidation_0-mlogloss:1.09802\tvalidation_1-mlogloss:1.09824\n",
      "[99]\tvalidation_0-mlogloss:1.04769\tvalidation_1-mlogloss:1.04685\n",
      "F1 score: 0.4374537292925651\n",
      "Score: 0.5148026315789473\n"
     ]
    }
   ],
   "source": [
    "xg_ex = xgb.XGBClassifier(**space_2, interaction_constraints=interaction_constraints, monotone_constraints=monotone_constraints_dict)\n",
    "xg_ex.fit(X_train, y_train, eval_set=[(X_train, y_train), (X_test, y_test)], verbose=100)\n",
    "xg_ex.score(X_val, y_val)\n",
    "\n",
    "y_pred=xg_ex.predict(X_val)\n",
    "\n",
    "f1 = f1_score(y_val, y_pred, average='weighted')\n",
    "\n",
    "print(f'F1 score: {f1}')\n",
    "print(f'Score: {cfl.score(X_val, y_val)}')"
   ]
  },
  {
   "cell_type": "code",
   "execution_count": 37,
   "metadata": {},
   "outputs": [
    {
     "data": {
      "image/png": "[encoded data removed]",
      "text/plain": [
       "<Figure size 800x400 with 1 Axes>"
      ]
     },
     "metadata": {},
     "output_type": "display_data"
    },
    {
     "data": {
      "text/plain": [
       "(0.6, 1.0)"
      ]
     },
     "execution_count": 37,
     "metadata": {},
     "output_type": "execute_result"
    }
   ],
   "source": [
    "import yellowbrick.model_selection as ms\n",
    "\n",
    "fig, ax = plt.subplots(figsize=(8, 4))\n",
    "viz = ms.learning_curve(xgb.XGBClassifier(**space_1, interaction_constraints=interaction_constraints, monotone_constraints=monotone_constraints_dict), X_train, y_train, ax=ax, scoring=\"f1_weighted\")\n",
    "ax.set_ylim(0.6, 1)"
   ]
  },
  {
   "cell_type": "code",
   "execution_count": 12,
   "metadata": {},
   "outputs": [
    {
     "data": {
      "text/plain": [
       "result_match\n",
       "2               45.44\n",
       "0               28.70\n",
       "1               25.86\n",
       "Name: proportion, dtype: float64"
      ]
     },
     "execution_count": 12,
     "metadata": {},
     "output_type": "execute_result"
    }
   ],
   "source": [
    "round(y_train.value_counts(normalize=True) * 100, 2)"
   ]
  },
  {
   "cell_type": "code",
   "execution_count": null,
   "metadata": {},
   "outputs": [],
   "source": []
  }
 ],
 "metadata": {
  "kernelspec": {
   "display_name": "Python 3 (ipykernel)",
   "language": "python",
   "name": "python3"
  },
  "language_info": {
   "codemirror_mode": {
    "name": "ipython",
    "version": 3
   },
   "file_extension": ".py",
   "mimetype": "text/x-python",
   "name": "python",
   "nbconvert_exporter": "python",
   "pygments_lexer": "ipython3",
   "version": "3.10.8"
  }
 },
 "nbformat": 4,
 "nbformat_minor": 4
}