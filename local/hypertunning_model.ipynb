{
 "cells": [
  {
   "cell_type": "code",
   "execution_count": 1,
   "metadata": {
    "collapsed": false,
    "pycharm": {
     "is_executing": true,
     "name": "#%%\n"
    },
    "ExecuteTime": {
     "end_time": "2024-01-28T14:48:01.359178500Z",
     "start_time": "2024-01-28T14:48:01.079606400Z"
    }
   },
   "outputs": [],
   "source": [
    "import warnings\n",
    "\n",
    "import pandas as pd\n",
    "import numpy as np\n",
    "from xgboost import XGBClassifier\n",
    "\n",
    "from sklearn.model_selection import train_test_split\n",
    "from sklearn import metrics, model_selection, pipeline\n",
    "from sklearn.metrics import f1_score\n",
    "\n",
    "import matplotlib.pyplot as plt\n",
    "\n",
    "import category_encoders as ce\n",
    "\n",
    "warnings.filterwarnings('ignore')"
   ]
  },
  {
   "cell_type": "code",
   "outputs": [],
   "source": [
    "choosen_feature = ['stage', 'player_rating_home_player_1', 'player_rating_home_player_7', 'player_rating_home_player_8', 'player_rating_home_player_9', 'player_rating_home_player_10', 'player_rating_home_player_11', 'player_rating_away_player_1', 'player_rating_away_player_7', 'player_rating_away_player_8', 'player_rating_away_player_9', 'player_rating_away_player_10', 'player_rating_away_player_11', 'ewm_away_team_goals', 'ewm_home_team_goals_conceded', 'points_away', 'avg_home_team_rating', 'avg_away_team_rating', 'home_streak_wins', 'away_streak_wins', 'ewm_shoton_home', 'ewm_shoton_away', 'ewm_possession_home', 'ewm_possession_away', 'diff_player_1', 'diff_player_7', 'diff_player_8', 'diff_player_9', 'diff_player_10', 'diff_player_11', 'rating_range_home', 'rating_range_away', 'num_top_players_home', 'num_top_players_away', 'avg_home_rating_attack_binned_Bin2', 'avg_home_rating_attack_binned_Bin3', 'avg_home_rating_attack_binned_Bin4', 'avg_home_rating_attack_binned_Bin1', 'avg_away_rating_attack_binned_Bin2', 'avg_away_rating_attack_binned_Bin4', 'avg_away_rating_attack_binned_Bin3', 'avg_away_rating_attack_binned_Bin1', 'avg_away_rating_defence_binned_Bin2', 'avg_away_rating_defence_binned_Bin3', 'avg_home_rating_defence_binned_Bin3', 'avg_home_rating_defence_binned_Bin2', 'points_home_binned_Bin3', 'points_home_binned_Bin4', 'points_home_binned_Bin2', 'points_home_binned_Bin1', 'home_weighted_wins_binned_Bin4', 'home_weighted_wins_binned_Bin3', 'home_weighted_wins_binned_Bin2', 'away_weighted_wins_binned_Bin1', 'away_weighted_wins_binned_Bin2', 'away_weighted_wins_binned_Bin3', 'away_weighted_wins_binned_Bin4', 'ewm_home_team_goals_binned_Bin2', 'ewm_home_team_goals_binned_Bin3', 'ewm_home_team_goals_binned_Bin4', 'ewm_home_team_goals_binned_Bin1', 'ewm_away_team_goals_conceded_binned_Bin3', 'ewm_away_team_goals_conceded_binned_Bin2', 'ewm_away_team_goals_conceded_binned_Bin1', 'ewm_away_team_goals_conceded_binned_Bin4']"
   ],
   "metadata": {
    "collapsed": false,
    "ExecuteTime": {
     "end_time": "2024-01-28T14:48:01.359178500Z",
     "start_time": "2024-01-28T14:48:01.345787400Z"
    }
   },
   "execution_count": 2
  },
  {
   "cell_type": "code",
   "outputs": [],
   "source": [
    "def evaluate_model(X_train, X_val, y_train, y_val):\n",
    "    encoder = ce.OneHotEncoder(cols=X_train.select_dtypes(include=['object', 'category']).columns, use_cat_names=True, drop_invariant=True, return_df=True)\n",
    "\n",
    "    X_train_encoded = encoder.fit_transform(X_train, y_train)\n",
    "    X_val_encoded = encoder.transform(X_val)\n",
    "\n",
    "    model = XGBClassifier(random_state=42, enable_categorical=True, early_stopping_rounds=100,)\n",
    "    model.fit(X_train_encoded[choosen_feature], y_train, eval_set=[(X_train_encoded[choosen_feature], y_train), (X_val_encoded[choosen_feature], y_val)], verbose=0)\n",
    "    y_pred = model.predict(X_val_encoded[choosen_feature])\n",
    "    return f1_score(y_val, y_pred, average='weighted')"
   ],
   "metadata": {
    "collapsed": false,
    "ExecuteTime": {
     "end_time": "2024-01-28T14:48:01.377806900Z",
     "start_time": "2024-01-28T14:48:01.359178500Z"
    }
   },
   "execution_count": 3
  },
  {
   "cell_type": "code",
   "execution_count": 4,
   "metadata": {
    "ExecuteTime": {
     "end_time": "2024-01-28T14:48:01.391391100Z",
     "start_time": "2024-01-28T14:48:01.376755400Z"
    }
   },
   "outputs": [],
   "source": [
    "from typing import Any, Dict, Sequence\n",
    "\n",
    "\n",
    "def trial2df(trial: Sequence[Dict[str, Any]]) -> pd.DataFrame:\n",
    "    \"\"\"\n",
    "    Convert a Trial object (sequence of trial dictionaries)\n",
    "    to a Pandas DataFrame.\n",
    "    Parameters\n",
    "    ----------\n",
    "    trial : List[Dict[str, Any]]\n",
    "    A list of trial dictionaries.\n",
    "    Returns\n",
    "    -------\n",
    "    pd.DataFrame\n",
    "    A DataFrame with columns for the loss, trial id, and\n",
    "    values from each trial dictionary.\n",
    "    \"\"\"\n",
    "    vals = []\n",
    "    for t in trial:\n",
    "        result = t['result']\n",
    "        misc = t['misc']\n",
    "        val = {k: (v[0] if isinstance(v, list) else v)\n",
    "               for k, v in misc['vals'].items()\n",
    "               }\n",
    "        val['loss'] = result['loss']\n",
    "        val['tid'] = t['tid']\n",
    "        vals.append(val)\n",
    "    return pd.DataFrame(vals)"
   ]
  },
  {
   "cell_type": "code",
   "execution_count": 5,
   "metadata": {
    "scrolled": true,
    "ExecuteTime": {
     "end_time": "2024-01-28T14:48:01.448757200Z",
     "start_time": "2024-01-28T14:48:01.392436900Z"
    }
   },
   "outputs": [
    {
     "name": "stdout",
     "output_type": "stream",
     "text": [
      "<class 'pandas.core.frame.DataFrame'>\n",
      "RangeIndex: 3040 entries, 0 to 3039\n",
      "Data columns (total 9 columns):\n",
      " #   Column                               Non-Null Count  Dtype   \n",
      "---  ------                               --------------  -----   \n",
      " 0   avg_home_rating_attack_binned        3040 non-null   category\n",
      " 1   avg_away_rating_attack_binned        3040 non-null   category\n",
      " 2   avg_away_rating_defence_binned       3040 non-null   category\n",
      " 3   avg_home_rating_defence_binned       3040 non-null   category\n",
      " 4   points_home_binned                   3040 non-null   category\n",
      " 5   home_weighted_wins_binned            3040 non-null   category\n",
      " 6   away_weighted_wins_binned            3040 non-null   category\n",
      " 7   ewm_home_team_goals_binned           3024 non-null   category\n",
      " 8   ewm_away_team_goals_conceded_binned  3022 non-null   category\n",
      "dtypes: category(9)\n",
      "memory usage: 28.6 KB\n"
     ]
    }
   ],
   "source": [
    "X = pd.read_csv('../data/binned/df.csv')\n",
    "y = pd.read_csv('../data/binned/y.csv')\n",
    "\n",
    "for col in X.filter(like='_binned').columns:\n",
    "    X[col] = X[col].astype('category')\n",
    "\n",
    "X.filter(like='_binned').info()"
   ]
  },
  {
   "cell_type": "code",
   "outputs": [],
   "source": [
    "X_train, X_val, y_train, y_val = train_test_split(X, y, test_size=0.2, random_state=42, stratify=y)"
   ],
   "metadata": {
    "collapsed": false,
    "ExecuteTime": {
     "end_time": "2024-01-28T14:48:01.482812Z",
     "start_time": "2024-01-28T14:48:01.447708Z"
    }
   },
   "execution_count": 6
  },
  {
   "cell_type": "code",
   "outputs": [
    {
     "data": {
      "text/plain": "0.5322813298157089"
     },
     "execution_count": 7,
     "metadata": {},
     "output_type": "execute_result"
    }
   ],
   "source": [
    "evaluate_model(X_train, X_val, y_train, y_val)"
   ],
   "metadata": {
    "collapsed": false,
    "ExecuteTime": {
     "end_time": "2024-01-28T14:48:02.158324900Z",
     "start_time": "2024-01-28T14:48:01.469417700Z"
    }
   },
   "execution_count": 7
  },
  {
   "cell_type": "code",
   "execution_count": 8,
   "metadata": {
    "ExecuteTime": {
     "end_time": "2024-01-28T14:48:02.204227900Z",
     "start_time": "2024-01-28T14:48:02.145998Z"
    }
   },
   "outputs": [
    {
     "name": "stdout",
     "output_type": "stream",
     "text": [
      "X_train shape: (2432, 60)\n",
      "X_val shape: (608, 60)\n",
      "y_train shape: (2432, 1)\n",
      "y_val shape: (608, 1)\n"
     ]
    }
   ],
   "source": [
    "print(f'X_train shape: {X_train.shape}')\n",
    "print(f'X_val shape: {X_val.shape}')\n",
    "\n",
    "print(f'y_train shape: {y_train.shape}')\n",
    "print(f'y_val shape: {y_val.shape}')"
   ]
  },
  {
   "cell_type": "code",
   "execution_count": 9,
   "metadata": {
    "pycharm": {
     "name": "#%%\n"
    },
    "ExecuteTime": {
     "end_time": "2024-01-28T14:48:02.252843100Z",
     "start_time": "2024-01-28T14:48:02.163444Z"
    }
   },
   "outputs": [],
   "source": [
    "# from yellowbrick import model_selection as ms\n",
    "# import os\n",
    "# \n",
    "# def save_files(train, target):\n",
    "#     output_dir = \"../data/encode/\"\n",
    "#     \n",
    "#     if not os.path.exists(output_dir):\n",
    "#         os.makedirs(output_dir)\n",
    "#     \n",
    "#     train.to_csv(output_dir + \"train.csv\", index=False)\n",
    "#     target.to_csv(output_dir + 'target.csv', index=False)\n",
    "# \n",
    "# def evaluate_model_lr(X_train, X_val, y_train, y_val, learning_rate):\n",
    "#     encoder = ce.OneHotEncoder(cols=X_train.select_dtypes(include=['object', 'category']).columns, use_cat_names=True, drop_invariant=True, return_df=True)\n",
    "# \n",
    "#     X_train_encoded = encoder.fit_transform(X_train)\n",
    "#     X_val_encoded = encoder.transform(X_val)\n",
    "# \n",
    "#     model = XGBClassifier(random_state=42, enable_categorical=True, learning_rate=0.3, max_depth=6, min_child_weight=learning_rate,  early_stopping_rounds=100)\n",
    "#     model.fit(X_train_encoded[choosen_feature], y_train, eval_set=[(X_train_encoded[choosen_feature], y_train), (X_val_encoded[choosen_feature], y_val)], verbose=0)\n",
    "#     y_pred = model.predict(X_val_encoded[choosen_feature])\n",
    "#     return f1_score(y_val, y_pred, average='weighted')\n",
    "# \n",
    "# # Define the range of learning_rate values\n",
    "# learning_rates = [0.15, 0.2, 0.3, 0.35, 0.4, 0.45, 0.5, 0.6]\n",
    "# min_child_weights = [ 40]\n",
    "# \n",
    "# # Lists to store the F1 scores\n",
    "# train_scores = []\n",
    "# val_scores = []\n",
    "# \n",
    "# # Iterate over the learning_rates\n",
    "# for lr in min_child_weights:\n",
    "#     f1_train = evaluate_model_lr(X_train, X_train, y_train, y_train, lr)\n",
    "#     f1_val = evaluate_model_lr(X_train, X_val, y_train, y_val, lr)\n",
    "#     \n",
    "#     train_scores.append(f1_train)\n",
    "#     val_scores.append(f1_val)\n",
    "# \n",
    "# # Plotting the results\n",
    "# plt.figure()\n",
    "# plt.plot(min_child_weights, train_scores, label='Training score')\n",
    "# plt.plot(min_child_weights, val_scores, label='Validation score')\n",
    "# plt.title('Validation Curve with XGBoost')\n",
    "# plt.xlabel('Max Depth')\n",
    "# plt.ylabel('F1 Score (Weighted)')\n",
    "# plt.legend()\n",
    "# plt.show()"
   ]
  },
  {
   "cell_type": "code",
   "execution_count": 10,
   "metadata": {
    "collapsed": false,
    "pycharm": {
     "name": "#%%\n"
    },
    "ExecuteTime": {
     "end_time": "2024-01-28T14:48:02.593688200Z",
     "start_time": "2024-01-28T14:48:02.183820500Z"
    }
   },
   "outputs": [],
   "source": [
    "from hyperopt import fmin, tpe, hp, STATUS_OK, Trials\n",
    "from sklearn.metrics import accuracy_score, roc_auc_score, f1_score\n",
    "from typing import Any, Dict, Union\n",
    "\n",
    "def evaluate_model_opt(X_train, X_val, y_train, y_val, space):\n",
    "    encoder = ce.OneHotEncoder(cols=X_train.select_dtypes(include=['object', 'category']).columns, use_cat_names=True, drop_invariant=True, return_df=True)\n",
    "\n",
    "    X_train_encoded = encoder.fit_transform(X_train)\n",
    "    X_val_encoded = encoder.transform(X_val)\n",
    "\n",
    "    model = XGBClassifier(**space, random_state=42, enable_categorical=True, early_stopping_rounds=75)\n",
    "    model.fit(X_train_encoded[choosen_feature], y_train, eval_set=[(X_train_encoded[choosen_feature], y_train), (X_val_encoded[choosen_feature], y_val)], verbose=0)\n",
    "    y_pred = model.predict(X_val_encoded[choosen_feature])\n",
    "    return f1_score(y_val, y_pred, average='weighted'), model\n",
    "\n",
    "def hyperparameter_tuning(space: Dict[str, Union[float, int]],\n",
    "                          X_train: pd.DataFrame, y_train: pd.Series,\n",
    "                          X_val: pd.DataFrame, y_val: pd.Series,\n",
    "                          early_stopping_rounds: int = 50,\n",
    "                          metric: callable = accuracy_score) -> Dict[str, Any]:\n",
    "    \"\"\"\n",
    "    Perform hyperparameter tuning for an XGBoost classifier.\n",
    "    \n",
    "    This function takes a dictionary of hyperparameters, training\n",
    "    and test data, and an optional value for early stopping rounds,\n",
    "    and returns a dictionary with the loss and model resulting from\n",
    "    the tuning process. The model is trained using the training\n",
    "    data and evaluated on the test data. The loss is computed as\n",
    "    the negative of the accuracy score.\n",
    "    Parameters\n",
    "    ----------\n",
    "    space : Dict[str, Union[float, int]]\n",
    "        A dictionary of hyperparameters for the XGBoost classifier.\n",
    "    X_train : pd.DataFrame\n",
    "        The training data.\n",
    "    y_train : pd.Series\n",
    "        The training target.\n",
    "    X_test : pd.DataFrame\n",
    "        The test data.\n",
    "    y_test : pd.Series\n",
    "        The test target.\n",
    "    early_stopping_rounds : int, optional\n",
    "        The number of early stopping rounds to use. The default value is 50.\n",
    "    metric : callable\n",
    "        Metric to maximize. Default is accuracy\n",
    "        Returns\n",
    "    -------\n",
    "    Dict[str, Any]\n",
    "        A dictionary with the loss and model resulting from the\n",
    "        tuning process. The loss is a float, and the model is an\n",
    "        XGBoost classifier.\n",
    "    \"\"\"\n",
    "\n",
    "    int_vals = ['max_depth']\n",
    "    space = {k: (int(val) if k in int_vals else val)\n",
    "             for k, val in space.items()}\n",
    "    # space['early_stopping_rounds'] = early_stopping_rounds\n",
    "    score, model = evaluate_model_opt(X_train, X_val, y_train, y_val, space)\n",
    "    return {'loss': 1-score.round(3), 'status': STATUS_OK, 'model': model}\n"
   ]
  },
  {
   "cell_type": "code",
   "execution_count": 11,
   "metadata": {
    "collapsed": false,
    "pycharm": {
     "name": "#%%\n"
    },
    "scrolled": true,
    "ExecuteTime": {
     "end_time": "2024-01-28T14:48:03.861044800Z",
     "start_time": "2024-01-28T14:48:02.595145700Z"
    }
   },
   "outputs": [
    {
     "data": {
      "text/plain": "(array([ 985.,  969., 1008.,  992., 1002., 1009., 1039.,  962.,  993.,\n        1041.]),\n array([2.00070257, 2.80051663, 3.6003307 , 4.40014476, 5.19995882,\n        5.99977289, 6.79958695, 7.59940101, 8.39921508, 9.19902914,\n        9.9988432 ]),\n <BarContainer object of 10 artists>)"
     },
     "execution_count": 11,
     "metadata": {},
     "output_type": "execute_result"
    },
    {
     "data": {
      "text/plain": "<Figure size 800x400 with 1 Axes>",
      "image/png": "[encoded data removed]"
     },
     "metadata": {},
     "output_type": "display_data"
    }
   ],
   "source": [
    "from hyperopt import hp, pyll\n",
    "# hp.loguniform('min_child_weight', -1, 3)\n",
    "uniform_vals = [pyll.stochastic.sample(hp.uniform('value', 2, 10))\n",
    "                for _ in range(10_000)]\n",
    "fig, ax = plt.subplots(figsize=(8, 4))\n",
    "ax.hist(uniform_vals)"
   ]
  },
  {
   "cell_type": "code",
   "execution_count": 12,
   "metadata": {
    "collapsed": false,
    "pycharm": {
     "name": "#%%\n"
    },
    "ExecuteTime": {
     "end_time": "2024-01-28T14:51:59.003524700Z",
     "start_time": "2024-01-28T14:48:03.858996500Z"
    }
   },
   "outputs": [
    {
     "name": "stdout",
     "output_type": "stream",
     "text": [
      "100%|██████████| 400/400 [03:54<00:00,  1.70trial/s, best loss: 0.483]\n",
      "Best Hyperparameters: {'colsample_bytree': 0.7081361979761758, 'gamma': 0.2571517165765498, 'learning_rate': 0.28119778222635666, 'max_depth': 5, 'min_child_weight': 4.574245969603654, 'n_estimators': 532, 'subsample': 0.698726673847962}\n"
     ]
    }
   ],
   "source": [
    "options_learning_rate = {\n",
    "    'learning_rate': hp.loguniform('learning_rate', -5, 0)\n",
    "    # Best Hyperparameters: {'learning_rate': 0.1640487517918771}\n",
    "}\n",
    "\n",
    "options = {\n",
    "    'eta': 0.300,  # Default is 0.3, so we search around it\n",
    "    'max_depth': 6,  # Default is 6, so we stay close\n",
    "    'min_child_weight': hp.uniform('min_child_weight', 1, 10),  # Default is 1, we allow it to go up\n",
    "    'gamma': hp.uniform('gamma', 0, 5),  # Default is 0, but we explore a range up to 5\n",
    "    'subsample': hp.uniform('subsample', 0.5, 1.0),  # Default is 1, we explore down to 0.5\n",
    "    'colsample_bytree': hp.uniform('colsample_bytree', 0.5, 1.0),  # Default is 1, we explore down to 0.5\n",
    "    'reg_alpha': hp.uniform('reg_alpha', 0, 1),  # Default is 0, exploring up to 1 for L1 regularization\n",
    "    'reg_lambda': hp.uniform('reg_lambda', 1, 3),  # Default is 1, exploring up to 3 for L2 regularization\n",
    "}\n",
    "\n",
    "params_dict = {\n",
    "    'max_depth': hp.choice('max_depth', range(3, 10)),\n",
    "    'learning_rate': hp.uniform('learning_rate', 0.1, 0.4),\n",
    "    'n_estimators': hp.choice('n_estimators', range(100, 1000)),\n",
    "    'min_child_weight': hp.uniform('min_child_weight', 1, 10),\n",
    "    'gamma': hp.uniform('gamma', 0.1, 1.0),\n",
    "    'subsample': hp.uniform('subsample', 0.5, 1),\n",
    "    'colsample_bytree': hp.uniform('colsample_bytree', 0.5, 1),\n",
    "}\n",
    "\n",
    "\n",
    "trials = Trials()\n",
    "\n",
    "best = fmin(fn=lambda space: hyperparameter_tuning(space, X_train, y_train, X_val, y_val, 20, f1_score),\n",
    "            space=params_dict,\n",
    "            algo=tpe.suggest,\n",
    "            max_evals=400, \n",
    "            trials=trials)\n",
    "\n",
    "print(\"Best Hyperparameters:\", best)"
   ]
  },
  {
   "cell_type": "code",
   "execution_count": 14,
   "metadata": {
    "ExecuteTime": {
     "end_time": "2024-01-28T14:52:12.171377300Z",
     "start_time": "2024-01-28T14:52:12.148817800Z"
    }
   },
   "outputs": [],
   "source": [
    "hyper2hr = trial2df(trials)"
   ]
  },
  {
   "cell_type": "code",
   "execution_count": 15,
   "metadata": {
    "ExecuteTime": {
     "end_time": "2024-01-28T14:52:12.829980200Z",
     "start_time": "2024-01-28T14:52:12.813435700Z"
    }
   },
   "outputs": [
    {
     "data": {
      "text/plain": "     colsample_bytree     gamma  learning_rate  max_depth  min_child_weight  \\\n0            0.926962  0.225365       0.391003          4          2.297523   \n1            0.716519  0.461360       0.361470          2          1.201305   \n2            0.518944  0.189158       0.160111          3          2.243475   \n3            0.541981  0.622276       0.300480          6          3.734186   \n4            0.571417  0.798783       0.121054          4          5.636573   \n..                ...       ...            ...        ...               ...   \n395          0.748899  0.273769       0.238698          5          5.249955   \n396          0.798336  0.168982       0.391507          2          1.842215   \n397          0.700142  0.310466       0.247123          5          4.512016   \n398          0.734739  0.403042       0.204285          5          7.749154   \n399          0.712507  0.492389       0.197722          5          7.612500   \n\n     n_estimators  subsample   loss  tid  \n0             109   0.877884  0.520    0  \n1              21   0.734144  0.510    1  \n2              73   0.992021  0.520    2  \n3             169   0.652098  0.543    3  \n4             410   0.789844  0.538    4  \n..            ...        ...    ...  ...  \n395           635   0.857826  0.526  395  \n396           377   0.758842  0.515  396  \n397           493   0.979649  0.528  397  \n398           442   0.948945  0.489  398  \n399           345   0.988395  0.523  399  \n\n[400 rows x 9 columns]",
      "text/html": "<div>\n<style scoped>\n    .dataframe tbody tr th:only-of-type {\n        vertical-align: middle;\n    }\n\n    .dataframe tbody tr th {\n        vertical-align: top;\n    }\n\n    .dataframe thead th {\n        text-align: right;\n    }\n</style>\n<table border=\"1\" class=\"dataframe\">\n  <thead>\n    <tr style=\"text-align: right;\">\n      <th></th>\n      <th>colsample_bytree</th>\n      <th>gamma</th>\n      <th>learning_rate</th>\n      <th>max_depth</th>\n      <th>min_child_weight</th>\n      <th>n_estimators</th>\n      <th>subsample</th>\n      <th>loss</th>\n      <th>tid</th>\n    </tr>\n  </thead>\n  <tbody>\n    <tr>\n      <th>0</th>\n      <td>0.926962</td>\n      <td>0.225365</td>\n      <td>0.391003</td>\n      <td>4</td>\n      <td>2.297523</td>\n      <td>109</td>\n      <td>0.877884</td>\n      <td>0.520</td>\n      <td>0</td>\n    </tr>\n    <tr>\n      <th>1</th>\n      <td>0.716519</td>\n      <td>0.461360</td>\n      <td>0.361470</td>\n      <td>2</td>\n      <td>1.201305</td>\n      <td>21</td>\n      <td>0.734144</td>\n      <td>0.510</td>\n      <td>1</td>\n    </tr>\n    <tr>\n      <th>2</th>\n      <td>0.518944</td>\n      <td>0.189158</td>\n      <td>0.160111</td>\n      <td>3</td>\n      <td>2.243475</td>\n      <td>73</td>\n      <td>0.992021</td>\n      <td>0.520</td>\n      <td>2</td>\n    </tr>\n    <tr>\n      <th>3</th>\n      <td>0.541981</td>\n      <td>0.622276</td>\n      <td>0.300480</td>\n      <td>6</td>\n      <td>3.734186</td>\n      <td>169</td>\n      <td>0.652098</td>\n      <td>0.543</td>\n      <td>3</td>\n    </tr>\n    <tr>\n      <th>4</th>\n      <td>0.571417</td>\n      <td>0.798783</td>\n      <td>0.121054</td>\n      <td>4</td>\n      <td>5.636573</td>\n      <td>410</td>\n      <td>0.789844</td>\n      <td>0.538</td>\n      <td>4</td>\n    </tr>\n    <tr>\n      <th>...</th>\n      <td>...</td>\n      <td>...</td>\n      <td>...</td>\n      <td>...</td>\n      <td>...</td>\n      <td>...</td>\n      <td>...</td>\n      <td>...</td>\n      <td>...</td>\n    </tr>\n    <tr>\n      <th>395</th>\n      <td>0.748899</td>\n      <td>0.273769</td>\n      <td>0.238698</td>\n      <td>5</td>\n      <td>5.249955</td>\n      <td>635</td>\n      <td>0.857826</td>\n      <td>0.526</td>\n      <td>395</td>\n    </tr>\n    <tr>\n      <th>396</th>\n      <td>0.798336</td>\n      <td>0.168982</td>\n      <td>0.391507</td>\n      <td>2</td>\n      <td>1.842215</td>\n      <td>377</td>\n      <td>0.758842</td>\n      <td>0.515</td>\n      <td>396</td>\n    </tr>\n    <tr>\n      <th>397</th>\n      <td>0.700142</td>\n      <td>0.310466</td>\n      <td>0.247123</td>\n      <td>5</td>\n      <td>4.512016</td>\n      <td>493</td>\n      <td>0.979649</td>\n      <td>0.528</td>\n      <td>397</td>\n    </tr>\n    <tr>\n      <th>398</th>\n      <td>0.734739</td>\n      <td>0.403042</td>\n      <td>0.204285</td>\n      <td>5</td>\n      <td>7.749154</td>\n      <td>442</td>\n      <td>0.948945</td>\n      <td>0.489</td>\n      <td>398</td>\n    </tr>\n    <tr>\n      <th>399</th>\n      <td>0.712507</td>\n      <td>0.492389</td>\n      <td>0.197722</td>\n      <td>5</td>\n      <td>7.612500</td>\n      <td>345</td>\n      <td>0.988395</td>\n      <td>0.523</td>\n      <td>399</td>\n    </tr>\n  </tbody>\n</table>\n<p>400 rows × 9 columns</p>\n</div>"
     },
     "execution_count": 15,
     "metadata": {},
     "output_type": "execute_result"
    }
   ],
   "source": [
    "hyper2hr"
   ]
  },
  {
   "cell_type": "code",
   "execution_count": null,
   "metadata": {
    "ExecuteTime": {
     "start_time": "2024-01-28T14:47:38.387678300Z"
    }
   },
   "outputs": [],
   "source": [
    "import seaborn as sns\n",
    "# fig, ax = plt.subplots(figsize=(8, 4))\n",
    "# sns.heatmap(hyper2hr.corr(method='pearson'),\n",
    "#             cmap='RdBu', annot=True, fmt='.2f', vmin=-1, vmax=1, ax=ax\n",
    "#            )\n",
    "\n",
    "(hyper2hr\n",
    " .corr(method='pearson')\n",
    " .style\n",
    " .background_gradient(cmap='RdBu', vmin=-1, vmax=1)\n",
    ")"
   ]
  },
  {
   "cell_type": "code",
   "execution_count": null,
   "metadata": {
    "ExecuteTime": {
     "end_time": "2024-01-28T14:47:38.411675100Z",
     "start_time": "2024-01-28T14:47:38.390677900Z"
    }
   },
   "outputs": [],
   "source": [
    "rounds = [\n",
    "        # Group 0: Tree complexity parameters\n",
    "    {\n",
    "        'gamma': hp.uniform('gamma', 5, 7.5),\n",
    "        'min_child_weight': hp.uniform('min_child_weight', 2, 10),\n",
    "        'colsample_bytree': hp.uniform('colsample_bytree', 0.75, 0.8),\n",
    "        'subsample': hp.uniform('subsample', 0.6, 0.95),\n",
    "        'reg_alpha': hp.uniform('reg_alpha', 2.5, 3.1),\n",
    "        'reg_lambda': hp.uniform('reg_lambda', 2.5, 5),\n",
    "        'eta': 0.300,\n",
    "        'max_depth': hp.choice('max_depth', np.arange(3, 10, dtype=int)),\n",
    "        'n_estimators': hp.choice('n_estimators', np.arange(100, 401, 50))\n",
    "        \n",
    "    },\n",
    "    \n",
    "    # Group 4: Boosting parameter\n",
    "    {'min_child_weight':hp.quniform('min_child_weight', 0, 10, 1),\n",
    "     'reg_lambda': hp.uniform('reg_lambda', 4, 10),\n",
    "     'reg_alpha': hp.uniform('reg_alpha', 0.25, 0.8),\n",
    "     'eta': 0.30000,\n",
    "     'max_depth': hp.choice('max_depth', np.arange(3, 10, dtype=int)),\n",
    "     'n_estimators': hp.choice('n_estimators', np.arange(100, 401, 50))\n",
    "    },\n",
    "]"
   ]
  },
  {
   "cell_type": "code",
   "execution_count": null,
   "metadata": {
    "ExecuteTime": {
     "start_time": "2024-01-28T14:47:38.393677Z"
    }
   },
   "outputs": [],
   "source": [
    "all_trials = []\n",
    "for round in rounds:\n",
    "    params = {**params, **round}\n",
    "    trials = Trials()\n",
    "    best = fmin(fn=lambda space: hyperparameter_tuning(space, X_train, y_train, X_val, y_val, 120, f1_score), \n",
    "                space=params,\n",
    "                algo=tpe.suggest,\n",
    "                max_evals=150,\n",
    "                trials=trials,\n",
    "                )\n",
    "    params = {**best}\n",
    "    all_trials.append(trials)"
   ]
  },
  {
   "cell_type": "code",
   "execution_count": null,
   "metadata": {
    "scrolled": true,
    "ExecuteTime": {
     "start_time": "2024-01-28T14:47:38.395677800Z"
    }
   },
   "outputs": [],
   "source": [
    "trial2df(all_trials[1]).sort_values(by='loss', ascending=True).head(10)"
   ]
  },
  {
   "cell_type": "code",
   "execution_count": null,
   "metadata": {
    "ExecuteTime": {
     "start_time": "2024-01-28T14:47:38.397677800Z"
    }
   },
   "outputs": [],
   "source": [
    "trial2df(all_trials[0]).sort_values(by='loss', ascending=True).head(10)"
   ]
  },
  {
   "cell_type": "code",
   "outputs": [
    {
     "data": {
      "text/plain": "632"
     },
     "execution_count": 24,
     "metadata": {},
     "output_type": "execute_result"
    }
   ],
   "source": [
    "# hp.choice('max_depth', np.arange(3, 10, dtype=int))\n",
    "\n",
    "np.arange(100, 1000)[532]"
   ],
   "metadata": {
    "collapsed": false,
    "ExecuteTime": {
     "end_time": "2024-01-28T14:59:14.613239800Z",
     "start_time": "2024-01-28T14:59:14.593568700Z"
    }
   },
   "execution_count": 24
  },
  {
   "cell_type": "code",
   "execution_count": 76,
   "metadata": {
    "collapsed": false,
    "pycharm": {
     "name": "#%%\n"
    },
    "ExecuteTime": {
     "end_time": "2024-01-28T17:57:26.811738200Z",
     "start_time": "2024-01-28T17:57:25.910622600Z"
    }
   },
   "outputs": [
    {
     "ename": "KeyError",
     "evalue": "\"None of [Index([Ellipsis], dtype='object')] are in the [columns]\"",
     "output_type": "error",
     "traceback": [
      "\u001B[1;31m---------------------------------------------------------------------------\u001B[0m",
      "\u001B[1;31mKeyError\u001B[0m                                  Traceback (most recent call last)",
      "Cell \u001B[1;32mIn[76], line 15\u001B[0m\n\u001B[0;32m     12\u001B[0m best_hyperparams[\u001B[38;5;124m'\u001B[39m\u001B[38;5;124mmax_depth\u001B[39m\u001B[38;5;124m'\u001B[39m] \u001B[38;5;241m=\u001B[39m \u001B[38;5;28mint\u001B[39m(best_hyperparams[\u001B[38;5;124m'\u001B[39m\u001B[38;5;124mmax_depth\u001B[39m\u001B[38;5;124m'\u001B[39m])\n\u001B[0;32m     13\u001B[0m best_hyperparams[\u001B[38;5;124m'\u001B[39m\u001B[38;5;124mn_estimators\u001B[39m\u001B[38;5;124m'\u001B[39m] \u001B[38;5;241m=\u001B[39m \u001B[38;5;28mint\u001B[39m(best_hyperparams[\u001B[38;5;124m'\u001B[39m\u001B[38;5;124mn_estimators\u001B[39m\u001B[38;5;124m'\u001B[39m])\n\u001B[1;32m---> 15\u001B[0m f1, model \u001B[38;5;241m=\u001B[39m \u001B[43mevaluate_model_opt\u001B[49m\u001B[43m(\u001B[49m\u001B[43mX_train\u001B[49m\u001B[43m,\u001B[49m\u001B[43m \u001B[49m\u001B[43mX_val\u001B[49m\u001B[43m,\u001B[49m\u001B[43m \u001B[49m\u001B[43my_train\u001B[49m\u001B[43m,\u001B[49m\u001B[43m \u001B[49m\u001B[43my_val\u001B[49m\u001B[43m,\u001B[49m\u001B[43m \u001B[49m\u001B[43mbest_hyperparams\u001B[49m\u001B[43m)\u001B[49m\n",
      "Cell \u001B[1;32mIn[26], line 18\u001B[0m, in \u001B[0;36mevaluate_model_opt\u001B[1;34m(X_train, X_val, y_train, y_val, space, show_learning_curve)\u001B[0m\n\u001B[0;32m     15\u001B[0m model \u001B[38;5;241m=\u001B[39m XGBClassifier(\u001B[38;5;241m*\u001B[39m\u001B[38;5;241m*\u001B[39mspace, random_state\u001B[38;5;241m=\u001B[39m\u001B[38;5;241m42\u001B[39m, enable_categorical\u001B[38;5;241m=\u001B[39m\u001B[38;5;28;01mTrue\u001B[39;00m, early_stopping_rounds\u001B[38;5;241m=\u001B[39m\u001B[38;5;241m75\u001B[39m)\n\u001B[0;32m     17\u001B[0m \u001B[38;5;66;03m# Train the model\u001B[39;00m\n\u001B[1;32m---> 18\u001B[0m model\u001B[38;5;241m.\u001B[39mfit(\u001B[43mX_train_encoded\u001B[49m\u001B[43m[\u001B[49m\u001B[43mchoosen_feature\u001B[49m\u001B[43m]\u001B[49m, y_train, \n\u001B[0;32m     19\u001B[0m           eval_set\u001B[38;5;241m=\u001B[39m[(X_train_encoded[choosen_feature], y_train), \n\u001B[0;32m     20\u001B[0m                     (X_val_encoded[choosen_feature], y_val)], \n\u001B[0;32m     21\u001B[0m           verbose\u001B[38;5;241m=\u001B[39m\u001B[38;5;241m0\u001B[39m)\n\u001B[0;32m     23\u001B[0m \u001B[38;5;66;03m# Make predictions\u001B[39;00m\n\u001B[0;32m     24\u001B[0m y_pred \u001B[38;5;241m=\u001B[39m model\u001B[38;5;241m.\u001B[39mpredict(X_val_encoded[choosen_feature])\n",
      "File \u001B[1;32m~\\anaconda3\\envs\\py10\\lib\\site-packages\\pandas\\core\\frame.py:3902\u001B[0m, in \u001B[0;36mDataFrame.__getitem__\u001B[1;34m(self, key)\u001B[0m\n\u001B[0;32m   3900\u001B[0m     \u001B[38;5;28;01mif\u001B[39;00m is_iterator(key):\n\u001B[0;32m   3901\u001B[0m         key \u001B[38;5;241m=\u001B[39m \u001B[38;5;28mlist\u001B[39m(key)\n\u001B[1;32m-> 3902\u001B[0m     indexer \u001B[38;5;241m=\u001B[39m \u001B[38;5;28;43mself\u001B[39;49m\u001B[38;5;241;43m.\u001B[39;49m\u001B[43mcolumns\u001B[49m\u001B[38;5;241;43m.\u001B[39;49m\u001B[43m_get_indexer_strict\u001B[49m\u001B[43m(\u001B[49m\u001B[43mkey\u001B[49m\u001B[43m,\u001B[49m\u001B[43m \u001B[49m\u001B[38;5;124;43m\"\u001B[39;49m\u001B[38;5;124;43mcolumns\u001B[39;49m\u001B[38;5;124;43m\"\u001B[39;49m\u001B[43m)\u001B[49m[\u001B[38;5;241m1\u001B[39m]\n\u001B[0;32m   3904\u001B[0m \u001B[38;5;66;03m# take() does not accept boolean indexers\u001B[39;00m\n\u001B[0;32m   3905\u001B[0m \u001B[38;5;28;01mif\u001B[39;00m \u001B[38;5;28mgetattr\u001B[39m(indexer, \u001B[38;5;124m\"\u001B[39m\u001B[38;5;124mdtype\u001B[39m\u001B[38;5;124m\"\u001B[39m, \u001B[38;5;28;01mNone\u001B[39;00m) \u001B[38;5;241m==\u001B[39m \u001B[38;5;28mbool\u001B[39m:\n",
      "File \u001B[1;32m~\\anaconda3\\envs\\py10\\lib\\site-packages\\pandas\\core\\indexes\\base.py:6114\u001B[0m, in \u001B[0;36mIndex._get_indexer_strict\u001B[1;34m(self, key, axis_name)\u001B[0m\n\u001B[0;32m   6111\u001B[0m \u001B[38;5;28;01melse\u001B[39;00m:\n\u001B[0;32m   6112\u001B[0m     keyarr, indexer, new_indexer \u001B[38;5;241m=\u001B[39m \u001B[38;5;28mself\u001B[39m\u001B[38;5;241m.\u001B[39m_reindex_non_unique(keyarr)\n\u001B[1;32m-> 6114\u001B[0m \u001B[38;5;28;43mself\u001B[39;49m\u001B[38;5;241;43m.\u001B[39;49m\u001B[43m_raise_if_missing\u001B[49m\u001B[43m(\u001B[49m\u001B[43mkeyarr\u001B[49m\u001B[43m,\u001B[49m\u001B[43m \u001B[49m\u001B[43mindexer\u001B[49m\u001B[43m,\u001B[49m\u001B[43m \u001B[49m\u001B[43maxis_name\u001B[49m\u001B[43m)\u001B[49m\n\u001B[0;32m   6116\u001B[0m keyarr \u001B[38;5;241m=\u001B[39m \u001B[38;5;28mself\u001B[39m\u001B[38;5;241m.\u001B[39mtake(indexer)\n\u001B[0;32m   6117\u001B[0m \u001B[38;5;28;01mif\u001B[39;00m \u001B[38;5;28misinstance\u001B[39m(key, Index):\n\u001B[0;32m   6118\u001B[0m     \u001B[38;5;66;03m# GH 42790 - Preserve name from an Index\u001B[39;00m\n",
      "File \u001B[1;32m~\\anaconda3\\envs\\py10\\lib\\site-packages\\pandas\\core\\indexes\\base.py:6175\u001B[0m, in \u001B[0;36mIndex._raise_if_missing\u001B[1;34m(self, key, indexer, axis_name)\u001B[0m\n\u001B[0;32m   6173\u001B[0m     \u001B[38;5;28;01mif\u001B[39;00m use_interval_msg:\n\u001B[0;32m   6174\u001B[0m         key \u001B[38;5;241m=\u001B[39m \u001B[38;5;28mlist\u001B[39m(key)\n\u001B[1;32m-> 6175\u001B[0m     \u001B[38;5;28;01mraise\u001B[39;00m \u001B[38;5;167;01mKeyError\u001B[39;00m(\u001B[38;5;124mf\u001B[39m\u001B[38;5;124m\"\u001B[39m\u001B[38;5;124mNone of [\u001B[39m\u001B[38;5;132;01m{\u001B[39;00mkey\u001B[38;5;132;01m}\u001B[39;00m\u001B[38;5;124m] are in the [\u001B[39m\u001B[38;5;132;01m{\u001B[39;00maxis_name\u001B[38;5;132;01m}\u001B[39;00m\u001B[38;5;124m]\u001B[39m\u001B[38;5;124m\"\u001B[39m)\n\u001B[0;32m   6177\u001B[0m not_found \u001B[38;5;241m=\u001B[39m \u001B[38;5;28mlist\u001B[39m(ensure_index(key)[missing_mask\u001B[38;5;241m.\u001B[39mnonzero()[\u001B[38;5;241m0\u001B[39m]]\u001B[38;5;241m.\u001B[39munique())\n\u001B[0;32m   6178\u001B[0m \u001B[38;5;28;01mraise\u001B[39;00m \u001B[38;5;167;01mKeyError\u001B[39;00m(\u001B[38;5;124mf\u001B[39m\u001B[38;5;124m\"\u001B[39m\u001B[38;5;132;01m{\u001B[39;00mnot_found\u001B[38;5;132;01m}\u001B[39;00m\u001B[38;5;124m not in index\u001B[39m\u001B[38;5;124m\"\u001B[39m)\n",
      "\u001B[1;31mKeyError\u001B[0m: \"None of [Index([Ellipsis], dtype='object')] are in the [columns]\""
     ]
    }
   ],
   "source": [
    "best_hyperparams = {\n",
    "    'colsample_bytree': 0.7081361979761758,\n",
    "    'gamma': 0.2571517165765498,\n",
    "    'learning_rate': 0.28119778222635666,\n",
    "    'max_depth': 8,\n",
    "    'min_child_weight': 4.574245969603654,\n",
    "    'n_estimators': 632,\n",
    "    'subsample': 0.698726673847962\n",
    "}\n",
    "\n",
    "# Convert 'max_depth' and 'n_estimators' to integers because XGBoost expects them to be integers\n",
    "best_hyperparams['max_depth'] = int(best_hyperparams['max_depth'])\n",
    "best_hyperparams['n_estimators'] = int(best_hyperparams['n_estimators'])\n",
    "\n",
    "f1, model = evaluate_model_opt(X_train, X_val, y_train, y_val, best_hyperparams)"
   ]
  },
  {
   "cell_type": "code",
   "outputs": [],
   "source": [
    "def visualise_learning_curves(X_train, X_val, y_train, y_val, space):\n",
    "    # Encoding categorical features\n",
    "    encoder = ce.OneHotEncoder(cols=X_train.select_dtypes(include=['object', 'category']).columns, \n",
    "                               use_cat_names=True, \n",
    "                               drop_invariant=True, \n",
    "                               return_df=True)\n",
    "\n",
    "    X_train_encoded = encoder.fit_transform(X_train)\n",
    "    X_val_encoded = encoder.transform(X_val)\n",
    "\n",
    "    # Show learning curve if requested\n",
    "    fig, ax = plt.subplots(figsize=(8, 4))\n",
    "    viz = ms.LearningCurve(\n",
    "        XGBClassifier(**space),\n",
    "        ax=ax,\n",
    "        scoring=\"f1_weighted\",\n",
    "        train_sizes=np.linspace(0.1, 1.0, 10)\n",
    "    )\n",
    "    viz.fit(X_train_encoded[choosen_feature], y_train)\n",
    "    viz.show()\n"
   ],
   "metadata": {
    "collapsed": false,
    "ExecuteTime": {
     "end_time": "2024-01-28T17:09:43.792655700Z",
     "start_time": "2024-01-28T17:09:43.779215700Z"
    }
   },
   "execution_count": 30
  },
  {
   "cell_type": "code",
   "outputs": [
    {
     "data": {
      "text/plain": "<Figure size 800x400 with 1 Axes>",
      "image/png": "[encoded data removed]"
     },
     "metadata": {},
     "output_type": "display_data"
    }
   ],
   "source": [
    "import xgboost as xgb\n",
    "import matplotlib.pyplot as plt\n",
    "import yellowbrick.model_selection as ms\n",
    "\n",
    "# Best hyperparameters obtained from Bayesian optimization\n",
    "best_hyperparams = {\n",
    "    'colsample_bytree': 0.7081361979761758,\n",
    "    'gamma': 0.2571517165765498,\n",
    "    'learning_rate': 0.28119778222635666,\n",
    "    'max_depth': 8,\n",
    "    'min_child_weight': 4.574245969603654,\n",
    "    'n_estimators': 632,\n",
    "    'subsample': 0.698726673847962\n",
    "}\n",
    "\n",
    "# Adjusted hyperparameters to mitigate overfitting\n",
    "adjusted_hyperparams = best_hyperparams.copy()\n",
    "adjusted_hyperparams['gamma'] = 10  # Increase gamma\n",
    "adjusted_hyperparams['max_depth'] = 6  # Decrease max_depth\n",
    "adjusted_hyperparams['n_estimators'] = 400  # Decrease n_estimators\n",
    "\n",
    "\n",
    "visualise_learning_curves(X_train, X_val, y_train, y_val, adjusted_hyperparams)"
   ],
   "metadata": {
    "collapsed": false,
    "ExecuteTime": {
     "end_time": "2024-01-28T17:55:26.063042200Z",
     "start_time": "2024-01-28T17:55:19.440328200Z"
    }
   },
   "execution_count": 73
  },
  {
   "cell_type": "code",
   "execution_count": null,
   "metadata": {
    "ExecuteTime": {
     "start_time": "2024-01-28T14:47:38.416675300Z"
    }
   },
   "outputs": [],
   "source": []
  }
 ],
 "metadata": {
  "kernelspec": {
   "display_name": "Python 3 (ipykernel)",
   "language": "python",
   "name": "python3"
  },
  "language_info": {
   "codemirror_mode": {
    "name": "ipython",
    "version": 3
   },
   "file_extension": ".py",
   "mimetype": "text/x-python",
   "name": "python",
   "nbconvert_exporter": "python",
   "pygments_lexer": "ipython3",
   "version": "3.10.8"
  }
 },
 "nbformat": 4,
 "nbformat_minor": 4
}
