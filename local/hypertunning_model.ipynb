{
 "cells": [
  {
   "cell_type": "code",
   "execution_count": null,
   "metadata": {
    "collapsed": false,
    "jupyter": {
     "outputs_hidden": false
    },
    "pycharm": {
     "name": "#%%\n",
     "is_executing": true
    }
   },
   "outputs": [],
   "source": [
    "import warnings\n",
    "\n",
    "import pandas as pd\n",
    "import numpy as np\n",
    "import xgboost as xgb\n",
    "\n",
    "from sklearn import metrics, model_selection, pipeline\n",
    "from sklearn.metrics import f1_score\n",
    "\n",
    "import matplotlib.pyplot as plt\n",
    "\n",
    "warnings.filterwarnings('ignore')"
   ]
  },
  {
   "cell_type": "code",
   "execution_count": 2,
   "metadata": {
    "collapsed": false,
    "jupyter": {
     "outputs_hidden": false
    },
    "pycharm": {
     "name": "#%%\n"
    }
   },
   "outputs": [],
   "source": [
    "df = pd.read_csv('../data/transform/df_engineered.csv')\n",
    "df_tst = pd.read_csv('../data/transform/df_engineered_tst.csv')"
   ]
  },
  {
   "cell_type": "code",
   "execution_count": 3,
   "metadata": {
    "scrolled": true,
    "pycharm": {
     "name": "#%%\n"
    }
   },
   "outputs": [
    {
     "name": "stdout",
     "output_type": "stream",
     "text": [
      "<class 'pandas.core.frame.DataFrame'>\n",
      "RangeIndex: 3040 entries, 0 to 3039\n",
      "Data columns (total 39 columns):\n",
      " #   Column                                                                                   Non-Null Count  Dtype  \n",
      "---  ------                                                                                   --------------  -----  \n",
      " 0   player_rating_home_player_1                                                              3040 non-null   int64  \n",
      " 1   player_rating_home_player_9                                                              3040 non-null   int64  \n",
      " 2   player_rating_home_player_10                                                             3040 non-null   int64  \n",
      " 3   player_rating_away_player_10                                                             3040 non-null   int64  \n",
      " 4   player_rating_away_player_11                                                             3040 non-null   int64  \n",
      " 5   away_team_ewm_goals                                                                      3022 non-null   float64\n",
      " 6   home_weighted_wins                                                                       3040 non-null   float64\n",
      " 7   away_weighted_wins                                                                       3040 non-null   float64\n",
      " 8   avg_away_team_rating                                                                     3040 non-null   float64\n",
      " 9   away_streak_wins                                                                         3040 non-null   float64\n",
      " 10  diff_player_7                                                                            3040 non-null   int64  \n",
      " 11  diff_player_10                                                                           3040 non-null   int64  \n",
      " 12  home_goals_rolling                                                                       3040 non-null   float64\n",
      " 13  away_goals_rolling                                                                       3040 non-null   float64\n",
      " 14  away_shots_on_rolling                                                                    3040 non-null   float64\n",
      " 15  avg_away_rating_attack                                                                   3040 non-null   float64\n",
      " 16  ewma_shoton_away_rating_difference_interaction                                           3040 non-null   float64\n",
      " 17  player_rating_home_player_10_rating_difference_interaction                               3040 non-null   float64\n",
      " 18  rating_difference_rating_difference_interaction                                          3040 non-null   float64\n",
      " 19  diff_player_1_player_rating_home_player_8_interaction                                    3040 non-null   int64  \n",
      " 20  ewma_shoton_away_player_rating_home_player_8_interaction                                 3040 non-null   float64\n",
      " 21  avg_home_rating_attack_ewma_shoton_away_interaction                                      3040 non-null   float64\n",
      " 22  avg_home_rating_attack_away_team_ewm_goals_interaction                                   3040 non-null   float64\n",
      " 23  away_team_ewm_goals_rating_difference_interaction                                        3040 non-null   float64\n",
      " 24  player_rating_away_player_11_player_rating_home_player_10_interaction                    3040 non-null   int64  \n",
      " 25  avg_away_team_rating_player_rating_home_player_10_interaction                            3040 non-null   float64\n",
      " 26  home_team_ewm_goals_conceded_player_rating_away_player_11_interaction                    3040 non-null   float64\n",
      " 27  avg_home_rating_attack_ewma_shoton_home_rating_difference_interaction                    3040 non-null   float64\n",
      " 28  avg_away_rating_attack_ewma_shoton_away_rating_difference_interaction                    3040 non-null   float64\n",
      " 29  ewma_shoton_home_player_rating_away_player_11_rating_difference_interaction              3040 non-null   float64\n",
      " 30  avg_away_team_rating_player_rating_home_player_10_rating_difference_interaction          3040 non-null   float64\n",
      " 31  ewma_shoton_away_player_rating_home_player_8_rating_difference_interaction               3040 non-null   float64\n",
      " 32  avg_home_rating_attack_away_team_ewm_goals_rating_difference_interaction                 3040 non-null   float64\n",
      " 33  player_rating_home_player_10_player_rating_home_player_11_rating_difference_interaction  3040 non-null   float64\n",
      " 34  away_streak_wins_diff_player_9_rating_difference_interaction                             3040 non-null   float64\n",
      " 35  ewma_shoton_away_ewma_shoton_home_player_rating_home_player_8_interaction                3040 non-null   float64\n",
      " 36  home_team_ewm_goals_player_rating_away_player_7_rating_difference_interaction            3040 non-null   float64\n",
      " 37  diff_player_10_ewma_shoton_away_rating_difference_interaction                            3040 non-null   float64\n",
      " 38  result_match                                                                             3040 non-null   int64  \n",
      "dtypes: float64(29), int64(10)\n",
      "memory usage: 926.4 KB\n"
     ]
    }
   ],
   "source": [
    "df_tst.info()"
   ]
  },
  {
   "cell_type": "code",
   "execution_count": 4,
   "metadata": {
    "collapsed": false,
    "jupyter": {
     "outputs_hidden": false
    },
    "pycharm": {
     "name": "#%%\n"
    },
    "scrolled": true
   },
   "outputs": [
    {
     "name": "stdout",
     "output_type": "stream",
     "text": [
      "<class 'pandas.core.frame.DataFrame'>\n",
      "RangeIndex: 3040 entries, 0 to 3039\n",
      "Data columns (total 39 columns):\n",
      " #   Column                                                                                   Non-Null Count  Dtype  \n",
      "---  ------                                                                                   --------------  -----  \n",
      " 0   player_rating_home_player_1                                                              3040 non-null   int64  \n",
      " 1   player_rating_home_player_9                                                              3040 non-null   int64  \n",
      " 2   player_rating_home_player_10                                                             3040 non-null   int64  \n",
      " 3   player_rating_away_player_10                                                             3040 non-null   int64  \n",
      " 4   player_rating_away_player_11                                                             3040 non-null   int64  \n",
      " 5   away_team_ewm_goals                                                                      3022 non-null   float64\n",
      " 6   home_weighted_wins                                                                       3040 non-null   float64\n",
      " 7   away_weighted_wins                                                                       3040 non-null   float64\n",
      " 8   avg_away_team_rating                                                                     3040 non-null   float64\n",
      " 9   away_streak_wins                                                                         3040 non-null   float64\n",
      " 10  diff_player_7                                                                            3040 non-null   int64  \n",
      " 11  diff_player_10                                                                           3040 non-null   int64  \n",
      " 12  home_goals_rolling                                                                       3040 non-null   float64\n",
      " 13  away_goals_rolling                                                                       3040 non-null   float64\n",
      " 14  away_shots_on_rolling                                                                    3040 non-null   float64\n",
      " 15  avg_away_rating_attack                                                                   3040 non-null   float64\n",
      " 16  ewma_shoton_away_rating_difference_interaction                                           3040 non-null   float64\n",
      " 17  player_rating_home_player_10_rating_difference_interaction                               3040 non-null   float64\n",
      " 18  rating_difference_rating_difference_interaction                                          3040 non-null   float64\n",
      " 19  diff_player_1_player_rating_home_player_8_interaction                                    3040 non-null   int64  \n",
      " 20  ewma_shoton_away_player_rating_home_player_8_interaction                                 3040 non-null   float64\n",
      " 21  avg_home_rating_attack_ewma_shoton_away_interaction                                      3040 non-null   float64\n",
      " 22  avg_home_rating_attack_away_team_ewm_goals_interaction                                   3040 non-null   float64\n",
      " 23  away_team_ewm_goals_rating_difference_interaction                                        3040 non-null   float64\n",
      " 24  player_rating_away_player_11_player_rating_home_player_10_interaction                    3040 non-null   int64  \n",
      " 25  avg_away_team_rating_player_rating_home_player_10_interaction                            3040 non-null   float64\n",
      " 26  home_team_ewm_goals_conceded_player_rating_away_player_11_interaction                    3040 non-null   float64\n",
      " 27  avg_home_rating_attack_ewma_shoton_home_rating_difference_interaction                    3040 non-null   float64\n",
      " 28  avg_away_rating_attack_ewma_shoton_away_rating_difference_interaction                    3040 non-null   float64\n",
      " 29  ewma_shoton_home_player_rating_away_player_11_rating_difference_interaction              3040 non-null   float64\n",
      " 30  avg_away_team_rating_player_rating_home_player_10_rating_difference_interaction          3040 non-null   float64\n",
      " 31  ewma_shoton_away_player_rating_home_player_8_rating_difference_interaction               3040 non-null   float64\n",
      " 32  avg_home_rating_attack_away_team_ewm_goals_rating_difference_interaction                 3040 non-null   float64\n",
      " 33  player_rating_home_player_10_player_rating_home_player_11_rating_difference_interaction  3040 non-null   float64\n",
      " 34  away_streak_wins_diff_player_9_rating_difference_interaction                             3040 non-null   float64\n",
      " 35  ewma_shoton_away_ewma_shoton_home_player_rating_home_player_8_interaction                3040 non-null   float64\n",
      " 36  home_team_ewm_goals_player_rating_away_player_7_rating_difference_interaction            3040 non-null   float64\n",
      " 37  diff_player_10_ewma_shoton_away_rating_difference_interaction                            3040 non-null   float64\n",
      " 38  result_match                                                                             3040 non-null   int64  \n",
      "dtypes: float64(29), int64(10)\n",
      "memory usage: 926.4 KB\n"
     ]
    }
   ],
   "source": [
    "df.info()"
   ]
  },
  {
   "cell_type": "code",
   "execution_count": 5,
   "metadata": {
    "pycharm": {
     "name": "#%%\n"
    }
   },
   "outputs": [],
   "source": [
    "X_train, X_val, y_train, y_val = model_selection.train_test_split(df.drop(['result_match'], axis=1), df['result_match'], test_size=.2, random_state=42)\n",
    "\n",
    "X_test = df_tst.loc[:600].drop('result_match', axis=1)\n",
    "y_test = df_tst.loc[:600]['result_match']"
   ]
  },
  {
   "cell_type": "code",
   "execution_count": 6,
   "metadata": {
    "pycharm": {
     "name": "#%%\n"
    }
   },
   "outputs": [
    {
     "name": "stdout",
     "output_type": "stream",
     "text": [
      "X_train shape: (2432, 38)\n",
      "y_train shape: (2432,)\n",
      "X_val shape: (608, 38)\n",
      "y_val shape: (608,)\n",
      "X_test shape: (601, 38)\n",
      "y_test shape: (601,)\n"
     ]
    }
   ],
   "source": [
    "print(f'X_train shape: {X_train.shape}')\n",
    "print(f'y_train shape: {y_train.shape}')\n",
    "print(f'X_val shape: {X_val.shape}')\n",
    "print(f'y_val shape: {y_val.shape}')\n",
    "print(f'X_test shape: {X_test.shape}')\n",
    "print(f'y_test shape: {y_test.shape}')"
   ]
  },
  {
   "cell_type": "code",
   "execution_count": 7,
   "metadata": {
    "pycharm": {
     "name": "#%%\n"
    }
   },
   "outputs": [
    {
     "name": "stdout",
     "output_type": "stream",
     "text": [
      "0.5329124249890244\n"
     ]
    }
   ],
   "source": [
    "# Initialize the XGBClassifier\n",
    "cfl = xgb.XGBClassifier(random_state=42)\n",
    "\n",
    "# Train the model on the full feature set\n",
    "cfl.fit(X_train, y_train)\n",
    "y_pred = cfl.predict(X_val)\n",
    "\n",
    "f1 = f1_score(y_val, y_pred, average='weighted')\n",
    "\n",
    "print(f1)"
   ]
  },
  {
   "cell_type": "code",
   "execution_count": 8,
   "metadata": {
    "pycharm": {
     "name": "#%%\n"
    }
   },
   "outputs": [
    {
     "data": {
      "text/plain": [
       "0.5427631578947368"
      ]
     },
     "execution_count": 8,
     "metadata": {},
     "output_type": "execute_result"
    }
   ],
   "source": [
    "xg_oob = xgb.XGBClassifier()\n",
    "xg_oob.fit(X_train, y_train)\n",
    "xg_oob.score(X_val, y_val)"
   ]
  },
  {
   "cell_type": "code",
   "execution_count": 9,
   "metadata": {
    "pycharm": {
     "name": "#%%\n"
    }
   },
   "outputs": [
    {
     "data": {
      "text/plain": [
       "0.5608552631578947"
      ]
     },
     "execution_count": 9,
     "metadata": {},
     "output_type": "execute_result"
    }
   ],
   "source": [
    "# Let's try w/ depth of 2 and 2 trees\n",
    "xg2 = xgb.XGBClassifier(max_depth=2, n_estimators=2)\n",
    "xg2.fit(X_train, y_train)\n",
    "xg2.score(X_val, y_val)"
   ]
  },
  {
   "cell_type": "code",
   "execution_count": 10,
   "metadata": {
    "pycharm": {
     "name": "#%%\n"
    }
   },
   "outputs": [],
   "source": [
    "# import dtreeviz\n",
    "\n",
    "# X_train = X_train.dropna()\n",
    "# indices_to_drop = X_train.index.difference(X_train.index)\n",
    "# y_train = y_train.drop(indices_to_drop)\n",
    "\n",
    "# viz = dtreeviz.model(xg2, X_train=X_train, y_train=y_train, target_name='result_match',\n",
    "#                      feature_names=list(X_train.columns),\n",
    "#                      class_names=['Away win', 'Draw', 'Home win'], tree_index=1)\n",
    "# viz.view(depth_range_to_display=[0,2])"
   ]
  },
  {
   "cell_type": "code",
   "execution_count": 11,
   "metadata": {
    "pycharm": {
     "name": "#%%\n"
    }
   },
   "outputs": [
    {
     "name": "stdout",
     "output_type": "stream",
     "text": [
      "[0]\tvalidation_0-mlogloss:1.00669\tvalidation_1-mlogloss:1.05226\n",
      "[1]\tvalidation_0-mlogloss:0.93699\tvalidation_1-mlogloss:1.01929\n",
      "[2]\tvalidation_0-mlogloss:0.88245\tvalidation_1-mlogloss:1.00540\n",
      "[3]\tvalidation_0-mlogloss:0.83384\tvalidation_1-mlogloss:0.99840\n",
      "[4]\tvalidation_0-mlogloss:0.79957\tvalidation_1-mlogloss:0.99397\n",
      "[5]\tvalidation_0-mlogloss:0.76691\tvalidation_1-mlogloss:0.99125\n",
      "[6]\tvalidation_0-mlogloss:0.74154\tvalidation_1-mlogloss:0.99133\n",
      "[7]\tvalidation_0-mlogloss:0.71510\tvalidation_1-mlogloss:0.99098\n",
      "[8]\tvalidation_0-mlogloss:0.69878\tvalidation_1-mlogloss:0.98944\n",
      "[9]\tvalidation_0-mlogloss:0.67499\tvalidation_1-mlogloss:0.99099\n",
      "[10]\tvalidation_0-mlogloss:0.66438\tvalidation_1-mlogloss:0.99025\n",
      "[11]\tvalidation_0-mlogloss:0.65466\tvalidation_1-mlogloss:0.98995\n",
      "[12]\tvalidation_0-mlogloss:0.64130\tvalidation_1-mlogloss:0.98909\n",
      "[13]\tvalidation_0-mlogloss:0.61813\tvalidation_1-mlogloss:0.99446\n",
      "[14]\tvalidation_0-mlogloss:0.60151\tvalidation_1-mlogloss:0.99632\n",
      "[15]\tvalidation_0-mlogloss:0.58331\tvalidation_1-mlogloss:0.99545\n",
      "[16]\tvalidation_0-mlogloss:0.57310\tvalidation_1-mlogloss:0.99982\n",
      "[17]\tvalidation_0-mlogloss:0.56738\tvalidation_1-mlogloss:1.00058\n",
      "[18]\tvalidation_0-mlogloss:0.55859\tvalidation_1-mlogloss:1.00383\n",
      "[19]\tvalidation_0-mlogloss:0.54765\tvalidation_1-mlogloss:1.00585\n",
      "[20]\tvalidation_0-mlogloss:0.52564\tvalidation_1-mlogloss:1.00620\n",
      "[21]\tvalidation_0-mlogloss:0.51125\tvalidation_1-mlogloss:1.00808\n",
      "[22]\tvalidation_0-mlogloss:0.50356\tvalidation_1-mlogloss:1.00826\n",
      "[23]\tvalidation_0-mlogloss:0.49569\tvalidation_1-mlogloss:1.00724\n",
      "[24]\tvalidation_0-mlogloss:0.48759\tvalidation_1-mlogloss:1.00812\n",
      "[25]\tvalidation_0-mlogloss:0.47460\tvalidation_1-mlogloss:1.00741\n",
      "[26]\tvalidation_0-mlogloss:0.46010\tvalidation_1-mlogloss:1.01071\n",
      "[27]\tvalidation_0-mlogloss:0.44923\tvalidation_1-mlogloss:1.01125\n",
      "[28]\tvalidation_0-mlogloss:0.43576\tvalidation_1-mlogloss:1.01085\n",
      "[29]\tvalidation_0-mlogloss:0.42606\tvalidation_1-mlogloss:1.00896\n",
      "[30]\tvalidation_0-mlogloss:0.41861\tvalidation_1-mlogloss:1.01165\n",
      "[31]\tvalidation_0-mlogloss:0.41095\tvalidation_1-mlogloss:1.01312\n"
     ]
    },
    {
     "data": {
      "text/plain": [
       "0.7720465890183028"
      ]
     },
     "execution_count": 11,
     "metadata": {},
     "output_type": "execute_result"
    }
   ],
   "source": [
    "xg = xgb.XGBClassifier(early_stopping_rounds=20)\n",
    "xg.fit(X_train, y_train,\n",
    "       eval_set=[(X_train, y_train), (X_val, y_val)]\n",
    "      )\n",
    "xg.score(X_test, y_test)"
   ]
  },
  {
   "cell_type": "code",
   "execution_count": 12,
   "metadata": {
    "pycharm": {
     "name": "#%%\n"
    }
   },
   "outputs": [
    {
     "data": {
      "text/plain": [
       "12"
      ]
     },
     "execution_count": 12,
     "metadata": {},
     "output_type": "execute_result"
    }
   ],
   "source": [
    "xg.best_iteration"
   ]
  },
  {
   "cell_type": "code",
   "execution_count": 13,
   "metadata": {
    "pycharm": {
     "name": "#%%\n"
    }
   },
   "outputs": [
    {
     "data": {
      "text/plain": [
       "Text(0.5, 0, 'ntrees')"
      ]
     },
     "execution_count": 13,
     "metadata": {},
     "output_type": "execute_result"
    },
    {
     "data": {
      "image/png": "[encoded data removed]",
      "text/plain": [
       "<Figure size 500x400 with 1 Axes>"
      ]
     },
     "metadata": {},
     "output_type": "display_data"
    }
   ],
   "source": [
    "# Testing score is best at 13 trees\n",
    "results = xg.evals_result()\n",
    "fig, ax = plt.subplots(figsize=(8, 4))\n",
    "ax = (pd.DataFrame({'training': results['validation_0']['mlogloss'],\n",
    "                    'testing': results['validation_1']['mlogloss']})\n",
    "      .assign(ntrees=lambda adf: range(1, len(adf)+1))\n",
    "      .set_index('ntrees')\n",
    "      .plot(figsize=(5,4), ax=ax,title='eval_results with early_stopping')\n",
    "     )\n",
    "\n",
    "ax.annotate('Best number \\nof trees (12)', xy=(12, .498),\n",
    "xytext=(20,.42), arrowprops={'color':'k'})\n",
    "ax.set_xlabel('ntrees')"
   ]
  },
  {
   "cell_type": "code",
   "execution_count": 14,
   "metadata": {
    "pycharm": {
     "name": "#%%\n"
    }
   },
   "outputs": [
    {
     "data": {
      "text/plain": [
       "0.5427631578947368"
      ]
     },
     "execution_count": 14,
     "metadata": {},
     "output_type": "execute_result"
    }
   ],
   "source": [
    "# No early stopping, uses all estimators\n",
    "xg_no_es = xgb.XGBClassifier()\n",
    "xg_no_es.fit(X_train, y_train)\n",
    "xg_no_es.score(X_val, y_val)"
   ]
  },
  {
   "cell_type": "code",
   "execution_count": 15,
   "metadata": {
    "pycharm": {
     "name": "#%%\n"
    }
   },
   "outputs": [],
   "source": [
    "# One convention\n",
    "# is that hyperparameters that start with max_ will tend to complicate the model (and lead to\n",
    "# overfitting) when you raise the value. Conversely, they will simplify the model if you lower\n",
    "# them (and lead to underfitting). Often there is a sweet spot in between"
   ]
  },
  {
   "cell_type": "code",
   "execution_count": 16,
   "metadata": {
    "pycharm": {
     "name": "#%%\n"
    }
   },
   "outputs": [
    {
     "data": {
      "image/png": "[encoded data removed]",
      "text/plain": [
       "<Figure size 800x400 with 1 Axes>"
      ]
     },
     "metadata": {},
     "output_type": "display_data"
    },
    {
     "data": {
      "text/html": [
       "<style>#sk-container-id-1 {color: black;}#sk-container-id-1 pre{padding: 0;}#sk-container-id-1 div.sk-toggleable {background-color: white;}#sk-container-id-1 label.sk-toggleable__label {cursor: pointer;display: block;width: 100%;margin-bottom: 0;padding: 0.3em;box-sizing: border-box;text-align: center;}#sk-container-id-1 label.sk-toggleable__label-arrow:before {content: \"▸\";float: left;margin-right: 0.25em;color: #696969;}#sk-container-id-1 label.sk-toggleable__label-arrow:hover:before {color: black;}#sk-container-id-1 div.sk-estimator:hover label.sk-toggleable__label-arrow:before {color: black;}#sk-container-id-1 div.sk-toggleable__content {max-height: 0;max-width: 0;overflow: hidden;text-align: left;background-color: #f0f8ff;}#sk-container-id-1 div.sk-toggleable__content pre {margin: 0.2em;color: black;border-radius: 0.25em;background-color: #f0f8ff;}#sk-container-id-1 input.sk-toggleable__control:checked~div.sk-toggleable__content {max-height: 200px;max-width: 100%;overflow: auto;}#sk-container-id-1 input.sk-toggleable__control:checked~label.sk-toggleable__label-arrow:before {content: \"▾\";}#sk-container-id-1 div.sk-estimator input.sk-toggleable__control:checked~label.sk-toggleable__label {background-color: #d4ebff;}#sk-container-id-1 div.sk-label input.sk-toggleable__control:checked~label.sk-toggleable__label {background-color: #d4ebff;}#sk-container-id-1 input.sk-hidden--visually {border: 0;clip: rect(1px 1px 1px 1px);clip: rect(1px, 1px, 1px, 1px);height: 1px;margin: -1px;overflow: hidden;padding: 0;position: absolute;width: 1px;}#sk-container-id-1 div.sk-estimator {font-family: monospace;background-color: #f0f8ff;border: 1px dotted black;border-radius: 0.25em;box-sizing: border-box;margin-bottom: 0.5em;}#sk-container-id-1 div.sk-estimator:hover {background-color: #d4ebff;}#sk-container-id-1 div.sk-parallel-item::after {content: \"\";width: 100%;border-bottom: 1px solid gray;flex-grow: 1;}#sk-container-id-1 div.sk-label:hover label.sk-toggleable__label {background-color: #d4ebff;}#sk-container-id-1 div.sk-serial::before {content: \"\";position: absolute;border-left: 1px solid gray;box-sizing: border-box;top: 0;bottom: 0;left: 50%;z-index: 0;}#sk-container-id-1 div.sk-serial {display: flex;flex-direction: column;align-items: center;background-color: white;padding-right: 0.2em;padding-left: 0.2em;position: relative;}#sk-container-id-1 div.sk-item {position: relative;z-index: 1;}#sk-container-id-1 div.sk-parallel {display: flex;align-items: stretch;justify-content: center;background-color: white;position: relative;}#sk-container-id-1 div.sk-item::before, #sk-container-id-1 div.sk-parallel-item::before {content: \"\";position: absolute;border-left: 1px solid gray;box-sizing: border-box;top: 0;bottom: 0;left: 50%;z-index: -1;}#sk-container-id-1 div.sk-parallel-item {display: flex;flex-direction: column;z-index: 1;position: relative;background-color: white;}#sk-container-id-1 div.sk-parallel-item:first-child::after {align-self: flex-end;width: 50%;}#sk-container-id-1 div.sk-parallel-item:last-child::after {align-self: flex-start;width: 50%;}#sk-container-id-1 div.sk-parallel-item:only-child::after {width: 0;}#sk-container-id-1 div.sk-dashed-wrapped {border: 1px dashed gray;margin: 0 0.4em 0.5em 0.4em;box-sizing: border-box;padding-bottom: 0.4em;background-color: white;}#sk-container-id-1 div.sk-label label {font-family: monospace;font-weight: bold;display: inline-block;line-height: 1.2em;}#sk-container-id-1 div.sk-label-container {text-align: center;}#sk-container-id-1 div.sk-container {/* jupyter's `normalize.less` sets `[hidden] { display: none; }` but bootstrap.min.css set `[hidden] { display: none !important; }` so we also need the `!important` here to be able to override the default hidden behavior on the sphinx rendered scikit-learn.org. See: https://github.com/scikit-learn/scikit-learn/issues/21755 */display: inline-block !important;position: relative;}#sk-container-id-1 div.sk-text-repr-fallback {display: none;}</style><div id=\"sk-container-id-1\" class=\"sk-top-container\"><div class=\"sk-text-repr-fallback\"><pre>ValidationCurve(ax=&lt;Axes: title={&#x27;center&#x27;: &#x27;Validation Curve for XGBClassifier&#x27;}, xlabel=&#x27;learning_rate&#x27;, ylabel=&#x27;score&#x27;&gt;,\n",
       "                estimator=XGBClassifier(base_score=None, booster=None,\n",
       "                                        callbacks=None, colsample_bylevel=None,\n",
       "                                        colsample_bynode=None,\n",
       "                                        colsample_bytree=None, device=None,\n",
       "                                        early_stopping_rounds=None,\n",
       "                                        enable_categorical=False,\n",
       "                                        eval_metric=None, feature_types=None,...\n",
       "                                        max_cat_threshold=None,\n",
       "                                        max_cat_to_onehot=None,\n",
       "                                        max_delta_step=None, max_depth=None,\n",
       "                                        max_leaves=None, min_child_weight=None,\n",
       "                                        missing=nan, monotone_constraints=None,\n",
       "                                        multi_strategy=None, n_estimators=None,\n",
       "                                        n_jobs=None, num_parallel_tree=None,\n",
       "                                        random_state=None, ...),\n",
       "                n_jobs=-1, param_name=&#x27;learning_rate&#x27;,\n",
       "                param_range=array([0.001, 0.005, 0.01 , 0.05 , 0.1  , 0.15 , 0.2  , 0.3  ]),\n",
       "                scoring=&#x27;f1_weighted&#x27;)</pre><b>In a Jupyter environment, please rerun this cell to show the HTML representation or trust the notebook. <br />On GitHub, the HTML representation is unable to render, please try loading this page with nbviewer.org.</b></div><div class=\"sk-container\" hidden><div class=\"sk-item sk-dashed-wrapped\"><div class=\"sk-label-container\"><div class=\"sk-label sk-toggleable\"><input class=\"sk-toggleable__control sk-hidden--visually\" id=\"sk-estimator-id-1\" type=\"checkbox\" ><label for=\"sk-estimator-id-1\" class=\"sk-toggleable__label sk-toggleable__label-arrow\">ValidationCurve</label><div class=\"sk-toggleable__content\"><pre>ValidationCurve(ax=&lt;Axes: title={&#x27;center&#x27;: &#x27;Validation Curve for XGBClassifier&#x27;}, xlabel=&#x27;learning_rate&#x27;, ylabel=&#x27;score&#x27;&gt;,\n",
       "                estimator=XGBClassifier(base_score=None, booster=None,\n",
       "                                        callbacks=None, colsample_bylevel=None,\n",
       "                                        colsample_bynode=None,\n",
       "                                        colsample_bytree=None, device=None,\n",
       "                                        early_stopping_rounds=None,\n",
       "                                        enable_categorical=False,\n",
       "                                        eval_metric=None, feature_types=None,...\n",
       "                                        max_cat_threshold=None,\n",
       "                                        max_cat_to_onehot=None,\n",
       "                                        max_delta_step=None, max_depth=None,\n",
       "                                        max_leaves=None, min_child_weight=None,\n",
       "                                        missing=nan, monotone_constraints=None,\n",
       "                                        multi_strategy=None, n_estimators=None,\n",
       "                                        n_jobs=None, num_parallel_tree=None,\n",
       "                                        random_state=None, ...),\n",
       "                n_jobs=-1, param_name=&#x27;learning_rate&#x27;,\n",
       "                param_range=array([0.001, 0.005, 0.01 , 0.05 , 0.1  , 0.15 , 0.2  , 0.3  ]),\n",
       "                scoring=&#x27;f1_weighted&#x27;)</pre></div></div></div><div class=\"sk-parallel\"><div class=\"sk-parallel-item\"><div class=\"sk-item\"><div class=\"sk-label-container\"><div class=\"sk-label sk-toggleable\"><input class=\"sk-toggleable__control sk-hidden--visually\" id=\"sk-estimator-id-2\" type=\"checkbox\" ><label for=\"sk-estimator-id-2\" class=\"sk-toggleable__label sk-toggleable__label-arrow\">estimator: XGBClassifier</label><div class=\"sk-toggleable__content\"><pre>XGBClassifier(base_score=None, booster=None, callbacks=None,\n",
       "              colsample_bylevel=None, colsample_bynode=None,\n",
       "              colsample_bytree=None, device=None, early_stopping_rounds=None,\n",
       "              enable_categorical=False, eval_metric=None, feature_types=None,\n",
       "              gamma=None, grow_policy=None, importance_type=None,\n",
       "              interaction_constraints=None, learning_rate=None, max_bin=None,\n",
       "              max_cat_threshold=None, max_cat_to_onehot=None,\n",
       "              max_delta_step=None, max_depth=None, max_leaves=None,\n",
       "              min_child_weight=None, missing=nan, monotone_constraints=None,\n",
       "              multi_strategy=None, n_estimators=None, n_jobs=None,\n",
       "              num_parallel_tree=None, random_state=None, ...)</pre></div></div></div><div class=\"sk-serial\"><div class=\"sk-item\"><div class=\"sk-estimator sk-toggleable\"><input class=\"sk-toggleable__control sk-hidden--visually\" id=\"sk-estimator-id-3\" type=\"checkbox\" ><label for=\"sk-estimator-id-3\" class=\"sk-toggleable__label sk-toggleable__label-arrow\">XGBClassifier</label><div class=\"sk-toggleable__content\"><pre>XGBClassifier(base_score=None, booster=None, callbacks=None,\n",
       "              colsample_bylevel=None, colsample_bynode=None,\n",
       "              colsample_bytree=None, device=None, early_stopping_rounds=None,\n",
       "              enable_categorical=False, eval_metric=None, feature_types=None,\n",
       "              gamma=None, grow_policy=None, importance_type=None,\n",
       "              interaction_constraints=None, learning_rate=None, max_bin=None,\n",
       "              max_cat_threshold=None, max_cat_to_onehot=None,\n",
       "              max_delta_step=None, max_depth=None, max_leaves=None,\n",
       "              min_child_weight=None, missing=nan, monotone_constraints=None,\n",
       "              multi_strategy=None, n_estimators=None, n_jobs=None,\n",
       "              num_parallel_tree=None, random_state=None, ...)</pre></div></div></div></div></div></div></div></div></div></div>"
      ],
      "text/plain": [
       "ValidationCurve(ax=<Axes: title={'center': 'Validation Curve for XGBClassifier'}, xlabel='learning_rate', ylabel='score'>,\n",
       "                estimator=XGBClassifier(base_score=None, booster=None,\n",
       "                                        callbacks=None, colsample_bylevel=None,\n",
       "                                        colsample_bynode=None,\n",
       "                                        colsample_bytree=None, device=None,\n",
       "                                        early_stopping_rounds=None,\n",
       "                                        enable_categorical=False,\n",
       "                                        eval_metric=None, feature_types=None,...\n",
       "                                        max_cat_threshold=None,\n",
       "                                        max_cat_to_onehot=None,\n",
       "                                        max_delta_step=None, max_depth=None,\n",
       "                                        max_leaves=None, min_child_weight=None,\n",
       "                                        missing=nan, monotone_constraints=None,\n",
       "                                        multi_strategy=None, n_estimators=None,\n",
       "                                        n_jobs=None, num_parallel_tree=None,\n",
       "                                        random_state=None, ...),\n",
       "                n_jobs=-1, param_name='learning_rate',\n",
       "                param_range=array([0.001, 0.005, 0.01 , 0.05 , 0.1  , 0.15 , 0.2  , 0.3  ]),\n",
       "                scoring='f1_weighted')"
      ]
     },
     "execution_count": 16,
     "metadata": {},
     "output_type": "execute_result"
    }
   ],
   "source": [
    "from yellowbrick import model_selection as ms\n",
    "\n",
    "fig, ax = plt.subplots(figsize=(8, 4))\n",
    "# ms.validation_curve(xgb.XGBClassifier(), df.drop(['result_match'], axis=1), df['result_match'], param_name='gamma',\n",
    "#                     param_range=[0, .5, 1,5,10, 20, 30], n_jobs=-1, ax=ax, scoring=\"f1_weighted\")\n",
    "\n",
    "ms.validation_curve(xgb.XGBClassifier(), df.drop(['result_match'], axis=1), df['result_match'], param_name='learning_rate',\n",
    "                    param_range=[0.001, 0.005, 0.01, 0.05, 0.1, 0.15, 0.2, 0.3], n_jobs=-1, ax=ax, scoring=\"f1_weighted\")\n",
    "\n",
    "# This validation curve poses two possibilities: first, \n",
    "# that we do not have the correct param_range to find the best k and need to expand our search to larger values. \n",
    "# The second is that other hyperparameters (such as uniform or distance based weighting, or even the distance metric)\n",
    "# may have more influence on the default model than k by itself does.\n",
    "# Although validation curves can give us some intuition about the performance of a model to a single hyperparameter, \n",
    "# grid search is required to understand the performance of a model with respect to multiple hyperparameters."
   ]
  },
  {
   "cell_type": "code",
   "execution_count": null,
   "outputs": [],
   "source": [
    "from hyperopt import fmin, tpe, hp, STATUS_OK, Trials\n",
    "from sklearn.metrics import accuracy_score, roc_auc_score, f1_score\n",
    "from typing import Any, Dict, Union\n",
    "\n",
    "def hyperparameter_tuning(space: Dict[str, Union[float, int]],\n",
    "                          X_train: pd.DataFrame, y_train: pd.Series,\n",
    "                          X_test: pd.DataFrame, y_test: pd.Series,\n",
    "                          early_stopping_rounds: int=50,\n",
    "                          metric:callable=accuracy_score) -> Dict[str, Any]:\n",
    "    \"\"\"\n",
    "    Perform hyperparameter tuning for an XGBoost classifier.\n",
    "    \n",
    "    This function takes a dictionary of hyperparameters, training\n",
    "    and test data, and an optional value for early stopping rounds,\n",
    "    and returns a dictionary with the loss and model resulting from\n",
    "    the tuning process. The model is trained using the training\n",
    "    data and evaluated on the test data. The loss is computed as\n",
    "    the negative of the accuracy score.\n",
    "    Parameters\n",
    "    ----------\n",
    "    space : Dict[str, Union[float, int]]\n",
    "        A dictionary of hyperparameters for the XGBoost classifier.\n",
    "    X_train : pd.DataFrame\n",
    "        The training data.\n",
    "    y_train : pd.Series\n",
    "        The training target.\n",
    "    X_test : pd.DataFrame\n",
    "        The test data.\n",
    "    y_test : pd.Series\n",
    "        The test target.\n",
    "    early_stopping_rounds : int, optional\n",
    "        The number of early stopping rounds to use. The default value is 50.\n",
    "    metric : callable\n",
    "        Metric to maximize. Default is accuracy\n",
    "        Returns\n",
    "    -------\n",
    "    Dict[str, Any]\n",
    "        A dictionary with the loss and model resulting from the\n",
    "        tuning process. The loss is a float, and the model is an\n",
    "        XGBoost classifier.\n",
    "    \"\"\"\n",
    "\n",
    "    int_vals = ['max_depth', 'reg_alpha']\n",
    "    space = {k: (int(val) if k in int_vals else val)\n",
    "             for k,val in space.items()}\n",
    "    space['early_stopping_rounds'] = early_stopping_rounds\n",
    "    model = xgb.XGBClassifier(**space)\n",
    "    evaluation = [(X_train, y_train),(X_test, y_test)]\n",
    "    model.fit(X_train, y_train,eval_set=evaluation,verbose=False)\n",
    "    pred = model.predict(X_test)\n",
    "    score = metric(y_test, pred, average='weighted')\n",
    "    return {'loss': 1-score, 'status': STATUS_OK, 'model': model}\n"
   ],
   "metadata": {
    "collapsed": false,
    "pycharm": {
     "name": "#%%\n"
    }
   }
  },
  {
   "cell_type": "code",
   "execution_count": null,
   "outputs": [],
   "source": [
    "from hyperopt import hp, pyll\n",
    "\n",
    "uniform_vals = [pyll.stochastic.sample(hp.loguniform('value', -4, 0))\n",
    "    for _ in range(10_000)]\n",
    "fig, ax = plt.subplots(figsize=(8, 4))\n",
    "ax.hist(uniform_vals)"
   ],
   "metadata": {
    "collapsed": false,
    "pycharm": {
     "name": "#%%\n"
    }
   }
  },
  {
   "cell_type": "code",
   "execution_count": null,
   "outputs": [],
   "source": [
    "options = {'max_depth': hp.quniform('max_depth', 6, 22, 2), # tree\n",
    "    'min_child_weight': hp.loguniform('min_child_weight', -2, 3),\n",
    "    'subsample': hp.uniform('subsample', 0.5, 1), # stochastic\n",
    "    'colsample_bytree': hp.uniform('colsample_bytree', 0.5, 1),\n",
    "    'reg_alpha': hp.uniform('reg_alpha', 0, 10),\n",
    "    'reg_lambda': hp.uniform('reg_lambda', 1, 10),\n",
    "    'gamma': hp.loguniform('gamma', -10, 10), # regularization\n",
    "    'learning_rate': hp.loguniform('learning_rate', -5, 0), # boosting\n",
    "    'random_state': 42\n",
    "}\n",
    "\n",
    "trials = Trials()\n",
    "# Pass X_train and y_train to the hyperparameter_tuning function\n",
    "best = fmin(fn=lambda space: hyperparameter_tuning(space, X_train, y_train, X_val, y_val, 120, f1_score), space=options, algo=tpe.suggest, max_evals=2000, trials=trials)\n",
    "\n",
    "print(\"Best Hyperparameters:\", best)"
   ],
   "metadata": {
    "collapsed": false,
    "pycharm": {
     "name": "#%%\n"
    }
   }
  },
  {
   "cell_type": "code",
   "execution_count": null,
   "outputs": [],
   "source": [
    "best_hyperparameters_1 = {\n",
    "    'colsample_bytree': 0.7402689253639231,\n",
    "    'gamma': 0.0028348541499777537,\n",
    "    'learning_rate': 0.1752060870921795,\n",
    "    'max_depth': 6,\n",
    "    'min_child_weight': 3.0532978217490725,\n",
    "    'reg_alpha': 4.390442958079982,\n",
    "    'reg_lambda': 5.821841964093785,\n",
    "    'subsample': 0.68327049590758\n",
    "}\n",
    "\n",
    "best_hyperparameters_2 = {\n",
    "    'colsample_bytree': 0.7692485988189818,\n",
    "     'gamma': 0.00012070096616614979,\n",
    "     'learning_rate': 0.001554370091231591,\n",
    "     'max_depth': 12,\n",
    "     'min_child_weight': 1.0584548941145138,\n",
    "     'reg_alpha': 0.0029253070004006676,\n",
    "     'reg_lambda': 6.230782615668019,\n",
    "     'subsample': 0.9619535988644129\n",
    "}\n",
    "\n",
    "\n",
    "best_hyperparameters_3 = {\n",
    "    'colsample_bytree': 0.9206694651571061,\n",
    "    'gamma': 0.00042191775548186306,\n",
    "    'learning_rate': 0.3948078011409823,\n",
    "    'max_depth': 6,\n",
    "    'min_child_weight': 4.239951535915615,\n",
    "    'reg_alpha': 9.331451879784092,\n",
    "    'reg_lambda': 9.243205902587139,\n",
    "    'subsample': 0.9487693920624407\n",
    "}"
   ],
   "metadata": {
    "collapsed": false,
    "pycharm": {
     "name": "#%%\n"
    }
   }
  },
  {
   "cell_type": "code",
   "execution_count": null,
   "outputs": [],
   "source": [
    "xg_ex = xgb.XGBClassifier(**best_hyperparameters_2, early_stopping_rounds=100, n_estimators=500)\n",
    "xg_ex.fit(X_train, y_train, eval_set=[(X_train, y_train), (X_test, y_test)], verbose=100)\n",
    "xg_ex.score(X_val, y_val)"
   ],
   "metadata": {
    "collapsed": false,
    "pycharm": {
     "name": "#%%\n"
    }
   }
  },
  {
   "cell_type": "code",
   "execution_count": null,
   "outputs": [],
   "source": [],
   "metadata": {
    "collapsed": false,
    "pycharm": {
     "name": "#%%\n"
    }
   }
  },
  {
   "cell_type": "code",
   "execution_count": 43,
   "metadata": {
    "pycharm": {
     "name": "#%%\n"
    }
   },
   "outputs": [
    {
     "data": {
      "text/plain": [
       "(array([4586., 1539.,  935.,  683.,  543.,  494.,  374.,  324.,  271.,\n",
       "         251.]),\n",
       " array([0.01831796, 0.11642654, 0.21453512, 0.3126437 , 0.41075228,\n",
       "        0.50886086, 0.60696944, 0.70507802, 0.8031866 , 0.90129518,\n",
       "        0.99940376]),\n",
       " <BarContainer object of 10 artists>)"
      ]
     },
     "execution_count": 43,
     "metadata": {},
     "output_type": "execute_result"
    },
    {
     "data": {
      "image/png": "[encoded data removed]",
      "text/plain": [
       "<Figure size 800x400 with 1 Axes>"
      ]
     },
     "metadata": {},
     "output_type": "display_data"
    }
   ],
   "source": [
    "from hyperopt import hp, pyll\n",
    "\n",
    "uniform_vals = [pyll.stochastic.sample(hp.loguniform('value', -4, 0))\n",
    "    for _ in range(10_000)]\n",
    "fig, ax = plt.subplots(figsize=(8, 4))\n",
    "ax.hist(uniform_vals)"
   ]
  },
  {
   "cell_type": "code",
   "execution_count": 21,
   "metadata": {
    "pycharm": {
     "name": "#%%\n"
    }
   },
   "outputs": [
    {
     "name": "stdout",
     "output_type": "stream",
     "text": [
      "100%|██████████| 2000/2000 [58:11<00:00,  1.75s/trial, best loss: 0.4588295102635115]  \n",
      "Best Hyperparameters: {'colsample_bytree': 0.7692485988189818, 'gamma': 0.00012070096616614979, 'learning_rate': 0.001554370091231591, 'max_depth': 12.0, 'min_child_weight': 1.0584548941145138, 'reg_alpha': 0.0029253070004006676, 'reg_lambda': 6.230782615668019, 'subsample': 0.9619535988644129}\n"
     ]
    }
   ],
   "source": [
    "options = {'max_depth': hp.quniform('max_depth', 6, 22, 2), # tree\n",
    "    'min_child_weight': hp.loguniform('min_child_weight', -2, 3),\n",
    "    'subsample': hp.uniform('subsample', 0.5, 1), # stochastic\n",
    "    'colsample_bytree': hp.uniform('colsample_bytree', 0.5, 1),\n",
    "    'reg_alpha': hp.uniform('reg_alpha', 0, 10),\n",
    "    'reg_lambda': hp.uniform('reg_lambda', 1, 10),\n",
    "    'gamma': hp.loguniform('gamma', -10, 10), # regularization\n",
    "    'learning_rate': hp.loguniform('learning_rate', -5, 0), # boosting\n",
    "    'random_state': 42\n",
    "}\n",
    "\n",
    "trials = Trials()\n",
    "# Pass X_train and y_train to the hyperparameter_tuning function\n",
    "best = fmin(fn=lambda space: hyperparameter_tuning(space, X_train, y_train, X_val, y_val, 120, f1_score), space=options, algo=tpe.suggest, max_evals=2000, trials=trials)\n",
    "\n",
    "print(\"Best Hyperparameters:\", best)"
   ]
  },
  {
   "cell_type": "code",
   "execution_count": 24,
   "metadata": {
    "pycharm": {
     "name": "#%%\n"
    }
   },
   "outputs": [],
   "source": [
    "best_hyperparameters_1 = {\n",
    "    'colsample_bytree': 0.7402689253639231,\n",
    "    'gamma': 0.0028348541499777537,\n",
    "    'learning_rate': 0.1752060870921795,\n",
    "    'max_depth': 6,\n",
    "    'min_child_weight': 3.0532978217490725,\n",
    "    'reg_alpha': 4.390442958079982,\n",
    "    'reg_lambda': 5.821841964093785,\n",
    "    'subsample': 0.68327049590758\n",
    "}\n",
    "\n",
    "best_hyperparameters_2 = {\n",
    "    'colsample_bytree': 0.7692485988189818,\n",
    "     'gamma': 0.00012070096616614979,\n",
    "     'learning_rate': 0.001554370091231591,\n",
    "     'max_depth': 12,\n",
    "     'min_child_weight': 1.0584548941145138,\n",
    "     'reg_alpha': 0.0029253070004006676,\n",
    "     'reg_lambda': 6.230782615668019,\n",
    "     'subsample': 0.9619535988644129\n",
    "}\n",
    "\n",
    "\n",
    "best_hyperparameters_3 = {\n",
    "    'colsample_bytree': 0.9206694651571061,\n",
    "    'gamma': 0.00042191775548186306,\n",
    "    'learning_rate': 0.3948078011409823,\n",
    "    'max_depth': 6,\n",
    "    'min_child_weight': 4.239951535915615,\n",
    "    'reg_alpha': 9.331451879784092,\n",
    "    'reg_lambda': 9.243205902587139,\n",
    "    'subsample': 0.9487693920624407\n",
    "}"
   ]
  },
  {
   "cell_type": "code",
   "execution_count": 38,
   "metadata": {
    "pycharm": {
     "name": "#%%\n"
    }
   },
   "outputs": [
    {
     "name": "stdout",
     "output_type": "stream",
     "text": [
      "[0]\tvalidation_0-mlogloss:1.09787\tvalidation_1-mlogloss:1.09800\n",
      "[100]\tvalidation_0-mlogloss:1.02753\tvalidation_1-mlogloss:1.03968\n",
      "[200]\tvalidation_0-mlogloss:0.96461\tvalidation_1-mlogloss:0.98797\n",
      "[300]\tvalidation_0-mlogloss:0.90761\tvalidation_1-mlogloss:0.94143\n",
      "[400]\tvalidation_0-mlogloss:0.85580\tvalidation_1-mlogloss:0.89896\n",
      "[499]\tvalidation_0-mlogloss:0.80873\tvalidation_1-mlogloss:0.86088\n"
     ]
    },
    {
     "data": {
      "text/plain": [
       "0.5526315789473685"
      ]
     },
     "execution_count": 38,
     "metadata": {},
     "output_type": "execute_result"
    }
   ],
   "source": [
    "xg_ex = xgb.XGBClassifier(**best_hyperparameters_2, early_stopping_rounds=100, n_estimators=500)\n",
    "xg_ex.fit(X_train, y_train, eval_set=[(X_train, y_train), (X_test, y_test)], verbose=100)\n",
    "xg_ex.score(X_val, y_val)"
   ]
  },
  {
   "cell_type": "code",
   "execution_count": null,
   "metadata": {
    "pycharm": {
     "name": "#%%\n"
    }
   },
   "outputs": [],
   "source": []
  }
 ],
 "metadata": {
  "kernelspec": {
   "display_name": "Python 3 (ipykernel)",
   "language": "python",
   "name": "python3"
  },
  "language_info": {
   "codemirror_mode": {
    "name": "ipython",
    "version": 3
   },
   "file_extension": ".py",
   "mimetype": "text/x-python",
   "name": "python",
   "nbconvert_exporter": "python",
   "pygments_lexer": "ipython3",
   "version": "3.10.8"
  }
 },
 "nbformat": 4,
 "nbformat_minor": 4
}