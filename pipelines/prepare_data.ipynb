{
 "cells": [
  {
   "cell_type": "code",
   "execution_count": 1,
   "metadata": {
    "collapsed": false,
    "jupyter": {
     "outputs_hidden": false
    },
    "pycharm": {
     "name": "#%%\n"
    }
   },
   "outputs": [],
   "source": [
    "import pandas as pd\n",
    "import numpy as np\n",
    "from time import time\n",
    "\n",
    "from preprocess.DataLoader import execute_data_loader\n",
    "from preprocess.XmlProcessor import XmlProcessor\n",
    "\n",
    "N = 10 # N last matches for count avg\n",
    "\n",
    "# execute_data_loader()"
   ]
  },
  {
   "cell_type": "code",
   "execution_count": 2,
   "metadata": {
    "collapsed": false,
    "jupyter": {
     "outputs_hidden": false
    },
    "pycharm": {
     "name": "#%%\n"
    }
   },
   "outputs": [],
   "source": [
    "matches_data = pd.read_csv('../data/match_details.csv')\n",
    "players_data = pd.read_csv('../data/player_attributes.csv')\n",
    "\n",
    "df_transformed = XmlProcessor(matches_data).process_data()"
   ]
  },
  {
   "cell_type": "code",
   "execution_count": 3,
   "metadata": {
    "collapsed": false,
    "jupyter": {
     "outputs_hidden": false
    },
    "pycharm": {
     "name": "#%%\n"
    }
   },
   "outputs": [],
   "source": [
    "df_transformed['date'] = pd.to_datetime(df_transformed['date'])\n",
    "players_data['date'] = pd.to_datetime(players_data['date'])\n",
    "df_transformed.sort_values(by='date', inplace=True)"
   ]
  },
  {
   "cell_type": "code",
   "execution_count": 4,
   "metadata": {
    "collapsed": false,
    "jupyter": {
     "outputs_hidden": false
    },
    "pycharm": {
     "name": "#%%\n"
    }
   },
   "outputs": [],
   "source": [
    "df_transformed[['season', 'result_match']] = df_transformed[['season', 'result_match']].astype('category')"
   ]
  },
  {
   "cell_type": "code",
   "execution_count": 5,
   "metadata": {
    "collapsed": false,
    "jupyter": {
     "outputs_hidden": false
    },
    "pycharm": {
     "name": "#%%\n"
    }
   },
   "outputs": [
    {
     "name": "stdout",
     "output_type": "stream",
     "text": [
      "Calculate player stats in 0.915 minutes\n"
     ]
    }
   ],
   "source": [
    "start = time()\n",
    "\n",
    "players = ['{}_player_{}'.format(team, i) for team in ['home', 'away'] for i in range(1, 12)]\n",
    "\n",
    "def get_player_overall_rating(player_id, match_date):\n",
    "    player_ratings_on_or_before_match = players_data[\n",
    "        (players_data['player_api_id'] == player_id) & (players_data['date'] <= match_date)\n",
    "    ]\n",
    "    latest_rating = player_ratings_on_or_before_match.sort_values(by='date', ascending=False).iloc[0]['overall_rating']\n",
    "    return latest_rating\n",
    "\n",
    "def get_player_id_for_team(row, player, team_type):\n",
    "    player_id = row[player]\n",
    "\n",
    "    if not np.isnan(player_id):\n",
    "        return player_id\n",
    "\n",
    "    # If the player ID is NaN\n",
    "    player_id = df_transformed.loc[df_transformed[f'{team_type}_team'].eq(row[f'{team_type}_team'])][player].value_counts().idxmax()\n",
    "    df_transformed.loc[df_transformed.match_api_id == row.match_api_id, player] = int(player_id)\n",
    "    \n",
    "    return player_id\n",
    "\n",
    "def calculate_player_stat(match_row):\n",
    "    player_stats_dict = {}\n",
    "    match_date = match_row['date']\n",
    "\n",
    "    for player in players:\n",
    "        team_type = 'home' if 'home' in player else 'away'\n",
    "        player_id = get_player_id_for_team(match_row, player, team_type)\n",
    "\n",
    "        overall_ranking = get_player_overall_rating(player_id, match_date)\n",
    "        name = 'player_rating_{}'.format(player)\n",
    "\n",
    "        player_stats_dict[name] = int(overall_ranking)\n",
    "        player_stats_dict['match_api_id'] = match_row.match_api_id\n",
    "\n",
    "    return player_stats_dict\n",
    "\n",
    "player_stats_dict = df_transformed.apply(lambda row: calculate_player_stat(row), axis=1)\n",
    "new_player_stats = pd.json_normalize(player_stats_dict)\n",
    "df_transformed = pd.merge(df_transformed, new_player_stats, how='left', on='match_api_id')\n",
    "df_transformed = df_transformed.drop(players, axis=1)\n",
    "\n",
    "end = time()\n",
    "print(\"Calculate player stats in {:.3f} minutes\".format((end - start) / 60))"
   ]
  },
  {
   "cell_type": "code",
   "execution_count": 6,
   "metadata": {
    "collapsed": false,
    "jupyter": {
     "outputs_hidden": false
    },
    "pycharm": {
     "name": "#%%\n"
    }
   },
   "outputs": [
    {
     "name": "stdout",
     "output_type": "stream",
     "text": [
      "['home_player_9', 'home_player_10', 'home_player_11', 'away_player_10', 'away_player_11']\n"
     ]
    }
   ],
   "source": [
    "# Check on which positions given player played\n",
    "columns_with_value = matches_data.columns[matches_data.eq(30843).any()].tolist()\n",
    "print(columns_with_value)"
   ]
  },
  {
   "cell_type": "code",
   "execution_count": 7,
   "metadata": {
    "collapsed": false,
    "jupyter": {
     "outputs_hidden": false
    },
    "pycharm": {
     "name": "#%%\n"
    }
   },
   "outputs": [
    {
     "name": "stdout",
     "output_type": "stream",
     "text": [
      "test passed\n"
     ]
    }
   ],
   "source": [
    "# Test: Test that the overall ratings fetched are indeed the latest\n",
    "player_id = 30843\n",
    "player_col = 'home_player_11'\n",
    "rating_col = 'player_rating_' + player_col\n",
    "\n",
    "# Fetch rating from transformed df\n",
    "match = matches_data.loc[matches_data[player_col].eq(player_id)].sort_values(by='date',ascending=False).iloc[0]\n",
    "match_id = match['match_api_id']\n",
    "transformed_rating = df_transformed[df_transformed['match_api_id'] == match_id].iloc[0][rating_col]\n",
    "\n",
    "# Fetch player rating from players data by id and latest date\n",
    "raw_rating = players_data[\n",
    "    (players_data['player_api_id'] == player_id) & (players_data['date'] <= match['date'])\n",
    "].sort_values(by='date', ascending=False).iloc[0]['overall_rating']\n",
    "\n",
    "assert transformed_rating == raw_rating, f\"Incorrect rating for {player_col}\"\n",
    "print(\"test passed\")"
   ]
  },
  {
   "cell_type": "code",
   "execution_count": 8,
   "metadata": {
    "pycharm": {
     "name": "#%%\n"
    }
   },
   "outputs": [
    {
     "name": "stdout",
     "output_type": "stream",
     "text": [
      "Calculate average goals from 10 matches in 0.120 minutes\n"
     ]
    }
   ],
   "source": [
    "start = time()\n",
    "\n",
    "def get_scored_goals(row, team):\n",
    "    return row['home_team_goal'] if row['home_team'] == team else row['away_team_goal']\n",
    "\n",
    "def average_scored_goals(team, match_date, df, n):\n",
    "    \"\"\"\n",
    "    Calculate the average goals scored by a team over the last n matches before a given date.\n",
    "    \"\"\"\n",
    "    team_matches = df[((df['home_team'] == team) | (df['away_team'] == team)) &\n",
    "                      (df['date'] < match_date)].sort_values(by='date', ascending=False).iloc[:n]\n",
    "    \n",
    "    if team_matches.empty:\n",
    "        return 0\n",
    "    \n",
    "    return team_matches.apply(lambda row: get_scored_goals(row, team), axis=1).mean()\n",
    "\n",
    "def count_average_goals_from_last_n_matches(row, df, n=3):\n",
    "    home_team = row['home_team']\n",
    "    away_team = row['away_team']\n",
    "    match_date = row['date']\n",
    "\n",
    "    avg_goals_home = average_scored_goals(home_team, match_date, df, n)\n",
    "    avg_goals_away = average_scored_goals(away_team, match_date, df, n)\n",
    "\n",
    "    return round(avg_goals_home, 2), round(avg_goals_away, 2)\n",
    "\n",
    "df_transformed[['home_avg_goals_scored', 'away_avg_goals_scored']] = df_transformed.apply(\n",
    "    lambda row: count_average_goals_from_last_n_matches(row, df_transformed, n=N), \n",
    "    axis=1, \n",
    "    result_type='expand'\n",
    ")\n",
    "\n",
    "end = time()\n",
    "print(\"Calculate average goals from {} matches in {:.3f} minutes\".format(N, (end - start) / 60))"
   ]
  },
  {
   "cell_type": "code",
   "execution_count": 9,
   "metadata": {
    "pycharm": {
     "name": "#%%\n"
    }
   },
   "outputs": [
    {
     "name": "stdout",
     "output_type": "stream",
     "text": [
      "Test passed!\n"
     ]
    }
   ],
   "source": [
    "def test_count_average_goals_from_last_n_matches():\n",
    "    data = {\n",
    "        'date': ['2023-01-01', '2023-01-02', '2023-01-03', '2023-01-04', '2023-01-05', '2023-01-06'],\n",
    "        'home_team': ['TeamA', 'TeamB', 'TeamA', 'TeamB', 'TeamA', 'TeamB'],\n",
    "        'away_team': ['TeamB', 'TeamA', 'TeamB', 'TeamA', 'TeamB', 'TeamA'],\n",
    "        'home_team_goal': [2, 1, 3, 1, 0, 2],\n",
    "        'away_team_goal': [1, 2, 0, 1, 1, 1]\n",
    "    }\n",
    "    \n",
    "    df_mock = pd.DataFrame(data)\n",
    "\n",
    "    avg_goals_home, avg_goals_away = count_average_goals_from_last_n_matches(df_mock.iloc[-1], df_mock, n=3)\n",
    "    \n",
    "    # Expected values: \n",
    "    # TeamB (home) -> Goals: 1, 1, 0 -> Average: 0.67\n",
    "    # TeamA (away) -> Goals: 0, 1, 3 -> Average: 1.33\n",
    "    \n",
    "    assert avg_goals_home == 0.67, f\"Expected 0.67 but got {avg_goals_home}\"\n",
    "    assert avg_goals_away == 1.33, f\"Expected 1.33 but got {avg_goals_away}\"\n",
    "    print(\"Test passed!\")\n",
    "\n",
    "test_count_average_goals_from_last_n_matches()"
   ]
  },
  {
   "cell_type": "code",
   "execution_count": 10,
   "metadata": {
    "collapsed": false,
    "jupyter": {
     "outputs_hidden": false
    },
    "pycharm": {
     "name": "#%%\n"
    }
   },
   "outputs": [
    {
     "name": "stdout",
     "output_type": "stream",
     "text": [
      "Calculate average goals from 10 matches in 0.124 minutes\n"
     ]
    }
   ],
   "source": [
    "start = time()\n",
    "\n",
    "def get_conceded_goals(row, team):\n",
    "    return row['away_team_goal'] if row['home_team'] == team else row['home_team_goal']\n",
    "\n",
    "def average_conceded_goals(team, match_date, n, df):\n",
    "    \"\"\"\n",
    "    Calculate the average conceded goals of a team over the last n matches before a given date.\n",
    "    \"\"\"\n",
    "    team_matches = df[((df['home_team'] == team) | (df['away_team'] == team)) &\n",
    "                      (df['date'] < match_date)].sort_values(by='date', ascending=False).head(n)\n",
    "\n",
    "    if team_matches.empty:\n",
    "        return 0\n",
    "\n",
    "    return team_matches.apply(lambda row: get_conceded_goals(row, team), axis=1).mean()\n",
    "\n",
    "def count_average_conceded_goals_from_last_n_matches(row, df, n=3):\n",
    "    home_team = row['home_team']\n",
    "    away_team = row['away_team']\n",
    "    match_date = row['date']\n",
    "\n",
    "    avg_goals_home = average_conceded_goals(home_team, match_date, n, df)\n",
    "    avg_goals_away = average_conceded_goals(away_team, match_date, n, df)\n",
    "\n",
    "    return round(avg_goals_home, 2), round(avg_goals_away, 2)\n",
    "\n",
    "df_transformed[['home_avg_goals_conceded', 'away_avg_goals_conceded']] = df_transformed.apply(lambda row: count_average_conceded_goals_from_last_n_matches(row, df_transformed, n=N), axis=1, result_type='expand')\n",
    "\n",
    "end = time()\n",
    "print(\"Calculate average goals from {} matches in {:.3f} minutes\".format(N, (end - start) / 60))"
   ]
  },
  {
   "cell_type": "code",
   "execution_count": 11,
   "metadata": {
    "pycharm": {
     "name": "#%%\n"
    }
   },
   "outputs": [
    {
     "name": "stdout",
     "output_type": "stream",
     "text": [
      "Test passed!\n"
     ]
    }
   ],
   "source": [
    "def test_count_average_goals_conceded_from_last_n_matches():\n",
    "    data = {\n",
    "        'date': ['2023-01-01', '2023-01-02', '2023-01-03', '2023-01-04', '2023-01-05', '2023-01-06'],\n",
    "        'home_team': ['TeamA', 'TeamB', 'TeamA', 'TeamB', 'TeamA', 'TeamB'],\n",
    "        'away_team': ['TeamB', 'TeamA', 'TeamB', 'TeamA', 'TeamB', 'TeamA'],\n",
    "        'home_team_goal': [2, 1, 3, 1, 0, 2],\n",
    "        'away_team_goal': [1, 2, 0, 1, 1, 1]\n",
    "    }\n",
    "    \n",
    "    df_mock = pd.DataFrame(data)\n",
    "\n",
    "    avg_goals_home, avg_goals_away = count_average_conceded_goals_from_last_n_matches(df_mock.iloc[-1], df_mock, n=3)\n",
    "    \n",
    "    # Expected values:\n",
    "    # TeamB (home) -> Goals: 0, 1, 4 -> Average: 1.33\n",
    "    # TeamA (away) -> Goals: 1, 1, 0 -> Average: 0.67\n",
    "    \n",
    "    assert avg_goals_home == 1.33, f\"Expected 1.33 but got {avg_goals_home}\"\n",
    "    assert avg_goals_away == 0.67, f\"Expected 0.67 but got {avg_goals_away}\"\n",
    "    print(\"Test passed!\")\n",
    "\n",
    "test_count_average_goals_conceded_from_last_n_matches()"
   ]
  },
  {
   "cell_type": "code",
   "execution_count": 12,
   "metadata": {
    "collapsed": false,
    "jupyter": {
     "outputs_hidden": false
    },
    "pycharm": {
     "name": "#%%\n"
    }
   },
   "outputs": [
    {
     "name": "stdout",
     "output_type": "stream",
     "text": [
      "Calculate team wins in 0.092 minutes\n"
     ]
    }
   ],
   "source": [
    "start = time()\n",
    "\n",
    "def count_previous_wins(df, team, match_date, season):\n",
    "    \"\"\"\n",
    "    Count the number of wins of a team before a given match_date in a given season.\n",
    "    \"\"\"\n",
    "    team_matches = df[((df['home_team'] == team) | (df['away_team'] == team)) &\n",
    "                      (df['date'] < match_date) &\n",
    "                      (df['season'] == season)]\n",
    "    \n",
    "    home_wins = (team_matches['home_team'] == team) & (team_matches['home_team_goal'] > team_matches['away_team_goal'])\n",
    "    away_wins = (team_matches['away_team'] == team) & (team_matches['home_team_goal'] < team_matches['away_team_goal'])\n",
    "    \n",
    "    return home_wins.sum() + away_wins.sum()\n",
    "\n",
    "def get_team_wins(row, df):\n",
    "    \"\"\"\n",
    "    Get the number of wins for both the home and away teams for a given match row.\n",
    "    \"\"\"\n",
    "    home_team = row['home_team']\n",
    "    away_team = row['away_team']\n",
    "    match_date = row['date']\n",
    "    season = row['season']\n",
    "\n",
    "    home_wins = count_previous_wins(df, home_team, match_date, season)\n",
    "    away_wins = count_previous_wins(df, away_team, match_date, season)\n",
    "\n",
    "    return home_wins, away_wins\n",
    "\n",
    "df_transformed[['home_wins', 'away_wins']] = df_transformed.apply(lambda row: get_team_wins(row, df_transformed), axis=1, result_type='expand')\n",
    "\n",
    "end = time()\n",
    "print(\"Calculate team wins in {:.3f} minutes\".format((end - start) / 60))"
   ]
  },
  {
   "cell_type": "code",
   "execution_count": 13,
   "metadata": {
    "pycharm": {
     "name": "#%%\n"
    }
   },
   "outputs": [
    {
     "name": "stdout",
     "output_type": "stream",
     "text": [
      "Test for get_team_wins passed!\n"
     ]
    }
   ],
   "source": [
    "def test_get_team_wins():\n",
    "    data = {\n",
    "        'home_team': ['TeamA', 'TeamB', 'TeamA', 'TeamB'],\n",
    "        'away_team': ['TeamB', 'TeamA', 'TeamB', 'TeamA'],\n",
    "        'home_team_goal': [2, 1, 3, 0],\n",
    "        'away_team_goal': [1, 2, 0, 1],\n",
    "        'date': ['2023-01-01', '2023-01-02', '2023-01-03', '2023-01-04'],\n",
    "        'season': ['2023', '2023', '2023', '2023']\n",
    "    }\n",
    "\n",
    "    mock_df = pd.DataFrame(data)\n",
    "    mock_df['date'] = pd.to_datetime(mock_df['date'])\n",
    "\n",
    "    # 2. Expected results:\n",
    "    expected_home_wins = 0\n",
    "    expected_away_wins = 3\n",
    "\n",
    "    # 3. Run the methods on mock data\n",
    "    home_wins, away_wins = get_team_wins(mock_df.iloc[-1], mock_df)\n",
    "\n",
    "    # 4. Assert\n",
    "    assert home_wins == expected_home_wins, \"home_wins doesn't match expected values\"\n",
    "    assert away_wins == expected_away_wins, \"away_wins doesn't match expected values\"\n",
    "\n",
    "    print(\"Test for get_team_wins passed!\")\n",
    "\n",
    "test_get_team_wins()"
   ]
  },
  {
   "cell_type": "code",
   "execution_count": 14,
   "metadata": {
    "pycharm": {
     "name": "#%%\n"
    }
   },
   "outputs": [
    {
     "name": "stdout",
     "output_type": "stream",
     "text": [
      "Calculate player stats in 0.014 minutes\n"
     ]
    }
   ],
   "source": [
    "start = time()\n",
    "\n",
    "def get_overall_player_strength(match_row):\n",
    "    stats_home_players = match_row.filter(regex='player_rating_home_player')\n",
    "    stats_away_players = match_row.filter(regex='player_rating_away_player')\n",
    "\n",
    "    home_team_strength = round(stats_home_players.values.mean(), 2)\n",
    "    away_team_strength = round(stats_away_players.values.mean(), 2)\n",
    "\n",
    "    return home_team_strength, away_team_strength\n",
    "\n",
    "\n",
    "df_transformed[['home_team_strength', 'away_team_strength']] = df_transformed.apply(lambda row: get_overall_player_strength(row), axis=1, result_type='expand')\n",
    "\n",
    "# cols_to_remove = df_transformed.filter(like='player_rating').columns\n",
    "# df = df_transformed.drop(columns=cols_to_remove)\n",
    "\n",
    "end = time()\n",
    "print(\"Calculate player stats in {:.3f} minutes\".format((end - start) / 60))"
   ]
  },
  {
   "cell_type": "code",
   "execution_count": 15,
   "metadata": {
    "collapsed": false,
    "jupyter": {
     "outputs_hidden": false
    },
    "pycharm": {
     "name": "#%%\n"
    }
   },
   "outputs": [
    {
     "name": "stdout",
     "output_type": "stream",
     "text": [
      "Count streak wins in 0.145 minutes\n"
     ]
    }
   ],
   "source": [
    "start = time()\n",
    "\n",
    "def get_streak_wins(df, team, match_date):\n",
    "    team_matches = df[(df['home_team'] == team) | (df['away_team'] == team)]\n",
    "    recent_matches = team_matches[team_matches['date'] < match_date].sort_values(by='date', ascending=False)\n",
    "    \n",
    "    counter = 0\n",
    "    for _, match in recent_matches.iterrows():\n",
    "        if (match['home_team'] == team and match['home_team_goal'] > match['away_team_goal']) \\\n",
    "        or (match['away_team'] == team and match['home_team_goal'] < match['away_team_goal']):\n",
    "            counter += 1\n",
    "        else:\n",
    "            break\n",
    "    return counter\n",
    "\n",
    "def count_streak_wins(match_row):\n",
    "    match_date = match_row['date']\n",
    "    home_team = match_row['home_team']\n",
    "    away_team = match_row['away_team']\n",
    "\n",
    "    home_streak = get_streak_wins(df_transformed, home_team, match_date)\n",
    "    away_streak = get_streak_wins(df_transformed, away_team, match_date)\n",
    "\n",
    "    return home_streak, away_streak\n",
    "\n",
    "df_transformed[['home_streak_wins', 'away_streak_wins']] = df_transformed.apply(lambda row: count_streak_wins(row), axis=1, result_type='expand')\n",
    "\n",
    "end = time()\n",
    "print(\"Count streak wins in {:.3f} minutes\".format((end - start) / 60))"
   ]
  },
  {
   "cell_type": "code",
   "execution_count": 16,
   "metadata": {
    "pycharm": {
     "name": "#%%\n"
    }
   },
   "outputs": [
    {
     "name": "stdout",
     "output_type": "stream",
     "text": [
      "Count points in 0.256 minutes\n"
     ]
    }
   ],
   "source": [
    "start = time()\n",
    "\n",
    "def get_points(row, team):\n",
    "    points_mapping = {\n",
    "        'H': {'home': 3, 'away': 0},\n",
    "        'D': {'home': 1, 'away': 1},\n",
    "        'A': {'home': 0, 'away': 3}\n",
    "    }\n",
    "    team_type = 'home' if row['home_team'] == team else 'away'    \n",
    "    return int(points_mapping[row['result_match']][team_type])\n",
    "\n",
    "def process_points(team, df, match_date, match_season):\n",
    "    team_matches = df.query('(home_team == @team | away_team == @team) & date < @match_date & season == @match_season')\n",
    "    if len(team_matches) == 0:\n",
    "        return 0\n",
    "    return team_matches.apply(lambda row: get_points(row, team), axis=1).sum()\n",
    "\n",
    "def count_points(match_row, df):\n",
    "    match_date = match_row['date']\n",
    "    match_season = match_row['season']\n",
    "    home_team = match_row['home_team']\n",
    "    away_team = match_row['away_team']\n",
    "\n",
    "    home_team_points = process_points(home_team, df, match_date, match_season)\n",
    "    away_team_points = process_points(away_team, df, match_date, match_season)\n",
    "\n",
    "    return home_team_points, away_team_points\n",
    "\n",
    "df_transformed[['points_home', 'points_away']] = df_transformed.apply(lambda row: count_points(row, df_transformed), axis=1, result_type='expand')\n",
    "\n",
    "end = time()\n",
    "print(\"Count points in {:.3f} minutes\".format((end - start) / 60))"
   ]
  },
  {
   "cell_type": "code",
   "execution_count": 17,
   "metadata": {
    "pycharm": {
     "name": "#%%\n"
    }
   },
   "outputs": [
    {
     "name": "stdout",
     "output_type": "stream",
     "text": [
      "Test passed!\n"
     ]
    }
   ],
   "source": [
    "def test_count_points():\n",
    "    data = {\n",
    "        'date': ['2023-01-01', '2023-01-02', '2023-01-03', '2023-01-04'],\n",
    "        'season': ['2022-2023', '2022-2023', '2022-2023', '2022-2023'],\n",
    "        'home_team': ['TeamA', 'TeamB', 'TeamA', 'TeamB'],\n",
    "        'away_team': ['TeamB', 'TeamA', 'TeamB', 'TeamA'],\n",
    "        'result_match': ['H', 'D', 'H', 'A']\n",
    "    }\n",
    "    \n",
    "    df_mock = pd.DataFrame(data)\n",
    "    home_points, away_points = count_points(df_mock.iloc[-1], df_mock)\n",
    "    \n",
    "    assert home_points == 1, f\"Expected 1 but got {home_points}\"\n",
    "    assert away_points == 7, f\"Expected 6 but got {away_points}\"\n",
    "\n",
    "    print(\"Test passed!\")\n",
    "\n",
    "test_count_points()"
   ]
  },
  {
   "cell_type": "code",
   "execution_count": 18,
   "metadata": {
    "pycharm": {
     "name": "#%%\n"
    }
   },
   "outputs": [
    {
     "name": "stdout",
     "output_type": "stream",
     "text": [
      "Count team sum of points from n last matches in 0.181 minutes\n"
     ]
    }
   ],
   "source": [
    "start = time()\n",
    "\n",
    "def get_last_n_matches_points(df, team, match_date, n):\n",
    "    mask_team_matches = (df['home_team'] == team) | (df['away_team'] == team)\n",
    "    team_matches = df[mask_team_matches]\n",
    "    sorted_matches = team_matches[team_matches['date'].lt(match_date)].sort_values(by='date', ascending=False).iloc[:n]\n",
    "    if sorted_matches.empty:\n",
    "        return 0\n",
    "    points = sorted_matches.apply(lambda row: get_points(row, team), axis=1).sum()\n",
    "    return points\n",
    "\n",
    "def count_points_from_n_last_matches(row, df, n):\n",
    "    home_points = get_last_n_matches_points(df, row['home_team'], row['date'], n)\n",
    "    away_points = get_last_n_matches_points(df, row['away_team'], row['date'], n)\n",
    "    return home_points, away_points\n",
    "\n",
    "df_transformed[['home_sum_points', 'away_sum_points']] = df_transformed.apply(lambda row: count_points_from_n_last_matches(row,df_transformed, n=N), axis=1, result_type='expand')\n",
    "df_transformed['points_diff'] = df_transformed['home_sum_points'] - df_transformed['away_sum_points']\n",
    "\n",
    "end = time()\n",
    "print(\"Count team sum of points from n last matches in {:.3f} minutes\".format((end - start) / 60))"
   ]
  },
  {
   "cell_type": "code",
   "execution_count": 19,
   "metadata": {
    "pycharm": {
     "name": "#%%\n"
    }
   },
   "outputs": [
    {
     "name": "stdout",
     "output_type": "stream",
     "text": [
      "Test passed!\n"
     ]
    }
   ],
   "source": [
    "def test_count_points_from_n_last_matches():\n",
    "\n",
    "    data = {\n",
    "        'date': ['2023-01-01', '2023-01-02', '2023-01-03', '2023-01-04', '2023-01-05', '2023-01-06'],\n",
    "        'home_team': ['TeamA', 'TeamB', 'TeamA', 'TeamB', 'TeamA', 'TeamB'],\n",
    "        'away_team': ['TeamB', 'TeamA', 'TeamB', 'TeamA', 'TeamB', 'TeamA'],\n",
    "        'home_team_goal': [2, 1, 3, 1, 0, 2],\n",
    "        'away_team_goal': [1, 2, 0, 1, 1, 1],\n",
    "        'result_match': ['H', 'A', 'H', 'D', 'A', 'H']\n",
    "    }\n",
    "    \n",
    "    df_mock = pd.DataFrame(data)\n",
    "\n",
    "    home_points, away_points = count_points_from_n_last_matches(df_mock.iloc[-1], df_mock, 3)\n",
    "    \n",
    "    assert home_points == 4, f\"Expected 2 but got {home_points}\"\n",
    "    assert away_points == 4, f\"Expected 4 but got {away_points}\"\n",
    "    \n",
    "    print(\"Test passed!\")\n",
    "\n",
    "test_count_points_from_n_last_matches()"
   ]
  },
  {
   "cell_type": "code",
   "execution_count": 20,
   "metadata": {
    "pycharm": {
     "name": "#%%\n"
    }
   },
   "outputs": [
    {
     "name": "stdout",
     "output_type": "stream",
     "text": [
      "Get last match winner in 0.085 minutes\n"
     ]
    }
   ],
   "source": [
    "start = time()\n",
    "\n",
    "def get_last_winners(row):\n",
    "    if row['home_team_goal'] > row['away_team_goal']:\n",
    "        return row['home_team']\n",
    "    elif row['home_team_goal'] < row['away_team_goal']:\n",
    "        return row['away_team']\n",
    "    else:\n",
    "        return 'draw'\n",
    "\n",
    "def get_teams_match_mask(home_team, away_team, df):\n",
    "    return ((df['home_team'] == home_team) | (df['home_team'] == away_team)) & \\\n",
    "           ((df['away_team'] == home_team) | (df['away_team'] == away_team))\n",
    "\n",
    "def count_wins_eachother(match_row, df):\n",
    "    match_date = match_row['date']\n",
    "    home_team_ = match_row['home_team']\n",
    "    away_team_ = match_row['away_team']\n",
    "\n",
    "    mask_all_matches_between_teams = get_teams_match_mask(home_team_, away_team_, df)\n",
    "    sorted_team_matches = df.loc[mask_all_matches_between_teams & df['date'].lt(match_date)].sort_values(by='date', ascending=False)\n",
    "    winners = sorted_team_matches.apply(get_last_winners, axis=1)\n",
    "    counts = winners.value_counts()\n",
    "\n",
    "    return counts.loc[home_team_] if home_team_ in counts else 0, counts.loc[away_team_] if away_team_ in counts else 0\n",
    "\n",
    "df_transformed[['win_eachother_home', 'win_eachother_away']] = df_transformed.apply(lambda x: count_wins_eachother(x, df_transformed), axis=1, result_type='expand')\n",
    "\n",
    "end = time()\n",
    "print(\"Get last match winner in {:.3f} minutes\".format((end - start) / 60))"
   ]
  },
  {
   "cell_type": "code",
   "execution_count": 21,
   "metadata": {
    "pycharm": {
     "name": "#%%\n"
    }
   },
   "outputs": [
    {
     "name": "stdout",
     "output_type": "stream",
     "text": [
      "Test passed!\n"
     ]
    }
   ],
   "source": [
    "def test_count_wins_eachother():\n",
    "    data = {\n",
    "        'date': ['2023-01-01', '2023-01-02', '2023-01-03', '2023-01-04', '2023-01-05'],\n",
    "        'home_team': ['TeamA', 'TeamB', 'TeamA', 'TeamB', 'TeamA'],\n",
    "        'away_team': ['TeamB', 'TeamA', 'TeamB', 'TeamA', 'TeamB'],\n",
    "        'home_team_goal': [2, 1, 3, 0, 0],\n",
    "        'away_team_goal': [1, 2, 0, 1, 0]\n",
    "    }\n",
    "    \n",
    "    df_mock = pd.DataFrame(data)\n",
    "\n",
    "    home_wins, away_wins = count_wins_eachother(df_mock.iloc[-1], df_mock)\n",
    "    \n",
    "    assert home_wins == 4, f\"Expected 4 but got {home_wins}\"\n",
    "    assert away_wins == 0, f\"Expected 0 but got {away_wins}\"\n",
    "    \n",
    "    print(\"Test passed!\")\n",
    "\n",
    "test_count_wins_eachother()"
   ]
  },
  {
   "cell_type": "code",
   "execution_count": 43,
   "metadata": {
    "pycharm": {
     "name": "#%%\n"
    }
   },
   "outputs": [
    {
     "name": "stdout",
     "output_type": "stream",
     "text": [
      "Get last match winner in 0.343 minutes\n"
     ]
    }
   ],
   "source": [
    "start = time()\n",
    "\n",
    "def get_team_stat(row, team, stat_type):\n",
    "    \"\"\"\n",
    "    Retrieve the relevant stat for the specified team and stat_type from a row.\n",
    "    \"\"\"\n",
    "    if team == row['home_team']:\n",
    "        return row[f'home_{stat_type}']\n",
    "    return row[f'away_{stat_type}']\n",
    "\n",
    "def average_team_stat(team, match_date, df, n, stat_type):\n",
    "    \"\"\"\n",
    "    Calculate the average of the specified stat for a team over the last n matches before a given date.\n",
    "    \"\"\"\n",
    "    team_matches = df[\n",
    "        ((df['home_team'] == team) | (df['away_team'] == team)) & (df['date'] < match_date)\n",
    "    ].sort_values(by='date', ascending=False).iloc[:n]\n",
    "    \n",
    "    if team_matches.empty:\n",
    "        team_matches = df[\n",
    "            ((df['home_team'] == team) | (df['away_team'] == team)) & \n",
    "            (df['date'] > match_date)\n",
    "        ].sort_values(by='date', ascending=False).iloc[:n]\n",
    "    \n",
    "    \n",
    "    return team_matches.apply(lambda row: get_team_stat(row, team, stat_type), axis=1).mean()\n",
    "\n",
    "def count_average_stat_from_last_n_matches(row, df, stat_type, n=3):\n",
    "    \"\"\"\n",
    "    Calculate the average of the specified stat for both home and away teams over the last n matches.\n",
    "    \"\"\"\n",
    "    home_team = row['home_team']\n",
    "    away_team = row['away_team']\n",
    "    match_date = row['date']\n",
    "\n",
    "    avg_stat_home = average_team_stat(home_team, match_date, df, n, stat_type)\n",
    "    avg_stat_away = average_team_stat(away_team, match_date, df, n, stat_type)\n",
    "\n",
    "    # if avg_stat_home == 0:\n",
    "    #     avg_stat_home = row['home_possession']\n",
    "\n",
    "    # if avg_stat_away == 0:\n",
    "    #     avg_stat_away = row['away_possession']\n",
    "\n",
    "    return round(avg_stat_home, 2), round(avg_stat_away, 2)\n",
    "\n",
    "df_transformed[['avg_possession_home', 'avg_possession_away']] = df_transformed.apply(lambda x: count_average_stat_from_last_n_matches(x, df_transformed, 'possession', N), axis=1, result_type='expand')\n",
    "df_transformed[['avg_shoton_home', 'avg_shoton_away']] = df_transformed.apply(lambda x: count_average_stat_from_last_n_matches(x, df_transformed, 'possession', N), axis=1, result_type='expand')\n",
    "\n",
    "end = time()\n",
    "print(\"Get last match winner in {:.3f} minutes\".format((end - start) / 60))"
   ]
  },
  {
   "cell_type": "code",
   "execution_count": 44,
   "metadata": {
    "pycharm": {
     "name": "#%%\n"
    }
   },
   "outputs": [
    {
     "name": "stdout",
     "output_type": "stream",
     "text": [
      "Test passed!\n"
     ]
    }
   ],
   "source": [
    "def test_count_average_stat_from_last_n_matches():\n",
    "    data = {\n",
    "        'date': ['2023-01-01', '2023-01-02', '2023-01-03', '2023-01-04', '2023-01-05', '2023-01-06'],\n",
    "        'home_team': ['TeamA', 'TeamB', 'TeamA', 'TeamB', 'TeamA', 'TeamB'],\n",
    "        'away_team': ['TeamB', 'TeamA', 'TeamB', 'TeamA', 'TeamB', 'TeamA'],\n",
    "        'home_possession': [55, 45, 50, 60, 54, 49],\n",
    "        'away_possession': [45, 55, 50, 40, 46, 51],\n",
    "        'home_shoton': [5, 4, 6, 3, 5, 4],\n",
    "        'away_shoton': [4, 5, 5, 4, 4, 3]\n",
    "    }\n",
    "    \n",
    "    df_mock = pd.DataFrame(data)\n",
    "    stat_type = 'possession'\n",
    "    \n",
    "    avg_possession_home, avg_possession_away = count_average_stat_from_last_n_matches(df_mock.iloc[-1], df_mock, stat_type, n=3)\n",
    "    \n",
    "    assert avg_possession_home == 52, f\"Expected 52 but got {avg_possession_home}\"\n",
    "    assert avg_possession_away == 48, f\"Expected 48 but got {avg_possession_away}\"\n",
    "    print(\"Test passed!\")\n",
    "\n",
    "test_count_average_stat_from_last_n_matches()"
   ]
  },
  {
   "cell_type": "code",
   "execution_count": 45,
   "metadata": {
    "pycharm": {
     "name": "#%%\n"
    }
   },
   "outputs": [],
   "source": [
    "from sklearn.preprocessing import LabelEncoder\n",
    "\n",
    "# Map result_match to int\n",
    "def prepare_target(y_):\n",
    "    le = LabelEncoder()\n",
    "    transform = le.fit_transform(y_)\n",
    "    return transform, le.classes_  # 0: 'A', 1: 'D', 2: 'H'\n",
    "\n",
    "df_transformed['result_match'], classes = prepare_target(df_transformed['result_match'])"
   ]
  },
  {
   "cell_type": "code",
   "execution_count": 46,
   "metadata": {
    "collapsed": false,
    "jupyter": {
     "outputs_hidden": false
    },
    "pycharm": {
     "name": "#%%\n"
    }
   },
   "outputs": [],
   "source": [
    "# df_transformed.drop(['stage', 'date', 'home_team_goal', 'away_team_goal'], axis=1, inplace=True)"
   ]
  },
  {
   "cell_type": "code",
   "execution_count": 47,
   "metadata": {
    "collapsed": false,
    "jupyter": {
     "outputs_hidden": false
    },
    "pycharm": {
     "name": "#%%\n"
    },
    "scrolled": true
   },
   "outputs": [
    {
     "name": "stdout",
     "output_type": "stream",
     "text": [
      "<class 'pandas.core.frame.DataFrame'>\n",
      "RangeIndex: 3040 entries, 0 to 3039\n",
      "Data columns (total 56 columns):\n",
      " #   Column                        Non-Null Count  Dtype         \n",
      "---  ------                        --------------  -----         \n",
      " 0   match_api_id                  3040 non-null   int64         \n",
      " 1   season                        3040 non-null   category      \n",
      " 2   stage                         3040 non-null   int64         \n",
      " 3   date                          3040 non-null   datetime64[ns]\n",
      " 4   away_team                     3040 non-null   int64         \n",
      " 5   home_team                     3040 non-null   int64         \n",
      " 6   home_team_goal                3040 non-null   int64         \n",
      " 7   away_team_goal                3040 non-null   int64         \n",
      " 8   result_match                  3040 non-null   int64         \n",
      " 9   away_shoton                   3040 non-null   int64         \n",
      " 10  away_possession               3040 non-null   int64         \n",
      " 11  home_shoton                   3040 non-null   int64         \n",
      " 12  home_possession               3040 non-null   int64         \n",
      " 13  player_rating_home_player_1   3040 non-null   int64         \n",
      " 14  player_rating_home_player_2   3040 non-null   int64         \n",
      " 15  player_rating_home_player_3   3040 non-null   int64         \n",
      " 16  player_rating_home_player_4   3040 non-null   int64         \n",
      " 17  player_rating_home_player_5   3040 non-null   int64         \n",
      " 18  player_rating_home_player_6   3040 non-null   int64         \n",
      " 19  player_rating_home_player_7   3040 non-null   int64         \n",
      " 20  player_rating_home_player_8   3040 non-null   int64         \n",
      " 21  player_rating_home_player_9   3040 non-null   int64         \n",
      " 22  player_rating_home_player_10  3040 non-null   int64         \n",
      " 23  player_rating_home_player_11  3040 non-null   int64         \n",
      " 24  player_rating_away_player_1   3040 non-null   int64         \n",
      " 25  player_rating_away_player_2   3040 non-null   int64         \n",
      " 26  player_rating_away_player_3   3040 non-null   int64         \n",
      " 27  player_rating_away_player_4   3040 non-null   int64         \n",
      " 28  player_rating_away_player_5   3040 non-null   int64         \n",
      " 29  player_rating_away_player_6   3040 non-null   int64         \n",
      " 30  player_rating_away_player_7   3040 non-null   int64         \n",
      " 31  player_rating_away_player_8   3040 non-null   int64         \n",
      " 32  player_rating_away_player_9   3040 non-null   int64         \n",
      " 33  player_rating_away_player_10  3040 non-null   int64         \n",
      " 34  player_rating_away_player_11  3040 non-null   int64         \n",
      " 35  home_avg_goals_scored         3040 non-null   float64       \n",
      " 36  away_avg_goals_scored         3040 non-null   float64       \n",
      " 37  home_avg_goals_conceded       3040 non-null   float64       \n",
      " 38  away_avg_goals_conceded       3040 non-null   float64       \n",
      " 39  home_wins                     3040 non-null   int64         \n",
      " 40  away_wins                     3040 non-null   int64         \n",
      " 41  home_team_strength            3040 non-null   float64       \n",
      " 42  away_team_strength            3040 non-null   float64       \n",
      " 43  home_streak_wins              3040 non-null   int64         \n",
      " 44  away_streak_wins              3040 non-null   int64         \n",
      " 45  points_home                   3040 non-null   int64         \n",
      " 46  points_away                   3040 non-null   int64         \n",
      " 47  home_sum_points               3040 non-null   int64         \n",
      " 48  away_sum_points               3040 non-null   int64         \n",
      " 49  points_diff                   3040 non-null   int64         \n",
      " 50  win_eachother_home            3040 non-null   int64         \n",
      " 51  win_eachother_away            3040 non-null   int64         \n",
      " 52  avg_possession_home           3040 non-null   float64       \n",
      " 53  avg_possession_away           3040 non-null   float64       \n",
      " 54  avg_shoton_home               3040 non-null   float64       \n",
      " 55  avg_shoton_away               3040 non-null   float64       \n",
      "dtypes: category(1), datetime64[ns](1), float64(10), int64(44)\n",
      "memory usage: 1.3 MB\n"
     ]
    }
   ],
   "source": [
    "df_transformed.info()"
   ]
  },
  {
   "cell_type": "code",
   "execution_count": 48,
   "metadata": {
    "collapsed": false,
    "jupyter": {
     "outputs_hidden": false
    },
    "pycharm": {
     "name": "#%%\n"
    }
   },
   "outputs": [],
   "source": [
    "import os\n",
    "\n",
    "output_dir = \"../data/transform/\"\n",
    "filename= \"match_details_transformed.csv\"\n",
    "\n",
    "full_path = os.path.join(output_dir, filename)\n",
    "if not os.path.exists(output_dir):\n",
    "    os.makedirs(output_dir)\n",
    "\n",
    "df_transformed.to_csv(full_path)"
   ]
  },
  {
   "cell_type": "code",
   "execution_count": null,
   "metadata": {
    "pycharm": {
     "name": "#%%\n"
    }
   },
   "outputs": [],
   "source": []
  }
 ],
 "metadata": {
  "kernelspec": {
   "display_name": "Python 3 (ipykernel)",
   "language": "python",
   "name": "python3"
  },
  "language_info": {
   "codemirror_mode": {
    "name": "ipython",
    "version": 3
   },
   "file_extension": ".py",
   "mimetype": "text/x-python",
   "name": "python",
   "nbconvert_exporter": "python",
   "pygments_lexer": "ipython3",
   "version": "3.10.8"
  }
 },
 "nbformat": 4,
 "nbformat_minor": 4
}