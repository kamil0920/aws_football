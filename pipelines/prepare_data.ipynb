{
 "cells": [
  {
   "cell_type": "code",
   "execution_count": 1,
   "metadata": {
    "collapsed": false,
    "jupyter": {
     "outputs_hidden": false
    },
    "pycharm": {
     "name": "#%%\n"
    }
   },
   "outputs": [],
   "source": [
    "import pandas as pd\n",
    "import numpy as np\n",
    "from time import time\n",
    "\n",
    "from preprocess.DataLoader import execute_data_loader\n",
    "from preprocess.XmlTransformer import xml_transformation\n",
    "\n",
    "execute_data_loader()\n",
    "\n",
    "matches_data = pd.read_csv('../data/match_details.csv')\n",
    "players_data = pd.read_csv('../data/player_attributes.csv')"
   ]
  },
  {
   "cell_type": "code",
   "execution_count": 2,
   "metadata": {
    "collapsed": false,
    "jupyter": {
     "outputs_hidden": false
    },
    "pycharm": {
     "name": "#%%\n"
    }
   },
   "outputs": [],
   "source": [
    "df_transformed = xml_transformation(matches_data)"
   ]
  },
  {
   "cell_type": "code",
   "execution_count": 3,
   "metadata": {},
   "outputs": [],
   "source": [
    "df_transformed['date'] = pd.to_datetime(df_transformed['date'])\n",
    "df_transformed.sort_values(by='date', inplace=True)"
   ]
  },
  {
   "cell_type": "code",
   "execution_count": 4,
   "metadata": {
    "scrolled": true
   },
   "outputs": [],
   "source": [
    "df_transformed[['season', 'result_match']] = df_transformed[['season', 'result_match']].astype('category')"
   ]
  },
  {
   "cell_type": "code",
   "execution_count": 5,
   "metadata": {
    "pycharm": {
     "name": "#%%\n"
    }
   },
   "outputs": [
    {
     "name": "stdout",
     "output_type": "stream",
     "text": [
      "Calculate player stats in 0.449 minutes\n"
     ]
    }
   ],
   "source": [
    "start = time()\n",
    "\n",
    "players = ['{}_player_{}'.format(team, i) for team in ['home', 'away'] for i in range(1, 12)]\n",
    "\n",
    "def get_player_overall_rating(player_id):\n",
    "    return players_data.loc[players_data['player_api_id'].eq(player_id)].sort_values(by='date',ascending=False).iloc[0]['overall_rating']\n",
    "\n",
    "def get_player_id_for_team(row, player, team_type):\n",
    "    player_id = row[player]\n",
    "\n",
    "    if not np.isnan(player_id):\n",
    "        return player_id\n",
    "\n",
    "    # If the player ID is NaN\n",
    "    player_id = df_transformed.loc[df_transformed[f'{team_type}_team'].eq(row[f'{team_type}_team'])][player].value_counts().idxmax()\n",
    "    df_transformed.loc[df_transformed.match_api_id == row.match_api_id, player] = int(player_id)\n",
    "    \n",
    "    return player_id\n",
    "\n",
    "def calculate_player_stat(match_row):\n",
    "    player_stats_dict = {}\n",
    "\n",
    "    for player in players:\n",
    "        team_type = 'home' if 'home' in player else 'away'\n",
    "        player_id = get_player_id_for_team(match_row, player, team_type)\n",
    "\n",
    "        overall_ranking = get_player_overall_rating(player_id)\n",
    "        name = 'overall_rating_{}'.format(player)\n",
    "\n",
    "        player_stats_dict[name] = int(overall_ranking)\n",
    "        player_stats_dict['match_api_id'] = match_row.match_api_id\n",
    "\n",
    "    return player_stats_dict\n",
    "\n",
    "player_stats_dict = df_transformed.apply(lambda row: calculate_player_stat(row), axis=1)\n",
    "new_player_stats = pd.json_normalize(player_stats_dict)\n",
    "df_transformed = pd.merge(df_transformed, new_player_stats, how='left', on='match_api_id')\n",
    "df_transformed = df_transformed.drop(players, axis=1)\n",
    "\n",
    "end = time()\n",
    "print(\"Calculate player stats in {:.3f} minutes\".format((end - start) / 60))"
   ]
  },
  {
   "cell_type": "code",
   "execution_count": 6,
   "metadata": {
    "scrolled": true
   },
   "outputs": [
    {
     "name": "stdout",
     "output_type": "stream",
     "text": [
      "Calculate player stats in 0.014 minutes\n"
     ]
    }
   ],
   "source": [
    "start = time()\n",
    "\n",
    "def get_overall_player_strength(match_row):\n",
    "    \"\"\"\n",
    "    Calculate the overall player strenght.\n",
    "    \"\"\"\n",
    "    stats_home_players = match_row.filter(regex='overall_rating_home_player')\n",
    "    stats_away_players = match_row.filter(regex='overall_rating_away_player')\n",
    "\n",
    "    home_team_strength = round(stats_home_players.values.mean(), 2)\n",
    "    away_team_strength = round(stats_away_players.values.mean(), 2)\n",
    "\n",
    "    return home_team_strength, away_team_strength\n",
    "\n",
    "\n",
    "df_transformed[['home_team_strength', 'away_team_strength']] = df_transformed.apply(lambda row: get_overall_player_strength(row), axis=1, result_type='expand')\n",
    "\n",
    "cols_to_remove = df_transformed.filter(like='overall_rating').columns\n",
    "df_without_overall_ratings = df_transformed.drop(columns=cols_to_remove)\n",
    "\n",
    "end = time()\n",
    "print(\"Calculate player stats in {:.3f} minutes\".format((end - start) / 60))"
   ]
  },
  {
   "cell_type": "code",
   "execution_count": 7,
   "metadata": {
    "pycharm": {
     "name": "#%%\n"
    }
   },
   "outputs": [
    {
     "name": "stdout",
     "output_type": "stream",
     "text": [
      "Calculate average goals from 12 matches in 0.141 minutes\n"
     ]
    }
   ],
   "source": [
    "def get_scored_goals(row, team):\n",
    "    return row['home_team_goal'] if row['home_team'] == team else row['away_team_goal']\n",
    "\n",
    "def average_scored_goals(team, match_date, df, n):\n",
    "    \"\"\"\n",
    "    Calculate the average goals scored by a team over the last n matches before a given date.\n",
    "    \"\"\"\n",
    "    team_matches = df[((df['home_team'] == team) | (df['away_team'] == team)) &\n",
    "                      (df['date'] < match_date)].sort_values(by='date', ascending=False).head(n)\n",
    "    \n",
    "    return team_matches.apply(lambda row: get_scored_goals(row, team), axis=1).mean()\n",
    "\n",
    "def count_average_goals_from_last_n_matches(row, df, n=3):\n",
    "    home_team = row['home_team']\n",
    "    away_team = row['away_team']\n",
    "    match_date = row['date']\n",
    "\n",
    "    avg_goals_home = average_scored_goals(home_team, match_date, df, n)\n",
    "    avg_goals_away = average_scored_goals(away_team, match_date, df, n)\n",
    "\n",
    "    return avg_goals_home, avg_goals_away\n",
    "\n",
    "# Usage\n",
    "N = 12\n",
    "df_transformed[['home_avg_goals_scored', 'away_avg_goals_scored']] = df_transformed.apply(\n",
    "    lambda row: count_average_goals_from_last_n_matches(row, df_transformed, n=N), \n",
    "    axis=1, \n",
    "    result_type='expand'\n",
    ")\n",
    "\n",
    "end = time()\n",
    "print(\"Calculate average goals from {} matches in {:.3f} minutes\".format(N, (end - start) / 60))"
   ]
  },
  {
   "cell_type": "code",
   "execution_count": 9,
   "metadata": {
    "collapsed": false,
    "jupyter": {
     "outputs_hidden": false
    },
    "pycharm": {
     "name": "#%%\n"
    }
   },
   "outputs": [
    {
     "name": "stdout",
     "output_type": "stream",
     "text": [
      "Calculate average goals from 10 matches in 0.132 minutes\n"
     ]
    }
   ],
   "source": [
    "N = 10\n",
    "start = time()\n",
    "\n",
    "def get_conceded_goals(row, team):\n",
    "    if row['home_team'] == team:\n",
    "        return row['away_team_goal']\n",
    "    elif row['away_team'] == team:\n",
    "        return row['home_team_goal']\n",
    "    return 0\n",
    "\n",
    "def average_conceded_goals(team, match_date, n, df):\n",
    "    \"\"\"\n",
    "    Calculate the average conceded goals of a team over the last n matches before a given date.\n",
    "    \"\"\"\n",
    "    team_matches = df[((df['home_team'] == team) | (df['away_team'] == team)) &\n",
    "                      (df['date'] < match_date)].sort_values(by='date', ascending=False).head(n)\n",
    "\n",
    "    return team_matches.apply(lambda row: get_conceded_goals(row, team), axis=1).mean()\n",
    "\n",
    "def count_average_conceded_goals_from_last_n_matches(row, df, n=3):\n",
    "    home_team = row['home_team']\n",
    "    away_team = row['away_team']\n",
    "    match_date = row['date']\n",
    "\n",
    "    avg_goals_home = average_conceded_goals(home_team, match_date, n, df)\n",
    "    avg_goals_away = average_conceded_goals(away_team, match_date, n, df)\n",
    "\n",
    "    return avg_goals_home, avg_goals_away\n",
    "\n",
    "df_transformed[['home_avg_goals_conceded', 'away_avg_goals_conceded']] = df_transformed.apply(lambda row: count_average_conceded_goals_from_last_n_matches(row, df_transformed, n=N), axis=1, result_type='expand')\n",
    "\n",
    "end = time()\n",
    "print(\"Calculate average goals from {} matches in {:.3f} minutes\".format(N, (end - start) / 60))"
   ]
  },
  {
   "cell_type": "code",
   "execution_count": 10,
   "metadata": {
    "collapsed": false,
    "jupyter": {
     "outputs_hidden": false
    },
    "pycharm": {
     "name": "#%%\n"
    }
   },
   "outputs": [],
   "source": [
    "start = time()\n",
    "def count_previous_wins(df, team, match_date, season):\n",
    "    \"\"\"\n",
    "    Count the number of wins of a team before a given match_date in a given season.\n",
    "    \"\"\"\n",
    "    team_matches = df[((df['home_team'] == team) | (df['away_team'] == team)) &\n",
    "                      (df['date'] < match_date) &\n",
    "                      (df['season'] == season)]\n",
    "    \n",
    "    home_wins = (team_matches['home_team'] == team) & (team_matches['home_team_goal'] > team_matches['away_team_goal'])\n",
    "    away_wins = (team_matches['away_team'] == team) & (team_matches['home_team_goal'] < team_matches['away_team_goal'])\n",
    "    \n",
    "    return home_wins.sum() + away_wins.sum()\n",
    "\n",
    "def get_team_wins(row, df):\n",
    "    \"\"\"\n",
    "    Get the number of wins for both the home and away teams for a given match row.\n",
    "    \"\"\"\n",
    "    home_team = row['home_team']\n",
    "    away_team = row['away_team']\n",
    "    match_date = row['date']\n",
    "    season = row['season']\n",
    "\n",
    "    home_wins = count_previous_wins(df, home_team, match_date, season)\n",
    "    away_wins = count_previous_wins(df, away_team, match_date, season)\n",
    "\n",
    "    return home_wins, away_wins\n",
    "\n",
    "df_transformed[['home_wins', 'away_wins']] = df_transformed.apply(lambda row: get_team_wins(row, df_transformed), axis=1, result_type='expand')\n",
    "\n",
    "end = time()\n",
    "df_transformed['wins_diff'] = ((df_transformed['home_wins'] * df_transformed['home_team_strength'] - df_transformed['away_wins'] * df_transformed['away_team_strength']) / 10).astype(int)"
   ]
  },
  {
   "cell_type": "code",
   "execution_count": 18,
   "metadata": {
    "collapsed": false,
    "jupyter": {
     "outputs_hidden": false
    },
    "pycharm": {
     "name": "#%%\n"
    }
   },
   "outputs": [
    {
     "name": "stdout",
     "output_type": "stream",
     "text": [
      "Count streak wins in 0.152 minutes\n"
     ]
    }
   ],
   "source": [
    "start = time()\n",
    "\n",
    "def get_streak_wins(df, team, match_date):\n",
    "    team_matches = df[(df['home_team'] == team) | (df['away_team'] == team)]\n",
    "    recent_matches = team_matches[team_matches['date'] < match_date].sort_values(by='date', ascending=False)\n",
    "    \n",
    "    counter = 0\n",
    "    for _, match in recent_matches.iterrows():\n",
    "        if (match['home_team'] == team and match['home_team_goal'] > match['away_team_goal']) \\\n",
    "        or (match['away_team'] == team and match['home_team_goal'] < match['away_team_goal']):\n",
    "            counter += 1\n",
    "        else:\n",
    "            break\n",
    "    return counter\n",
    "\n",
    "def count_streak_wins(match_row):\n",
    "    match_date = match_row['date']\n",
    "    home_team = match_row['home_team']\n",
    "    away_team = match_row['away_team']\n",
    "\n",
    "    home_streak = get_streak_wins(df_transformed, home_team, match_date)\n",
    "    away_streak = get_streak_wins(df_transformed, away_team, match_date)\n",
    "\n",
    "    return home_streak, away_streak\n",
    "\n",
    "df_transformed[['home_streak_wins', 'away_streak_wins']] = df_transformed.apply(lambda row: count_streak_wins(row), axis=1, result_type='expand')\n",
    "\n",
    "end = time()\n",
    "print(\"Count streak wins in {:.3f} minutes\".format((end - start) / 60))"
   ]
  },
  {
   "cell_type": "code",
   "execution_count": 42,
   "metadata": {},
   "outputs": [
    {
     "name": "stdout",
     "output_type": "stream",
     "text": [
      "Count points in 0.263 minutes\n"
     ]
    }
   ],
   "source": [
    "start = time()\n",
    "\n",
    "def get_points(row, team):\n",
    "    points_mapping = {\n",
    "        'H': {'home': 3, 'away': 0},\n",
    "        'D': {'home': 1, 'away': 1},\n",
    "        'A': {'home': 0, 'away': 3}\n",
    "    }\n",
    "    team_type = 'home' if row['home_team'] == team else 'away'\n",
    "    return points_mapping[row['result_match']][team_type]\n",
    "\n",
    "def process_points(team, df, match_date, match_season):\n",
    "    team_matches = df.query('(home_team == @team | away_team == @team) & date < @match_date & season == @match_season')\n",
    "    if len(team_matches) == 0:\n",
    "        return 0\n",
    "    return team_matches.apply(lambda row: int(get_points(row, team)), axis=1).sum()\n",
    "\n",
    "def count_points(match_row):\n",
    "    match_date = match_row['date']\n",
    "    match_season = match_row['season']\n",
    "    home_team = match_row['home_team']\n",
    "    away_team = match_row['away_team']\n",
    "\n",
    "    home_team_points = process_points(home_team, df_transformed, match_date, match_season)\n",
    "    away_team_points = process_points(away_team, df_transformed, match_date, match_season)\n",
    "\n",
    "    return home_team_points, away_team_points\n",
    "\n",
    "df_transformed[['points_home', 'points_away']] = df_transformed.apply(lambda row: count_points(row), axis=1, result_type='expand')\n",
    "\n",
    "end = time()\n",
    "print(\"Count points in {:.3f} minutes\".format((end - start) / 60))"
   ]
  },
  {
   "cell_type": "code",
   "execution_count": 49,
   "metadata": {},
   "outputs": [
    {
     "name": "stdout",
     "output_type": "stream",
     "text": [
      "Get last match winner in 0.088 minutes\n"
     ]
    }
   ],
   "source": [
    "start = time()\n",
    "\n",
    "def get_last_winners(row):\n",
    "    if row['home_team_goal'] > row['away_team_goal']:\n",
    "        return row['home_team']\n",
    "    elif row['home_team_goal'] < row['away_team_goal']:\n",
    "        return row['away_team']\n",
    "    else:\n",
    "        return 'draw'\n",
    "\n",
    "def get_teams_match_mask(home_team, away_team):\n",
    "    return ((df_transformed['home_team'] == home_team) | (df_transformed['home_team'] == away_team)) & \\\n",
    "           ((df_transformed['away_team'] == home_team) | (df_transformed['away_team'] == away_team))\n",
    "\n",
    "def count_wins_eachother(match_row):\n",
    "    match_date = match_row['date']\n",
    "    home_team_ = match_row['home_team']\n",
    "    away_team_ = match_row['away_team']\n",
    "\n",
    "    mask_all_matches_between_teams = get_teams_match_mask(home_team_, away_team_)\n",
    "    sorted_team_matches = df_transformed.loc[mask_all_matches_between_teams & df_transformed['date'].lt(match_date)].sort_values(by='date', ascending=False)\n",
    "    winners = sorted_team_matches.apply(get_last_winners, axis=1)\n",
    "    counts = winners.value_counts()\n",
    "\n",
    "    return counts.loc[home_team_] if home_team_ in counts else 0, counts.loc[away_team_] if away_team_ in counts else 0\n",
    "\n",
    "df_transformed[['win_eachother_home', 'win_eachother_away']] = df_transformed.apply(count_wins_eachother, axis=1, result_type='expand')\n",
    "\n",
    "end = time()\n",
    "print(\"Get last match winner in {:.3f} minutes\".format((end - start) / 60))"
   ]
  },
  {
   "cell_type": "code",
   "execution_count": 50,
   "metadata": {
    "pycharm": {
     "name": "#%%\n"
    }
   },
   "outputs": [
    {
     "name": "stdout",
     "output_type": "stream",
     "text": [
      "Count team sum of points from n last matches in 0.205 minutes\n"
     ]
    }
   ],
   "source": [
    "start = time()\n",
    "\n",
    "N = 10\n",
    "\n",
    "def get_points(row, team):\n",
    "    # I'm assuming a simple point system: 3 for a win, 1 for a draw, 0 for a loss.\n",
    "    # Adjust as needed.\n",
    "    if row['home_team'] == team and row['home_team_goal'] > row['away_team_goal']:\n",
    "        return 3\n",
    "    elif row['away_team'] == team and row['away_team_goal'] > row['home_team_goal']:\n",
    "        return 3\n",
    "    elif row['home_team_goal'] == row['away_team_goal']:\n",
    "        return 1\n",
    "    else:\n",
    "        return 0\n",
    "\n",
    "def get_last_n_matches_points(team, match_date, n):\n",
    "    mask_team_matches = (df_transformed['home_team'] == team) | (df_transformed['away_team'] == team)\n",
    "    team_matches = df_transformed[mask_team_matches]\n",
    "    sorted_matches = team_matches[team_matches['date'].lt(match_date)].sort_values(by='date', ascending=False).iloc[:n]\n",
    "    points = sorted_matches.apply(lambda row: get_points(row, team), axis=1).sum()\n",
    "    return points\n",
    "\n",
    "def count_points_from_n_last_matches(row, n):\n",
    "    home_points = get_last_n_matches_points(row['home_team'], row['date'], n)\n",
    "    away_points = get_last_n_matches_points(row['away_team'], row['date'], n)\n",
    "    return home_points, away_points\n",
    "\n",
    "df_transformed[['home_sum_points', 'away_sum_points']] = df_transformed.apply(lambda row: count_points_from_n_last_matches(row, n=N), axis=1, result_type='expand')\n",
    "df_transformed['points_diff'] = df_transformed['home_sum_points'] - df_transformed['away_sum_points']\n",
    "\n",
    "end = time()\n",
    "print(\"Count team sum of points from n last matches in {:.3f} minutes\".format((end - start) / 60))"
   ]
  },
  {
   "cell_type": "code",
   "execution_count": 51,
   "metadata": {
    "collapsed": false,
    "jupyter": {
     "outputs_hidden": false
    },
    "pycharm": {
     "name": "#%%\n"
    }
   },
   "outputs": [
    {
     "name": "stdout",
     "output_type": "stream",
     "text": [
      "<class 'pandas.core.frame.DataFrame'>\n",
      "RangeIndex: 3040 entries, 0 to 3039\n",
      "Data columns (total 53 columns):\n",
      " #   Column                         Non-Null Count  Dtype         \n",
      "---  ------                         --------------  -----         \n",
      " 0   match_api_id                   3040 non-null   int64         \n",
      " 1   season                         3040 non-null   category      \n",
      " 2   stage                          3040 non-null   int64         \n",
      " 3   date                           3040 non-null   datetime64[ns]\n",
      " 4   away_team                      3040 non-null   int64         \n",
      " 5   home_team                      3040 non-null   int64         \n",
      " 6   home_team_goal                 3040 non-null   int64         \n",
      " 7   away_team_goal                 3040 non-null   int64         \n",
      " 8   result_match                   3040 non-null   category      \n",
      " 9   away_shoton                    3040 non-null   int64         \n",
      " 10  away_possession                3040 non-null   int64         \n",
      " 11  home_possession                3040 non-null   int64         \n",
      " 12  home_shoton                    3040 non-null   int64         \n",
      " 13  overall_rating_home_player_1   3040 non-null   int64         \n",
      " 14  overall_rating_home_player_2   3040 non-null   int64         \n",
      " 15  overall_rating_home_player_3   3040 non-null   int64         \n",
      " 16  overall_rating_home_player_4   3040 non-null   int64         \n",
      " 17  overall_rating_home_player_5   3040 non-null   int64         \n",
      " 18  overall_rating_home_player_6   3040 non-null   int64         \n",
      " 19  overall_rating_home_player_7   3040 non-null   int64         \n",
      " 20  overall_rating_home_player_8   3040 non-null   int64         \n",
      " 21  overall_rating_home_player_9   3040 non-null   int64         \n",
      " 22  overall_rating_home_player_10  3040 non-null   int64         \n",
      " 23  overall_rating_home_player_11  3040 non-null   int64         \n",
      " 24  overall_rating_away_player_1   3040 non-null   int64         \n",
      " 25  overall_rating_away_player_2   3040 non-null   int64         \n",
      " 26  overall_rating_away_player_3   3040 non-null   int64         \n",
      " 27  overall_rating_away_player_4   3040 non-null   int64         \n",
      " 28  overall_rating_away_player_5   3040 non-null   int64         \n",
      " 29  overall_rating_away_player_6   3040 non-null   int64         \n",
      " 30  overall_rating_away_player_7   3040 non-null   int64         \n",
      " 31  overall_rating_away_player_8   3040 non-null   int64         \n",
      " 32  overall_rating_away_player_9   3040 non-null   int64         \n",
      " 33  overall_rating_away_player_10  3040 non-null   int64         \n",
      " 34  overall_rating_away_player_11  3040 non-null   int64         \n",
      " 35  home_team_strength             3040 non-null   float64       \n",
      " 36  away_team_strength             3040 non-null   float64       \n",
      " 37  home_avg_goals_scored          3024 non-null   float64       \n",
      " 38  away_avg_goals_scored          3022 non-null   float64       \n",
      " 39  home_avg_goals_conceded        3024 non-null   float64       \n",
      " 40  away_avg_goals_conceded        3022 non-null   float64       \n",
      " 41  home_wins                      3040 non-null   int64         \n",
      " 42  away_wins                      3040 non-null   int64         \n",
      " 43  wins_diff                      3040 non-null   int32         \n",
      " 44  home_streak_wins               3040 non-null   int64         \n",
      " 45  away_streak_wins               3040 non-null   int64         \n",
      " 46  points_home                    3040 non-null   int64         \n",
      " 47  points_away                    3040 non-null   int64         \n",
      " 48  win_eachother_home             3040 non-null   int64         \n",
      " 49  win_eachother_away             3040 non-null   int64         \n",
      " 50  home_sum_points                3040 non-null   float64       \n",
      " 51  away_sum_points                3040 non-null   float64       \n",
      " 52  points_diff                    3040 non-null   float64       \n",
      "dtypes: category(2), datetime64[ns](1), float64(9), int32(1), int64(40)\n",
      "memory usage: 1.2 MB\n"
     ]
    }
   ],
   "source": [
    "df_transformed.info()"
   ]
  },
  {
   "cell_type": "code",
   "execution_count": null,
   "metadata": {},
   "outputs": [],
   "source": []
  }
 ],
 "metadata": {
  "kernelspec": {
   "display_name": "Python 3 (ipykernel)",
   "language": "python",
   "name": "python3"
  },
  "language_info": {
   "codemirror_mode": {
    "name": "ipython",
    "version": 3
   },
   "file_extension": ".py",
   "mimetype": "text/x-python",
   "name": "python",
   "nbconvert_exporter": "python",
   "pygments_lexer": "ipython3",
   "version": "3.10.8"
  }
 },
 "nbformat": 4,
 "nbformat_minor": 4
}