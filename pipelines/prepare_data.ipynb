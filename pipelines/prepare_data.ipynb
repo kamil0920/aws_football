{
 "cells": [
  {
   "cell_type": "code",
   "execution_count": 1,
   "metadata": {
    "collapsed": false,
    "jupyter": {
     "outputs_hidden": false
    },
    "pycharm": {
     "name": "#%%\n"
    }
   },
   "outputs": [],
   "source": [
    "import pandas as pd\n",
    "import numpy as np\n",
    "from time import time\n",
    "\n",
    "from preprocess.DataLoader import execute_data_loader\n",
    "from preprocess.XmlTransformer import xml_transformation\n",
    "\n",
    "execute_data_loader()\n",
    "\n",
    "matches_data = pd.read_csv('../data/match_details.csv')\n",
    "players_data = pd.read_csv('../data/player_attributes.csv')"
   ]
  },
  {
   "cell_type": "code",
   "execution_count": 2,
   "metadata": {
    "collapsed": false,
    "jupyter": {
     "outputs_hidden": false
    },
    "pycharm": {
     "name": "#%%\n"
    }
   },
   "outputs": [],
   "source": [
    "df_transformed = xml_transformation(matches_data)"
   ]
  },
  {
   "cell_type": "code",
   "execution_count": 3,
   "metadata": {},
   "outputs": [],
   "source": [
    "df_transformed['date'] = pd.to_datetime(df_transformed['date'])\n",
    "df_transformed.sort_values(by='date', inplace=True)"
   ]
  },
  {
   "cell_type": "code",
   "execution_count": 4,
   "metadata": {
    "scrolled": true
   },
   "outputs": [],
   "source": [
    "df_transformed[['season', 'result_match']] = df_transformed[['season', 'result_match']].astype('category')"
   ]
  },
  {
   "cell_type": "code",
   "execution_count": 5,
   "metadata": {
    "pycharm": {
     "name": "#%%\n"
    }
   },
   "outputs": [
    {
     "name": "stdout",
     "output_type": "stream",
     "text": [
      "Calculate player stats in 0.449 minutes\n"
     ]
    }
   ],
   "source": [
    "start = time()\n",
    "\n",
    "players = ['{}_player_{}'.format(team, i) for team in ['home', 'away'] for i in range(1, 12)]\n",
    "\n",
    "def get_player_overall_rating(player_id):\n",
    "    return players_data.loc[players_data['player_api_id'].eq(player_id)].sort_values(by='date',ascending=False).iloc[0]['overall_rating']\n",
    "\n",
    "def get_player_id_for_team(row, player, team_type):\n",
    "    player_id = row[player]\n",
    "\n",
    "    if not np.isnan(player_id):\n",
    "        return player_id\n",
    "\n",
    "    # If the player ID is NaN\n",
    "    player_id = df_transformed.loc[df_transformed[f'{team_type}_team'].eq(row[f'{team_type}_team'])][player].value_counts().idxmax()\n",
    "    df_transformed.loc[df_transformed.match_api_id == row.match_api_id, player] = int(player_id)\n",
    "    \n",
    "    return player_id\n",
    "\n",
    "def calculate_player_stat(match_row):\n",
    "    player_stats_dict = {}\n",
    "\n",
    "    for player in players:\n",
    "        team_type = 'home' if 'home' in player else 'away'\n",
    "        player_id = get_player_id_for_team(match_row, player, team_type)\n",
    "\n",
    "        overall_ranking = get_player_overall_rating(player_id)\n",
    "        name = 'overall_rating_{}'.format(player)\n",
    "\n",
    "        player_stats_dict[name] = int(overall_ranking)\n",
    "        player_stats_dict['match_api_id'] = match_row.match_api_id\n",
    "\n",
    "    return player_stats_dict\n",
    "\n",
    "player_stats_dict = df_transformed.apply(lambda row: calculate_player_stat(row), axis=1)\n",
    "new_player_stats = pd.json_normalize(player_stats_dict)\n",
    "df_transformed = pd.merge(df_transformed, new_player_stats, how='left', on='match_api_id')\n",
    "df_transformed = df_transformed.drop(players, axis=1)\n",
    "\n",
    "end = time()\n",
    "print(\"Calculate player stats in {:.3f} minutes\".format((end - start) / 60))"
   ]
  },
  {
   "cell_type": "code",
   "execution_count": 6,
   "metadata": {
    "scrolled": true
   },
   "outputs": [
    {
     "name": "stdout",
     "output_type": "stream",
     "text": [
      "Calculate player stats in 0.014 minutes\n"
     ]
    }
   ],
   "source": [
    "start = time()\n",
    "\n",
    "def get_overall_player_strength(match_row):\n",
    "    \"\"\"\n",
    "    Calculate the overall player strenght.\n",
    "    \"\"\"\n",
    "    stats_home_players = match_row.filter(regex='overall_rating_home_player')\n",
    "    stats_away_players = match_row.filter(regex='overall_rating_away_player')\n",
    "\n",
    "    home_team_strength = round(stats_home_players.values.mean(), 2)\n",
    "    away_team_strength = round(stats_away_players.values.mean(), 2)\n",
    "\n",
    "    return home_team_strength, away_team_strength\n",
    "\n",
    "\n",
    "df_transformed[['home_team_strength', 'away_team_strength']] = df_transformed.apply(lambda row: get_overall_player_strength(row), axis=1, result_type='expand')\n",
    "\n",
    "cols_to_remove = df_transformed.filter(like='overall_rating').columns\n",
    "df_without_overall_ratings = df_transformed.drop(columns=cols_to_remove)\n",
    "\n",
    "end = time()\n",
    "print(\"Calculate player stats in {:.3f} minutes\".format((end - start) / 60))"
   ]
  },
  {
   "cell_type": "code",
   "execution_count": 7,
   "metadata": {
    "pycharm": {
     "name": "#%%\n"
    }
   },
   "outputs": [
    {
     "name": "stdout",
     "output_type": "stream",
     "text": [
      "Calculate average goals from 12 matches in 0.141 minutes\n"
     ]
    }
   ],
   "source": [
    "def get_scored_goals(row, team):\n",
    "    return row['home_team_goal'] if row['home_team'] == team else row['away_team_goal']\n",
    "\n",
    "def average_scored_goals(team, match_date, df, n):\n",
    "    \"\"\"\n",
    "    Calculate the average goals scored by a team over the last n matches before a given date.\n",
    "    \"\"\"\n",
    "    team_matches = df[((df['home_team'] == team) | (df['away_team'] == team)) &\n",
    "                      (df['date'] < match_date)].sort_values(by='date', ascending=False).head(n)\n",
    "    \n",
    "    return team_matches.apply(lambda row: get_scored_goals(row, team), axis=1).mean()\n",
    "\n",
    "def count_average_goals_from_last_n_matches(row, df, n=3):\n",
    "    home_team = row['home_team']\n",
    "    away_team = row['away_team']\n",
    "    match_date = row['date']\n",
    "\n",
    "    avg_goals_home = average_scored_goals(home_team, match_date, df, n)\n",
    "    avg_goals_away = average_scored_goals(away_team, match_date, df, n)\n",
    "\n",
    "    return avg_goals_home, avg_goals_away\n",
    "\n",
    "# Usage\n",
    "N = 12\n",
    "df_transformed[['home_avg_goals_scored', 'away_avg_goals_scored']] = df_transformed.apply(\n",
    "    lambda row: count_average_goals_from_last_n_matches(row, df_transformed, n=N), \n",
    "    axis=1, \n",
    "    result_type='expand'\n",
    ")\n",
    "\n",
    "end = time()\n",
    "print(\"Calculate average goals from {} matches in {:.3f} minutes\".format(N, (end - start) / 60))"
   ]
  },
  {
   "cell_type": "code",
   "execution_count": 9,
   "metadata": {
    "collapsed": false,
    "jupyter": {
     "outputs_hidden": false
    },
    "pycharm": {
     "name": "#%%\n"
    }
   },
   "outputs": [
    {
     "name": "stdout",
     "output_type": "stream",
     "text": [
      "Calculate average goals from 10 matches in 0.132 minutes\n"
     ]
    }
   ],
   "source": [
    "N = 10\n",
    "start = time()\n",
    "\n",
    "def get_conceded_goals(row, team):\n",
    "    if row['home_team'] == team:\n",
    "        return row['away_team_goal']\n",
    "    elif row['away_team'] == team:\n",
    "        return row['home_team_goal']\n",
    "    return 0\n",
    "\n",
    "def average_conceded_goals(team, match_date, n, df):\n",
    "    \"\"\"\n",
    "    Calculate the average conceded goals of a team over the last n matches before a given date.\n",
    "    \"\"\"\n",
    "    team_matches = df[((df['home_team'] == team) | (df['away_team'] == team)) &\n",
    "                      (df['date'] < match_date)].sort_values(by='date', ascending=False).head(n)\n",
    "\n",
    "    return team_matches.apply(lambda row: get_conceded_goals(row, team), axis=1).mean()\n",
    "\n",
    "def count_average_conceded_goals_from_last_n_matches(row, df, n=3):\n",
    "    home_team = row['home_team']\n",
    "    away_team = row['away_team']\n",
    "    match_date = row['date']\n",
    "\n",
    "    avg_goals_home = average_conceded_goals(home_team, match_date, n, df)\n",
    "    avg_goals_away = average_conceded_goals(away_team, match_date, n, df)\n",
    "\n",
    "    return avg_goals_home, avg_goals_away\n",
    "\n",
    "df_transformed[['home_avg_goals_conceded', 'away_avg_goals_conceded']] = df_transformed.apply(lambda row: count_average_conceded_goals_from_last_n_matches(row, df_transformed, n=N), axis=1, result_type='expand')\n",
    "\n",
    "end = time()\n",
    "print(\"Calculate average goals from {} matches in {:.3f} minutes\".format(N, (end - start) / 60))"
   ]
  },
  {
   "cell_type": "code",
   "execution_count": 10,
   "metadata": {
    "collapsed": false,
    "jupyter": {
     "outputs_hidden": false
    },
    "pycharm": {
     "name": "#%%\n"
    }
   },
   "outputs": [],
   "source": [
    "start = time()\n",
    "def count_previous_wins(df, team, match_date, season):\n",
    "    \"\"\"\n",
    "    Count the number of wins of a team before a given match_date in a given season.\n",
    "    \"\"\"\n",
    "    team_matches = df[((df['home_team'] == team) | (df['away_team'] == team)) &\n",
    "                      (df['date'] < match_date) &\n",
    "                      (df['season'] == season)]\n",
    "    \n",
    "    home_wins = (team_matches['home_team'] == team) & (team_matches['home_team_goal'] > team_matches['away_team_goal'])\n",
    "    away_wins = (team_matches['away_team'] == team) & (team_matches['home_team_goal'] < team_matches['away_team_goal'])\n",
    "    \n",
    "    return home_wins.sum() + away_wins.sum()\n",
    "\n",
    "def get_team_wins(row, df):\n",
    "    \"\"\"\n",
    "    Get the number of wins for both the home and away teams for a given match row.\n",
    "    \"\"\"\n",
    "    home_team = row['home_team']\n",
    "    away_team = row['away_team']\n",
    "    match_date = row['date']\n",
    "    season = row['season']\n",
    "\n",
    "    home_wins = count_previous_wins(df, home_team, match_date, season)\n",
    "    away_wins = count_previous_wins(df, away_team, match_date, season)\n",
    "\n",
    "    return home_wins, away_wins\n",
    "\n",
    "df_transformed[['home_wins', 'away_wins']] = df_transformed.apply(lambda row: get_team_wins(row, df_transformed), axis=1, result_type='expand')\n",
    "\n",
    "end = time()\n",
    "df_transformed['wins_diff'] = ((df_transformed['home_wins'] * df_transformed['home_team_strength'] - df_transformed['away_wins'] * df_transformed['away_team_strength']) / 10).astype(int)"
   ]
  },
  {
   "cell_type": "code",
   "execution_count": 14,
   "metadata": {
    "collapsed": false,
    "jupyter": {
     "outputs_hidden": false
    },
    "pycharm": {
     "name": "#%%\n"
    }
   },
   "outputs": [
    {
     "name": "stdout",
     "output_type": "stream",
     "text": [
      "<class 'pandas.core.frame.DataFrame'>\n",
      "RangeIndex: 3040 entries, 0 to 3039\n",
      "Data columns (total 44 columns):\n",
      " #   Column                         Non-Null Count  Dtype         \n",
      "---  ------                         --------------  -----         \n",
      " 0   match_api_id                   3040 non-null   int64         \n",
      " 1   season                         3040 non-null   category      \n",
      " 2   stage                          3040 non-null   int64         \n",
      " 3   date                           3040 non-null   datetime64[ns]\n",
      " 4   away_team                      3040 non-null   int64         \n",
      " 5   home_team                      3040 non-null   int64         \n",
      " 6   home_team_goal                 3040 non-null   int64         \n",
      " 7   away_team_goal                 3040 non-null   int64         \n",
      " 8   result_match                   3040 non-null   category      \n",
      " 9   away_shoton                    3040 non-null   int64         \n",
      " 10  away_possession                3040 non-null   int64         \n",
      " 11  home_possession                3040 non-null   int64         \n",
      " 12  home_shoton                    3040 non-null   int64         \n",
      " 13  overall_rating_home_player_1   3040 non-null   int64         \n",
      " 14  overall_rating_home_player_2   3040 non-null   int64         \n",
      " 15  overall_rating_home_player_3   3040 non-null   int64         \n",
      " 16  overall_rating_home_player_4   3040 non-null   int64         \n",
      " 17  overall_rating_home_player_5   3040 non-null   int64         \n",
      " 18  overall_rating_home_player_6   3040 non-null   int64         \n",
      " 19  overall_rating_home_player_7   3040 non-null   int64         \n",
      " 20  overall_rating_home_player_8   3040 non-null   int64         \n",
      " 21  overall_rating_home_player_9   3040 non-null   int64         \n",
      " 22  overall_rating_home_player_10  3040 non-null   int64         \n",
      " 23  overall_rating_home_player_11  3040 non-null   int64         \n",
      " 24  overall_rating_away_player_1   3040 non-null   int64         \n",
      " 25  overall_rating_away_player_2   3040 non-null   int64         \n",
      " 26  overall_rating_away_player_3   3040 non-null   int64         \n",
      " 27  overall_rating_away_player_4   3040 non-null   int64         \n",
      " 28  overall_rating_away_player_5   3040 non-null   int64         \n",
      " 29  overall_rating_away_player_6   3040 non-null   int64         \n",
      " 30  overall_rating_away_player_7   3040 non-null   int64         \n",
      " 31  overall_rating_away_player_8   3040 non-null   int64         \n",
      " 32  overall_rating_away_player_9   3040 non-null   int64         \n",
      " 33  overall_rating_away_player_10  3040 non-null   int64         \n",
      " 34  overall_rating_away_player_11  3040 non-null   int64         \n",
      " 35  home_team_strength             3040 non-null   float64       \n",
      " 36  away_team_strength             3040 non-null   float64       \n",
      " 37  home_avg_goals_scored          3024 non-null   float64       \n",
      " 38  away_avg_goals_scored          3022 non-null   float64       \n",
      " 39  home_avg_goals_conceded        3024 non-null   float64       \n",
      " 40  away_avg_goals_conceded        3022 non-null   float64       \n",
      " 41  home_wins                      3040 non-null   int64         \n",
      " 42  away_wins                      3040 non-null   int64         \n",
      " 43  wins_diff                      3040 non-null   int32         \n",
      "dtypes: category(2), datetime64[ns](1), float64(6), int32(1), int64(34)\n",
      "memory usage: 992.2 KB\n"
     ]
    }
   ],
   "source": [
    "df_transformed.info()"
   ]
  },
  {
   "cell_type": "code",
   "execution_count": null,
   "metadata": {},
   "outputs": [],
   "source": []
  }
 ],
 "metadata": {
  "kernelspec": {
   "display_name": "Python 3 (ipykernel)",
   "language": "python",
   "name": "python3"
  },
  "language_info": {
   "codemirror_mode": {
    "name": "ipython",
    "version": 3
   },
   "file_extension": ".py",
   "mimetype": "text/x-python",
   "name": "python",
   "nbconvert_exporter": "python",
   "pygments_lexer": "ipython3",
   "version": "3.10.8"
  }
 },
 "nbformat": 4,
 "nbformat_minor": 4
}