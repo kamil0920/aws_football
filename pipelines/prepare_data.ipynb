{
 "cells": [
  {
   "cell_type": "code",
   "execution_count": 1,
   "metadata": {
    "collapsed": false,
    "jupyter": {
     "outputs_hidden": false
    },
    "pycharm": {
     "name": "#%%\n"
    }
   },
   "outputs": [],
   "source": [
    "import pandas as pd\n",
    "import numpy as np\n",
    "from time import time\n",
    "\n",
    "from preprocess.DataLoader import execute_data_loader\n",
    "from preprocess.XmlProcessor import XmlProcessor\n",
    "\n",
    "# execute_data_loader()"
   ]
  },
  {
   "cell_type": "code",
   "execution_count": 2,
   "metadata": {
    "collapsed": false,
    "jupyter": {
     "outputs_hidden": false
    },
    "pycharm": {
     "name": "#%%\n"
    }
   },
   "outputs": [],
   "source": [
    "matches_data = pd.read_csv('../data/match_details.csv')\n",
    "players_data = pd.read_csv('../data/player_attributes.csv')\n",
    "\n",
    "df_transformed = XmlProcessor(matches_data).process_data()"
   ]
  },
  {
   "cell_type": "code",
   "execution_count": 3,
   "metadata": {
    "collapsed": false,
    "jupyter": {
     "outputs_hidden": false
    },
    "pycharm": {
     "name": "#%%\n"
    }
   },
   "outputs": [],
   "source": [
    "df_transformed['date'] = pd.to_datetime(df_transformed['date'])\n",
    "players_data['date'] = pd.to_datetime(players_data['date'])\n",
    "df_transformed.sort_values(by='date', inplace=True)"
   ]
  },
  {
   "cell_type": "code",
   "execution_count": 4,
   "metadata": {
    "collapsed": false,
    "jupyter": {
     "outputs_hidden": false
    },
    "pycharm": {
     "name": "#%%\n"
    }
   },
   "outputs": [],
   "source": [
    "df_transformed[['season', 'result_match']] = df_transformed[['season', 'result_match']].astype('category')"
   ]
  },
  {
   "cell_type": "code",
   "execution_count": 5,
   "metadata": {
    "collapsed": false,
    "jupyter": {
     "outputs_hidden": false
    },
    "pycharm": {
     "name": "#%%\n"
    }
   },
   "outputs": [
    {
     "name": "stdout",
     "output_type": "stream",
     "text": [
      "Calculate player stats in 0.938 minutes\n"
     ]
    }
   ],
   "source": [
    "start = time()\n",
    "\n",
    "players = ['{}_player_{}'.format(team, i) for team in ['home', 'away'] for i in range(1, 12)]\n",
    "\n",
    "def get_player_overall_rating(player_id, match_date):\n",
    "    player_ratings_on_or_before_match = players_data[\n",
    "        (players_data['player_api_id'] == player_id) & (players_data['date'] <= match_date)\n",
    "    ]\n",
    "    latest_rating = player_ratings_on_or_before_match.sort_values(by='date', ascending=False).iloc[0]['overall_rating']\n",
    "    return latest_rating\n",
    "\n",
    "def get_player_id_for_team(row, player, team_type):\n",
    "    player_id = row[player]\n",
    "\n",
    "    if not np.isnan(player_id):\n",
    "        return player_id\n",
    "\n",
    "    player_id = df_transformed.loc[df_transformed[f'{team_type}_team'].eq(row[f'{team_type}_team'])][player].value_counts().idxmax()\n",
    "    df_transformed.loc[df_transformed.match_api_id == row.match_api_id, player] = int(player_id)\n",
    "    \n",
    "    return player_id\n",
    "\n",
    "def calculate_player_stat(match_row):\n",
    "    player_stats_dict = {}\n",
    "    match_date = match_row['date']\n",
    "\n",
    "    for player in players:\n",
    "        team_type = 'home' if 'home' in player else 'away'\n",
    "        player_id = get_player_id_for_team(match_row, player, team_type)\n",
    "\n",
    "        overall_ranking = get_player_overall_rating(player_id, match_date)\n",
    "        name = 'player_rating_{}'.format(player)\n",
    "\n",
    "        player_stats_dict[name] = int(overall_ranking)\n",
    "        player_stats_dict['match_api_id'] = match_row.match_api_id\n",
    "\n",
    "    return player_stats_dict\n",
    "\n",
    "player_stats_dict = df_transformed.apply(lambda row: calculate_player_stat(row), axis=1)\n",
    "new_player_stats = pd.json_normalize(player_stats_dict)\n",
    "df_transformed = pd.merge(df_transformed, new_player_stats, how='left', on='match_api_id')\n",
    "df_transformed = df_transformed.drop(players, axis=1)\n",
    "\n",
    "end = time()\n",
    "print(\"Calculate player stats in {:.3f} minutes\".format((end - start) / 60))"
   ]
  },
  {
   "cell_type": "code",
   "execution_count": 6,
   "metadata": {
    "collapsed": false,
    "jupyter": {
     "outputs_hidden": false
    },
    "pycharm": {
     "name": "#%%\n"
    }
   },
   "outputs": [
    {
     "name": "stdout",
     "output_type": "stream",
     "text": [
      "['home_player_9', 'home_player_10', 'home_player_11', 'away_player_10', 'away_player_11']\n"
     ]
    }
   ],
   "source": [
    "# Check on which positions given player played\n",
    "columns_with_value = matches_data.columns[matches_data.eq(30843).any()].tolist()\n",
    "print(columns_with_value)"
   ]
  },
  {
   "cell_type": "code",
   "execution_count": 7,
   "metadata": {
    "collapsed": false,
    "jupyter": {
     "outputs_hidden": false
    },
    "pycharm": {
     "name": "#%%\n"
    }
   },
   "outputs": [
    {
     "name": "stdout",
     "output_type": "stream",
     "text": [
      "test passed\n"
     ]
    }
   ],
   "source": [
    "# Test: Test that the overall ratings fetched are indeed the latest\n",
    "player_id = 30843\n",
    "player_col = 'home_player_11'\n",
    "rating_col = 'player_rating_' + player_col\n",
    "\n",
    "# Fetch rating from transformed df\n",
    "match = matches_data.loc[matches_data[player_col].eq(player_id)].sort_values(by='date',ascending=False).iloc[0]\n",
    "match_id = match['match_api_id']\n",
    "transformed_rating = df_transformed[df_transformed['match_api_id'] == match_id].iloc[0][rating_col]\n",
    "\n",
    "# Fetch player rating from players data by id and latest date\n",
    "raw_rating = players_data[\n",
    "    (players_data['player_api_id'] == player_id) & (players_data['date'] <= match['date'])\n",
    "].sort_values(by='date', ascending=False).iloc[0]['overall_rating']\n",
    "\n",
    "assert transformed_rating == raw_rating, f\"Incorrect rating for {player_col}\"\n",
    "print(\"test passed\")"
   ]
  },
  {
   "cell_type": "code",
   "execution_count": 8,
   "metadata": {
    "collapsed": false,
    "jupyter": {
     "outputs_hidden": false
    },
    "pycharm": {
     "name": "#%%\n"
    }
   },
   "outputs": [],
   "source": [
    "alpha = 0.001\n",
    "\n",
    "def calculate_team_ema(df, alpha):\n",
    "    # Create a long format DataFrame where each row is a team's performance in a match\n",
    "    home_df = df[['date', 'home_team', 'home_team_goal']].rename(columns={'home_team': 'team', 'home_team_goal': 'goals'})\n",
    "    away_df = df[['date', 'away_team', 'away_team_goal']].rename(columns={'away_team': 'team', 'away_team_goal': 'goals'})\n",
    "    long_df = pd.concat([home_df, away_df])\n",
    "\n",
    "    # Sort by team and date to ensure correct order for EMA calculation\n",
    "    long_df.sort_values(by=['team', 'date'], inplace=True)\n",
    "\n",
    "    # Calculate EMA with shift to exclude the current match\n",
    "    long_df['ema_goals'] = (\n",
    "        long_df.groupby('team')['goals']\n",
    "        .apply(lambda x: x.shift(1).ewm(adjust=True, alpha=alpha).mean())\n",
    "        .reset_index(level=0, drop=True)\n",
    "        .round(2)\n",
    "    )\n",
    "\n",
    "    # Pivot the long format back to wide format with separate columns for home and away teams\n",
    "    ema_home = long_df.rename(columns={'team': 'home_team', 'ema_goals': 'home_team_ewm_goals'}).drop(columns=['goals'])\n",
    "    ema_away = long_df.rename(columns={'team': 'away_team', 'ema_goals': 'away_team_ewm_goals'}).drop(columns=['goals'])\n",
    "\n",
    "    # Merge the EMA data back to the original DataFrame\n",
    "    merged_df = df.merge(ema_home, on=['date', 'home_team'], how='left').merge(ema_away, on=['date', 'away_team'], how='left')\n",
    "\n",
    "    return merged_df\n",
    "\n",
    "df_transformed = calculate_team_ema(df_transformed.copy(), alpha=alpha)"
   ]
  },
  {
   "cell_type": "code",
   "execution_count": null,
   "outputs": [],
   "source": [
    "def test_count_average_goals_from_last_n_matches():\n",
    "    data = {\n",
    "        'date': ['2023-01-01', '2023-01-02', '2023-01-03', '2023-01-04', '2023-01-05', '2023-01-06'],\n",
    "        'home_team': ['TeamA', 'TeamB', 'TeamA', 'TeamB', 'TeamA', 'TeamB'],\n",
    "        'away_team': ['TeamB', 'TeamA', 'TeamB', 'TeamA', 'TeamB', 'TeamA'],\n",
    "        'home_team_goal': [2, 1, 3, 1, 3, 2],\n",
    "        'away_team_goal': [1, 2, 0, 1, 1, 1]\n",
    "    }\n",
    "    \n",
    "    df_mock = pd.DataFrame(data)\n",
    "\n",
    "    # Calculating EMA for home and away teams\n",
    "    df_ = calculate_team_ema(df_mock, 0.01)\n",
    "\n",
    "    assert df_.iloc[-1]['home_team_ewm_goals'] == 0.8, f\"Expected 0.8 but got {df_.iloc[-1]['home_team_ewm_goals']}\"\n",
    "    assert df_.iloc[-1]['away_team_ewm_goals'] == 2.2, f\"Expected 2.2 but got {df_.iloc[-1]['away_team_ewm_goals']}\"\n",
    "    print(\"Test passed!\")\n",
    "\n",
    "test_count_average_goals_from_last_n_matches()"
   ],
   "metadata": {
    "collapsed": false,
    "pycharm": {
     "name": "#%%\n"
    }
   }
  },
  {
   "cell_type": "code",
   "execution_count": null,
   "outputs": [],
   "source": [
    "def calculate_team_ema(df, alpha):\n",
    "    # Create a long format DataFrame where each row is a team's performance in a match\n",
    "    home_df = df[['date', 'home_team', 'away_team_goal']].rename(columns={'home_team': 'team', 'away_team_goal': 'goals'})\n",
    "    away_df = df[['date', 'away_team', 'home_team_goal']].rename(columns={'away_team': 'team', 'home_team_goal': 'goals'})\n",
    "    long_df = pd.concat([home_df, away_df])\n",
    "\n",
    "    # Sort by team and date to ensure correct order for EMA calculation\n",
    "    long_df.sort_values(by=['team', 'date'], inplace=True)\n",
    "\n",
    "    # Calculate EMA with shift to exclude the current match\n",
    "    long_df['ema_goals'] = (\n",
    "        long_df.groupby('team')['goals']\n",
    "        .apply(lambda x: x.shift(1).ewm(adjust=True, alpha=alpha).mean())\n",
    "        .reset_index(level=0, drop=True)\n",
    "        .round(2)\n",
    "    )\n",
    "\n",
    "    # Pivot the long format back to wide format with separate columns for home and away teams\n",
    "    ema_home = long_df.rename(columns={'team': 'home_team', 'ema_goals': 'home_team_ewm_goals_conceded'}).drop(columns=['goals'])\n",
    "    ema_away = long_df.rename(columns={'team': 'away_team', 'ema_goals': 'away_team_ewm_goals_conceded'}).drop(columns=['goals'])\n",
    "\n",
    "    # Merge the EMA data back to the original DataFrame\n",
    "    merged_df = df.merge(ema_home, on=['date', 'home_team'], how='left').merge(ema_away, on=['date', 'away_team'], how='left')\n",
    "\n",
    "    return merged_df\n",
    "\n",
    "df_transformed = calculate_team_ema(df_transformed.copy(), alpha=alpha)"
   ],
   "metadata": {
    "collapsed": false,
    "pycharm": {
     "name": "#%%\n"
    }
   }
  },
  {
   "cell_type": "code",
   "execution_count": null,
   "outputs": [],
   "source": [
    "def test_count_average_goals_conceded_from_last_n_matches():\n",
    "    data = {\n",
    "        'date': ['2023-01-01', '2023-01-02', '2023-01-03', '2023-01-04', '2023-01-05', '2023-01-06'],\n",
    "        'home_team': ['TeamA', 'TeamB', 'TeamA', 'TeamB', 'TeamA', 'TeamB'],\n",
    "        'away_team': ['TeamB', 'TeamA', 'TeamB', 'TeamA', 'TeamB', 'TeamA'],\n",
    "        'home_team_goal': [2, 1, 3, 1, 0, 2],\n",
    "        'away_team_goal': [1, 2, 0, 1, 1, 1]\n",
    "    }\n",
    "    \n",
    "    df_mock = pd.DataFrame(data)\n",
    "\n",
    "   # Calculating EMA for home and away teams\n",
    "    df_ = calculate_team_ema(df_mock, 0.01)\n",
    "    \n",
    "    assert df_.iloc[-1]['away_team_ewm_goals_conceded'] == 0.8, f\"Expected 0.8 but got {df_transformed.iloc[-1]['away_team_ewm_goals_conceded']}\"\n",
    "    assert df_.iloc[-1]['home_team_ewm_goals_conceded'] == 1.59, f\"Expected 1.59 but got {df_transformed.iloc[-1]['home_team_ewm_goals_conceded']}\"\n",
    "    print(\"Test passed!\")\n",
    "\n",
    "test_count_average_goals_conceded_from_last_n_matches()"
   ],
   "metadata": {
    "collapsed": false,
    "pycharm": {
     "name": "#%%\n"
    }
   }
  },
  {
   "cell_type": "code",
   "execution_count": null,
   "outputs": [],
   "source": [
    "def calculate_weighted_wins(df, team, match_date, is_home_team, n=10, decay_factor=0.9):\n",
    "    \"\"\"\n",
    "    Calculate the weighted number of wins of a team before a given match_date.\n",
    "    More recent wins carry more weight.\n",
    "    If is_home_team is True, count only home wins, else count only away wins.\n",
    "    \"\"\"\n",
    "    if is_home_team:\n",
    "        # Filter for home matches only\n",
    "        team_matches = df[(df['home_team'] == team) & (df['date'] < match_date)].head(n)\n",
    "        wins = (team_matches['home_team_goal'] > team_matches['away_team_goal'])\n",
    "    else:\n",
    "        # Filter for away matches only\n",
    "        team_matches = df[(df['away_team'] == team) & (df['date'] < match_date)].head(n)\n",
    "        wins = (team_matches['home_team_goal'] < team_matches['away_team_goal'])\n",
    "\n",
    "    # Apply decay factor\n",
    "    decay_weights = decay_factor ** np.arange(len(wins))\n",
    "    weighted_wins = sum(wins * decay_weights)\n",
    "\n",
    "    return weighted_wins\n",
    "\n",
    "def get_team_weighted_wins(row, df, n, decay_factor=0.9):\n",
    "    \"\"\"\n",
    "    Get the weighted number of wins for both the home and away teams for a given match row,\n",
    "    considering only previous home or away matches respectively.\n",
    "    \"\"\"\n",
    "    home_team = row['home_team']\n",
    "    away_team = row['away_team']\n",
    "    match_date = row['date']\n",
    "\n",
    "    home_wins = calculate_weighted_wins(df, home_team, match_date, is_home_team=True, n=n, decay_factor=decay_factor)\n",
    "    away_wins = calculate_weighted_wins(df, away_team, match_date, is_home_team=False, n=n, decay_factor=decay_factor)\n",
    "\n",
    "    return home_wins, away_wins\n",
    "\n",
    "start = time()\n",
    "\n",
    "# Define the number of matches to consider and the decay factor\n",
    "N = 10\n",
    "decay_factor = 0.85\n",
    "\n",
    "# Example usage\n",
    "df_transformed[['home_weighted_wins', 'away_weighted_wins']] = df_transformed.apply(lambda row: get_team_weighted_wins(row, df_transformed, N, decay_factor), axis=1, result_type='expand')\n",
    "\n",
    "end = time()\n",
    "print(\"Calculate team weighted wins in {:.3f} minutes\".format((end - start) / 60))\n"
   ],
   "metadata": {
    "collapsed": false,
    "pycharm": {
     "name": "#%%\n"
    }
   }
  },
  {
   "cell_type": "code",
   "execution_count": null,
   "outputs": [],
   "source": [
    "df_transformed[['home_weighted_wins', 'away_weighted_wins']].describe().round(2)"
   ],
   "metadata": {
    "collapsed": false,
    "pycharm": {
     "name": "#%%\n"
    }
   }
  },
  {
   "cell_type": "code",
   "execution_count": null,
   "outputs": [],
   "source": [
    "# def test_get_team_wins():\n",
    "#     data = {\n",
    "#         'home_team': ['TeamA', 'TeamB', 'TeamB', 'TeamB'],\n",
    "#         'away_team': ['TeamB', 'TeamA', 'TeamC', 'TeamA'],\n",
    "#         'home_team_goal': [2, 1, 3, 0],\n",
    "#         'away_team_goal': [1, 2, 0, 1],\n",
    "#         'date': ['2023-01-01', '2023-01-02', '2023-01-03', '2023-01-04'],\n",
    "#         'season': ['2023', '2023', '2023', '2023']\n",
    "#     }\n",
    "\n",
    "#     mock_df = pd.DataFrame(data)\n",
    "#     mock_df['date'] = pd.to_datetime(mock_df['date'])\n",
    "\n",
    "#     expected_home_wins = 1\n",
    "#     expected_away_wins = 1\n",
    "\n",
    "#     home_wins, away_wins = get_team_wins(mock_df.iloc[-1], mock_df, 3)\n",
    "\n",
    "#     assert home_wins == expected_home_wins, \"home_wins doesn't match expected values\"\n",
    "#     assert away_wins == expected_away_wins, \"away_wins doesn't match expected values\"\n",
    "\n",
    "#     print(\"Test for get_team_wins passed!\")\n",
    "\n",
    "# test_get_team_wins()"
   ],
   "metadata": {
    "collapsed": false,
    "pycharm": {
     "name": "#%%\n"
    }
   }
  },
  {
   "cell_type": "code",
   "execution_count": null,
   "outputs": [],
   "source": [
    "start = time()\n",
    "\n",
    "def get_overall_player_strength(match_row):\n",
    "    stats_home_players = match_row.filter(regex='player_rating_home_player')\n",
    "    stats_away_players = match_row.filter(regex='player_rating_away_player')\n",
    "\n",
    "    home_team_strength = round(stats_home_players.values.mean(), 2)\n",
    "    away_team_strength = round(stats_away_players.values.mean(), 2)\n",
    "\n",
    "    return home_team_strength, away_team_strength\n",
    "\n",
    "\n",
    "df_transformed[['avg_home_team_rating', 'avg_away_team_rating']] = df_transformed.apply(lambda row: get_overall_player_strength(row), axis=1, result_type='expand')\n",
    "\n",
    "end = time()\n",
    "print(\"Calculate player stats in {:.3f} minutes\".format((end - start) / 60))"
   ],
   "metadata": {
    "collapsed": false,
    "pycharm": {
     "name": "#%%\n"
    }
   }
  },
  {
   "cell_type": "code",
   "execution_count": null,
   "outputs": [],
   "source": [
    "start = time()\n",
    "\n",
    "def calculate_weighted_streak(df, team, match_date, is_home_team, decay_factor=0.95):\n",
    "    if is_home_team:\n",
    "        team_matches = df[(df['home_team'] == team) & (df['date'] < match_date)].copy()\n",
    "        team_matches.loc[:, 'win'] = (team_matches['home_team_goal'] > team_matches['away_team_goal']).astype(int)\n",
    "        # Weight wins by opponent strength (example: higher rating means stronger team)\n",
    "        team_matches.loc[:, 'quality'] =  team_matches['avg_away_team_rating']\n",
    "    else:\n",
    "        team_matches = df[(df['away_team'] == team) & (df['date'] < match_date)].copy()\n",
    "        team_matches.loc[:, 'win'] = (team_matches['home_team_goal'] < team_matches['away_team_goal']).astype(int)\n",
    "        team_matches.loc[:, 'quality'] = team_matches['avg_home_team_rating']\n",
    "\n",
    "    # Sort matches from most recent to oldest\n",
    "    team_matches = team_matches.sort_values(by='date', ascending=False)\n",
    "\n",
    "    # Apply decay factor\n",
    "    decay_weights = decay_factor ** np.arange(len(team_matches))\n",
    "\n",
    "    # Calculate the weighted streak\n",
    "    weighted_streak = sum(decay_weights * team_matches['quality'] * team_matches['win'])\n",
    "\n",
    "    return weighted_streak\n",
    "\n",
    "def count_streak_wins(match_row, df):\n",
    "    match_date = match_row['date']\n",
    "    home_team = match_row['home_team']\n",
    "    away_team = match_row['away_team']\n",
    "\n",
    "    home_streak = calculate_weighted_streak(df, home_team, match_date, is_home_team=True)\n",
    "    away_streak = calculate_weighted_streak(df, away_team, match_date, is_home_team=False)\n",
    "\n",
    "    return round(home_streak, 2), round(away_streak, 2)\n",
    "\n",
    "\n",
    "df_transformed[['home_streak_wins', 'away_streak_wins']] = df_transformed.apply(lambda row: count_streak_wins(row, df_transformed), axis=1, result_type='expand')\n",
    "\n",
    "end = time()\n",
    "print(\"Count streak wins in {:.3f} minutes\".format((end - start) / 60))"
   ],
   "metadata": {
    "collapsed": false,
    "pycharm": {
     "name": "#%%\n"
    }
   }
  },
  {
   "cell_type": "code",
   "execution_count": null,
   "outputs": [],
   "source": [
    "def test_get_team_wins():\n",
    "    data = {\n",
    "        'home_team': ['TeamB', 'TeamB', 'TeamA', 'TeamB', 'TeamB', 'TeamB', 'TeamB'],\n",
    "        'away_team': ['TeamA', 'TeamA', 'TeamB', 'TeamA', 'TeamA', 'TeamC', 'TeamA'],\n",
    "        'home_team_goal': [2, 1, 3, 0, 0, 2, 0],\n",
    "        'away_team_goal': [1, 2, 0, 1, 1, 1, 1],\n",
    "        'avg_away_team_rating': [75, 85, 83, 74, 73, 66, 78],\n",
    "        'avg_home_team_rating': [90, 76, 78, 85, 77, 65, 82],\n",
    "        'date': ['2023-01-01', '2023-01-02', '2023-01-03', '2023-01-04', '2023-01-05', '2023-01-06', '2023-01-07'],\n",
    "        'season': ['2023', '2023', '2023', '2023', '2023', '2023', '2023']\n",
    "    }\n",
    "\n",
    "    mock_df = pd.DataFrame(data)\n",
    "    mock_df['date'] = pd.to_datetime(mock_df['date'])\n",
    "\n",
    "    expected_home_wins = 127.09\n",
    "    expected_away_wins = 226.34\n",
    "\n",
    "    home_streak_wins, away_streak_wins = count_streak_wins(mock_df.iloc[-1], mock_df)\n",
    "\n",
    "    assert home_streak_wins == expected_home_wins, f\"home_wins doesn't match expected values, {expected_home_wins}\"\n",
    "    assert away_streak_wins == expected_away_wins, f\"away_wins doesn't match expected values, {expected_away_wins}\"\n",
    "\n",
    "    print(\"Test for get_team_wins passed!\")\n",
    "\n",
    "test_get_team_wins()"
   ],
   "metadata": {
    "collapsed": false,
    "pycharm": {
     "name": "#%%\n"
    }
   }
  },
  {
   "cell_type": "code",
   "execution_count": null,
   "outputs": [],
   "source": [
    "start = time()\n",
    "\n",
    "def get_points(row, team):\n",
    "    points_mapping = {\n",
    "        'H': {'home': 3, 'away': 0},\n",
    "        'D': {'home': 1, 'away': 1},\n",
    "        'A': {'home': 0, 'away': 3}\n",
    "    }\n",
    "    team_type = 'home' if row['home_team'] == team else 'away'    \n",
    "    return int(points_mapping[row['result_match']][team_type])\n",
    "\n",
    "def process_points(team, df, match_date, match_season):\n",
    "    team_matches = df.query('(home_team == @team | away_team == @team) & date < @match_date & season == @match_season')\n",
    "    if len(team_matches) == 0:\n",
    "        return 0\n",
    "\n",
    "    return team_matches.apply(lambda row: get_points(row, team), axis=1).sum()\n",
    "\n",
    "def count_points(match_row, df):\n",
    "    match_date = match_row['date']\n",
    "    match_season = match_row['season']\n",
    "    home_team = match_row['home_team']\n",
    "    away_team = match_row['away_team']\n",
    "\n",
    "    home_team_points = process_points(home_team, df, match_date, match_season)\n",
    "    away_team_points = process_points(away_team, df, match_date, match_season)\n",
    "\n",
    "    return home_team_points, away_team_points\n",
    "\n",
    "df_transformed[['points_home', 'points_away']] = df_transformed.apply(lambda row: count_points(row, df_transformed), axis=1, result_type='expand')\n",
    "\n",
    "end = time()\n",
    "print(\"Count points in {:.3f} minutes\".format((end - start) / 60))"
   ],
   "metadata": {
    "collapsed": false,
    "pycharm": {
     "name": "#%%\n"
    }
   }
  },
  {
   "cell_type": "code",
   "execution_count": null,
   "outputs": [],
   "source": [
    "def calculate_ewma_team_stat(df, alpha, stat_type):\n",
    "    # Create a long format DataFrame where each row is a team's performance in a match\n",
    "    home_df = df[['date', 'home_team', f'home_{stat_type}']].rename(\n",
    "        columns={'home_team': 'team', f'home_{stat_type}': stat_type})\n",
    "    away_df = df[['date', 'away_team', f'away_{stat_type}']].rename(\n",
    "        columns={'away_team': 'team', f'away_{stat_type}': stat_type})\n",
    "    long_df = pd.concat([home_df, away_df])\n",
    "\n",
    "    # Sort by team and date to ensure correct order for EMA calculation\n",
    "    long_df.sort_values(by=['team', 'date'], inplace=True)\n",
    "\n",
    "    # Calculate EWMA with shift to exclude the current match\n",
    "    long_df[f'ewma_{stat_type}'] = (\n",
    "        long_df.groupby('team')[stat_type]\n",
    "        .apply(lambda x: x.shift(1).ewm(adjust=True, alpha=alpha).mean())\n",
    "        .reset_index(level=0, drop=True)\n",
    "        .round(3)\n",
    "    )\n",
    "\n",
    "    # Pivot the long format back to wide format with separate columns for home and away teams\n",
    "    ewma_home = long_df.rename(columns={'team': 'home_team', f'ewma_{stat_type}': f'ewma_{stat_type}_home'}).drop(columns=[stat_type])\n",
    "    ewma_away = long_df.rename(columns={'team': 'away_team', f'ewma_{stat_type}': f'ewma_{stat_type}_away'}).drop(columns=[stat_type])\n",
    "\n",
    "    # Merge the EWMA data back to the original DataFrame\n",
    "    merged_df = df.merge(ewma_home, on=['date', 'home_team'], how='left').merge(ewma_away, on=['date', 'away_team'], how='left')\n",
    "\n",
    "    return merged_df\n",
    "\n",
    "# Define the alpha for EWMA and the stat_type\n",
    "alpha = 0.01\n",
    "stat_type = 'shoton'\n",
    "\n",
    "# Example usage\n",
    "df_transformed = calculate_ewma_team_stat(df_transformed.copy(), alpha, stat_type)"
   ],
   "metadata": {
    "collapsed": false,
    "pycharm": {
     "name": "#%%\n"
    }
   }
  },
  {
   "cell_type": "code",
   "execution_count": null,
   "outputs": [],
   "source": [
    "def test_count_average_stat_from_last_n_matches():\n",
    "    data = {\n",
    "        'date': ['2023-01-01', '2023-01-02', '2023-01-03', '2023-01-04', '2023-01-05', '2023-01-06'],\n",
    "        'home_team': ['TeamA', 'TeamB', 'TeamA', 'TeamB', 'TeamA', 'TeamB'],\n",
    "        'away_team': ['TeamB', 'TeamA', 'TeamB', 'TeamA', 'TeamB', 'TeamA'],\n",
    "        'home_shoton': [5, 4, 6, 3, 5, 4],\n",
    "        'away_shoton': [4, 5, 5, 4, 4, 3]\n",
    "    }\n",
    "    \n",
    "    df_mock = pd.DataFrame(data)\n",
    "    stat_type = 'shoton'\n",
    "    \n",
    "    df_ = calculate_ewma_team_stat(df_mock, 0.01, stat_type)\n",
    "    \n",
    "    assert df_.iloc[-1]['ewma_shoton_home'] == 3.998, f\"Expected 3.998 but got {df_.iloc[-1]['ewma_shoton_home']}\"\n",
    "    assert df_.iloc[-1]['ewma_shoton_away'] == 4.998, f\"Expected 4.998 but got {df_.iloc[-1]['ewma_shoton_away']}\"\n",
    "    print(\"Test passed!\")\n",
    "\n",
    "test_count_average_stat_from_last_n_matches()"
   ],
   "metadata": {
    "collapsed": false,
    "pycharm": {
     "name": "#%%\n"
    }
   }
  },
  {
   "cell_type": "code",
   "execution_count": 20,
   "metadata": {
    "pycharm": {
     "name": "#%%\n"
    }
   },
   "outputs": [
    {
     "name": "stdout",
     "output_type": "stream",
     "text": [
      "Test passed!\n"
     ]
    }
   ],
   "source": [
    "def test_count_average_stat_from_last_n_matches():\n",
    "    data = {\n",
    "        'date': ['2023-01-01', '2023-01-02', '2023-01-03', '2023-01-04', '2023-01-05', '2023-01-06'],\n",
    "        'home_team': ['TeamA', 'TeamB', 'TeamA', 'TeamB', 'TeamA', 'TeamB'],\n",
    "        'away_team': ['TeamB', 'TeamA', 'TeamB', 'TeamA', 'TeamB', 'TeamA'],\n",
    "        'home_shoton': [5, 4, 6, 3, 5, 4],\n",
    "        'away_shoton': [4, 5, 5, 4, 4, 3]\n",
    "    }\n",
    "    \n",
    "    df_mock = pd.DataFrame(data)\n",
    "    stat_type = 'shoton'\n",
    "    \n",
    "    df_ = calculate_ewma_team_stat(df_mock, 0.01, stat_type)\n",
    "    \n",
    "    assert df_.iloc[-1]['ewma_shoton_home'] == 3.998, f\"Expected 3.998 but got {df_.iloc[-1]['ewma_shoton_home']}\"\n",
    "    assert df_.iloc[-1]['ewma_shoton_away'] == 4.998, f\"Expected 4.998 but got {df_.iloc[-1]['ewma_shoton_away']}\"\n",
    "    print(\"Test passed!\")\n",
    "\n",
    "test_count_average_stat_from_last_n_matches()"
   ]
  },
  {
   "cell_type": "code",
   "execution_count": 21,
   "metadata": {
    "pycharm": {
     "name": "#%%\n"
    }
   },
   "outputs": [],
   "source": [
    "from sklearn.preprocessing import LabelEncoder\n",
    "\n",
    "# Map result_match to int\n",
    "def prepare_target(y_):\n",
    "    le = LabelEncoder()\n",
    "    transform = le.fit_transform(y_)\n",
    "    return transform, le.classes_  # 0: 'A', 1: 'D', 2: 'H'\n",
    "\n",
    "df_transformed['result_match'], classes = prepare_target(df_transformed['result_match'])"
   ]
  },
  {
   "cell_type": "code",
   "execution_count": 22,
   "metadata": {
    "collapsed": false,
    "jupyter": {
     "outputs_hidden": false
    },
    "pycharm": {
     "name": "#%%\n"
    },
    "scrolled": true
   },
   "outputs": [
    {
     "name": "stdout",
     "output_type": "stream",
     "text": [
      "<class 'pandas.core.frame.DataFrame'>\n",
      "RangeIndex: 3040 entries, 0 to 3039\n",
      "Data columns (total 49 columns):\n",
      " #   Column                        Non-Null Count  Dtype         \n",
      "---  ------                        --------------  -----         \n",
      " 0   match_api_id                  3040 non-null   int64         \n",
      " 1   season                        3040 non-null   category      \n",
      " 2   stage                         3040 non-null   int64         \n",
      " 3   date                          3040 non-null   datetime64[ns]\n",
      " 4   away_team                     3040 non-null   int64         \n",
      " 5   home_team                     3040 non-null   int64         \n",
      " 6   home_team_goal                3040 non-null   int64         \n",
      " 7   away_team_goal                3040 non-null   int64         \n",
      " 8   result_match                  3040 non-null   int32         \n",
      " 9   away_possession               3040 non-null   int64         \n",
      " 10  home_shoton                   3040 non-null   int64         \n",
      " 11  home_possession               3040 non-null   int64         \n",
      " 12  away_shoton                   3040 non-null   int64         \n",
      " 13  player_rating_home_player_1   3040 non-null   int64         \n",
      " 14  player_rating_home_player_2   3040 non-null   int64         \n",
      " 15  player_rating_home_player_3   3040 non-null   int64         \n",
      " 16  player_rating_home_player_4   3040 non-null   int64         \n",
      " 17  player_rating_home_player_5   3040 non-null   int64         \n",
      " 18  player_rating_home_player_6   3040 non-null   int64         \n",
      " 19  player_rating_home_player_7   3040 non-null   int64         \n",
      " 20  player_rating_home_player_8   3040 non-null   int64         \n",
      " 21  player_rating_home_player_9   3040 non-null   int64         \n",
      " 22  player_rating_home_player_10  3040 non-null   int64         \n",
      " 23  player_rating_home_player_11  3040 non-null   int64         \n",
      " 24  player_rating_away_player_1   3040 non-null   int64         \n",
      " 25  player_rating_away_player_2   3040 non-null   int64         \n",
      " 26  player_rating_away_player_3   3040 non-null   int64         \n",
      " 27  player_rating_away_player_4   3040 non-null   int64         \n",
      " 28  player_rating_away_player_5   3040 non-null   int64         \n",
      " 29  player_rating_away_player_6   3040 non-null   int64         \n",
      " 30  player_rating_away_player_7   3040 non-null   int64         \n",
      " 31  player_rating_away_player_8   3040 non-null   int64         \n",
      " 32  player_rating_away_player_9   3040 non-null   int64         \n",
      " 33  player_rating_away_player_10  3040 non-null   int64         \n",
      " 34  player_rating_away_player_11  3040 non-null   int64         \n",
      " 35  home_team_ewm_goals           3024 non-null   float64       \n",
      " 36  away_team_ewm_goals           3022 non-null   float64       \n",
      " 37  home_team_ewm_goals_conceded  3024 non-null   float64       \n",
      " 38  away_team_ewm_goals_conceded  3022 non-null   float64       \n",
      " 39  home_weighted_wins            3040 non-null   float64       \n",
      " 40  away_weighted_wins            3040 non-null   float64       \n",
      " 41  avg_home_team_rating          3040 non-null   float64       \n",
      " 42  avg_away_team_rating          3040 non-null   float64       \n",
      " 43  home_streak_wins              3040 non-null   float64       \n",
      " 44  away_streak_wins              3040 non-null   float64       \n",
      " 45  points_home                   3040 non-null   int64         \n",
      " 46  points_away                   3040 non-null   int64         \n",
      " 47  ewma_shoton_home              3024 non-null   float64       \n",
      " 48  ewma_shoton_away              3022 non-null   float64       \n",
      "dtypes: category(1), datetime64[ns](1), float64(12), int32(1), int64(34)\n",
      "memory usage: 1.1 MB\n"
     ]
    }
   ],
   "source": [
    "df_transformed.info()"
   ]
  },
  {
   "cell_type": "code",
   "execution_count": 31,
   "metadata": {
    "collapsed": false,
    "jupyter": {
     "outputs_hidden": false
    },
    "pycharm": {
     "name": "#%%\n"
    }
   },
   "outputs": [],
   "source": [
    "import os\n",
    "\n",
    "output_dir = \"../data/transform/\"\n",
    "filename= \"transformed_data.csv\"\n",
    "\n",
    "full_path = os.path.join(output_dir, filename)\n",
    "if not os.path.exists(output_dir):\n",
    "    os.makedirs(output_dir)\n",
    "\n",
    "df_transformed.to_csv(full_path, index=False)"
   ]
  },
  {
   "cell_type": "code",
   "execution_count": null,
   "metadata": {
    "pycharm": {
     "name": "#%%\n"
    }
   },
   "outputs": [],
   "source": []
  }
 ],
 "metadata": {
  "kernelspec": {
   "display_name": "Python 3 (ipykernel)",
   "language": "python",
   "name": "python3"
  },
  "language_info": {
   "codemirror_mode": {
    "name": "ipython",
    "version": 3
   },
   "file_extension": ".py",
   "mimetype": "text/x-python",
   "name": "python",
   "nbconvert_exporter": "python",
   "pygments_lexer": "ipython3",
   "version": "3.10.8"
  }
 },
 "nbformat": 4,
 "nbformat_minor": 4
}