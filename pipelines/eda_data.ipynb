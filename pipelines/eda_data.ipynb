{
 "cells": [
  {
   "cell_type": "code",
   "execution_count": 3,
   "metadata": {
    "collapsed": false,
    "jupyter": {
     "outputs_hidden": false
    },
    "pycharm": {
     "name": "#%%\n"
    }
   },
   "outputs": [],
   "source": [
    "import matplotlib.pyplot as plt\n",
    "import seaborn as sns\n",
    "import pandas as pd\n",
    "import numpy as np\n",
    "\n",
    "sns.set(style=\"darkgrid\")"
   ]
  },
  {
   "cell_type": "code",
   "execution_count": null,
   "outputs": [],
   "source": [
    "df = pd.read_csv('../data/transform/match_details_transformed.csv')\n",
    "selected_columns_with_target = [\n",
    "    'home_avg_goals_scored', 'away_avg_goals_scored', 'home_avg_goals_conceded', 'away_avg_goals_conceded', 'home_wins', 'away_wins', 'home_team_strength', 'away_team_strength', 'home_streak_wins', 'away_streak_wins', 'home_sum_points', 'away_sum_points', 'points_diff', 'win_eachother_home', 'win_eachother_away', 'avg_possession_home', 'avg_possession_away', 'avg_shoton_home', 'avg_shoton_away', 'result_match'\n",
    "]\n",
    "\n",
    "selected_df = df[selected_columns_with_target]"
   ],
   "metadata": {
    "collapsed": false,
    "pycharm": {
     "name": "#%%\n"
    }
   }
  },
  {
   "cell_type": "code",
   "execution_count": null,
   "outputs": [],
   "source": [
    "# Summary statistics\n",
    "summary_stats = selected_df.describe()\n",
    "\n",
    "summary_stats"
   ],
   "metadata": {
    "collapsed": false,
    "pycharm": {
     "name": "#%%\n"
    }
   }
  },
  {
   "cell_type": "code",
   "execution_count": null,
   "outputs": [],
   "source": [
    "# Selected columns for EDA\n",
    "\n",
    "selected_columns = [\n",
    "    'home_avg_goals_scored', 'away_avg_goals_scored', 'home_avg_goals_conceded', 'away_avg_goals_conceded', 'home_wins', 'away_wins', 'home_team_strength', 'away_team_strength', 'home_streak_wins', 'away_streak_wins', 'home_sum_points', 'away_sum_points', 'points_diff', 'win_eachother_home', 'win_eachother_away', 'avg_possession_home', 'avg_possession_away', 'avg_shoton_home', 'avg_shoton_away',\n",
    "]\n",
    "\n",
    "df_subset = selected_df[selected_columns_with_target]\n",
    "\n",
    "# Plotting distributions for the selected columns\n",
    "plt.figure(figsize=(20, 15))\n",
    "for i, col in enumerate(selected_columns, 1):\n",
    "    plt.subplot(5, 4, i)\n",
    "    sns.histplot(df_subset[col], kde=True)\n",
    "    plt.title(f'Distribution of {col}')\n",
    "    plt.tight_layout()\n",
    "\n",
    "plt.show()"
   ],
   "metadata": {
    "collapsed": false,
    "pycharm": {
     "name": "#%%\n"
    }
   }
  },
  {
   "cell_type": "code",
   "execution_count": null,
   "outputs": [],
   "source": [
    "# - Some variables (like home_avg_goals_scored, away_avg_goals_scored, etc.) appear to be normally distributed.\n",
    "# - Others, such as home_wins and away_wins, are skewed to the right.\n",
    "# - Some columns (like win_eachother_home and win_eachother_away) seem to be categorical or binary, as they have distinct peaks."
   ],
   "metadata": {
    "collapsed": false,
    "pycharm": {
     "name": "#%%\n"
    }
   }
  },
  {
   "cell_type": "code",
   "execution_count": null,
   "outputs": [],
   "source": [
    "# Compute the correlation matrix\n",
    "corr = df_subset.corr()\n",
    "\n",
    "# Set up the matplotlib figure\n",
    "f, ax = plt.subplots(figsize=(11, 9))\n",
    "\n",
    "# Generate a mask for the upper triangle\n",
    "mask = np.triu(np.ones_like(corr, dtype=bool))\n",
    "\n",
    "# Generate a custom diverging colormap\n",
    "cmap = sns.diverging_palette(230, 20, as_cmap=True)\n",
    "\n",
    "# Draw the heatmap with the mask and correct aspect ratio\n",
    "sns.heatmap(corr, mask=mask, cmap=cmap, vmax=.3, center=0,\n",
    "            square=True, linewidths=.5, cbar_kws={\"shrink\": .5})\n",
    "\n",
    "plt.show()"
   ],
   "metadata": {
    "collapsed": false,
    "pycharm": {
     "name": "#%%\n"
    }
   }
  },
  {
   "cell_type": "code",
   "execution_count": null,
   "outputs": [],
   "source": [
    "# Compute the correlation matrix\n",
    "corr = df_subset.corr()\n",
    "\n",
    "# Set up the matplotlib figure\n",
    "f, ax = plt.subplots(figsize=(11, 9))\n",
    "\n",
    "# Generate a mask for the upper triangle\n",
    "mask = np.triu(np.ones_like(corr, dtype=bool))\n",
    "\n",
    "# Generate a custom diverging colormap\n",
    "cmap = sns.diverging_palette(230, 20, as_cmap=True)\n",
    "\n",
    "# Draw the heatmap with the mask and correct aspect ratio\n",
    "sns.heatmap(corr, mask=mask, cmap=cmap, vmax=.3, center=0,\n",
    "            square=True, linewidths=.5, cbar_kws={\"shrink\": .5})\n",
    "\n",
    "plt.show()"
   ],
   "metadata": {
    "collapsed": false,
    "pycharm": {
     "name": "#%%\n"
    }
   }
  },
  {
   "cell_type": "code",
   "execution_count": null,
   "outputs": [],
   "source": [
    "# Compute the correlation between the selected columns and the target variable\n",
    "correlation = selected_df.corr()['result_match'].sort_values(ascending=False).drop(['result_match'])\n",
    "\n",
    "# Plot the correlations\n",
    "plt.figure(figsize=(10, 8))\n",
    "sns.barplot(y=correlation.index, x=correlation.values, legend=False)\n",
    "plt.title(\"Correlation with result_match\")\n",
    "plt.xlabel(\"Correlation Value\")\n",
    "plt.ylabel(\"Features\")\n",
    "plt.show()"
   ],
   "metadata": {
    "collapsed": false,
    "pycharm": {
     "name": "#%%\n"
    }
   }
  },
  {
   "cell_type": "code",
   "execution_count": null,
   "outputs": [],
   "source": [
    "# - weigthed_wins_diff, points_diff and home_team_strength have positive correlations, implying that higher values in these features could favor the home team's win."
   ],
   "metadata": {
    "collapsed": false,
    "pycharm": {
     "name": "#%%\n"
    }
   }
  },
  {
   "cell_type": "code",
   "execution_count": null,
   "outputs": [],
   "source": [
    "# - away_sum_points, home_avg_goals_conceded, and away_team_strength have negative correlations, implying that higher values in these features could favor the away team's win."
   ],
   "metadata": {
    "collapsed": false,
    "pycharm": {
     "name": "#%%\n"
    }
   }
  },
  {
   "cell_type": "code",
   "execution_count": null,
   "outputs": [],
   "source": [
    "selected_df['result_match'] = selected_df['result_match'].map({0: 'Away win', 1: 'Draw', 2: 'Home win'})"
   ],
   "metadata": {
    "collapsed": false,
    "pycharm": {
     "name": "#%%\n"
    }
   }
  },
  {
   "cell_type": "code",
   "execution_count": null,
   "outputs": [],
   "source": [
    "# Get top 5 positively and negatively correlated features\n",
    "top_pos_correlated = correlation.index[1:6]  # Exclude the target variable itself\n",
    "top_neg_correlated = correlation.index[-5:]\n",
    "\n",
    "# Plotting the top 5 positively correlated features against result_match\n",
    "plt.figure(figsize=(15, 12))\n",
    "for i, feature in enumerate(top_pos_correlated, 1):\n",
    "    plt.subplot(2, 3, i)\n",
    "    sns.boxplot(x=\"result_match\", y=feature, data=selected_df, palette=\"Blues\", hue='result_match', legend=False)\n",
    "    plt.title(f\"Boxplot of {feature} vs result_match\")\n",
    "\n",
    "plt.tight_layout()\n",
    "plt.show()"
   ],
   "metadata": {
    "collapsed": false,
    "pycharm": {
     "name": "#%%\n"
    }
   }
  },
  {
   "cell_type": "code",
   "execution_count": null,
   "outputs": [],
   "source": [
    "# - weigthed_wins_diff:\n",
    "# For result_match = 0: The median is negative, indicating that the away team typically has a higher weighted win score than the home team for this result category (possibly an away win).\n",
    "# For result_match = 1: The distribution is more centered around zero, but still slightly skewed towards positive values.\n",
    "# For result_match = 2: The median value is positive, suggesting that the home team generally has a higher weighted win score compared to the away team (possibly a home win).\n",
    "\n",
    "# - points_diff: \n",
    "# For result_match = 0: The median points_diff is negative, indicating that the away team typically has more points than the home team when the match result is 0 (possibly an away win).\n",
    "# For result_match = 1: The points_diff is centered around zerosuggesting that both teams are relatively evenly matched in terms of points when the result is a draw, but still slightly skewed towards negative values.\n",
    "# For result_match = 2: The median points_diff is positive, indicating that the home team generally has more points than the away team when the match result is 2 (possibly a home win)."
   ],
   "metadata": {
    "collapsed": false,
    "pycharm": {
     "name": "#%%\n"
    }
   }
  },
  {
   "cell_type": "code",
   "execution_count": null,
   "outputs": [],
   "source": [
    "def detect_outliers(data):\n",
    "    # Calculate Q1, Q2 and IQR\n",
    "    Q1 = data.quantile(0.15)\n",
    "    Q3 = data.quantile(0.85)\n",
    "    IQR = Q3 - Q1\n",
    "    # Define bounds\n",
    "    lower_bound = Q1 - 1.5 * IQR\n",
    "    upper_bound = Q3 + 1.5 * IQR\n",
    "    # Identify outliers\n",
    "    return ((data < lower_bound) | (data > upper_bound)).sum()\n",
    "\n",
    "outliers_count = detect_outliers(selected_df.drop(columns=\"result_match\"))\n",
    "outliers_count"
   ],
   "metadata": {
    "collapsed": false,
    "pycharm": {
     "name": "#%%\n"
    }
   }
  },
  {
   "cell_type": "code",
   "execution_count": null,
   "outputs": [],
   "source": [
    "# Plot interactions between goal-related features and team strength\n",
    "plt.figure(figsize=(15, 10))\n",
    "\n",
    "# Interaction between home_avg_goals_scored and home_team_strength\n",
    "plt.subplot(2, 2, 1)\n",
    "sns.scatterplot(x='home_avg_goals_scored', y='home_team_strength', hue='result_match', data=selected_df, palette='deep', style='result_match')\n",
    "plt.title('Home Goals Scored vs Home Team Strength')\n",
    "\n",
    "# Interaction between away_avg_goals_scored and away_team_strength\n",
    "plt.subplot(2, 2, 2)\n",
    "sns.scatterplot(x='away_avg_goals_scored', y='away_team_strength', hue='result_match', data=selected_df, palette='deep', style='result_match')\n",
    "plt.title('Away Goals Scored vs Away Team Strength')\n",
    "\n",
    "# Interaction between home_avg_goals_scored and away_avg_goals_scored\n",
    "plt.subplot(2, 2, 3)\n",
    "sns.scatterplot(x='home_avg_goals_scored', y='away_avg_goals_scored', hue='result_match', data=selected_df, palette='deep', style='result_match')\n",
    "plt.title('Home Goals Scored vs Away Goals Scored')\n",
    "\n",
    "# Interaction between home_team_strength and away_team_strength\n",
    "plt.subplot(2, 2, 4)\n",
    "sns.scatterplot(x='home_team_strength', y='away_team_strength', hue='result_match', data=selected_df, palette='deep', style='result_match')\n",
    "plt.title('Home Team Strength vs Away Team Strength')\n",
    "\n",
    "plt.tight_layout()\n",
    "plt.show()"
   ],
   "metadata": {
    "collapsed": false,
    "pycharm": {
     "name": "#%%\n"
    }
   }
  },
  {
   "cell_type": "code",
   "execution_count": null,
   "outputs": [],
   "source": [
    "# - Home Goals Scored vs Home Team Strength:\n",
    "\n",
    "# There's a general trend suggesting that stronger teams (with higher strength values) tend to score more goals on average.\n",
    "# The color hue (representing match results) indicates that when the home team scores more goals, they are more likely to win.\n",
    "\n",
    "# - Away Goals Scored vs Away Team Strength:\n",
    "\n",
    "# Similar to home teams, there's a trend where stronger away teams tend to score more goals on average.\n",
    "# Matches where the away team scores more goals are more likely to result in an away win.\n",
    "\n",
    "# - Home Goals Scored vs Away Goals Scored:\n",
    "\n",
    "# Trend suggests that when home_avg_goals_scored is bigger than away_avg_goals_scored than home team win.\n",
    "# Points above the diagonal line indicate home wins, and points below the diagonal line suggest away wins.\n",
    "\n",
    "# - Home Team Strength vs Away Team Strength:\n",
    "\n",
    "# There's a concentration of points around the center, indicating that many matches are between teams of similar strengths.\n",
    "# The color hue shows that when the away team is stronger, they are more likely to win, and vice versa."
   ],
   "metadata": {
    "collapsed": false,
    "pycharm": {
     "name": "#%%\n"
    }
   }
  },
  {
   "cell_type": "code",
   "execution_count": null,
   "outputs": [],
   "source": [
    "from sklearn.ensemble import RandomForestClassifier\n",
    "\n",
    "# Initialize a Random Forest Classifier\n",
    "rf = RandomForestClassifier(n_estimators=100, random_state=42)\n",
    "\n",
    "# Split the data into features and target\n",
    "X = selected_df.drop(columns=\"result_match\")\n",
    "y = selected_df[\"result_match\"]\n",
    "\n",
    "# Fit the model\n",
    "rf.fit(X, y)\n",
    "\n",
    "# Get feature importances\n",
    "feature_importances = pd.Series(rf.feature_importances_, index=X.columns).sort_values(ascending=False)\n",
    "\n",
    "# Plot feature importances\n",
    "plt.figure(figsize=(12, 8))\n",
    "feature_importances.plot(kind='barh', color='skyblue')\n",
    "plt.title('Feature Importances using Random Forest')\n",
    "plt.xlabel('Importance')\n",
    "plt.ylabel('Feature')\n",
    "plt.gca().invert_yaxis()\n",
    "plt.show()"
   ],
   "metadata": {
    "collapsed": false,
    "pycharm": {
     "name": "#%%\n"
    }
   }
  },
  {
   "cell_type": "code",
   "execution_count": null,
   "outputs": [],
   "source": [
    "from statsmodels.stats.outliers_influence import variance_inflation_factor\n",
    "\n",
    "# Calculate VIF for each feature\n",
    "vif_data = pd.DataFrame()\n",
    "vif_data[\"Feature\"] = X.columns\n",
    "vif_data[\"VIF\"] = [variance_inflation_factor(X.values, i) for i in range(X.shape[1])]\n",
    "\n",
    "# Sort by VIF values in descending order\n",
    "vif_sorted = vif_data.sort_values(by=\"VIF\", ascending=False)\n",
    "vif_sorted"
   ],
   "metadata": {
    "collapsed": false,
    "pycharm": {
     "name": "#%%\n"
    }
   }
  },
  {
   "cell_type": "code",
   "execution_count": null,
   "outputs": [],
   "source": [
    "# Features such as avg_shoton_away, avg_possession_home, avg_shoton_home, home_sum_points, away_sum_points, points_diff, and avg_possession_away have infinite VIF values, suggesting they are perfectly (or near-perfectly) correlated with other features in the dataset. These features might need to be dropped or combined with others to avoid multicollinearity issues.\n",
    "# Features away_wins, home_wins, away_team_strength, and home_team_strength have high VIF values, indicating potential multicollinearity with other features."
   ],
   "metadata": {
    "collapsed": false,
    "pycharm": {
     "name": "#%%\n"
    }
   }
  },
  {
   "cell_type": "code",
   "execution_count": null,
   "outputs": [],
   "source": [
    "# 1. Match Outcome by Team Strength\n",
    "\n",
    "# Creating a new column to indicate which team has higher strength\n",
    "selected_df['stronger_team'] = 'draw'\n",
    "selected_df.loc[selected_df['home_team_strength'] > selected_df['away_team_strength'], 'stronger_team'] = 'home'\n",
    "selected_df.loc[selected_df['home_team_strength'] < selected_df['away_team_strength'], 'stronger_team'] = 'away'\n",
    "\n",
    "# Mapping result_match to outcomes\n",
    "outcomes = {0: 'away_win', 1: 'draw', 2: 'home_win'}\n",
    "selected_df['match_outcome'] = selected_df['result_match'].map(outcomes)\n",
    "\n",
    "# Counting outcomes based on which team was stronger\n",
    "strength_outcome = selected_df.groupby(['stronger_team', 'match_outcome']).size().unstack()"
   ],
   "metadata": {
    "collapsed": false,
    "pycharm": {
     "name": "#%%\n"
    }
   }
  },
  {
   "cell_type": "code",
   "execution_count": null,
   "outputs": [],
   "source": [
    "# Teams deemed \"stronger\" (either the home or away team) tend to win more often,\n",
    "# as evidenced by the larger segments for \"home_win\" and \"away_win\" respectively.\n",
    "strength_outcome"
   ],
   "metadata": {
    "collapsed": false,
    "pycharm": {
     "name": "#%%\n"
    }
   }
  },
  {
   "cell_type": "code",
   "execution_count": null,
   "outputs": [],
   "source": [
    "# 2. Effect of Streaks\n",
    "\n",
    "# Filtering matches where home streak is bigger than away streak \n",
    "streak_threshold = 2\n",
    "streak_data = selected_df[selected_df['home_streak_wins'] > selected_df['away_streak_wins']]\n",
    "\n",
    "# Counting outcomes based on streaks\n",
    "streak_outcomes = streak_data.groupby(['match_outcome']).size()\n",
    "\n",
    "streak_outcomes.plot(kind='pie', figsize=(8, 6), colormap='Set3', autopct='%1.1f%%', startangle=140, wedgeprops=dict(width=0.3))\n",
    "plt.title('Match Outcomes when a home team is on a Streak')\n",
    "plt.ylabel('')  # Removing the default ylabel\n",
    "plt.tight_layout()\n",
    "plt.show()"
   ],
   "metadata": {
    "collapsed": false,
    "pycharm": {
     "name": "#%%\n"
    }
   }
  },
  {
   "cell_type": "code",
   "execution_count": null,
   "outputs": [],
   "source": [
    "# Plot distribution for 'result_match' (Categorical variable)\n",
    "plt.figure(figsize=(8, 4))\n",
    "sns.countplot(x='result_match', data=selected_df)\n",
    "plt.title('Distribution of Match Results')\n",
    "plt.show()"
   ],
   "metadata": {
    "collapsed": false,
    "pycharm": {
     "name": "#%%\n"
    }
   }
  },
  {
   "cell_type": "code",
   "execution_count": null,
   "outputs": [],
   "source": [],
   "metadata": {
    "collapsed": false,
    "pycharm": {
     "name": "#%%\n"
    }
   }
  },
  {
   "cell_type": "code",
   "execution_count": null,
   "metadata": {},
   "outputs": [],
   "source": []
  }
 ],
 "metadata": {
  "kernelspec": {
   "display_name": "Python 3 (ipykernel)",
   "language": "python",
   "name": "python3"
  },
  "language_info": {
   "codemirror_mode": {
    "name": "ipython",
    "version": 3
   },
   "file_extension": ".py",
   "mimetype": "text/x-python",
   "name": "python",
   "nbconvert_exporter": "python",
   "pygments_lexer": "ipython3",
   "version": "3.10.8"
  }
 },
 "nbformat": 4,
 "nbformat_minor": 4
}