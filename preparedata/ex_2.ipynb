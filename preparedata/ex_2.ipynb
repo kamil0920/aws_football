{
 "cells": [
  {
   "cell_type": "code",
   "outputs": [],
   "source": [
    "import pandas as pd\n",
    "from xgboost import XGBClassifier\n",
    "\n",
    "from sklearn.model_selection import train_test_split\n",
    "from sklearn.metrics import  f1_score\n",
    "\n",
    "import warnings\n",
    "warnings.filterwarnings('ignore')"
   ],
   "metadata": {
    "collapsed": false,
    "ExecuteTime": {
     "end_time": "2024-01-24T20:09:58.735742500Z",
     "start_time": "2024-01-24T20:09:58.565604700Z"
    }
   },
   "id": "8b0486f411b2f0d5",
   "execution_count": 1
  },
  {
   "cell_type": "code",
   "outputs": [
    {
     "name": "stdout",
     "output_type": "stream",
     "text": [
      "[['player_rating_away_player_1', 'player_rating_away_player_2', 'player_rating_away_player_3', 'player_rating_away_player_4', 'player_rating_away_player_5', 'player_rating_away_player_6', 'player_rating_away_player_7', 'player_rating_away_player_8', 'player_rating_away_player_9', 'player_rating_away_player_10', 'player_rating_away_player_11'], ['ewm_away_team_goals', 'ewm_home_team_goals_conceded', 'ewm_away_team_goals_conceded', 'points_home', 'points_away', 'away_weighted_wins', 'ewm_shoton_home', 'ewm_shoton_away', 'ewm_possession_home', 'ewm_possession_away', 'home_weighted_wins_binned', 'ewm_home_team_goals_binned'], ['num_top_players_home', 'num_top_players_away'], ['rating_range_home', 'rating_range_away']]\n"
     ]
    }
   ],
   "source": [
    "import os\n",
    "import json\n",
    "\n",
    "X = pd.read_csv('../data/new_features/df_.csv')\n",
    "y = pd.read_csv('../data/new_features/y.csv')\n",
    "\n",
    "with open('../data/binned/interaction_constraints.json', 'r') as file:\n",
    "    interaction_constraints = json.load(file)\n",
    "    \n",
    "print(interaction_constraints)"
   ],
   "metadata": {
    "collapsed": false,
    "ExecuteTime": {
     "end_time": "2024-01-24T20:09:58.778293100Z",
     "start_time": "2024-01-24T20:09:58.735742500Z"
    }
   },
   "id": "db8c7a25484bd531",
   "execution_count": 2
  },
  {
   "cell_type": "code",
   "outputs": [],
   "source": [
    "def evaluate_model(features, target, interaction_constraints):\n",
    "    X_train, X_val, y_train, y_val = train_test_split(features, target, test_size=0.2, random_state=42, stratify=target)\n",
    "    model = XGBClassifier(random_state=42, enable_categorical=True, interaction_constraints=interaction_constraints, early_stopping_raounds=25)\n",
    "    model.fit(X_train, y_train, eval_set=[(X_train, y_train), (X_val, y_val)], verbose=0)\n",
    "    y_pred = model.predict(X_val)\n",
    "    return f1_score(y_val, y_pred, average='weighted')"
   ],
   "metadata": {
    "collapsed": false,
    "ExecuteTime": {
     "end_time": "2024-01-24T20:09:58.789669100Z",
     "start_time": "2024-01-24T20:09:58.769020100Z"
    }
   },
   "id": "3dd5360b38b01580",
   "execution_count": 3
  },
  {
   "cell_type": "code",
   "outputs": [],
   "source": [
    "def apply_binning(df, feature, bins, labels):\n",
    "    # Ensure bins are unique\n",
    "    unique_bins = sorted(set(bins))\n",
    "    if len(unique_bins) < len(bins):\n",
    "        print(f\"Non-unique bins for {feature}, adjusted bins: {unique_bins}\")\n",
    "        bins = unique_bins\n",
    "        if len(bins) - 1 != len(labels):\n",
    "            print(f\"Skipping binning for {feature} due to mismatch in bins and labels.\")\n",
    "            return df[feature]\n",
    "    return pd.cut(df[feature], bins=bins, labels=labels, include_lowest=True)"
   ],
   "metadata": {
    "collapsed": false,
    "ExecuteTime": {
     "end_time": "2024-01-24T20:09:58.802275100Z",
     "start_time": "2024-01-24T20:09:58.784525900Z"
    }
   },
   "id": "17bfcbdbe3ecb4a0",
   "execution_count": 4
  },
  {
   "cell_type": "code",
   "outputs": [],
   "source": [
    "df_binned = X.copy()\n",
    "\n",
    "for feature in ('avg_home_rating_attack', 'points_away', 'home_weighted_wins', 'away_weighted_wins', 'ewm_away_team_goals_conceded'):\n",
    "    bins = [-float('inf')] + df_binned[feature].quantile([0.1, 0.2, 0.3, 0.4, 0.5, 0.6, 0.7, 0.8, 0.9]).tolist() + [float('inf')]\n",
    "    labels = [f'Bin{i}' for i in range(1, len(bins))]\n",
    "    df_binned[f'{feature}_binned'] = apply_binning(df_binned, feature, bins, labels)\n",
    "    df_binned = df_binned.drop([feature], axis=1)"
   ],
   "metadata": {
    "collapsed": false,
    "ExecuteTime": {
     "end_time": "2024-01-24T20:09:58.819837200Z",
     "start_time": "2024-01-24T20:09:58.799182600Z"
    }
   },
   "id": "abc4a820675ac70",
   "execution_count": 5
  },
  {
   "cell_type": "code",
   "outputs": [
    {
     "data": {
      "text/plain": "      rating_range_home  rating_range_away\n0                    15                  6\n1                    13                 19\n2                    10                 12\n3                    10                 12\n4                    17                 14\n...                 ...                ...\n3035                 31                  6\n3036                 14                 13\n3037                  9                  4\n3038                  5                  8\n3039                 16                  6\n\n[3040 rows x 2 columns]",
      "text/html": "<div>\n<style scoped>\n    .dataframe tbody tr th:only-of-type {\n        vertical-align: middle;\n    }\n\n    .dataframe tbody tr th {\n        vertical-align: top;\n    }\n\n    .dataframe thead th {\n        text-align: right;\n    }\n</style>\n<table border=\"1\" class=\"dataframe\">\n  <thead>\n    <tr style=\"text-align: right;\">\n      <th></th>\n      <th>rating_range_home</th>\n      <th>rating_range_away</th>\n    </tr>\n  </thead>\n  <tbody>\n    <tr>\n      <th>0</th>\n      <td>15</td>\n      <td>6</td>\n    </tr>\n    <tr>\n      <th>1</th>\n      <td>13</td>\n      <td>19</td>\n    </tr>\n    <tr>\n      <th>2</th>\n      <td>10</td>\n      <td>12</td>\n    </tr>\n    <tr>\n      <th>3</th>\n      <td>10</td>\n      <td>12</td>\n    </tr>\n    <tr>\n      <th>4</th>\n      <td>17</td>\n      <td>14</td>\n    </tr>\n    <tr>\n      <th>...</th>\n      <td>...</td>\n      <td>...</td>\n    </tr>\n    <tr>\n      <th>3035</th>\n      <td>31</td>\n      <td>6</td>\n    </tr>\n    <tr>\n      <th>3036</th>\n      <td>14</td>\n      <td>13</td>\n    </tr>\n    <tr>\n      <th>3037</th>\n      <td>9</td>\n      <td>4</td>\n    </tr>\n    <tr>\n      <th>3038</th>\n      <td>5</td>\n      <td>8</td>\n    </tr>\n    <tr>\n      <th>3039</th>\n      <td>16</td>\n      <td>6</td>\n    </tr>\n  </tbody>\n</table>\n<p>3040 rows × 2 columns</p>\n</div>"
     },
     "execution_count": 6,
     "metadata": {},
     "output_type": "execute_result"
    }
   ],
   "source": [
    "# for col in X.filter(like='_binned').columns:\n",
    "#     X[col] = X[col].astype('category')\n",
    "# \n",
    "# df_binned[interaction_constraints[3]]"
   ],
   "metadata": {
    "collapsed": false,
    "ExecuteTime": {
     "end_time": "2024-01-24T20:09:58.833240200Z",
     "start_time": "2024-01-24T20:09:58.813633400Z"
    }
   },
   "id": "e4d37032ddec3da",
   "execution_count": 6
  },
  {
   "cell_type": "code",
   "outputs": [
    {
     "ename": "ValueError",
     "evalue": "Constrained features are not a subset of training data feature names",
     "output_type": "error",
     "traceback": [
      "\u001B[1;31m---------------------------------------------------------------------------\u001B[0m",
      "\u001B[1;31mKeyError\u001B[0m                                  Traceback (most recent call last)",
      "File \u001B[1;32m~\\anaconda3\\envs\\py10\\lib\\site-packages\\xgboost\\core.py:1725\u001B[0m, in \u001B[0;36mBooster._transform_interaction_constraints\u001B[1;34m(self, value)\u001B[0m\n\u001B[0;32m   1723\u001B[0m \u001B[38;5;28;01mfor\u001B[39;00m constraint \u001B[38;5;129;01min\u001B[39;00m value:\n\u001B[0;32m   1724\u001B[0m     result\u001B[38;5;241m.\u001B[39mappend(\n\u001B[1;32m-> 1725\u001B[0m         [feature_idx_mapping[feature_name] \u001B[38;5;28;01mfor\u001B[39;00m feature_name \u001B[38;5;129;01min\u001B[39;00m constraint]\n\u001B[0;32m   1726\u001B[0m     )\n\u001B[0;32m   1727\u001B[0m \u001B[38;5;28;01mreturn\u001B[39;00m result\n",
      "File \u001B[1;32m~\\anaconda3\\envs\\py10\\lib\\site-packages\\xgboost\\core.py:1725\u001B[0m, in \u001B[0;36m<listcomp>\u001B[1;34m(.0)\u001B[0m\n\u001B[0;32m   1723\u001B[0m \u001B[38;5;28;01mfor\u001B[39;00m constraint \u001B[38;5;129;01min\u001B[39;00m value:\n\u001B[0;32m   1724\u001B[0m     result\u001B[38;5;241m.\u001B[39mappend(\n\u001B[1;32m-> 1725\u001B[0m         [\u001B[43mfeature_idx_mapping\u001B[49m\u001B[43m[\u001B[49m\u001B[43mfeature_name\u001B[49m\u001B[43m]\u001B[49m \u001B[38;5;28;01mfor\u001B[39;00m feature_name \u001B[38;5;129;01min\u001B[39;00m constraint]\n\u001B[0;32m   1726\u001B[0m     )\n\u001B[0;32m   1727\u001B[0m \u001B[38;5;28;01mreturn\u001B[39;00m result\n",
      "\u001B[1;31mKeyError\u001B[0m: 'ewm_away_team_goals_conceded'",
      "\nThe above exception was the direct cause of the following exception:\n",
      "\u001B[1;31mValueError\u001B[0m                                Traceback (most recent call last)",
      "Cell \u001B[1;32mIn[8], line 1\u001B[0m\n\u001B[1;32m----> 1\u001B[0m \u001B[43mevaluate_model\u001B[49m\u001B[43m(\u001B[49m\u001B[43mdf_binned\u001B[49m\u001B[43m,\u001B[49m\u001B[43m \u001B[49m\u001B[43my\u001B[49m\u001B[43m,\u001B[49m\u001B[43m \u001B[49m\u001B[43minteraction_constraints\u001B[49m\u001B[43m)\u001B[49m\n",
      "Cell \u001B[1;32mIn[3], line 4\u001B[0m, in \u001B[0;36mevaluate_model\u001B[1;34m(features, target, interaction_constraints)\u001B[0m\n\u001B[0;32m      2\u001B[0m X_train, X_val, y_train, y_val \u001B[38;5;241m=\u001B[39m train_test_split(features, target, test_size\u001B[38;5;241m=\u001B[39m\u001B[38;5;241m0.2\u001B[39m, random_state\u001B[38;5;241m=\u001B[39m\u001B[38;5;241m42\u001B[39m, stratify\u001B[38;5;241m=\u001B[39mtarget)\n\u001B[0;32m      3\u001B[0m model \u001B[38;5;241m=\u001B[39m XGBClassifier(random_state\u001B[38;5;241m=\u001B[39m\u001B[38;5;241m42\u001B[39m, enable_categorical\u001B[38;5;241m=\u001B[39m\u001B[38;5;28;01mTrue\u001B[39;00m, interaction_constraints\u001B[38;5;241m=\u001B[39minteraction_constraints, early_stopping_raounds\u001B[38;5;241m=\u001B[39m\u001B[38;5;241m25\u001B[39m)\n\u001B[1;32m----> 4\u001B[0m \u001B[43mmodel\u001B[49m\u001B[38;5;241;43m.\u001B[39;49m\u001B[43mfit\u001B[49m\u001B[43m(\u001B[49m\u001B[43mX_train\u001B[49m\u001B[43m,\u001B[49m\u001B[43m \u001B[49m\u001B[43my_train\u001B[49m\u001B[43m,\u001B[49m\u001B[43m \u001B[49m\u001B[43meval_set\u001B[49m\u001B[38;5;241;43m=\u001B[39;49m\u001B[43m[\u001B[49m\u001B[43m(\u001B[49m\u001B[43mX_train\u001B[49m\u001B[43m,\u001B[49m\u001B[43m \u001B[49m\u001B[43my_train\u001B[49m\u001B[43m)\u001B[49m\u001B[43m,\u001B[49m\u001B[43m \u001B[49m\u001B[43m(\u001B[49m\u001B[43mX_val\u001B[49m\u001B[43m,\u001B[49m\u001B[43m \u001B[49m\u001B[43my_val\u001B[49m\u001B[43m)\u001B[49m\u001B[43m]\u001B[49m\u001B[43m,\u001B[49m\u001B[43m \u001B[49m\u001B[43mverbose\u001B[49m\u001B[38;5;241;43m=\u001B[39;49m\u001B[38;5;241;43m0\u001B[39;49m\u001B[43m)\u001B[49m\n\u001B[0;32m      5\u001B[0m y_pred \u001B[38;5;241m=\u001B[39m model\u001B[38;5;241m.\u001B[39mpredict(X_val)\n\u001B[0;32m      6\u001B[0m \u001B[38;5;28;01mreturn\u001B[39;00m f1_score(y_val, y_pred, average\u001B[38;5;241m=\u001B[39m\u001B[38;5;124m'\u001B[39m\u001B[38;5;124mweighted\u001B[39m\u001B[38;5;124m'\u001B[39m)\n",
      "File \u001B[1;32m~\\anaconda3\\envs\\py10\\lib\\site-packages\\xgboost\\core.py:729\u001B[0m, in \u001B[0;36mrequire_keyword_args.<locals>.throw_if.<locals>.inner_f\u001B[1;34m(*args, **kwargs)\u001B[0m\n\u001B[0;32m    727\u001B[0m \u001B[38;5;28;01mfor\u001B[39;00m k, arg \u001B[38;5;129;01min\u001B[39;00m \u001B[38;5;28mzip\u001B[39m(sig\u001B[38;5;241m.\u001B[39mparameters, args):\n\u001B[0;32m    728\u001B[0m     kwargs[k] \u001B[38;5;241m=\u001B[39m arg\n\u001B[1;32m--> 729\u001B[0m \u001B[38;5;28;01mreturn\u001B[39;00m func(\u001B[38;5;241m*\u001B[39m\u001B[38;5;241m*\u001B[39mkwargs)\n",
      "File \u001B[1;32m~\\anaconda3\\envs\\py10\\lib\\site-packages\\xgboost\\sklearn.py:1515\u001B[0m, in \u001B[0;36mXGBClassifier.fit\u001B[1;34m(self, X, y, sample_weight, base_margin, eval_set, eval_metric, early_stopping_rounds, verbose, xgb_model, sample_weight_eval_set, base_margin_eval_set, feature_weights, callbacks)\u001B[0m\n\u001B[0;32m   1487\u001B[0m (\n\u001B[0;32m   1488\u001B[0m     model,\n\u001B[0;32m   1489\u001B[0m     metric,\n\u001B[1;32m   (...)\u001B[0m\n\u001B[0;32m   1494\u001B[0m     xgb_model, eval_metric, params, early_stopping_rounds, callbacks\n\u001B[0;32m   1495\u001B[0m )\n\u001B[0;32m   1496\u001B[0m train_dmatrix, evals \u001B[38;5;241m=\u001B[39m _wrap_evaluation_matrices(\n\u001B[0;32m   1497\u001B[0m     missing\u001B[38;5;241m=\u001B[39m\u001B[38;5;28mself\u001B[39m\u001B[38;5;241m.\u001B[39mmissing,\n\u001B[0;32m   1498\u001B[0m     X\u001B[38;5;241m=\u001B[39mX,\n\u001B[1;32m   (...)\u001B[0m\n\u001B[0;32m   1512\u001B[0m     feature_types\u001B[38;5;241m=\u001B[39m\u001B[38;5;28mself\u001B[39m\u001B[38;5;241m.\u001B[39mfeature_types,\n\u001B[0;32m   1513\u001B[0m )\n\u001B[1;32m-> 1515\u001B[0m \u001B[38;5;28mself\u001B[39m\u001B[38;5;241m.\u001B[39m_Booster \u001B[38;5;241m=\u001B[39m \u001B[43mtrain\u001B[49m\u001B[43m(\u001B[49m\n\u001B[0;32m   1516\u001B[0m \u001B[43m    \u001B[49m\u001B[43mparams\u001B[49m\u001B[43m,\u001B[49m\n\u001B[0;32m   1517\u001B[0m \u001B[43m    \u001B[49m\u001B[43mtrain_dmatrix\u001B[49m\u001B[43m,\u001B[49m\n\u001B[0;32m   1518\u001B[0m \u001B[43m    \u001B[49m\u001B[38;5;28;43mself\u001B[39;49m\u001B[38;5;241;43m.\u001B[39;49m\u001B[43mget_num_boosting_rounds\u001B[49m\u001B[43m(\u001B[49m\u001B[43m)\u001B[49m\u001B[43m,\u001B[49m\n\u001B[0;32m   1519\u001B[0m \u001B[43m    \u001B[49m\u001B[43mevals\u001B[49m\u001B[38;5;241;43m=\u001B[39;49m\u001B[43mevals\u001B[49m\u001B[43m,\u001B[49m\n\u001B[0;32m   1520\u001B[0m \u001B[43m    \u001B[49m\u001B[43mearly_stopping_rounds\u001B[49m\u001B[38;5;241;43m=\u001B[39;49m\u001B[43mearly_stopping_rounds\u001B[49m\u001B[43m,\u001B[49m\n\u001B[0;32m   1521\u001B[0m \u001B[43m    \u001B[49m\u001B[43mevals_result\u001B[49m\u001B[38;5;241;43m=\u001B[39;49m\u001B[43mevals_result\u001B[49m\u001B[43m,\u001B[49m\n\u001B[0;32m   1522\u001B[0m \u001B[43m    \u001B[49m\u001B[43mobj\u001B[49m\u001B[38;5;241;43m=\u001B[39;49m\u001B[43mobj\u001B[49m\u001B[43m,\u001B[49m\n\u001B[0;32m   1523\u001B[0m \u001B[43m    \u001B[49m\u001B[43mcustom_metric\u001B[49m\u001B[38;5;241;43m=\u001B[39;49m\u001B[43mmetric\u001B[49m\u001B[43m,\u001B[49m\n\u001B[0;32m   1524\u001B[0m \u001B[43m    \u001B[49m\u001B[43mverbose_eval\u001B[49m\u001B[38;5;241;43m=\u001B[39;49m\u001B[43mverbose\u001B[49m\u001B[43m,\u001B[49m\n\u001B[0;32m   1525\u001B[0m \u001B[43m    \u001B[49m\u001B[43mxgb_model\u001B[49m\u001B[38;5;241;43m=\u001B[39;49m\u001B[43mmodel\u001B[49m\u001B[43m,\u001B[49m\n\u001B[0;32m   1526\u001B[0m \u001B[43m    \u001B[49m\u001B[43mcallbacks\u001B[49m\u001B[38;5;241;43m=\u001B[39;49m\u001B[43mcallbacks\u001B[49m\u001B[43m,\u001B[49m\n\u001B[0;32m   1527\u001B[0m \u001B[43m\u001B[49m\u001B[43m)\u001B[49m\n\u001B[0;32m   1529\u001B[0m \u001B[38;5;28;01mif\u001B[39;00m \u001B[38;5;129;01mnot\u001B[39;00m \u001B[38;5;28mcallable\u001B[39m(\u001B[38;5;28mself\u001B[39m\u001B[38;5;241m.\u001B[39mobjective):\n\u001B[0;32m   1530\u001B[0m     \u001B[38;5;28mself\u001B[39m\u001B[38;5;241m.\u001B[39mobjective \u001B[38;5;241m=\u001B[39m params[\u001B[38;5;124m\"\u001B[39m\u001B[38;5;124mobjective\u001B[39m\u001B[38;5;124m\"\u001B[39m]\n",
      "File \u001B[1;32m~\\anaconda3\\envs\\py10\\lib\\site-packages\\xgboost\\core.py:729\u001B[0m, in \u001B[0;36mrequire_keyword_args.<locals>.throw_if.<locals>.inner_f\u001B[1;34m(*args, **kwargs)\u001B[0m\n\u001B[0;32m    727\u001B[0m \u001B[38;5;28;01mfor\u001B[39;00m k, arg \u001B[38;5;129;01min\u001B[39;00m \u001B[38;5;28mzip\u001B[39m(sig\u001B[38;5;241m.\u001B[39mparameters, args):\n\u001B[0;32m    728\u001B[0m     kwargs[k] \u001B[38;5;241m=\u001B[39m arg\n\u001B[1;32m--> 729\u001B[0m \u001B[38;5;28;01mreturn\u001B[39;00m func(\u001B[38;5;241m*\u001B[39m\u001B[38;5;241m*\u001B[39mkwargs)\n",
      "File \u001B[1;32m~\\anaconda3\\envs\\py10\\lib\\site-packages\\xgboost\\training.py:159\u001B[0m, in \u001B[0;36mtrain\u001B[1;34m(params, dtrain, num_boost_round, evals, obj, feval, maximize, early_stopping_rounds, evals_result, verbose_eval, xgb_model, callbacks, custom_metric)\u001B[0m\n\u001B[0;32m    156\u001B[0m metric_fn \u001B[38;5;241m=\u001B[39m _configure_custom_metric(feval, custom_metric)\n\u001B[0;32m    157\u001B[0m evals \u001B[38;5;241m=\u001B[39m \u001B[38;5;28mlist\u001B[39m(evals) \u001B[38;5;28;01mif\u001B[39;00m evals \u001B[38;5;28;01melse\u001B[39;00m []\n\u001B[1;32m--> 159\u001B[0m bst \u001B[38;5;241m=\u001B[39m \u001B[43mBooster\u001B[49m\u001B[43m(\u001B[49m\u001B[43mparams\u001B[49m\u001B[43m,\u001B[49m\u001B[43m \u001B[49m\u001B[43m[\u001B[49m\u001B[43mdtrain\u001B[49m\u001B[43m]\u001B[49m\u001B[43m \u001B[49m\u001B[38;5;241;43m+\u001B[39;49m\u001B[43m \u001B[49m\u001B[43m[\u001B[49m\u001B[43md\u001B[49m\u001B[43m[\u001B[49m\u001B[38;5;241;43m0\u001B[39;49m\u001B[43m]\u001B[49m\u001B[43m \u001B[49m\u001B[38;5;28;43;01mfor\u001B[39;49;00m\u001B[43m \u001B[49m\u001B[43md\u001B[49m\u001B[43m \u001B[49m\u001B[38;5;129;43;01min\u001B[39;49;00m\u001B[43m \u001B[49m\u001B[43mevals\u001B[49m\u001B[43m]\u001B[49m\u001B[43m,\u001B[49m\u001B[43m \u001B[49m\u001B[43mmodel_file\u001B[49m\u001B[38;5;241;43m=\u001B[39;49m\u001B[43mxgb_model\u001B[49m\u001B[43m)\u001B[49m\n\u001B[0;32m    160\u001B[0m start_iteration \u001B[38;5;241m=\u001B[39m \u001B[38;5;241m0\u001B[39m\n\u001B[0;32m    162\u001B[0m \u001B[38;5;28;01mif\u001B[39;00m verbose_eval:\n",
      "File \u001B[1;32m~\\anaconda3\\envs\\py10\\lib\\site-packages\\xgboost\\core.py:1687\u001B[0m, in \u001B[0;36mBooster.__init__\u001B[1;34m(self, params, cache, model_file)\u001B[0m\n\u001B[0;32m   1685\u001B[0m params \u001B[38;5;241m=\u001B[39m params \u001B[38;5;129;01mor\u001B[39;00m {}\n\u001B[0;32m   1686\u001B[0m params_processed \u001B[38;5;241m=\u001B[39m _configure_metrics(params\u001B[38;5;241m.\u001B[39mcopy())\n\u001B[1;32m-> 1687\u001B[0m params_processed \u001B[38;5;241m=\u001B[39m \u001B[38;5;28;43mself\u001B[39;49m\u001B[38;5;241;43m.\u001B[39;49m\u001B[43m_configure_constraints\u001B[49m\u001B[43m(\u001B[49m\u001B[43mparams_processed\u001B[49m\u001B[43m)\u001B[49m\n\u001B[0;32m   1688\u001B[0m \u001B[38;5;28;01mif\u001B[39;00m \u001B[38;5;28misinstance\u001B[39m(params_processed, \u001B[38;5;28mlist\u001B[39m):\n\u001B[0;32m   1689\u001B[0m     params_processed\u001B[38;5;241m.\u001B[39mappend((\u001B[38;5;124m\"\u001B[39m\u001B[38;5;124mvalidate_parameters\u001B[39m\u001B[38;5;124m\"\u001B[39m, \u001B[38;5;28;01mTrue\u001B[39;00m))\n",
      "File \u001B[1;32m~\\anaconda3\\envs\\py10\\lib\\site-packages\\xgboost\\core.py:1746\u001B[0m, in \u001B[0;36mBooster._configure_constraints\u001B[1;34m(self, params)\u001B[0m\n\u001B[0;32m   1744\u001B[0m         params[idx] \u001B[38;5;241m=\u001B[39m (name, \u001B[38;5;28mself\u001B[39m\u001B[38;5;241m.\u001B[39m_transform_monotone_constrains(value))\n\u001B[0;32m   1745\u001B[0m     \u001B[38;5;28;01melif\u001B[39;00m name \u001B[38;5;241m==\u001B[39m \u001B[38;5;124m\"\u001B[39m\u001B[38;5;124minteraction_constraints\u001B[39m\u001B[38;5;124m\"\u001B[39m:\n\u001B[1;32m-> 1746\u001B[0m         params[idx] \u001B[38;5;241m=\u001B[39m (name, \u001B[38;5;28;43mself\u001B[39;49m\u001B[38;5;241;43m.\u001B[39;49m\u001B[43m_transform_interaction_constraints\u001B[49m\u001B[43m(\u001B[49m\u001B[43mvalue\u001B[49m\u001B[43m)\u001B[49m)\n\u001B[0;32m   1748\u001B[0m \u001B[38;5;28;01mreturn\u001B[39;00m params\n",
      "File \u001B[1;32m~\\anaconda3\\envs\\py10\\lib\\site-packages\\xgboost\\core.py:1729\u001B[0m, in \u001B[0;36mBooster._transform_interaction_constraints\u001B[1;34m(self, value)\u001B[0m\n\u001B[0;32m   1727\u001B[0m     \u001B[38;5;28;01mreturn\u001B[39;00m result\n\u001B[0;32m   1728\u001B[0m \u001B[38;5;28;01mexcept\u001B[39;00m \u001B[38;5;167;01mKeyError\u001B[39;00m \u001B[38;5;28;01mas\u001B[39;00m e:\n\u001B[1;32m-> 1729\u001B[0m     \u001B[38;5;28;01mraise\u001B[39;00m \u001B[38;5;167;01mValueError\u001B[39;00m(\n\u001B[0;32m   1730\u001B[0m         \u001B[38;5;124m\"\u001B[39m\u001B[38;5;124mConstrained features are not a subset of training data feature names\u001B[39m\u001B[38;5;124m\"\u001B[39m\n\u001B[0;32m   1731\u001B[0m     ) \u001B[38;5;28;01mfrom\u001B[39;00m \u001B[38;5;21;01me\u001B[39;00m\n",
      "\u001B[1;31mValueError\u001B[0m: Constrained features are not a subset of training data feature names"
     ]
    }
   ],
   "source": [
    "evaluate_model(df_binned, y, interaction_constraints)"
   ],
   "metadata": {
    "collapsed": false,
    "ExecuteTime": {
     "end_time": "2024-01-24T20:10:11.161728100Z",
     "start_time": "2024-01-24T20:10:10.990566900Z"
    }
   },
   "id": "4cc85e18831a5754",
   "execution_count": 8
  },
  {
   "cell_type": "code",
   "outputs": [],
   "source": [
    "X.info()"
   ],
   "metadata": {
    "collapsed": false,
    "ExecuteTime": {
     "start_time": "2024-01-24T20:09:59.736849800Z"
    }
   },
   "id": "cef2bf89520d740e",
   "execution_count": null
  },
  {
   "cell_type": "code",
   "outputs": [],
   "source": [
    "interaction_constraints"
   ],
   "metadata": {
    "collapsed": false,
    "ExecuteTime": {
     "start_time": "2024-01-24T20:09:59.738900Z"
    }
   },
   "id": "d4e6399586feb4f4",
   "execution_count": null
  }
 ],
 "metadata": {
  "kernelspec": {
   "display_name": "Python 3",
   "language": "python",
   "name": "python3"
  },
  "language_info": {
   "codemirror_mode": {
    "name": "ipython",
    "version": 2
   },
   "file_extension": ".py",
   "mimetype": "text/x-python",
   "name": "python",
   "nbconvert_exporter": "python",
   "pygments_lexer": "ipython2",
   "version": "2.7.6"
  }
 },
 "nbformat": 4,
 "nbformat_minor": 5
}
