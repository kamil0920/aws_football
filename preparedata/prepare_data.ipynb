{
 "cells": [
  {
   "cell_type": "code",
   "execution_count": 1,
   "metadata": {
    "collapsed": false,
    "pycharm": {
     "name": "#%%\n"
    },
    "ExecuteTime": {
     "end_time": "2024-02-05T16:32:53.692876200Z",
     "start_time": "2024-02-05T16:32:53.678297400Z"
    }
   },
   "outputs": [],
   "source": [
    "import pandas as pd\n",
    "import numpy as np\n",
    "from time import time\n",
    "\n",
    "from loaddata.DataLoader import execute_data_loader\n",
    "from loaddata.XmlProcessor import XmlProcessor\n",
    "\n",
    "import  numpy as np"
   ]
  },
  {
   "cell_type": "code",
   "outputs": [],
   "source": [
    "# execute_data_loader()"
   ],
   "metadata": {
    "collapsed": false,
    "ExecuteTime": {
     "end_time": "2024-02-05T16:32:53.709450300Z",
     "start_time": "2024-02-05T16:32:53.692876200Z"
    }
   },
   "execution_count": 2
  },
  {
   "cell_type": "code",
   "outputs": [],
   "source": [
    "def evaluate_model(X, y):\n",
    "    X_train, X_val, y_train, y_val = train_test_split(X, y, test_size=0.2, random_state=42, stratify=y)\n",
    "\n",
    "    model = XGBClassifier(random_state=42, enable_categorical=True)\n",
    "    model.fit(X_train, y_train, eval_set=[(X_train, y_train), (X_val, y_val)], verbose=0, early_stopping_rounds=100)\n",
    "    \n",
    "    y_pred = model.predict(X_val)\n",
    "    f1 = f1_score(y_val, y_pred, average='weighted')\n",
    "            \n",
    "    return f1"
   ],
   "metadata": {
    "collapsed": false,
    "ExecuteTime": {
     "end_time": "2024-02-05T16:32:53.736412300Z",
     "start_time": "2024-02-05T16:32:53.710483100Z"
    }
   },
   "execution_count": 3
  },
  {
   "cell_type": "code",
   "execution_count": 4,
   "metadata": {
    "collapsed": false,
    "pycharm": {
     "name": "#%%\n"
    },
    "ExecuteTime": {
     "end_time": "2024-02-05T16:33:05.609181700Z",
     "start_time": "2024-02-05T16:32:53.725005800Z"
    }
   },
   "outputs": [],
   "source": [
    "matches_data = pd.read_csv('../data/raw/match_details.csv')\n",
    "players_data = pd.read_csv('../data/raw/player_attributes.csv')\n",
    "\n",
    "df_transformed = XmlProcessor(matches_data).process_data()"
   ]
  },
  {
   "cell_type": "code",
   "execution_count": 5,
   "metadata": {
    "collapsed": false,
    "pycharm": {
     "name": "#%%\n"
    },
    "ExecuteTime": {
     "end_time": "2024-02-05T16:33:05.641492800Z",
     "start_time": "2024-02-05T16:33:05.610211200Z"
    }
   },
   "outputs": [],
   "source": [
    "df_transformed['date'] = pd.to_datetime(df_transformed['date'])\n",
    "players_data['date'] = pd.to_datetime(players_data['date'])\n",
    "df_transformed.sort_values(by='date', inplace=True)"
   ]
  },
  {
   "cell_type": "code",
   "execution_count": 6,
   "metadata": {
    "collapsed": false,
    "pycharm": {
     "name": "#%%\n"
    },
    "ExecuteTime": {
     "end_time": "2024-02-05T16:33:05.656170Z",
     "start_time": "2024-02-05T16:33:05.641492800Z"
    }
   },
   "outputs": [],
   "source": [
    "df_transformed[['season', 'result_match']] = df_transformed[['season', 'result_match']].astype('category')"
   ]
  },
  {
   "cell_type": "code",
   "execution_count": 7,
   "metadata": {
    "collapsed": false,
    "pycharm": {
     "name": "#%%\n"
    },
    "ExecuteTime": {
     "end_time": "2024-02-05T16:33:05.694735800Z",
     "start_time": "2024-02-05T16:33:05.656170Z"
    }
   },
   "outputs": [
    {
     "name": "stdout",
     "output_type": "stream",
     "text": [
      "['home_player_9', 'home_player_10', 'home_player_11', 'away_player_10', 'away_player_11']\n"
     ]
    }
   ],
   "source": [
    "# Check on which positions given player played\n",
    "columns_with_value = matches_data.columns[matches_data.eq(30843).any()].tolist()\n",
    "print(columns_with_value)"
   ]
  },
  {
   "cell_type": "code",
   "execution_count": 8,
   "metadata": {
    "ExecuteTime": {
     "end_time": "2024-02-05T16:34:02.524676100Z",
     "start_time": "2024-02-05T16:33:05.671718300Z"
    }
   },
   "outputs": [
    {
     "name": "stdout",
     "output_type": "stream",
     "text": [
      "Calculate player stats in 0.947 minutes\n"
     ]
    }
   ],
   "source": [
    "start = time()\n",
    "\n",
    "players = ['{}_player_{}'.format(team, i) for team in ['home', 'away'] for i in range(1, 12)]\n",
    "\n",
    "def get_player_overall_rating(player_id, match_date):\n",
    "    player_ratings_on_or_before_match = players_data[\n",
    "        (players_data['player_api_id'] == player_id) & (players_data['date'] <= match_date)\n",
    "    ]\n",
    "    latest_rating = player_ratings_on_or_before_match.sort_values(by='date', ascending=False).iloc[0]['overall_rating']\n",
    "    return latest_rating\n",
    "\n",
    "def get_player_id_for_team(row, player, team_type):\n",
    "    player_id = row[player]\n",
    "\n",
    "    if not np.isnan(player_id):\n",
    "        return player_id\n",
    "\n",
    "    player_id = df_transformed.loc[df_transformed[f'{team_type}_team'].eq(row[f'{team_type}_team'])][player].value_counts().idxmax()\n",
    "    df_transformed.loc[df_transformed.match_api_id == row.match_api_id, player] = int(player_id)\n",
    "    \n",
    "    return player_id\n",
    "\n",
    "def calculate_player_stat(match_row):\n",
    "    player_stats_dict = {}\n",
    "    match_date = match_row['date']\n",
    "\n",
    "    for player in players:\n",
    "        team_type = 'home' if 'home' in player else 'away'\n",
    "        player_id = get_player_id_for_team(match_row, player, team_type)\n",
    "\n",
    "        overall_ranking = get_player_overall_rating(player_id, match_date)\n",
    "        name = 'player_rating_{}'.format(player)\n",
    "\n",
    "        player_stats_dict[name] = int(overall_ranking)\n",
    "        player_stats_dict['match_api_id'] = match_row.match_api_id\n",
    "\n",
    "    return player_stats_dict\n",
    "\n",
    "player_stats_dict = df_transformed.apply(lambda row: calculate_player_stat(row), axis=1)\n",
    "new_player_stats = pd.json_normalize(player_stats_dict)\n",
    "df_transformed = pd.merge(df_transformed, new_player_stats, how='left', on='match_api_id')\n",
    "df_transformed = df_transformed.drop(players, axis=1)\n",
    "\n",
    "end = time()\n",
    "print(\"Calculate player stats in {:.3f} minutes\".format((end - start) / 60))"
   ]
  },
  {
   "cell_type": "code",
   "execution_count": 9,
   "metadata": {
    "collapsed": false,
    "pycharm": {
     "name": "#%%\n"
    },
    "ExecuteTime": {
     "end_time": "2024-02-05T16:34:02.538679700Z",
     "start_time": "2024-02-05T16:34:02.522676500Z"
    }
   },
   "outputs": [
    {
     "name": "stdout",
     "output_type": "stream",
     "text": [
      "test passed\n"
     ]
    }
   ],
   "source": [
    "# Test: Test that the overall ratings fetched are indeed the latest\n",
    "player_id = 30843\n",
    "player_col = 'home_player_11'\n",
    "rating_col = 'player_rating_' + player_col\n",
    "\n",
    "# Fetch rating from transformed df\n",
    "match = matches_data.loc[matches_data[player_col].eq(player_id)].sort_values(by='date',ascending=False).iloc[0]\n",
    "match_id = match['match_api_id']\n",
    "transformed_rating = df_transformed[df_transformed['match_api_id'] == match_id].iloc[0][rating_col]\n",
    "\n",
    "# Fetch player rating from players data by id and latest date\n",
    "raw_rating = players_data[\n",
    "    (players_data['player_api_id'] == player_id) & (players_data['date'] <= match['date'])\n",
    "].sort_values(by='date', ascending=False).iloc[0]['overall_rating']\n",
    "\n",
    "assert transformed_rating == raw_rating, f\"Incorrect rating for {player_col}\"\n",
    "print(\"test passed\")"
   ]
  },
  {
   "cell_type": "code",
   "execution_count": 10,
   "metadata": {
    "collapsed": false,
    "pycharm": {
     "name": "#%%\n"
    },
    "ExecuteTime": {
     "end_time": "2024-02-05T16:34:02.572677700Z",
     "start_time": "2024-02-05T16:34:02.540679800Z"
    }
   },
   "outputs": [],
   "source": [
    "alpha = 0.3\n",
    "\n",
    "def calculate_team_ema(df, alpha):\n",
    "    # Create a long format DataFrame where each row is a team's performance in a match\n",
    "    home_df = df[['date', 'home_team', 'home_team_goal']].rename(columns={'home_team': 'team', 'home_team_goal': 'goals'})\n",
    "    away_df = df[['date', 'away_team', 'away_team_goal']].rename(columns={'away_team': 'team', 'away_team_goal': 'goals'})\n",
    "    long_df = pd.concat([home_df, away_df])\n",
    "\n",
    "    # Sort by team and date to ensure correct order for EMA calculation\n",
    "    long_df.sort_values(by=['team', 'date'], inplace=True)\n",
    "\n",
    "    # Calculate EMA with shift to exclude the current match\n",
    "    long_df['ema_goals'] = (\n",
    "        long_df.groupby('team')['goals']\n",
    "        .apply(lambda x: x.shift(1).ewm(adjust=True, alpha=alpha).mean())\n",
    "        .reset_index(level=0, drop=True)\n",
    "        .round(2)\n",
    "    )\n",
    "\n",
    "    # Pivot the long format back to wide format with separate columns for home and away teams\n",
    "    ema_home = long_df.rename(columns={'team': 'home_team', 'ema_goals': 'ewm_home_team_goals'}).drop(columns=['goals'])\n",
    "    ema_away = long_df.rename(columns={'team': 'away_team', 'ema_goals': 'ewm_away_team_goals'}).drop(columns=['goals'])\n",
    "\n",
    "    # Merge the EMA data back to the original DataFrame\n",
    "    merged_df = df.merge(ema_home, on=['date', 'home_team'], how='left').merge(ema_away, on=['date', 'away_team'], how='left')\n",
    "\n",
    "    return merged_df\n",
    "\n",
    "df_transformed = calculate_team_ema(df_transformed.copy(), alpha=alpha)"
   ]
  },
  {
   "cell_type": "code",
   "execution_count": 11,
   "metadata": {
    "collapsed": false,
    "pycharm": {
     "name": "#%%\n"
    },
    "ExecuteTime": {
     "end_time": "2024-02-05T16:34:02.582676200Z",
     "start_time": "2024-02-05T16:34:02.566680200Z"
    }
   },
   "outputs": [],
   "source": [
    "# def test_count_average_goals_from_last_n_matches():\n",
    "#     data = {\n",
    "#         'date': ['2023-01-01', '2023-01-02', '2023-01-03', '2023-01-04', '2023-01-05', '2023-01-06'],\n",
    "#         'home_team': ['TeamA', 'TeamB', 'TeamA', 'TeamB', 'TeamA', 'TeamB'],\n",
    "#         'away_team': ['TeamB', 'TeamA', 'TeamB', 'TeamA', 'TeamB', 'TeamA'],\n",
    "#         'home_team_goal': [2, 1, 3, 1, 3, 2],\n",
    "#         'away_team_goal': [1, 2, 0, 1, 1, 1]\n",
    "#     }\n",
    "#     \n",
    "#     df_mock = pd.DataFrame(data)\n",
    "# \n",
    "#     # Calculating EMA for home and away teams\n",
    "#     df_ = calculate_team_ema(df_mock, 0.01)\n",
    "# \n",
    "#     assert df_.iloc[-1]['ewm_home_team_goals'] == 0.8, f\"Expected 0.8 but got {df_.iloc[-1]['ewm_home_team_goals']}\"\n",
    "#     assert df_.iloc[-1]['ewm_away_team_goals'] == 2.2, f\"Expected 2.2 but got {df_.iloc[-1]['ewm_away_team_goals']}\"\n",
    "#     print(\"Test passed!\")\n",
    "# \n",
    "# test_count_average_goals_from_last_n_matches()"
   ]
  },
  {
   "cell_type": "code",
   "execution_count": 12,
   "metadata": {
    "collapsed": false,
    "pycharm": {
     "name": "#%%\n"
    },
    "ExecuteTime": {
     "end_time": "2024-02-05T16:34:02.629679500Z",
     "start_time": "2024-02-05T16:34:02.585675900Z"
    }
   },
   "outputs": [],
   "source": [
    "alpha = 0.3\n",
    "\n",
    "def calculate_team_ema(df, alpha):\n",
    "    # Create a long format DataFrame where each row is a team's performance in a match\n",
    "    home_df = df[['date', 'home_team', 'away_team_goal']].rename(columns={'home_team': 'team', 'away_team_goal': 'goals'})\n",
    "    away_df = df[['date', 'away_team', 'home_team_goal']].rename(columns={'away_team': 'team', 'home_team_goal': 'goals'})\n",
    "    long_df = pd.concat([home_df, away_df])\n",
    "\n",
    "    # Sort by team and date to ensure correct order for EMA calculation\n",
    "    long_df.sort_values(by=['team', 'date'], inplace=True)\n",
    "\n",
    "    # Calculate EMA with shift to exclude the current match\n",
    "    long_df['ema_goals'] = (\n",
    "        long_df.groupby('team')['goals']\n",
    "        .apply(lambda x: x.shift(1).ewm(adjust=True, alpha=alpha).mean())\n",
    "        .reset_index(level=0, drop=True)\n",
    "        .round(2)\n",
    "    )\n",
    "\n",
    "    # Pivot the long format back to wide format with separate columns for home and away teams\n",
    "    ema_home = long_df.rename(columns={'team': 'home_team', 'ema_goals': 'ewm_home_team_goals_conceded'}).drop(columns=['goals'])\n",
    "    ema_away = long_df.rename(columns={'team': 'away_team', 'ema_goals': 'ewm_away_team_goals_conceded'}).drop(columns=['goals'])\n",
    "\n",
    "    # Merge the EMA data back to the original DataFrame\n",
    "    merged_df = df.merge(ema_home, on=['date', 'home_team'], how='left').merge(ema_away, on=['date', 'away_team'], how='left')\n",
    "\n",
    "    return merged_df\n",
    "\n",
    "df_transformed = calculate_team_ema(df_transformed.copy(), alpha=alpha)"
   ]
  },
  {
   "cell_type": "code",
   "execution_count": 13,
   "metadata": {
    "collapsed": false,
    "pycharm": {
     "name": "#%%\n"
    },
    "ExecuteTime": {
     "end_time": "2024-02-05T16:34:02.630679300Z",
     "start_time": "2024-02-05T16:34:02.615680700Z"
    }
   },
   "outputs": [
    {
     "name": "stdout",
     "output_type": "stream",
     "text": [
      "Test passed!\n"
     ]
    }
   ],
   "source": [
    "def test_count_average_goals_conceded_from_last_n_matches():\n",
    "    data = {\n",
    "        'date': ['2023-01-01', '2023-01-02', '2023-01-03', '2023-01-04', '2023-01-05', '2023-01-06'],\n",
    "        'home_team': ['TeamA', 'TeamB', 'TeamA', 'TeamB', 'TeamA', 'TeamB'],\n",
    "        'away_team': ['TeamB', 'TeamA', 'TeamB', 'TeamA', 'TeamB', 'TeamA'],\n",
    "        'home_team_goal': [2, 1, 3, 1, 0, 2],\n",
    "        'away_team_goal': [1, 2, 0, 1, 1, 1]\n",
    "    }\n",
    "    \n",
    "    df_mock = pd.DataFrame(data)\n",
    "\n",
    "   # Calculating EMA for home and away teams\n",
    "    df_ = calculate_team_ema(df_mock, 0.01)\n",
    "    \n",
    "    assert df_.iloc[-1]['ewm_away_team_goals_conceded'] == 0.8, f\"Expected 0.8 but got {df_transformed.iloc[-1]['ewm_away_team_goals_conceded']}\"\n",
    "    assert df_.iloc[-1]['ewm_home_team_goals_conceded'] == 1.59, f\"Expected 1.59 but got {df_transformed.iloc[-1]['ewm_home_team_goals_conceded']}\"\n",
    "    print(\"Test passed!\")\n",
    "\n",
    "test_count_average_goals_conceded_from_last_n_matches()"
   ]
  },
  {
   "cell_type": "code",
   "execution_count": 14,
   "metadata": {
    "ExecuteTime": {
     "end_time": "2024-02-05T16:34:17.439565500Z",
     "start_time": "2024-02-05T16:34:02.628677700Z"
    }
   },
   "outputs": [
    {
     "name": "stdout",
     "output_type": "stream",
     "text": [
      "Count points in 0.247 minutes\n"
     ]
    }
   ],
   "source": [
    "start = time()\n",
    "\n",
    "def get_points(row, team):\n",
    "    points_mapping = {\n",
    "        'H': {'home': 3, 'away': 0},\n",
    "        'D': {'home': 1, 'away': 1},\n",
    "        'A': {'home': 0, 'away': 3}\n",
    "    }\n",
    "    team_type = 'home' if row['home_team'] == team else 'away'    \n",
    "    return int(points_mapping[row['result_match']][team_type])\n",
    "\n",
    "def process_points(team, df, match_date, match_season):\n",
    "    team_matches = df.query('(home_team == @team | away_team == @team) & date < @match_date & season == @match_season')\n",
    "    if len(team_matches) == 0:\n",
    "        return 0\n",
    "\n",
    "    return team_matches.apply(lambda row: get_points(row, team), axis=1).sum()\n",
    "\n",
    "def count_points(match_row, df):\n",
    "    match_date = match_row['date']\n",
    "    match_season = match_row['season']\n",
    "    home_team = match_row['home_team']\n",
    "    away_team = match_row['away_team']\n",
    "\n",
    "    home_team_points = process_points(home_team, df, match_date, match_season)\n",
    "    away_team_points = process_points(away_team, df, match_date, match_season)\n",
    "\n",
    "    return home_team_points, away_team_points\n",
    "\n",
    "df_transformed[['points_home', 'points_away']] = df_transformed.apply(lambda row: count_points(row, df_transformed), axis=1, result_type='expand')\n",
    "\n",
    "end = time()\n",
    "print(\"Count points in {:.3f} minutes\".format((end - start) / 60))"
   ]
  },
  {
   "cell_type": "code",
   "execution_count": 15,
   "metadata": {
    "collapsed": false,
    "pycharm": {
     "name": "#%%\n"
    },
    "ExecuteTime": {
     "end_time": "2024-02-05T16:34:20.964151100Z",
     "start_time": "2024-02-05T16:34:17.438563300Z"
    }
   },
   "outputs": [
    {
     "name": "stdout",
     "output_type": "stream",
     "text": [
      "Calculate team weighted wins in 0.059 minutes\n"
     ]
    }
   ],
   "source": [
    "def calculate_weighted_wins(df, team, match_date, is_home_team, n=10, decay_factor=0.9):\n",
    "    \"\"\"\n",
    "    Calculate the weighted number of wins of a team before a given match_date.\n",
    "    \n",
    "    Parameters:\n",
    "    - df: DataFrame containing match data\n",
    "    - team: The team for which to calculate weighted wins\n",
    "    - match_date: The date of the match for which to calculate\n",
    "    - is_home_team: True if the team is the home team, False for away team\n",
    "    - n: Number of past matches to consider\n",
    "    - decay_factor: The factor to decay the weight of older wins (default is 0.9)\n",
    "    \n",
    "    Returns:\n",
    "    - weighted_wins: The calculated weighted number of wins\n",
    "    \"\"\"\n",
    "    point_difference = 0\n",
    "    if is_home_team:\n",
    "        # Filter for home matches only\n",
    "        team_matches = df[(df['home_team'] == team) & (df['date'] < match_date)].head(n)\n",
    "        wins = (team_matches['home_team_goal'] > team_matches['away_team_goal'])\n",
    "        # point_difference = team_matches['points_away'] - team_matches['points_home']\n",
    "    else:\n",
    "        # Filter for away matches only\n",
    "        team_matches = df[(df['away_team'] == team) & (df['date'] < match_date)].head(n)\n",
    "        wins = (team_matches['home_team_goal'] < team_matches['away_team_goal'])\n",
    "        # point_difference = team_matches['points_home'] - - team_matches['points_away']\n",
    "\n",
    "    # Weight wins by the difference in points\n",
    "    weighted_wins = sum(wins * (decay_factor ** np.arange(len(wins))))\n",
    "\n",
    "    return weighted_wins\n",
    "\n",
    "def get_team_weighted_wins(row, df, n, decay_factor=0.9):\n",
    "    \"\"\"\n",
    "    Get the weighted number of wins for both the home and away teams for a given match row,\n",
    "    considering only previous home or away matches respectively.\n",
    "    \n",
    "    Parameters:\n",
    "    - row: A row of match data\n",
    "    - df: DataFrame containing match data\n",
    "    - n: Number of past matches to consider\n",
    "    - decay_factor: The factor to decay the weight of older wins (default is 0.9)\n",
    "    \n",
    "    Returns:\n",
    "    - home_wins: The calculated weighted number of wins for the home team\n",
    "    - away_wins: The calculated weighted number of wins for the away team\n",
    "    \"\"\"\n",
    "    home_team = row['home_team']\n",
    "    away_team = row['away_team']\n",
    "    match_date = row['date']\n",
    "\n",
    "    home_wins = calculate_weighted_wins(df, home_team, match_date, is_home_team=True, n=n, decay_factor=decay_factor)\n",
    "    away_wins = calculate_weighted_wins(df, away_team, match_date, is_home_team=False, n=n, decay_factor=decay_factor)\n",
    "\n",
    "    return home_wins, away_wins\n",
    "\n",
    "start = time()\n",
    "\n",
    "N = 25\n",
    "decay_factor = 0.85\n",
    "\n",
    "df_transformed[['home_weighted_wins', 'away_weighted_wins']] = df_transformed.apply(\n",
    "    lambda row: get_team_weighted_wins(row, df_transformed, N, decay_factor), axis=1, result_type='expand'\n",
    ")\n",
    "\n",
    "end = time()\n",
    "\n",
    "print(\"Calculate team weighted wins in {:.3f} minutes\".format((end - start) / 60))"
   ]
  },
  {
   "cell_type": "code",
   "execution_count": 16,
   "metadata": {
    "ExecuteTime": {
     "end_time": "2024-02-05T16:34:20.982026Z",
     "start_time": "2024-02-05T16:34:20.962062600Z"
    }
   },
   "outputs": [
    {
     "data": {
      "text/plain": "       home_weighted_wins  away_weighted_wins\ncount             3040.00             3040.00\nmean                 2.70                1.91\nstd                  1.20                1.48\nmin                  0.00                0.00\n25%                  2.02                0.76\n50%                  2.40                1.56\n75%                  3.58                3.08\nmax                  5.35                5.53",
      "text/html": "<div>\n<style scoped>\n    .dataframe tbody tr th:only-of-type {\n        vertical-align: middle;\n    }\n\n    .dataframe tbody tr th {\n        vertical-align: top;\n    }\n\n    .dataframe thead th {\n        text-align: right;\n    }\n</style>\n<table border=\"1\" class=\"dataframe\">\n  <thead>\n    <tr style=\"text-align: right;\">\n      <th></th>\n      <th>home_weighted_wins</th>\n      <th>away_weighted_wins</th>\n    </tr>\n  </thead>\n  <tbody>\n    <tr>\n      <th>count</th>\n      <td>3040.00</td>\n      <td>3040.00</td>\n    </tr>\n    <tr>\n      <th>mean</th>\n      <td>2.70</td>\n      <td>1.91</td>\n    </tr>\n    <tr>\n      <th>std</th>\n      <td>1.20</td>\n      <td>1.48</td>\n    </tr>\n    <tr>\n      <th>min</th>\n      <td>0.00</td>\n      <td>0.00</td>\n    </tr>\n    <tr>\n      <th>25%</th>\n      <td>2.02</td>\n      <td>0.76</td>\n    </tr>\n    <tr>\n      <th>50%</th>\n      <td>2.40</td>\n      <td>1.56</td>\n    </tr>\n    <tr>\n      <th>75%</th>\n      <td>3.58</td>\n      <td>3.08</td>\n    </tr>\n    <tr>\n      <th>max</th>\n      <td>5.35</td>\n      <td>5.53</td>\n    </tr>\n  </tbody>\n</table>\n</div>"
     },
     "execution_count": 16,
     "metadata": {},
     "output_type": "execute_result"
    }
   ],
   "source": [
    "df_transformed[['home_weighted_wins', 'away_weighted_wins']].describe().round(2)"
   ]
  },
  {
   "cell_type": "code",
   "execution_count": 17,
   "metadata": {
    "collapsed": false,
    "pycharm": {
     "name": "#%%\n"
    },
    "ExecuteTime": {
     "end_time": "2024-02-05T16:34:21.852076200Z",
     "start_time": "2024-02-05T16:34:20.977806200Z"
    }
   },
   "outputs": [
    {
     "name": "stdout",
     "output_type": "stream",
     "text": [
      "Calculate player stats in 0.014 minutes\n"
     ]
    }
   ],
   "source": [
    "start = time()\n",
    "\n",
    "def get_overall_player_strength(match_row):\n",
    "    stats_home_players = match_row.filter(regex='player_rating_home_player')\n",
    "    stats_away_players = match_row.filter(regex='player_rating_away_player')\n",
    "\n",
    "    home_team_strength = round(stats_home_players.values.mean(), 2)\n",
    "    away_team_strength = round(stats_away_players.values.mean(), 2)\n",
    "\n",
    "    return home_team_strength, away_team_strength\n",
    "\n",
    "\n",
    "df_transformed[['avg_home_team_rating', 'avg_away_team_rating']] = df_transformed.apply(lambda row: get_overall_player_strength(row), axis=1, result_type='expand')\n",
    "\n",
    "end = time()\n",
    "print(\"Calculate player stats in {:.3f} minutes\".format((end - start) / 60))"
   ]
  },
  {
   "cell_type": "code",
   "execution_count": 18,
   "metadata": {
    "collapsed": false,
    "pycharm": {
     "name": "#%%\n"
    },
    "ExecuteTime": {
     "end_time": "2024-02-05T16:34:31.332172100Z",
     "start_time": "2024-02-05T16:34:21.856755300Z"
    }
   },
   "outputs": [
    {
     "name": "stdout",
     "output_type": "stream",
     "text": [
      "Count streak wins in 0.158 minutes.\n"
     ]
    }
   ],
   "source": [
    "start = time()\n",
    "\n",
    "def calculate_weighted_streak(df, team, match_date, is_home_team, decay_factor=0.95):\n",
    "    # Filter matches for the team and before the match date\n",
    "    if is_home_team:\n",
    "        team_matches = df[(df['home_team'] == team) & (df['date'] < match_date)]\n",
    "        team_matches['win'] = (team_matches['home_team_goal'] > team_matches['away_team_goal']).astype(int)\n",
    "        team_matches['quality'] = team_matches['avg_away_team_rating']  # Opponent quality\n",
    "    else:\n",
    "        team_matches = df[(df['away_team'] == team) & (df['date'] < match_date)]\n",
    "        team_matches['win'] = (team_matches['home_team_goal'] < team_matches['away_team_goal']).astype(int)\n",
    "        team_matches['quality'] = team_matches['avg_home_team_rating']  # Opponent quality\n",
    "    \n",
    "    # Adjust quality for home advantage if needed\n",
    "    # Example adjustment, assuming home teams are generally stronger by a fixed percentage\n",
    "    # This step can be refined based on more sophisticated models of home advantage\n",
    "    team_matches['quality'] *= 1.05 if is_home_team else 0.95\n",
    "\n",
    "    # Sort matches from most recent to oldest\n",
    "    team_matches = team_matches.sort_values(by='date', ascending=False)\n",
    "\n",
    "    # Apply decay factor with exponentially decreasing weights\n",
    "    decay_weights = decay_factor ** np.arange(len(team_matches))\n",
    "\n",
    "    # Calculate the weighted streak with decay and quality adjustment\n",
    "    weighted_streak = np.sum(decay_weights * team_matches['quality'] * team_matches['win'])\n",
    "\n",
    "    return weighted_streak\n",
    "\n",
    "def count_streak_wins(match_row, df, decay_factor=0.9):\n",
    "    match_date = match_row['date']\n",
    "    home_team = match_row['home_team']\n",
    "    away_team = match_row['away_team']\n",
    "\n",
    "    home_streak = calculate_weighted_streak(df, home_team, match_date, True, decay_factor) / 10\n",
    "    away_streak = calculate_weighted_streak(df, away_team, match_date, False, decay_factor) / 10\n",
    "\n",
    "    return pd.Series([round(home_streak, 2), round(away_streak, 2)])\n",
    "\n",
    "decay_factor = 0.9\n",
    "\n",
    "# Assuming df_transformed is your DataFrame containing match data\n",
    "df_transformed[['home_streak_wins', 'away_streak_wins']] = df_transformed.apply(lambda row: count_streak_wins(row, df_transformed, decay_factor), axis=1)\n",
    "\n",
    "end = time()\n",
    "print(f\"Count streak wins in {(end - start) / 60:.3f} minutes.\")"
   ]
  },
  {
   "cell_type": "code",
   "outputs": [
    {
     "data": {
      "text/plain": "       home_streak_wins  away_streak_wins\ncount           3040.00           3040.00\nmean              32.96             18.49\nstd               16.31             11.74\nmin                0.00              0.00\n25%               21.26              9.40\n50%               30.66             16.74\n75%               44.08             26.28\nmax               78.55             53.63",
      "text/html": "<div>\n<style scoped>\n    .dataframe tbody tr th:only-of-type {\n        vertical-align: middle;\n    }\n\n    .dataframe tbody tr th {\n        vertical-align: top;\n    }\n\n    .dataframe thead th {\n        text-align: right;\n    }\n</style>\n<table border=\"1\" class=\"dataframe\">\n  <thead>\n    <tr style=\"text-align: right;\">\n      <th></th>\n      <th>home_streak_wins</th>\n      <th>away_streak_wins</th>\n    </tr>\n  </thead>\n  <tbody>\n    <tr>\n      <th>count</th>\n      <td>3040.00</td>\n      <td>3040.00</td>\n    </tr>\n    <tr>\n      <th>mean</th>\n      <td>32.96</td>\n      <td>18.49</td>\n    </tr>\n    <tr>\n      <th>std</th>\n      <td>16.31</td>\n      <td>11.74</td>\n    </tr>\n    <tr>\n      <th>min</th>\n      <td>0.00</td>\n      <td>0.00</td>\n    </tr>\n    <tr>\n      <th>25%</th>\n      <td>21.26</td>\n      <td>9.40</td>\n    </tr>\n    <tr>\n      <th>50%</th>\n      <td>30.66</td>\n      <td>16.74</td>\n    </tr>\n    <tr>\n      <th>75%</th>\n      <td>44.08</td>\n      <td>26.28</td>\n    </tr>\n    <tr>\n      <th>max</th>\n      <td>78.55</td>\n      <td>53.63</td>\n    </tr>\n  </tbody>\n</table>\n</div>"
     },
     "execution_count": 19,
     "metadata": {},
     "output_type": "execute_result"
    }
   ],
   "source": [
    "df_transformed[['home_streak_wins', 'away_streak_wins']].describe().round(2)"
   ],
   "metadata": {
    "collapsed": false,
    "ExecuteTime": {
     "end_time": "2024-02-05T16:34:31.365549300Z",
     "start_time": "2024-02-05T16:34:31.331121600Z"
    }
   },
   "execution_count": 19
  },
  {
   "cell_type": "code",
   "execution_count": 20,
   "metadata": {
    "collapsed": false,
    "pycharm": {
     "name": "#%%\n"
    },
    "ExecuteTime": {
     "end_time": "2024-02-05T16:34:31.377185400Z",
     "start_time": "2024-02-05T16:34:31.346670500Z"
    }
   },
   "outputs": [],
   "source": [
    "# def test_count_streak_wins():\n",
    "#     data = {\n",
    "#         'home_team': ['TeamB', 'TeamB', 'TeamA', 'TeamB', 'TeamB', 'TeamB', 'TeamB'],\n",
    "#         'away_team': ['TeamA', 'TeamA', 'TeamB', 'TeamA', 'TeamA', 'TeamC', 'TeamA'],\n",
    "#         'home_team_goal': [2, 1, 3, 0, 0, 2, 0],\n",
    "#         'away_team_goal': [1, 2, 0, 1, 1, 1, 1],\n",
    "#         'avg_away_team_rating': [75, 85, 83, 74, 73, 66, 78],\n",
    "#         'avg_home_team_rating': [90, 76, 78, 85, 77, 65, 82],\n",
    "#         'date': ['2023-01-01', '2023-01-02', '2023-01-03', '2023-01-04', '2023-01-05', '2023-01-06', '2023-01-07'],\n",
    "#         'season': ['2023', '2023', '2023', '2023', '2023', '2023', '2023'],\n",
    "#         'points_home': [3, 1, 3, 0, 0, 3, 0],\n",
    "#         'points_away': [0, 3, 0, 1, 1, 0, 3]\n",
    "#     }\n",
    "# \n",
    "#     mock_df = pd.DataFrame(data)\n",
    "#     mock_df['date'] = pd.to_datetime(mock_df['date'])\n",
    "# \n",
    "#     expected_home_streak_wins = 115.21\n",
    "#     expected_away_streak_wins = 215.06\n",
    "# \n",
    "#     decay_factor = 0.9\n",
    "#     home_streak_wins, away_streak_wins = count_streak_wins(mock_df.iloc[-1], mock_df, decay_factor)\n",
    "# \n",
    "#     assert round(home_streak_wins, 2) == expected_home_streak_wins, f\"Home streak wins don't match expected value: {home_streak_wins}\"\n",
    "#     assert round(away_streak_wins, 2) == expected_away_streak_wins, f\"Away streak wins don't match expected value: {away_streak_wins}\"\n",
    "# \n",
    "#     print(\"Test for count_streak_wins passed!\")\n",
    "# \n",
    "# test_count_streak_wins()"
   ]
  },
  {
   "cell_type": "code",
   "execution_count": 21,
   "metadata": {
    "collapsed": false,
    "pycharm": {
     "name": "#%%\n"
    },
    "ExecuteTime": {
     "end_time": "2024-02-05T16:34:31.430866100Z",
     "start_time": "2024-02-05T16:34:31.366608300Z"
    }
   },
   "outputs": [],
   "source": [
    "def calculate_ewm_team_stat(df, alpha, stat_type):\n",
    "    # Create a long format DataFrame where each row is a team's performance in a match\n",
    "    home_df = df[['date', 'home_team', f'home_{stat_type}']].rename(\n",
    "        columns={'home_team': 'team', f'home_{stat_type}': stat_type})\n",
    "    away_df = df[['date', 'away_team', f'away_{stat_type}']].rename(\n",
    "        columns={'away_team': 'team', f'away_{stat_type}': stat_type})\n",
    "    long_df = pd.concat([home_df, away_df])\n",
    "\n",
    "    # Sort by team and date to ensure correct order for EMA calculation\n",
    "    long_df.sort_values(by=['team', 'date'], inplace=True)\n",
    "\n",
    "    # Calculate EWMA with shift to exclude the current match\n",
    "    long_df[f'ewm_{stat_type}'] = (\n",
    "        long_df.groupby('team')[stat_type]\n",
    "        .apply(lambda x: x.shift(1).ewm(adjust=True, alpha=alpha).mean())\n",
    "        .reset_index(level=0, drop=True)\n",
    "        .round(3)\n",
    "    )\n",
    "\n",
    "    # Pivot the long format back to wide format with separate columns for home and away teams\n",
    "    ewm_home = long_df.rename(columns={'team': 'home_team', f'ewm_{stat_type}': f'ewm_{stat_type}_home'}).drop(columns=[stat_type])\n",
    "    ewm_away = long_df.rename(columns={'team': 'away_team', f'ewm_{stat_type}': f'ewm_{stat_type}_away'}).drop(columns=[stat_type])\n",
    "\n",
    "    # Merge the EWMA data back to the original DataFrame\n",
    "    merged_df = df.merge(ewm_home, on=['date', 'home_team'], how='left').merge(ewm_away, on=['date', 'away_team'], how='left')\n",
    "\n",
    "    return merged_df\n",
    "\n",
    "alpha = 0.03\n",
    "shoton_type = 'shoton'\n",
    "possesion_type = 'possession'\n",
    "\n",
    "df_transformed = calculate_ewm_team_stat(df_transformed.copy(), alpha, shoton_type)\n",
    "df_transformed = calculate_ewm_team_stat(df_transformed.copy(), alpha, possesion_type)\n",
    "\n",
    "df_transformed.loc[df_transformed['ewm_possession_home'] == 0, 'ewm_possession_home'] = df_transformed['home_possession']\n",
    "df_transformed.loc[df_transformed['ewm_possession_away'] == 0, 'ewm_possession_away'] = df_transformed['away_possession']\n",
    "\n",
    "df_transformed.loc[df_transformed['ewm_shoton_home'] == 0, 'ewm_shoton_home'] = df_transformed['home_shoton']\n",
    "df_transformed.loc[df_transformed['ewm_shoton_away'] == 0, 'ewm_shoton_away'] = df_transformed['away_shoton']"
   ]
  },
  {
   "cell_type": "code",
   "execution_count": 22,
   "metadata": {
    "ExecuteTime": {
     "end_time": "2024-02-05T16:34:31.452656300Z",
     "start_time": "2024-02-05T16:34:31.410029700Z"
    }
   },
   "outputs": [
    {
     "data": {
      "text/plain": "       home_possession  away_possession  ewm_possession_home  \\\ncount          3040.00          3040.00              3024.00   \nmean             51.31            47.90                48.88   \nstd               9.55             9.62                 3.91   \nmin               0.00             0.00                17.26   \n25%              46.00            43.00                47.08   \n50%              51.00            48.00                49.17   \n75%              57.00            54.00                51.20   \nmax              80.00            80.00                69.00   \n\n       ewm_possession_away  \ncount              3022.00  \nmean                 48.94  \nstd                   3.73  \nmin                  21.83  \n25%                  47.15  \n50%                  49.20  \n75%                  51.27  \nmax                  64.00  ",
      "text/html": "<div>\n<style scoped>\n    .dataframe tbody tr th:only-of-type {\n        vertical-align: middle;\n    }\n\n    .dataframe tbody tr th {\n        vertical-align: top;\n    }\n\n    .dataframe thead th {\n        text-align: right;\n    }\n</style>\n<table border=\"1\" class=\"dataframe\">\n  <thead>\n    <tr style=\"text-align: right;\">\n      <th></th>\n      <th>home_possession</th>\n      <th>away_possession</th>\n      <th>ewm_possession_home</th>\n      <th>ewm_possession_away</th>\n    </tr>\n  </thead>\n  <tbody>\n    <tr>\n      <th>count</th>\n      <td>3040.00</td>\n      <td>3040.00</td>\n      <td>3024.00</td>\n      <td>3022.00</td>\n    </tr>\n    <tr>\n      <th>mean</th>\n      <td>51.31</td>\n      <td>47.90</td>\n      <td>48.88</td>\n      <td>48.94</td>\n    </tr>\n    <tr>\n      <th>std</th>\n      <td>9.55</td>\n      <td>9.62</td>\n      <td>3.91</td>\n      <td>3.73</td>\n    </tr>\n    <tr>\n      <th>min</th>\n      <td>0.00</td>\n      <td>0.00</td>\n      <td>17.26</td>\n      <td>21.83</td>\n    </tr>\n    <tr>\n      <th>25%</th>\n      <td>46.00</td>\n      <td>43.00</td>\n      <td>47.08</td>\n      <td>47.15</td>\n    </tr>\n    <tr>\n      <th>50%</th>\n      <td>51.00</td>\n      <td>48.00</td>\n      <td>49.17</td>\n      <td>49.20</td>\n    </tr>\n    <tr>\n      <th>75%</th>\n      <td>57.00</td>\n      <td>54.00</td>\n      <td>51.20</td>\n      <td>51.27</td>\n    </tr>\n    <tr>\n      <th>max</th>\n      <td>80.00</td>\n      <td>80.00</td>\n      <td>69.00</td>\n      <td>64.00</td>\n    </tr>\n  </tbody>\n</table>\n</div>"
     },
     "execution_count": 22,
     "metadata": {},
     "output_type": "execute_result"
    }
   ],
   "source": [
    "df_transformed.filter(like='possession').describe().round(2)"
   ]
  },
  {
   "cell_type": "code",
   "outputs": [
    {
     "data": {
      "text/plain": "      home_possession  away_possession  ewm_possession_home  \\\n0                   0                0                  NaN   \n1                   0                0                  NaN   \n2                   0                0                  NaN   \n3                   0                0                  NaN   \n4                   0                0                  NaN   \n...               ...              ...                  ...   \n3035               38               44               48.654   \n3036               55               53               47.796   \n3037               61               53               43.500   \n3038               47               30               51.878   \n3039               47               41               46.463   \n\n      ewm_possession_away  \n0                     NaN  \n1                     NaN  \n2                     NaN  \n3                     NaN  \n4                     NaN  \n...                   ...  \n3035               52.130  \n3036               52.362  \n3037               52.919  \n3038               45.764  \n3039               48.676  \n\n[3040 rows x 4 columns]",
      "text/html": "<div>\n<style scoped>\n    .dataframe tbody tr th:only-of-type {\n        vertical-align: middle;\n    }\n\n    .dataframe tbody tr th {\n        vertical-align: top;\n    }\n\n    .dataframe thead th {\n        text-align: right;\n    }\n</style>\n<table border=\"1\" class=\"dataframe\">\n  <thead>\n    <tr style=\"text-align: right;\">\n      <th></th>\n      <th>home_possession</th>\n      <th>away_possession</th>\n      <th>ewm_possession_home</th>\n      <th>ewm_possession_away</th>\n    </tr>\n  </thead>\n  <tbody>\n    <tr>\n      <th>0</th>\n      <td>0</td>\n      <td>0</td>\n      <td>NaN</td>\n      <td>NaN</td>\n    </tr>\n    <tr>\n      <th>1</th>\n      <td>0</td>\n      <td>0</td>\n      <td>NaN</td>\n      <td>NaN</td>\n    </tr>\n    <tr>\n      <th>2</th>\n      <td>0</td>\n      <td>0</td>\n      <td>NaN</td>\n      <td>NaN</td>\n    </tr>\n    <tr>\n      <th>3</th>\n      <td>0</td>\n      <td>0</td>\n      <td>NaN</td>\n      <td>NaN</td>\n    </tr>\n    <tr>\n      <th>4</th>\n      <td>0</td>\n      <td>0</td>\n      <td>NaN</td>\n      <td>NaN</td>\n    </tr>\n    <tr>\n      <th>...</th>\n      <td>...</td>\n      <td>...</td>\n      <td>...</td>\n      <td>...</td>\n    </tr>\n    <tr>\n      <th>3035</th>\n      <td>38</td>\n      <td>44</td>\n      <td>48.654</td>\n      <td>52.130</td>\n    </tr>\n    <tr>\n      <th>3036</th>\n      <td>55</td>\n      <td>53</td>\n      <td>47.796</td>\n      <td>52.362</td>\n    </tr>\n    <tr>\n      <th>3037</th>\n      <td>61</td>\n      <td>53</td>\n      <td>43.500</td>\n      <td>52.919</td>\n    </tr>\n    <tr>\n      <th>3038</th>\n      <td>47</td>\n      <td>30</td>\n      <td>51.878</td>\n      <td>45.764</td>\n    </tr>\n    <tr>\n      <th>3039</th>\n      <td>47</td>\n      <td>41</td>\n      <td>46.463</td>\n      <td>48.676</td>\n    </tr>\n  </tbody>\n</table>\n<p>3040 rows × 4 columns</p>\n</div>"
     },
     "execution_count": 23,
     "metadata": {},
     "output_type": "execute_result"
    }
   ],
   "source": [
    "df_transformed.filter(like='possession')"
   ],
   "metadata": {
    "collapsed": false,
    "ExecuteTime": {
     "end_time": "2024-02-05T16:34:31.453713800Z",
     "start_time": "2024-02-05T16:34:31.425630500Z"
    }
   },
   "execution_count": 23
  },
  {
   "cell_type": "code",
   "execution_count": 24,
   "metadata": {
    "collapsed": false,
    "pycharm": {
     "name": "#%%\n"
    },
    "ExecuteTime": {
     "end_time": "2024-02-05T16:34:31.477007900Z",
     "start_time": "2024-02-05T16:34:31.442297300Z"
    }
   },
   "outputs": [
    {
     "name": "stdout",
     "output_type": "stream",
     "text": [
      "Test passed!\n"
     ]
    }
   ],
   "source": [
    "def test_count_average_stat_from_last_n_matches():\n",
    "    data = {\n",
    "        'date': ['2023-01-01', '2023-01-02', '2023-01-03', '2023-01-04', '2023-01-05', '2023-01-06'],\n",
    "        'home_team': ['TeamA', 'TeamB', 'TeamA', 'TeamB', 'TeamA', 'TeamB'],\n",
    "        'away_team': ['TeamB', 'TeamA', 'TeamB', 'TeamA', 'TeamB', 'TeamA'],\n",
    "        'home_shoton': [5, 4, 6, 3, 5, 4],\n",
    "        'away_shoton': [4, 5, 5, 4, 4, 3]\n",
    "    }\n",
    "    \n",
    "    df_mock = pd.DataFrame(data)\n",
    "    stat_type = 'shoton'\n",
    "    \n",
    "    df_ = calculate_ewm_team_stat(df_mock, 0.01, stat_type)\n",
    "    \n",
    "    assert df_.iloc[-1]['ewm_shoton_home'] == 3.998, f\"Expected 3.998 but got {df_.iloc[-1]['ewm_shoton_home']}\"\n",
    "    assert df_.iloc[-1]['ewm_shoton_away'] == 4.998, f\"Expected 4.998 but got {df_.iloc[-1]['ewm_shoton_away']}\"\n",
    "    print(\"Test passed!\")\n",
    "\n",
    "test_count_average_stat_from_last_n_matches()"
   ]
  },
  {
   "cell_type": "code",
   "execution_count": 25,
   "metadata": {
    "pycharm": {
     "name": "#%%\n"
    },
    "ExecuteTime": {
     "end_time": "2024-02-05T16:34:31.578750500Z",
     "start_time": "2024-02-05T16:34:31.456953800Z"
    }
   },
   "outputs": [],
   "source": [
    "from sklearn.preprocessing import LabelEncoder\n",
    "\n",
    "def prepare_target(y_):\n",
    "    le = LabelEncoder()\n",
    "    transform = le.fit_transform(y_)\n",
    "    return transform, le.classes_\n",
    "\n",
    "df_transformed['result_match'], classes = prepare_target(df_transformed['result_match'])"
   ]
  },
  {
   "cell_type": "code",
   "outputs": [],
   "source": [
    "df_transformed_ = df_transformed.copy()"
   ],
   "metadata": {
    "collapsed": false,
    "ExecuteTime": {
     "end_time": "2024-02-05T16:34:31.579812900Z",
     "start_time": "2024-02-05T16:34:31.534913600Z"
    }
   },
   "execution_count": 26
  },
  {
   "cell_type": "code",
   "outputs": [],
   "source": [
    "# alpha = 0.3\n",
    "# \n",
    "# def calculate_team_ema(df, alpha):\n",
    "#     # Create a long format DataFrame where each row is a team's performance in a match\n",
    "#     home_df = df[['date', 'home_team', 'home_team_goal']].rename(columns={'home_team': 'team', 'home_team_goal': 'goals'})\n",
    "#     away_df = df[['date', 'away_team', 'away_team_goal']].rename(columns={'away_team': 'team', 'away_team_goal': 'goals'})\n",
    "#     long_df = pd.concat([home_df, away_df])\n",
    "# \n",
    "#     # Sort by team and date to ensure correct order for EMA calculation\n",
    "#     long_df.sort_values(by=['team', 'date'], inplace=True)\n",
    "# \n",
    "#     # Calculate EMA with shift to exclude the current match\n",
    "#     long_df['ema_goals'] = (\n",
    "#         long_df.groupby('team')['goals']\n",
    "#         .apply(lambda x: x.shift(1).ewm(adjust=True, alpha=alpha).mean())\n",
    "#         .reset_index(level=0, drop=True)\n",
    "#         .round(2)\n",
    "#     )\n",
    "# \n",
    "#     # Pivot the long format back to wide format with separate columns for home and away teams\n",
    "#     ema_home = long_df.rename(columns={'team': 'home_team', 'ema_goals': 'ewm_home_team_goals'}).drop(columns=['goals'])\n",
    "#     ema_away = long_df.rename(columns={'team': 'away_team', 'ema_goals': 'ewm_away_team_goals'}).drop(columns=['goals'])\n",
    "# \n",
    "#     # Merge the EMA data back to the original DataFrame\n",
    "#     merged_df = df.merge(ema_home, on=['date', 'home_team'], how='left').merge(ema_away, on=['date', 'away_team'], how='left')\n",
    "# \n",
    "#     return merged_df\n",
    "# \n",
    "# df_transformed_ = calculate_team_ema(df_transformed_.copy(), alpha=alpha)"
   ],
   "metadata": {
    "collapsed": false,
    "ExecuteTime": {
     "end_time": "2024-02-05T16:34:31.579812900Z",
     "start_time": "2024-02-05T16:34:31.550519Z"
    }
   },
   "execution_count": 27
  },
  {
   "cell_type": "code",
   "execution_count": 28,
   "metadata": {
    "ExecuteTime": {
     "end_time": "2024-02-05T16:34:31.908384300Z",
     "start_time": "2024-02-05T16:34:31.568333200Z"
    }
   },
   "outputs": [
    {
     "data": {
      "text/plain": "0.6079095412522771"
     },
     "execution_count": 28,
     "metadata": {},
     "output_type": "execute_result"
    }
   ],
   "source": [
    "from xgboost import XGBClassifier\n",
    "\n",
    "from sklearn.model_selection import train_test_split\n",
    "from sklearn.metrics import accuracy_score, f1_score\n",
    "\n",
    "import warnings\n",
    "warnings.filterwarnings('ignore')\n",
    "\n",
    "X = df_transformed.drop(['result_match', 'match_api_id', 'season', 'date', 'away_team', 'home_team', 'away_team_goal', 'home_team_goal', 'away_possession', 'home_shoton', 'home_possession', 'away_shoton',], axis=1)\n",
    "y = np.where(df_transformed['result_match'] == 2, 1, 0)\n",
    "\n",
    "evaluate_model(X, y)"
   ]
  },
  {
   "cell_type": "code",
   "execution_count": 31,
   "metadata": {
    "collapsed": false,
    "pycharm": {
     "name": "#%%\n"
    },
    "ExecuteTime": {
     "end_time": "2024-02-05T16:42:10.779673200Z",
     "start_time": "2024-02-05T16:42:10.735511100Z"
    }
   },
   "outputs": [],
   "source": [
    "import os\n",
    "\n",
    "output_dir = \"../data/\"\n",
    "\n",
    "if not os.path.exists(output_dir):\n",
    "    os.makedirs(output_dir)\n",
    "\n",
    "\n",
    "X.to_csv(output_dir + \"start_dataset.csv\", index=False)\n",
    "pd.Series(data=y, name='resul_match').to_csv(output_dir + 'y.csv', index=False)"
   ]
  },
  {
   "cell_type": "code",
   "outputs": [],
   "source": [],
   "metadata": {
    "collapsed": false,
    "ExecuteTime": {
     "start_time": "2024-02-05T16:34:32.464186100Z"
    }
   },
   "execution_count": null
  }
 ],
 "metadata": {
  "kernelspec": {
   "display_name": "Python 3 (ipykernel)",
   "language": "python",
   "name": "python3"
  },
  "language_info": {
   "codemirror_mode": {
    "name": "ipython",
    "version": 3
   },
   "file_extension": ".py",
   "mimetype": "text/x-python",
   "name": "python",
   "nbconvert_exporter": "python",
   "pygments_lexer": "ipython3",
   "version": "3.10.8"
  }
 },
 "nbformat": 4,
 "nbformat_minor": 4
}
