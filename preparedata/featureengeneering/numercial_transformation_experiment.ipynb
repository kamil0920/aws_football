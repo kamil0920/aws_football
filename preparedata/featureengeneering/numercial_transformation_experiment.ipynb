{
 "cells": [
  {
   "cell_type": "code",
   "outputs": [],
   "source": [
    "import os\n",
    "import json\n",
    "\n",
    "import pandas as pd\n",
    "from xgboost import XGBClassifier\n",
    "\n",
    "from sklearn.preprocessing import StandardScaler, MinMaxScaler, OneHotEncoder, LabelEncoder\n",
    "from sklearn.compose import ColumnTransformer, make_column_selector as selector\n",
    "from sklearn.model_selection import train_test_split\n",
    "from sklearn.pipeline import Pipeline\n",
    "from sklearn.metrics import f1_score\n",
    "\n",
    "import category_encoders as ce\n",
    "\n",
    "import warnings\n",
    "\n",
    "warnings.filterwarnings('ignore')"
   ],
   "metadata": {
    "collapsed": false,
    "ExecuteTime": {
     "end_time": "2024-03-05T19:29:24.096909400Z",
     "start_time": "2024-03-05T19:29:24.079909200Z"
    }
   },
   "id": "8b0486f411b2f0d5",
   "execution_count": 9
  },
  {
   "cell_type": "code",
   "outputs": [
    {
     "name": "stdout",
     "output_type": "stream",
     "text": [
      "<class 'pandas.core.frame.DataFrame'>\n",
      "RangeIndex: 3040 entries, 0 to 3039\n",
      "Empty DataFrame\n"
     ]
    }
   ],
   "source": [
    "X = pd.read_csv('../../data/start_dataset.csv')\n",
    "y = pd.read_csv('../../data/y.csv', dtype='int8')\n",
    "\n",
    "# with open('../data/binned/interaction_constraints.json', 'r') as file:\n",
    "#     interaction_constraints = json.load(file)\n",
    "\n",
    "# print(interaction_constraints)\n",
    "\n",
    "for col in X.filter(like='_binned').columns:\n",
    "    X[col] = X[col].astype('category')\n",
    "\n",
    "X.filter(like='_binned').info()"
   ],
   "metadata": {
    "collapsed": false,
    "ExecuteTime": {
     "end_time": "2024-03-05T19:29:24.104908800Z",
     "start_time": "2024-03-05T19:29:24.085910200Z"
    }
   },
   "id": "db8c7a25484bd531",
   "execution_count": 10
  },
  {
   "cell_type": "code",
   "outputs": [],
   "source": [
    "def train_and_evaluate(df, target, preprocessing=None):\n",
    "    \"\"\"\n",
    "    Train an XGBClassifier with specified preprocessing on the training data and evaluate it on the validation data.\n",
    "\n",
    "    Parameters:\n",
    "    df (DataFrame): Data\n",
    "    target (Series): Target data\n",
    "    random_state (int): Random state for reproducibility\n",
    "    enable_categorical (bool): Enable categorical feature support\n",
    "    preprocessing (str): Preprocessing method ('Normalization', 'Standardization', or None)\n",
    "\n",
    "    Returns:\n",
    "    float: The F1 score of the model on the validation data\n",
    "    \"\"\"\n",
    "    X_train, X_val, y_train, y_val = train_test_split(df, target, test_size=0.2, random_state=42, stratify=target)\n",
    "\n",
    "    num_cols = X_train.select_dtypes(include=['int64', 'float64']).columns\n",
    "    cat_cols = X_train.select_dtypes(include=['object', 'category']).columns\n",
    "\n",
    "    if preprocessing == 'Normalization':\n",
    "        num_transformer = MinMaxScaler()\n",
    "    elif preprocessing == 'Standardization':\n",
    "        num_transformer = StandardScaler()\n",
    "    else:\n",
    "        num_transformer = 'passthrough'\n",
    "        \n",
    "    cat_transformer = ce.OneHotEncoder(cols=cat_cols, use_cat_names=True, drop_invariant=True, return_df=True)\n",
    "\n",
    "    preprocessor = ColumnTransformer([\n",
    "        ('num', num_transformer, num_cols),\n",
    "        ('cat', cat_transformer, cat_cols)\n",
    "    ])\n",
    "    \n",
    "    X_train_preprocessed = preprocessor.fit_transform(X_train)\n",
    "    X_val_preprocessed = preprocessor.transform(X_val)\n",
    "\n",
    "    model = XGBClassifier(random_state=42, enable_categorical=True)\n",
    "    model.fit(X_train_preprocessed, y_train, eval_set=[(X_train_preprocessed, y_train), (X_val_preprocessed, y_val)], verbose=0, early_stopping_rounds=25)\n",
    "\n",
    "    y_pred = model.predict(X_val_preprocessed)\n",
    "    f1_score_val = f1_score(y_val, y_pred, pos_label=1)\n",
    "\n",
    "    return f1_score_val"
   ],
   "metadata": {
    "collapsed": false,
    "ExecuteTime": {
     "end_time": "2024-03-05T19:29:59.968254Z",
     "start_time": "2024-03-05T19:29:59.957253900Z"
    }
   },
   "id": "3dd5360b38b01580",
   "execution_count": 14
  },
  {
   "cell_type": "code",
   "outputs": [
    {
     "data": {
      "text/plain": "0.5805168986083499"
     },
     "execution_count": 15,
     "metadata": {},
     "output_type": "execute_result"
    }
   ],
   "source": [
    "train_and_evaluate(X, y, preprocessing='Normalization')"
   ],
   "metadata": {
    "collapsed": false,
    "ExecuteTime": {
     "end_time": "2024-03-05T19:30:00.331253500Z",
     "start_time": "2024-03-05T19:30:00.241255Z"
    }
   },
   "id": "4d00e4cd3e8de66e",
   "execution_count": 15
  },
  {
   "cell_type": "code",
   "outputs": [
    {
     "data": {
      "text/plain": "0.5805168986083499"
     },
     "execution_count": 16,
     "metadata": {},
     "output_type": "execute_result"
    }
   ],
   "source": [
    "train_and_evaluate(X, y, preprocessing='Standardization')"
   ],
   "metadata": {
    "collapsed": false,
    "ExecuteTime": {
     "end_time": "2024-03-05T19:30:00.582253Z",
     "start_time": "2024-03-05T19:30:00.480256600Z"
    }
   },
   "id": "4338b49570223ce6",
   "execution_count": 16
  },
  {
   "cell_type": "code",
   "outputs": [],
   "source": [],
   "metadata": {
    "collapsed": false,
    "ExecuteTime": {
     "end_time": "2024-03-05T19:29:24.324907100Z",
     "start_time": "2024-03-05T19:29:24.305909200Z"
    }
   },
   "id": "8b423c1bc784ce53",
   "execution_count": 13
  }
 ],
 "metadata": {
  "kernelspec": {
   "display_name": "Python 3",
   "language": "python",
   "name": "python3"
  },
  "language_info": {
   "codemirror_mode": {
    "name": "ipython",
    "version": 2
   },
   "file_extension": ".py",
   "mimetype": "text/x-python",
   "name": "python",
   "nbconvert_exporter": "python",
   "pygments_lexer": "ipython2",
   "version": "2.7.6"
  }
 },
 "nbformat": 4,
 "nbformat_minor": 5
}
