{
 "cells": [
  {
   "cell_type": "code",
   "outputs": [],
   "source": [
    "import os\n",
    "import json\n",
    "\n",
    "import pandas as pd\n",
    "from xgboost import XGBClassifier\n",
    "\n",
    "from sklearn.preprocessing import StandardScaler, MinMaxScaler, OneHotEncoder, LabelEncoder\n",
    "from sklearn.compose import ColumnTransformer, make_column_selector as selector\n",
    "from sklearn.model_selection import train_test_split\n",
    "from sklearn.pipeline import Pipeline\n",
    "from sklearn.metrics import f1_score\n",
    "\n",
    "import category_encoders as ce\n",
    "\n",
    "import warnings\n",
    "\n",
    "warnings.filterwarnings('ignore')"
   ],
   "metadata": {
    "collapsed": false,
    "ExecuteTime": {
     "end_time": "2024-01-25T20:59:01.624475Z",
     "start_time": "2024-01-25T20:59:01.379209800Z"
    }
   },
   "id": "8b0486f411b2f0d5",
   "execution_count": 1
  },
  {
   "cell_type": "code",
   "outputs": [
    {
     "name": "stdout",
     "output_type": "stream",
     "text": [
      "[['player_rating_away_player_1', 'player_rating_away_player_2', 'player_rating_away_player_3', 'player_rating_away_player_4', 'player_rating_away_player_5', 'player_rating_away_player_6', 'player_rating_away_player_7', 'player_rating_away_player_8', 'player_rating_away_player_9', 'player_rating_away_player_10', 'player_rating_away_player_11'], ['ewm_away_team_goals', 'ewm_home_team_goals_conceded', 'points_away', 'ewm_shoton_home', 'ewm_shoton_away', 'ewm_possession_home', 'ewm_possession_away', 'points_home_binned', 'home_weighted_wins_binned', 'away_weighted_wins_binned', 'ewm_home_team_goals_binned', 'ewm_away_team_goals_conceded_binned'], ['num_top_players_home', 'num_top_players_away'], ['rating_range_home', 'rating_range_away']]\n",
      "<class 'pandas.core.frame.DataFrame'>\n",
      "RangeIndex: 3040 entries, 0 to 3039\n",
      "Data columns (total 9 columns):\n",
      " #   Column                               Non-Null Count  Dtype   \n",
      "---  ------                               --------------  -----   \n",
      " 0   avg_home_rating_attack_binned        3040 non-null   category\n",
      " 1   avg_away_rating_attack_binned        3040 non-null   category\n",
      " 2   avg_away_rating_defence_binned       3040 non-null   category\n",
      " 3   avg_home_rating_defence_binned       3040 non-null   category\n",
      " 4   points_home_binned                   3040 non-null   category\n",
      " 5   home_weighted_wins_binned            3040 non-null   category\n",
      " 6   away_weighted_wins_binned            3040 non-null   category\n",
      " 7   ewm_home_team_goals_binned           3024 non-null   category\n",
      " 8   ewm_away_team_goals_conceded_binned  3022 non-null   category\n",
      "dtypes: category(9)\n",
      "memory usage: 28.6 KB\n"
     ]
    }
   ],
   "source": [
    "X = pd.read_csv('../data/binned/df.csv')\n",
    "y = pd.read_csv('../data/binned/y.csv')\n",
    "\n",
    "with open('../data/binned/interaction_constraints.json', 'r') as file:\n",
    "    interaction_constraints = json.load(file)\n",
    "\n",
    "print(interaction_constraints)\n",
    "\n",
    "for col in X.filter(like='_binned').columns:\n",
    "    X[col] = X[col].astype('category')\n",
    "\n",
    "X.filter(like='_binned').info()"
   ],
   "metadata": {
    "collapsed": false,
    "ExecuteTime": {
     "end_time": "2024-01-25T20:59:01.662423700Z",
     "start_time": "2024-01-25T20:59:01.626534Z"
    }
   },
   "id": "db8c7a25484bd531",
   "execution_count": 2
  },
  {
   "cell_type": "code",
   "outputs": [],
   "source": [
    "def train_and_evaluate(df, target, preprocessing=None):\n",
    "    \"\"\"\n",
    "    Train an XGBClassifier with specified preprocessing on the training data and evaluate it on the validation data.\n",
    "\n",
    "    Parameters:\n",
    "    df (DataFrame): Data\n",
    "    target (Series): Target data\n",
    "    random_state (int): Random state for reproducibility\n",
    "    enable_categorical (bool): Enable categorical feature support\n",
    "    preprocessing (str): Preprocessing method ('Normalization', 'Standardization', or None)\n",
    "\n",
    "    Returns:\n",
    "    float: The F1 score of the model on the validation data\n",
    "    \"\"\"\n",
    "    X_train, X_val, y_train, y_val = train_test_split(df, target, test_size=0.2, random_state=42, stratify=target)\n",
    "\n",
    "    num_cols = X_train.select_dtypes(include=['int64', 'float64']).columns\n",
    "    cat_cols = X_train.select_dtypes(include=['object', 'category']).columns\n",
    "\n",
    "    if preprocessing == 'Normalization':\n",
    "        num_transformer = MinMaxScaler()\n",
    "    elif preprocessing == 'Standardization':\n",
    "        num_transformer = StandardScaler()\n",
    "    else:\n",
    "        num_transformer = 'passthrough'\n",
    "\n",
    "    cat_transformer = ce.OneHotEncoder(cols=cat_cols, use_cat_names=True, drop_invariant=True, return_df=True)\n",
    "\n",
    "    preprocessor = ColumnTransformer([\n",
    "        ('num', num_transformer, num_cols),\n",
    "        ('cat', cat_transformer, cat_cols)\n",
    "    ])\n",
    "    \n",
    "    X_train_preprocessed = preprocessor.fit_transform(X_train)\n",
    "    X_val_preprocessed = preprocessor.transform(X_val)\n",
    "\n",
    "    model = XGBClassifier(random_state=42, enable_categorical=True)\n",
    "    model.fit(X_train_preprocessed, y_train, eval_set=[(X_train_preprocessed, y_train), (X_val_preprocessed, y_val)], verbose=0, early_stopping_rounds=25)\n",
    "\n",
    "    y_pred = model.predict(X_val_preprocessed)\n",
    "    f1_score_val = f1_score(y_val, y_pred, average='weighted')\n",
    "\n",
    "    return f1_score_val"
   ],
   "metadata": {
    "collapsed": false,
    "ExecuteTime": {
     "end_time": "2024-01-25T21:00:18.607702200Z",
     "start_time": "2024-01-25T21:00:18.556464500Z"
    }
   },
   "id": "3dd5360b38b01580",
   "execution_count": 9
  },
  {
   "cell_type": "code",
   "outputs": [
    {
     "ename": "KeyboardInterrupt",
     "evalue": "",
     "output_type": "error",
     "traceback": [
      "\u001B[1;31m---------------------------------------------------------------------------\u001B[0m",
      "\u001B[1;31mKeyboardInterrupt\u001B[0m                         Traceback (most recent call last)",
      "Cell \u001B[1;32mIn[10], line 1\u001B[0m\n\u001B[1;32m----> 1\u001B[0m \u001B[43mtrain_and_evaluate\u001B[49m\u001B[43m(\u001B[49m\u001B[43mX\u001B[49m\u001B[43m,\u001B[49m\u001B[43m \u001B[49m\u001B[43my\u001B[49m\u001B[43m,\u001B[49m\u001B[43m \u001B[49m\u001B[43mpreprocessing\u001B[49m\u001B[38;5;241;43m=\u001B[39;49m\u001B[38;5;124;43m'\u001B[39;49m\u001B[38;5;124;43mNormalization\u001B[39;49m\u001B[38;5;124;43m'\u001B[39;49m\u001B[43m)\u001B[49m\n",
      "Cell \u001B[1;32mIn[9], line 29\u001B[0m, in \u001B[0;36mtrain_and_evaluate\u001B[1;34m(df, target, preprocessing)\u001B[0m\n\u001B[0;32m     25\u001B[0m     num_transformer \u001B[38;5;241m=\u001B[39m \u001B[38;5;124m'\u001B[39m\u001B[38;5;124mpassthrough\u001B[39m\u001B[38;5;124m'\u001B[39m\n\u001B[0;32m     27\u001B[0m cat_transformer \u001B[38;5;241m=\u001B[39m ce\u001B[38;5;241m.\u001B[39mOneHotEncoder(cols\u001B[38;5;241m=\u001B[39mcat_cols, use_cat_names\u001B[38;5;241m=\u001B[39m\u001B[38;5;28;01mTrue\u001B[39;00m, drop_invariant\u001B[38;5;241m=\u001B[39m\u001B[38;5;28;01mTrue\u001B[39;00m, return_df\u001B[38;5;241m=\u001B[39m\u001B[38;5;28;01mTrue\u001B[39;00m)\n\u001B[1;32m---> 29\u001B[0m preprocessor \u001B[38;5;241m=\u001B[39m \u001B[43mColumnTransformer\u001B[49m([\n\u001B[0;32m     30\u001B[0m     (\u001B[38;5;124m'\u001B[39m\u001B[38;5;124mnum\u001B[39m\u001B[38;5;124m'\u001B[39m, num_transformer, num_cols),\n\u001B[0;32m     31\u001B[0m     (\u001B[38;5;124m'\u001B[39m\u001B[38;5;124mcat\u001B[39m\u001B[38;5;124m'\u001B[39m, cat_transformer, cat_cols)\n\u001B[0;32m     32\u001B[0m ])\n\u001B[0;32m     34\u001B[0m X_train_preprocessed \u001B[38;5;241m=\u001B[39m preprocessor\u001B[38;5;241m.\u001B[39mfit_transform(X_train)\n\u001B[0;32m     35\u001B[0m X_val_preprocessed \u001B[38;5;241m=\u001B[39m preprocessor\u001B[38;5;241m.\u001B[39mtransform(X_val)\n",
      "Cell \u001B[1;32mIn[9], line 29\u001B[0m, in \u001B[0;36mtrain_and_evaluate\u001B[1;34m(df, target, preprocessing)\u001B[0m\n\u001B[0;32m     25\u001B[0m     num_transformer \u001B[38;5;241m=\u001B[39m \u001B[38;5;124m'\u001B[39m\u001B[38;5;124mpassthrough\u001B[39m\u001B[38;5;124m'\u001B[39m\n\u001B[0;32m     27\u001B[0m cat_transformer \u001B[38;5;241m=\u001B[39m ce\u001B[38;5;241m.\u001B[39mOneHotEncoder(cols\u001B[38;5;241m=\u001B[39mcat_cols, use_cat_names\u001B[38;5;241m=\u001B[39m\u001B[38;5;28;01mTrue\u001B[39;00m, drop_invariant\u001B[38;5;241m=\u001B[39m\u001B[38;5;28;01mTrue\u001B[39;00m, return_df\u001B[38;5;241m=\u001B[39m\u001B[38;5;28;01mTrue\u001B[39;00m)\n\u001B[1;32m---> 29\u001B[0m preprocessor \u001B[38;5;241m=\u001B[39m \u001B[43mColumnTransformer\u001B[49m([\n\u001B[0;32m     30\u001B[0m     (\u001B[38;5;124m'\u001B[39m\u001B[38;5;124mnum\u001B[39m\u001B[38;5;124m'\u001B[39m, num_transformer, num_cols),\n\u001B[0;32m     31\u001B[0m     (\u001B[38;5;124m'\u001B[39m\u001B[38;5;124mcat\u001B[39m\u001B[38;5;124m'\u001B[39m, cat_transformer, cat_cols)\n\u001B[0;32m     32\u001B[0m ])\n\u001B[0;32m     34\u001B[0m X_train_preprocessed \u001B[38;5;241m=\u001B[39m preprocessor\u001B[38;5;241m.\u001B[39mfit_transform(X_train)\n\u001B[0;32m     35\u001B[0m X_val_preprocessed \u001B[38;5;241m=\u001B[39m preprocessor\u001B[38;5;241m.\u001B[39mtransform(X_val)\n",
      "File \u001B[1;32m_pydevd_bundle\\pydevd_cython_win32_310_64.pyx:1187\u001B[0m, in \u001B[0;36m_pydevd_bundle.pydevd_cython_win32_310_64.SafeCallWrapper.__call__\u001B[1;34m()\u001B[0m\n",
      "File \u001B[1;32m_pydevd_bundle\\pydevd_cython_win32_310_64.pyx:627\u001B[0m, in \u001B[0;36m_pydevd_bundle.pydevd_cython_win32_310_64.PyDBFrame.trace_dispatch\u001B[1;34m()\u001B[0m\n",
      "File \u001B[1;32m_pydevd_bundle\\pydevd_cython_win32_310_64.pyx:937\u001B[0m, in \u001B[0;36m_pydevd_bundle.pydevd_cython_win32_310_64.PyDBFrame.trace_dispatch\u001B[1;34m()\u001B[0m\n",
      "File \u001B[1;32m_pydevd_bundle\\pydevd_cython_win32_310_64.pyx:928\u001B[0m, in \u001B[0;36m_pydevd_bundle.pydevd_cython_win32_310_64.PyDBFrame.trace_dispatch\u001B[1;34m()\u001B[0m\n",
      "File \u001B[1;32m_pydevd_bundle\\pydevd_cython_win32_310_64.pyx:585\u001B[0m, in \u001B[0;36m_pydevd_bundle.pydevd_cython_win32_310_64.PyDBFrame.do_wait_suspend\u001B[1;34m()\u001B[0m\n",
      "File \u001B[1;32mC:\\Program Files\\JetBrains\\PyCharm 2023.3.2\\plugins\\python\\helpers\\pydev\\pydevd.py:1184\u001B[0m, in \u001B[0;36mPyDB.do_wait_suspend\u001B[1;34m(self, thread, frame, event, arg, send_suspend_message, is_unhandled_exception)\u001B[0m\n\u001B[0;32m   1181\u001B[0m         from_this_thread\u001B[38;5;241m.\u001B[39mappend(frame_id)\n\u001B[0;32m   1183\u001B[0m \u001B[38;5;28;01mwith\u001B[39;00m \u001B[38;5;28mself\u001B[39m\u001B[38;5;241m.\u001B[39m_threads_suspended_single_notification\u001B[38;5;241m.\u001B[39mnotify_thread_suspended(thread_id, stop_reason):\n\u001B[1;32m-> 1184\u001B[0m     \u001B[38;5;28;43mself\u001B[39;49m\u001B[38;5;241;43m.\u001B[39;49m\u001B[43m_do_wait_suspend\u001B[49m\u001B[43m(\u001B[49m\u001B[43mthread\u001B[49m\u001B[43m,\u001B[49m\u001B[43m \u001B[49m\u001B[43mframe\u001B[49m\u001B[43m,\u001B[49m\u001B[43m \u001B[49m\u001B[43mevent\u001B[49m\u001B[43m,\u001B[49m\u001B[43m \u001B[49m\u001B[43marg\u001B[49m\u001B[43m,\u001B[49m\u001B[43m \u001B[49m\u001B[43msuspend_type\u001B[49m\u001B[43m,\u001B[49m\u001B[43m \u001B[49m\u001B[43mfrom_this_thread\u001B[49m\u001B[43m)\u001B[49m\n",
      "File \u001B[1;32mC:\\Program Files\\JetBrains\\PyCharm 2023.3.2\\plugins\\python\\helpers\\pydev\\pydevd.py:1199\u001B[0m, in \u001B[0;36mPyDB._do_wait_suspend\u001B[1;34m(self, thread, frame, event, arg, suspend_type, from_this_thread)\u001B[0m\n\u001B[0;32m   1196\u001B[0m             \u001B[38;5;28mself\u001B[39m\u001B[38;5;241m.\u001B[39m_call_mpl_hook()\n\u001B[0;32m   1198\u001B[0m         \u001B[38;5;28mself\u001B[39m\u001B[38;5;241m.\u001B[39mprocess_internal_commands()\n\u001B[1;32m-> 1199\u001B[0m         \u001B[43mtime\u001B[49m\u001B[38;5;241;43m.\u001B[39;49m\u001B[43msleep\u001B[49m\u001B[43m(\u001B[49m\u001B[38;5;241;43m0.01\u001B[39;49m\u001B[43m)\u001B[49m\n\u001B[0;32m   1201\u001B[0m \u001B[38;5;28mself\u001B[39m\u001B[38;5;241m.\u001B[39mcancel_async_evaluation(get_current_thread_id(thread), \u001B[38;5;28mstr\u001B[39m(\u001B[38;5;28mid\u001B[39m(frame)))\n\u001B[0;32m   1203\u001B[0m \u001B[38;5;66;03m# process any stepping instructions\u001B[39;00m\n",
      "\u001B[1;31mKeyboardInterrupt\u001B[0m: "
     ]
    }
   ],
   "source": [
    "train_and_evaluate(X, y, preprocessing='Normalization')"
   ],
   "metadata": {
    "collapsed": false,
    "ExecuteTime": {
     "end_time": "2024-01-25T21:00:33.765768900Z",
     "start_time": "2024-01-25T21:00:21.375656700Z"
    }
   },
   "id": "4d00e4cd3e8de66e",
   "execution_count": 10
  },
  {
   "cell_type": "code",
   "outputs": [],
   "source": [
    "5322813298157089"
   ],
   "metadata": {
    "collapsed": false
   },
   "id": "4338b49570223ce6"
  }
 ],
 "metadata": {
  "kernelspec": {
   "display_name": "Python 3",
   "language": "python",
   "name": "python3"
  },
  "language_info": {
   "codemirror_mode": {
    "name": "ipython",
    "version": 2
   },
   "file_extension": ".py",
   "mimetype": "text/x-python",
   "name": "python",
   "nbconvert_exporter": "python",
   "pygments_lexer": "ipython2",
   "version": "2.7.6"
  }
 },
 "nbformat": 4,
 "nbformat_minor": 5
}
