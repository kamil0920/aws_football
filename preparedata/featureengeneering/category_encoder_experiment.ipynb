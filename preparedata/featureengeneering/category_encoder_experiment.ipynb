{
 "cells": [
  {
   "cell_type": "code",
   "execution_count": 2,
   "id": "initial_id",
   "metadata": {
    "collapsed": true,
    "ExecuteTime": {
     "end_time": "2024-03-05T19:11:20.404540600Z",
     "start_time": "2024-03-05T19:11:20.197905100Z"
    }
   },
   "outputs": [],
   "source": [
    "import numpy as np\n",
    "import pandas as pd\n",
    "from sklearn.model_selection import cross_val_score, StratifiedKFold\n",
    "from sklearn.pipeline import make_pipeline\n",
    "from sklearn.model_selection import train_test_split\n",
    "from sklearn.metrics import f1_score\n",
    "from xgboost import XGBClassifier\n",
    "import category_encoders as ce\n",
    "\n",
    "import warnings\n",
    "\n",
    "warnings.filterwarnings(\"ignore\")\n",
    "\n",
    "def evaluate_categorical_encoders(X, y, encoders, cv_folds=5):\n",
    "    \"\"\"\n",
    "    Evaluates different categorical encoders and returns the best one based on cross-validation scores.\n",
    "    \n",
    "    :param X: DataFrame with features, including categorical ones\n",
    "    :param y: Target variable\n",
    "    :param encoders: Dictionary of encoder names and their corresponding objects from category_encoders\n",
    "    :param cv_folds: Number of folds for cross-validation\n",
    "    :return: Name of the best encoder\n",
    "    \"\"\"\n",
    "    results = {}\n",
    "    \n",
    "    # Define cross-validation strategy\n",
    "    cv = StratifiedKFold(n_splits=5, shuffle=True, random_state=42)\n",
    "    \n",
    "    for encoder_name, encoder in encoders.items():\n",
    "        # Create a pipeline with the encoder and XGBClassifier\n",
    "        pipeline = make_pipeline(encoder, XGBClassifier(use_label_encoder=False))\n",
    "        \n",
    "        # Evaluate the pipeline\n",
    "        scores = cross_val_score(pipeline, X, y, cv=cv, scoring='f1')\n",
    "        \n",
    "        # Store the mean score and print the results\n",
    "        results[encoder_name] = scores.mean()\n",
    "        print(f\"{encoder_name}: Mean CV accuracy = {scores.mean():.4f} ± {scores.std():.4f}\")\n",
    "    \n",
    "    # Identify the best encoder\n",
    "    best_encoder_name = max(results, key=results.get)\n",
    "    print(f\"\\nBest encoder: {best_encoder_name} with accuracy = {results[best_encoder_name]:.4f}\")\n",
    "    \n",
    "    return best_encoder_name\n",
    "\n",
    "def evaluate_model(X, y):\n",
    "    X_train, X_val, y_train, y_val = train_test_split(X, y, test_size=0.2, random_state=42, stratify=y)\n",
    "\n",
    "    best_f1 = 0.0\n",
    "\n",
    "    model = XGBClassifier(random_state=42, enable_categorical=True)\n",
    "    model.fit(X_train, y_train, eval_set=[(X_train, y_train), (X_val, y_val)], verbose=0, early_stopping_rounds=25)\n",
    "    \n",
    "    y_pred = model.predict(X_val)\n",
    "    f1 = f1_score(y_val, y_pred)\n",
    "            \n",
    "    return f1\n"
   ]
  },
  {
   "cell_type": "code",
   "outputs": [
    {
     "name": "stdout",
     "output_type": "stream",
     "text": [
      "<class 'pandas.core.frame.DataFrame'>\n",
      "RangeIndex: 3040 entries, 0 to 3039\n",
      "Data columns (total 1 columns):\n",
      " #   Column                                                      Non-Null Count  Dtype   \n",
      "---  ------                                                      --------------  -----   \n",
      " 0   ewm_home_team_goals_conceded_x_ewm_shoton_home_home_binned  3024 non-null   category\n",
      "dtypes: category(1)\n",
      "memory usage: 3.3 KB\n"
     ]
    }
   ],
   "source": [
    "X = pd.read_csv('../../data/new_features/df_.csv')\n",
    "y = pd.read_csv('../../data/new_features/y.csv') \n",
    "\n",
    "for col in X.filter(like='_binned').columns:\n",
    "    X[col] = X[col].astype('category')\n",
    "\n",
    "X.filter(like='_binned').info()"
   ],
   "metadata": {
    "collapsed": false,
    "ExecuteTime": {
     "end_time": "2024-03-05T19:11:20.451538400Z",
     "start_time": "2024-03-05T19:11:20.406702800Z"
    }
   },
   "id": "6f9d03e43a038338",
   "execution_count": 3
  },
  {
   "cell_type": "code",
   "outputs": [
    {
     "data": {
      "text/plain": "0.6600138431251006"
     },
     "execution_count": 4,
     "metadata": {},
     "output_type": "execute_result"
    }
   ],
   "source": [
    "evaluate_model(X, y)"
   ],
   "metadata": {
    "collapsed": false,
    "ExecuteTime": {
     "end_time": "2024-03-05T19:11:20.623536400Z",
     "start_time": "2024-03-05T19:11:20.437541200Z"
    }
   },
   "id": "94c6f2a6be48addf",
   "execution_count": 4
  },
  {
   "cell_type": "code",
   "outputs": [
    {
     "name": "stdout",
     "output_type": "stream",
     "text": [
      "OneHotEncoder: Mean CV accuracy = 0.5559 ± 0.0132\n",
      "OrdinalEncoder: Mean CV accuracy = 0.5600 ± 0.0194\n",
      "TargetEncoder: Mean CV accuracy = 0.5624 ± 0.0064\n",
      "BinaryEncoder: Mean CV accuracy = 0.5641 ± 0.0258\n",
      "BaseNEncoder: Mean CV accuracy = 0.5641 ± 0.0258\n",
      "CatBoostEncoder: Mean CV accuracy = 0.5586 ± 0.0158\n",
      "\n",
      "Best encoder: BinaryEncoder with accuracy = 0.5641\n"
     ]
    }
   ],
   "source": [
    "# Define the encoders to evaluate\n",
    "encoders_to_evaluate = {\n",
    "    'OneHotEncoder': ce.OneHotEncoder(drop_invariant=True),\n",
    "    'OrdinalEncoder': ce.OrdinalEncoder(drop_invariant=True),\n",
    "    'TargetEncoder': ce.TargetEncoder(drop_invariant=True, ),\n",
    "    'BinaryEncoder': ce.BinaryEncoder(drop_invariant=True),\n",
    "    'BaseNEncoder': ce.BaseNEncoder(drop_invariant=True),\n",
    "    'CatBoostEncoder': ce.CatBoostEncoder(drop_invariant=True),\n",
    "}\n",
    "\n",
    "best_encoder = evaluate_categorical_encoders(X, y, encoders_to_evaluate)"
   ],
   "metadata": {
    "collapsed": false,
    "ExecuteTime": {
     "end_time": "2024-03-05T19:11:26.564240700Z",
     "start_time": "2024-03-05T19:11:20.612536500Z"
    }
   },
   "id": "359943f639041db9",
   "execution_count": 5
  },
  {
   "cell_type": "code",
   "outputs": [],
   "source": [],
   "metadata": {
    "collapsed": false,
    "ExecuteTime": {
     "end_time": "2024-03-05T19:11:26.577240700Z",
     "start_time": "2024-03-05T19:11:26.560240600Z"
    }
   },
   "id": "867f5a5e3aa1644e",
   "execution_count": 5
  },
  {
   "cell_type": "code",
   "outputs": [],
   "source": [],
   "metadata": {
    "collapsed": false,
    "ExecuteTime": {
     "end_time": "2024-03-05T19:11:26.608240800Z",
     "start_time": "2024-03-05T19:11:26.576240800Z"
    }
   },
   "id": "6c3859c7bcd30e1d",
   "execution_count": 5
  }
 ],
 "metadata": {
  "kernelspec": {
   "display_name": "Python 3",
   "language": "python",
   "name": "python3"
  },
  "language_info": {
   "codemirror_mode": {
    "name": "ipython",
    "version": 2
   },
   "file_extension": ".py",
   "mimetype": "text/x-python",
   "name": "python",
   "nbconvert_exporter": "python",
   "pygments_lexer": "ipython2",
   "version": "2.7.6"
  }
 },
 "nbformat": 4,
 "nbformat_minor": 5
}
