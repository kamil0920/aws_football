{
 "cells": [
  {
   "cell_type": "code",
   "execution_count": 1,
   "id": "initial_id",
   "metadata": {
    "collapsed": true,
    "ExecuteTime": {
     "end_time": "2024-02-05T17:53:09.636532900Z",
     "start_time": "2024-02-05T17:53:09.386745500Z"
    }
   },
   "outputs": [],
   "source": [
    "import numpy as np\n",
    "import pandas as pd\n",
    "from sklearn.model_selection import cross_val_score, StratifiedKFold\n",
    "from sklearn.pipeline import make_pipeline\n",
    "from sklearn.model_selection import train_test_split\n",
    "from sklearn.metrics import f1_score\n",
    "from xgboost import XGBClassifier\n",
    "import category_encoders as ce\n",
    "\n",
    "import warnings\n",
    "\n",
    "warnings.filterwarnings(\"ignore\")\n",
    "\n",
    "def evaluate_categorical_encoders(X, y, encoders, cv_folds=5):\n",
    "    \"\"\"\n",
    "    Evaluates different categorical encoders and returns the best one based on cross-validation scores.\n",
    "    \n",
    "    :param X: DataFrame with features, including categorical ones\n",
    "    :param y: Target variable\n",
    "    :param encoders: Dictionary of encoder names and their corresponding objects from category_encoders\n",
    "    :param cv_folds: Number of folds for cross-validation\n",
    "    :return: Name of the best encoder\n",
    "    \"\"\"\n",
    "    results = {}\n",
    "    \n",
    "    # Define cross-validation strategy\n",
    "    cv = StratifiedKFold(n_splits=5, shuffle=True, random_state=42)\n",
    "    \n",
    "    for encoder_name, encoder in encoders.items():\n",
    "        # Create a pipeline with the encoder and XGBClassifier\n",
    "        pipeline = make_pipeline(encoder, XGBClassifier(use_label_encoder=False, eval_metric='mlogloss'))\n",
    "        \n",
    "        # Evaluate the pipeline\n",
    "        scores = cross_val_score(pipeline, X, y, cv=cv, scoring='f1_weighted')\n",
    "        \n",
    "        # Store the mean score and print the results\n",
    "        results[encoder_name] = scores.mean()\n",
    "        print(f\"{encoder_name}: Mean CV accuracy = {scores.mean():.4f} ± {scores.std():.4f}\")\n",
    "    \n",
    "    # Identify the best encoder\n",
    "    best_encoder_name = max(results, key=results.get)\n",
    "    print(f\"\\nBest encoder: {best_encoder_name} with accuracy = {results[best_encoder_name]:.4f}\")\n",
    "    \n",
    "    return best_encoder_name\n",
    "\n",
    "def evaluate_model(X, y):\n",
    "    X_train, X_val, y_train, y_val = train_test_split(X, y, test_size=0.2, random_state=42, stratify=y)\n",
    "\n",
    "    best_f1 = 0.0\n",
    "\n",
    "    model = XGBClassifier(random_state=42, enable_categorical=True)\n",
    "    model.fit(X_train, y_train, eval_set=[(X_train, y_train), (X_val, y_val)], verbose=0, early_stopping_rounds=25)\n",
    "    \n",
    "    y_pred = model.predict(X_val)\n",
    "    f1 = f1_score(y_val, y_pred, average='weighted')\n",
    "            \n",
    "    return f1\n"
   ]
  },
  {
   "cell_type": "code",
   "outputs": [
    {
     "name": "stdout",
     "output_type": "stream",
     "text": [
      "<class 'pandas.core.frame.DataFrame'>\n",
      "RangeIndex: 3040 entries, 0 to 3039\n",
      "Data columns (total 5 columns):\n",
      " #   Column                                         Non-Null Count  Dtype   \n",
      "---  ------                                         --------------  -----   \n",
      " 0   avg_home_team_rating_x_ewm_shoton_away_binned  3022 non-null   category\n",
      " 1   average_rating_away_binned                     3040 non-null   category\n",
      " 2   average_rating_home_binned                     3040 non-null   category\n",
      " 3   ewm_possession_home_binned                     3024 non-null   category\n",
      " 4   avg_away_team_rating_binned                    3040 non-null   category\n",
      "dtypes: category(5)\n",
      "memory usage: 16.0 KB\n"
     ]
    }
   ],
   "source": [
    "X = pd.read_csv('../../data/binned/df.csv')\n",
    "y = pd.read_csv('../../data/binned/y.csv') \n",
    "\n",
    "for col in X.filter(like='_binned').columns:\n",
    "    X[col] = X[col].astype('category')\n",
    "\n",
    "X.filter(like='_binned').info()"
   ],
   "metadata": {
    "collapsed": false,
    "ExecuteTime": {
     "end_time": "2024-02-05T17:53:09.674087300Z",
     "start_time": "2024-02-05T17:53:09.638631300Z"
    }
   },
   "id": "6f9d03e43a038338",
   "execution_count": 2
  },
  {
   "cell_type": "code",
   "outputs": [
    {
     "data": {
      "text/plain": "0.6772014777016293"
     },
     "execution_count": 3,
     "metadata": {},
     "output_type": "execute_result"
    }
   ],
   "source": [
    "evaluate_model(X, y)"
   ],
   "metadata": {
    "collapsed": false,
    "ExecuteTime": {
     "end_time": "2024-02-05T17:53:09.838713200Z",
     "start_time": "2024-02-05T17:53:09.669933700Z"
    }
   },
   "id": "94c6f2a6be48addf",
   "execution_count": 3
  },
  {
   "cell_type": "code",
   "outputs": [
    {
     "name": "stdout",
     "output_type": "stream",
     "text": [
      "OneHotEncoder: Mean CV accuracy = 0.6237 ± 0.0107\n",
      "OrdinalEncoder: Mean CV accuracy = 0.6213 ± 0.0234\n",
      "TargetEncoder: Mean CV accuracy = 0.6259 ± 0.0149\n",
      "BinaryEncoder: Mean CV accuracy = 0.6277 ± 0.0144\n",
      "BaseNEncoder: Mean CV accuracy = 0.6277 ± 0.0144\n",
      "CatBoostEncoder: Mean CV accuracy = 0.6277 ± 0.0124\n",
      "\n",
      "Best encoder: CatBoostEncoder with accuracy = 0.6277\n"
     ]
    }
   ],
   "source": [
    "# Define the encoders to evaluate\n",
    "encoders_to_evaluate = {\n",
    "    'OneHotEncoder': ce.OneHotEncoder(drop_invariant=True),\n",
    "    'OrdinalEncoder': ce.OrdinalEncoder(drop_invariant=True),\n",
    "    'TargetEncoder': ce.TargetEncoder(drop_invariant=True, ),\n",
    "    'BinaryEncoder': ce.BinaryEncoder(drop_invariant=True),\n",
    "    'BaseNEncoder': ce.BaseNEncoder(drop_invariant=True),\n",
    "    'CatBoostEncoder': ce.CatBoostEncoder(drop_invariant=True),\n",
    "}\n",
    "\n",
    "best_encoder = evaluate_categorical_encoders(X, y, encoders_to_evaluate)"
   ],
   "metadata": {
    "collapsed": false,
    "ExecuteTime": {
     "end_time": "2024-02-05T17:54:02.344578600Z",
     "start_time": "2024-02-05T17:53:55.693096600Z"
    }
   },
   "id": "359943f639041db9",
   "execution_count": 7
  },
  {
   "cell_type": "code",
   "outputs": [],
   "source": [],
   "metadata": {
    "collapsed": false,
    "ExecuteTime": {
     "end_time": "2024-02-05T17:53:16.577237100Z",
     "start_time": "2024-02-05T17:53:16.560237Z"
    }
   },
   "id": "867f5a5e3aa1644e",
   "execution_count": 4
  },
  {
   "cell_type": "code",
   "outputs": [],
   "source": [],
   "metadata": {
    "collapsed": false,
    "ExecuteTime": {
     "end_time": "2024-02-05T17:53:16.592237200Z",
     "start_time": "2024-02-05T17:53:16.577237100Z"
    }
   },
   "id": "6c3859c7bcd30e1d",
   "execution_count": 4
  }
 ],
 "metadata": {
  "kernelspec": {
   "display_name": "Python 3",
   "language": "python",
   "name": "python3"
  },
  "language_info": {
   "codemirror_mode": {
    "name": "ipython",
    "version": 2
   },
   "file_extension": ".py",
   "mimetype": "text/x-python",
   "name": "python",
   "nbconvert_exporter": "python",
   "pygments_lexer": "ipython2",
   "version": "2.7.6"
  }
 },
 "nbformat": 4,
 "nbformat_minor": 5
}
