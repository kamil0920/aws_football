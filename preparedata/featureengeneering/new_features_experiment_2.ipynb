{
 "cells": [
  {
   "cell_type": "code",
   "outputs": [],
   "source": [
    "import pandas as pd\n",
    "import numpy as np\n",
    "\n",
    "from sklearn.model_selection import train_test_split\n",
    "from sklearn.experimental import enable_iterative_imputer\n",
    "from sklearn.impute import SimpleImputer, KNNImputer, IterativeImputer\n",
    "from sklearn.metrics import f1_score\n",
    "\n",
    "from xgboost import XGBClassifier\n",
    "\n",
    "import category_encoders as ce\n",
    "\n",
    "import warnings\n",
    "warnings.filterwarnings('ignore')"
   ],
   "metadata": {
    "collapsed": false,
    "ExecuteTime": {
     "end_time": "2024-01-27T17:24:20.312217400Z",
     "start_time": "2024-01-27T17:24:20.007957200Z"
    }
   },
   "id": "8b0486f411b2f0d5",
   "execution_count": 1
  },
  {
   "cell_type": "code",
   "outputs": [],
   "source": [
    "def evaluate_model(X_train, X_val, y_train, y_val):\n",
    "    encoder = ce.OneHotEncoder(cols=X_train.select_dtypes(include=['object', 'category']).columns, use_cat_names=True, drop_invariant=True, return_df=True)\n",
    "\n",
    "    X_train_encoded = encoder.fit_transform(X_train, y_train)\n",
    "    X_val_encoded = encoder.transform(X_val)\n",
    "    \n",
    "    model = XGBClassifier(random_state=42, enable_categorical=True, early_stopping_rounds=100)\n",
    "    model.fit(X_train_encoded, y_train, eval_set=[(X_train_encoded, y_train), (X_val_encoded, y_val)], verbose=0)\n",
    "    y_pred = model.predict(X_val_encoded)\n",
    "    return f1_score(y_val, y_pred, average='weighted')"
   ],
   "metadata": {
    "collapsed": false,
    "ExecuteTime": {
     "end_time": "2024-01-27T17:24:20.328421500Z",
     "start_time": "2024-01-27T17:24:20.315769400Z"
    }
   },
   "id": "9bebbe8c13bc7bf0",
   "execution_count": 2
  },
  {
   "cell_type": "code",
   "outputs": [
    {
     "name": "stdout",
     "output_type": "stream",
     "text": [
      "<class 'pandas.core.frame.DataFrame'>\n",
      "RangeIndex: 3040 entries, 0 to 3039\n",
      "Data columns (total 9 columns):\n",
      " #   Column                               Non-Null Count  Dtype   \n",
      "---  ------                               --------------  -----   \n",
      " 0   avg_home_rating_attack_binned        3040 non-null   category\n",
      " 1   avg_away_rating_attack_binned        3040 non-null   category\n",
      " 2   avg_away_rating_defence_binned       3040 non-null   category\n",
      " 3   avg_home_rating_defence_binned       3040 non-null   category\n",
      " 4   points_home_binned                   3040 non-null   category\n",
      " 5   home_weighted_wins_binned            3040 non-null   category\n",
      " 6   away_weighted_wins_binned            3040 non-null   category\n",
      " 7   ewm_home_team_goals_binned           3024 non-null   category\n",
      " 8   ewm_away_team_goals_conceded_binned  3022 non-null   category\n",
      "dtypes: category(9)\n",
      "memory usage: 28.6 KB\n"
     ]
    }
   ],
   "source": [
    "X = pd.read_csv('../../data/binned/df.csv')\n",
    "y = pd.read_csv('../../data/binned/y.csv')\n",
    "\n",
    "for col in X.filter(like='_binned').columns:\n",
    "    X[col] = X[col].astype('category')\n",
    "\n",
    "X.filter(like='_binned').info()"
   ],
   "metadata": {
    "collapsed": false,
    "ExecuteTime": {
     "end_time": "2024-01-27T17:24:20.381579900Z",
     "start_time": "2024-01-27T17:24:20.329464600Z"
    }
   },
   "id": "3570899593e529fc",
   "execution_count": 3
  },
  {
   "cell_type": "code",
   "outputs": [],
   "source": [
    "df = X.copy()"
   ],
   "metadata": {
    "collapsed": false,
    "ExecuteTime": {
     "end_time": "2024-01-27T17:24:20.381579900Z",
     "start_time": "2024-01-27T17:24:20.371217900Z"
    }
   },
   "id": "a7a3bc808b1e29e6",
   "execution_count": 4
  },
  {
   "cell_type": "code",
   "outputs": [],
   "source": [
    "epsilon = 0.0001\n",
    "\n",
    "# df['ewm_shoton_diff'] = df['ewm_shoton_home'] - df['ewm_shoton_away']\n",
    "df['ewm_shoton_ratio'] = df['ewm_shoton_home'] / (df['ewm_shoton_away'] + epsilon)"
   ],
   "metadata": {
    "collapsed": false,
    "ExecuteTime": {
     "end_time": "2024-01-27T17:24:20.434351100Z",
     "start_time": "2024-01-27T17:24:20.376382Z"
    }
   },
   "id": "6915604534977885",
   "execution_count": 5
  },
  {
   "cell_type": "code",
   "outputs": [],
   "source": [
    "df.drop(['ewm_shoton_home', 'ewm_shoton_away'], inplace=True, axis=1)"
   ],
   "metadata": {
    "collapsed": false,
    "ExecuteTime": {
     "end_time": "2024-01-27T17:24:20.456486100Z",
     "start_time": "2024-01-27T17:24:20.390941Z"
    }
   },
   "id": "1a12a24b143ce031",
   "execution_count": 6
  },
  {
   "cell_type": "code",
   "outputs": [],
   "source": [
    "X_train, X_val, y_train, y_val = train_test_split(df, y, test_size=0.2, random_state=42, stratify=y)"
   ],
   "metadata": {
    "collapsed": false,
    "ExecuteTime": {
     "end_time": "2024-01-27T17:24:20.456486100Z",
     "start_time": "2024-01-27T17:24:20.406513600Z"
    }
   },
   "id": "ed312bf992c66828",
   "execution_count": 7
  },
  {
   "cell_type": "code",
   "outputs": [
    {
     "data": {
      "text/plain": "0.4816862661207249"
     },
     "execution_count": 8,
     "metadata": {},
     "output_type": "execute_result"
    }
   ],
   "source": [
    "evaluate_model(X_train, X_val, y_train, y_val)"
   ],
   "metadata": {
    "collapsed": false,
    "ExecuteTime": {
     "end_time": "2024-01-27T17:24:21.090942500Z",
     "start_time": "2024-01-27T17:24:20.420974800Z"
    }
   },
   "id": "13095a2fda838271",
   "execution_count": 8
  },
  {
   "cell_type": "code",
   "outputs": [],
   "source": [
    "df_ = df.copy()"
   ],
   "metadata": {
    "collapsed": false,
    "ExecuteTime": {
     "end_time": "2024-01-27T16:58:24.676896300Z",
     "start_time": "2024-01-27T16:58:24.657498700Z"
    }
   },
   "id": "644eea768ce4fce2",
   "execution_count": 6
  },
  {
   "cell_type": "code",
   "outputs": [],
   "source": [
    "df_['ewm_shoton_diff'] = df_['ewm_shoton_home'] - df_['ewm_shoton_away']\n",
    "df_['ewm_shoton_ratio'] = df_['ewm_shoton_home'] / df_['ewm_shoton_away']"
   ],
   "metadata": {
    "collapsed": false,
    "ExecuteTime": {
     "end_time": "2024-01-27T16:58:24.711554Z",
     "start_time": "2024-01-27T16:58:24.672807400Z"
    }
   },
   "id": "72c87723e55fd398",
   "execution_count": 7
  },
  {
   "cell_type": "code",
   "outputs": [],
   "source": [
    "import statsmodels.api as sm\n",
    "\n",
    "df_ = df[['ewm_shoton_ratio', 'ewm_shoton_home', 'ewm_shoton_away']].copy()# Predictor variables # Target variable\n",
    "\n",
    "y_df = pd.DataFrame(y, columns=['result_match'])\n",
    "combined_df = pd.concat([df_, y_df], axis=1)\n",
    "\n",
    "combined_df.replace([np.inf, -np.inf], np.nan, inplace=True)\n",
    "\n",
    "# Drop rows with missing values in either features or target\n",
    "combined_df = combined_df.dropna()\n",
    "\n",
    "# Split the combined DataFrame back into features and target\n",
    "df_clean = combined_df.drop('result_match', axis=1)\n",
    "y_clean = combined_df['result_match']\n",
    "\n",
    "X_train, X_val, y_train, y_val = train_test_split(df_clean, y_clean, test_size=0.2, random_state=42, stratify=y_clean)\n",
    "\n",
    "X = sm.add_constant(X_train)  # Adding a constant\n",
    "model = sm.OLS(y_train, X_train).fit()"
   ],
   "metadata": {
    "collapsed": false,
    "ExecuteTime": {
     "end_time": "2024-01-27T17:00:33.175414Z",
     "start_time": "2024-01-27T17:00:33.138351700Z"
    }
   },
   "id": "7cddf07ea71b753c",
   "execution_count": 14
  },
  {
   "cell_type": "code",
   "outputs": [
    {
     "name": "stdout",
     "output_type": "stream",
     "text": [
      "                                 OLS Regression Results                                \n",
      "=======================================================================================\n",
      "Dep. Variable:           result_match   R-squared (uncentered):                   0.682\n",
      "Model:                            OLS   Adj. R-squared (uncentered):              0.682\n",
      "Method:                 Least Squares   F-statistic:                              1716.\n",
      "Date:                Sat, 27 Jan 2024   Prob (F-statistic):                        0.00\n",
      "Time:                        18:07:02   Log-Likelihood:                         -2908.5\n",
      "No. Observations:                2399   AIC:                                      5823.\n",
      "Df Residuals:                    2396   BIC:                                      5840.\n",
      "Df Model:                           3                                                  \n",
      "Covariance Type:            nonrobust                                                  \n",
      "====================================================================================\n",
      "                       coef    std err          t      P>|t|      [0.025      0.975]\n",
      "------------------------------------------------------------------------------------\n",
      "ewm_shoton_ratio     0.2225      0.046      4.853      0.000       0.133       0.312\n",
      "ewm_shoton_home      0.1853      0.016     11.634      0.000       0.154       0.217\n",
      "ewm_shoton_away     -0.0288      0.010     -2.768      0.006      -0.049      -0.008\n",
      "==============================================================================\n",
      "Omnibus:                     1160.308   Durbin-Watson:                   2.032\n",
      "Prob(Omnibus):                  0.000   Jarque-Bera (JB):              153.148\n",
      "Skew:                          -0.255   Prob(JB):                     5.55e-34\n",
      "Kurtosis:                       1.872   Cond. No.                         24.4\n",
      "==============================================================================\n",
      "\n",
      "Notes:\n",
      "[1] R² is computed without centering (uncentered) since the model does not contain a constant.\n",
      "[2] Standard Errors assume that the covariance matrix of the errors is correctly specified.\n"
     ]
    }
   ],
   "source": [
    "print(model.summary())"
   ],
   "metadata": {
    "collapsed": false,
    "ExecuteTime": {
     "end_time": "2024-01-27T17:07:02.454149400Z",
     "start_time": "2024-01-27T17:07:02.443380600Z"
    }
   },
   "id": "d816426d9334e810",
   "execution_count": 16
  },
  {
   "cell_type": "code",
   "outputs": [],
   "source": [
    "df_clean"
   ],
   "metadata": {
    "collapsed": false,
    "ExecuteTime": {
     "start_time": "2024-01-27T16:58:25.703483800Z"
    }
   },
   "id": "ed26af403d0020cc",
   "execution_count": null
  },
  {
   "cell_type": "code",
   "outputs": [
    {
     "name": "stdout",
     "output_type": "stream",
     "text": [
      "<class 'pandas.core.frame.DataFrame'>\n",
      "Index: 2404 entries, 2730 to 304\n",
      "Data columns (total 3 columns):\n",
      " #   Column            Non-Null Count  Dtype  \n",
      "---  ------            --------------  -----  \n",
      " 0   ewm_shoton_ratio  2404 non-null   float64\n",
      " 1   ewm_shoton_home   2404 non-null   float64\n",
      " 2   ewm_shoton_away   2404 non-null   float64\n",
      "dtypes: float64(3)\n",
      "memory usage: 75.1 KB\n"
     ]
    }
   ],
   "source": [
    "X_train.info()"
   ],
   "metadata": {
    "collapsed": false,
    "ExecuteTime": {
     "end_time": "2024-01-27T16:58:48.647598100Z",
     "start_time": "2024-01-27T16:58:48.604438700Z"
    }
   },
   "id": "36a79392e51c579e",
   "execution_count": 9
  },
  {
   "cell_type": "code",
   "outputs": [
    {
     "data": {
      "text/plain": "      ewm_shoton_ratio  ewm_shoton_home  ewm_shoton_away\n2730          0.896533            4.939            5.509\n1476          1.355184            5.189            3.829\n1428          1.969080            7.642            3.881\n482           1.502589            8.416            5.601\n1781          1.448695            7.384            5.097\n...                ...              ...              ...\n313           1.123301            6.778            6.034\n2892          1.568541            6.751            4.304\n1834          1.258340            7.355            5.845\n2832          0.842154            5.490            6.519\n304           0.491006            4.504            9.173\n\n[2404 rows x 3 columns]",
      "text/html": "<div>\n<style scoped>\n    .dataframe tbody tr th:only-of-type {\n        vertical-align: middle;\n    }\n\n    .dataframe tbody tr th {\n        vertical-align: top;\n    }\n\n    .dataframe thead th {\n        text-align: right;\n    }\n</style>\n<table border=\"1\" class=\"dataframe\">\n  <thead>\n    <tr style=\"text-align: right;\">\n      <th></th>\n      <th>ewm_shoton_ratio</th>\n      <th>ewm_shoton_home</th>\n      <th>ewm_shoton_away</th>\n    </tr>\n  </thead>\n  <tbody>\n    <tr>\n      <th>2730</th>\n      <td>0.896533</td>\n      <td>4.939</td>\n      <td>5.509</td>\n    </tr>\n    <tr>\n      <th>1476</th>\n      <td>1.355184</td>\n      <td>5.189</td>\n      <td>3.829</td>\n    </tr>\n    <tr>\n      <th>1428</th>\n      <td>1.969080</td>\n      <td>7.642</td>\n      <td>3.881</td>\n    </tr>\n    <tr>\n      <th>482</th>\n      <td>1.502589</td>\n      <td>8.416</td>\n      <td>5.601</td>\n    </tr>\n    <tr>\n      <th>1781</th>\n      <td>1.448695</td>\n      <td>7.384</td>\n      <td>5.097</td>\n    </tr>\n    <tr>\n      <th>...</th>\n      <td>...</td>\n      <td>...</td>\n      <td>...</td>\n    </tr>\n    <tr>\n      <th>313</th>\n      <td>1.123301</td>\n      <td>6.778</td>\n      <td>6.034</td>\n    </tr>\n    <tr>\n      <th>2892</th>\n      <td>1.568541</td>\n      <td>6.751</td>\n      <td>4.304</td>\n    </tr>\n    <tr>\n      <th>1834</th>\n      <td>1.258340</td>\n      <td>7.355</td>\n      <td>5.845</td>\n    </tr>\n    <tr>\n      <th>2832</th>\n      <td>0.842154</td>\n      <td>5.490</td>\n      <td>6.519</td>\n    </tr>\n    <tr>\n      <th>304</th>\n      <td>0.491006</td>\n      <td>4.504</td>\n      <td>9.173</td>\n    </tr>\n  </tbody>\n</table>\n<p>2404 rows × 3 columns</p>\n</div>"
     },
     "execution_count": 11,
     "metadata": {},
     "output_type": "execute_result"
    }
   ],
   "source": [
    "X_train.dropna()"
   ],
   "metadata": {
    "collapsed": false,
    "ExecuteTime": {
     "end_time": "2024-01-27T16:59:05.371307500Z",
     "start_time": "2024-01-27T16:59:05.344557400Z"
    }
   },
   "id": "bfd9c6eb725058c7",
   "execution_count": 11
  },
  {
   "cell_type": "code",
   "outputs": [],
   "source": [],
   "metadata": {
    "collapsed": false
   },
   "id": "e2f375a38f4b1e4e"
  }
 ],
 "metadata": {
  "kernelspec": {
   "display_name": "Python 3",
   "language": "python",
   "name": "python3"
  },
  "language_info": {
   "codemirror_mode": {
    "name": "ipython",
    "version": 2
   },
   "file_extension": ".py",
   "mimetype": "text/x-python",
   "name": "python",
   "nbconvert_exporter": "python",
   "pygments_lexer": "ipython2",
   "version": "2.7.6"
  }
 },
 "nbformat": 4,
 "nbformat_minor": 5
}
