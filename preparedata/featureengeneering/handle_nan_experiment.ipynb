{
 "cells": [
  {
   "cell_type": "code",
   "execution_count": 10,
   "id": "initial_id",
   "metadata": {
    "collapsed": true,
    "ExecuteTime": {
     "end_time": "2024-03-05T18:47:56.972958700Z",
     "start_time": "2024-03-05T18:47:56.958958100Z"
    }
   },
   "outputs": [],
   "source": [
    "import pandas as pd\n",
    "\n",
    "from sklearn.model_selection import train_test_split\n",
    "from sklearn.experimental import enable_iterative_imputer\n",
    "from sklearn.impute import SimpleImputer, KNNImputer, IterativeImputer\n",
    "from sklearn.metrics import f1_score\n",
    "\n",
    "from xgboost import XGBClassifier\n",
    "\n",
    "import category_encoders as ce\n",
    "\n",
    "import warnings\n",
    "warnings.filterwarnings('ignore')"
   ]
  },
  {
   "cell_type": "code",
   "outputs": [
    {
     "name": "stdout",
     "output_type": "stream",
     "text": [
      "<class 'pandas.core.frame.DataFrame'>\n",
      "RangeIndex: 3040 entries, 0 to 3039\n",
      "Empty DataFrame\n"
     ]
    }
   ],
   "source": [
    "X = pd.read_csv('../../data/start_dataset.csv')\n",
    "y = pd.read_csv('../../data/y.csv')\n",
    "\n",
    "# X = pd.read_csv('../../data/binned/df.csv')\n",
    "# y = pd.read_csv('../../data/binned/y.csv')\n",
    "\n",
    "for col in X.filter(like='_binned').columns:\n",
    "    X[col] = X[col].astype('category')\n",
    "\n",
    "X.filter(like='_binned').info()"
   ],
   "metadata": {
    "collapsed": false,
    "ExecuteTime": {
     "end_time": "2024-03-05T18:47:57.018960100Z",
     "start_time": "2024-03-05T18:47:56.975958200Z"
    }
   },
   "id": "63313287f8b216ad",
   "execution_count": 11
  },
  {
   "cell_type": "code",
   "outputs": [],
   "source": [
    "X_train, X_val, y_train, y_val = train_test_split(X, y, test_size=0.2, random_state=42, stratify=y)"
   ],
   "metadata": {
    "collapsed": false,
    "ExecuteTime": {
     "end_time": "2024-03-05T18:47:57.019958400Z",
     "start_time": "2024-03-05T18:47:57.003958100Z"
    }
   },
   "id": "562353c35bb8217b",
   "execution_count": 12
  },
  {
   "cell_type": "code",
   "outputs": [],
   "source": [
    "def evaluate_model(X_train, X_val, y_train, y_val):\n",
    "    # encoder = ce.OneHotEncoder(cols=X_train.select_dtypes(include=['object', 'category']).num_cols, use_cat_names=True, drop_invariant=True, return_df=True)\n",
    "\n",
    "    # X_train_encoded = encoder.fit_transform(X_train, y_train)\n",
    "    # X_val_encoded = encoder.transform(X_val)\n",
    "    \n",
    "    model = XGBClassifier(random_state=42, enable_categorical=True, early_stopping_rounds=100)\n",
    "    model.fit(X_train, y_train, eval_set=[(X_train, y_train), (X_val, y_val)], verbose=0)\n",
    "    y_pred = model.predict(X_val)\n",
    "    return f1_score(y_val, y_pred, average='weighted')"
   ],
   "metadata": {
    "collapsed": false,
    "ExecuteTime": {
     "end_time": "2024-03-05T18:47:57.041957600Z",
     "start_time": "2024-03-05T18:47:57.020959900Z"
    }
   },
   "id": "6cc12fd46979ebd3",
   "execution_count": 13
  },
  {
   "cell_type": "code",
   "outputs": [
    {
     "data": {
      "text/plain": "0.647575516121548"
     },
     "execution_count": 14,
     "metadata": {},
     "output_type": "execute_result"
    }
   ],
   "source": [
    "evaluate_model(X_train, X_val, y_train, y_val)"
   ],
   "metadata": {
    "collapsed": false,
    "ExecuteTime": {
     "end_time": "2024-03-05T18:47:57.263956500Z",
     "start_time": "2024-03-05T18:47:57.036960400Z"
    }
   },
   "id": "2182dbde1e9d237e",
   "execution_count": 14
  },
  {
   "cell_type": "code",
   "outputs": [
    {
     "name": "stdout",
     "output_type": "stream",
     "text": [
      "<class 'pandas.core.frame.DataFrame'>\n",
      "RangeIndex: 3040 entries, 0 to 3039\n",
      "Data columns (total 38 columns):\n",
      " #   Column                        Non-Null Count  Dtype  \n",
      "---  ------                        --------------  -----  \n",
      " 0   player_rating_home_player_1   3040 non-null   int64  \n",
      " 1   player_rating_home_player_2   3040 non-null   int64  \n",
      " 2   player_rating_home_player_3   3040 non-null   int64  \n",
      " 3   player_rating_home_player_4   3040 non-null   int64  \n",
      " 4   player_rating_home_player_5   3040 non-null   int64  \n",
      " 5   player_rating_home_player_6   3040 non-null   int64  \n",
      " 6   player_rating_home_player_7   3040 non-null   int64  \n",
      " 7   player_rating_home_player_8   3040 non-null   int64  \n",
      " 8   player_rating_home_player_9   3040 non-null   int64  \n",
      " 9   player_rating_home_player_10  3040 non-null   int64  \n",
      " 10  player_rating_home_player_11  3040 non-null   int64  \n",
      " 11  player_rating_away_player_1   3040 non-null   int64  \n",
      " 12  player_rating_away_player_2   3040 non-null   int64  \n",
      " 13  player_rating_away_player_3   3040 non-null   int64  \n",
      " 14  player_rating_away_player_4   3040 non-null   int64  \n",
      " 15  player_rating_away_player_5   3040 non-null   int64  \n",
      " 16  player_rating_away_player_6   3040 non-null   int64  \n",
      " 17  player_rating_away_player_7   3040 non-null   int64  \n",
      " 18  player_rating_away_player_8   3040 non-null   int64  \n",
      " 19  player_rating_away_player_9   3040 non-null   int64  \n",
      " 20  player_rating_away_player_10  3040 non-null   int64  \n",
      " 21  player_rating_away_player_11  3040 non-null   int64  \n",
      " 22  ewm_home_team_goals           3024 non-null   float64\n",
      " 23  ewm_away_team_goals           3022 non-null   float64\n",
      " 24  ewm_home_team_goals_conceded  3024 non-null   float64\n",
      " 25  ewm_away_team_goals_conceded  3022 non-null   float64\n",
      " 26  points_home                   3040 non-null   int64  \n",
      " 27  points_away                   3040 non-null   int64  \n",
      " 28  home_weighted_wins            3040 non-null   float64\n",
      " 29  away_weighted_wins            3040 non-null   float64\n",
      " 30  avg_home_team_rating          3040 non-null   float64\n",
      " 31  avg_away_team_rating          3040 non-null   float64\n",
      " 32  home_streak_wins              3040 non-null   float64\n",
      " 33  away_streak_wins              3040 non-null   float64\n",
      " 34  ewm_shoton_home               3024 non-null   float64\n",
      " 35  ewm_shoton_away               3022 non-null   float64\n",
      " 36  ewm_possession_home           3024 non-null   float64\n",
      " 37  ewm_possession_away           3022 non-null   float64\n",
      "dtypes: float64(14), int64(24)\n",
      "memory usage: 902.6 KB\n"
     ]
    }
   ],
   "source": [
    "X.info()"
   ],
   "metadata": {
    "collapsed": false,
    "ExecuteTime": {
     "end_time": "2024-03-05T18:47:57.299956600Z",
     "start_time": "2024-03-05T18:47:57.258956500Z"
    }
   },
   "id": "1304613432e04281",
   "execution_count": 15
  },
  {
   "cell_type": "code",
   "outputs": [],
   "source": [
    "def evaluate_imputation(imputer, X_train, X_val, y_train, y_val, num_cols, cat_cols):\n",
    "    X_train = X_train.reset_index(drop=True)\n",
    "    X_val = X_val.reset_index(drop=True)\n",
    "    y_train = y_train.reset_index(drop=True)\n",
    "    y_val = y_val.reset_index(drop=True)\n",
    "    \n",
    "    X_train_num = pd.DataFrame(imputer.fit_transform(X_train[num_cols]), columns=num_cols)\n",
    "    X_val_num = pd.DataFrame(imputer.transform(X_val[num_cols]), columns=num_cols)\n",
    "\n",
    "    if len(cat_cols) is not 0:\n",
    "        categorical_columns = ['avg_home_team_rating_x_ewm_shoton_away_binned', 'average_rating_away_binned', 'average_rating_home_binned', 'ewm_possession_home_binned', 'avg_away_team_rating_binned']\n",
    "\n",
    "        for column in categorical_columns:\n",
    "            X_train_num[column] = X_train[column].cat.add_categories('Missing').fillna('Missing')\n",
    "            X_val_num[column] = X_val[column].cat.add_categories('Missing').fillna('Missing')\n",
    "\n",
    "    f1 = evaluate_model(X_train_num, X_val_num, y_train, y_val)\n",
    "\n",
    "    return f1"
   ],
   "metadata": {
    "collapsed": false,
    "ExecuteTime": {
     "end_time": "2024-03-05T18:47:57.299956600Z",
     "start_time": "2024-03-05T18:47:57.273956500Z"
    }
   },
   "id": "23dd26c9f2a5b560",
   "execution_count": 16
  },
  {
   "cell_type": "code",
   "outputs": [],
   "source": [
    "num_cols = X_train.select_dtypes(include='number').columns.tolist()\n",
    "cat_cols = X_train.select_dtypes(exclude='number').columns.tolist()"
   ],
   "metadata": {
    "collapsed": false,
    "ExecuteTime": {
     "end_time": "2024-03-05T18:47:57.317956500Z",
     "start_time": "2024-03-05T18:47:57.289956600Z"
    }
   },
   "id": "61af9095a0b22c93",
   "execution_count": 17
  },
  {
   "cell_type": "code",
   "outputs": [
    {
     "name": "stdout",
     "output_type": "stream",
     "text": [
      "KNN (n_neighbors=2, weights=uniform) Imputation: F1 Score = 0.6395870535080364\n",
      "KNN (n_neighbors=2, weights=distance) Imputation: F1 Score = 0.6395870535080364\n",
      "KNN (n_neighbors=5, weights=uniform) Imputation: F1 Score = 0.6446970296879813\n",
      "KNN (n_neighbors=5, weights=distance) Imputation: F1 Score = 0.6672692154770643\n",
      "KNN (n_neighbors=10, weights=uniform) Imputation: F1 Score = 0.6520448644556279\n",
      "KNN (n_neighbors=10, weights=distance) Imputation: F1 Score = 0.6188444708521674\n",
      "Iterative (initial_strategy=mean, max_iter=10, n_nearest_features=1) Imputation: F1 Score = 0.6316723090883708\n",
      "Iterative (initial_strategy=mean, max_iter=10, n_nearest_features=3) Imputation: F1 Score = 0.6474046910279336\n",
      "Iterative (initial_strategy=mean, max_iter=10, n_nearest_features=5) Imputation: F1 Score = 0.6273095002339423\n",
      "Iterative (initial_strategy=mean, max_iter=10, n_nearest_features=7) Imputation: F1 Score = 0.6420969905089159\n",
      "Iterative (initial_strategy=mean, max_iter=10, n_nearest_features=10) Imputation: F1 Score = 0.6451854050476152\n",
      "Iterative (initial_strategy=mean, max_iter=20, n_nearest_features=1) Imputation: F1 Score = 0.6341616747285134\n",
      "Iterative (initial_strategy=mean, max_iter=20, n_nearest_features=3) Imputation: F1 Score = 0.6569045702209636\n",
      "Iterative (initial_strategy=mean, max_iter=20, n_nearest_features=5) Imputation: F1 Score = 0.6577322667132949\n",
      "Iterative (initial_strategy=mean, max_iter=20, n_nearest_features=7) Imputation: F1 Score = 0.6084892576809566\n",
      "Iterative (initial_strategy=mean, max_iter=20, n_nearest_features=10) Imputation: F1 Score = 0.6270701850227866\n",
      "Iterative (initial_strategy=mean, max_iter=30, n_nearest_features=1) Imputation: F1 Score = 0.6587522310945119\n",
      "Iterative (initial_strategy=mean, max_iter=30, n_nearest_features=3) Imputation: F1 Score = 0.657926200359389\n",
      "Iterative (initial_strategy=mean, max_iter=30, n_nearest_features=5) Imputation: F1 Score = 0.6345329186482939\n",
      "Iterative (initial_strategy=mean, max_iter=30, n_nearest_features=7) Imputation: F1 Score = 0.657926200359389\n",
      "Iterative (initial_strategy=mean, max_iter=30, n_nearest_features=10) Imputation: F1 Score = 0.6414008960289245\n",
      "Iterative (initial_strategy=median, max_iter=10, n_nearest_features=1) Imputation: F1 Score = 0.6492951342596204\n",
      "Iterative (initial_strategy=median, max_iter=10, n_nearest_features=3) Imputation: F1 Score = 0.6451854050476152\n",
      "Iterative (initial_strategy=median, max_iter=10, n_nearest_features=5) Imputation: F1 Score = 0.6369079878035054\n",
      "Iterative (initial_strategy=median, max_iter=10, n_nearest_features=7) Imputation: F1 Score = 0.6122785632505569\n",
      "Iterative (initial_strategy=median, max_iter=10, n_nearest_features=10) Imputation: F1 Score = 0.6314857134306461\n",
      "Iterative (initial_strategy=median, max_iter=20, n_nearest_features=1) Imputation: F1 Score = 0.663958461402209\n",
      "Iterative (initial_strategy=median, max_iter=20, n_nearest_features=3) Imputation: F1 Score = 0.6206838913492124\n",
      "Iterative (initial_strategy=median, max_iter=20, n_nearest_features=5) Imputation: F1 Score = 0.636344149848305\n",
      "Iterative (initial_strategy=median, max_iter=20, n_nearest_features=7) Imputation: F1 Score = 0.6353447102092165\n",
      "Iterative (initial_strategy=median, max_iter=20, n_nearest_features=10) Imputation: F1 Score = 0.6387676601880685\n",
      "Iterative (initial_strategy=median, max_iter=30, n_nearest_features=1) Imputation: F1 Score = 0.6237552533341001\n",
      "Iterative (initial_strategy=median, max_iter=30, n_nearest_features=3) Imputation: F1 Score = 0.6351683613514579\n",
      "Iterative (initial_strategy=median, max_iter=30, n_nearest_features=5) Imputation: F1 Score = 0.6341013379035825\n",
      "Iterative (initial_strategy=median, max_iter=30, n_nearest_features=7) Imputation: F1 Score = 0.6400907256819052\n",
      "Iterative (initial_strategy=median, max_iter=30, n_nearest_features=10) Imputation: F1 Score = 0.6494000098561009\n",
      "Iterative (initial_strategy=most_frequent, max_iter=10, n_nearest_features=1) Imputation: F1 Score = 0.6418093208570456\n",
      "Iterative (initial_strategy=most_frequent, max_iter=10, n_nearest_features=3) Imputation: F1 Score = 0.6321617138530923\n",
      "Iterative (initial_strategy=most_frequent, max_iter=10, n_nearest_features=5) Imputation: F1 Score = 0.6287796692255266\n",
      "Iterative (initial_strategy=most_frequent, max_iter=10, n_nearest_features=7) Imputation: F1 Score = 0.6375242643673936\n",
      "Iterative (initial_strategy=most_frequent, max_iter=10, n_nearest_features=10) Imputation: F1 Score = 0.6411173282042315\n",
      "Iterative (initial_strategy=most_frequent, max_iter=20, n_nearest_features=1) Imputation: F1 Score = 0.636773589513075\n",
      "Iterative (initial_strategy=most_frequent, max_iter=20, n_nearest_features=3) Imputation: F1 Score = 0.6548036148050557\n",
      "Iterative (initial_strategy=most_frequent, max_iter=20, n_nearest_features=5) Imputation: F1 Score = 0.6481969854233344\n",
      "Iterative (initial_strategy=most_frequent, max_iter=20, n_nearest_features=7) Imputation: F1 Score = 0.660437544657592\n",
      "Iterative (initial_strategy=most_frequent, max_iter=20, n_nearest_features=10) Imputation: F1 Score = 0.642646700785869\n",
      "Iterative (initial_strategy=most_frequent, max_iter=30, n_nearest_features=1) Imputation: F1 Score = 0.6330212395655397\n",
      "Iterative (initial_strategy=most_frequent, max_iter=30, n_nearest_features=3) Imputation: F1 Score = 0.6273095002339423\n",
      "Iterative (initial_strategy=most_frequent, max_iter=30, n_nearest_features=5) Imputation: F1 Score = 0.6246688233842886\n",
      "Iterative (initial_strategy=most_frequent, max_iter=30, n_nearest_features=7) Imputation: F1 Score = 0.6372479135610372\n",
      "Iterative (initial_strategy=most_frequent, max_iter=30, n_nearest_features=10) Imputation: F1 Score = 0.6370149800888455\n"
     ]
    }
   ],
   "source": [
    "from sklearn.model_selection import ParameterGrid\n",
    "\n",
    "# Define parameter grids for each imputer\n",
    "knn_params = {\n",
    "    'n_neighbors': [2, 5, 10],\n",
    "    'weights': ['uniform', 'distance']\n",
    "}\n",
    "\n",
    "iterative_params = {\n",
    "    'max_iter': [10, 20, 30],\n",
    "    'initial_strategy': ['mean', 'median', 'most_frequent'],\n",
    "    'n_nearest_features': [1, 3, 5, 7, 10]\n",
    "}\n",
    "\n",
    "# Imputers to test with their corresponding parameter grids\n",
    "imputers_to_test = [\n",
    "    ('KNN', KNNImputer, knn_params),\n",
    "    ('Iterative', IterativeImputer, iterative_params)\n",
    "]\n",
    "\n",
    "f1_scores = {}\n",
    "\n",
    "for name, imputer_class, params in imputers_to_test:\n",
    "    for param_set in ParameterGrid(params):\n",
    "        # Create an imputer instance with the current set of parameters\n",
    "        imputer = imputer_class(**param_set)\n",
    "\n",
    "        # Evaluate the imputation method\n",
    "        f1 = evaluate_imputation(imputer, X_train, X_val, y_train, y_val, num_cols, cat_cols)\n",
    "        \n",
    "        # Store the F1 score with a name indicating the imputer and parameter set\n",
    "        param_set_str = ', '.join(f'{key}={value}' for key, value in param_set.items())\n",
    "        f1_scores[f'{name} ({param_set_str})'] = f1\n",
    "\n",
    "# Print the results\n",
    "for name, score in f1_scores.items():\n",
    "    print(f\"{name} Imputation: F1 Score = {score}\")"
   ],
   "metadata": {
    "collapsed": false,
    "ExecuteTime": {
     "end_time": "2024-03-05T18:49:05.714954800Z",
     "start_time": "2024-03-05T18:47:57.304956500Z"
    }
   },
   "id": "fd2d7289710d18d0",
   "execution_count": 18
  },
  {
   "cell_type": "code",
   "outputs": [],
   "source": [
    "knn = KNNImputer(weights='distance')\n",
    "knn.fit(X_train)"
   ],
   "metadata": {
    "collapsed": false
   },
   "id": "5e2a171acb2364e0"
  },
  {
   "cell_type": "code",
   "outputs": [
    {
     "ename": "NameError",
     "evalue": "name 'knn_imputer' is not defined",
     "output_type": "error",
     "traceback": [
      "\u001B[1;31m---------------------------------------------------------------------------\u001B[0m",
      "\u001B[1;31mNameError\u001B[0m                                 Traceback (most recent call last)",
      "Cell \u001B[1;32mIn[19], line 8\u001B[0m\n\u001B[0;32m      5\u001B[0m \u001B[38;5;28;01mif\u001B[39;00m \u001B[38;5;129;01mnot\u001B[39;00m os\u001B[38;5;241m.\u001B[39mpath\u001B[38;5;241m.\u001B[39mexists(output_dir):\n\u001B[0;32m      6\u001B[0m     os\u001B[38;5;241m.\u001B[39mmakedirs(output_dir)\n\u001B[1;32m----> 8\u001B[0m X_imputed \u001B[38;5;241m=\u001B[39m pd\u001B[38;5;241m.\u001B[39mDataFrame(\u001B[43mknn_imputer\u001B[49m\u001B[38;5;241m.\u001B[39mfit_transform(X), columns\u001B[38;5;241m=\u001B[39mX\u001B[38;5;241m.\u001B[39mcolumns)\n\u001B[0;32m     10\u001B[0m X_imputed\u001B[38;5;241m.\u001B[39mto_csv(output_dir \u001B[38;5;241m+\u001B[39m \u001B[38;5;124m\"\u001B[39m\u001B[38;5;124mdf.csv\u001B[39m\u001B[38;5;124m\"\u001B[39m, index\u001B[38;5;241m=\u001B[39m\u001B[38;5;28;01mFalse\u001B[39;00m)\n\u001B[0;32m     11\u001B[0m y\u001B[38;5;241m.\u001B[39mto_csv(output_dir \u001B[38;5;241m+\u001B[39m \u001B[38;5;124m'\u001B[39m\u001B[38;5;124my.csv\u001B[39m\u001B[38;5;124m'\u001B[39m, index\u001B[38;5;241m=\u001B[39m\u001B[38;5;28;01mFalse\u001B[39;00m)\n",
      "\u001B[1;31mNameError\u001B[0m: name 'knn_imputer' is not defined"
     ]
    }
   ],
   "source": [
    "import os\n",
    "\n",
    "output_dir = \"../../data/imputed/\"\n",
    "\n",
    "if not os.path.exists(output_dir):\n",
    "    os.makedirs(output_dir)\n",
    "\n",
    "X_imputed = pd.DataFrame(knn_imputer.fit_transform(X), columns=X.columns)\n",
    "\n",
    "X_imputed.to_csv(output_dir + \"df.csv\", index=False)\n",
    "y.to_csv(output_dir + 'y.csv', index=False)"
   ],
   "metadata": {
    "collapsed": false,
    "ExecuteTime": {
     "end_time": "2024-03-05T18:49:05.777954700Z",
     "start_time": "2024-03-05T18:49:05.716954900Z"
    }
   },
   "id": "9a5f3e4b3d639ebe",
   "execution_count": 19
  },
  {
   "cell_type": "code",
   "outputs": [],
   "source": [],
   "metadata": {
    "collapsed": false,
    "ExecuteTime": {
     "start_time": "2024-03-05T18:49:05.764954600Z"
    }
   },
   "id": "9d645d0133249fb7",
   "execution_count": null
  }
 ],
 "metadata": {
  "kernelspec": {
   "display_name": "Python 3",
   "language": "python",
   "name": "python3"
  },
  "language_info": {
   "codemirror_mode": {
    "name": "ipython",
    "version": 2
   },
   "file_extension": ".py",
   "mimetype": "text/x-python",
   "name": "python",
   "nbconvert_exporter": "python",
   "pygments_lexer": "ipython2",
   "version": "2.7.6"
  }
 },
 "nbformat": 4,
 "nbformat_minor": 5
}
