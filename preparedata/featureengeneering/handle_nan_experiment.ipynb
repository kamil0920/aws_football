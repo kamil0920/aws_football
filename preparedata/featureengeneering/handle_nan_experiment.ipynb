{
 "cells": [
  {
   "cell_type": "code",
   "execution_count": 1,
   "id": "initial_id",
   "metadata": {
    "collapsed": true,
    "ExecuteTime": {
     "end_time": "2024-03-12T16:57:44.311503300Z",
     "start_time": "2024-03-12T16:57:44.016745200Z"
    }
   },
   "outputs": [],
   "source": [
    "import pandas as pd\n",
    "\n",
    "from sklearn.model_selection import train_test_split\n",
    "from sklearn.experimental import enable_iterative_imputer\n",
    "from sklearn.impute import SimpleImputer, KNNImputer, IterativeImputer\n",
    "from sklearn.metrics import f1_score\n",
    "\n",
    "from xgboost import XGBClassifier\n",
    "\n",
    "import category_encoders as ce\n",
    "\n",
    "import warnings\n",
    "warnings.filterwarnings('ignore')"
   ]
  },
  {
   "cell_type": "code",
   "outputs": [
    {
     "name": "stdout",
     "output_type": "stream",
     "text": [
      "<class 'pandas.core.frame.DataFrame'>\n",
      "RangeIndex: 6079 entries, 0 to 6078\n",
      "Empty DataFrame\n"
     ]
    }
   ],
   "source": [
    "X = pd.read_csv('../../data/start_dataset.csv')\n",
    "y = pd.read_csv('../../data/y.csv')\n",
    "\n",
    "# X = pd.read_csv('../../data/binned/df.csv')\n",
    "# y = pd.read_csv('../../data/binned/y.csv')\n",
    "\n",
    "for col in X.filter(like='_binned').columns:\n",
    "    X[col] = X[col].astype('category')\n",
    "\n",
    "X.filter(like='_binned').info()"
   ],
   "metadata": {
    "collapsed": false,
    "ExecuteTime": {
     "end_time": "2024-03-12T16:57:44.343502300Z",
     "start_time": "2024-03-12T16:57:44.312506600Z"
    }
   },
   "id": "63313287f8b216ad",
   "execution_count": 2
  },
  {
   "cell_type": "code",
   "outputs": [],
   "source": [
    "X_train, X_val, y_train, y_val = train_test_split(X, y, test_size=0.2, random_state=42, stratify=y)"
   ],
   "metadata": {
    "collapsed": false,
    "ExecuteTime": {
     "end_time": "2024-03-12T16:57:44.379503700Z",
     "start_time": "2024-03-12T16:57:44.343502300Z"
    }
   },
   "id": "562353c35bb8217b",
   "execution_count": 3
  },
  {
   "cell_type": "code",
   "outputs": [],
   "source": [
    "def evaluate_model(X_train, X_val, y_train, y_val):\n",
    "    # encoder = ce.OneHotEncoder(cols=X_train.select_dtypes(include=['object', 'category']).num_cols, use_cat_names=True, drop_invariant=True, return_df=True)\n",
    "\n",
    "    # X_train_encoded = encoder.fit_transform(X_train, y_train)\n",
    "    # X_val_encoded = encoder.transform(X_val)\n",
    "    \n",
    "    model = XGBClassifier(random_state=42, enable_categorical=True, early_stopping_rounds=100)\n",
    "    model.fit(X_train, y_train, eval_set=[(X_train, y_train), (X_val, y_val)], verbose=0)\n",
    "    y_pred = model.predict(X_val)\n",
    "    return f1_score(y_val, y_pred)"
   ],
   "metadata": {
    "collapsed": false,
    "ExecuteTime": {
     "end_time": "2024-03-12T16:57:44.389503700Z",
     "start_time": "2024-03-12T16:57:44.374504900Z"
    }
   },
   "id": "6cc12fd46979ebd3",
   "execution_count": 4
  },
  {
   "cell_type": "code",
   "outputs": [
    {
     "data": {
      "text/plain": "0.590990990990991"
     },
     "execution_count": 5,
     "metadata": {},
     "output_type": "execute_result"
    }
   ],
   "source": [
    "evaluate_model(X_train, X_val, y_train, y_val)"
   ],
   "metadata": {
    "collapsed": false,
    "ExecuteTime": {
     "end_time": "2024-03-12T16:57:44.670502500Z",
     "start_time": "2024-03-12T16:57:44.388504500Z"
    }
   },
   "id": "2182dbde1e9d237e",
   "execution_count": 5
  },
  {
   "cell_type": "code",
   "outputs": [
    {
     "name": "stdout",
     "output_type": "stream",
     "text": [
      "<class 'pandas.core.frame.DataFrame'>\n",
      "RangeIndex: 6079 entries, 0 to 6078\n",
      "Data columns (total 38 columns):\n",
      " #   Column                        Non-Null Count  Dtype  \n",
      "---  ------                        --------------  -----  \n",
      " 0   player_rating_home_player_1   6079 non-null   int64  \n",
      " 1   player_rating_home_player_2   6079 non-null   int64  \n",
      " 2   player_rating_home_player_3   6079 non-null   int64  \n",
      " 3   player_rating_home_player_4   6079 non-null   int64  \n",
      " 4   player_rating_home_player_5   6079 non-null   int64  \n",
      " 5   player_rating_home_player_6   6079 non-null   int64  \n",
      " 6   player_rating_home_player_7   6079 non-null   int64  \n",
      " 7   player_rating_home_player_8   6079 non-null   int64  \n",
      " 8   player_rating_home_player_9   6079 non-null   int64  \n",
      " 9   player_rating_home_player_10  6079 non-null   int64  \n",
      " 10  player_rating_home_player_11  6079 non-null   int64  \n",
      " 11  player_rating_away_player_1   6079 non-null   int64  \n",
      " 12  player_rating_away_player_2   6079 non-null   int64  \n",
      " 13  player_rating_away_player_3   6079 non-null   int64  \n",
      " 14  player_rating_away_player_4   6079 non-null   int64  \n",
      " 15  player_rating_away_player_5   6079 non-null   int64  \n",
      " 16  player_rating_away_player_6   6079 non-null   int64  \n",
      " 17  player_rating_away_player_7   6079 non-null   int64  \n",
      " 18  player_rating_away_player_8   6079 non-null   int64  \n",
      " 19  player_rating_away_player_9   6079 non-null   int64  \n",
      " 20  player_rating_away_player_10  6079 non-null   int64  \n",
      " 21  player_rating_away_player_11  6079 non-null   int64  \n",
      " 22  ewm_home_team_goals           6046 non-null   float64\n",
      " 23  ewm_away_team_goals           6045 non-null   float64\n",
      " 24  ewm_home_team_goals_conceded  6046 non-null   float64\n",
      " 25  ewm_away_team_goals_conceded  6045 non-null   float64\n",
      " 26  points_home                   6079 non-null   int64  \n",
      " 27  points_away                   6079 non-null   int64  \n",
      " 28  home_weighted_wins            6079 non-null   float64\n",
      " 29  away_weighted_wins            6079 non-null   float64\n",
      " 30  avg_home_team_rating          6079 non-null   float64\n",
      " 31  avg_away_team_rating          6079 non-null   float64\n",
      " 32  home_streak_wins              6079 non-null   float64\n",
      " 33  away_streak_wins              6079 non-null   float64\n",
      " 34  ewm_shoton_home               6046 non-null   float64\n",
      " 35  ewm_shoton_away               6045 non-null   float64\n",
      " 36  ewm_possession_home           6046 non-null   float64\n",
      " 37  ewm_possession_away           6045 non-null   float64\n",
      "dtypes: float64(14), int64(24)\n",
      "memory usage: 1.8 MB\n"
     ]
    }
   ],
   "source": [
    "X.info()"
   ],
   "metadata": {
    "collapsed": false,
    "ExecuteTime": {
     "end_time": "2024-03-12T16:57:44.697503700Z",
     "start_time": "2024-03-12T16:57:44.666503300Z"
    }
   },
   "id": "1304613432e04281",
   "execution_count": 6
  },
  {
   "cell_type": "code",
   "outputs": [],
   "source": [
    "def evaluate_imputation(imputer, X_train, X_val, y_train, y_val, num_cols, cat_cols):\n",
    "    X_train = X_train.reset_index(drop=True)\n",
    "    X_val = X_val.reset_index(drop=True)\n",
    "    y_train = y_train.reset_index(drop=True)\n",
    "    y_val = y_val.reset_index(drop=True)\n",
    "    \n",
    "    X_train_num = pd.DataFrame(imputer.fit_transform(X_train[num_cols]), columns=num_cols)\n",
    "    X_val_num = pd.DataFrame(imputer.transform(X_val[num_cols]), columns=num_cols)\n",
    "\n",
    "    if len(cat_cols) is not 0:\n",
    "        categorical_columns = ['avg_home_team_rating_x_ewm_shoton_away_binned', 'average_rating_away_binned', 'average_rating_home_binned', 'ewm_possession_home_binned', 'avg_away_team_rating_binned']\n",
    "\n",
    "        for column in categorical_columns:\n",
    "            X_train_num[column] = X_train[column].cat.add_categories('Missing').fillna('Missing')\n",
    "            X_val_num[column] = X_val[column].cat.add_categories('Missing').fillna('Missing')\n",
    "\n",
    "    f1 = evaluate_model(X_train_num, X_val_num, y_train, y_val)\n",
    "\n",
    "    return f1"
   ],
   "metadata": {
    "collapsed": false,
    "ExecuteTime": {
     "end_time": "2024-03-12T16:57:44.699502500Z",
     "start_time": "2024-03-12T16:57:44.683502500Z"
    }
   },
   "id": "23dd26c9f2a5b560",
   "execution_count": 7
  },
  {
   "cell_type": "code",
   "outputs": [],
   "source": [
    "num_cols = X_train.select_dtypes(include='number').columns.tolist()\n",
    "cat_cols = X_train.select_dtypes(exclude='number').columns.tolist()"
   ],
   "metadata": {
    "collapsed": false,
    "ExecuteTime": {
     "end_time": "2024-03-12T16:57:44.718502800Z",
     "start_time": "2024-03-12T16:57:44.698503400Z"
    }
   },
   "id": "61af9095a0b22c93",
   "execution_count": 8
  },
  {
   "cell_type": "code",
   "outputs": [
    {
     "name": "stdout",
     "output_type": "stream",
     "text": [
      "KNN (n_neighbors=2, weights=uniform) Imputation: F1 Score = 0.5934065934065934\n",
      "KNN (n_neighbors=2, weights=distance) Imputation: F1 Score = 0.5924563017479301\n",
      "KNN (n_neighbors=5, weights=uniform) Imputation: F1 Score = 0.589648798521257\n",
      "KNN (n_neighbors=5, weights=distance) Imputation: F1 Score = 0.6175687666370896\n",
      "KNN (n_neighbors=10, weights=uniform) Imputation: F1 Score = 0.5852749301025163\n",
      "KNN (n_neighbors=10, weights=distance) Imputation: F1 Score = 0.5847299813780261\n",
      "Iterative (initial_strategy=mean, max_iter=10, n_nearest_features=1) Imputation: F1 Score = 0.5888787602552416\n",
      "Iterative (initial_strategy=mean, max_iter=10, n_nearest_features=3) Imputation: F1 Score = 0.583804143126177\n",
      "Iterative (initial_strategy=mean, max_iter=10, n_nearest_features=5) Imputation: F1 Score = 0.5952380952380952\n",
      "Iterative (initial_strategy=mean, max_iter=10, n_nearest_features=7) Imputation: F1 Score = 0.5957836846929423\n",
      "Iterative (initial_strategy=mean, max_iter=10, n_nearest_features=10) Imputation: F1 Score = 0.5981308411214953\n",
      "Iterative (initial_strategy=mean, max_iter=20, n_nearest_features=1) Imputation: F1 Score = 0.5808325266214908\n",
      "Iterative (initial_strategy=mean, max_iter=20, n_nearest_features=3) Imputation: F1 Score = 0.6067827681026581\n",
      "Iterative (initial_strategy=mean, max_iter=20, n_nearest_features=5) Imputation: F1 Score = 0.5940959409594095\n",
      "Iterative (initial_strategy=mean, max_iter=20, n_nearest_features=7) Imputation: F1 Score = 0.5910338517840805\n",
      "Iterative (initial_strategy=mean, max_iter=20, n_nearest_features=10) Imputation: F1 Score = 0.6018348623853211\n",
      "Iterative (initial_strategy=mean, max_iter=30, n_nearest_features=1) Imputation: F1 Score = 0.5876865671641791\n",
      "Iterative (initial_strategy=mean, max_iter=30, n_nearest_features=3) Imputation: F1 Score = 0.5901942645698427\n",
      "Iterative (initial_strategy=mean, max_iter=30, n_nearest_features=5) Imputation: F1 Score = 0.5873465533522191\n",
      "Iterative (initial_strategy=mean, max_iter=30, n_nearest_features=7) Imputation: F1 Score = 0.6145552560646901\n",
      "Iterative (initial_strategy=mean, max_iter=30, n_nearest_features=10) Imputation: F1 Score = 0.6010928961748634\n",
      "Iterative (initial_strategy=median, max_iter=10, n_nearest_features=1) Imputation: F1 Score = 0.6009049773755656\n",
      "Iterative (initial_strategy=median, max_iter=10, n_nearest_features=3) Imputation: F1 Score = 0.5909090909090909\n",
      "Iterative (initial_strategy=median, max_iter=10, n_nearest_features=5) Imputation: F1 Score = 0.5954751131221719\n",
      "Iterative (initial_strategy=median, max_iter=10, n_nearest_features=7) Imputation: F1 Score = 0.6135746606334842\n",
      "Iterative (initial_strategy=median, max_iter=10, n_nearest_features=10) Imputation: F1 Score = 0.5955473098330241\n",
      "Iterative (initial_strategy=median, max_iter=20, n_nearest_features=1) Imputation: F1 Score = 0.5684410646387833\n",
      "Iterative (initial_strategy=median, max_iter=20, n_nearest_features=3) Imputation: F1 Score = 0.5757290686735654\n",
      "Iterative (initial_strategy=median, max_iter=20, n_nearest_features=5) Imputation: F1 Score = 0.5873465533522191\n",
      "Iterative (initial_strategy=median, max_iter=20, n_nearest_features=7) Imputation: F1 Score = 0.5940409683426443\n",
      "Iterative (initial_strategy=median, max_iter=20, n_nearest_features=10) Imputation: F1 Score = 0.5923217550274223\n",
      "Iterative (initial_strategy=median, max_iter=30, n_nearest_features=1) Imputation: F1 Score = 0.6061705989110708\n",
      "Iterative (initial_strategy=median, max_iter=30, n_nearest_features=3) Imputation: F1 Score = 0.5743119266055046\n",
      "Iterative (initial_strategy=median, max_iter=30, n_nearest_features=5) Imputation: F1 Score = 0.5914972273567468\n",
      "Iterative (initial_strategy=median, max_iter=30, n_nearest_features=7) Imputation: F1 Score = 0.592797783933518\n",
      "Iterative (initial_strategy=median, max_iter=30, n_nearest_features=10) Imputation: F1 Score = 0.5904404873477038\n",
      "Iterative (initial_strategy=most_frequent, max_iter=10, n_nearest_features=1) Imputation: F1 Score = 0.6021699819168174\n",
      "Iterative (initial_strategy=most_frequent, max_iter=10, n_nearest_features=3) Imputation: F1 Score = 0.5703564727954972\n",
      "Iterative (initial_strategy=most_frequent, max_iter=10, n_nearest_features=5) Imputation: F1 Score = 0.5843920145190563\n",
      "Iterative (initial_strategy=most_frequent, max_iter=10, n_nearest_features=7) Imputation: F1 Score = 0.5932835820895522\n",
      "Iterative (initial_strategy=most_frequent, max_iter=10, n_nearest_features=10) Imputation: F1 Score = 0.5861423220973783\n",
      "Iterative (initial_strategy=most_frequent, max_iter=20, n_nearest_features=1) Imputation: F1 Score = 0.6038781163434903\n",
      "Iterative (initial_strategy=most_frequent, max_iter=20, n_nearest_features=3) Imputation: F1 Score = 0.5719661335841957\n",
      "Iterative (initial_strategy=most_frequent, max_iter=20, n_nearest_features=5) Imputation: F1 Score = 0.5946935041171089\n",
      "Iterative (initial_strategy=most_frequent, max_iter=20, n_nearest_features=7) Imputation: F1 Score = 0.5996376811594203\n",
      "Iterative (initial_strategy=most_frequent, max_iter=20, n_nearest_features=10) Imputation: F1 Score = 0.5925233644859813\n",
      "Iterative (initial_strategy=most_frequent, max_iter=30, n_nearest_features=1) Imputation: F1 Score = 0.5885608856088561\n",
      "Iterative (initial_strategy=most_frequent, max_iter=30, n_nearest_features=3) Imputation: F1 Score = 0.5757290686735654\n",
      "Iterative (initial_strategy=most_frequent, max_iter=30, n_nearest_features=5) Imputation: F1 Score = 0.5832566697332107\n",
      "Iterative (initial_strategy=most_frequent, max_iter=30, n_nearest_features=7) Imputation: F1 Score = 0.5780669144981413\n",
      "Iterative (initial_strategy=most_frequent, max_iter=30, n_nearest_features=10) Imputation: F1 Score = 0.6016869728209935\n"
     ]
    }
   ],
   "source": [
    "from sklearn.model_selection import ParameterGrid\n",
    "\n",
    "# Define parameter grids for each imputer\n",
    "knn_params = {\n",
    "    'n_neighbors': [2, 5, 10],\n",
    "    'weights': ['uniform', 'distance']\n",
    "}\n",
    "\n",
    "iterative_params = {\n",
    "    'max_iter': [10, 20, 30],\n",
    "    'initial_strategy': ['mean', 'median', 'most_frequent'],\n",
    "    'n_nearest_features': [1, 3, 5, 7, 10]\n",
    "}\n",
    "\n",
    "# Imputers to test with their corresponding parameter grids\n",
    "imputers_to_test = [\n",
    "    ('KNN', KNNImputer, knn_params),\n",
    "    ('Iterative', IterativeImputer, iterative_params)\n",
    "]\n",
    "\n",
    "f1_scores = {}\n",
    "\n",
    "for name, imputer_class, params in imputers_to_test:\n",
    "    for param_set in ParameterGrid(params):\n",
    "        # Create an imputer instance with the current set of parameters\n",
    "        imputer = imputer_class(**param_set)\n",
    "\n",
    "        # Evaluate the imputation method\n",
    "        f1 = evaluate_imputation(imputer, X_train, X_val, y_train, y_val, num_cols, cat_cols)\n",
    "        \n",
    "        # Store the F1 score with a name indicating the imputer and parameter set\n",
    "        param_set_str = ', '.join(f'{key}={value}' for key, value in param_set.items())\n",
    "        f1_scores[f'{name} ({param_set_str})'] = f1\n",
    "\n",
    "# Print the results\n",
    "for name, score in f1_scores.items():\n",
    "    print(f\"{name} Imputation: F1 Score = {score}\")"
   ],
   "metadata": {
    "collapsed": false,
    "ExecuteTime": {
     "end_time": "2024-03-12T16:59:26.871735500Z",
     "start_time": "2024-03-12T16:57:44.713503200Z"
    }
   },
   "id": "fd2d7289710d18d0",
   "execution_count": 9
  },
  {
   "cell_type": "code",
   "outputs": [
    {
     "data": {
      "text/plain": "KNNImputer(weights='distance')",
      "text/html": "<style>#sk-container-id-1 {\n  /* Definition of color scheme common for light and dark mode */\n  --sklearn-color-text: black;\n  --sklearn-color-line: gray;\n  /* Definition of color scheme for unfitted estimators */\n  --sklearn-color-unfitted-level-0: #fff5e6;\n  --sklearn-color-unfitted-level-1: #f6e4d2;\n  --sklearn-color-unfitted-level-2: #ffe0b3;\n  --sklearn-color-unfitted-level-3: chocolate;\n  /* Definition of color scheme for fitted estimators */\n  --sklearn-color-fitted-level-0: #f0f8ff;\n  --sklearn-color-fitted-level-1: #d4ebff;\n  --sklearn-color-fitted-level-2: #b3dbfd;\n  --sklearn-color-fitted-level-3: cornflowerblue;\n\n  /* Specific color for light theme */\n  --sklearn-color-text-on-default-background: var(--sg-text-color, var(--theme-code-foreground, var(--jp-content-font-color1, black)));\n  --sklearn-color-background: var(--sg-background-color, var(--theme-background, var(--jp-layout-color0, white)));\n  --sklearn-color-border-box: var(--sg-text-color, var(--theme-code-foreground, var(--jp-content-font-color1, black)));\n  --sklearn-color-icon: #696969;\n\n  @media (prefers-color-scheme: dark) {\n    /* Redefinition of color scheme for dark theme */\n    --sklearn-color-text-on-default-background: var(--sg-text-color, var(--theme-code-foreground, var(--jp-content-font-color1, white)));\n    --sklearn-color-background: var(--sg-background-color, var(--theme-background, var(--jp-layout-color0, #111)));\n    --sklearn-color-border-box: var(--sg-text-color, var(--theme-code-foreground, var(--jp-content-font-color1, white)));\n    --sklearn-color-icon: #878787;\n  }\n}\n\n#sk-container-id-1 {\n  color: var(--sklearn-color-text);\n}\n\n#sk-container-id-1 pre {\n  padding: 0;\n}\n\n#sk-container-id-1 input.sk-hidden--visually {\n  border: 0;\n  clip: rect(1px 1px 1px 1px);\n  clip: rect(1px, 1px, 1px, 1px);\n  height: 1px;\n  margin: -1px;\n  overflow: hidden;\n  padding: 0;\n  position: absolute;\n  width: 1px;\n}\n\n#sk-container-id-1 div.sk-dashed-wrapped {\n  border: 1px dashed var(--sklearn-color-line);\n  margin: 0 0.4em 0.5em 0.4em;\n  box-sizing: border-box;\n  padding-bottom: 0.4em;\n  background-color: var(--sklearn-color-background);\n}\n\n#sk-container-id-1 div.sk-container {\n  /* jupyter's `normalize.less` sets `[hidden] { display: none; }`\n     but bootstrap.min.css set `[hidden] { display: none !important; }`\n     so we also need the `!important` here to be able to override the\n     default hidden behavior on the sphinx rendered scikit-learn.org.\n     See: https://github.com/scikit-learn/scikit-learn/issues/21755 */\n  display: inline-block !important;\n  position: relative;\n}\n\n#sk-container-id-1 div.sk-text-repr-fallback {\n  display: none;\n}\n\ndiv.sk-parallel-item,\ndiv.sk-serial,\ndiv.sk-item {\n  /* draw centered vertical line to link estimators */\n  background-image: linear-gradient(var(--sklearn-color-text-on-default-background), var(--sklearn-color-text-on-default-background));\n  background-size: 2px 100%;\n  background-repeat: no-repeat;\n  background-position: center center;\n}\n\n/* Parallel-specific style estimator block */\n\n#sk-container-id-1 div.sk-parallel-item::after {\n  content: \"\";\n  width: 100%;\n  border-bottom: 2px solid var(--sklearn-color-text-on-default-background);\n  flex-grow: 1;\n}\n\n#sk-container-id-1 div.sk-parallel {\n  display: flex;\n  align-items: stretch;\n  justify-content: center;\n  background-color: var(--sklearn-color-background);\n  position: relative;\n}\n\n#sk-container-id-1 div.sk-parallel-item {\n  display: flex;\n  flex-direction: column;\n}\n\n#sk-container-id-1 div.sk-parallel-item:first-child::after {\n  align-self: flex-end;\n  width: 50%;\n}\n\n#sk-container-id-1 div.sk-parallel-item:last-child::after {\n  align-self: flex-start;\n  width: 50%;\n}\n\n#sk-container-id-1 div.sk-parallel-item:only-child::after {\n  width: 0;\n}\n\n/* Serial-specific style estimator block */\n\n#sk-container-id-1 div.sk-serial {\n  display: flex;\n  flex-direction: column;\n  align-items: center;\n  background-color: var(--sklearn-color-background);\n  padding-right: 1em;\n  padding-left: 1em;\n}\n\n\n/* Toggleable style: style used for estimator/Pipeline/ColumnTransformer box that is\nclickable and can be expanded/collapsed.\n- Pipeline and ColumnTransformer use this feature and define the default style\n- Estimators will overwrite some part of the style using the `sk-estimator` class\n*/\n\n/* Pipeline and ColumnTransformer style (default) */\n\n#sk-container-id-1 div.sk-toggleable {\n  /* Default theme specific background. It is overwritten whether we have a\n  specific estimator or a Pipeline/ColumnTransformer */\n  background-color: var(--sklearn-color-background);\n}\n\n/* Toggleable label */\n#sk-container-id-1 label.sk-toggleable__label {\n  cursor: pointer;\n  display: block;\n  width: 100%;\n  margin-bottom: 0;\n  padding: 0.5em;\n  box-sizing: border-box;\n  text-align: center;\n}\n\n#sk-container-id-1 label.sk-toggleable__label-arrow:before {\n  /* Arrow on the left of the label */\n  content: \"▸\";\n  float: left;\n  margin-right: 0.25em;\n  color: var(--sklearn-color-icon);\n}\n\n#sk-container-id-1 label.sk-toggleable__label-arrow:hover:before {\n  color: var(--sklearn-color-text);\n}\n\n/* Toggleable content - dropdown */\n\n#sk-container-id-1 div.sk-toggleable__content {\n  max-height: 0;\n  max-width: 0;\n  overflow: hidden;\n  text-align: left;\n  /* unfitted */\n  background-color: var(--sklearn-color-unfitted-level-0);\n}\n\n#sk-container-id-1 div.sk-toggleable__content.fitted {\n  /* fitted */\n  background-color: var(--sklearn-color-fitted-level-0);\n}\n\n#sk-container-id-1 div.sk-toggleable__content pre {\n  margin: 0.2em;\n  border-radius: 0.25em;\n  color: var(--sklearn-color-text);\n  /* unfitted */\n  background-color: var(--sklearn-color-unfitted-level-0);\n}\n\n#sk-container-id-1 div.sk-toggleable__content.fitted pre {\n  /* unfitted */\n  background-color: var(--sklearn-color-fitted-level-0);\n}\n\n#sk-container-id-1 input.sk-toggleable__control:checked~div.sk-toggleable__content {\n  /* Expand drop-down */\n  max-height: 200px;\n  max-width: 100%;\n  overflow: auto;\n}\n\n#sk-container-id-1 input.sk-toggleable__control:checked~label.sk-toggleable__label-arrow:before {\n  content: \"▾\";\n}\n\n/* Pipeline/ColumnTransformer-specific style */\n\n#sk-container-id-1 div.sk-label input.sk-toggleable__control:checked~label.sk-toggleable__label {\n  color: var(--sklearn-color-text);\n  background-color: var(--sklearn-color-unfitted-level-2);\n}\n\n#sk-container-id-1 div.sk-label.fitted input.sk-toggleable__control:checked~label.sk-toggleable__label {\n  background-color: var(--sklearn-color-fitted-level-2);\n}\n\n/* Estimator-specific style */\n\n/* Colorize estimator box */\n#sk-container-id-1 div.sk-estimator input.sk-toggleable__control:checked~label.sk-toggleable__label {\n  /* unfitted */\n  background-color: var(--sklearn-color-unfitted-level-2);\n}\n\n#sk-container-id-1 div.sk-estimator.fitted input.sk-toggleable__control:checked~label.sk-toggleable__label {\n  /* fitted */\n  background-color: var(--sklearn-color-fitted-level-2);\n}\n\n#sk-container-id-1 div.sk-label label.sk-toggleable__label,\n#sk-container-id-1 div.sk-label label {\n  /* The background is the default theme color */\n  color: var(--sklearn-color-text-on-default-background);\n}\n\n/* On hover, darken the color of the background */\n#sk-container-id-1 div.sk-label:hover label.sk-toggleable__label {\n  color: var(--sklearn-color-text);\n  background-color: var(--sklearn-color-unfitted-level-2);\n}\n\n/* Label box, darken color on hover, fitted */\n#sk-container-id-1 div.sk-label.fitted:hover label.sk-toggleable__label.fitted {\n  color: var(--sklearn-color-text);\n  background-color: var(--sklearn-color-fitted-level-2);\n}\n\n/* Estimator label */\n\n#sk-container-id-1 div.sk-label label {\n  font-family: monospace;\n  font-weight: bold;\n  display: inline-block;\n  line-height: 1.2em;\n}\n\n#sk-container-id-1 div.sk-label-container {\n  text-align: center;\n}\n\n/* Estimator-specific */\n#sk-container-id-1 div.sk-estimator {\n  font-family: monospace;\n  border: 1px dotted var(--sklearn-color-border-box);\n  border-radius: 0.25em;\n  box-sizing: border-box;\n  margin-bottom: 0.5em;\n  /* unfitted */\n  background-color: var(--sklearn-color-unfitted-level-0);\n}\n\n#sk-container-id-1 div.sk-estimator.fitted {\n  /* fitted */\n  background-color: var(--sklearn-color-fitted-level-0);\n}\n\n/* on hover */\n#sk-container-id-1 div.sk-estimator:hover {\n  /* unfitted */\n  background-color: var(--sklearn-color-unfitted-level-2);\n}\n\n#sk-container-id-1 div.sk-estimator.fitted:hover {\n  /* fitted */\n  background-color: var(--sklearn-color-fitted-level-2);\n}\n\n/* Specification for estimator info (e.g. \"i\" and \"?\") */\n\n/* Common style for \"i\" and \"?\" */\n\n.sk-estimator-doc-link,\na:link.sk-estimator-doc-link,\na:visited.sk-estimator-doc-link {\n  float: right;\n  font-size: smaller;\n  line-height: 1em;\n  font-family: monospace;\n  background-color: var(--sklearn-color-background);\n  border-radius: 1em;\n  height: 1em;\n  width: 1em;\n  text-decoration: none !important;\n  margin-left: 1ex;\n  /* unfitted */\n  border: var(--sklearn-color-unfitted-level-1) 1pt solid;\n  color: var(--sklearn-color-unfitted-level-1);\n}\n\n.sk-estimator-doc-link.fitted,\na:link.sk-estimator-doc-link.fitted,\na:visited.sk-estimator-doc-link.fitted {\n  /* fitted */\n  border: var(--sklearn-color-fitted-level-1) 1pt solid;\n  color: var(--sklearn-color-fitted-level-1);\n}\n\n/* On hover */\ndiv.sk-estimator:hover .sk-estimator-doc-link:hover,\n.sk-estimator-doc-link:hover,\ndiv.sk-label-container:hover .sk-estimator-doc-link:hover,\n.sk-estimator-doc-link:hover {\n  /* unfitted */\n  background-color: var(--sklearn-color-unfitted-level-3);\n  color: var(--sklearn-color-background);\n  text-decoration: none;\n}\n\ndiv.sk-estimator.fitted:hover .sk-estimator-doc-link.fitted:hover,\n.sk-estimator-doc-link.fitted:hover,\ndiv.sk-label-container:hover .sk-estimator-doc-link.fitted:hover,\n.sk-estimator-doc-link.fitted:hover {\n  /* fitted */\n  background-color: var(--sklearn-color-fitted-level-3);\n  color: var(--sklearn-color-background);\n  text-decoration: none;\n}\n\n/* Span, style for the box shown on hovering the info icon */\n.sk-estimator-doc-link span {\n  display: none;\n  z-index: 9999;\n  position: relative;\n  font-weight: normal;\n  right: .2ex;\n  padding: .5ex;\n  margin: .5ex;\n  width: min-content;\n  min-width: 20ex;\n  max-width: 50ex;\n  color: var(--sklearn-color-text);\n  box-shadow: 2pt 2pt 4pt #999;\n  /* unfitted */\n  background: var(--sklearn-color-unfitted-level-0);\n  border: .5pt solid var(--sklearn-color-unfitted-level-3);\n}\n\n.sk-estimator-doc-link.fitted span {\n  /* fitted */\n  background: var(--sklearn-color-fitted-level-0);\n  border: var(--sklearn-color-fitted-level-3);\n}\n\n.sk-estimator-doc-link:hover span {\n  display: block;\n}\n\n/* \"?\"-specific style due to the `<a>` HTML tag */\n\n#sk-container-id-1 a.estimator_doc_link {\n  float: right;\n  font-size: 1rem;\n  line-height: 1em;\n  font-family: monospace;\n  background-color: var(--sklearn-color-background);\n  border-radius: 1rem;\n  height: 1rem;\n  width: 1rem;\n  text-decoration: none;\n  /* unfitted */\n  color: var(--sklearn-color-unfitted-level-1);\n  border: var(--sklearn-color-unfitted-level-1) 1pt solid;\n}\n\n#sk-container-id-1 a.estimator_doc_link.fitted {\n  /* fitted */\n  border: var(--sklearn-color-fitted-level-1) 1pt solid;\n  color: var(--sklearn-color-fitted-level-1);\n}\n\n/* On hover */\n#sk-container-id-1 a.estimator_doc_link:hover {\n  /* unfitted */\n  background-color: var(--sklearn-color-unfitted-level-3);\n  color: var(--sklearn-color-background);\n  text-decoration: none;\n}\n\n#sk-container-id-1 a.estimator_doc_link.fitted:hover {\n  /* fitted */\n  background-color: var(--sklearn-color-fitted-level-3);\n}\n</style><div id=\"sk-container-id-1\" class=\"sk-top-container\"><div class=\"sk-text-repr-fallback\"><pre>KNNImputer(weights=&#x27;distance&#x27;)</pre><b>In a Jupyter environment, please rerun this cell to show the HTML representation or trust the notebook. <br />On GitHub, the HTML representation is unable to render, please try loading this page with nbviewer.org.</b></div><div class=\"sk-container\" hidden><div class=\"sk-item\"><div class=\"sk-estimator fitted sk-toggleable\"><input class=\"sk-toggleable__control sk-hidden--visually\" id=\"sk-estimator-id-1\" type=\"checkbox\" checked><label for=\"sk-estimator-id-1\" class=\"sk-toggleable__label fitted sk-toggleable__label-arrow fitted\">&nbsp;&nbsp;KNNImputer<a class=\"sk-estimator-doc-link fitted\" rel=\"noreferrer\" target=\"_blank\" href=\"https://scikit-learn.org/1.4/modules/generated/sklearn.impute.KNNImputer.html\">?<span>Documentation for KNNImputer</span></a><span class=\"sk-estimator-doc-link fitted\">i<span>Fitted</span></span></label><div class=\"sk-toggleable__content fitted\"><pre>KNNImputer(weights=&#x27;distance&#x27;)</pre></div> </div></div></div></div>"
     },
     "execution_count": 10,
     "metadata": {},
     "output_type": "execute_result"
    }
   ],
   "source": [
    "knn_imputer = KNNImputer(weights='distance')\n",
    "knn_imputer.fit(X_train)"
   ],
   "metadata": {
    "collapsed": false,
    "ExecuteTime": {
     "end_time": "2024-03-12T16:59:26.891735400Z",
     "start_time": "2024-03-12T16:59:26.873735200Z"
    }
   },
   "id": "5e2a171acb2364e0",
   "execution_count": 10
  },
  {
   "cell_type": "code",
   "outputs": [],
   "source": [
    "import os\n",
    "\n",
    "output_dir = \"../../data/imputed/\"\n",
    "\n",
    "if not os.path.exists(output_dir):\n",
    "    os.makedirs(output_dir)\n",
    "\n",
    "X_imputed = pd.DataFrame(knn_imputer.fit_transform(X), columns=X.columns)\n",
    "\n",
    "X_imputed.to_csv(output_dir + \"df.csv\", index=False)\n",
    "y.to_csv(output_dir + 'y.csv', index=False)"
   ],
   "metadata": {
    "collapsed": false,
    "ExecuteTime": {
     "end_time": "2024-03-12T16:59:27.058735200Z",
     "start_time": "2024-03-12T16:59:26.889735400Z"
    }
   },
   "id": "9a5f3e4b3d639ebe",
   "execution_count": 11
  },
  {
   "cell_type": "code",
   "outputs": [],
   "source": [],
   "metadata": {
    "collapsed": false,
    "ExecuteTime": {
     "end_time": "2024-03-12T16:59:27.074737500Z",
     "start_time": "2024-03-12T16:59:27.058735200Z"
    }
   },
   "id": "9d645d0133249fb7",
   "execution_count": 11
  }
 ],
 "metadata": {
  "kernelspec": {
   "display_name": "Python 3",
   "language": "python",
   "name": "python3"
  },
  "language_info": {
   "codemirror_mode": {
    "name": "ipython",
    "version": 2
   },
   "file_extension": ".py",
   "mimetype": "text/x-python",
   "name": "python",
   "nbconvert_exporter": "python",
   "pygments_lexer": "ipython2",
   "version": "2.7.6"
  }
 },
 "nbformat": 4,
 "nbformat_minor": 5
}
