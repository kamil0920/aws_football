{
 "cells": [
  {
   "cell_type": "code",
   "execution_count": 1,
   "id": "initial_id",
   "metadata": {
    "collapsed": true,
    "ExecuteTime": {
     "end_time": "2024-01-27T10:58:54.421253700Z",
     "start_time": "2024-01-27T10:58:53.451941200Z"
    }
   },
   "outputs": [],
   "source": [
    "import pandas as pd\n",
    "\n",
    "from sklearn.model_selection import train_test_split\n",
    "from sklearn.experimental import enable_iterative_imputer\n",
    "from sklearn.impute import SimpleImputer, KNNImputer, IterativeImputer\n",
    "from sklearn.metrics import f1_score\n",
    "\n",
    "from xgboost import XGBClassifier\n",
    "\n",
    "import category_encoders as ce\n",
    "\n",
    "import warnings\n",
    "warnings.filterwarnings('ignore')"
   ]
  },
  {
   "cell_type": "code",
   "outputs": [
    {
     "name": "stdout",
     "output_type": "stream",
     "text": [
      "<class 'pandas.core.frame.DataFrame'>\n",
      "RangeIndex: 3040 entries, 0 to 3039\n",
      "Data columns (total 9 columns):\n",
      " #   Column                               Non-Null Count  Dtype   \n",
      "---  ------                               --------------  -----   \n",
      " 0   avg_home_rating_attack_binned        3040 non-null   category\n",
      " 1   avg_away_rating_attack_binned        3040 non-null   category\n",
      " 2   avg_away_rating_defence_binned       3040 non-null   category\n",
      " 3   avg_home_rating_defence_binned       3040 non-null   category\n",
      " 4   points_home_binned                   3040 non-null   category\n",
      " 5   home_weighted_wins_binned            3040 non-null   category\n",
      " 6   away_weighted_wins_binned            3040 non-null   category\n",
      " 7   ewm_home_team_goals_binned           3024 non-null   category\n",
      " 8   ewm_away_team_goals_conceded_binned  3022 non-null   category\n",
      "dtypes: category(9)\n",
      "memory usage: 28.6 KB\n"
     ]
    }
   ],
   "source": [
    "# X = pd.read_csv('../../data/start_dataset.csv')\n",
    "# y = pd.read_csv('../../data/y.csv')\n",
    "\n",
    "X = pd.read_csv('../../data/binned/df.csv')\n",
    "y = pd.read_csv('../../data/binned/y.csv')\n",
    "\n",
    "for col in X.filter(like='_binned').columns:\n",
    "    X[col] = X[col].astype('category')\n",
    "\n",
    "X.filter(like='_binned').info()"
   ],
   "metadata": {
    "collapsed": false,
    "ExecuteTime": {
     "end_time": "2024-01-27T10:58:54.481530100Z",
     "start_time": "2024-01-27T10:58:54.423072200Z"
    }
   },
   "id": "63313287f8b216ad",
   "execution_count": 2
  },
  {
   "cell_type": "code",
   "outputs": [],
   "source": [
    "X_train, X_val, y_train, y_val = train_test_split(X, y, test_size=0.2, random_state=42, stratify=y)"
   ],
   "metadata": {
    "collapsed": false,
    "ExecuteTime": {
     "end_time": "2024-01-27T10:58:54.481530100Z",
     "start_time": "2024-01-27T10:58:54.452717300Z"
    }
   },
   "id": "562353c35bb8217b",
   "execution_count": 3
  },
  {
   "cell_type": "code",
   "outputs": [],
   "source": [
    "def evaluate_model(X_train, X_val, y_train, y_val):\n",
    "    encoder = ce.OneHotEncoder(cols=X_train.select_dtypes(include=['object', 'category']).columns, use_cat_names=True, drop_invariant=True, return_df=True)\n",
    "\n",
    "    X_train_encoded = encoder.fit_transform(X_train, y_train)\n",
    "    X_val_encoded = encoder.transform(X_val)\n",
    "    \n",
    "    model = XGBClassifier(random_state=42, enable_categorical=True, early_stopping_rounds=100)\n",
    "    model.fit(X_train_encoded, y_train, eval_set=[(X_train_encoded, y_train), (X_val_encoded, y_val)], verbose=0)\n",
    "    y_pred = model.predict(X_val_encoded)\n",
    "    return f1_score(y_val, y_pred, average='weighted')"
   ],
   "metadata": {
    "collapsed": false,
    "ExecuteTime": {
     "end_time": "2024-01-27T10:58:54.492847600Z",
     "start_time": "2024-01-27T10:58:54.470226800Z"
    }
   },
   "id": "6cc12fd46979ebd3",
   "execution_count": 4
  },
  {
   "cell_type": "code",
   "outputs": [
    {
     "data": {
      "text/plain": "0.5322813298157089"
     },
     "execution_count": 5,
     "metadata": {},
     "output_type": "execute_result"
    }
   ],
   "source": [
    "evaluate_model(X_train, X_val, y_train, y_val)"
   ],
   "metadata": {
    "collapsed": false,
    "ExecuteTime": {
     "end_time": "2024-01-27T10:58:55.171841400Z",
     "start_time": "2024-01-27T10:58:54.485694400Z"
    }
   },
   "id": "2182dbde1e9d237e",
   "execution_count": 5
  },
  {
   "cell_type": "code",
   "outputs": [],
   "source": [
    "def evaluate_imputation(imputer, X_train, X_val, y_train, y_val, num_cols, cat_cols):\n",
    "    X_train = X_train.reset_index(drop=True)\n",
    "    X_val = X_val.reset_index(drop=True)\n",
    "    y_train = y_train.reset_index(drop=True)\n",
    "    y_val = y_val.reset_index(drop=True)\n",
    "    \n",
    "    X_train_num = pd.DataFrame(imputer.fit_transform(X_train[num_cols]), columns=num_cols)\n",
    "    X_val_num = pd.DataFrame(imputer.transform(X_val[num_cols]), columns=num_cols)\n",
    "\n",
    "    if len(cat_cols) is not 0:\n",
    "        simple_imputer_most_frequent = SimpleImputer(strategy='most_frequent')\n",
    "        X_train_cat = pd.DataFrame(simple_imputer_most_frequent.fit_transform(X_train[cat_cols]), columns=cat_cols)\n",
    "        X_val_cat = pd.DataFrame(simple_imputer_most_frequent.transform(X_val[cat_cols]), columns=cat_cols)\n",
    "\n",
    "        X_train_imputed = pd.concat([X_train_num, X_train_cat], axis=1)\n",
    "        X_val_imputed = pd.concat([X_val_num, X_val_cat], axis=1)\n",
    "    else:\n",
    "        X_train_imputed = X_train_num\n",
    "        X_val_imputed = X_val_num\n",
    "\n",
    "    f1 = evaluate_model(X_train_imputed, X_val_imputed, y_train, y_val)\n",
    "\n",
    "    return f1"
   ],
   "metadata": {
    "collapsed": false,
    "ExecuteTime": {
     "end_time": "2024-01-27T11:01:28.917969700Z",
     "start_time": "2024-01-27T11:01:28.895400500Z"
    }
   },
   "id": "23dd26c9f2a5b560",
   "execution_count": 12
  },
  {
   "cell_type": "code",
   "outputs": [
    {
     "name": "stdout",
     "output_type": "stream",
     "text": [
      "KNN (n_neighbors=2, weights=uniform) Imputation: F1 Score = 0.4901854057809184\n",
      "KNN (n_neighbors=2, weights=distance) Imputation: F1 Score = 0.4901854057809184\n",
      "KNN (n_neighbors=5, weights=uniform) Imputation: F1 Score = 0.47736031996968437\n",
      "KNN (n_neighbors=5, weights=distance) Imputation: F1 Score = 0.47739212357839955\n",
      "KNN (n_neighbors=10, weights=uniform) Imputation: F1 Score = 0.4660618589943719\n",
      "KNN (n_neighbors=10, weights=distance) Imputation: F1 Score = 0.4831382575158494\n",
      "Iterative (initial_strategy=mean, max_iter=10, n_nearest_features=1) Imputation: F1 Score = 0.4848433865472411\n",
      "Iterative (initial_strategy=mean, max_iter=10, n_nearest_features=3) Imputation: F1 Score = 0.4873945876086695\n",
      "Iterative (initial_strategy=mean, max_iter=10, n_nearest_features=5) Imputation: F1 Score = 0.49791926173899503\n",
      "Iterative (initial_strategy=mean, max_iter=10, n_nearest_features=7) Imputation: F1 Score = 0.4870576378499358\n",
      "Iterative (initial_strategy=mean, max_iter=10, n_nearest_features=10) Imputation: F1 Score = 0.46487484697472437\n",
      "Iterative (initial_strategy=mean, max_iter=20, n_nearest_features=1) Imputation: F1 Score = 0.47021429127071085\n",
      "Iterative (initial_strategy=mean, max_iter=20, n_nearest_features=3) Imputation: F1 Score = 0.4713479288192694\n",
      "Iterative (initial_strategy=mean, max_iter=20, n_nearest_features=5) Imputation: F1 Score = 0.45919035181965123\n",
      "Iterative (initial_strategy=mean, max_iter=20, n_nearest_features=7) Imputation: F1 Score = 0.4906758129153286\n",
      "Iterative (initial_strategy=mean, max_iter=20, n_nearest_features=10) Imputation: F1 Score = 0.46159736961608155\n",
      "Iterative (initial_strategy=mean, max_iter=30, n_nearest_features=1) Imputation: F1 Score = 0.4735003029788986\n",
      "Iterative (initial_strategy=mean, max_iter=30, n_nearest_features=3) Imputation: F1 Score = 0.4928483815394157\n",
      "Iterative (initial_strategy=mean, max_iter=30, n_nearest_features=5) Imputation: F1 Score = 0.47891925909879723\n",
      "Iterative (initial_strategy=mean, max_iter=30, n_nearest_features=7) Imputation: F1 Score = 0.47265267894723834\n",
      "Iterative (initial_strategy=mean, max_iter=30, n_nearest_features=10) Imputation: F1 Score = 0.48322544068931705\n",
      "Iterative (initial_strategy=median, max_iter=10, n_nearest_features=1) Imputation: F1 Score = 0.5092953382836147\n",
      "Iterative (initial_strategy=median, max_iter=10, n_nearest_features=3) Imputation: F1 Score = 0.4615257991469903\n",
      "Iterative (initial_strategy=median, max_iter=10, n_nearest_features=5) Imputation: F1 Score = 0.5056196703284623\n",
      "Iterative (initial_strategy=median, max_iter=10, n_nearest_features=7) Imputation: F1 Score = 0.485057889481557\n",
      "Iterative (initial_strategy=median, max_iter=10, n_nearest_features=10) Imputation: F1 Score = 0.4774729707846159\n",
      "Iterative (initial_strategy=median, max_iter=20, n_nearest_features=1) Imputation: F1 Score = 0.49603461848963093\n",
      "Iterative (initial_strategy=median, max_iter=20, n_nearest_features=3) Imputation: F1 Score = 0.4976036279330316\n",
      "Iterative (initial_strategy=median, max_iter=20, n_nearest_features=5) Imputation: F1 Score = 0.4661457534503048\n",
      "Iterative (initial_strategy=median, max_iter=20, n_nearest_features=7) Imputation: F1 Score = 0.486871571952954\n",
      "Iterative (initial_strategy=median, max_iter=20, n_nearest_features=10) Imputation: F1 Score = 0.4802964785027287\n",
      "Iterative (initial_strategy=median, max_iter=30, n_nearest_features=1) Imputation: F1 Score = 0.4856923693852873\n",
      "Iterative (initial_strategy=median, max_iter=30, n_nearest_features=3) Imputation: F1 Score = 0.4795502794485327\n",
      "Iterative (initial_strategy=median, max_iter=30, n_nearest_features=5) Imputation: F1 Score = 0.47617745819570606\n",
      "Iterative (initial_strategy=median, max_iter=30, n_nearest_features=7) Imputation: F1 Score = 0.48142144363665834\n",
      "Iterative (initial_strategy=median, max_iter=30, n_nearest_features=10) Imputation: F1 Score = 0.4736159888899119\n",
      "Iterative (initial_strategy=most_frequent, max_iter=10, n_nearest_features=1) Imputation: F1 Score = 0.45456744908879376\n",
      "Iterative (initial_strategy=most_frequent, max_iter=10, n_nearest_features=3) Imputation: F1 Score = 0.49938132153918685\n",
      "Iterative (initial_strategy=most_frequent, max_iter=10, n_nearest_features=5) Imputation: F1 Score = 0.4740431725265115\n",
      "Iterative (initial_strategy=most_frequent, max_iter=10, n_nearest_features=7) Imputation: F1 Score = 0.4638714664353052\n",
      "Iterative (initial_strategy=most_frequent, max_iter=10, n_nearest_features=10) Imputation: F1 Score = 0.4658061121703781\n",
      "Iterative (initial_strategy=most_frequent, max_iter=20, n_nearest_features=1) Imputation: F1 Score = 0.4736815815504122\n",
      "Iterative (initial_strategy=most_frequent, max_iter=20, n_nearest_features=3) Imputation: F1 Score = 0.48022589691763\n",
      "Iterative (initial_strategy=most_frequent, max_iter=20, n_nearest_features=5) Imputation: F1 Score = 0.4746444873249763\n",
      "Iterative (initial_strategy=most_frequent, max_iter=20, n_nearest_features=7) Imputation: F1 Score = 0.4735346863441271\n",
      "Iterative (initial_strategy=most_frequent, max_iter=20, n_nearest_features=10) Imputation: F1 Score = 0.4728597060833903\n",
      "Iterative (initial_strategy=most_frequent, max_iter=30, n_nearest_features=1) Imputation: F1 Score = 0.46010785332228954\n",
      "Iterative (initial_strategy=most_frequent, max_iter=30, n_nearest_features=3) Imputation: F1 Score = 0.49211338537078575\n",
      "Iterative (initial_strategy=most_frequent, max_iter=30, n_nearest_features=5) Imputation: F1 Score = 0.47146608443286714\n",
      "Iterative (initial_strategy=most_frequent, max_iter=30, n_nearest_features=7) Imputation: F1 Score = 0.49204841503352137\n",
      "Iterative (initial_strategy=most_frequent, max_iter=30, n_nearest_features=10) Imputation: F1 Score = 0.48826313144353845\n"
     ]
    }
   ],
   "source": [
    "from sklearn.model_selection import ParameterGrid\n",
    "\n",
    "# Define parameter grids for each imputer\n",
    "knn_params = {\n",
    "    'n_neighbors': [2, 5, 10],\n",
    "    'weights': ['uniform', 'distance']\n",
    "}\n",
    "\n",
    "iterative_params = {\n",
    "    'max_iter': [10, 20, 30],\n",
    "    'initial_strategy': ['mean', 'median', 'most_frequent'],\n",
    "    'n_nearest_features': [1, 3, 5, 7, 10]\n",
    "}\n",
    "\n",
    "# Imputers to test with their corresponding parameter grids\n",
    "imputers_to_test = [\n",
    "    ('KNN', KNNImputer, knn_params),\n",
    "    ('Iterative', IterativeImputer, iterative_params)\n",
    "]\n",
    "\n",
    "f1_scores = {}\n",
    "\n",
    "for name, imputer_class, params in imputers_to_test:\n",
    "    for param_set in ParameterGrid(params):\n",
    "        # Create an imputer instance with the current set of parameters\n",
    "        imputer = imputer_class(**param_set)\n",
    "\n",
    "        # Evaluate the imputation method\n",
    "        f1 = evaluate_imputation(imputer, X_train, X_val, y_train, y_val, num_cols, cat_cols)\n",
    "        \n",
    "        # Store the F1 score with a name indicating the imputer and parameter set\n",
    "        param_set_str = ', '.join(f'{key}={value}' for key, value in param_set.items())\n",
    "        f1_scores[f'{name} ({param_set_str})'] = f1\n",
    "\n",
    "# Print the results\n",
    "for name, score in f1_scores.items():\n",
    "    print(f\"{name} Imputation: F1 Score = {score}\")"
   ],
   "metadata": {
    "collapsed": false,
    "ExecuteTime": {
     "end_time": "2024-01-27T11:03:39.400237100Z",
     "start_time": "2024-01-27T11:01:29.344235Z"
    }
   },
   "id": "fd2d7289710d18d0",
   "execution_count": 13
  },
  {
   "cell_type": "code",
   "outputs": [],
   "source": [
    "import os\n",
    "\n",
    "output_dir = \"../../data/imputed/\"\n",
    "\n",
    "if not os.path.exists(output_dir):\n",
    "    os.makedirs(output_dir)\n",
    "\n",
    "X_imputed = pd.DataFrame(knn_imputer.fit_transform(X), columns=X.columns)\n",
    "\n",
    "X_imputed.to_csv(output_dir + \"df.csv\", index=False)\n",
    "y.to_csv(output_dir + 'y.csv', index=False)"
   ],
   "metadata": {
    "collapsed": false,
    "ExecuteTime": {
     "start_time": "2024-01-27T10:59:03.226870900Z"
    }
   },
   "id": "9a5f3e4b3d639ebe",
   "execution_count": null
  },
  {
   "cell_type": "code",
   "outputs": [],
   "source": [],
   "metadata": {
    "collapsed": false,
    "ExecuteTime": {
     "start_time": "2024-01-27T10:59:03.227892300Z"
    }
   },
   "id": "9d645d0133249fb7",
   "execution_count": null
  }
 ],
 "metadata": {
  "kernelspec": {
   "display_name": "Python 3",
   "language": "python",
   "name": "python3"
  },
  "language_info": {
   "codemirror_mode": {
    "name": "ipython",
    "version": 2
   },
   "file_extension": ".py",
   "mimetype": "text/x-python",
   "name": "python",
   "nbconvert_exporter": "python",
   "pygments_lexer": "ipython2",
   "version": "2.7.6"
  }
 },
 "nbformat": 4,
 "nbformat_minor": 5
}
