{
 "cells": [
  {
   "cell_type": "code",
   "execution_count": 1,
   "metadata": {
    "collapsed": false,
    "pycharm": {
     "name": "#%%\n"
    },
    "ExecuteTime": {
     "end_time": "2024-01-30T20:55:13.451483800Z",
     "start_time": "2024-01-30T20:55:13.280995100Z"
    }
   },
   "outputs": [],
   "source": [
    "import pandas as pd\n",
    "import numpy as np\n",
    "\n",
    "from xgboost import XGBClassifier\n",
    "\n",
    "from sklearn.model_selection import train_test_split\n",
    "from sklearn.metrics import accuracy_score, f1_score\n",
    "\n",
    "import warnings\n",
    "\n",
    "warnings.filterwarnings('ignore')"
   ]
  },
  {
   "cell_type": "code",
   "outputs": [],
   "source": [
    "def train_and_evaluate(X_train, y_train, X_val, y_val, random_state=42, enable_categorical=True):\n",
    "    \"\"\"\n",
    "    Train an XGBClassifier on the provided training data and evaluate it on the validation data.\n",
    "\n",
    "    Parameters:\n",
    "    X_train (DataFrame): Training feature data\n",
    "    y_train (Series): Training target data\n",
    "    X_val (DataFrame): Validation feature data\n",
    "    y_val (Series): Validation target data\n",
    "    random_state (int): Random state for reproducibility\n",
    "    enable_categorical (bool): Enable categorical feature support\n",
    "\n",
    "    Returns:\n",
    "    float: The F1 score of the model on the validation data\n",
    "    \"\"\"\n",
    "    # Initialize the XGBClassifier\n",
    "    xgb_model = XGBClassifier(random_state=random_state, enable_categorical=enable_categorical)\n",
    "\n",
    "    # Train the model on the full feature set\n",
    "    xgb_model.fit(X_train, y_train)\n",
    "\n",
    "    # Predictions and evaluation on the full feature set\n",
    "    y_pred = xgb_model.predict(X_val)\n",
    "    f1_score_val = f1_score(y_val, y_pred, average='weighted')\n",
    "\n",
    "    return f1_score_val"
   ],
   "metadata": {
    "collapsed": false,
    "ExecuteTime": {
     "end_time": "2024-01-30T20:55:13.480405900Z",
     "start_time": "2024-01-30T20:55:13.453564200Z"
    }
   },
   "execution_count": 2
  },
  {
   "cell_type": "code",
   "execution_count": 3,
   "metadata": {
    "collapsed": false,
    "pycharm": {
     "name": "#%%\n"
    },
    "ExecuteTime": {
     "end_time": "2024-01-30T20:55:13.898829200Z",
     "start_time": "2024-01-30T20:55:13.469077700Z"
    }
   },
   "outputs": [
    {
     "name": "stdout",
     "output_type": "stream",
     "text": [
      "Base line f1: 0.479134685236962\n"
     ]
    }
   ],
   "source": [
    "# X = pd.read_csv('../../data/imputed/df.csv')\n",
    "# y = pd.read_csv('../../data/imputed/y.csv')\n",
    "\n",
    "X = pd.read_csv('../../data/start_dataset.csv')\n",
    "y = pd.read_csv('../../data/y.csv')\n",
    "\n",
    "X_train_full, X_val_full, y_train, y_val = train_test_split(X, y, test_size=0.2, random_state=42, stratify=y)\n",
    "\n",
    "f1 = train_and_evaluate(X_train_full, y_train, X_val_full, y_val)\n",
    "print(f'Base line f1: {f1}')"
   ]
  },
  {
   "cell_type": "code",
   "execution_count": 4,
   "outputs": [],
   "source": [
    "df_ = X.copy()"
   ],
   "metadata": {
    "collapsed": false,
    "pycharm": {
     "name": "#%%\n"
    },
    "ExecuteTime": {
     "end_time": "2024-01-30T20:55:13.921551300Z",
     "start_time": "2024-01-30T20:55:13.888464400Z"
    }
   }
  },
  {
   "cell_type": "code",
   "execution_count": 5,
   "metadata": {
    "collapsed": false,
    "pycharm": {
     "name": "#%%\n"
    },
    "ExecuteTime": {
     "end_time": "2024-01-30T20:55:13.966495800Z",
     "start_time": "2024-01-30T20:55:13.907165300Z"
    }
   },
   "outputs": [],
   "source": [
    "# # List of player positions for which we have ratings\n",
    "player_positions = range(1, 12)\n",
    "\n",
    "# Calculate the difference from the average for each player\n",
    "for position in player_positions:\n",
    "    home_player_col = f'player_rating_home_player_{position}'\n",
    "    away_player_col = f'player_rating_away_player_{position}'\n",
    "\n",
    "    df_[f'diff_player_{position}'] = df_[home_player_col] - df_[away_player_col]\n",
    "    # df_.drop([home_player_col, away_player_col], axis=1, inplace=True)\n",
    "\n",
    "df_['diff_sum'] = df_.filter(like='diff_player').apply(sum, axis=1)\n",
    "df_.drop(df_.filter(like='diff_player').columns, axis=1, inplace=True)\n",
    "df_['diff_sum'] = df_['diff_sum'].apply(lambda x: 0 if x < 0 else 1)"
   ]
  },
  {
   "cell_type": "code",
   "outputs": [],
   "source": [
    "# Define bins\n",
    "bins = [50, 60, 70, 80, 90, 100]\n",
    "labels = [i for i in range(1, len(bins))]\n",
    "\n",
    "# Binning each 'player_rating' column\n",
    "for col in df_.columns:\n",
    "    if 'player_rating' in col:\n",
    "        # Using pd.cut while preserving NaN values\n",
    "        df_[f'{col}_binned'] = pd.cut(df_[col], bins, labels=labels, include_lowest=True)\n",
    "        df_.drop(col, axis=1, inplace=True)\n",
    "\n",
    "binned_columns = df_.filter(like='_binned').columns\n",
    "\n",
    "df_[binned_columns] = df_[binned_columns].astype('float16')\n",
    "df_[binned_columns] = df_[binned_columns].fillna(0)\n",
    "df_[binned_columns] = df_[binned_columns].astype('int8')\n",
    "df_[binned_columns] = df_[binned_columns].replace(0, np.nan)"
   ],
   "metadata": {
    "collapsed": false,
    "ExecuteTime": {
     "end_time": "2024-01-30T20:55:14.013662Z",
     "start_time": "2024-01-30T20:55:13.955040100Z"
    }
   },
   "execution_count": 6
  },
  {
   "cell_type": "code",
   "execution_count": 7,
   "metadata": {
    "ExecuteTime": {
     "end_time": "2024-01-30T20:55:14.029310600Z",
     "start_time": "2024-01-30T20:55:14.014706500Z"
    }
   },
   "outputs": [],
   "source": [
    "home_player_rating_columns = [col for col in df_.columns if 'player_rating_home_player' in col]\n",
    "away_player_rating_columns = [col for col in df_.columns if 'player_rating_away_player' in col]\n",
    "\n",
    "df_['rating_range_home'] = df_[home_player_rating_columns].max(axis=1) - df_[home_player_rating_columns].min(axis=1)\n",
    "df_['rating_range_away'] = df_[away_player_rating_columns].max(axis=1) - df_[away_player_rating_columns].min(axis=1)"
   ]
  },
  {
   "cell_type": "code",
   "execution_count": 8,
   "metadata": {
    "ExecuteTime": {
     "end_time": "2024-01-30T20:55:14.056214100Z",
     "start_time": "2024-01-30T20:55:14.032451700Z"
    }
   },
   "outputs": [],
   "source": [
    "away_players_6_11 = [col for col in df_.columns if col.startswith('player_rating_away') and int(col.split('_')[-2]) in range(6, 12)]\n",
    "home_players_6_11 = [col for col in df_.columns if col.startswith('player_rating_home') and int(col.split('_')[-2]) in range(6, 12)]\n",
    "\n",
    "away_players_1_5 = [col for col in df_.columns if col.startswith('player_rating_away') and int(col.split('_')[-2]) in range(1, 6)]\n",
    "home_players_1_5 = [col for col in df_.columns if col.startswith('player_rating_home') and int(col.split('_')[-2]) in range(1, 6)]\n",
    "\n",
    "df_['avg_home_rating_attack'] = df_[away_players_6_11].mean(axis=1).round(2)\n",
    "df_['avg_away_rating_attack'] = df_[home_players_6_11].mean(axis=1).round(2)\n",
    "\n",
    "df_['avg_away_rating_defence'] = df_[away_players_1_5].mean(axis=1).round(2)\n",
    "df_['avg_home_rating_defence'] = df_[home_players_1_5].mean(axis=1).round(2)"
   ]
  },
  {
   "cell_type": "code",
   "execution_count": 9,
   "metadata": {
    "ExecuteTime": {
     "end_time": "2024-01-30T20:55:14.067636900Z",
     "start_time": "2024-01-30T20:55:14.045939Z"
    }
   },
   "outputs": [],
   "source": [
    "# home_player_columns = [col for col in df_.columns if 'player_rating_home_player' in col]\n",
    "# away_player_columns = [col for col in df_.columns if 'player_rating_away_player' in col]\n",
    "# \n",
    "# df_['average_rating_home'] = df_[home_player_columns].mean(axis=1)\n",
    "# df_['average_rating_away'] = df_[away_player_columns].mean(axis=1)"
   ]
  },
  {
   "cell_type": "code",
   "outputs": [],
   "source": [
    "# df_.drop(df_.filter(like='_binned').columns, axis=1, inplace=True)"
   ],
   "metadata": {
    "collapsed": false,
    "ExecuteTime": {
     "end_time": "2024-01-30T20:55:14.089282600Z",
     "start_time": "2024-01-30T20:55:14.061444500Z"
    }
   },
   "execution_count": 10
  },
  {
   "cell_type": "code",
   "execution_count": 11,
   "metadata": {
    "ExecuteTime": {
     "end_time": "2024-01-30T20:55:14.461880900Z",
     "start_time": "2024-01-30T20:55:14.078004100Z"
    }
   },
   "outputs": [],
   "source": [
    "# Top Players Impact: identify if the team has exceptionally high-rated players, threshold: 15% best players\n",
    "all_player_columns = [col for col in df_.columns if 'player_rating_' in col]\n",
    "top_5_percent_threshold = df_[all_player_columns].stack().quantile(0.7)\n",
    "\n",
    "# Count the number of top players in each team\n",
    "df_['num_top_players_home'] = df_[[col for col in df_.columns if 'player_rating_home_player' in col]].apply(lambda x: (x > top_5_percent_threshold).sum(), axis=1)\n",
    "df_['num_top_players_away'] = df_[[col for col in df_.columns if 'player_rating_away_player' in col]].apply(lambda x: (x > top_5_percent_threshold).sum(), axis=1)"
   ]
  },
  {
   "cell_type": "code",
   "outputs": [],
   "source": [
    "df_.drop(df_.filter(like='_binned').columns, axis=1, inplace=True)"
   ],
   "metadata": {
    "collapsed": false,
    "ExecuteTime": {
     "end_time": "2024-01-30T20:55:14.480438100Z",
     "start_time": "2024-01-30T20:55:14.463956500Z"
    }
   },
   "execution_count": 12
  },
  {
   "cell_type": "code",
   "outputs": [],
   "source": [
    "# df_[df_.filter(like='diff').columns] = df_.filter(like='diff').applymap(lambda x: 1 if x >= 0 else 0)"
   ],
   "metadata": {
    "collapsed": false,
    "ExecuteTime": {
     "end_time": "2024-01-30T20:55:14.498016800Z",
     "start_time": "2024-01-30T20:55:14.478376900Z"
    }
   },
   "execution_count": 13
  },
  {
   "cell_type": "code",
   "outputs": [],
   "source": [
    "# df_['diff_sum_x_ewm_shoton_home'] = df_['diff_sum'] * df_['ewm_shoton_home']\n",
    "# \n",
    "# bins = [-float('inf')] + df_['diff_sum_x_ewm_shoton_home'].quantile([0.05, 0.95]).tolist() + [float('inf')]\n",
    "# labels = [f'Bin{i}' for i in range(1, len(bins))]\n",
    "# \n",
    "# df_[f'diff_sum_x_ewm_shoton_home_binned'] = pd.cut(df_['diff_sum_x_ewm_shoton_home'], bins, labels=labels, include_lowest=True)\n",
    "# df_.drop('diff_sum_x_ewm_shoton_home', axis=1, inplace=True)\n",
    "\n",
    "# df_['diff_sum_x_ewm_shoton_home'].describe().round(2)"
   ],
   "metadata": {
    "collapsed": false,
    "ExecuteTime": {
     "end_time": "2024-01-30T20:55:14.539394500Z",
     "start_time": "2024-01-30T20:55:14.508306300Z"
    }
   },
   "execution_count": 15
  },
  {
   "cell_type": "code",
   "outputs": [],
   "source": [
    "df_['avg_home_team_rating_x_ewm_shoton_away'] = df_['avg_home_team_rating'] * df_['ewm_shoton_away']\n",
    "\n",
    "bins = [-float('inf')] + df_['avg_home_team_rating_x_ewm_shoton_away'].quantile([0.1, 0.2, 0.3, 0.4, 0.5, 0.6, 0.7, 0.8, 0.9]).tolist() + [float('inf')]\n",
    "labels = [f'Bin{i}' for i in range(1, len(bins))]\n",
    "\n",
    "df_[f'avg_home_team_rating_x_ewm_shoton_away_binned'] = pd.cut(df_['avg_home_team_rating_x_ewm_shoton_away'], bins, labels=labels, include_lowest=True)\n",
    "df_.drop('avg_home_team_rating_x_ewm_shoton_away', axis=1, inplace=True)\n",
    "# df_['avg_home_team_rating_x_ewm_shoton_away'].describe().round(2)"
   ],
   "metadata": {
    "collapsed": false,
    "ExecuteTime": {
     "end_time": "2024-01-30T20:55:14.540417500Z",
     "start_time": "2024-01-30T20:55:14.525859700Z"
    }
   },
   "execution_count": 16
  },
  {
   "cell_type": "code",
   "outputs": [],
   "source": [
    "df_['ewm_possession_away_x_ewm_possession_home'] = df_['ewm_possession_away'] * df_['ewm_possession_home']\n",
    "\n",
    "bins = [-float('inf')] + df_['ewm_possession_away_x_ewm_possession_home'].quantile([0.1, 0.2, 0.3, 0.4, 0.5, 0.6, 0.7, 0.8, 0.9]).tolist() + [float('inf')]\n",
    "labels = [f'Bin{i}' for i in range(1, len(bins))]\n",
    "\n",
    "df_[f'ewm_possession_away_x_ewm_possession_home_binned'] = pd.cut(df_['ewm_possession_away_x_ewm_possession_home'], bins, labels=labels, include_lowest=True)\n",
    "df_.drop('ewm_possession_away_x_ewm_possession_home', axis=1, inplace=True)"
   ],
   "metadata": {
    "collapsed": false,
    "ExecuteTime": {
     "end_time": "2024-01-30T20:55:14.553853900Z",
     "start_time": "2024-01-30T20:55:14.539394500Z"
    }
   },
   "execution_count": 17
  },
  {
   "cell_type": "code",
   "outputs": [],
   "source": [
    "# df_['ewm_possession_away_x_ewm_possession_home'] = df_['ewm_possession_away'] * df_['ewm_possession_home']\n",
    "\n",
    "# quantile_options = [\n",
    "#     [0.2, 0.4, 0.6, 0.8],\n",
    "#     [0.1, 0.3, 0.7, 0.9],\n",
    "#     [0.1, 0.2, 0.3, 0.4, 0.5, 0.6, 0.7, 0.8, 0.9],\n",
    "#     [0.15, 0.5, 0.85],\n",
    "#     [0.05, 0.95]\n",
    "# ]\n",
    "# \n",
    "# bins = [-float('inf')] + df_['avg_home_team_rating_x_ewm_shoton_away'].quantile([0.1, 0.2, 0.3, 0.4, 0.5, 0.6, 0.7, 0.8, 0.9]).tolist() + [float('inf')]\n",
    "# labels = [f'Bin{i}' for i in range(1, len(bins))]\n",
    "# \n",
    "# df_[f'avg_home_team_rating_x_ewm_shoton_away_binned'] = pd.cut(df_['avg_home_team_rating_x_ewm_shoton_away'], bins, labels=labels, include_lowest=True)\n",
    "# df_.drop('avg_home_team_rating_x_ewm_shoton_away', axis=1, inplace=True)"
   ],
   "metadata": {
    "collapsed": false,
    "ExecuteTime": {
     "end_time": "2024-01-30T20:55:14.582712300Z",
     "start_time": "2024-01-30T20:55:14.555957600Z"
    }
   },
   "execution_count": 18
  },
  {
   "cell_type": "code",
   "outputs": [],
   "source": [
    "# df_['ewm_possession_away_x_ewm_possession_home_binned']"
   ],
   "metadata": {
    "collapsed": false,
    "ExecuteTime": {
     "end_time": "2024-01-30T20:55:14.595017200Z",
     "start_time": "2024-01-30T20:55:14.572436500Z"
    }
   },
   "execution_count": 19
  },
  {
   "cell_type": "code",
   "outputs": [
    {
     "name": "stdout",
     "output_type": "stream",
     "text": [
      "Base line f1: 0.4863492299780025\n"
     ]
    }
   ],
   "source": [
    "# Splitting the original dataset\n",
    "X_train_full, X_val_full, y_train, y_val = train_test_split(df_, y, test_size=0.2, random_state=42, stratify=y)\n",
    "\n",
    "f1 = train_and_evaluate(X_train_full, y_train, X_val_full, y_val)\n",
    "print(f'Base line f1: {f1}')"
   ],
   "metadata": {
    "collapsed": false,
    "ExecuteTime": {
     "end_time": "2024-01-30T20:55:14.967127900Z",
     "start_time": "2024-01-30T20:55:14.597110800Z"
    }
   },
   "execution_count": 20
  },
  {
   "cell_type": "code",
   "execution_count": 21,
   "metadata": {
    "ExecuteTime": {
     "end_time": "2024-01-30T20:55:15.039085200Z",
     "start_time": "2024-01-30T20:55:14.960847700Z"
    }
   },
   "outputs": [],
   "source": [
    "import os\n",
    "import json\n",
    "\n",
    "output_dir = \"../../data/new_features/\"\n",
    "\n",
    "if not os.path.exists(output_dir):\n",
    "    os.makedirs(output_dir)\n",
    "\n",
    "df_.to_csv(output_dir + 'df_.csv', index=False)\n",
    "y.to_csv(output_dir + 'y.csv', index=False)"
   ]
  },
  {
   "cell_type": "code",
   "outputs": [],
   "source": [],
   "metadata": {
    "collapsed": false,
    "ExecuteTime": {
     "end_time": "2024-01-30T20:55:15.041170500Z",
     "start_time": "2024-01-30T20:55:15.022527100Z"
    }
   },
   "execution_count": 21
  }
 ],
 "metadata": {
  "kernelspec": {
   "display_name": "Python 3 (ipykernel)",
   "language": "python",
   "name": "python3"
  },
  "language_info": {
   "codemirror_mode": {
    "name": "ipython",
    "version": 3
   },
   "file_extension": ".py",
   "mimetype": "text/x-python",
   "name": "python",
   "nbconvert_exporter": "python",
   "pygments_lexer": "ipython3",
   "version": "3.10.8"
  }
 },
 "nbformat": 4,
 "nbformat_minor": 4
}
