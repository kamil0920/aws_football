{
 "cells": [
  {
   "cell_type": "code",
   "execution_count": 1,
   "metadata": {
    "collapsed": false,
    "pycharm": {
     "name": "#%%\n"
    },
    "ExecuteTime": {
     "end_time": "2024-04-12T16:14:53.375114100Z",
     "start_time": "2024-04-12T16:14:53.202114200Z"
    }
   },
   "outputs": [],
   "source": [
    "import pandas as pd\n",
    "import numpy as np\n",
    "\n",
    "from xgboost import XGBClassifier\n",
    "from sklearn.preprocessing import OrdinalEncoder\n",
    "\n",
    "from sklearn.model_selection import train_test_split\n",
    "from sklearn.metrics import f1_score\n",
    "\n",
    "import matplotlib.pyplot as plt\n",
    "import seaborn as sns\n",
    "\n",
    "import warnings\n",
    "\n",
    "warnings.filterwarnings('ignore')"
   ]
  },
  {
   "cell_type": "code",
   "outputs": [],
   "source": [
    "from sklearn.preprocessing import LabelEncoder\n",
    "\n",
    "def prepare_target(y_):\n",
    "    le = LabelEncoder()\n",
    "    transform = le.fit_transform(y_)\n",
    "    return transform, le.classes_\n",
    "\n"
   ],
   "metadata": {
    "collapsed": false,
    "ExecuteTime": {
     "end_time": "2024-04-12T16:14:53.391117300Z",
     "start_time": "2024-04-12T16:14:53.377114Z"
    }
   },
   "execution_count": 2
  },
  {
   "cell_type": "code",
   "outputs": [],
   "source": [
    "def visualize_data_with_target(df, col_1, col_2, diff_col, target):\n",
    "    \"\"\"\n",
    "    Visualizes relationships between team rating, goals conceded, defensive weakness, and match results.\n",
    "\n",
    "    Parameters:\n",
    "    - df: DataFrame containing the data.\n",
    "    - col_1: Column name for the average rating of the home team.\n",
    "    - col_2: Column name for the goals conceded by the home team.\n",
    "    - diff_col: Column name for different between col_1 and col_2.\n",
    "    - target: Target variable with match results encoded as 0 (home not win), 1 (home win).\n",
    "    \"\"\"\n",
    "    df_target = df.copy()\n",
    "    df_target['result_match'] = target\n",
    "    df_target['result_match_c'] = df_target['result_match'].apply(lambda x: 'home_win' if x == 1 else 'home_not_win')\n",
    "\n",
    "    # Scatter plot for average rating vs goals conceded\n",
    "    plt.figure(figsize=(10, 6))\n",
    "    sns.scatterplot(data=df_target, x=col_1, y=col_2, hue='result_match_c', palette='viridis')\n",
    "    plt.title(f'{col_1} vs {col_2}')\n",
    "    plt.xlabel(f'{col_1}')\n",
    "    plt.ylabel(f'{col_2}')\n",
    "    plt.legend(title='Match Result')\n",
    "    plt.show()\n",
    "\n",
    "    # Box plot for defensive weakness across match result categories\n",
    "    plt.figure(figsize=(10, 6))\n",
    "    sns.boxplot(data=df_target, x='result_match', y=diff_col, palette='viridis', hue='result_match_c')\n",
    "    plt.title(f'{diff_col} Across Match Results')\n",
    "    plt.xlabel('Match Result')\n",
    "    plt.ylabel(f'{diff_col}')\n",
    "    plt.show()\n"
   ],
   "metadata": {
    "collapsed": false,
    "ExecuteTime": {
     "end_time": "2024-04-12T16:14:53.408113600Z",
     "start_time": "2024-04-12T16:14:53.395112700Z"
    }
   },
   "execution_count": 3
  },
  {
   "cell_type": "code",
   "outputs": [],
   "source": [
    "def evaluate_model(X, y):\n",
    "    X_train, X_val, y_train, y_val = train_test_split(X, y, test_size=0.2, random_state=42, stratify=y)\n",
    "\n",
    "    model = XGBClassifier(random_state=42, enable_categorical=True)\n",
    "    model.fit(X_train, y_train, eval_set=[(X_train, y_train), (X_val, y_val)], verbose=0, early_stopping_rounds=25)\n",
    "    \n",
    "    y_pred = model.predict(X_val)\n",
    "    f1 = f1_score(y_val, y_pred)\n",
    "            \n",
    "    return f1"
   ],
   "metadata": {
    "collapsed": false,
    "ExecuteTime": {
     "end_time": "2024-04-12T16:14:53.422118200Z",
     "start_time": "2024-04-12T16:14:53.409114400Z"
    }
   },
   "execution_count": 4
  },
  {
   "cell_type": "code",
   "execution_count": 5,
   "metadata": {
    "collapsed": false,
    "pycharm": {
     "name": "#%%\n"
    },
    "ExecuteTime": {
     "end_time": "2024-04-12T16:14:53.582112900Z",
     "start_time": "2024-04-12T16:14:53.425116500Z"
    }
   },
   "outputs": [
    {
     "name": "stdout",
     "output_type": "stream",
     "text": [
      "Base line f1: 0.590990990990991\n"
     ]
    }
   ],
   "source": [
    "# X = pd.read_csv('../../data/start_dataset.csv')\n",
    "# y = pd.read_csv('../../data/y.csv', dtype='int8')\n",
    "\n",
    "X = pd.read_csv('../../data/start_dataset.csv')\n",
    "X['result_match'] = pd.read_csv('../../data/y.csv')\n",
    "\n",
    "y, classes = prepare_target(X['result_match'])\n",
    "\n",
    "f1 = evaluate_model(X.drop('result_match', axis=1), y.astype('int'))\n",
    "print(f'Base line f1: {f1}')"
   ]
  },
  {
   "cell_type": "code",
   "execution_count": 6,
   "outputs": [],
   "source": [
    "df_ = X.copy()"
   ],
   "metadata": {
    "collapsed": false,
    "pycharm": {
     "name": "#%%\n"
    },
    "ExecuteTime": {
     "end_time": "2024-04-12T16:14:53.593113100Z",
     "start_time": "2024-04-12T16:14:53.578114300Z"
    }
   }
  },
  {
   "cell_type": "code",
   "execution_count": 7,
   "metadata": {
    "ExecuteTime": {
     "end_time": "2024-04-12T16:14:53.624112700Z",
     "start_time": "2024-04-12T16:14:53.593113100Z"
    }
   },
   "outputs": [],
   "source": [
    "away_players_6_11 = [col for col in df_.columns if col.startswith('player_rating_away') and int(col.split('_')[-1]) in range(6, 12)]\n",
    "home_players_6_11 = [col for col in df_.columns if col.startswith('player_rating_home') and int(col.split('_')[-1]) in range(6, 12)]\n",
    "\n",
    "away_players_1_5 = [col for col in df_.columns if col.startswith('player_rating_away') and int(col.split('_')[-1]) in range(1, 6)]\n",
    "home_players_1_5 = [col for col in df_.columns if col.startswith('player_rating_home') and int(col.split('_')[-1]) in range(1, 6)]\n",
    "\n",
    "df_['avg_home_rating_attack'] = df_[home_players_6_11].mean(axis=1).round(2)\n",
    "df_['avg_away_rating_attack'] = df_[away_players_6_11].mean(axis=1).round(2)\n",
    "\n",
    "df_['avg_away_rating_defence'] = df_[away_players_1_5].mean(axis=1).round(2)\n",
    "df_['avg_home_rating_defence'] = df_[home_players_1_5].mean(axis=1).round(2)"
   ]
  },
  {
   "cell_type": "code",
   "execution_count": 8,
   "metadata": {
    "ExecuteTime": {
     "end_time": "2024-04-12T16:14:53.639113Z",
     "start_time": "2024-04-12T16:14:53.623112700Z"
    }
   },
   "outputs": [],
   "source": [
    "home_player_columns = [col for col in df_.columns if 'player_rating_home_player' in col]\n",
    "away_player_columns = [col for col in df_.columns if 'player_rating_away_player' in col]\n",
    "# \n",
    "df_['average_rating_home'] = df_[home_player_columns].mean(axis=1)\n",
    "df_['average_rating_away'] = df_[away_player_columns].mean(axis=1)\n",
    "\n",
    "# df_.drop(home_player_columns + away_player_columns, axis=1, inplace=True)"
   ]
  },
  {
   "cell_type": "code",
   "execution_count": 9,
   "metadata": {
    "ExecuteTime": {
     "end_time": "2024-04-12T16:14:54.389352500Z",
     "start_time": "2024-04-12T16:14:53.639113Z"
    }
   },
   "outputs": [],
   "source": [
    "# # Top Players Impact: identify if the team has exceptionally high-rated players, threshold: 5% best players\n",
    "all_player_columns = [col for col in df_.columns if 'player_rating_' in col]\n",
    "top_5_percent_threshold = df_[all_player_columns].stack().quantile(0.9)\n",
    "\n",
    "# Count the number of top players in each team\n",
    "df_['num_top_players_home'] = df_[[col for col in df_.columns if 'player_rating_home_player' in col]].apply(lambda x: (x > top_5_percent_threshold).sum(), axis=1)\n",
    "df_['num_top_players_away'] = df_[[col for col in df_.columns if 'player_rating_away_player' in col]].apply(lambda x: (x > top_5_percent_threshold).sum(), axis=1)"
   ]
  },
  {
   "cell_type": "code",
   "outputs": [],
   "source": [
    "# df_['avg_home_team_rating_x_ewm_shoton_away'] = (df_['avg_home_team_rating'] * df_['ewm_shoton_away']) / 10"
   ],
   "metadata": {
    "collapsed": false,
    "ExecuteTime": {
     "end_time": "2024-04-12T16:14:54.404350900Z",
     "start_time": "2024-04-12T16:14:54.389352500Z"
    }
   },
   "execution_count": 10
  },
  {
   "cell_type": "code",
   "outputs": [],
   "source": [
    "df_['ewm_home_team_goals_conceded_x_ewm_shoton_home'] = df_['ewm_home_team_goals_conceded'] * df_['ewm_shoton_home']\n",
    "# # \n",
    "# bins = [-float('inf')] + df_['ewm_home_team_goals_conceded_x_ewm_shoton_home'].quantile([0.3, 0.5, 0.7, 0.9]).tolist() + [float('inf')]\n",
    "# labels = [f'Bin{i}' for i in range(1, len(bins))]\n",
    "# \n",
    "# df_[f'ewm_home_team_goals_conceded_x_ewm_shoton_home_home_binned'] = pd.cut(df_['ewm_home_team_goals_conceded_x_ewm_shoton_home'], bins, labels=labels, include_lowest=True)\n",
    "# df_.drop('ewm_home_team_goals_conceded_x_ewm_shoton_home', axis=1, inplace=True)\n",
    "# df_[['ewm_home_team_goals_conceded_x_ewm_shoton_home']].describe().round(2)"
   ],
   "metadata": {
    "collapsed": false,
    "ExecuteTime": {
     "end_time": "2024-04-12T16:14:54.421349900Z",
     "start_time": "2024-04-12T16:14:54.405351400Z"
    }
   },
   "execution_count": 11
  },
  {
   "cell_type": "code",
   "outputs": [],
   "source": [
    "# Create a new feature that is the product of the inverse of the average rating\n",
    "# and the goals conceded. The inverse is used to reflect that a lower rating\n",
    "# means a weaker team. You might want to add a constant to avoid division by zero.\n",
    "\n",
    "# df_['defensive_weakness_home'] = ((df_['avg_home_rating_defence']) / (df_['ewm_home_team_goals_conceded'] + 0.9))\n",
    "# df_['defensive_weakness_away'] = ((df_['avg_away_rating_defence']) / (df_['ewm_away_team_goals_conceded'] + 0.9))\n",
    "# # # \n",
    "# df_['defensive_weakness_diff'] = df_['defensive_weakness_home'] - df_['defensive_weakness_away']\n",
    "# # # \n",
    "# df_.drop(['defensive_weakness_home', 'defensive_weakness_away'], axis=1, inplace=True)\n",
    "# \n",
    "# df_[['defensive_weakness_home', 'defensive_weakness_away', 'defensive_weakness_diff']].describe().round(2)"
   ],
   "metadata": {
    "collapsed": false,
    "ExecuteTime": {
     "end_time": "2024-04-12T16:14:54.435350400Z",
     "start_time": "2024-04-12T16:14:54.423353400Z"
    }
   },
   "execution_count": 12
  },
  {
   "cell_type": "code",
   "outputs": [],
   "source": [
    "df_['attacking_strength_home'] = ((df_['avg_home_rating_attack']) / (df_['ewm_home_team_goals'] + 0.9))\n",
    "df_['attacking_strength_away'] = ((df_['avg_away_rating_attack']) / (df_['ewm_away_team_goals'] + 0.9))\n",
    "# \n",
    "df_['attacking_strength_diff'] = df_['attacking_strength_home'] - df_['attacking_strength_away']\n",
    "# # # \n",
    "# df_.drop(['attacking_strength_home', 'attacking_strength_away'], axis=1, inplace=True)\n",
    "\n",
    "# df_[['attacking_strength_home', 'attacking_strength_away', 'attacking_strength_diff']].describe().round(2)"
   ],
   "metadata": {
    "collapsed": false,
    "ExecuteTime": {
     "end_time": "2024-04-12T16:14:54.455352900Z",
     "start_time": "2024-04-12T16:14:54.437350500Z"
    }
   },
   "execution_count": 13
  },
  {
   "cell_type": "code",
   "outputs": [],
   "source": [
    "# correlation = df_['ewm_home_team_goals'].corr(df_['average_rating_home'])\n",
    "# print(f\"Correlation coefficient: {correlation}\")"
   ],
   "metadata": {
    "collapsed": false,
    "ExecuteTime": {
     "end_time": "2024-04-12T16:14:54.466350Z",
     "start_time": "2024-04-12T16:14:54.451350700Z"
    }
   },
   "execution_count": 14
  },
  {
   "cell_type": "code",
   "outputs": [],
   "source": [
    "# Example usage\n",
    "# Assuming 'df_' is your DataFrame, 'y' is your target array, and you have specified column names\n",
    "# visualize_data_with_target(df=df_, \n",
    "#                            col_1='average_rating_home', \n",
    "#                            col_2='ewm_home_team_goals', \n",
    "#                            diff_col='defensive_weakness_diff', \n",
    "#                            target=y)"
   ],
   "metadata": {
    "collapsed": false,
    "ExecuteTime": {
     "end_time": "2024-04-12T16:14:54.483352600Z",
     "start_time": "2024-04-12T16:14:54.467350800Z"
    }
   },
   "execution_count": 15
  },
  {
   "cell_type": "code",
   "outputs": [],
   "source": [
    "# df_['ewm_possession_home_x_ewm_shoton_home'] = (df_['ewm_possession_home'] * df_['ewm_shoton_home']) / 100"
   ],
   "metadata": {
    "collapsed": false,
    "ExecuteTime": {
     "end_time": "2024-04-12T16:14:54.498351100Z",
     "start_time": "2024-04-12T16:14:54.483352600Z"
    }
   },
   "execution_count": 16
  },
  {
   "cell_type": "code",
   "outputs": [
    {
     "name": "stdout",
     "output_type": "stream",
     "text": [
      "Base line f1: 0.5935483870967742\n"
     ]
    }
   ],
   "source": [
    "y_ = df_['result_match']\n",
    "y_, cls = prepare_target(y_)\n",
    "f1 = evaluate_model(df_.drop('result_match', axis=1), y_)\n",
    "print(f'Base line f1: {f1}')"
   ],
   "metadata": {
    "collapsed": false,
    "ExecuteTime": {
     "end_time": "2024-04-12T16:14:54.644348900Z",
     "start_time": "2024-04-12T16:14:54.499350700Z"
    }
   },
   "execution_count": 17
  },
  {
   "cell_type": "code",
   "outputs": [
    {
     "name": "stdout",
     "output_type": "stream",
     "text": [
      "<class 'pandas.core.frame.DataFrame'>\n",
      "RangeIndex: 6079 entries, 0 to 6078\n",
      "Data columns (total 51 columns):\n",
      " #   Column                                          Non-Null Count  Dtype  \n",
      "---  ------                                          --------------  -----  \n",
      " 0   player_rating_home_player_1                     6079 non-null   int64  \n",
      " 1   player_rating_home_player_2                     6079 non-null   int64  \n",
      " 2   player_rating_home_player_3                     6079 non-null   int64  \n",
      " 3   player_rating_home_player_4                     6079 non-null   int64  \n",
      " 4   player_rating_home_player_5                     6079 non-null   int64  \n",
      " 5   player_rating_home_player_6                     6079 non-null   int64  \n",
      " 6   player_rating_home_player_7                     6079 non-null   int64  \n",
      " 7   player_rating_home_player_8                     6079 non-null   int64  \n",
      " 8   player_rating_home_player_9                     6079 non-null   int64  \n",
      " 9   player_rating_home_player_10                    6079 non-null   int64  \n",
      " 10  player_rating_home_player_11                    6079 non-null   int64  \n",
      " 11  player_rating_away_player_1                     6079 non-null   int64  \n",
      " 12  player_rating_away_player_2                     6079 non-null   int64  \n",
      " 13  player_rating_away_player_3                     6079 non-null   int64  \n",
      " 14  player_rating_away_player_4                     6079 non-null   int64  \n",
      " 15  player_rating_away_player_5                     6079 non-null   int64  \n",
      " 16  player_rating_away_player_6                     6079 non-null   int64  \n",
      " 17  player_rating_away_player_7                     6079 non-null   int64  \n",
      " 18  player_rating_away_player_8                     6079 non-null   int64  \n",
      " 19  player_rating_away_player_9                     6079 non-null   int64  \n",
      " 20  player_rating_away_player_10                    6079 non-null   int64  \n",
      " 21  player_rating_away_player_11                    6079 non-null   int64  \n",
      " 22  ewm_home_team_goals                             6046 non-null   float64\n",
      " 23  ewm_away_team_goals                             6045 non-null   float64\n",
      " 24  ewm_home_team_goals_conceded                    6046 non-null   float64\n",
      " 25  ewm_away_team_goals_conceded                    6045 non-null   float64\n",
      " 26  points_home                                     6079 non-null   int64  \n",
      " 27  points_away                                     6079 non-null   int64  \n",
      " 28  home_weighted_wins                              6079 non-null   float64\n",
      " 29  away_weighted_wins                              6079 non-null   float64\n",
      " 30  avg_home_team_rating                            6079 non-null   float64\n",
      " 31  avg_away_team_rating                            6079 non-null   float64\n",
      " 32  home_streak_wins                                6079 non-null   float64\n",
      " 33  away_streak_wins                                6079 non-null   float64\n",
      " 34  ewm_shoton_home                                 6046 non-null   float64\n",
      " 35  ewm_shoton_away                                 6045 non-null   float64\n",
      " 36  ewm_possession_home                             6046 non-null   float64\n",
      " 37  ewm_possession_away                             6045 non-null   float64\n",
      " 38  result_match                                    6079 non-null   object \n",
      " 39  avg_home_rating_attack                          6079 non-null   float64\n",
      " 40  avg_away_rating_attack                          6079 non-null   float64\n",
      " 41  avg_away_rating_defence                         6079 non-null   float64\n",
      " 42  avg_home_rating_defence                         6079 non-null   float64\n",
      " 43  average_rating_home                             6079 non-null   float64\n",
      " 44  average_rating_away                             6079 non-null   float64\n",
      " 45  num_top_players_home                            6079 non-null   int64  \n",
      " 46  num_top_players_away                            6079 non-null   int64  \n",
      " 47  ewm_home_team_goals_conceded_x_ewm_shoton_home  6046 non-null   float64\n",
      " 48  attacking_strength_home                         6046 non-null   float64\n",
      " 49  attacking_strength_away                         6045 non-null   float64\n",
      " 50  attacking_strength_diff                         6033 non-null   float64\n",
      "dtypes: float64(24), int64(26), object(1)\n",
      "memory usage: 2.4+ MB\n"
     ]
    }
   ],
   "source": [
    "df_.info()"
   ],
   "metadata": {
    "collapsed": false,
    "ExecuteTime": {
     "end_time": "2024-04-12T16:14:54.663348600Z",
     "start_time": "2024-04-12T16:14:54.642349700Z"
    }
   },
   "execution_count": 18
  },
  {
   "cell_type": "code",
   "execution_count": 19,
   "metadata": {
    "ExecuteTime": {
     "end_time": "2024-04-12T16:14:54.799348300Z",
     "start_time": "2024-04-12T16:14:54.656349200Z"
    }
   },
   "outputs": [],
   "source": [
    "import os\n",
    "import json\n",
    "\n",
    "output_dir = \"../../data/new_features/\"\n",
    "\n",
    "if not os.path.exists(output_dir):\n",
    "    os.makedirs(output_dir)\n",
    "\n",
    "df_.drop('result_match', axis=1).to_csv(output_dir + 'df.csv', index=False)\n",
    "df_['result_match'].to_csv(output_dir + 'y.csv', index=False)"
   ]
  },
  {
   "cell_type": "code",
   "outputs": [],
   "source": [
    "# df_.select_dtypes(include=['category']).describe().round(2)"
   ],
   "metadata": {
    "collapsed": false,
    "ExecuteTime": {
     "end_time": "2024-04-12T16:14:54.811351300Z",
     "start_time": "2024-04-12T16:14:54.797349800Z"
    }
   },
   "execution_count": 20
  },
  {
   "cell_type": "code",
   "outputs": [],
   "source": [],
   "metadata": {
    "collapsed": false,
    "ExecuteTime": {
     "end_time": "2024-04-12T16:14:54.841349800Z",
     "start_time": "2024-04-12T16:14:54.813353900Z"
    }
   },
   "execution_count": 20
  }
 ],
 "metadata": {
  "kernelspec": {
   "display_name": "Python 3 (ipykernel)",
   "language": "python",
   "name": "python3"
  },
  "language_info": {
   "codemirror_mode": {
    "name": "ipython",
    "version": 3
   },
   "file_extension": ".py",
   "mimetype": "text/x-python",
   "name": "python",
   "nbconvert_exporter": "python",
   "pygments_lexer": "ipython3",
   "version": "3.10.8"
  }
 },
 "nbformat": 4,
 "nbformat_minor": 4
}
