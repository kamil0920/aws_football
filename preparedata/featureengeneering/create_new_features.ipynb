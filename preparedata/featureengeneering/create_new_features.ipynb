{
 "cells": [
  {
   "cell_type": "code",
   "execution_count": 1,
   "metadata": {
    "collapsed": false,
    "pycharm": {
     "name": "#%%\n"
    },
    "ExecuteTime": {
     "end_time": "2024-01-23T07:09:53.738222900Z",
     "start_time": "2024-01-23T07:09:53.569307400Z"
    }
   },
   "outputs": [],
   "source": [
    "import pandas as pd\n",
    "import matplotlib.pyplot as plt\n",
    "import seaborn as sns\n",
    "\n",
    "from xgboost import XGBClassifier\n",
    "\n",
    "from sklearn.model_selection import train_test_split\n",
    "from sklearn.metrics import accuracy_score, f1_score\n",
    "\n",
    "import warnings\n",
    "\n",
    "warnings.filterwarnings('ignore')"
   ]
  },
  {
   "cell_type": "code",
   "outputs": [],
   "source": [
    "def train_and_evaluate(X_train, y_train, X_val, y_val, random_state=42, enable_categorical=True):\n",
    "    \"\"\"\n",
    "    Train an XGBClassifier on the provided training data and evaluate it on the validation data.\n",
    "\n",
    "    Parameters:\n",
    "    X_train (DataFrame): Training feature data\n",
    "    y_train (Series): Training target data\n",
    "    X_val (DataFrame): Validation feature data\n",
    "    y_val (Series): Validation target data\n",
    "    random_state (int): Random state for reproducibility\n",
    "    enable_categorical (bool): Enable categorical feature support\n",
    "\n",
    "    Returns:\n",
    "    float: The F1 score of the model on the validation data\n",
    "    \"\"\"\n",
    "    # Initialize the XGBClassifier\n",
    "    xgb_model = XGBClassifier(random_state=random_state, enable_categorical=enable_categorical)\n",
    "\n",
    "    # Train the model on the full feature set\n",
    "    xgb_model.fit(X_train, y_train)\n",
    "\n",
    "    # Predictions and evaluation on the full feature set\n",
    "    y_pred = xgb_model.predict(X_val)\n",
    "    f1_score_val = f1_score(y_val, y_pred, average='weighted')\n",
    "\n",
    "    return f1_score_val"
   ],
   "metadata": {
    "collapsed": false,
    "ExecuteTime": {
     "end_time": "2024-01-23T07:09:53.763542700Z",
     "start_time": "2024-01-23T07:09:53.741306700Z"
    }
   },
   "execution_count": 2
  },
  {
   "cell_type": "code",
   "execution_count": 3,
   "metadata": {
    "collapsed": false,
    "pycharm": {
     "name": "#%%\n"
    },
    "ExecuteTime": {
     "end_time": "2024-01-23T07:09:54.197404Z",
     "start_time": "2024-01-23T07:09:53.754542500Z"
    }
   },
   "outputs": [
    {
     "name": "stdout",
     "output_type": "stream",
     "text": [
      "Base line f1: 0.47483131364816905\n"
     ]
    }
   ],
   "source": [
    "# X = pd.read_csv('../../data/imputed/df.csv')\n",
    "# y = pd.read_csv('../../data/imputed/y.csv')\n",
    "\n",
    "X = pd.read_csv('../../data/start_dataset.csv')\n",
    "y = pd.read_csv('../../data/y.csv')\n",
    "\n",
    "X_train_full, X_val_full, y_train, y_val = train_test_split(X, y, test_size=0.2, random_state=42, stratify=y)\n",
    "\n",
    "f1=train_and_evaluate(X_train_full, y_train, X_val_full, y_val)\n",
    "print(f'Base line f1: {f1}')"
   ]
  },
  {
   "cell_type": "code",
   "execution_count": 4,
   "outputs": [],
   "source": [
    "df_ = X.copy()"
   ],
   "metadata": {
    "collapsed": false,
    "pycharm": {
     "name": "#%%\n"
    },
    "ExecuteTime": {
     "end_time": "2024-01-23T07:09:54.225026100Z",
     "start_time": "2024-01-23T07:09:54.188222900Z"
    }
   }
  },
  {
   "cell_type": "code",
   "execution_count": 5,
   "metadata": {
    "collapsed": false,
    "pycharm": {
     "name": "#%%\n"
    },
    "ExecuteTime": {
     "end_time": "2024-01-23T07:09:54.246559200Z",
     "start_time": "2024-01-23T07:09:54.204679500Z"
    }
   },
   "outputs": [
    {
     "data": {
      "text/plain": "Index(['diff_player_1', 'diff_player_2', 'diff_player_3', 'diff_player_4',\n       'diff_player_5', 'diff_player_6', 'diff_player_7', 'diff_player_8',\n       'diff_player_9', 'diff_player_10', 'diff_player_11'],\n      dtype='object')"
     },
     "execution_count": 5,
     "metadata": {},
     "output_type": "execute_result"
    }
   ],
   "source": [
    "# # List of player positions for which we have ratings\n",
    "player_positions = range(1, 12)\n",
    "\n",
    "# Calculate the difference from the average for each player\n",
    "for position in player_positions:\n",
    "    home_player_col = f'player_rating_home_player_{position}'\n",
    "    away_player_col = f'player_rating_away_player_{position}'\n",
    "\n",
    "    df_[f'diff_player_{position}'] = df_[home_player_col] - df_[away_player_col]\n",
    "    # df_.drop([home_player_col, away_player_col], axis=1, inplace=True)\n",
    "\n",
    "# Display the dataframe to confirm the new features\n",
    "df_.filter(like='diff_player').columns"
   ]
  },
  {
   "cell_type": "code",
   "execution_count": 6,
   "metadata": {
    "ExecuteTime": {
     "end_time": "2024-01-23T07:09:54.277243800Z",
     "start_time": "2024-01-23T07:09:54.235250900Z"
    }
   },
   "outputs": [],
   "source": [
    "home_player_rating_columns = [col for col in df_.columns if 'player_rating_home_player' in col]\n",
    "away_player_rating_columns = [col for col in df_.columns if 'player_rating_away_player' in col]\n",
    "\n",
    "df_['rating_range_home'] = df_[home_player_rating_columns].max(axis=1) - df_[home_player_rating_columns].min(axis=1)\n",
    "df_['rating_range_away'] = df_[away_player_rating_columns].max(axis=1) - df_[away_player_rating_columns].min(axis=1)"
   ]
  },
  {
   "cell_type": "code",
   "execution_count": 7,
   "metadata": {
    "ExecuteTime": {
     "end_time": "2024-01-23T07:09:54.280357700Z",
     "start_time": "2024-01-23T07:09:54.249651200Z"
    }
   },
   "outputs": [],
   "source": [
    "away_players_6_11 = [col for col in df_.columns if col.startswith('player_rating_away') and int(col.split('_')[-1]) in range(6,12)]\n",
    "home_players_6_11 = [col for col in df_.columns if col.startswith('player_rating_home') and int(col.split('_')[-1]) in range(6, 12)] \n",
    "\n",
    "away_players_1_5 = [col for col in df_.columns if col.startswith('player_rating_away') and int(col.split('_')[-1]) in range(1,6)]\n",
    "home_players_1_5 = [col for col in df_.columns if col.startswith('player_rating_home') and int(col.split('_')[-1]) in range(1, 6)]\n",
    "\n",
    "df_['avg_home_rating_attack'] = df_[away_players_6_11].mean(axis=1).round(2)\n",
    "df_['avg_away_rating_attack'] = df_[home_players_6_11].mean(axis=1).round(2)\n",
    "\n",
    "df_['avg_away_rating_defence'] = df_[away_players_1_5].mean(axis=1).round(2)\n",
    "df_['avg_home_rating_defence'] = df_[home_players_1_5].mean(axis=1).round(2)"
   ]
  },
  {
   "cell_type": "code",
   "execution_count": 8,
   "metadata": {
    "ExecuteTime": {
     "end_time": "2024-01-23T07:09:54.297903Z",
     "start_time": "2024-01-23T07:09:54.281357600Z"
    }
   },
   "outputs": [],
   "source": [
    "home_player_columns = [col for col in df_.columns if 'player_rating_home_player' in col]\n",
    "away_player_columns = [col for col in df_.columns if 'player_rating_away_player' in col]\n",
    "\n",
    "df_['average_rating_home'] = df_[home_player_columns].mean(axis=1)\n",
    "df_['average_rating_away'] = df_[away_player_columns].mean(axis=1)"
   ]
  },
  {
   "cell_type": "code",
   "execution_count": 9,
   "metadata": {
    "ExecuteTime": {
     "end_time": "2024-01-23T07:09:54.680474800Z",
     "start_time": "2024-01-23T07:09:54.296856900Z"
    }
   },
   "outputs": [],
   "source": [
    "# Top Players Impact: identify if the team has exceptionally high-rated players, threshold: 15% best players\n",
    "all_player_columns = [col for col in df_.columns if 'player_rating_' in col]\n",
    "top_5_percent_threshold = df_[all_player_columns].stack().quantile(0.9)\n",
    "\n",
    "# Count the number of top players in each team\n",
    "df_['num_top_players_home'] = df_[[col for col in df_.columns if 'player_rating_home_player' in col]].apply(lambda x: (x > top_5_percent_threshold).sum(), axis=1)\n",
    "df_['num_top_players_away'] = df_[[col for col in df_.columns if 'player_rating_away_player' in col]].apply(lambda x: (x > top_5_percent_threshold).sum(), axis=1)"
   ]
  },
  {
   "cell_type": "code",
   "outputs": [
    {
     "name": "stdout",
     "output_type": "stream",
     "text": [
      "Base line f1: 0.4869535539215686\n"
     ]
    }
   ],
   "source": [
    "# Splitting the original dataset\n",
    "X_train_full, X_val_full, y_train, y_val = train_test_split(df_, y, test_size=0.2, random_state=42, stratify=y)\n",
    "\n",
    "f1=train_and_evaluate(X_train_full, y_train, X_val_full, y_val)\n",
    "print(f'Base line f1: {f1}')"
   ],
   "metadata": {
    "collapsed": false,
    "ExecuteTime": {
     "end_time": "2024-01-23T07:09:55.130495200Z",
     "start_time": "2024-01-23T07:09:54.683577300Z"
    }
   },
   "execution_count": 10
  },
  {
   "cell_type": "code",
   "execution_count": 11,
   "metadata": {
    "ExecuteTime": {
     "end_time": "2024-01-23T07:09:55.222126300Z",
     "start_time": "2024-01-23T07:09:55.131521400Z"
    }
   },
   "outputs": [],
   "source": [
    "import os\n",
    "import json\n",
    "\n",
    "output_dir = \"../../data/new_features/\"\n",
    "\n",
    "if not os.path.exists(output_dir):\n",
    "    os.makedirs(output_dir)\n",
    "\n",
    "df_.to_csv(output_dir + 'df_.csv', index=False)\n",
    "y.to_csv(output_dir + 'y.csv', index=False)"
   ]
  },
  {
   "cell_type": "code",
   "outputs": [],
   "source": [],
   "metadata": {
    "collapsed": false,
    "ExecuteTime": {
     "end_time": "2024-01-23T07:09:55.246796100Z",
     "start_time": "2024-01-23T07:09:55.222126300Z"
    }
   },
   "execution_count": 11
  },
  {
   "cell_type": "code",
   "outputs": [],
   "source": [],
   "metadata": {
    "collapsed": false,
    "ExecuteTime": {
     "end_time": "2024-01-23T07:09:55.259143900Z",
     "start_time": "2024-01-23T07:09:55.238542600Z"
    }
   },
   "execution_count": 11
  }
 ],
 "metadata": {
  "kernelspec": {
   "display_name": "Python 3 (ipykernel)",
   "language": "python",
   "name": "python3"
  },
  "language_info": {
   "codemirror_mode": {
    "name": "ipython",
    "version": 3
   },
   "file_extension": ".py",
   "mimetype": "text/x-python",
   "name": "python",
   "nbconvert_exporter": "python",
   "pygments_lexer": "ipython3",
   "version": "3.10.8"
  }
 },
 "nbformat": 4,
 "nbformat_minor": 4
}
