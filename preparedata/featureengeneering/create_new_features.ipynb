{
 "cells": [
  {
   "cell_type": "code",
   "execution_count": 1,
   "metadata": {
    "collapsed": false,
    "pycharm": {
     "name": "#%%\n"
    },
    "ExecuteTime": {
     "end_time": "2024-02-05T17:18:58.024901500Z",
     "start_time": "2024-02-05T17:18:57.867799600Z"
    }
   },
   "outputs": [],
   "source": [
    "import pandas as pd\n",
    "import numpy as np\n",
    "\n",
    "from xgboost import XGBClassifier\n",
    "\n",
    "from sklearn.model_selection import train_test_split\n",
    "from sklearn.metrics import f1_score\n",
    "\n",
    "import matplotlib.pyplot as plt\n",
    "import seaborn as sns\n",
    "\n",
    "import warnings\n",
    "\n",
    "warnings.filterwarnings('ignore')"
   ]
  },
  {
   "cell_type": "code",
   "outputs": [],
   "source": [
    "def visualize_data_with_target(df, col_1, col_2, diff_col, target):\n",
    "    \"\"\"\n",
    "    Visualizes relationships between team rating, goals conceded, defensive weakness, and match results.\n",
    "\n",
    "    Parameters:\n",
    "    - df: DataFrame containing the data.\n",
    "    - col_1: Column name for the average rating of the home team.\n",
    "    - col_2: Column name for the goals conceded by the home team.\n",
    "    - diff_col: Column name for different between col_1 and col_2.\n",
    "    - target: Target variable with match results encoded as 0 (home not win), 1 (home win).\n",
    "    \"\"\"\n",
    "    df_target = df.copy()\n",
    "    df_target['result_match'] = target\n",
    "    df_target['result_match_c'] = df_target['result_match'].apply(lambda x: 'home_win' if x == 1 else 'home_not_win')\n",
    "\n",
    "    # Scatter plot for average rating vs goals conceded\n",
    "    plt.figure(figsize=(10, 6))\n",
    "    sns.scatterplot(data=df_target, x=col_1, y=col_2, hue='result_match_c', palette='viridis')\n",
    "    plt.title(f'{col_1} vs {col_2}')\n",
    "    plt.xlabel(f'{col_1}')\n",
    "    plt.ylabel(f'{col_2}')\n",
    "    plt.legend(title='Match Result')\n",
    "    plt.show()\n",
    "\n",
    "    # Box plot for defensive weakness across match result categories\n",
    "    plt.figure(figsize=(10, 6))\n",
    "    sns.boxplot(data=df_target, x='result_match', y=diff_col, palette='viridis')\n",
    "    plt.title(f'{diff_col} Across Match Results')\n",
    "    plt.xlabel('Match Result')\n",
    "    plt.ylabel(f'{diff_col}')\n",
    "    plt.show()\n"
   ],
   "metadata": {
    "collapsed": false,
    "ExecuteTime": {
     "end_time": "2024-02-05T17:18:58.042615900Z",
     "start_time": "2024-02-05T17:18:58.024901500Z"
    }
   },
   "execution_count": 2
  },
  {
   "cell_type": "code",
   "outputs": [],
   "source": [
    "def evaluate_model(X, y):\n",
    "    X_train, X_val, y_train, y_val = train_test_split(X, y, test_size=0.2, random_state=42, stratify=y)\n",
    "\n",
    "    best_f1 = 0.0\n",
    "\n",
    "    model = XGBClassifier(random_state=42, enable_categorical=True)\n",
    "    model.fit(X_train, y_train, eval_set=[(X_train, y_train), (X_val, y_val)], verbose=0, early_stopping_rounds=25)\n",
    "    \n",
    "    y_pred = model.predict(X_val)\n",
    "    f1 = f1_score(y_val, y_pred, average='weighted')\n",
    "            \n",
    "    return f1"
   ],
   "metadata": {
    "collapsed": false,
    "ExecuteTime": {
     "end_time": "2024-02-05T17:18:58.057072100Z",
     "start_time": "2024-02-05T17:18:58.041559700Z"
    }
   },
   "execution_count": 3
  },
  {
   "cell_type": "code",
   "execution_count": 4,
   "metadata": {
    "collapsed": false,
    "pycharm": {
     "name": "#%%\n"
    },
    "ExecuteTime": {
     "end_time": "2024-02-05T17:18:58.212901500Z",
     "start_time": "2024-02-05T17:18:58.057105900Z"
    }
   },
   "outputs": [
    {
     "name": "stdout",
     "output_type": "stream",
     "text": [
      "Base line f1: 0.6079095412522771\n"
     ]
    }
   ],
   "source": [
    "# X = pd.read_csv('../../data/imputed/df.csv')\n",
    "# y = pd.read_csv('../../data/imputed/y.csv')\n",
    "\n",
    "X = pd.read_csv('../../data/start_dataset.csv')\n",
    "y = pd.read_csv('../../data/y.csv', dtype='int8')\n",
    "\n",
    "f1 = evaluate_model(X, y)\n",
    "print(f'Base line f1: {f1}')"
   ]
  },
  {
   "cell_type": "code",
   "execution_count": 5,
   "outputs": [],
   "source": [
    "df_ = X.copy()"
   ],
   "metadata": {
    "collapsed": false,
    "pycharm": {
     "name": "#%%\n"
    },
    "ExecuteTime": {
     "end_time": "2024-02-05T17:18:58.234564300Z",
     "start_time": "2024-02-05T17:18:58.212901500Z"
    }
   }
  },
  {
   "cell_type": "code",
   "execution_count": 6,
   "metadata": {
    "ExecuteTime": {
     "end_time": "2024-02-05T17:18:58.246935100Z",
     "start_time": "2024-02-05T17:18:58.227284700Z"
    }
   },
   "outputs": [],
   "source": [
    "# away_players_6_11 = [col for col in df_.columns if col.startswith('player_rating_away') and int(col.split('_')[-2]) in range(6, 12)]\n",
    "# home_players_6_11 = [col for col in df_.columns if col.startswith('player_rating_home') and int(col.split('_')[-2]) in range(6, 12)]\n",
    "# \n",
    "# away_players_1_5 = [col for col in df_.columns if col.startswith('player_rating_away') and int(col.split('_')[-2]) in range(1, 6)]\n",
    "# home_players_1_5 = [col for col in df_.columns if col.startswith('player_rating_home') and int(col.split('_')[-2]) in range(1, 6)]\n",
    "# \n",
    "# df_['avg_home_rating_attack'] = df_[away_players_6_11].mean(axis=1).round(2)\n",
    "# df_['avg_away_rating_attack'] = df_[home_players_6_11].mean(axis=1).round(2)\n",
    "# \n",
    "# df_['avg_away_rating_defence'] = df_[away_players_1_5].mean(axis=1).round(2)\n",
    "# df_['avg_home_rating_defence'] = df_[home_players_1_5].mean(axis=1).round(2)"
   ]
  },
  {
   "cell_type": "code",
   "execution_count": 7,
   "metadata": {
    "ExecuteTime": {
     "end_time": "2024-02-05T17:18:58.260276300Z",
     "start_time": "2024-02-05T17:18:58.242836700Z"
    }
   },
   "outputs": [],
   "source": [
    "home_player_columns = [col for col in df_.columns if 'player_rating_home_player' in col]\n",
    "away_player_columns = [col for col in df_.columns if 'player_rating_away_player' in col]\n",
    "\n",
    "df_['average_rating_home'] = df_[home_player_columns].mean(axis=1)\n",
    "df_['average_rating_away'] = df_[away_player_columns].mean(axis=1)"
   ]
  },
  {
   "cell_type": "code",
   "execution_count": 8,
   "metadata": {
    "ExecuteTime": {
     "end_time": "2024-02-05T17:18:58.656748700Z",
     "start_time": "2024-02-05T17:18:58.258227400Z"
    }
   },
   "outputs": [],
   "source": [
    "# Top Players Impact: identify if the team has exceptionally high-rated players, threshold: 5% best players\n",
    "all_player_columns = [col for col in df_.columns if 'player_rating_' in col]\n",
    "top_5_percent_threshold = df_[all_player_columns].stack().quantile(0.95)\n",
    "\n",
    "# Count the number of top players in each team\n",
    "df_['num_top_players_home'] = df_[[col for col in df_.columns if 'player_rating_home_player' in col]].apply(lambda x: (x > top_5_percent_threshold).sum(), axis=1)\n",
    "df_['num_top_players_away'] = df_[[col for col in df_.columns if 'player_rating_away_player' in col]].apply(lambda x: (x > top_5_percent_threshold).sum(), axis=1)"
   ]
  },
  {
   "cell_type": "code",
   "outputs": [],
   "source": [
    "df_['avg_home_team_rating_x_ewm_shoton_away'] = (df_['avg_home_team_rating'] * df_['ewm_shoton_away']) / 10"
   ],
   "metadata": {
    "collapsed": false,
    "ExecuteTime": {
     "end_time": "2024-02-05T17:18:58.668213600Z",
     "start_time": "2024-02-05T17:18:58.651547Z"
    }
   },
   "execution_count": 9
  },
  {
   "cell_type": "code",
   "outputs": [],
   "source": [
    "# df_['ewm_home_team_goals_conceded_x_ewm_shoton_home'] = df_['ewm_home_team_goals_conceded'] * df_['ewm_shoton_home']\n",
    "# # \n",
    "# bins = [-float('inf')] + df_['ewm_home_team_goals_conceded_x_ewm_shoton_home'].quantile([0.3, 0.5, 0.7, 0.9]).tolist() + [float('inf')]\n",
    "# labels = [f'Bin{i}' for i in range(1, len(bins))]\n",
    "# \n",
    "# df_[f'ewm_home_team_goals_conceded_x_ewm_shoton_home_home_binned'] = pd.cut(df_['ewm_home_team_goals_conceded_x_ewm_shoton_home'], bins, labels=labels, include_lowest=True)\n",
    "# df_.drop('ewm_home_team_goals_conceded_x_ewm_shoton_home', axis=1, inplace=True)\n",
    "# df_[['ewm_home_team_goals_conceded_x_ewm_shoton_home']].describe().round(2)"
   ],
   "metadata": {
    "collapsed": false,
    "ExecuteTime": {
     "end_time": "2024-02-05T17:18:58.681688500Z",
     "start_time": "2024-02-05T17:18:58.668213600Z"
    }
   },
   "execution_count": 10
  },
  {
   "cell_type": "code",
   "outputs": [],
   "source": [
    "# Create a new feature that is the product of the inverse of the average rating\n",
    "# and the goals conceded. The inverse is used to reflect that a lower rating\n",
    "# means a weaker team. You might want to add a constant to avoid division by zero.\n",
    "\n",
    "df_['defensive_weakness_home'] = (df_['ewm_home_team_goals_conceded'] / (df_['average_rating_home'])) * 100\n",
    "df_['defensive_weakness_away'] = (df_['ewm_away_team_goals_conceded'] / (df_['average_rating_away'])) * 100\n",
    "\n",
    "df_['defensive_weakness_diff'] = df_['defensive_weakness_home'] - df_['defensive_weakness_away']\n",
    "\n",
    "df_.drop(['defensive_weakness_home', 'defensive_weakness_away'], axis=1, inplace=True)"
   ],
   "metadata": {
    "collapsed": false,
    "ExecuteTime": {
     "end_time": "2024-02-05T17:18:58.720054400Z",
     "start_time": "2024-02-05T17:18:58.681688500Z"
    }
   },
   "execution_count": 11
  },
  {
   "cell_type": "code",
   "outputs": [],
   "source": [
    "# correlation = df_['ewm_home_team_goals'].corr(df_['average_rating_home'])\n",
    "# print(f\"Correlation coefficient: {correlation}\")"
   ],
   "metadata": {
    "collapsed": false,
    "ExecuteTime": {
     "end_time": "2024-02-05T17:18:58.723156500Z",
     "start_time": "2024-02-05T17:18:58.697285300Z"
    }
   },
   "execution_count": 12
  },
  {
   "cell_type": "code",
   "outputs": [],
   "source": [
    "# Example usage\n",
    "# Assuming 'df_' is your DataFrame, 'y' is your target array, and you have specified column names\n",
    "# visualize_data_with_target(df=df_, \n",
    "#                            col_1='average_rating_home', \n",
    "#                            col_2='ewm_home_team_goals', \n",
    "#                            diff_col='defensive_weakness_diff', \n",
    "#                            target=y)"
   ],
   "metadata": {
    "collapsed": false,
    "ExecuteTime": {
     "end_time": "2024-02-05T17:18:58.734621100Z",
     "start_time": "2024-02-05T17:18:58.712831200Z"
    }
   },
   "execution_count": 13
  },
  {
   "cell_type": "code",
   "outputs": [],
   "source": [
    "df_['ewm_possession_home_x_ewm_shoton_home'] = (df_['ewm_possession_home'] * df_['ewm_shoton_home']) / 100"
   ],
   "metadata": {
    "collapsed": false,
    "ExecuteTime": {
     "end_time": "2024-02-05T17:18:58.744051400Z",
     "start_time": "2024-02-05T17:18:58.728346Z"
    }
   },
   "execution_count": 14
  },
  {
   "cell_type": "code",
   "outputs": [
    {
     "name": "stdout",
     "output_type": "stream",
     "text": [
      "Base line f1: 0.6420969905089159\n"
     ]
    }
   ],
   "source": [
    "f1 = evaluate_model(df_, y)\n",
    "print(f'Base line f1: {f1}')"
   ],
   "metadata": {
    "collapsed": false,
    "ExecuteTime": {
     "end_time": "2024-02-05T17:18:58.870460700Z",
     "start_time": "2024-02-05T17:18:58.745106500Z"
    }
   },
   "execution_count": 15
  },
  {
   "cell_type": "code",
   "execution_count": 16,
   "metadata": {
    "ExecuteTime": {
     "end_time": "2024-02-05T17:18:58.975884500Z",
     "start_time": "2024-02-05T17:18:58.869413200Z"
    }
   },
   "outputs": [],
   "source": [
    "import os\n",
    "import json\n",
    "\n",
    "output_dir = \"../../data/new_features/\"\n",
    "\n",
    "if not os.path.exists(output_dir):\n",
    "    os.makedirs(output_dir)\n",
    "\n",
    "df_.to_csv(output_dir + 'df_.csv', index=False)\n",
    "y.to_csv(output_dir + 'y.csv', index=False)"
   ]
  },
  {
   "cell_type": "code",
   "outputs": [
    {
     "name": "stdout",
     "output_type": "stream",
     "text": [
      "<class 'pandas.core.frame.DataFrame'>\n",
      "RangeIndex: 3040 entries, 0 to 3039\n",
      "Data columns (total 46 columns):\n",
      " #   Column                                  Non-Null Count  Dtype  \n",
      "---  ------                                  --------------  -----  \n",
      " 0   stage                                   3040 non-null   int64  \n",
      " 1   player_rating_home_player_1             3040 non-null   int64  \n",
      " 2   player_rating_home_player_2             3040 non-null   int64  \n",
      " 3   player_rating_home_player_3             3040 non-null   int64  \n",
      " 4   player_rating_home_player_4             3040 non-null   int64  \n",
      " 5   player_rating_home_player_5             3040 non-null   int64  \n",
      " 6   player_rating_home_player_6             3040 non-null   int64  \n",
      " 7   player_rating_home_player_7             3040 non-null   int64  \n",
      " 8   player_rating_home_player_8             3040 non-null   int64  \n",
      " 9   player_rating_home_player_9             3040 non-null   int64  \n",
      " 10  player_rating_home_player_10            3040 non-null   int64  \n",
      " 11  player_rating_home_player_11            3040 non-null   int64  \n",
      " 12  player_rating_away_player_1             3040 non-null   int64  \n",
      " 13  player_rating_away_player_2             3040 non-null   int64  \n",
      " 14  player_rating_away_player_3             3040 non-null   int64  \n",
      " 15  player_rating_away_player_4             3040 non-null   int64  \n",
      " 16  player_rating_away_player_5             3040 non-null   int64  \n",
      " 17  player_rating_away_player_6             3040 non-null   int64  \n",
      " 18  player_rating_away_player_7             3040 non-null   int64  \n",
      " 19  player_rating_away_player_8             3040 non-null   int64  \n",
      " 20  player_rating_away_player_9             3040 non-null   int64  \n",
      " 21  player_rating_away_player_10            3040 non-null   int64  \n",
      " 22  player_rating_away_player_11            3040 non-null   int64  \n",
      " 23  ewm_home_team_goals                     3024 non-null   float64\n",
      " 24  ewm_away_team_goals                     3022 non-null   float64\n",
      " 25  ewm_home_team_goals_conceded            3024 non-null   float64\n",
      " 26  ewm_away_team_goals_conceded            3022 non-null   float64\n",
      " 27  points_home                             3040 non-null   int64  \n",
      " 28  points_away                             3040 non-null   int64  \n",
      " 29  home_weighted_wins                      3040 non-null   float64\n",
      " 30  away_weighted_wins                      3040 non-null   float64\n",
      " 31  avg_home_team_rating                    3040 non-null   float64\n",
      " 32  avg_away_team_rating                    3040 non-null   float64\n",
      " 33  home_streak_wins                        3040 non-null   float64\n",
      " 34  away_streak_wins                        3040 non-null   float64\n",
      " 35  ewm_shoton_home                         3024 non-null   float64\n",
      " 36  ewm_shoton_away                         3022 non-null   float64\n",
      " 37  ewm_possession_home                     3024 non-null   float64\n",
      " 38  ewm_possession_away                     3022 non-null   float64\n",
      " 39  average_rating_home                     3040 non-null   float64\n",
      " 40  average_rating_away                     3040 non-null   float64\n",
      " 41  num_top_players_home                    3040 non-null   int64  \n",
      " 42  num_top_players_away                    3040 non-null   int64  \n",
      " 43  avg_home_team_rating_x_ewm_shoton_away  3022 non-null   float64\n",
      " 44  defensive_weakness_diff                 3016 non-null   float64\n",
      " 45  ewm_possession_home_x_ewm_shoton_home   3024 non-null   float64\n",
      "dtypes: float64(19), int64(27)\n",
      "memory usage: 1.1 MB\n"
     ]
    }
   ],
   "source": [
    "df_.info()"
   ],
   "metadata": {
    "collapsed": false,
    "ExecuteTime": {
     "end_time": "2024-02-05T17:18:58.976935900Z",
     "start_time": "2024-02-05T17:18:58.946588Z"
    }
   },
   "execution_count": 17
  },
  {
   "cell_type": "code",
   "outputs": [
    {
     "data": {
      "text/plain": "         stage  player_rating_home_player_1  player_rating_home_player_2  \\\ncount  3040.00                      3040.00                      3040.00   \nmean     19.50                        76.05                        76.05   \nstd      10.97                         4.83                         4.83   \nmin       1.00                        46.00                        46.00   \n25%      10.00                        73.00                        73.00   \n50%      19.50                        76.00                        76.00   \n75%      29.00                        79.00                        79.00   \nmax      38.00                        91.00                        91.00   \n\n       player_rating_home_player_3  player_rating_home_player_4  \\\ncount                      3040.00                      3040.00   \nmean                         76.05                        76.05   \nstd                           4.83                         4.83   \nmin                          46.00                        46.00   \n25%                          73.00                        73.00   \n50%                          76.00                        76.00   \n75%                          79.00                        79.00   \nmax                          91.00                        91.00   \n\n       player_rating_home_player_5  player_rating_home_player_6  \\\ncount                      3040.00                      3040.00   \nmean                         76.05                        76.05   \nstd                           4.83                         4.83   \nmin                          46.00                        46.00   \n25%                          73.00                        73.00   \n50%                          76.00                        76.00   \n75%                          79.00                        79.00   \nmax                          91.00                        91.00   \n\n       player_rating_home_player_7  player_rating_home_player_8  \\\ncount                      3040.00                      3040.00   \nmean                         75.88                        75.92   \nstd                           4.87                         5.13   \nmin                          45.00                        45.00   \n25%                          73.00                        72.75   \n50%                          76.00                        76.00   \n75%                          79.00                        79.00   \nmax                          89.00                        88.00   \n\n       player_rating_home_player_9  ...  ewm_shoton_away  ewm_possession_home  \\\ncount                      3040.00  ...          3022.00              3024.00   \nmean                         76.79  ...             5.88                48.88   \nstd                           5.37  ...             1.33                 3.91   \nmin                          51.00  ...             0.51                17.26   \n25%                          73.00  ...             5.00                47.08   \n50%                          76.50  ...             5.68                49.17   \n75%                          80.00  ...             6.82                51.20   \nmax                          91.00  ...            12.00                69.00   \n\n       ewm_possession_away  average_rating_home  average_rating_away  \\\ncount              3022.00              3040.00              3040.00   \nmean                 48.94                76.34                76.16   \nstd                   3.73                 4.11                 4.10   \nmin                  21.83                56.55                56.55   \n25%                  47.15                73.55                73.36   \n50%                  49.20                75.73                75.64   \n75%                  51.27                79.36                79.27   \nmax                  64.00                88.00                87.45   \n\n       num_top_players_home  num_top_players_away  \\\ncount               3040.00               3040.00   \nmean                   0.42                  0.38   \nstd                    1.22                  1.06   \nmin                    0.00                  0.00   \n25%                    0.00                  0.00   \n50%                    0.00                  0.00   \n75%                    0.00                  0.00   \nmax                    9.00                  9.00   \n\n       avg_home_team_rating_x_ewm_shoton_away  defensive_weakness_diff  \\\ncount                                 3022.00                  3016.00   \nmean                                    44.84                     0.10   \nstd                                     10.35                     1.12   \nmin                                      3.78                    -4.97   \n25%                                     37.98                    -0.63   \n50%                                     43.46                     0.08   \n75%                                     51.74                     0.82   \nmax                                     92.51                     5.03   \n\n       ewm_possession_home_x_ewm_shoton_home  \ncount                                3024.00  \nmean                                    2.86  \nstd                                     0.61  \nmin                                     0.23  \n25%                                     2.52  \n50%                                     2.83  \n75%                                     3.28  \nmax                                     5.20  \n\n[8 rows x 46 columns]",
      "text/html": "<div>\n<style scoped>\n    .dataframe tbody tr th:only-of-type {\n        vertical-align: middle;\n    }\n\n    .dataframe tbody tr th {\n        vertical-align: top;\n    }\n\n    .dataframe thead th {\n        text-align: right;\n    }\n</style>\n<table border=\"1\" class=\"dataframe\">\n  <thead>\n    <tr style=\"text-align: right;\">\n      <th></th>\n      <th>stage</th>\n      <th>player_rating_home_player_1</th>\n      <th>player_rating_home_player_2</th>\n      <th>player_rating_home_player_3</th>\n      <th>player_rating_home_player_4</th>\n      <th>player_rating_home_player_5</th>\n      <th>player_rating_home_player_6</th>\n      <th>player_rating_home_player_7</th>\n      <th>player_rating_home_player_8</th>\n      <th>player_rating_home_player_9</th>\n      <th>...</th>\n      <th>ewm_shoton_away</th>\n      <th>ewm_possession_home</th>\n      <th>ewm_possession_away</th>\n      <th>average_rating_home</th>\n      <th>average_rating_away</th>\n      <th>num_top_players_home</th>\n      <th>num_top_players_away</th>\n      <th>avg_home_team_rating_x_ewm_shoton_away</th>\n      <th>defensive_weakness_diff</th>\n      <th>ewm_possession_home_x_ewm_shoton_home</th>\n    </tr>\n  </thead>\n  <tbody>\n    <tr>\n      <th>count</th>\n      <td>3040.00</td>\n      <td>3040.00</td>\n      <td>3040.00</td>\n      <td>3040.00</td>\n      <td>3040.00</td>\n      <td>3040.00</td>\n      <td>3040.00</td>\n      <td>3040.00</td>\n      <td>3040.00</td>\n      <td>3040.00</td>\n      <td>...</td>\n      <td>3022.00</td>\n      <td>3024.00</td>\n      <td>3022.00</td>\n      <td>3040.00</td>\n      <td>3040.00</td>\n      <td>3040.00</td>\n      <td>3040.00</td>\n      <td>3022.00</td>\n      <td>3016.00</td>\n      <td>3024.00</td>\n    </tr>\n    <tr>\n      <th>mean</th>\n      <td>19.50</td>\n      <td>76.05</td>\n      <td>76.05</td>\n      <td>76.05</td>\n      <td>76.05</td>\n      <td>76.05</td>\n      <td>76.05</td>\n      <td>75.88</td>\n      <td>75.92</td>\n      <td>76.79</td>\n      <td>...</td>\n      <td>5.88</td>\n      <td>48.88</td>\n      <td>48.94</td>\n      <td>76.34</td>\n      <td>76.16</td>\n      <td>0.42</td>\n      <td>0.38</td>\n      <td>44.84</td>\n      <td>0.10</td>\n      <td>2.86</td>\n    </tr>\n    <tr>\n      <th>std</th>\n      <td>10.97</td>\n      <td>4.83</td>\n      <td>4.83</td>\n      <td>4.83</td>\n      <td>4.83</td>\n      <td>4.83</td>\n      <td>4.83</td>\n      <td>4.87</td>\n      <td>5.13</td>\n      <td>5.37</td>\n      <td>...</td>\n      <td>1.33</td>\n      <td>3.91</td>\n      <td>3.73</td>\n      <td>4.11</td>\n      <td>4.10</td>\n      <td>1.22</td>\n      <td>1.06</td>\n      <td>10.35</td>\n      <td>1.12</td>\n      <td>0.61</td>\n    </tr>\n    <tr>\n      <th>min</th>\n      <td>1.00</td>\n      <td>46.00</td>\n      <td>46.00</td>\n      <td>46.00</td>\n      <td>46.00</td>\n      <td>46.00</td>\n      <td>46.00</td>\n      <td>45.00</td>\n      <td>45.00</td>\n      <td>51.00</td>\n      <td>...</td>\n      <td>0.51</td>\n      <td>17.26</td>\n      <td>21.83</td>\n      <td>56.55</td>\n      <td>56.55</td>\n      <td>0.00</td>\n      <td>0.00</td>\n      <td>3.78</td>\n      <td>-4.97</td>\n      <td>0.23</td>\n    </tr>\n    <tr>\n      <th>25%</th>\n      <td>10.00</td>\n      <td>73.00</td>\n      <td>73.00</td>\n      <td>73.00</td>\n      <td>73.00</td>\n      <td>73.00</td>\n      <td>73.00</td>\n      <td>73.00</td>\n      <td>72.75</td>\n      <td>73.00</td>\n      <td>...</td>\n      <td>5.00</td>\n      <td>47.08</td>\n      <td>47.15</td>\n      <td>73.55</td>\n      <td>73.36</td>\n      <td>0.00</td>\n      <td>0.00</td>\n      <td>37.98</td>\n      <td>-0.63</td>\n      <td>2.52</td>\n    </tr>\n    <tr>\n      <th>50%</th>\n      <td>19.50</td>\n      <td>76.00</td>\n      <td>76.00</td>\n      <td>76.00</td>\n      <td>76.00</td>\n      <td>76.00</td>\n      <td>76.00</td>\n      <td>76.00</td>\n      <td>76.00</td>\n      <td>76.50</td>\n      <td>...</td>\n      <td>5.68</td>\n      <td>49.17</td>\n      <td>49.20</td>\n      <td>75.73</td>\n      <td>75.64</td>\n      <td>0.00</td>\n      <td>0.00</td>\n      <td>43.46</td>\n      <td>0.08</td>\n      <td>2.83</td>\n    </tr>\n    <tr>\n      <th>75%</th>\n      <td>29.00</td>\n      <td>79.00</td>\n      <td>79.00</td>\n      <td>79.00</td>\n      <td>79.00</td>\n      <td>79.00</td>\n      <td>79.00</td>\n      <td>79.00</td>\n      <td>79.00</td>\n      <td>80.00</td>\n      <td>...</td>\n      <td>6.82</td>\n      <td>51.20</td>\n      <td>51.27</td>\n      <td>79.36</td>\n      <td>79.27</td>\n      <td>0.00</td>\n      <td>0.00</td>\n      <td>51.74</td>\n      <td>0.82</td>\n      <td>3.28</td>\n    </tr>\n    <tr>\n      <th>max</th>\n      <td>38.00</td>\n      <td>91.00</td>\n      <td>91.00</td>\n      <td>91.00</td>\n      <td>91.00</td>\n      <td>91.00</td>\n      <td>91.00</td>\n      <td>89.00</td>\n      <td>88.00</td>\n      <td>91.00</td>\n      <td>...</td>\n      <td>12.00</td>\n      <td>69.00</td>\n      <td>64.00</td>\n      <td>88.00</td>\n      <td>87.45</td>\n      <td>9.00</td>\n      <td>9.00</td>\n      <td>92.51</td>\n      <td>5.03</td>\n      <td>5.20</td>\n    </tr>\n  </tbody>\n</table>\n<p>8 rows × 46 columns</p>\n</div>"
     },
     "execution_count": 18,
     "metadata": {},
     "output_type": "execute_result"
    }
   ],
   "source": [
    "df_.select_dtypes(exclude=['category']).describe().round(2)"
   ],
   "metadata": {
    "collapsed": false,
    "ExecuteTime": {
     "end_time": "2024-02-05T17:18:59.030075400Z",
     "start_time": "2024-02-05T17:18:58.961040800Z"
    }
   },
   "execution_count": 18
  },
  {
   "cell_type": "code",
   "outputs": [
    {
     "data": {
      "text/plain": "('points_home',\n 'points_away',\n 'avg_home_team_rating',\n 'avg_away_team_rating',\n 'home_streak_wins',\n 'away_streak_wins')"
     },
     "execution_count": 19,
     "metadata": {},
     "output_type": "execute_result"
    }
   ],
   "source": [
    "'avg_home_team_rating_x_ewm_shoton_away', 'average_rating_away', 'average_rating_home', 'ewm_possession_home', 'avg_home_team_rating', 'avg_away_team_rating', 'points_home', 'points_away'"
   ],
   "metadata": {
    "collapsed": false,
    "ExecuteTime": {
     "end_time": "2024-02-05T17:18:59.063902100Z",
     "start_time": "2024-02-05T17:18:59.024859100Z"
    }
   },
   "execution_count": 19
  }
 ],
 "metadata": {
  "kernelspec": {
   "display_name": "Python 3 (ipykernel)",
   "language": "python",
   "name": "python3"
  },
  "language_info": {
   "codemirror_mode": {
    "name": "ipython",
    "version": 3
   },
   "file_extension": ".py",
   "mimetype": "text/x-python",
   "name": "python",
   "nbconvert_exporter": "python",
   "pygments_lexer": "ipython3",
   "version": "3.10.8"
  }
 },
 "nbformat": 4,
 "nbformat_minor": 4
}
