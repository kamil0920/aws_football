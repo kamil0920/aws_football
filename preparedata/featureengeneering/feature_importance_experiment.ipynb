{
 "cells": [
  {
   "cell_type": "code",
   "execution_count": 1,
   "id": "initial_id",
   "metadata": {
    "collapsed": true,
    "ExecuteTime": {
     "end_time": "2024-01-21T20:36:08.279825500Z",
     "start_time": "2024-01-21T20:36:08.038031600Z"
    }
   },
   "outputs": [],
   "source": [
    "import os\n",
    "import json\n",
    "\n",
    "import pandas as pd\n",
    "\n",
    "from xgboost import XGBClassifier\n",
    "from sklearn.metrics import f1_score\n",
    "from sklearn.feature_selection import SelectFromModel\n",
    "from sklearn.model_selection import train_test_split\n",
    "\n",
    "import warnings\n",
    "\n",
    "warnings.filterwarnings(\"ignore\")"
   ]
  },
  {
   "cell_type": "code",
   "outputs": [],
   "source": [
    "def evaluate_model(features, target, interaction_constraints):\n",
    "    X_train, X_val, y_train, y_val = train_test_split(features, target, test_size=0.2, random_state=42, stratify=target)\n",
    "    model = XGBClassifier(random_state=42, enable_categorical=True, interaction_constraints=interaction_constraints, early_stopping_raounds=25)\n",
    "    model.fit(X_train, y_train, eval_set=[(X_train, y_train), (X_val, y_val)], verbose=0)\n",
    "    y_pred = model.predict(X_val)\n",
    "    return f1_score(y_val, y_pred, average='weighted')"
   ],
   "metadata": {
    "collapsed": false,
    "ExecuteTime": {
     "end_time": "2024-01-22T16:09:20.138826Z",
     "start_time": "2024-01-22T16:09:20.116149200Z"
    }
   },
   "id": "c733765ecb24e64a",
   "execution_count": 16
  },
  {
   "cell_type": "code",
   "outputs": [
    {
     "name": "stdout",
     "output_type": "stream",
     "text": [
      "[['player_rating_away_player_1', 'player_rating_away_player_2', 'player_rating_away_player_3', 'player_rating_away_player_4', 'player_rating_away_player_5', 'player_rating_away_player_6', 'player_rating_away_player_7', 'player_rating_away_player_8', 'player_rating_away_player_9', 'player_rating_away_player_10', 'player_rating_away_player_11'], ['ewm_home_team_goals', 'ewm_away_team_goals', 'ewm_home_team_goals_conceded', 'points_home', 'ewm_shoton_home', 'ewm_shoton_away', 'ewm_possession_home', 'ewm_possession_away', 'points_away_binned', 'home_weighted_wins_binned', 'away_weighted_wins_binned', 'ewm_away_team_goals_conceded_binned'], ['num_top_players_home', 'num_top_players_away'], ['rating_range_home', 'rating_range_away']]\n",
      "<class 'pandas.core.frame.DataFrame'>\n",
      "RangeIndex: 3040 entries, 0 to 3039\n",
      "Data columns (total 5 columns):\n",
      " #   Column                               Non-Null Count  Dtype   \n",
      "---  ------                               --------------  -----   \n",
      " 0   avg_home_rating_attack_binned        3040 non-null   category\n",
      " 1   points_away_binned                   3040 non-null   category\n",
      " 2   home_weighted_wins_binned            3040 non-null   category\n",
      " 3   away_weighted_wins_binned            3040 non-null   category\n",
      " 4   ewm_away_team_goals_conceded_binned  3040 non-null   category\n",
      "dtypes: category(5)\n",
      "memory usage: 16.8 KB\n"
     ]
    }
   ],
   "source": [
    "X = pd.read_csv('../../data/binned/df.csv')\n",
    "y = pd.read_csv('../../data/binned/y.csv')\n",
    "\n",
    "data_dir = \"../../data/binned/\"\n",
    "\n",
    "with open(data_dir + 'interaction_constraints.json', 'r') as file:\n",
    "    interaction_constraints = json.load(file)\n",
    "\n",
    "print(interaction_constraints)\n",
    "\n",
    "for col in X.filter(like='_binned').columns:\n",
    "    X[col] = X[col].astype('category')\n",
    "\n",
    "X.filter(like='_binned').info()"
   ],
   "metadata": {
    "collapsed": false,
    "ExecuteTime": {
     "end_time": "2024-01-21T20:36:08.319109800Z",
     "start_time": "2024-01-21T20:36:08.281886100Z"
    }
   },
   "id": "fb1e2766a35a7b3c",
   "execution_count": 2
  },
  {
   "cell_type": "code",
   "outputs": [
    {
     "data": {
      "text/plain": "      stage  player_rating_home_player_1  player_rating_home_player_2  \\\n0       1.0                         72.0                         72.0   \n1       1.0                         79.0                         79.0   \n2       1.0                         77.0                         77.0   \n3       1.0                         82.0                         82.0   \n4       1.0                         77.0                         77.0   \n...     ...                          ...                          ...   \n3035   38.0                         80.0                         80.0   \n3036   38.0                         86.0                         86.0   \n3037   38.0                         79.0                         79.0   \n3038   38.0                         78.0                         78.0   \n3039   38.0                         80.0                         80.0   \n\n      player_rating_home_player_3  player_rating_home_player_4  \\\n0                            72.0                         72.0   \n1                            79.0                         79.0   \n2                            77.0                         77.0   \n3                            82.0                         82.0   \n4                            77.0                         77.0   \n...                           ...                          ...   \n3035                         80.0                         80.0   \n3036                         86.0                         86.0   \n3037                         79.0                         79.0   \n3038                         78.0                         78.0   \n3039                         80.0                         80.0   \n\n      player_rating_home_player_5  player_rating_home_player_6  \\\n0                            72.0                         72.0   \n1                            79.0                         79.0   \n2                            77.0                         77.0   \n3                            82.0                         82.0   \n4                            77.0                         77.0   \n...                           ...                          ...   \n3035                         80.0                         80.0   \n3036                         86.0                         86.0   \n3037                         79.0                         79.0   \n3038                         78.0                         78.0   \n3039                         80.0                         80.0   \n\n      player_rating_home_player_7  player_rating_home_player_8  \\\n0                            79.0                         75.0   \n1                            78.0                         75.0   \n2                            72.0                         82.0   \n3                            72.0                         73.0   \n4                            67.0                         75.0   \n...                           ...                          ...   \n3035                         79.0                         75.0   \n3036                         83.0                         83.0   \n3037                         81.0                         86.0   \n3038                         76.0                         80.0   \n3039                         83.0                         76.0   \n\n      player_rating_home_player_9  ...  avg_home_rating_defence  \\\n0                            85.0  ...                     72.0   \n1                            74.0  ...                     79.0   \n2                            76.0  ...                     77.0   \n3                            77.0  ...                     82.0   \n4                            82.0  ...                     77.0   \n...                           ...  ...                      ...   \n3035                         80.0  ...                     80.0   \n3036                         83.0  ...                     86.0   \n3037                         88.0  ...                     79.0   \n3038                         79.0  ...                     78.0   \n3039                         85.0  ...                     80.0   \n\n      average_rating_home  average_rating_away  num_top_players_home  \\\n0               75.545455            71.272727                     2   \n1               77.272727            83.090909                     0   \n2               76.636364            74.636364                     1   \n3               78.909091            75.454545                     6   \n4               77.000000            81.454545                     2   \n...                   ...                  ...                   ...   \n3035            77.000000            73.636364                     1   \n3036            84.272727            75.727273                    10   \n3037            81.454545            75.272727                     4   \n3038            77.636364            77.545455                     0   \n3039            79.181818            73.000000                     2   \n\n      num_top_players_away  avg_home_rating_attack_binned  points_away_binned  \\\n0                        0                           Bin1                Bin1   \n1                        9                           Bin9                Bin1   \n2                        0                           Bin3                Bin1   \n3                        1                           Bin7                Bin1   \n4                        8                           Bin8                Bin1   \n...                    ...                            ...                 ...   \n3035                     0                           Bin3                Bin8   \n3036                     0                           Bin5               Bin10   \n3037                     0                           Bin4                Bin4   \n3038                     2                           Bin8               Bin10   \n3039                     0                           Bin2                Bin9   \n\n      home_weighted_wins_binned  away_weighted_wins_binned  \\\n0                          Bin4                       Bin1   \n1                          Bin4                       Bin1   \n2                          Bin4                       Bin1   \n3                          Bin4                       Bin1   \n4                          Bin4                       Bin1   \n...                         ...                        ...   \n3035                       Bin3                       Bin6   \n3036                       Bin1                       Bin6   \n3037                       Bin2                       Bin9   \n3038                       Bin7                       Bin6   \n3039                       Bin1                       Bin7   \n\n      ewm_away_team_goals_conceded_binned  \n0                                    Bin5  \n1                                    Bin6  \n2                                    Bin9  \n3                                    Bin6  \n4                                    Bin6  \n...                                   ...  \n3035                                 Bin7  \n3036                                 Bin2  \n3037                                 Bin9  \n3038                                 Bin6  \n3039                                 Bin9  \n\n[3040 rows x 49 columns]",
      "text/html": "<div>\n<style scoped>\n    .dataframe tbody tr th:only-of-type {\n        vertical-align: middle;\n    }\n\n    .dataframe tbody tr th {\n        vertical-align: top;\n    }\n\n    .dataframe thead th {\n        text-align: right;\n    }\n</style>\n<table border=\"1\" class=\"dataframe\">\n  <thead>\n    <tr style=\"text-align: right;\">\n      <th></th>\n      <th>stage</th>\n      <th>player_rating_home_player_1</th>\n      <th>player_rating_home_player_2</th>\n      <th>player_rating_home_player_3</th>\n      <th>player_rating_home_player_4</th>\n      <th>player_rating_home_player_5</th>\n      <th>player_rating_home_player_6</th>\n      <th>player_rating_home_player_7</th>\n      <th>player_rating_home_player_8</th>\n      <th>player_rating_home_player_9</th>\n      <th>...</th>\n      <th>avg_home_rating_defence</th>\n      <th>average_rating_home</th>\n      <th>average_rating_away</th>\n      <th>num_top_players_home</th>\n      <th>num_top_players_away</th>\n      <th>avg_home_rating_attack_binned</th>\n      <th>points_away_binned</th>\n      <th>home_weighted_wins_binned</th>\n      <th>away_weighted_wins_binned</th>\n      <th>ewm_away_team_goals_conceded_binned</th>\n    </tr>\n  </thead>\n  <tbody>\n    <tr>\n      <th>0</th>\n      <td>1.0</td>\n      <td>72.0</td>\n      <td>72.0</td>\n      <td>72.0</td>\n      <td>72.0</td>\n      <td>72.0</td>\n      <td>72.0</td>\n      <td>79.0</td>\n      <td>75.0</td>\n      <td>85.0</td>\n      <td>...</td>\n      <td>72.0</td>\n      <td>75.545455</td>\n      <td>71.272727</td>\n      <td>2</td>\n      <td>0</td>\n      <td>Bin1</td>\n      <td>Bin1</td>\n      <td>Bin4</td>\n      <td>Bin1</td>\n      <td>Bin5</td>\n    </tr>\n    <tr>\n      <th>1</th>\n      <td>1.0</td>\n      <td>79.0</td>\n      <td>79.0</td>\n      <td>79.0</td>\n      <td>79.0</td>\n      <td>79.0</td>\n      <td>79.0</td>\n      <td>78.0</td>\n      <td>75.0</td>\n      <td>74.0</td>\n      <td>...</td>\n      <td>79.0</td>\n      <td>77.272727</td>\n      <td>83.090909</td>\n      <td>0</td>\n      <td>9</td>\n      <td>Bin9</td>\n      <td>Bin1</td>\n      <td>Bin4</td>\n      <td>Bin1</td>\n      <td>Bin6</td>\n    </tr>\n    <tr>\n      <th>2</th>\n      <td>1.0</td>\n      <td>77.0</td>\n      <td>77.0</td>\n      <td>77.0</td>\n      <td>77.0</td>\n      <td>77.0</td>\n      <td>77.0</td>\n      <td>72.0</td>\n      <td>82.0</td>\n      <td>76.0</td>\n      <td>...</td>\n      <td>77.0</td>\n      <td>76.636364</td>\n      <td>74.636364</td>\n      <td>1</td>\n      <td>0</td>\n      <td>Bin3</td>\n      <td>Bin1</td>\n      <td>Bin4</td>\n      <td>Bin1</td>\n      <td>Bin9</td>\n    </tr>\n    <tr>\n      <th>3</th>\n      <td>1.0</td>\n      <td>82.0</td>\n      <td>82.0</td>\n      <td>82.0</td>\n      <td>82.0</td>\n      <td>82.0</td>\n      <td>82.0</td>\n      <td>72.0</td>\n      <td>73.0</td>\n      <td>77.0</td>\n      <td>...</td>\n      <td>82.0</td>\n      <td>78.909091</td>\n      <td>75.454545</td>\n      <td>6</td>\n      <td>1</td>\n      <td>Bin7</td>\n      <td>Bin1</td>\n      <td>Bin4</td>\n      <td>Bin1</td>\n      <td>Bin6</td>\n    </tr>\n    <tr>\n      <th>4</th>\n      <td>1.0</td>\n      <td>77.0</td>\n      <td>77.0</td>\n      <td>77.0</td>\n      <td>77.0</td>\n      <td>77.0</td>\n      <td>77.0</td>\n      <td>67.0</td>\n      <td>75.0</td>\n      <td>82.0</td>\n      <td>...</td>\n      <td>77.0</td>\n      <td>77.000000</td>\n      <td>81.454545</td>\n      <td>2</td>\n      <td>8</td>\n      <td>Bin8</td>\n      <td>Bin1</td>\n      <td>Bin4</td>\n      <td>Bin1</td>\n      <td>Bin6</td>\n    </tr>\n    <tr>\n      <th>...</th>\n      <td>...</td>\n      <td>...</td>\n      <td>...</td>\n      <td>...</td>\n      <td>...</td>\n      <td>...</td>\n      <td>...</td>\n      <td>...</td>\n      <td>...</td>\n      <td>...</td>\n      <td>...</td>\n      <td>...</td>\n      <td>...</td>\n      <td>...</td>\n      <td>...</td>\n      <td>...</td>\n      <td>...</td>\n      <td>...</td>\n      <td>...</td>\n      <td>...</td>\n      <td>...</td>\n    </tr>\n    <tr>\n      <th>3035</th>\n      <td>38.0</td>\n      <td>80.0</td>\n      <td>80.0</td>\n      <td>80.0</td>\n      <td>80.0</td>\n      <td>80.0</td>\n      <td>80.0</td>\n      <td>79.0</td>\n      <td>75.0</td>\n      <td>80.0</td>\n      <td>...</td>\n      <td>80.0</td>\n      <td>77.000000</td>\n      <td>73.636364</td>\n      <td>1</td>\n      <td>0</td>\n      <td>Bin3</td>\n      <td>Bin8</td>\n      <td>Bin3</td>\n      <td>Bin6</td>\n      <td>Bin7</td>\n    </tr>\n    <tr>\n      <th>3036</th>\n      <td>38.0</td>\n      <td>86.0</td>\n      <td>86.0</td>\n      <td>86.0</td>\n      <td>86.0</td>\n      <td>86.0</td>\n      <td>86.0</td>\n      <td>83.0</td>\n      <td>83.0</td>\n      <td>83.0</td>\n      <td>...</td>\n      <td>86.0</td>\n      <td>84.272727</td>\n      <td>75.727273</td>\n      <td>10</td>\n      <td>0</td>\n      <td>Bin5</td>\n      <td>Bin10</td>\n      <td>Bin1</td>\n      <td>Bin6</td>\n      <td>Bin2</td>\n    </tr>\n    <tr>\n      <th>3037</th>\n      <td>38.0</td>\n      <td>79.0</td>\n      <td>79.0</td>\n      <td>79.0</td>\n      <td>79.0</td>\n      <td>79.0</td>\n      <td>79.0</td>\n      <td>81.0</td>\n      <td>86.0</td>\n      <td>88.0</td>\n      <td>...</td>\n      <td>79.0</td>\n      <td>81.454545</td>\n      <td>75.272727</td>\n      <td>4</td>\n      <td>0</td>\n      <td>Bin4</td>\n      <td>Bin4</td>\n      <td>Bin2</td>\n      <td>Bin9</td>\n      <td>Bin9</td>\n    </tr>\n    <tr>\n      <th>3038</th>\n      <td>38.0</td>\n      <td>78.0</td>\n      <td>78.0</td>\n      <td>78.0</td>\n      <td>78.0</td>\n      <td>78.0</td>\n      <td>78.0</td>\n      <td>76.0</td>\n      <td>80.0</td>\n      <td>79.0</td>\n      <td>...</td>\n      <td>78.0</td>\n      <td>77.636364</td>\n      <td>77.545455</td>\n      <td>0</td>\n      <td>2</td>\n      <td>Bin8</td>\n      <td>Bin10</td>\n      <td>Bin7</td>\n      <td>Bin6</td>\n      <td>Bin6</td>\n    </tr>\n    <tr>\n      <th>3039</th>\n      <td>38.0</td>\n      <td>80.0</td>\n      <td>80.0</td>\n      <td>80.0</td>\n      <td>80.0</td>\n      <td>80.0</td>\n      <td>80.0</td>\n      <td>83.0</td>\n      <td>76.0</td>\n      <td>85.0</td>\n      <td>...</td>\n      <td>80.0</td>\n      <td>79.181818</td>\n      <td>73.000000</td>\n      <td>2</td>\n      <td>0</td>\n      <td>Bin2</td>\n      <td>Bin9</td>\n      <td>Bin1</td>\n      <td>Bin7</td>\n      <td>Bin9</td>\n    </tr>\n  </tbody>\n</table>\n<p>3040 rows × 49 columns</p>\n</div>"
     },
     "execution_count": 18,
     "metadata": {},
     "output_type": "execute_result"
    }
   ],
   "source": [
    "X"
   ],
   "metadata": {
    "collapsed": false,
    "ExecuteTime": {
     "end_time": "2024-01-22T16:11:04.317151Z",
     "start_time": "2024-01-22T16:11:04.284166100Z"
    }
   },
   "id": "d0e373c83a42666a",
   "execution_count": 18
  },
  {
   "cell_type": "code",
   "outputs": [
    {
     "data": {
      "text/plain": "0.4939901764471665"
     },
     "execution_count": 17,
     "metadata": {},
     "output_type": "execute_result"
    }
   ],
   "source": [
    "evaluate_model(X, y, interaction_constraints)"
   ],
   "metadata": {
    "collapsed": false,
    "ExecuteTime": {
     "end_time": "2024-01-22T16:10:00.740584900Z",
     "start_time": "2024-01-22T16:10:00.271401100Z"
    }
   },
   "id": "e80a19bc0848f5aa",
   "execution_count": 17
  },
  {
   "cell_type": "code",
   "outputs": [
    {
     "name": "stdout",
     "output_type": "stream",
     "text": [
      "F1: 0.4939901764471665\n"
     ]
    }
   ],
   "source": [
    "X_train, X_val, y_train, y_val = train_test_split(X, y, test_size=0.2, random_state=42, stratify=y)\n",
    "\n",
    "xgb = XGBClassifier(random_state=42, enable_categorical=True, interaction_constraints=interaction_constraints, early_stopping_raounds=25)\n",
    "\n",
    "xgb.fit(X_train, y_train, eval_set=[(X_train, y_train), (X_val, y_val)], verbose=0)\n",
    "\n",
    "y_pred = xgb.predict(X_val)\n",
    "f1 = f1_score(y_val, y_pred, average='weighted')\n",
    "print(f\"F1: {f1}\")"
   ],
   "metadata": {
    "collapsed": false,
    "ExecuteTime": {
     "end_time": "2024-01-21T20:36:08.835957100Z",
     "start_time": "2024-01-21T20:36:08.310879400Z"
    }
   },
   "id": "bad2b522ce4cbab7",
   "execution_count": 3
  },
  {
   "cell_type": "code",
   "outputs": [
    {
     "name": "stdout",
     "output_type": "stream",
     "text": [
      "<class 'pandas.core.frame.DataFrame'>\n",
      "Index: 608 entries, 1030 to 2009\n",
      "Data columns (total 49 columns):\n",
      " #   Column                               Non-Null Count  Dtype   \n",
      "---  ------                               --------------  -----   \n",
      " 0   stage                                608 non-null    float64 \n",
      " 1   player_rating_home_player_1          608 non-null    float64 \n",
      " 2   player_rating_home_player_2          608 non-null    float64 \n",
      " 3   player_rating_home_player_3          608 non-null    float64 \n",
      " 4   player_rating_home_player_4          608 non-null    float64 \n",
      " 5   player_rating_home_player_5          608 non-null    float64 \n",
      " 6   player_rating_home_player_6          608 non-null    float64 \n",
      " 7   player_rating_home_player_7          608 non-null    float64 \n",
      " 8   player_rating_home_player_8          608 non-null    float64 \n",
      " 9   player_rating_home_player_9          608 non-null    float64 \n",
      " 10  player_rating_home_player_10         608 non-null    float64 \n",
      " 11  player_rating_home_player_11         608 non-null    float64 \n",
      " 12  player_rating_away_player_1          608 non-null    float64 \n",
      " 13  player_rating_away_player_2          608 non-null    float64 \n",
      " 14  player_rating_away_player_3          608 non-null    float64 \n",
      " 15  player_rating_away_player_4          608 non-null    float64 \n",
      " 16  player_rating_away_player_5          608 non-null    float64 \n",
      " 17  player_rating_away_player_6          608 non-null    float64 \n",
      " 18  player_rating_away_player_7          608 non-null    float64 \n",
      " 19  player_rating_away_player_8          608 non-null    float64 \n",
      " 20  player_rating_away_player_9          608 non-null    float64 \n",
      " 21  player_rating_away_player_10         608 non-null    float64 \n",
      " 22  player_rating_away_player_11         608 non-null    float64 \n",
      " 23  ewm_home_team_goals                  608 non-null    float64 \n",
      " 24  ewm_away_team_goals                  608 non-null    float64 \n",
      " 25  ewm_home_team_goals_conceded         608 non-null    float64 \n",
      " 26  points_home                          608 non-null    float64 \n",
      " 27  avg_home_team_rating                 608 non-null    float64 \n",
      " 28  avg_away_team_rating                 608 non-null    float64 \n",
      " 29  home_streak_wins                     608 non-null    float64 \n",
      " 30  away_streak_wins                     608 non-null    float64 \n",
      " 31  ewm_shoton_home                      608 non-null    float64 \n",
      " 32  ewm_shoton_away                      608 non-null    float64 \n",
      " 33  ewm_possession_home                  608 non-null    float64 \n",
      " 34  ewm_possession_away                  608 non-null    float64 \n",
      " 35  rating_range_home                    608 non-null    float64 \n",
      " 36  rating_range_away                    608 non-null    float64 \n",
      " 37  avg_away_rating_attack               608 non-null    float64 \n",
      " 38  avg_away_rating_defence              608 non-null    float64 \n",
      " 39  avg_home_rating_defence              608 non-null    float64 \n",
      " 40  average_rating_home                  608 non-null    float64 \n",
      " 41  average_rating_away                  608 non-null    float64 \n",
      " 42  num_top_players_home                 608 non-null    int64   \n",
      " 43  num_top_players_away                 608 non-null    int64   \n",
      " 44  avg_home_rating_attack_binned        608 non-null    category\n",
      " 45  points_away_binned                   608 non-null    category\n",
      " 46  home_weighted_wins_binned            608 non-null    category\n",
      " 47  away_weighted_wins_binned            608 non-null    category\n",
      " 48  ewm_away_team_goals_conceded_binned  608 non-null    category\n",
      "dtypes: category(5), float64(42), int64(2)\n",
      "memory usage: 218.6 KB\n"
     ]
    }
   ],
   "source": [
    "X_val.info()"
   ],
   "metadata": {
    "collapsed": false,
    "ExecuteTime": {
     "end_time": "2024-01-21T20:41:02.667278500Z",
     "start_time": "2024-01-21T20:41:02.656884100Z"
    }
   },
   "id": "444e95ac48ec68f8",
   "execution_count": 6
  },
  {
   "cell_type": "code",
   "outputs": [
    {
     "data": {
      "text/plain": "array([[3.933, 'Bin10'],\n       [4.878, 'Bin1'],\n       [5.556, 'Bin6'],\n       ...,\n       [5.623, 'Bin1'],\n       [7.536, 'Bin9'],\n       [4.301, 'Bin4']], dtype=object)"
     },
     "execution_count": 11,
     "metadata": {},
     "output_type": "execute_result"
    }
   ],
   "source": [
    "select_X_train"
   ],
   "metadata": {
    "collapsed": false,
    "ExecuteTime": {
     "end_time": "2024-01-21T20:44:59.843378400Z",
     "start_time": "2024-01-21T20:44:59.830932Z"
    }
   },
   "id": "ec0d33fdd4a7261c",
   "execution_count": 11
  },
  {
   "cell_type": "code",
   "outputs": [
    {
     "name": "stdout",
     "output_type": "stream",
     "text": [
      "Top 5 feature selection results:\n",
      "Threshold: 0.006575244013220072, Number of Features: 32, F1: 0.5021541929422327\n",
      "Threshold: 0.02836219221353531, Number of Features: 14, F1: 0.4978476514690788\n",
      "Threshold: 0.005790190305560827, Number of Features: 34, F1: 0.49556700942902737\n",
      "Threshold: 0.010979455895721912, Number of Features: 27, F1: 0.49249078343784514\n",
      "Threshold: 0.022858232259750366, Number of Features: 21, F1: 0.49050796366327276\n",
      "Best Feature Set: ['stage', 'player_rating_home_player_1', 'player_rating_home_player_8', 'player_rating_home_player_9', 'player_rating_home_player_10', 'player_rating_home_player_11', 'player_rating_away_player_1', 'player_rating_away_player_7', 'player_rating_away_player_8', 'player_rating_away_player_9', 'player_rating_away_player_10', 'player_rating_away_player_11', 'ewm_home_team_goals', 'ewm_away_team_goals', 'ewm_home_team_goals_conceded', 'points_home', 'avg_home_team_rating', 'avg_away_team_rating', 'home_streak_wins', 'away_streak_wins', 'ewm_shoton_home', 'ewm_shoton_away', 'ewm_possession_home', 'ewm_possession_away', 'rating_range_home', 'rating_range_away', 'avg_away_rating_attack', 'avg_home_rating_attack_binned', 'points_away_binned', 'home_weighted_wins_binned', 'away_weighted_wins_binned', 'ewm_away_team_goals_conceded_binned']\n"
     ]
    }
   ],
   "source": [
    "feature_importances = xgb.feature_importances_\n",
    "\n",
    "results = []\n",
    "\n",
    "thresholds = sorted(feature_importances, reverse=True)\n",
    "\n",
    "\n",
    "for thresh in thresholds:\n",
    "    # Apply feature selection\n",
    "    selection = SelectFromModel(xgb, threshold=thresh, prefit=True)\n",
    "    \n",
    "    # Transform training and validation data\n",
    "    select_X_train = selection.transform(X_train)\n",
    "    select_X_val = selection.transform(X_val)\n",
    "    \n",
    "    selected_features = X_train.columns[selection.get_support()]\n",
    "\n",
    "    # Convert to DataFrame and keep feature names\n",
    "    select_X_train_df = pd.DataFrame(select_X_train, columns=selected_features)\n",
    "    \n",
    "    for col in selected_features:\n",
    "        select_X_train_df[col] = select_X_train_df[col].astype(X_train[col].dtype)\n",
    "\n",
    "    select_X_val_df = pd.DataFrame(select_X_val, columns=selected_features)\n",
    "    \n",
    "    for col in selected_features:\n",
    "        select_X_val_df[col] = select_X_val_df[col].astype(X_val[col].dtype)\n",
    "\n",
    "    # Train a new model on the selected features\n",
    "    selection_model = XGBClassifier(random_state=42, enable_categorical=True)\n",
    "    selection_model.fit(select_X_train_df, y_train, verbose=0)\n",
    "\n",
    "    # Predict and evaluate\n",
    "    y_pred = selection_model.predict(select_X_val_df)\n",
    "    f1 = f1_score(y_val, y_pred, average='weighted')\n",
    "\n",
    "    results.append({'threshold': thresh, 'n_features': select_X_train_df.shape[1], 'f1': f1})\n",
    "\n",
    "# Sorting and printing results\n",
    "sorted_results = sorted(results, key=lambda x: x['f1'], reverse=True)\n",
    "\n",
    "print(\"Top 5 feature selection results:\")\n",
    "for result in sorted_results[:5]:\n",
    "    print(f\"Threshold: {result['threshold']}, Number of Features: {result['n_features']}, F1: {result['f1']}\")\n",
    "\n",
    "# Selecting the best result\n",
    "best_result = max(results, key=lambda x: x['f1'])\n",
    "\n",
    "# Determining the best features\n",
    "selection = SelectFromModel(xgb, threshold=best_result['threshold'], prefit=True)\n",
    "best_features = X_train.columns[selection.get_support()]\n",
    "\n",
    "print(f\"Best Feature Set: {list(best_features)}\")"
   ],
   "metadata": {
    "collapsed": false,
    "ExecuteTime": {
     "end_time": "2024-01-22T16:27:46.611665100Z",
     "start_time": "2024-01-22T16:27:29.977079800Z"
    }
   },
   "id": "779be20a20d304fe",
   "execution_count": 23
  },
  {
   "cell_type": "code",
   "outputs": [],
   "source": [],
   "metadata": {
    "collapsed": false,
    "ExecuteTime": {
     "end_time": "2024-01-21T20:36:09.946018200Z",
     "start_time": "2024-01-21T20:36:09.943937300Z"
    }
   },
   "id": "dc5bb4885d0f5f97"
  }
 ],
 "metadata": {
  "kernelspec": {
   "display_name": "Python 3",
   "language": "python",
   "name": "python3"
  },
  "language_info": {
   "codemirror_mode": {
    "name": "ipython",
    "version": 2
   },
   "file_extension": ".py",
   "mimetype": "text/x-python",
   "name": "python",
   "nbconvert_exporter": "python",
   "pygments_lexer": "ipython2",
   "version": "2.7.6"
  }
 },
 "nbformat": 4,
 "nbformat_minor": 5
}
