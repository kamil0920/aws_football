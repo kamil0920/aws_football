{
 "cells": [
  {
   "cell_type": "code",
   "execution_count": 5,
   "id": "initial_id",
   "metadata": {
    "collapsed": true,
    "ExecuteTime": {
     "end_time": "2024-01-27T17:59:22.089820800Z",
     "start_time": "2024-01-27T17:59:22.076505Z"
    }
   },
   "outputs": [],
   "source": [
    "import os\n",
    "import json\n",
    "\n",
    "import pandas as pd\n",
    "\n",
    "from xgboost import XGBClassifier\n",
    "\n",
    "from sklearn.metrics import f1_score\n",
    "from sklearn.feature_selection import SelectFromModel\n",
    "from sklearn.model_selection import train_test_split\n",
    "\n",
    "import category_encoders as ce\n",
    "\n",
    "import warnings\n",
    "\n",
    "warnings.filterwarnings(\"ignore\")"
   ]
  },
  {
   "cell_type": "code",
   "outputs": [],
   "source": [
    "def evaluate_model(X_train, X_val, y_train, y_val):\n",
    "    encoder = ce.OneHotEncoder(cols=X_train.select_dtypes(include=['object', 'category']).columns, use_cat_names=True, drop_invariant=True, return_df=True)\n",
    "\n",
    "    X_train_encoded = encoder.fit_transform(X_train, y_train)\n",
    "    X_val_encoded = encoder.transform(X_val)\n",
    "    \n",
    "    model = XGBClassifier(random_state=42, enable_categorical=True, early_stopping_rounds=100)\n",
    "    model.fit(X_train_encoded, y_train, eval_set=[(X_train_encoded, y_train), (X_val_encoded, y_val)], verbose=0)\n",
    "    y_pred = model.predict(X_val_encoded)\n",
    "    return f1_score(y_val, y_pred, average='weighted'), model"
   ],
   "metadata": {
    "collapsed": false,
    "ExecuteTime": {
     "end_time": "2024-01-27T18:05:32.025395600Z",
     "start_time": "2024-01-27T18:05:32.014033Z"
    }
   },
   "id": "c733765ecb24e64a",
   "execution_count": 14
  },
  {
   "cell_type": "code",
   "outputs": [
    {
     "name": "stdout",
     "output_type": "stream",
     "text": [
      "[['player_rating_away_player_1', 'player_rating_away_player_2', 'player_rating_away_player_3', 'player_rating_away_player_4', 'player_rating_away_player_5', 'player_rating_away_player_6', 'player_rating_away_player_7', 'player_rating_away_player_8', 'player_rating_away_player_9', 'player_rating_away_player_10', 'player_rating_away_player_11'], ['ewm_away_team_goals', 'ewm_home_team_goals_conceded', 'points_away', 'ewm_shoton_home', 'ewm_shoton_away', 'ewm_possession_home', 'ewm_possession_away', 'points_home_binned', 'home_weighted_wins_binned', 'away_weighted_wins_binned', 'ewm_home_team_goals_binned', 'ewm_away_team_goals_conceded_binned'], ['num_top_players_home', 'num_top_players_away'], ['rating_range_home', 'rating_range_away']]\n",
      "<class 'pandas.core.frame.DataFrame'>\n",
      "RangeIndex: 3040 entries, 0 to 3039\n",
      "Data columns (total 9 columns):\n",
      " #   Column                               Non-Null Count  Dtype   \n",
      "---  ------                               --------------  -----   \n",
      " 0   avg_home_rating_attack_binned        3040 non-null   category\n",
      " 1   avg_away_rating_attack_binned        3040 non-null   category\n",
      " 2   avg_away_rating_defence_binned       3040 non-null   category\n",
      " 3   avg_home_rating_defence_binned       3040 non-null   category\n",
      " 4   points_home_binned                   3040 non-null   category\n",
      " 5   home_weighted_wins_binned            3040 non-null   category\n",
      " 6   away_weighted_wins_binned            3040 non-null   category\n",
      " 7   ewm_home_team_goals_binned           3024 non-null   category\n",
      " 8   ewm_away_team_goals_conceded_binned  3022 non-null   category\n",
      "dtypes: category(9)\n",
      "memory usage: 28.6 KB\n"
     ]
    }
   ],
   "source": [
    "X = pd.read_csv('../../data/binned/df.csv')\n",
    "y = pd.read_csv('../../data/binned/y.csv')\n",
    "\n",
    "data_dir = \"../../data/binned/\"\n",
    "\n",
    "with open(data_dir + 'interaction_constraints.json', 'r') as file:\n",
    "    interaction_constraints = json.load(file)\n",
    "\n",
    "print(interaction_constraints)\n",
    "\n",
    "for col in X.filter(like='_binned').columns:\n",
    "    X[col] = X[col].astype('category')\n",
    "\n",
    "X.filter(like='_binned').info()"
   ],
   "metadata": {
    "collapsed": false,
    "ExecuteTime": {
     "end_time": "2024-01-27T17:59:22.540441500Z",
     "start_time": "2024-01-27T17:59:22.466661900Z"
    }
   },
   "id": "fb1e2766a35a7b3c",
   "execution_count": 7
  },
  {
   "cell_type": "code",
   "outputs": [],
   "source": [
    "# X['ewm_shoton_diff'] = X['ewm_shoton_home'] - X['ewm_shoton_away']\n",
    "# X['ewm_shoton_ratio'] = X['ewm_shoton_home'] / X['ewm_shoton_away']"
   ],
   "metadata": {
    "collapsed": false,
    "ExecuteTime": {
     "end_time": "2024-01-27T17:59:22.756269300Z",
     "start_time": "2024-01-27T17:59:22.728412600Z"
    }
   },
   "id": "7ed3761e05c1ab10",
   "execution_count": 8
  },
  {
   "cell_type": "code",
   "outputs": [],
   "source": [
    "X_train, X_val, y_train, y_val = train_test_split(X, y, test_size=0.2, random_state=42, stratify=y)\n",
    "\n",
    "f1, xgb = evaluate_model(X_train, X_val, y_train, y_val)"
   ],
   "metadata": {
    "collapsed": false,
    "ExecuteTime": {
     "end_time": "2024-01-27T18:07:05.608658Z",
     "start_time": "2024-01-27T18:07:04.932009700Z"
    }
   },
   "id": "e80a19bc0848f5aa",
   "execution_count": 19
  },
  {
   "cell_type": "code",
   "outputs": [
    {
     "name": "stdout",
     "output_type": "stream",
     "text": [
      "Top 5 feature selection results:\n",
      "Threshold: 0.009775876998901367, F1: 0.5322813298157089\n",
      "Threshold: 0.008295511826872826, F1: 0.5322813298157089\n",
      "Threshold: 0.0, F1: 0.5322813298157089\n",
      "Threshold: 0.0, F1: 0.5322813298157089\n",
      "Threshold: 0.0, F1: 0.5322813298157089\n"
     ]
    }
   ],
   "source": [
    "from sklearn.feature_selection import SelectFromModel\n",
    "\n",
    "def evaluate_model(X_train, X_val, y_train, y_val, threshold):\n",
    "    encoder = ce.OneHotEncoder(cols=X_train.select_dtypes(include=['object', 'category']).columns, use_cat_names=True, drop_invariant=True, return_df=True)\n",
    "\n",
    "    X_train_encoded = encoder.fit_transform(X_train, y_train)\n",
    "    X_val_encoded = encoder.transform(X_val)\n",
    "\n",
    "    # Apply feature selection based on the threshold\n",
    "    selection = SelectFromModel(xgb, threshold=threshold, prefit=True)\n",
    "    select_X_train = selection.transform(X_train_encoded)\n",
    "    select_X_val = selection.transform(X_val_encoded)\n",
    "\n",
    "    model = XGBClassifier(random_state=42, enable_categorical=True, early_stopping_rounds=100)\n",
    "    model.fit(select_X_train, y_train, eval_set=[(select_X_train, y_train), (select_X_val, y_val)], verbose=0)\n",
    "    \n",
    "    y_pred = model.predict(select_X_val)\n",
    "    return f1_score(y_val, y_pred, average='weighted')\n",
    "\n",
    "# Your existing code for getting feature importances\n",
    "feature_importances = xgb.feature_importances_\n",
    "thresholds = sorted(feature_importances, reverse=True)\n",
    "\n",
    "results = []\n",
    "\n",
    "# Iterate over thresholds\n",
    "for thresh in thresholds:\n",
    "    f1 = evaluate_model(X_train, X_val, y_train, y_val, thresh)\n",
    "    results.append({'threshold': thresh, 'f1': f1})\n",
    "\n",
    "# Sorting and printing results\n",
    "sorted_results = sorted(results, key=lambda x: x['f1'], reverse=True)\n",
    "\n",
    "print(\"Top 5 feature selection results:\")\n",
    "for result in sorted_results[:5]:\n",
    "    print(f\"Threshold: {result['threshold']}, F1: {result['f1']}\")"
   ],
   "metadata": {
    "collapsed": false,
    "ExecuteTime": {
     "end_time": "2024-01-27T18:17:04.025210800Z",
     "start_time": "2024-01-27T18:16:20.812525600Z"
    }
   },
   "id": "779be20a20d304fe",
   "execution_count": 24
  },
  {
   "cell_type": "code",
   "outputs": [
    {
     "name": "stdout",
     "output_type": "stream",
     "text": [
      "Selected features for the best threshold:\n",
      "['stage', 'player_rating_home_player_1', 'player_rating_home_player_7', 'player_rating_home_player_8', 'player_rating_home_player_9', 'player_rating_home_player_10', 'player_rating_home_player_11', 'player_rating_away_player_1', 'player_rating_away_player_7', 'player_rating_away_player_8', 'player_rating_away_player_9', 'player_rating_away_player_10', 'player_rating_away_player_11', 'ewm_away_team_goals', 'ewm_home_team_goals_conceded', 'points_away', 'avg_home_team_rating', 'avg_away_team_rating', 'home_streak_wins', 'away_streak_wins', 'ewm_shoton_home', 'ewm_shoton_away', 'ewm_possession_home', 'ewm_possession_away', 'diff_player_1', 'diff_player_7', 'diff_player_8', 'diff_player_9', 'diff_player_10', 'diff_player_11', 'rating_range_home', 'rating_range_away', 'num_top_players_home', 'num_top_players_away', 'avg_home_rating_attack_binned_Bin2', 'avg_home_rating_attack_binned_Bin3', 'avg_home_rating_attack_binned_Bin4', 'avg_home_rating_attack_binned_Bin1', 'avg_away_rating_attack_binned_Bin2', 'avg_away_rating_attack_binned_Bin4', 'avg_away_rating_attack_binned_Bin3', 'avg_away_rating_attack_binned_Bin1', 'avg_away_rating_defence_binned_Bin2', 'avg_away_rating_defence_binned_Bin3', 'avg_home_rating_defence_binned_Bin3', 'avg_home_rating_defence_binned_Bin2', 'points_home_binned_Bin3', 'points_home_binned_Bin4', 'points_home_binned_Bin2', 'points_home_binned_Bin1', 'home_weighted_wins_binned_Bin4', 'home_weighted_wins_binned_Bin3', 'home_weighted_wins_binned_Bin2', 'away_weighted_wins_binned_Bin1', 'away_weighted_wins_binned_Bin2', 'away_weighted_wins_binned_Bin3', 'away_weighted_wins_binned_Bin4', 'ewm_home_team_goals_binned_Bin2', 'ewm_home_team_goals_binned_Bin3', 'ewm_home_team_goals_binned_Bin4', 'ewm_home_team_goals_binned_Bin1', 'ewm_away_team_goals_conceded_binned_Bin3', 'ewm_away_team_goals_conceded_binned_Bin2', 'ewm_away_team_goals_conceded_binned_Bin1', 'ewm_away_team_goals_conceded_binned_Bin4']\n"
     ]
    }
   ],
   "source": [
    "best_threshold = max(results, key=lambda x: x['f1'])['threshold']\n",
    "\n",
    "# Perform feature selection with the best threshold\n",
    "encoder = ce.OneHotEncoder(cols=X_train.select_dtypes(include=['object', 'category']).columns, use_cat_names=True, drop_invariant=True, return_df=True)\n",
    "X_train_encoded = encoder.fit_transform(X_train, y_train)\n",
    "\n",
    "selection = SelectFromModel(xgb, threshold=best_threshold, prefit=True)\n",
    "selection.fit(X_train_encoded, y_train)\n",
    "\n",
    "# Get the names of the selected features\n",
    "selected_features = X_train_encoded.columns[selection.get_support()]\n",
    "\n",
    "print(\"Selected features for the best threshold:\")\n",
    "print(list(selected_features))"
   ],
   "metadata": {
    "collapsed": false,
    "ExecuteTime": {
     "end_time": "2024-01-27T18:18:45.456084100Z",
     "start_time": "2024-01-27T18:18:45.335844100Z"
    }
   },
   "id": "dc5bb4885d0f5f97",
   "execution_count": 25
  },
  {
   "cell_type": "code",
   "outputs": [],
   "source": [],
   "metadata": {
    "collapsed": false
   },
   "id": "170932be0103c2a5"
  }
 ],
 "metadata": {
  "kernelspec": {
   "display_name": "Python 3",
   "language": "python",
   "name": "python3"
  },
  "language_info": {
   "codemirror_mode": {
    "name": "ipython",
    "version": 2
   },
   "file_extension": ".py",
   "mimetype": "text/x-python",
   "name": "python",
   "nbconvert_exporter": "python",
   "pygments_lexer": "ipython2",
   "version": "2.7.6"
  }
 },
 "nbformat": 4,
 "nbformat_minor": 5
}
