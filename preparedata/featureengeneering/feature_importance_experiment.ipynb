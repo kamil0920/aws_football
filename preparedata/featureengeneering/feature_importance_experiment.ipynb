{
 "cells": [
  {
   "cell_type": "code",
   "execution_count": 1,
   "id": "initial_id",
   "metadata": {
    "collapsed": true,
    "ExecuteTime": {
     "end_time": "2024-02-05T17:44:55.864643400Z",
     "start_time": "2024-02-05T17:44:55.555017900Z"
    }
   },
   "outputs": [],
   "source": [
    "import os\n",
    "import json\n",
    "\n",
    "import pandas as pd\n",
    "\n",
    "from xgboost import XGBClassifier\n",
    "\n",
    "from sklearn.metrics import f1_score\n",
    "from sklearn.feature_selection import SelectFromModel\n",
    "from sklearn.model_selection import train_test_split\n",
    "\n",
    "import category_encoders as ce\n",
    "\n",
    "import warnings\n",
    "\n",
    "warnings.filterwarnings(\"ignore\")"
   ]
  },
  {
   "cell_type": "code",
   "outputs": [],
   "source": [
    "# def evaluate_model(X_train, X_val, y_train, y_val):\n",
    "#     encoder = ce.OneHotEncoder(cols=X_train.select_dtypes(include=['object', 'category']).columns, use_cat_names=True, drop_invariant=True, return_df=True)\n",
    "# \n",
    "#     X_train_encoded = encoder.fit_transform(X_train, y_train)\n",
    "#     X_val_encoded = encoder.transform(X_val)\n",
    "#     \n",
    "#     model = XGBClassifier(random_state=42, enable_categorical=True, early_stopping_rounds=100)\n",
    "#     model.fit(X_train_encoded, y_train, eval_set=[(X_train_encoded, y_train), (X_val_encoded, y_val)], verbose=0)\n",
    "#     y_pred = model.predict(X_val_encoded)\n",
    "#     return f1_score(y_val, y_pred, average='weighted'), model\n",
    "\n",
    "\n",
    "def evaluate_model(X, y):\n",
    "    X_train, X_val, y_train, y_val = train_test_split(X, y, test_size=0.2, random_state=42, stratify=y)\n",
    "\n",
    "    best_f1 = 0.0\n",
    "\n",
    "    model = XGBClassifier(random_state=42, enable_categorical=True)\n",
    "    model.fit(X_train, y_train, eval_set=[(X_train, y_train), (X_val, y_val)], verbose=0, early_stopping_rounds=25)\n",
    "    \n",
    "    y_pred = model.predict(X_val)\n",
    "    f1 = f1_score(y_val, y_pred, average='weighted')\n",
    "            \n",
    "    return f1, model"
   ],
   "metadata": {
    "collapsed": false,
    "ExecuteTime": {
     "end_time": "2024-02-05T17:44:55.886643900Z",
     "start_time": "2024-02-05T17:44:55.867644Z"
    }
   },
   "id": "c733765ecb24e64a",
   "execution_count": 2
  },
  {
   "cell_type": "code",
   "outputs": [],
   "source": [
    "# X = pd.read_csv('../../data/new_features/df_.csv')\n",
    "# y = pd.read_csv('../../data/new_features/y.csv')"
   ],
   "metadata": {
    "collapsed": false,
    "ExecuteTime": {
     "end_time": "2024-02-05T17:44:55.931645400Z",
     "start_time": "2024-02-05T17:44:55.914644400Z"
    }
   },
   "id": "535ebb9d09ff42d4",
   "execution_count": 4
  },
  {
   "cell_type": "code",
   "outputs": [
    {
     "name": "stdout",
     "output_type": "stream",
     "text": [
      "<class 'pandas.core.frame.DataFrame'>\n",
      "RangeIndex: 3040 entries, 0 to 3039\n",
      "Data columns (total 5 columns):\n",
      " #   Column                                         Non-Null Count  Dtype   \n",
      "---  ------                                         --------------  -----   \n",
      " 0   avg_home_team_rating_x_ewm_shoton_away_binned  3022 non-null   category\n",
      " 1   average_rating_away_binned                     3040 non-null   category\n",
      " 2   average_rating_home_binned                     3040 non-null   category\n",
      " 3   ewm_possession_home_binned                     3024 non-null   category\n",
      " 4   avg_away_team_rating_binned                    3040 non-null   category\n",
      "dtypes: category(5)\n",
      "memory usage: 16.0 KB\n"
     ]
    }
   ],
   "source": [
    "for col in X.filter(like='_binned').columns:\n",
    "    X[col] = X[col].astype('category')\n",
    "\n",
    "X.filter(like='_binned').info()"
   ],
   "metadata": {
    "collapsed": false,
    "ExecuteTime": {
     "end_time": "2024-02-05T17:44:55.981645300Z",
     "start_time": "2024-02-05T17:44:55.928644300Z"
    }
   },
   "id": "603f01346b4cc80",
   "execution_count": 5
  },
  {
   "cell_type": "code",
   "outputs": [],
   "source": [
    "# X['ewm_shoton_diff'] = X['ewm_shoton_home'] - X['ewm_shoton_away']\n",
    "# X['ewm_shoton_ratio'] = X['ewm_shoton_home'] / X['ewm_shoton_away']"
   ],
   "metadata": {
    "collapsed": false,
    "ExecuteTime": {
     "end_time": "2024-02-05T17:44:55.981645300Z",
     "start_time": "2024-02-05T17:44:55.960645100Z"
    }
   },
   "id": "7ed3761e05c1ab10",
   "execution_count": 6
  },
  {
   "cell_type": "code",
   "outputs": [
    {
     "data": {
      "text/plain": "0.6772014777016293"
     },
     "execution_count": 7,
     "metadata": {},
     "output_type": "execute_result"
    }
   ],
   "source": [
    "X_train, X_val, y_train, y_val = train_test_split(X, y, test_size=0.2, random_state=42, stratify=y)\n",
    "\n",
    "f1, xgb = evaluate_model(X, y)\n",
    "f1"
   ],
   "metadata": {
    "collapsed": false,
    "ExecuteTime": {
     "end_time": "2024-02-05T17:44:56.150643600Z",
     "start_time": "2024-02-05T17:44:55.974644200Z"
    }
   },
   "id": "e80a19bc0848f5aa",
   "execution_count": 7
  },
  {
   "cell_type": "code",
   "outputs": [
    {
     "name": "stdout",
     "output_type": "stream",
     "text": [
      "Top 5 feature selection results:\n",
      "Threshold: 0.028790410608053207, F1: 0.605643326737279\n",
      "Threshold: 0.03097396157681942, F1: 0.5953158536498407\n",
      "Threshold: 0.0301752220839262, F1: 0.5929390412473119\n",
      "Threshold: 0.0426974780857563, F1: 0.58964125710157\n",
      "Threshold: 0.03765176609158516, F1: 0.5846790986204261\n"
     ]
    }
   ],
   "source": [
    "from sklearn.feature_selection import SelectFromModel\n",
    "\n",
    "def evaluate_model_fe(X, y, threshold):\n",
    "    X_train, X_val, y_train, y_val = train_test_split(X, y, test_size=0.2, random_state=42, stratify=y)\n",
    "    \n",
    "    # Fit and transform the training data\n",
    "    selection = SelectFromModel(xgb, threshold=threshold, prefit=True)\n",
    "    select_X_train = selection.transform(X_train)\n",
    "    select_X_val = selection.transform(X_val)\n",
    "    \n",
    "    # Get the support of the selected features\n",
    "    selected_features = X_train.columns[(selection.get_support())]\n",
    "    \n",
    "    # Convert the resulting arrays to DataFrames with column names\n",
    "    select_X_train = pd.DataFrame(select_X_train, columns=selected_features)\n",
    "    select_X_val = pd.DataFrame(select_X_val, columns=selected_features)\n",
    "    \n",
    "    select_X_train_df = select_X_train.apply(lambda col: col.astype('category') if col.dtype == 'object' else col)\n",
    "    select_X_val_df = select_X_val.apply(lambda col: col.astype('category') if col.dtype == 'object' else col)\n",
    "\n",
    "    model = XGBClassifier(random_state=42, enable_categorical=True, early_stopping_rounds=100)\n",
    "    model.fit(select_X_train_df, y_train, eval_set=[(select_X_train_df, y_train), (select_X_val_df, y_val)], verbose=0)\n",
    "\n",
    "    y_pred = model.predict(select_X_val_df)\n",
    "    return f1_score(y_val, y_pred, average='weighted')\n",
    "\n",
    "# Your existing code for getting feature importances\n",
    "feature_importances = xgb.feature_importances_\n",
    "thresholds = sorted(feature_importances, reverse=True)\n",
    "\n",
    "results = []\n",
    "\n",
    "# Iterate over thresholds\n",
    "for thresh in thresholds:\n",
    "    f1 = evaluate_model_fe(X, y, thresh)\n",
    "    results.append({'threshold': thresh, 'f1': f1})\n",
    "\n",
    "# Sorting and printing results\n",
    "sorted_results = sorted(results, key=lambda x: x['f1'], reverse=True)\n",
    "\n",
    "print(\"Top 5 feature selection results:\")\n",
    "for result in sorted_results[:5]:\n",
    "    print(f\"Threshold: {result['threshold']}, F1: {result['f1']}\")"
   ],
   "metadata": {
    "collapsed": false,
    "ExecuteTime": {
     "end_time": "2024-02-05T17:45:23.315792100Z",
     "start_time": "2024-02-05T17:44:56.155642900Z"
    }
   },
   "id": "779be20a20d304fe",
   "execution_count": 8
  },
  {
   "cell_type": "code",
   "outputs": [
    {
     "ename": "NameError",
     "evalue": "name 'model' is not defined",
     "output_type": "error",
     "traceback": [
      "\u001B[1;31m---------------------------------------------------------------------------\u001B[0m",
      "\u001B[1;31mNameError\u001B[0m                                 Traceback (most recent call last)",
      "Cell \u001B[1;32mIn[9], line 3\u001B[0m\n\u001B[0;32m      1\u001B[0m best_threshold \u001B[38;5;241m=\u001B[39m \u001B[38;5;28mmax\u001B[39m(results, key\u001B[38;5;241m=\u001B[39m\u001B[38;5;28;01mlambda\u001B[39;00m x: x[\u001B[38;5;124m'\u001B[39m\u001B[38;5;124mf1\u001B[39m\u001B[38;5;124m'\u001B[39m])[\u001B[38;5;124m'\u001B[39m\u001B[38;5;124mthreshold\u001B[39m\u001B[38;5;124m'\u001B[39m]\n\u001B[1;32m----> 3\u001B[0m selection \u001B[38;5;241m=\u001B[39m SelectFromModel(\u001B[43mmodel\u001B[49m, threshold\u001B[38;5;241m=\u001B[39mbest_threshold, prefit\u001B[38;5;241m=\u001B[39m\u001B[38;5;28;01mTrue\u001B[39;00m)\n\u001B[0;32m      4\u001B[0m selection\u001B[38;5;241m.\u001B[39mfit(X_train, y_train)\n\u001B[0;32m      6\u001B[0m \u001B[38;5;66;03m# Get the names of the selected features\u001B[39;00m\n",
      "\u001B[1;31mNameError\u001B[0m: name 'model' is not defined"
     ]
    }
   ],
   "source": [
    "best_threshold = max(results, key=lambda x: x['f1'])['threshold']\n",
    "\n",
    "selection = SelectFromModel(model, threshold=best_threshold, prefit=True)\n",
    "selection.fit(X_train, y_train)\n",
    "\n",
    "# Get the names of the selected features\n",
    "selected_features = X_train.columns[selection.get_support()]\n",
    "\n",
    "print(\"Selected features for the best threshold:\")\n",
    "print(list(selected_features))"
   ],
   "metadata": {
    "collapsed": false,
    "ExecuteTime": {
     "end_time": "2024-02-05T17:45:23.854540400Z",
     "start_time": "2024-02-05T17:45:23.309573200Z"
    }
   },
   "id": "dc5bb4885d0f5f97",
   "execution_count": 9
  },
  {
   "cell_type": "code",
   "outputs": [],
   "source": [],
   "metadata": {
    "collapsed": false,
    "ExecuteTime": {
     "start_time": "2024-02-05T17:45:23.853490300Z"
    }
   },
   "id": "170932be0103c2a5"
  }
 ],
 "metadata": {
  "kernelspec": {
   "display_name": "Python 3",
   "language": "python",
   "name": "python3"
  },
  "language_info": {
   "codemirror_mode": {
    "name": "ipython",
    "version": 2
   },
   "file_extension": ".py",
   "mimetype": "text/x-python",
   "name": "python",
   "nbconvert_exporter": "python",
   "pygments_lexer": "ipython2",
   "version": "2.7.6"
  }
 },
 "nbformat": 4,
 "nbformat_minor": 5
}
