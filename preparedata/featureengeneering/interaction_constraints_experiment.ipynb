{
 "cells": [
  {
   "cell_type": "code",
   "execution_count": 1,
   "id": "initial_id",
   "metadata": {
    "collapsed": true,
    "ExecuteTime": {
     "end_time": "2024-01-27T17:26:56.914176500Z",
     "start_time": "2024-01-27T17:26:56.667565800Z"
    }
   },
   "outputs": [],
   "source": [
    "import pandas as pd\n",
    "from itertools import combinations\n",
    "\n",
    "from sklearn.model_selection import train_test_split\n",
    "from xgboost import XGBClassifier\n",
    "from sklearn.metrics import f1_score\n",
    "\n",
    "import category_encoders as ce\n",
    "\n",
    "import warnings\n",
    "\n",
    "warnings.filterwarnings(\"ignore\")"
   ]
  },
  {
   "cell_type": "code",
   "outputs": [],
   "source": [
    "# df_['ewm_shoton_diff'] = df_['ewm_shoton_home'] - df_['ewm_shoton_away']\n",
    "# df_['ewm_shoton_ratio'] = df_['ewm_shoton_home'] / df_['ewm_shoton_away']"
   ],
   "metadata": {
    "collapsed": false,
    "ExecuteTime": {
     "end_time": "2024-01-27T17:26:56.932677100Z",
     "start_time": "2024-01-27T17:26:56.915210900Z"
    }
   },
   "id": "d8d90f11164300af",
   "execution_count": 2
  },
  {
   "cell_type": "code",
   "outputs": [
    {
     "name": "stdout",
     "output_type": "stream",
     "text": [
      "<class 'pandas.core.frame.DataFrame'>\n",
      "RangeIndex: 3040 entries, 0 to 3039\n",
      "Data columns (total 9 columns):\n",
      " #   Column                               Non-Null Count  Dtype   \n",
      "---  ------                               --------------  -----   \n",
      " 0   avg_home_rating_attack_binned        3040 non-null   category\n",
      " 1   avg_away_rating_attack_binned        3040 non-null   category\n",
      " 2   avg_away_rating_defence_binned       3040 non-null   category\n",
      " 3   avg_home_rating_defence_binned       3040 non-null   category\n",
      " 4   points_home_binned                   3040 non-null   category\n",
      " 5   home_weighted_wins_binned            3040 non-null   category\n",
      " 6   away_weighted_wins_binned            3040 non-null   category\n",
      " 7   ewm_home_team_goals_binned           3024 non-null   category\n",
      " 8   ewm_away_team_goals_conceded_binned  3022 non-null   category\n",
      "dtypes: category(9)\n",
      "memory usage: 28.6 KB\n"
     ]
    }
   ],
   "source": [
    "X = pd.read_csv('../../data/binned/df.csv')\n",
    "y = pd.read_csv('../../data/binned/y.csv')\n",
    "\n",
    "for col in X.filter(like='_binned').columns:\n",
    "    X[col] = X[col].astype('category')\n",
    "\n",
    "X.filter(like='_binned').info()"
   ],
   "metadata": {
    "collapsed": false,
    "ExecuteTime": {
     "end_time": "2024-01-27T17:26:56.979327800Z",
     "start_time": "2024-01-27T17:26:56.929579600Z"
    }
   },
   "id": "df77a98201fcb2f7",
   "execution_count": 3
  },
  {
   "cell_type": "code",
   "outputs": [
    {
     "name": "stdout",
     "output_type": "stream",
     "text": [
      "<class 'pandas.core.frame.DataFrame'>\n",
      "RangeIndex: 3040 entries, 0 to 3039\n",
      "Data columns (total 60 columns):\n",
      " #   Column                               Non-Null Count  Dtype   \n",
      "---  ------                               --------------  -----   \n",
      " 0   stage                                3040 non-null   int64   \n",
      " 1   player_rating_home_player_1          3040 non-null   int64   \n",
      " 2   player_rating_home_player_2          3040 non-null   int64   \n",
      " 3   player_rating_home_player_3          3040 non-null   int64   \n",
      " 4   player_rating_home_player_4          3040 non-null   int64   \n",
      " 5   player_rating_home_player_5          3040 non-null   int64   \n",
      " 6   player_rating_home_player_6          3040 non-null   int64   \n",
      " 7   player_rating_home_player_7          3040 non-null   int64   \n",
      " 8   player_rating_home_player_8          3040 non-null   int64   \n",
      " 9   player_rating_home_player_9          3040 non-null   int64   \n",
      " 10  player_rating_home_player_10         3040 non-null   int64   \n",
      " 11  player_rating_home_player_11         3040 non-null   int64   \n",
      " 12  player_rating_away_player_1          3040 non-null   int64   \n",
      " 13  player_rating_away_player_2          3040 non-null   int64   \n",
      " 14  player_rating_away_player_3          3040 non-null   int64   \n",
      " 15  player_rating_away_player_4          3040 non-null   int64   \n",
      " 16  player_rating_away_player_5          3040 non-null   int64   \n",
      " 17  player_rating_away_player_6          3040 non-null   int64   \n",
      " 18  player_rating_away_player_7          3040 non-null   int64   \n",
      " 19  player_rating_away_player_8          3040 non-null   int64   \n",
      " 20  player_rating_away_player_9          3040 non-null   int64   \n",
      " 21  player_rating_away_player_10         3040 non-null   int64   \n",
      " 22  player_rating_away_player_11         3040 non-null   int64   \n",
      " 23  ewm_away_team_goals                  3022 non-null   float64 \n",
      " 24  ewm_home_team_goals_conceded         3024 non-null   float64 \n",
      " 25  points_away                          3040 non-null   int64   \n",
      " 26  avg_home_team_rating                 3040 non-null   float64 \n",
      " 27  avg_away_team_rating                 3040 non-null   float64 \n",
      " 28  home_streak_wins                     3040 non-null   float64 \n",
      " 29  away_streak_wins                     3040 non-null   float64 \n",
      " 30  ewm_shoton_home                      3024 non-null   float64 \n",
      " 31  ewm_shoton_away                      3022 non-null   float64 \n",
      " 32  ewm_possession_home                  3024 non-null   float64 \n",
      " 33  ewm_possession_away                  3022 non-null   float64 \n",
      " 34  diff_player_1                        3040 non-null   int64   \n",
      " 35  diff_player_2                        3040 non-null   int64   \n",
      " 36  diff_player_3                        3040 non-null   int64   \n",
      " 37  diff_player_4                        3040 non-null   int64   \n",
      " 38  diff_player_5                        3040 non-null   int64   \n",
      " 39  diff_player_6                        3040 non-null   int64   \n",
      " 40  diff_player_7                        3040 non-null   int64   \n",
      " 41  diff_player_8                        3040 non-null   int64   \n",
      " 42  diff_player_9                        3040 non-null   int64   \n",
      " 43  diff_player_10                       3040 non-null   int64   \n",
      " 44  diff_player_11                       3040 non-null   int64   \n",
      " 45  rating_range_home                    3040 non-null   int64   \n",
      " 46  rating_range_away                    3040 non-null   int64   \n",
      " 47  average_rating_home                  3040 non-null   float64 \n",
      " 48  average_rating_away                  3040 non-null   float64 \n",
      " 49  num_top_players_home                 3040 non-null   int64   \n",
      " 50  num_top_players_away                 3040 non-null   int64   \n",
      " 51  avg_home_rating_attack_binned        3040 non-null   category\n",
      " 52  avg_away_rating_attack_binned        3040 non-null   category\n",
      " 53  avg_away_rating_defence_binned       3040 non-null   category\n",
      " 54  avg_home_rating_defence_binned       3040 non-null   category\n",
      " 55  points_home_binned                   3040 non-null   category\n",
      " 56  home_weighted_wins_binned            3040 non-null   category\n",
      " 57  away_weighted_wins_binned            3040 non-null   category\n",
      " 58  ewm_home_team_goals_binned           3024 non-null   category\n",
      " 59  ewm_away_team_goals_conceded_binned  3022 non-null   category\n",
      "dtypes: category(9), float64(12), int64(39)\n",
      "memory usage: 1.2 MB\n"
     ]
    }
   ],
   "source": [
    "X.info()"
   ],
   "metadata": {
    "collapsed": false,
    "ExecuteTime": {
     "end_time": "2024-01-27T17:26:56.979327800Z",
     "start_time": "2024-01-27T17:26:56.961684300Z"
    }
   },
   "id": "6c94b38ea88c3498",
   "execution_count": 4
  },
  {
   "cell_type": "code",
   "outputs": [],
   "source": [
    "X_train, X_val, y_train, y_val = train_test_split(X, y, test_size=0.2, random_state=42, stratify=y)"
   ],
   "metadata": {
    "collapsed": false,
    "ExecuteTime": {
     "end_time": "2024-01-27T17:26:57.003115700Z",
     "start_time": "2024-01-27T17:26:56.977270900Z"
    }
   },
   "id": "4ab468a4e98ae131",
   "execution_count": 5
  },
  {
   "cell_type": "code",
   "outputs": [],
   "source": [
    "def evaluate_model(X_train, X_val, y_train, y_val, interaction_constraints):\n",
    "    encoder = ce.OneHotEncoder(cols=X_train.select_dtypes(include=['object', 'category']).columns, use_cat_names=True, drop_invariant=True, return_df=True)\n",
    "\n",
    "    X_train_encoded = encoder.fit_transform(X_train, y_train)\n",
    "    X_val_encoded = encoder.transform(X_val)\n",
    "\n",
    "    model = XGBClassifier(random_state=42, enable_categorical=True, early_stopping_rounds=100, interaction_constraints=interaction_constraints)\n",
    "    model.fit(X_train_encoded, y_train, eval_set=[(X_train_encoded, y_train), (X_val_encoded, y_val)], verbose=0)\n",
    "    y_pred = model.predict(X_val_encoded)\n",
    "    return f1_score(y_val, y_pred, average='weighted')"
   ],
   "metadata": {
    "collapsed": false,
    "ExecuteTime": {
     "end_time": "2024-01-27T17:33:01.462013700Z",
     "start_time": "2024-01-27T17:33:01.432266800Z"
    }
   },
   "id": "84b801986129feb",
   "execution_count": 41
  },
  {
   "cell_type": "code",
   "outputs": [
    {
     "data": {
      "text/plain": "0.5322813298157089"
     },
     "execution_count": 42,
     "metadata": {},
     "output_type": "execute_result"
    }
   ],
   "source": [
    "evaluate_model(X_train, X_val, y_train, y_val, [])"
   ],
   "metadata": {
    "collapsed": false,
    "ExecuteTime": {
     "end_time": "2024-01-27T17:33:02.340593900Z",
     "start_time": "2024-01-27T17:33:01.650855400Z"
    }
   },
   "id": "dde05093561e73d6",
   "execution_count": 42
  },
  {
   "cell_type": "code",
   "outputs": [],
   "source": [
    "home_player_ratings = [col for index, col in enumerate(X.columns) if col.startswith('player_rating_home_player_')]\n",
    "away_player_ratings = [col for index, col in enumerate(X.columns) if col.startswith('player_rating_away_player_')]\n",
    "\n",
    "team_performance_metrics = [col for index, col in enumerate(X.columns) if col.startswith('ewm_') or col.startswith('points_') or col.startswith('home_weighted_wins') or col.startswith('away_weighted_wins')]\n",
    "\n",
    "team_avg_variance_ratings = [col for index, col in enumerate(X.columns) if col in ['average_rating_home', 'average_rating_away']]\n",
    "\n",
    "rating_range_avg_diff = [col for index, col in enumerate(X.columns) if col in ['rating_range_home', 'rating_range_away', 'average_rating_diff']]\n",
    "\n",
    "attack_defense_strength = [col for index, col in enumerate(X.columns) if col in ['diff_avg_rating_attack', 'diff_avg_rating_defence']]\n",
    "\n",
    "home_away_team_strength = [col for index, col in enumerate(X.columns) if 'home' in col or 'away' in col]\n",
    "\n",
    "binned_group = [col for index, col in enumerate(X.columns) if 'binned' in col]\n"
   ],
   "metadata": {
    "collapsed": false,
    "ExecuteTime": {
     "end_time": "2024-01-27T17:26:57.711294900Z",
     "start_time": "2024-01-27T17:26:57.691872600Z"
    }
   },
   "id": "680fc21fa5107545",
   "execution_count": 8
  },
  {
   "cell_type": "code",
   "outputs": [],
   "source": [
    "features_interaction_depth_0 = ['ewm_shoton_away', 'ewm_shoton_home', 'ewm_home_team_goals_conceded',\n",
    "                                'ewm_possession_home', 'diff_player_8', 'home_streak_wins', 'ewm_away_team_goals',\n",
    "                                'away_streak_wins', 'diff_player_9', 'ewm_possession_away', 'diff_player_11',\n",
    "                                'player_rating_home_player_8', 'stage', 'avg_home_team_rating', 'avg_away_team_rating',\n",
    "                                'points_away', 'player_rating_away_player_7', 'diff_player_10', 'rating_range_away',\n",
    "                                'player_rating_home_player_11', ]\n",
    "\n",
    "features_interaction_depth_1 = ['diff_player_8', 'avg_home_team_rating', 'away_streak_wins',\n",
    "                                'player_rating_away_player_7', 'player_rating_home_player_8',\n",
    "                                'diff_player_9', 'ewm_possession_away', 'diff_player_11',\n",
    "                                'home_streak_wins', 'ewm_shoton_away', 'player_rating_home_player_11',\n",
    "                                'ewm_away_team_goals', 'ewm_possession_home', 'ewm_shoton_home',\n",
    "                                'ewm_home_team_goals_conceded', ]"
   ],
   "metadata": {
    "collapsed": false,
    "ExecuteTime": {
     "end_time": "2024-01-27T17:26:57.725598500Z",
     "start_time": "2024-01-27T17:26:57.706208500Z"
    }
   },
   "id": "eb4d3216ad84b05",
   "execution_count": 9
  },
  {
   "cell_type": "code",
   "outputs": [],
   "source": [
    "interaction_constraints = [\n",
    "    home_player_ratings,\n",
    "    away_player_ratings,\n",
    "    # team_performance_metrics,\n",
    "    # team_avg_variance_ratings,\n",
    "    # # features_interaction_depth_0,\n",
    "    # features_interaction_depth_1,\n",
    "    # binned_group,\n",
    "    # home_away_team_strength\n",
    "]"
   ],
   "metadata": {
    "collapsed": false,
    "ExecuteTime": {
     "end_time": "2024-01-27T17:39:23.704618200Z",
     "start_time": "2024-01-27T17:39:23.686090400Z"
    }
   },
   "id": "23780ba5805f7e6d",
   "execution_count": 47
  },
  {
   "cell_type": "code",
   "outputs": [
    {
     "name": "stdout",
     "output_type": "stream",
     "text": [
      "Combo: (['player_rating_home_player_1', 'player_rating_home_player_2', 'player_rating_home_player_3', 'player_rating_home_player_4', 'player_rating_home_player_5', 'player_rating_home_player_6', 'player_rating_home_player_7', 'player_rating_home_player_8', 'player_rating_home_player_9', 'player_rating_home_player_10', 'player_rating_home_player_11'],), F1 Score: 0.5322813298157089\n",
      "Combo: (['player_rating_away_player_1', 'player_rating_away_player_2', 'player_rating_away_player_3', 'player_rating_away_player_4', 'player_rating_away_player_5', 'player_rating_away_player_6', 'player_rating_away_player_7', 'player_rating_away_player_8', 'player_rating_away_player_9', 'player_rating_away_player_10', 'player_rating_away_player_11'],), F1 Score: 0.5322813298157089\n",
      "Combo: (['player_rating_home_player_1', 'player_rating_home_player_2', 'player_rating_home_player_3', 'player_rating_home_player_4', 'player_rating_home_player_5', 'player_rating_home_player_6', 'player_rating_home_player_7', 'player_rating_home_player_8', 'player_rating_home_player_9', 'player_rating_home_player_10', 'player_rating_home_player_11'], ['player_rating_away_player_1', 'player_rating_away_player_2', 'player_rating_away_player_3', 'player_rating_away_player_4', 'player_rating_away_player_5', 'player_rating_away_player_6', 'player_rating_away_player_7', 'player_rating_away_player_8', 'player_rating_away_player_9', 'player_rating_away_player_10', 'player_rating_away_player_11']), F1 Score: 0.5322813298157089\n"
     ]
    }
   ],
   "source": [
    "X_train_full, X_val_full, y_train, y_val = train_test_split(X, y, test_size=0.2, random_state=42, stratify=y)\n",
    "\n",
    "# Dictionary to store F1 score for each combination\n",
    "results = []\n",
    "\n",
    "# Iterate over all combinations of interaction constraints\n",
    "for i in range(1, len(interaction_constraints) + 1):\n",
    "    for combo in combinations(interaction_constraints, i):\n",
    "        # Initialize the XGBClassifier with the current combination of interaction constraints\n",
    "        \n",
    "        f1 = evaluate_model(X_train, X_val, y_train, y_val, combo)\n",
    "\n",
    "        results.append((combo, f1))\n",
    "\n",
    "# Sort the results based on F1 score in descending order\n",
    "results.sort(key=lambda x: x[1], reverse=True)\n",
    "\n",
    "# Retrieve the top 5 results\n",
    "top_5_results = results[:5]\n",
    "\n",
    "# Print or process the top 5 results\n",
    "for combo, score in top_5_results:\n",
    "    print(f\"Combo: {combo}, F1 Score: {score}\")\n"
   ],
   "metadata": {
    "collapsed": false,
    "ExecuteTime": {
     "end_time": "2024-01-27T17:39:26.183997600Z",
     "start_time": "2024-01-27T17:39:24.115526700Z"
    }
   },
   "id": "cb132aac631781df",
   "execution_count": 48
  },
  {
   "cell_type": "code",
   "outputs": [],
   "source": [],
   "metadata": {
    "collapsed": false,
    "ExecuteTime": {
     "end_time": "2024-01-27T17:27:01.674725200Z",
     "start_time": "2024-01-27T17:27:01.664318200Z"
    }
   },
   "id": "8470c8e75452f8fb",
   "execution_count": null
  }
 ],
 "metadata": {
  "kernelspec": {
   "display_name": "Python 3",
   "language": "python",
   "name": "python3"
  },
  "language_info": {
   "codemirror_mode": {
    "name": "ipython",
    "version": 2
   },
   "file_extension": ".py",
   "mimetype": "text/x-python",
   "name": "python",
   "nbconvert_exporter": "python",
   "pygments_lexer": "ipython2",
   "version": "2.7.6"
  }
 },
 "nbformat": 4,
 "nbformat_minor": 5
}
