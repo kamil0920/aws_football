{
 "cells": [
  {
   "cell_type": "code",
   "execution_count": 1,
   "id": "initial_id",
   "metadata": {
    "collapsed": true,
    "ExecuteTime": {
     "end_time": "2024-01-21T16:17:49.156101200Z",
     "start_time": "2024-01-21T16:17:48.881410900Z"
    }
   },
   "outputs": [],
   "source": [
    "import pandas as pd\n",
    "from itertools import combinations\n",
    "from sklearn.model_selection import train_test_split\n",
    "from xgboost import XGBClassifier\n",
    "from sklearn.metrics import f1_score\n",
    "\n",
    "import warnings\n",
    "\n",
    "warnings.filterwarnings(\"ignore\")"
   ]
  },
  {
   "cell_type": "code",
   "outputs": [],
   "source": [
    "X = pd.read_csv('../../data/imputed/df.csv')\n",
    "y = pd.read_csv('../../data/imputed/y.csv')"
   ],
   "metadata": {
    "collapsed": false,
    "ExecuteTime": {
     "end_time": "2024-01-21T16:17:49.197089200Z",
     "start_time": "2024-01-21T16:17:49.158210600Z"
    }
   },
   "id": "df77a98201fcb2f7",
   "execution_count": 2
  },
  {
   "cell_type": "code",
   "outputs": [],
   "source": [
    "home_player_ratings = [col for index, col in enumerate(X.columns) if col.startswith('player_rating_home_player_')]\n",
    "away_player_ratings = [col for index, col in enumerate(X.columns) if col.startswith('player_rating_away_player_')]\n",
    "team_performance_metrics = [col for index, col in enumerate(X.columns) if col.startswith('ewm_') or col.startswith('points_') or col.startswith('home_weighted_wins') or col.startswith('away_weighted_wins')]\n",
    "team_avg_variance_ratings = [col for index, col in enumerate(X.columns) if col in ['average_rating_home', 'average_rating_away', 'variance_rating_home', 'variance_rating_away', 'std_dev_rating_home', 'std_dev_rating_away']]\n",
    "rating_range_avg_diff = [col for index, col in enumerate(X.columns) if col in ['rating_range_home', 'rating_range_away', 'average_rating_diff']]\n",
    "attack_defense_strength = [col for index, col in enumerate(X.columns) if col in ['diff_avg_rating_attack', 'diff_avg_rating_defence']]\n",
    "home_away_team_strength = [col for index, col in enumerate(X.columns) if 'home' in col or 'away' in col]\n"
   ],
   "metadata": {
    "collapsed": false,
    "ExecuteTime": {
     "end_time": "2024-01-21T16:17:49.207502500Z",
     "start_time": "2024-01-21T16:17:49.191934300Z"
    }
   },
   "id": "680fc21fa5107545",
   "execution_count": 3
  },
  {
   "cell_type": "code",
   "outputs": [],
   "source": [
    "interaction_constraints = [\n",
    "    home_player_ratings,\n",
    "    away_player_ratings,\n",
    "    team_performance_metrics,\n",
    "    # team_avg_variance_ratings,\n",
    "    # top_players,\n",
    "    # rating_range_avg_diff,\n",
    "    # attack_defense_strength,\n",
    "    home_away_team_strength\n",
    "]"
   ],
   "metadata": {
    "collapsed": false,
    "ExecuteTime": {
     "end_time": "2024-01-21T16:17:49.221016300Z",
     "start_time": "2024-01-21T16:17:49.205457400Z"
    }
   },
   "id": "23780ba5805f7e6d",
   "execution_count": 4
  },
  {
   "cell_type": "code",
   "outputs": [
    {
     "name": "stdout",
     "output_type": "stream",
     "text": [
      "Best interaction constraints: (['player_rating_home_player_1', 'player_rating_home_player_2', 'player_rating_home_player_3', 'player_rating_home_player_4', 'player_rating_home_player_5', 'player_rating_home_player_6', 'player_rating_home_player_7', 'player_rating_home_player_8', 'player_rating_home_player_9', 'player_rating_home_player_10', 'player_rating_home_player_11'], ['player_rating_away_player_1', 'player_rating_away_player_2', 'player_rating_away_player_3', 'player_rating_away_player_4', 'player_rating_away_player_5', 'player_rating_away_player_6', 'player_rating_away_player_7', 'player_rating_away_player_8', 'player_rating_away_player_9', 'player_rating_away_player_10', 'player_rating_away_player_11'], ['ewm_home_team_goals', 'ewm_away_team_goals', 'ewm_home_team_goals_conceded', 'ewm_away_team_goals_conceded', 'points_home', 'points_away', 'home_weighted_wins', 'away_weighted_wins', 'ewm_shoton_home', 'ewm_shoton_away', 'ewm_possession_home', 'ewm_possession_away'], ['player_rating_home_player_1', 'player_rating_home_player_2', 'player_rating_home_player_3', 'player_rating_home_player_4', 'player_rating_home_player_5', 'player_rating_home_player_6', 'player_rating_home_player_7', 'player_rating_home_player_8', 'player_rating_home_player_9', 'player_rating_home_player_10', 'player_rating_home_player_11', 'player_rating_away_player_1', 'player_rating_away_player_2', 'player_rating_away_player_3', 'player_rating_away_player_4', 'player_rating_away_player_5', 'player_rating_away_player_6', 'player_rating_away_player_7', 'player_rating_away_player_8', 'player_rating_away_player_9', 'player_rating_away_player_10', 'player_rating_away_player_11', 'ewm_home_team_goals', 'ewm_away_team_goals', 'ewm_home_team_goals_conceded', 'ewm_away_team_goals_conceded', 'points_home', 'points_away', 'home_weighted_wins', 'away_weighted_wins', 'avg_home_team_rating', 'avg_away_team_rating', 'home_streak_wins', 'away_streak_wins', 'ewm_shoton_home', 'ewm_shoton_away', 'ewm_possession_home', 'ewm_possession_away'])\n",
      "Best F1 Score: 0.4902656724398379\n"
     ]
    }
   ],
   "source": [
    "X_train_full, X_val_full, y_train, y_val = train_test_split(X, y, test_size=0.2, random_state=42, stratify=y)\n",
    "\n",
    "# Dictionary to store F1 score for each combination\n",
    "f1_scores = {}\n",
    "\n",
    "# Iterate over all combinations of interaction constraints\n",
    "for i in range(1, len(interaction_constraints) + 1):\n",
    "    for combo in combinations(interaction_constraints, i):\n",
    "        # Initialize the XGBClassifier with the current combination of interaction constraints\n",
    "        xgb_model = XGBClassifier(random_state=42, enable_categorical=True, interaction_constraints=list(combo))\n",
    "\n",
    "        # Train the model\n",
    "        xgb_model.fit(X_train_full, y_train)\n",
    "\n",
    "        # Predictions and evaluation\n",
    "        y_pred = xgb_model.predict(X_val_full)\n",
    "        f1 = f1_score(y_val, y_pred, average='weighted')\n",
    "        \n",
    "        f1_scores[f1] = combo\n",
    "\n",
    "# Find the best combination\n",
    "best_f1_score = max(f1_scores, key=f1_scores.get)\n",
    "best_combo = f1_scores[best_f1_score]\n",
    "\n",
    "# Print the best combination and its F1 score\n",
    "print(f'Best interaction constraints: {best_combo}')\n",
    "print(f'Best F1 Score: {best_f1_score}')\n",
    "        "
   ],
   "metadata": {
    "collapsed": false,
    "ExecuteTime": {
     "end_time": "2024-01-21T16:17:57.909198700Z",
     "start_time": "2024-01-21T16:17:49.222016100Z"
    }
   },
   "id": "cb132aac631781df",
   "execution_count": 5
  },
  {
   "cell_type": "code",
   "outputs": [],
   "source": [],
   "metadata": {
    "collapsed": false,
    "ExecuteTime": {
     "end_time": "2024-01-21T16:17:57.920503100Z",
     "start_time": "2024-01-21T16:17:57.905133100Z"
    }
   },
   "id": "8470c8e75452f8fb",
   "execution_count": 5
  }
 ],
 "metadata": {
  "kernelspec": {
   "display_name": "Python 3",
   "language": "python",
   "name": "python3"
  },
  "language_info": {
   "codemirror_mode": {
    "name": "ipython",
    "version": 2
   },
   "file_extension": ".py",
   "mimetype": "text/x-python",
   "name": "python",
   "nbconvert_exporter": "python",
   "pygments_lexer": "ipython2",
   "version": "2.7.6"
  }
 },
 "nbformat": 4,
 "nbformat_minor": 5
}
