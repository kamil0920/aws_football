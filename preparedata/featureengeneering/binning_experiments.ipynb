{
 "cells": [
  {
   "cell_type": "code",
   "execution_count": 1,
   "metadata": {
    "collapsed": true,
    "ExecuteTime": {
     "end_time": "2024-01-30T09:39:51.638621900Z",
     "start_time": "2024-01-30T09:39:50.729516200Z"
    }
   },
   "outputs": [],
   "source": [
    "import pandas as pd\n",
    "\n",
    "from itertools import combinations\n",
    "\n",
    "from xgboost import XGBClassifier\n",
    "from sklearn.model_selection import train_test_split\n",
    "from sklearn.metrics import f1_score\n",
    "\n",
    "import category_encoders as ce\n",
    "\n",
    "import warnings\n",
    "warnings.filterwarnings('ignore')"
   ]
  },
  {
   "cell_type": "code",
   "execution_count": 2,
   "outputs": [],
   "source": [
    "X = pd.read_csv('../../data/new_features/df_.csv')\n",
    "y = pd.read_csv('../../data/new_features/y.csv')"
   ],
   "metadata": {
    "collapsed": false,
    "pycharm": {
     "name": "#%%\n"
    },
    "ExecuteTime": {
     "end_time": "2024-01-30T09:39:51.681296Z",
     "start_time": "2024-01-30T09:39:51.638621900Z"
    }
   }
  },
  {
   "cell_type": "code",
   "outputs": [
    {
     "name": "stdout",
     "output_type": "stream",
     "text": [
      "<class 'pandas.core.frame.DataFrame'>\n",
      "RangeIndex: 3040 entries, 0 to 3039\n",
      "Data columns (total 26 columns):\n",
      " #   Column                        Non-Null Count  Dtype  \n",
      "---  ------                        --------------  -----  \n",
      " 0   stage                         3040 non-null   int64  \n",
      " 1   ewm_home_team_goals           3024 non-null   float64\n",
      " 2   ewm_away_team_goals           3022 non-null   float64\n",
      " 3   ewm_home_team_goals_conceded  3024 non-null   float64\n",
      " 4   ewm_away_team_goals_conceded  3022 non-null   float64\n",
      " 5   points_home                   3040 non-null   int64  \n",
      " 6   points_away                   3040 non-null   int64  \n",
      " 7   home_weighted_wins            3040 non-null   float64\n",
      " 8   away_weighted_wins            3040 non-null   float64\n",
      " 9   avg_home_team_rating          3040 non-null   float64\n",
      " 10  avg_away_team_rating          3040 non-null   float64\n",
      " 11  home_streak_wins              3040 non-null   float64\n",
      " 12  away_streak_wins              3040 non-null   float64\n",
      " 13  ewm_shoton_home               3024 non-null   float64\n",
      " 14  ewm_shoton_away               3022 non-null   float64\n",
      " 15  ewm_possession_home           3024 non-null   float64\n",
      " 16  ewm_possession_away           3022 non-null   float64\n",
      " 17  diff_sum                      3040 non-null   int64  \n",
      " 18  rating_range_home             3040 non-null   float64\n",
      " 19  rating_range_away             3040 non-null   float64\n",
      " 20  avg_home_rating_attack        3040 non-null   float64\n",
      " 21  avg_away_rating_attack        3040 non-null   float64\n",
      " 22  avg_away_rating_defence       3039 non-null   float64\n",
      " 23  avg_home_rating_defence       3039 non-null   float64\n",
      " 24  num_top_players_home          3040 non-null   int64  \n",
      " 25  num_top_players_away          3040 non-null   int64  \n",
      "dtypes: float64(20), int64(6)\n",
      "memory usage: 617.6 KB\n"
     ]
    }
   ],
   "source": [
    "X.info()"
   ],
   "metadata": {
    "collapsed": false,
    "ExecuteTime": {
     "end_time": "2024-01-30T09:39:51.694961700Z",
     "start_time": "2024-01-30T09:39:51.669808Z"
    }
   },
   "execution_count": 3
  },
  {
   "cell_type": "code",
   "outputs": [],
   "source": [
    "def apply_binning(df, feature, bins, labels):\n",
    "    # Ensure bins are unique\n",
    "    unique_bins = sorted(set(bins))\n",
    "    if len(unique_bins) < len(bins):\n",
    "        print(f\"Non-unique bins for {feature}, adjusted bins: {unique_bins}\")\n",
    "        bins = unique_bins\n",
    "        if len(bins) - 1 != len(labels):\n",
    "            print(f\"Skipping binning for {feature} due to mismatch in bins and labels.\")\n",
    "            return df[feature]\n",
    "    return pd.cut(df[feature], bins=bins, labels=labels, include_lowest=True)\n"
   ],
   "metadata": {
    "collapsed": false,
    "ExecuteTime": {
     "end_time": "2024-01-30T09:39:51.720770900Z",
     "start_time": "2024-01-30T09:39:51.687591600Z"
    }
   },
   "execution_count": 4
  },
  {
   "cell_type": "code",
   "execution_count": 5,
   "outputs": [
    {
     "name": "stdout",
     "output_type": "stream",
     "text": [
      "The best result: Quantiles: [0.1, 0.3, 0.7, 0.9], Feature Combination: ('points_home', 'points_away', 'away_weighted_wins', 'ewm_home_team_goals'), encoder: ordinal, F1 Score: 0.512280349215016\n"
     ]
    }
   ],
   "source": [
    "import time\n",
    "\n",
    "# List of features to bin\n",
    "features = [\n",
    "    'points_home', 'points_away',\n",
    "    'home_weighted_wins', 'away_weighted_wins',\n",
    "    'ewm_home_team_goals', 'ewm_away_team_goals', \n",
    "    'ewm_away_team_goals_conceded', 'ewm_home_team_goals_conceded',\n",
    "    'ewm_possession_home', 'ewm_possession_away'\n",
    "]\n",
    "\n",
    "quantile_options = [\n",
    "    [0.2, 0.4, 0.6, 0.8],\n",
    "    [0.1, 0.3, 0.7, 0.9],\n",
    "    # [0.1, 0.2, 0.3, 0.4, 0.5, 0.6, 0.7, 0.8, 0.9],\n",
    "    # [0.15, 0.5, 0.85],\n",
    "    # [0.05, 0.95]\n",
    "]\n",
    "\n",
    "def evaluate_model(features, target, interaction_constraints):\n",
    "    # Splitting the data\n",
    "    X_train, X_val, y_train, y_val = train_test_split(features, target, test_size=0.2, random_state=42, stratify=target)\n",
    "    \n",
    "    encoders = {\n",
    "        'one_hot': ce.OneHotEncoder(cols=features.select_dtypes(include=['object', 'category']).columns, use_cat_names=True, drop_invariant=True, return_df=True),\n",
    "        'ordinal': ce.OrdinalEncoder(cols=features.select_dtypes(include=['object', 'category']).columns),\n",
    "        # 'binary': ce.BinaryEncoder(cols=features.select_dtypes(include=['object', 'category']).columns),\n",
    "        # 'target': ce.TargetEncoder(cols=features.select_dtypes(include=['object', 'category']).columns)\n",
    "    }\n",
    "\n",
    "    best_f1 = 0.0\n",
    "    best_encoder = None\n",
    "    best_encoder_name = \"\"\n",
    "\n",
    "    for encoder_name, encoder in encoders.items():\n",
    "        # Apply encoding\n",
    "        X_train_encoded = encoder.fit_transform(X_train, y_train)\n",
    "        X_val_encoded = encoder.transform(X_val)\n",
    "\n",
    "        # Initialize and fit the model\n",
    "        model = XGBClassifier(random_state=42, enable_categorical=True)\n",
    "        model.fit(X_train_encoded, y_train, eval_set=[(X_train_encoded, y_train), (X_val_encoded, y_val)], verbose=0, early_stopping_rounds=25)\n",
    "        \n",
    "        # Predict and evaluate\n",
    "        y_pred = model.predict(X_val_encoded)\n",
    "        f1 = f1_score(y_val, y_pred, average='weighted')\n",
    "\n",
    "        if f1 > best_f1:\n",
    "            best_f1 = f1\n",
    "            best_encoder = encoder\n",
    "            best_encoder_name = encoder_name\n",
    "            \n",
    "    # Return best F1 score and name of the best encoder\n",
    "    return best_f1, best_encoder_name\n",
    "\n",
    "best_df = None\n",
    "best_f1_in_iteration = 0.0\n",
    "best_interaction_constraints = []\n",
    "best_feature_combo = []\n",
    "best_quantiles = []\n",
    "\n",
    "# Experiment with different combinations of binned features for each quantile option\n",
    "for quantiles in quantile_options:\n",
    "    for r in range(1, len(features) + 1):\n",
    "        for feature_combo in combinations(features, r):\n",
    "            df_temp = X.copy()  # Create a temporary copy of the dataframe\n",
    "            for feature in feature_combo:\n",
    "                bins = [-float('inf')] + X[feature].quantile(quantiles).tolist() + [float('inf')]\n",
    "                labels = [f'Bin{i}' for i in range(1, len(bins))]  # Dynamic label creation based on the number of bins\n",
    "                # Apply binning to each feature in the combination\n",
    "                df_temp[f'{feature}_binned'] = apply_binning(df_temp, feature, bins, labels)\n",
    "                df_temp = df_temp.drop([feature], axis=1)\n",
    "\n",
    "            away_player_ratings = [col for index, col in enumerate(df_temp.columns) if col.startswith('player_rating_away_player_')]\n",
    "            team_performance_metrics = [col for index, col in enumerate(df_temp.columns) if col.startswith('ewm_') or col.startswith('points_') or col.startswith('home_weighted_wins') or col.startswith('away_weighted_wins')]\n",
    "            rating_range_avg_diff = [col for index, col in enumerate(df_temp.columns) if col in ['rating_range_home', 'rating_range_away', 'average_rating_diff']]\n",
    "            top_players = [col for index, col in enumerate(df_temp.columns) if col.startswith('num_top')]\n",
    "\n",
    "            interaction_constraints = [\n",
    "                away_player_ratings,\n",
    "                team_performance_metrics,\n",
    "                top_players,\n",
    "                rating_range_avg_diff,\n",
    "            ]\n",
    "            \n",
    "            f1_result, encoder = evaluate_model(df_temp, y, interaction_constraints)\n",
    "            \n",
    "            if f1_result > 0.51:\n",
    "                # print(f'Quantiles: {quantiles}, Feature Combination: {feature_combo}, F1 Score: {f1_result}')\n",
    "                if f1_result > best_f1_in_iteration:\n",
    "                    best_f1_in_iteration = f1_result\n",
    "                    print(f'The best result: Quantiles: {quantiles}, Feature Combination: {feature_combo}, encoder: {encoder}, F1 Score: {f1_result}')\n",
    "                    best_df = df_temp.copy()\n",
    "                    best_interaction_constraints = interaction_constraints\n",
    "                    best_feature_combo = feature_combo"
   ],
   "metadata": {
    "collapsed": false,
    "pycharm": {
     "name": "#%%\n"
    },
    "ExecuteTime": {
     "end_time": "2024-01-30T09:54:30.279628500Z",
     "start_time": "2024-01-30T09:39:51.710574100Z"
    }
   }
  },
  {
   "cell_type": "code",
   "execution_count": 6,
   "outputs": [],
   "source": [
    "# df_binned = best_df.copy()\n",
    "# \n",
    "# for feature in best_feature_combo:\n",
    "#     bins = [-float('inf')] + df_[fea\n",
    "#     ture].quantile([0.1, 0.2, 0.3, 0.4, 0.5, 0.6, 0.7, 0.8, 0.9]).tolist() + [float('inf')]\n",
    "#     labels = [f'Bin{i}' for i in range(1, len(bins))]\n",
    "#     df_binned[f'{feature}_binned'] = apply_binning(df_binned, feature, bins, labels)\n",
    "#     df_binned = df_binned.drop([feature], axis=1)"
   ],
   "metadata": {
    "collapsed": false,
    "pycharm": {
     "name": "#%%\n"
    },
    "ExecuteTime": {
     "end_time": "2024-01-30T09:54:30.297002100Z",
     "start_time": "2024-01-30T09:54:30.280665800Z"
    }
   }
  },
  {
   "cell_type": "code",
   "outputs": [
    {
     "data": {
      "text/plain": "(0.512280349215016, 'ordinal')"
     },
     "execution_count": 7,
     "metadata": {},
     "output_type": "execute_result"
    }
   ],
   "source": [
    "evaluate_model(best_df, y, best_interaction_constraints)"
   ],
   "metadata": {
    "collapsed": false,
    "ExecuteTime": {
     "end_time": "2024-01-30T09:54:30.738528400Z",
     "start_time": "2024-01-30T09:54:30.295971200Z"
    }
   },
   "execution_count": 7
  },
  {
   "cell_type": "code",
   "outputs": [
    {
     "name": "stdout",
     "output_type": "stream",
     "text": [
      "<class 'pandas.core.frame.DataFrame'>\n",
      "RangeIndex: 3040 entries, 0 to 3039\n",
      "Data columns (total 4 columns):\n",
      " #   Column                      Non-Null Count  Dtype   \n",
      "---  ------                      --------------  -----   \n",
      " 0   points_home_binned          3040 non-null   category\n",
      " 1   points_away_binned          3040 non-null   category\n",
      " 2   away_weighted_wins_binned   3040 non-null   category\n",
      " 3   ewm_home_team_goals_binned  3024 non-null   category\n",
      "dtypes: category(4)\n",
      "memory usage: 12.8 KB\n"
     ]
    }
   ],
   "source": [
    "best_df.filter(like='binned').info()"
   ],
   "metadata": {
    "collapsed": false,
    "ExecuteTime": {
     "end_time": "2024-01-30T09:54:30.754824900Z",
     "start_time": "2024-01-30T09:54:30.728316100Z"
    }
   },
   "execution_count": 8
  },
  {
   "cell_type": "code",
   "outputs": [],
   "source": [],
   "metadata": {
    "collapsed": false,
    "ExecuteTime": {
     "end_time": "2024-01-30T09:54:30.803305500Z",
     "start_time": "2024-01-30T09:54:30.743626500Z"
    }
   },
   "execution_count": 8
  },
  {
   "cell_type": "code",
   "execution_count": 9,
   "outputs": [],
   "source": [
    "import os\n",
    "import json\n",
    "\n",
    "output_dir = \"../../data/binned/\"\n",
    "\n",
    "if not os.path.exists(output_dir):\n",
    "    os.makedirs(output_dir)\n",
    "\n",
    "with open(output_dir + 'interaction_constraints.json', 'w') as file:\n",
    "    json.dump(best_interaction_constraints, file)\n",
    "\n",
    "best_df.to_csv(output_dir + 'df.csv', index=False)\n",
    "y.to_csv(output_dir + 'y.csv', index=False)"
   ],
   "metadata": {
    "collapsed": false,
    "pycharm": {
     "name": "#%%\n"
    },
    "ExecuteTime": {
     "end_time": "2024-01-30T09:54:30.819978500Z",
     "start_time": "2024-01-30T09:54:30.758890700Z"
    }
   }
  },
  {
   "cell_type": "code",
   "outputs": [
    {
     "name": "stdout",
     "output_type": "stream",
     "text": [
      "<class 'pandas.core.frame.DataFrame'>\n",
      "RangeIndex: 3040 entries, 0 to 3039\n",
      "Data columns (total 26 columns):\n",
      " #   Column                        Non-Null Count  Dtype   \n",
      "---  ------                        --------------  -----   \n",
      " 0   stage                         3040 non-null   int64   \n",
      " 1   ewm_away_team_goals           3022 non-null   float64 \n",
      " 2   ewm_home_team_goals_conceded  3024 non-null   float64 \n",
      " 3   ewm_away_team_goals_conceded  3022 non-null   float64 \n",
      " 4   home_weighted_wins            3040 non-null   float64 \n",
      " 5   avg_home_team_rating          3040 non-null   float64 \n",
      " 6   avg_away_team_rating          3040 non-null   float64 \n",
      " 7   home_streak_wins              3040 non-null   float64 \n",
      " 8   away_streak_wins              3040 non-null   float64 \n",
      " 9   ewm_shoton_home               3024 non-null   float64 \n",
      " 10  ewm_shoton_away               3022 non-null   float64 \n",
      " 11  ewm_possession_home           3024 non-null   float64 \n",
      " 12  ewm_possession_away           3022 non-null   float64 \n",
      " 13  diff_sum                      3040 non-null   int64   \n",
      " 14  rating_range_home             3040 non-null   float64 \n",
      " 15  rating_range_away             3040 non-null   float64 \n",
      " 16  avg_home_rating_attack        3040 non-null   float64 \n",
      " 17  avg_away_rating_attack        3040 non-null   float64 \n",
      " 18  avg_away_rating_defence       3039 non-null   float64 \n",
      " 19  avg_home_rating_defence       3039 non-null   float64 \n",
      " 20  num_top_players_home          3040 non-null   int64   \n",
      " 21  num_top_players_away          3040 non-null   int64   \n",
      " 22  points_home_binned            3040 non-null   category\n",
      " 23  points_away_binned            3040 non-null   category\n",
      " 24  away_weighted_wins_binned     3040 non-null   category\n",
      " 25  ewm_home_team_goals_binned    3024 non-null   category\n",
      "dtypes: category(4), float64(18), int64(4)\n",
      "memory usage: 535.3 KB\n"
     ]
    }
   ],
   "source": [
    "best_df.info()"
   ],
   "metadata": {
    "collapsed": false,
    "ExecuteTime": {
     "end_time": "2024-01-30T09:54:30.851310800Z",
     "start_time": "2024-01-30T09:54:30.819978500Z"
    }
   },
   "execution_count": 10
  },
  {
   "cell_type": "code",
   "outputs": [
    {
     "data": {
      "text/plain": "[[],\n ['ewm_away_team_goals',\n  'ewm_home_team_goals_conceded',\n  'ewm_away_team_goals_conceded',\n  'home_weighted_wins',\n  'ewm_shoton_home',\n  'ewm_shoton_away',\n  'ewm_possession_home',\n  'ewm_possession_away',\n  'points_home_binned',\n  'points_away_binned',\n  'away_weighted_wins_binned',\n  'ewm_home_team_goals_binned'],\n ['num_top_players_home', 'num_top_players_away'],\n ['rating_range_home', 'rating_range_away']]"
     },
     "execution_count": 11,
     "metadata": {},
     "output_type": "execute_result"
    }
   ],
   "source": [
    "best_interaction_constraints"
   ],
   "metadata": {
    "collapsed": false,
    "ExecuteTime": {
     "end_time": "2024-01-30T09:54:30.852357200Z",
     "start_time": "2024-01-30T09:54:30.836679600Z"
    }
   },
   "execution_count": 11
  },
  {
   "cell_type": "code",
   "outputs": [],
   "source": [],
   "metadata": {
    "collapsed": false,
    "ExecuteTime": {
     "end_time": "2024-01-30T09:54:30.871075600Z",
     "start_time": "2024-01-30T09:54:30.851310800Z"
    }
   },
   "execution_count": 11
  }
 ],
 "metadata": {
  "kernelspec": {
   "display_name": "Python 3",
   "language": "python",
   "name": "python3"
  },
  "language_info": {
   "codemirror_mode": {
    "name": "ipython",
    "version": 2
   },
   "file_extension": ".py",
   "mimetype": "text/x-python",
   "name": "python",
   "nbconvert_exporter": "python",
   "pygments_lexer": "ipython2",
   "version": "2.7.6"
  }
 },
 "nbformat": 4,
 "nbformat_minor": 0
}
