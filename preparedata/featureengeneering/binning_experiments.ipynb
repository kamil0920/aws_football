{
 "cells": [
  {
   "cell_type": "code",
   "execution_count": 6,
   "metadata": {
    "collapsed": true,
    "ExecuteTime": {
     "end_time": "2024-02-05T17:31:08.782337Z",
     "start_time": "2024-02-05T17:31:08.769337400Z"
    }
   },
   "outputs": [],
   "source": [
    "import pandas as pd\n",
    "\n",
    "from itertools import combinations\n",
    "\n",
    "from xgboost import XGBClassifier\n",
    "from sklearn.model_selection import train_test_split\n",
    "from sklearn.metrics import f1_score\n",
    "\n",
    "import category_encoders as ce\n",
    "\n",
    "import warnings\n",
    "warnings.filterwarnings('ignore')"
   ]
  },
  {
   "cell_type": "code",
   "execution_count": 7,
   "outputs": [],
   "source": [
    "X = pd.read_csv('../../data/new_features/df_.csv')\n",
    "y = pd.read_csv('../../data/new_features/y.csv')"
   ],
   "metadata": {
    "collapsed": false,
    "pycharm": {
     "name": "#%%\n"
    },
    "ExecuteTime": {
     "end_time": "2024-02-05T17:31:08.801338700Z",
     "start_time": "2024-02-05T17:31:08.782337Z"
    }
   }
  },
  {
   "cell_type": "code",
   "outputs": [
    {
     "name": "stdout",
     "output_type": "stream",
     "text": [
      "<class 'pandas.core.frame.DataFrame'>\n",
      "RangeIndex: 3040 entries, 0 to 3039\n",
      "Data columns (total 46 columns):\n",
      " #   Column                                  Non-Null Count  Dtype  \n",
      "---  ------                                  --------------  -----  \n",
      " 0   stage                                   3040 non-null   int64  \n",
      " 1   player_rating_home_player_1             3040 non-null   int64  \n",
      " 2   player_rating_home_player_2             3040 non-null   int64  \n",
      " 3   player_rating_home_player_3             3040 non-null   int64  \n",
      " 4   player_rating_home_player_4             3040 non-null   int64  \n",
      " 5   player_rating_home_player_5             3040 non-null   int64  \n",
      " 6   player_rating_home_player_6             3040 non-null   int64  \n",
      " 7   player_rating_home_player_7             3040 non-null   int64  \n",
      " 8   player_rating_home_player_8             3040 non-null   int64  \n",
      " 9   player_rating_home_player_9             3040 non-null   int64  \n",
      " 10  player_rating_home_player_10            3040 non-null   int64  \n",
      " 11  player_rating_home_player_11            3040 non-null   int64  \n",
      " 12  player_rating_away_player_1             3040 non-null   int64  \n",
      " 13  player_rating_away_player_2             3040 non-null   int64  \n",
      " 14  player_rating_away_player_3             3040 non-null   int64  \n",
      " 15  player_rating_away_player_4             3040 non-null   int64  \n",
      " 16  player_rating_away_player_5             3040 non-null   int64  \n",
      " 17  player_rating_away_player_6             3040 non-null   int64  \n",
      " 18  player_rating_away_player_7             3040 non-null   int64  \n",
      " 19  player_rating_away_player_8             3040 non-null   int64  \n",
      " 20  player_rating_away_player_9             3040 non-null   int64  \n",
      " 21  player_rating_away_player_10            3040 non-null   int64  \n",
      " 22  player_rating_away_player_11            3040 non-null   int64  \n",
      " 23  ewm_home_team_goals                     3024 non-null   float64\n",
      " 24  ewm_away_team_goals                     3022 non-null   float64\n",
      " 25  ewm_home_team_goals_conceded            3024 non-null   float64\n",
      " 26  ewm_away_team_goals_conceded            3022 non-null   float64\n",
      " 27  points_home                             3040 non-null   int64  \n",
      " 28  points_away                             3040 non-null   int64  \n",
      " 29  home_weighted_wins                      3040 non-null   float64\n",
      " 30  away_weighted_wins                      3040 non-null   float64\n",
      " 31  avg_home_team_rating                    3040 non-null   float64\n",
      " 32  avg_away_team_rating                    3040 non-null   float64\n",
      " 33  home_streak_wins                        3040 non-null   float64\n",
      " 34  away_streak_wins                        3040 non-null   float64\n",
      " 35  ewm_shoton_home                         3024 non-null   float64\n",
      " 36  ewm_shoton_away                         3022 non-null   float64\n",
      " 37  ewm_possession_home                     3024 non-null   float64\n",
      " 38  ewm_possession_away                     3022 non-null   float64\n",
      " 39  average_rating_home                     3040 non-null   float64\n",
      " 40  average_rating_away                     3040 non-null   float64\n",
      " 41  num_top_players_home                    3040 non-null   int64  \n",
      " 42  num_top_players_away                    3040 non-null   int64  \n",
      " 43  avg_home_team_rating_x_ewm_shoton_away  3022 non-null   float64\n",
      " 44  defensive_weakness_diff                 3016 non-null   float64\n",
      " 45  ewm_possession_home_x_ewm_shoton_home   3024 non-null   float64\n",
      "dtypes: float64(19), int64(27)\n",
      "memory usage: 1.1 MB\n"
     ]
    }
   ],
   "source": [
    "X.info()"
   ],
   "metadata": {
    "collapsed": false,
    "ExecuteTime": {
     "end_time": "2024-02-05T17:31:08.815335700Z",
     "start_time": "2024-02-05T17:31:08.797336Z"
    }
   },
   "execution_count": 8
  },
  {
   "cell_type": "code",
   "outputs": [],
   "source": [
    "def apply_binning(df, feature, bins, labels):\n",
    "    # Ensure bins are unique\n",
    "    unique_bins = sorted(set(bins))\n",
    "    if len(unique_bins) < len(bins):\n",
    "        print(f\"Non-unique bins for {feature}, adjusted bins: {unique_bins}\")\n",
    "        bins = unique_bins\n",
    "        if len(bins) - 1 != len(labels):\n",
    "            print(f\"Skipping binning for {feature} due to mismatch in bins and labels.\")\n",
    "            return df[feature]\n",
    "    return pd.cut(df[feature], bins=bins, labels=labels, include_lowest=True)\n"
   ],
   "metadata": {
    "collapsed": false,
    "ExecuteTime": {
     "end_time": "2024-02-05T17:31:08.833335800Z",
     "start_time": "2024-02-05T17:31:08.812338300Z"
    }
   },
   "execution_count": 9
  },
  {
   "cell_type": "code",
   "execution_count": 10,
   "outputs": [
    {
     "name": "stdout",
     "output_type": "stream",
     "text": [
      "The best result: Quantiles: [0.2, 0.4, 0.6, 0.8], Feature Combination: ('avg_home_team_rating_x_ewm_shoton_away', 'average_rating_away', 'average_rating_home', 'ewm_possession_home', 'avg_away_team_rating'), F1 Score: 0.6772014777016293\n"
     ]
    }
   ],
   "source": [
    "import time\n",
    "\n",
    "# List of features to bin\n",
    "features = [\n",
    "    'avg_home_team_rating_x_ewm_shoton_away', 'average_rating_away', \n",
    "    'average_rating_home', 'ewm_possession_home', \n",
    "    'avg_home_team_rating', 'avg_away_team_rating', \n",
    "    'points_home', 'points_away'\n",
    "]\n",
    "\n",
    "quantile_options = [\n",
    "    [0.2, 0.4, 0.6, 0.8],\n",
    "    [0.1, 0.3, 0.7, 0.9],\n",
    "    [0.1, 0.2, 0.3, 0.4, 0.5, 0.6, 0.7, 0.8, 0.9],\n",
    "    [0.15, 0.5, 0.85],\n",
    "    [0.05, 0.95]\n",
    "]\n",
    "\n",
    "def evaluate_model(features, target):\n",
    "    # Splitting the data\n",
    "    X_train, X_val, y_train, y_val = train_test_split(features, target, test_size=0.2, random_state=42, stratify=target)\n",
    "\n",
    "    best_f1 = 0.0\n",
    "\n",
    "    # Initialize and fit the model\n",
    "    model = XGBClassifier(random_state=42, enable_categorical=True)\n",
    "    model.fit(X_train, y_train, eval_set=[(X_train, y_train), (X_val, y_val)], verbose=0, early_stopping_rounds=25)\n",
    "    \n",
    "    # Predict and evaluate\n",
    "    y_pred = model.predict(X_val)\n",
    "    f1 = f1_score(y_val, y_pred, average='weighted')\n",
    "            \n",
    "    return f1\n",
    "\n",
    "best_df = None\n",
    "best_f1_in_iteration = 0.0\n",
    "best_interaction_constraints = []\n",
    "best_feature_combo = []\n",
    "best_quantiles = []\n",
    "\n",
    "# Experiment with different combinations of binned features for each quantile option\n",
    "for quantiles in quantile_options:\n",
    "    for r in range(1, len(features) + 1):\n",
    "        for feature_combo in combinations(features, r):\n",
    "            df_temp = X.copy()  # Create a temporary copy of the dataframe\n",
    "            for feature in feature_combo:\n",
    "                bins = [-float('inf')] + X[feature].quantile(quantiles).tolist() + [float('inf')]\n",
    "                labels = [f'Bin{i}' for i in range(1, len(bins))]  # Dynamic label creation based on the number of bins\n",
    "                # Apply binning to each feature in the combination\n",
    "                df_temp[f'{feature}_binned'] = apply_binning(df_temp, feature, bins, labels)\n",
    "                df_temp = df_temp.drop([feature], axis=1)\n",
    "\n",
    "            f1_result = evaluate_model(df_temp, y)\n",
    "            \n",
    "            if (f1_result > 0.67) and (f1_result > best_f1_in_iteration):\n",
    "                best_f1_in_iteration = f1_result\n",
    "                print(f'The best result: Quantiles: {quantiles}, Feature Combination: {feature_combo}, F1 Score: {f1_result}')\n",
    "                best_df = df_temp.copy()\n",
    "                best_feature_combo = feature_combo"
   ],
   "metadata": {
    "collapsed": false,
    "pycharm": {
     "name": "#%%\n"
    },
    "ExecuteTime": {
     "end_time": "2024-02-05T17:34:05.428735100Z",
     "start_time": "2024-02-05T17:31:08.834335300Z"
    }
   }
  },
  {
   "cell_type": "code",
   "outputs": [
    {
     "data": {
      "text/plain": "0.6772014777016293"
     },
     "execution_count": 16,
     "metadata": {},
     "output_type": "execute_result"
    }
   ],
   "source": [
    "evaluate_model(best_df, y)"
   ],
   "metadata": {
    "collapsed": false,
    "ExecuteTime": {
     "end_time": "2024-02-05T17:36:51.852199800Z",
     "start_time": "2024-02-05T17:36:51.734514800Z"
    }
   },
   "execution_count": 16
  },
  {
   "cell_type": "code",
   "execution_count": 17,
   "outputs": [],
   "source": [
    "import os\n",
    "import json\n",
    "\n",
    "output_dir = \"../../data/binned/\"\n",
    "\n",
    "if not os.path.exists(output_dir):\n",
    "    os.makedirs(output_dir)\n",
    "\n",
    "with open(output_dir + 'interaction_constraints.json', 'w') as file:\n",
    "    json.dump(best_interaction_constraints, file)\n",
    "\n",
    "best_df.to_csv(output_dir + 'df.csv', index=False)\n",
    "y.to_csv(output_dir + 'y.csv', index=False)"
   ],
   "metadata": {
    "collapsed": false,
    "pycharm": {
     "name": "#%%\n"
    },
    "ExecuteTime": {
     "end_time": "2024-02-05T17:36:57.578859800Z",
     "start_time": "2024-02-05T17:36:57.526567Z"
    }
   }
  },
  {
   "cell_type": "code",
   "outputs": [
    {
     "name": "stdout",
     "output_type": "stream",
     "text": [
      "<class 'pandas.core.frame.DataFrame'>\n",
      "RangeIndex: 3040 entries, 0 to 3039\n",
      "Data columns (total 46 columns):\n",
      " #   Column                                         Non-Null Count  Dtype   \n",
      "---  ------                                         --------------  -----   \n",
      " 0   stage                                          3040 non-null   int64   \n",
      " 1   player_rating_home_player_1                    3040 non-null   int64   \n",
      " 2   player_rating_home_player_2                    3040 non-null   int64   \n",
      " 3   player_rating_home_player_3                    3040 non-null   int64   \n",
      " 4   player_rating_home_player_4                    3040 non-null   int64   \n",
      " 5   player_rating_home_player_5                    3040 non-null   int64   \n",
      " 6   player_rating_home_player_6                    3040 non-null   int64   \n",
      " 7   player_rating_home_player_7                    3040 non-null   int64   \n",
      " 8   player_rating_home_player_8                    3040 non-null   int64   \n",
      " 9   player_rating_home_player_9                    3040 non-null   int64   \n",
      " 10  player_rating_home_player_10                   3040 non-null   int64   \n",
      " 11  player_rating_home_player_11                   3040 non-null   int64   \n",
      " 12  player_rating_away_player_1                    3040 non-null   int64   \n",
      " 13  player_rating_away_player_2                    3040 non-null   int64   \n",
      " 14  player_rating_away_player_3                    3040 non-null   int64   \n",
      " 15  player_rating_away_player_4                    3040 non-null   int64   \n",
      " 16  player_rating_away_player_5                    3040 non-null   int64   \n",
      " 17  player_rating_away_player_6                    3040 non-null   int64   \n",
      " 18  player_rating_away_player_7                    3040 non-null   int64   \n",
      " 19  player_rating_away_player_8                    3040 non-null   int64   \n",
      " 20  player_rating_away_player_9                    3040 non-null   int64   \n",
      " 21  player_rating_away_player_10                   3040 non-null   int64   \n",
      " 22  player_rating_away_player_11                   3040 non-null   int64   \n",
      " 23  ewm_home_team_goals                            3024 non-null   float64 \n",
      " 24  ewm_away_team_goals                            3022 non-null   float64 \n",
      " 25  ewm_home_team_goals_conceded                   3024 non-null   float64 \n",
      " 26  ewm_away_team_goals_conceded                   3022 non-null   float64 \n",
      " 27  points_home                                    3040 non-null   int64   \n",
      " 28  points_away                                    3040 non-null   int64   \n",
      " 29  home_weighted_wins                             3040 non-null   float64 \n",
      " 30  away_weighted_wins                             3040 non-null   float64 \n",
      " 31  avg_home_team_rating                           3040 non-null   float64 \n",
      " 32  home_streak_wins                               3040 non-null   float64 \n",
      " 33  away_streak_wins                               3040 non-null   float64 \n",
      " 34  ewm_shoton_home                                3024 non-null   float64 \n",
      " 35  ewm_shoton_away                                3022 non-null   float64 \n",
      " 36  ewm_possession_away                            3022 non-null   float64 \n",
      " 37  num_top_players_home                           3040 non-null   int64   \n",
      " 38  num_top_players_away                           3040 non-null   int64   \n",
      " 39  defensive_weakness_diff                        3016 non-null   float64 \n",
      " 40  ewm_possession_home_x_ewm_shoton_home          3024 non-null   float64 \n",
      " 41  avg_home_team_rating_x_ewm_shoton_away_binned  3022 non-null   category\n",
      " 42  average_rating_away_binned                     3040 non-null   category\n",
      " 43  average_rating_home_binned                     3040 non-null   category\n",
      " 44  ewm_possession_home_binned                     3024 non-null   category\n",
      " 45  avg_away_team_rating_binned                    3040 non-null   category\n",
      "dtypes: category(5), float64(14), int64(27)\n",
      "memory usage: 989.8 KB\n"
     ]
    }
   ],
   "source": [
    "best_df.info()"
   ],
   "metadata": {
    "collapsed": false,
    "ExecuteTime": {
     "end_time": "2024-02-05T17:34:05.703590600Z",
     "start_time": "2024-02-05T17:34:05.662501500Z"
    }
   },
   "execution_count": 14
  },
  {
   "cell_type": "code",
   "outputs": [
    {
     "data": {
      "text/plain": "[]"
     },
     "execution_count": 15,
     "metadata": {},
     "output_type": "execute_result"
    }
   ],
   "source": [
    "best_interaction_constraints"
   ],
   "metadata": {
    "collapsed": false,
    "ExecuteTime": {
     "end_time": "2024-02-05T17:34:05.721552700Z",
     "start_time": "2024-02-05T17:34:05.676355100Z"
    }
   },
   "execution_count": 15
  },
  {
   "cell_type": "code",
   "outputs": [],
   "source": [],
   "metadata": {
    "collapsed": false,
    "ExecuteTime": {
     "end_time": "2024-02-05T17:34:05.721552700Z",
     "start_time": "2024-02-05T17:34:05.692124600Z"
    }
   },
   "execution_count": 15
  }
 ],
 "metadata": {
  "kernelspec": {
   "display_name": "Python 3",
   "language": "python",
   "name": "python3"
  },
  "language_info": {
   "codemirror_mode": {
    "name": "ipython",
    "version": 2
   },
   "file_extension": ".py",
   "mimetype": "text/x-python",
   "name": "python",
   "nbconvert_exporter": "python",
   "pygments_lexer": "ipython2",
   "version": "2.7.6"
  }
 },
 "nbformat": 4,
 "nbformat_minor": 0
}
