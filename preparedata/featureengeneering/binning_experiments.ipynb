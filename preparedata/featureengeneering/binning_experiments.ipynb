{
 "cells": [
  {
   "cell_type": "code",
   "execution_count": 1,
   "metadata": {
    "collapsed": true,
    "ExecuteTime": {
     "end_time": "2024-01-25T15:49:00.504877400Z",
     "start_time": "2024-01-25T15:49:00.245746900Z"
    }
   },
   "outputs": [],
   "source": [
    "import pandas as pd\n",
    "\n",
    "from itertools import combinations\n",
    "\n",
    "from xgboost import XGBClassifier\n",
    "from sklearn.model_selection import train_test_split\n",
    "from sklearn.metrics import f1_score\n",
    "\n",
    "import category_encoders as ce\n",
    "\n",
    "import warnings\n",
    "warnings.filterwarnings('ignore')"
   ]
  },
  {
   "cell_type": "code",
   "execution_count": 2,
   "outputs": [],
   "source": [
    "X = pd.read_csv('../../data/new_features/df_.csv')\n",
    "y = pd.read_csv('../../data/new_features/y.csv')"
   ],
   "metadata": {
    "collapsed": false,
    "pycharm": {
     "name": "#%%\n"
    },
    "ExecuteTime": {
     "end_time": "2024-01-25T15:49:00.550886100Z",
     "start_time": "2024-01-25T15:49:00.505967300Z"
    }
   }
  },
  {
   "cell_type": "code",
   "outputs": [],
   "source": [
    "def apply_binning(df, feature, bins, labels):\n",
    "    # Ensure bins are unique\n",
    "    unique_bins = sorted(set(bins))\n",
    "    if len(unique_bins) < len(bins):\n",
    "        print(f\"Non-unique bins for {feature}, adjusted bins: {unique_bins}\")\n",
    "        bins = unique_bins\n",
    "        if len(bins) - 1 != len(labels):\n",
    "            print(f\"Skipping binning for {feature} due to mismatch in bins and labels.\")\n",
    "            return df[feature]\n",
    "    return pd.cut(df[feature], bins=bins, labels=labels, include_lowest=True)\n"
   ],
   "metadata": {
    "collapsed": false,
    "ExecuteTime": {
     "end_time": "2024-01-25T15:49:00.572825500Z",
     "start_time": "2024-01-25T15:49:00.553958Z"
    }
   },
   "execution_count": 3
  },
  {
   "cell_type": "code",
   "execution_count": 4,
   "outputs": [
    {
     "name": "stdout",
     "output_type": "stream",
     "text": [
      "The best result: Quantiles: [0.1, 0.2, 0.3, 0.4, 0.5, 0.6, 0.7, 0.8, 0.9], Feature Combination: ('points_away', 'ewm_home_team_goals'), encoder: one_hot, F1 Score: 0.5122708355017405\n",
      "The best result: Quantiles: [0.1, 0.2, 0.3, 0.4, 0.5, 0.6, 0.7, 0.8, 0.9], Feature Combination: ('avg_away_rating_defence', 'avg_home_rating_defence', 'points_away', 'home_weighted_wins', 'ewm_away_team_goals', 'ewm_away_team_goals_conceded'), encoder: one_hot, F1 Score: 0.5203036300278563\n",
      "The best result: Quantiles: [0.15, 0.5, 0.85], Feature Combination: ('avg_home_rating_attack', 'avg_away_rating_attack', 'points_home', 'ewm_home_team_goals', 'ewm_away_team_goals', 'ewm_away_team_goals_conceded', 'ewm_possession_home'), encoder: one_hot, F1 Score: 0.5203077996403164\n",
      "The best result: Quantiles: [0.15, 0.5, 0.85], Feature Combination: ('avg_home_rating_attack', 'avg_away_rating_attack', 'avg_home_rating_defence', 'points_home', 'home_weighted_wins', 'away_weighted_wins', 'ewm_home_team_goals', 'ewm_away_team_goals_conceded'), encoder: one_hot, F1 Score: 0.5230374333734275\n",
      "The best result: Quantiles: [0.15, 0.5, 0.85], Feature Combination: ('avg_home_rating_attack', 'avg_away_rating_attack', 'avg_away_rating_defence', 'avg_home_rating_defence', 'points_home', 'home_weighted_wins', 'away_weighted_wins', 'ewm_home_team_goals', 'ewm_away_team_goals_conceded'), encoder: one_hot, F1 Score: 0.5322813298157089\n"
     ]
    }
   ],
   "source": [
    "import time\n",
    "\n",
    "# List of features to bin\n",
    "features = [\n",
    "    'avg_home_rating_attack', 'avg_away_rating_attack',\n",
    "    'avg_away_rating_defence', 'avg_home_rating_defence',\n",
    "    'points_home', 'points_away',\n",
    "    'home_weighted_wins', 'away_weighted_wins',\n",
    "    'ewm_home_team_goals', 'ewm_away_team_goals', 'ewm_away_team_goals_conceded', 'ewm_possession_home'\n",
    "]\n",
    "\n",
    "quantile_options = [\n",
    "    # [0.2, 0.4, 0.6, 0.8],\n",
    "    # [0.1, 0.3, 0.7, 0.9],\n",
    "    [0.1, 0.2, 0.3, 0.4, 0.5, 0.6, 0.7, 0.8, 0.9],\n",
    "    [0.15, 0.5, 0.85],\n",
    "    # [0.05, 0.95]\n",
    "]\n",
    "\n",
    "def evaluate_model(features, target, interaction_constraints):\n",
    "    # Splitting the data\n",
    "    X_train, X_val, y_train, y_val = train_test_split(features, target, test_size=0.2, random_state=42, stratify=target)\n",
    "    \n",
    "    encoders = {\n",
    "        'one_hot': ce.OneHotEncoder(cols=features.select_dtypes(include=['object', 'category']).columns, use_cat_names=True, drop_invariant=True, return_df=True),\n",
    "        'ordinal': ce.OrdinalEncoder(cols=features.select_dtypes(include=['object', 'category']).columns),\n",
    "        # 'binary': ce.BinaryEncoder(cols=features.select_dtypes(include=['object', 'category']).columns),\n",
    "        # 'target': ce.TargetEncoder(cols=features.select_dtypes(include=['object', 'category']).columns)\n",
    "    }\n",
    "\n",
    "    best_f1 = 0.0\n",
    "    best_encoder = None\n",
    "    best_encoder_name = \"\"\n",
    "\n",
    "    for encoder_name, encoder in encoders.items():\n",
    "        # Apply encoding\n",
    "        X_train_encoded = encoder.fit_transform(X_train, y_train)\n",
    "        X_val_encoded = encoder.transform(X_val)\n",
    "\n",
    "        # Initialize and fit the model\n",
    "        model = XGBClassifier(random_state=42, enable_categorical=True)\n",
    "        model.fit(X_train_encoded, y_train, eval_set=[(X_train_encoded, y_train), (X_val_encoded, y_val)], verbose=0, early_stopping_rounds=25)\n",
    "        \n",
    "        # Predict and evaluate\n",
    "        y_pred = model.predict(X_val_encoded)\n",
    "        f1 = f1_score(y_val, y_pred, average='weighted')\n",
    "\n",
    "        if f1 > best_f1:\n",
    "            best_f1 = f1\n",
    "            best_encoder = encoder\n",
    "            best_encoder_name = encoder_name\n",
    "            \n",
    "    # Return best F1 score and name of the best encoder\n",
    "    return best_f1, best_encoder_name\n",
    "\n",
    "best_df = None\n",
    "best_f1_in_iteration = 0.0\n",
    "best_interaction_constraints = []\n",
    "best_feature_combo = []\n",
    "best_quantiles = []\n",
    "\n",
    "# Experiment with different combinations of binned features for each quantile option\n",
    "for quantiles in quantile_options:\n",
    "    for r in range(1, len(features) + 1):\n",
    "        for feature_combo in combinations(features, r):\n",
    "            df_temp = X.copy()  # Create a temporary copy of the dataframe\n",
    "            for feature in feature_combo:\n",
    "                bins = [-float('inf')] + X[feature].quantile(quantiles).tolist() + [float('inf')]\n",
    "                labels = [f'Bin{i}' for i in range(1, len(bins))]  # Dynamic label creation based on the number of bins\n",
    "                # Apply binning to each feature in the combination\n",
    "                df_temp[f'{feature}_binned'] = apply_binning(df_temp, feature, bins, labels)\n",
    "                df_temp = df_temp.drop([feature], axis=1)\n",
    "\n",
    "            away_player_ratings = [col for index, col in enumerate(df_temp.columns) if col.startswith('player_rating_away_player_')]\n",
    "            team_performance_metrics = [col for index, col in enumerate(df_temp.columns) if col.startswith('ewm_') or col.startswith('points_') or col.startswith('home_weighted_wins') or col.startswith('away_weighted_wins')]\n",
    "            rating_range_avg_diff = [col for index, col in enumerate(df_temp.columns) if col in ['rating_range_home', 'rating_range_away', 'average_rating_diff']]\n",
    "            top_players = [col for index, col in enumerate(df_temp.columns) if col.startswith('num_top')]\n",
    "\n",
    "            interaction_constraints = [\n",
    "                away_player_ratings,\n",
    "                team_performance_metrics,\n",
    "                top_players,\n",
    "                rating_range_avg_diff,\n",
    "            ]\n",
    "            \n",
    "            f1_result, encoder = evaluate_model(df_temp, y, interaction_constraints)\n",
    "            \n",
    "            if f1_result > 0.51:\n",
    "                # print(f'Quantiles: {quantiles}, Feature Combination: {feature_combo}, F1 Score: {f1_result}')\n",
    "                if f1_result > best_f1_in_iteration:\n",
    "                    best_f1_in_iteration = f1_result\n",
    "                    print(f'The best result: Quantiles: {quantiles}, Feature Combination: {feature_combo}, encoder: {encoder}, F1 Score: {f1_result}')\n",
    "                    best_df = df_temp.copy()\n",
    "                    best_interaction_constraints = interaction_constraints\n",
    "                    best_feature_combo = feature_combo"
   ],
   "metadata": {
    "collapsed": false,
    "pycharm": {
     "name": "#%%\n"
    },
    "ExecuteTime": {
     "end_time": "2024-01-25T17:10:08.064482100Z",
     "start_time": "2024-01-25T15:49:00.574926300Z"
    }
   }
  },
  {
   "cell_type": "code",
   "execution_count": 5,
   "outputs": [],
   "source": [
    "# df_binned = best_df.copy()\n",
    "# \n",
    "# for feature in best_feature_combo:\n",
    "#     bins = [-float('inf')] + df_[fea\n",
    "#     ture].quantile([0.1, 0.2, 0.3, 0.4, 0.5, 0.6, 0.7, 0.8, 0.9]).tolist() + [float('inf')]\n",
    "#     labels = [f'Bin{i}' for i in range(1, len(bins))]\n",
    "#     df_binned[f'{feature}_binned'] = apply_binning(df_binned, feature, bins, labels)\n",
    "#     df_binned = df_binned.drop([feature], axis=1)"
   ],
   "metadata": {
    "collapsed": false,
    "pycharm": {
     "name": "#%%\n"
    },
    "ExecuteTime": {
     "end_time": "2024-01-25T17:21:17.529699200Z",
     "start_time": "2024-01-25T17:21:17.505211700Z"
    }
   }
  },
  {
   "cell_type": "code",
   "outputs": [
    {
     "data": {
      "text/plain": "(0.5322813298157089, 'one_hot')"
     },
     "execution_count": 6,
     "metadata": {},
     "output_type": "execute_result"
    }
   ],
   "source": [
    "evaluate_model(best_df, y, best_interaction_constraints)"
   ],
   "metadata": {
    "collapsed": false,
    "ExecuteTime": {
     "end_time": "2024-01-25T17:21:18.406924600Z",
     "start_time": "2024-01-25T17:21:17.866105700Z"
    }
   },
   "execution_count": 6
  },
  {
   "cell_type": "code",
   "outputs": [
    {
     "name": "stdout",
     "output_type": "stream",
     "text": [
      "<class 'pandas.core.frame.DataFrame'>\n",
      "RangeIndex: 3040 entries, 0 to 3039\n",
      "Data columns (total 9 columns):\n",
      " #   Column                               Non-Null Count  Dtype   \n",
      "---  ------                               --------------  -----   \n",
      " 0   avg_home_rating_attack_binned        3040 non-null   category\n",
      " 1   avg_away_rating_attack_binned        3040 non-null   category\n",
      " 2   avg_away_rating_defence_binned       3040 non-null   category\n",
      " 3   avg_home_rating_defence_binned       3040 non-null   category\n",
      " 4   points_home_binned                   3040 non-null   category\n",
      " 5   home_weighted_wins_binned            3040 non-null   category\n",
      " 6   away_weighted_wins_binned            3040 non-null   category\n",
      " 7   ewm_home_team_goals_binned           3024 non-null   category\n",
      " 8   ewm_away_team_goals_conceded_binned  3022 non-null   category\n",
      "dtypes: category(9)\n",
      "memory usage: 28.6 KB\n"
     ]
    }
   ],
   "source": [
    "best_df.filter(like='binned').info()"
   ],
   "metadata": {
    "collapsed": false,
    "ExecuteTime": {
     "end_time": "2024-01-25T17:21:18.423216100Z",
     "start_time": "2024-01-25T17:21:18.393579800Z"
    }
   },
   "execution_count": 7
  },
  {
   "cell_type": "code",
   "outputs": [],
   "source": [],
   "metadata": {
    "collapsed": false,
    "ExecuteTime": {
     "end_time": "2024-01-25T17:21:18.871884600Z",
     "start_time": "2024-01-25T17:21:18.850989300Z"
    }
   },
   "execution_count": 7
  },
  {
   "cell_type": "code",
   "execution_count": 8,
   "outputs": [],
   "source": [
    "import os\n",
    "import json\n",
    "\n",
    "output_dir = \"../../data/binned/\"\n",
    "\n",
    "if not os.path.exists(output_dir):\n",
    "    os.makedirs(output_dir)\n",
    "\n",
    "with open(output_dir + 'interaction_constraints.json', 'w') as file:\n",
    "    json.dump(best_interaction_constraints, file)\n",
    "\n",
    "best_df.to_csv(output_dir + 'df.csv', index=False)\n",
    "y.to_csv(output_dir + 'y.csv', index=False)"
   ],
   "metadata": {
    "collapsed": false,
    "pycharm": {
     "name": "#%%\n"
    },
    "ExecuteTime": {
     "end_time": "2024-01-25T17:21:19.178121300Z",
     "start_time": "2024-01-25T17:21:19.134437500Z"
    }
   }
  },
  {
   "cell_type": "code",
   "outputs": [
    {
     "name": "stdout",
     "output_type": "stream",
     "text": [
      "<class 'pandas.core.frame.DataFrame'>\n",
      "RangeIndex: 3040 entries, 0 to 3039\n",
      "Data columns (total 60 columns):\n",
      " #   Column                               Non-Null Count  Dtype   \n",
      "---  ------                               --------------  -----   \n",
      " 0   stage                                3040 non-null   int64   \n",
      " 1   player_rating_home_player_1          3040 non-null   int64   \n",
      " 2   player_rating_home_player_2          3040 non-null   int64   \n",
      " 3   player_rating_home_player_3          3040 non-null   int64   \n",
      " 4   player_rating_home_player_4          3040 non-null   int64   \n",
      " 5   player_rating_home_player_5          3040 non-null   int64   \n",
      " 6   player_rating_home_player_6          3040 non-null   int64   \n",
      " 7   player_rating_home_player_7          3040 non-null   int64   \n",
      " 8   player_rating_home_player_8          3040 non-null   int64   \n",
      " 9   player_rating_home_player_9          3040 non-null   int64   \n",
      " 10  player_rating_home_player_10         3040 non-null   int64   \n",
      " 11  player_rating_home_player_11         3040 non-null   int64   \n",
      " 12  player_rating_away_player_1          3040 non-null   int64   \n",
      " 13  player_rating_away_player_2          3040 non-null   int64   \n",
      " 14  player_rating_away_player_3          3040 non-null   int64   \n",
      " 15  player_rating_away_player_4          3040 non-null   int64   \n",
      " 16  player_rating_away_player_5          3040 non-null   int64   \n",
      " 17  player_rating_away_player_6          3040 non-null   int64   \n",
      " 18  player_rating_away_player_7          3040 non-null   int64   \n",
      " 19  player_rating_away_player_8          3040 non-null   int64   \n",
      " 20  player_rating_away_player_9          3040 non-null   int64   \n",
      " 21  player_rating_away_player_10         3040 non-null   int64   \n",
      " 22  player_rating_away_player_11         3040 non-null   int64   \n",
      " 23  ewm_away_team_goals                  3022 non-null   float64 \n",
      " 24  ewm_home_team_goals_conceded         3024 non-null   float64 \n",
      " 25  points_away                          3040 non-null   int64   \n",
      " 26  avg_home_team_rating                 3040 non-null   float64 \n",
      " 27  avg_away_team_rating                 3040 non-null   float64 \n",
      " 28  home_streak_wins                     3040 non-null   float64 \n",
      " 29  away_streak_wins                     3040 non-null   float64 \n",
      " 30  ewm_shoton_home                      3024 non-null   float64 \n",
      " 31  ewm_shoton_away                      3022 non-null   float64 \n",
      " 32  ewm_possession_home                  3024 non-null   float64 \n",
      " 33  ewm_possession_away                  3022 non-null   float64 \n",
      " 34  diff_player_1                        3040 non-null   int64   \n",
      " 35  diff_player_2                        3040 non-null   int64   \n",
      " 36  diff_player_3                        3040 non-null   int64   \n",
      " 37  diff_player_4                        3040 non-null   int64   \n",
      " 38  diff_player_5                        3040 non-null   int64   \n",
      " 39  diff_player_6                        3040 non-null   int64   \n",
      " 40  diff_player_7                        3040 non-null   int64   \n",
      " 41  diff_player_8                        3040 non-null   int64   \n",
      " 42  diff_player_9                        3040 non-null   int64   \n",
      " 43  diff_player_10                       3040 non-null   int64   \n",
      " 44  diff_player_11                       3040 non-null   int64   \n",
      " 45  rating_range_home                    3040 non-null   int64   \n",
      " 46  rating_range_away                    3040 non-null   int64   \n",
      " 47  average_rating_home                  3040 non-null   float64 \n",
      " 48  average_rating_away                  3040 non-null   float64 \n",
      " 49  num_top_players_home                 3040 non-null   int64   \n",
      " 50  num_top_players_away                 3040 non-null   int64   \n",
      " 51  avg_home_rating_attack_binned        3040 non-null   category\n",
      " 52  avg_away_rating_attack_binned        3040 non-null   category\n",
      " 53  avg_away_rating_defence_binned       3040 non-null   category\n",
      " 54  avg_home_rating_defence_binned       3040 non-null   category\n",
      " 55  points_home_binned                   3040 non-null   category\n",
      " 56  home_weighted_wins_binned            3040 non-null   category\n",
      " 57  away_weighted_wins_binned            3040 non-null   category\n",
      " 58  ewm_home_team_goals_binned           3024 non-null   category\n",
      " 59  ewm_away_team_goals_conceded_binned  3022 non-null   category\n",
      "dtypes: category(9), float64(12), int64(39)\n",
      "memory usage: 1.2 MB\n"
     ]
    }
   ],
   "source": [
    "best_df.info()"
   ],
   "metadata": {
    "collapsed": false,
    "ExecuteTime": {
     "end_time": "2024-01-25T17:21:19.823666200Z",
     "start_time": "2024-01-25T17:21:19.798955800Z"
    }
   },
   "execution_count": 9
  },
  {
   "cell_type": "code",
   "outputs": [
    {
     "data": {
      "text/plain": "[['player_rating_away_player_1',\n  'player_rating_away_player_2',\n  'player_rating_away_player_3',\n  'player_rating_away_player_4',\n  'player_rating_away_player_5',\n  'player_rating_away_player_6',\n  'player_rating_away_player_7',\n  'player_rating_away_player_8',\n  'player_rating_away_player_9',\n  'player_rating_away_player_10',\n  'player_rating_away_player_11'],\n ['ewm_away_team_goals',\n  'ewm_home_team_goals_conceded',\n  'points_away',\n  'ewm_shoton_home',\n  'ewm_shoton_away',\n  'ewm_possession_home',\n  'ewm_possession_away',\n  'points_home_binned',\n  'home_weighted_wins_binned',\n  'away_weighted_wins_binned',\n  'ewm_home_team_goals_binned',\n  'ewm_away_team_goals_conceded_binned'],\n ['num_top_players_home', 'num_top_players_away'],\n ['rating_range_home', 'rating_range_away']]"
     },
     "execution_count": 10,
     "metadata": {},
     "output_type": "execute_result"
    }
   ],
   "source": [
    "best_interaction_constraints"
   ],
   "metadata": {
    "collapsed": false,
    "ExecuteTime": {
     "end_time": "2024-01-25T17:21:20.262081400Z",
     "start_time": "2024-01-25T17:21:20.243518900Z"
    }
   },
   "execution_count": 10
  },
  {
   "cell_type": "code",
   "outputs": [],
   "source": [],
   "metadata": {
    "collapsed": false
   },
   "execution_count": null
  }
 ],
 "metadata": {
  "kernelspec": {
   "display_name": "Python 3",
   "language": "python",
   "name": "python3"
  },
  "language_info": {
   "codemirror_mode": {
    "name": "ipython",
    "version": 2
   },
   "file_extension": ".py",
   "mimetype": "text/x-python",
   "name": "python",
   "nbconvert_exporter": "python",
   "pygments_lexer": "ipython2",
   "version": "2.7.6"
  }
 },
 "nbformat": 4,
 "nbformat_minor": 0
}
